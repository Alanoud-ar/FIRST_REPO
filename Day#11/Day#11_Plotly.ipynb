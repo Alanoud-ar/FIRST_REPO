{
 "cells": [
  {
   "cell_type": "code",
   "execution_count": 1,
   "metadata": {},
   "outputs": [],
   "source": [
    "# To ignore warnings\n",
    "import warnings\n",
    "warnings.filterwarnings(\"ignore\")\n",
    "import pandas as pd\n",
    "import numpy as np\n",
    "%matplotlib inline\n",
    "# cufflinks is a python library that connects plotly with pandas so that we can create charts directly on data frames.\n",
    "import cufflinks as cf \n",
    "from plotly.offline import download_plotlyjs, init_notebook_mode, plot, iplot"
   ]
  },
  {
   "cell_type": "markdown",
   "metadata": {},
   "source": [
    "### you have to install the following libraries\n",
    "- pip install cufflinks\n",
    "- pip install plotly"
   ]
  },
  {
   "cell_type": "code",
   "execution_count": 2,
   "metadata": {},
   "outputs": [
    {
     "data": {
      "text/html": [
       "        <script type=\"text/javascript\">\n",
       "        window.PlotlyConfig = {MathJaxConfig: 'local'};\n",
       "        if (window.MathJax) {MathJax.Hub.Config({SVG: {font: \"STIX-Web\"}});}\n",
       "        if (typeof require !== 'undefined') {\n",
       "        require.undef(\"plotly\");\n",
       "        requirejs.config({\n",
       "            paths: {\n",
       "                'plotly': ['https://cdn.plot.ly/plotly-2.9.0.min']\n",
       "            }\n",
       "        });\n",
       "        require(['plotly'], function(Plotly) {\n",
       "            window._Plotly = Plotly;\n",
       "        });\n",
       "        }\n",
       "        </script>\n",
       "        "
      ]
     },
     "metadata": {},
     "output_type": "display_data"
    },
    {
     "data": {
      "text/html": [
       "        <script type=\"text/javascript\">\n",
       "        window.PlotlyConfig = {MathJaxConfig: 'local'};\n",
       "        if (window.MathJax) {MathJax.Hub.Config({SVG: {font: \"STIX-Web\"}});}\n",
       "        if (typeof require !== 'undefined') {\n",
       "        require.undef(\"plotly\");\n",
       "        requirejs.config({\n",
       "            paths: {\n",
       "                'plotly': ['https://cdn.plot.ly/plotly-2.9.0.min']\n",
       "            }\n",
       "        });\n",
       "        require(['plotly'], function(Plotly) {\n",
       "            window._Plotly = Plotly;\n",
       "        });\n",
       "        }\n",
       "        </script>\n",
       "        "
      ]
     },
     "metadata": {},
     "output_type": "display_data"
    }
   ],
   "source": [
    "# to connect python and pandas with interactive javascript library\n",
    "init_notebook_mode(connected=True)\n",
    "# For offline use\n",
    "cf.go_offline()"
   ]
  },
  {
   "cell_type": "markdown",
   "metadata": {},
   "source": [
    "### Fake Data"
   ]
  },
  {
   "cell_type": "code",
   "execution_count": 3,
   "metadata": {},
   "outputs": [
    {
     "data": {
      "text/html": [
       "<div>\n",
       "<style scoped>\n",
       "    .dataframe tbody tr th:only-of-type {\n",
       "        vertical-align: middle;\n",
       "    }\n",
       "\n",
       "    .dataframe tbody tr th {\n",
       "        vertical-align: top;\n",
       "    }\n",
       "\n",
       "    .dataframe thead th {\n",
       "        text-align: right;\n",
       "    }\n",
       "</style>\n",
       "<table border=\"1\" class=\"dataframe\">\n",
       "  <thead>\n",
       "    <tr style=\"text-align: right;\">\n",
       "      <th></th>\n",
       "      <th>A</th>\n",
       "      <th>B</th>\n",
       "      <th>C</th>\n",
       "      <th>D</th>\n",
       "    </tr>\n",
       "  </thead>\n",
       "  <tbody>\n",
       "    <tr>\n",
       "      <th>0</th>\n",
       "      <td>-0.721184</td>\n",
       "      <td>1.936318</td>\n",
       "      <td>1.485902</td>\n",
       "      <td>-1.424896</td>\n",
       "    </tr>\n",
       "    <tr>\n",
       "      <th>1</th>\n",
       "      <td>-1.460523</td>\n",
       "      <td>0.783691</td>\n",
       "      <td>-0.338826</td>\n",
       "      <td>-0.327342</td>\n",
       "    </tr>\n",
       "    <tr>\n",
       "      <th>2</th>\n",
       "      <td>2.154949</td>\n",
       "      <td>-1.191346</td>\n",
       "      <td>0.564341</td>\n",
       "      <td>-1.251243</td>\n",
       "    </tr>\n",
       "    <tr>\n",
       "      <th>3</th>\n",
       "      <td>-0.497612</td>\n",
       "      <td>-0.644128</td>\n",
       "      <td>1.261488</td>\n",
       "      <td>0.035719</td>\n",
       "    </tr>\n",
       "    <tr>\n",
       "      <th>4</th>\n",
       "      <td>0.452848</td>\n",
       "      <td>1.168790</td>\n",
       "      <td>1.677923</td>\n",
       "      <td>-0.883136</td>\n",
       "    </tr>\n",
       "  </tbody>\n",
       "</table>\n",
       "</div>"
      ],
      "text/plain": [
       "          A         B         C         D\n",
       "0 -0.721184  1.936318  1.485902 -1.424896\n",
       "1 -1.460523  0.783691 -0.338826 -0.327342\n",
       "2  2.154949 -1.191346  0.564341 -1.251243\n",
       "3 -0.497612 -0.644128  1.261488  0.035719\n",
       "4  0.452848  1.168790  1.677923 -0.883136"
      ]
     },
     "execution_count": 3,
     "metadata": {},
     "output_type": "execute_result"
    }
   ],
   "source": [
    "df = pd.DataFrame(np.random.randn(100,4), columns='A B C D'.split()) # 100*4 array\n",
    "df.head()"
   ]
  },
  {
   "cell_type": "code",
   "execution_count": 4,
   "metadata": {},
   "outputs": [
    {
     "data": {
      "image/png": "[encoded data removed]",
      "text/plain": [
       "<Figure size 432x288 with 1 Axes>"
      ]
     },
     "metadata": {
      "needs_background": "light"
     },
     "output_type": "display_data"
    }
   ],
   "source": [
    "df.plot();"
   ]
  },
  {
   "cell_type": "code",
   "execution_count": 5,
   "metadata": {},
   "outputs": [],
   "source": [
    "# you have to install the following library\n",
    "# pip install chart_studio\n",
    "import chart_studio.plotly as py"
   ]
  },
  {
   "cell_type": "code",
   "execution_count": 6,
   "metadata": {},
   "outputs": [
    {
     "data": {
      "application/vnd.plotly.v1+json": {
       "config": {
        "linkText": "Export to plot.ly",
        "plotlyServerURL": "https://plot.ly",
        "showLink": true
       },
       "data": [
        {
         "line": {
          "color": "rgba(255, 153, 51, 1.0)",
          "dash": "solid",
          "shape": "linear",
          "width": 1.3
         },
         "mode": "lines",
         "name": "A",
         "text": "",
         "type": "scatter",
         "x": [
          0,
          1,
          2,
          3,
          4,
          5,
          6,
          7,
          8,
          9,
          10,
          11,
          12,
          13,
          14,
          15,
          16,
          17,
          18,
          19,
          20,
          21,
          22,
          23,
          24,
          25,
          26,
          27,
          28,
          29,
          30,
          31,
          32,
          33,
          34,
          35,
          36,
          37,
          38,
          39,
          40,
          41,
          42,
          43,
          44,
          45,
          46,
          47,
          48,
          49,
          50,
          51,
          52,
          53,
          54,
          55,
          56,
          57,
          58,
          59,
          60,
          61,
          62,
          63,
          64,
          65,
          66,
          67,
          68,
          69,
          70,
          71,
          72,
          73,
          74,
          75,
          76,
          77,
          78,
          79,
          80,
          81,
          82,
          83,
          84,
          85,
          86,
          87,
          88,
          89,
          90,
          91,
          92,
          93,
          94,
          95,
          96,
          97,
          98,
          99
         ],
         "y": [
          -0.7211844881720889,
          -1.460522588285307,
          2.154948856212787,
          -0.49761196784253425,
          0.45284763019750024,
          -0.2146016535662887,
          0.6461779730757492,
          -0.11825227421614609,
          1.2915518225379228,
          0.18608916067102835,
          -1.4874697128735566,
          -2.674955108446302,
          0.9190575231032203,
          -2.5325371551100275,
          -1.6777824953054545,
          -0.5467026438923042,
          0.5889265073259935,
          0.5713454137445192,
          -0.7405110737545675,
          -0.3762010861641179,
          0.1489885436790522,
          0.5826629600411326,
          9.93956133860854e-05,
          1.3228779971160258,
          1.548816618475939,
          1.0493635334616715,
          -0.41796228792981016,
          0.17190353418274495,
          0.26603823982029823,
          1.7748592869778435,
          -0.7486339320839377,
          0.0800193740814564,
          0.024234150399956793,
          -1.2542478347818165,
          0.437098308644309,
          0.703962364809523,
          -1.456325016003159,
          -1.515331912201515,
          -1.6783903384875147,
          -0.4105728612305543,
          -1.609348939801891,
          0.20873382660773848,
          1.7185816695607006,
          1.515224936174814,
          1.0690785260274,
          -1.6264240979749063,
          -0.10391990265168422,
          -1.0109174745146479,
          -1.9146061901244,
          0.8887427941528846,
          1.1887629381499019,
          -2.628399663534101,
          1.4627541154619559,
          1.2193879796116494,
          0.03120731155045379,
          0.19112324160339209,
          -0.41263213724016684,
          1.2195646026171014,
          -0.9357186450127927,
          -0.7735198800180834,
          0.7193889197776803,
          0.6576833793061325,
          -1.056242381180936,
          0.09944112179190494,
          1.0607886466058087,
          1.7480384469434798,
          -0.2925634435299589,
          -2.259658886505214,
          -1.693429506937218,
          2.0564346631440666,
          -0.14075746225916153,
          1.1671358816250528,
          -0.5788602987660235,
          -0.0019086180276748474,
          -1.9031784355512493,
          0.6697468613769787,
          1.2899599026774455,
          1.0937370716707826,
          0.2270561295865113,
          -0.22835157535766273,
          -0.21301396382913657,
          0.2796610966082171,
          0.6150753211568992,
          -0.8829404665561942,
          -0.4656916952739058,
          -0.4252283999883795,
          0.4855630893895303,
          0.21391697236657217,
          -0.24628332366479058,
          0.1698428083437271,
          0.4165353423709389,
          1.0312345779753802,
          -0.3802955308874277,
          -0.24345550305773975,
          -1.6088187152500206,
          1.362642934270473,
          0.5659359812206953,
          -0.08982000068507776,
          0.13460869031949085,
          0.07277500218970358
         ]
        },
        {
         "line": {
          "color": "rgba(55, 128, 191, 1.0)",
          "dash": "solid",
          "shape": "linear",
          "width": 1.3
         },
         "mode": "lines",
         "name": "B",
         "text": "",
         "type": "scatter",
         "x": [
          0,
          1,
          2,
          3,
          4,
          5,
          6,
          7,
          8,
          9,
          10,
          11,
          12,
          13,
          14,
          15,
          16,
          17,
          18,
          19,
          20,
          21,
          22,
          23,
          24,
          25,
          26,
          27,
          28,
          29,
          30,
          31,
          32,
          33,
          34,
          35,
          36,
          37,
          38,
          39,
          40,
          41,
          42,
          43,
          44,
          45,
          46,
          47,
          48,
          49,
          50,
          51,
          52,
          53,
          54,
          55,
          56,
          57,
          58,
          59,
          60,
          61,
          62,
          63,
          64,
          65,
          66,
          67,
          68,
          69,
          70,
          71,
          72,
          73,
          74,
          75,
          76,
          77,
          78,
          79,
          80,
          81,
          82,
          83,
          84,
          85,
          86,
          87,
          88,
          89,
          90,
          91,
          92,
          93,
          94,
          95,
          96,
          97,
          98,
          99
         ],
         "y": [
          1.9363176963824915,
          0.783691095069216,
          -1.1913463628659005,
          -0.6441276887203147,
          1.1687904468466739,
          0.6323414704685131,
          -1.2191589935127074,
          -0.2143976718639855,
          -1.9448875532251129,
          -0.28376974222916534,
          1.5782128138754477,
          -1.8196443931299022,
          -0.6407499492278539,
          -0.4211817381995266,
          0.749816068741311,
          1.0357869223281948,
          1.4574441310839379,
          -0.3042344579582755,
          0.19723781050623027,
          -0.5624181531021479,
          -1.4068385344205947,
          -1.467133562334591,
          -0.5674350597043402,
          -2.129336044404162,
          1.1758806168946234,
          -0.16448995704076652,
          -0.9779043170437532,
          -0.34597066195963844,
          0.5646432182256792,
          1.3236523242202396,
          0.6072867513938234,
          -0.568385280381742,
          -1.1186532483940683,
          0.30430474772314803,
          -0.31653229378343317,
          0.10274254004759957,
          -0.4004143253747189,
          -0.5401696407335572,
          -1.7905406758414422,
          -0.3447153898348365,
          0.01640549905721995,
          1.329803844957976,
          -0.2838454848295598,
          -0.7149500718878599,
          2.131509449259118,
          -0.20594262819363468,
          -0.46095460604086497,
          1.3762460600580146,
          -0.5315216700601639,
          0.4330121353014572,
          -1.0421993308088067,
          -1.5558986585240033,
          -1.218392913837334,
          0.44444621727844846,
          -0.3033811422910685,
          -0.2348174161172821,
          0.6761559094978562,
          -0.1433003612459205,
          -0.5021565887281341,
          -0.5643974865846672,
          -0.32738588487886683,
          2.7095465578361577,
          0.18779561954741292,
          -0.179442053806397,
          0.16190622421114106,
          -0.10631574297220216,
          -0.9719562551176633,
          -0.8864656963735614,
          -1.0971579537801677,
          0.5703636600272055,
          0.017455999104761276,
          0.10764563017514592,
          0.6674390203404504,
          -1.5483790010746306,
          0.7855020724347893,
          1.0864443237398242,
          -0.09412775608332852,
          -0.7155961933081841,
          2.1220822162796087,
          0.6706361949388256,
          -0.5290544807432842,
          -2.2005054084000197,
          0.1576792060896083,
          0.09945177553841868,
          -1.8392810801254043,
          -0.9192852920587717,
          2.4718464231328774,
          0.2076321039179723,
          -0.8445272827194005,
          -0.8008434375387793,
          -0.007766019613267419,
          0.5090193899057244,
          -0.0030644485108717303,
          1.2109719752722654,
          -0.8042659230928949,
          0.0639503553332306,
          -0.19669717584049626,
          0.3109834776847498,
          0.27778199066943177,
          0.9202818228115818
         ]
        },
        {
         "line": {
          "color": "rgba(50, 171, 96, 1.0)",
          "dash": "solid",
          "shape": "linear",
          "width": 1.3
         },
         "mode": "lines",
         "name": "C",
         "text": "",
         "type": "scatter",
         "x": [
          0,
          1,
          2,
          3,
          4,
          5,
          6,
          7,
          8,
          9,
          10,
          11,
          12,
          13,
          14,
          15,
          16,
          17,
          18,
          19,
          20,
          21,
          22,
          23,
          24,
          25,
          26,
          27,
          28,
          29,
          30,
          31,
          32,
          33,
          34,
          35,
          36,
          37,
          38,
          39,
          40,
          41,
          42,
          43,
          44,
          45,
          46,
          47,
          48,
          49,
          50,
          51,
          52,
          53,
          54,
          55,
          56,
          57,
          58,
          59,
          60,
          61,
          62,
          63,
          64,
          65,
          66,
          67,
          68,
          69,
          70,
          71,
          72,
          73,
          74,
          75,
          76,
          77,
          78,
          79,
          80,
          81,
          82,
          83,
          84,
          85,
          86,
          87,
          88,
          89,
          90,
          91,
          92,
          93,
          94,
          95,
          96,
          97,
          98,
          99
         ],
         "y": [
          1.4859017289979828,
          -0.33882624051823435,
          0.5643405958898692,
          1.2614884985758812,
          1.6779225026293678,
          -1.5007675294668912,
          -0.3133709553042308,
          -0.24881116987413524,
          -0.8984296938782744,
          0.8517918517884915,
          0.7914783840592418,
          1.0118561818366778,
          -0.16940827506921166,
          0.48119272683245096,
          -0.5302480006131105,
          -0.12596380055710518,
          -0.914482692452627,
          0.2430324564669559,
          -0.6271456877220737,
          -0.039243873746583474,
          -0.624373521737248,
          -0.7011493076273844,
          0.34747903798741425,
          -0.703721067051155,
          0.8724572241803034,
          0.5465326745477941,
          -1.0166519623938672,
          -0.22250238064915695,
          0.7798878940201981,
          -0.47769775108492524,
          0.7515736123635777,
          -0.7065355298480203,
          0.5293249332023787,
          -1.1892173218761193,
          2.1194522888672753,
          -0.10986125717974393,
          0.8791148594632846,
          0.5460438641241416,
          -0.30489535972538856,
          0.22483542272608617,
          0.6888768183285222,
          -0.6729712777178668,
          -0.7300028071817591,
          0.2679722597855181,
          0.6035977345794945,
          1.180301839137286,
          -1.2760752780811426,
          0.9142491827677313,
          0.4425859047930506,
          1.154320087707713,
          -2.735241340135281,
          1.1364550696252336,
          0.3001807224411202,
          0.12550119080175973,
          -0.5560080144457152,
          -0.693293437527863,
          3.0194991712263026,
          -0.4262567543938785,
          0.5764953151360391,
          0.45139734451565655,
          -0.167279095942579,
          1.2692271053324897,
          -1.019028606681503,
          -0.6739974262146932,
          0.08992637211206918,
          0.7261097008800064,
          -0.17338081937656077,
          -0.7215243294097896,
          0.09804193397711113,
          -0.42254823205487335,
          -1.3675350240945991,
          0.8495984942986297,
          -2.331481960731101,
          -0.255456500873279,
          -1.0621376786949863,
          1.672461134218411,
          -0.27760778046229584,
          1.2612127949309468,
          -0.9445409907916669,
          -0.7510247839559636,
          0.3586429710448984,
          2.0143853340331566,
          1.0897052639120521,
          1.3917973240762471,
          1.0649228888781936,
          -1.1921019278896943,
          0.3584927758114282,
          -1.446003874283754,
          0.4617132803189797,
          0.022046213056134613,
          -1.0258203592039308,
          -1.7522236855261502,
          0.4623225073343496,
          -0.12079620716968513,
          -0.07238179439131184,
          -0.8239656021056064,
          1.5573934006047707,
          0.011873561422134572,
          0.1454108215874784,
          0.3194758145951463
         ]
        },
        {
         "line": {
          "color": "rgba(128, 0, 128, 1.0)",
          "dash": "solid",
          "shape": "linear",
          "width": 1.3
         },
         "mode": "lines",
         "name": "D",
         "text": "",
         "type": "scatter",
         "x": [
          0,
          1,
          2,
          3,
          4,
          5,
          6,
          7,
          8,
          9,
          10,
          11,
          12,
          13,
          14,
          15,
          16,
          17,
          18,
          19,
          20,
          21,
          22,
          23,
          24,
          25,
          26,
          27,
          28,
          29,
          30,
          31,
          32,
          33,
          34,
          35,
          36,
          37,
          38,
          39,
          40,
          41,
          42,
          43,
          44,
          45,
          46,
          47,
          48,
          49,
          50,
          51,
          52,
          53,
          54,
          55,
          56,
          57,
          58,
          59,
          60,
          61,
          62,
          63,
          64,
          65,
          66,
          67,
          68,
          69,
          70,
          71,
          72,
          73,
          74,
          75,
          76,
          77,
          78,
          79,
          80,
          81,
          82,
          83,
          84,
          85,
          86,
          87,
          88,
          89,
          90,
          91,
          92,
          93,
          94,
          95,
          96,
          97,
          98,
          99
         ],
         "y": [
          -1.4248961080733737,
          -0.3273423015501189,
          -1.251243272904655,
          0.03571868360370304,
          -0.8831359287118566,
          -0.4570458265199517,
          0.6669520968804289,
          0.12954797107100285,
          -1.1872784105353085,
          -1.0788534706921908,
          0.30414595111300274,
          -0.5808001420568194,
          0.7181559955419363,
          0.06431165990781074,
          0.4849600848179319,
          1.4650669998186705,
          0.3674900679512842,
          0.4659875208335856,
          1.8188709506352152,
          -2.4086829521242197,
          0.14269415469329055,
          -0.8986756621656249,
          0.24858640874522073,
          -0.6666710092100481,
          0.5312821075428688,
          0.6019372930953827,
          -0.8785566114030708,
          0.681347037704834,
          -0.5275682348277461,
          0.5224893317843847,
          -0.4632983081749662,
          0.11455424289896247,
          -0.5877204962503827,
          -0.2727428023361453,
          0.11871099006403349,
          -0.012220458087781596,
          -0.3418858101884144,
          -0.1701824065150667,
          0.19866144793597726,
          2.2346940769277372,
          0.2699534923198242,
          1.4952770521817178,
          1.9779450932749005,
          -0.1573965657928153,
          0.21480268763970578,
          -0.014537958815027823,
          0.9464220940372752,
          0.6011294964228965,
          -0.5791683004735586,
          -0.14674788751325316,
          0.742208864305391,
          0.5414212853423049,
          -0.9944259857720036,
          -0.2959846855161765,
          0.23580701543961627,
          -1.6600227313443063,
          -0.9233777628566187,
          -0.5238750058782555,
          -2.993809512427146,
          -0.8172655557837051,
          -0.29137604806023587,
          -0.2996317587288255,
          -0.5762542829528886,
          -1.4475470129302017,
          0.7626889846818631,
          -0.11586394220813491,
          0.7333320422309404,
          0.2631279090696038,
          0.15528968037263927,
          -0.4027569275919533,
          1.2364870960612364,
          1.1247560994972394,
          0.158400504315808,
          -0.8953734151597598,
          0.029924998471448666,
          1.0348887702004474,
          -0.08442864675348455,
          2.5868485824131993,
          1.117124451409192,
          -0.8021254788163592,
          1.3609419169157688,
          -0.9939500139315293,
          0.5130557561569394,
          -1.2397896504581485,
          -0.24837163218103428,
          -0.3698617259191884,
          -1.0388166503324645,
          0.9790966570987323,
          -0.11488459891479715,
          0.49015055617855424,
          -0.25275398163526946,
          1.1848213764718107,
          0.23659704857385866,
          -0.2719241288569037,
          1.325505481258998,
          -1.3312249257331565,
          1.2051807720165935,
          0.5847206558372181,
          0.06900031359470782,
          1.0132343277241416
         ]
        }
       ],
       "layout": {
        "legend": {
         "bgcolor": "#F5F6F9",
         "font": {
          "color": "#4D5663"
         }
        },
        "paper_bgcolor": "#F5F6F9",
        "plot_bgcolor": "#F5F6F9",
        "template": {
         "data": {
          "bar": [
           {
            "error_x": {
             "color": "#2a3f5f"
            },
            "error_y": {
             "color": "#2a3f5f"
            },
            "marker": {
             "line": {
              "color": "#E5ECF6",
              "width": 0.5
             },
             "pattern": {
              "fillmode": "overlay",
              "size": 10,
              "solidity": 0.2
             }
            },
            "type": "bar"
           }
          ],
          "barpolar": [
           {
            "marker": {
             "line": {
              "color": "#E5ECF6",
              "width": 0.5
             },
             "pattern": {
              "fillmode": "overlay",
              "size": 10,
              "solidity": 0.2
             }
            },
            "type": "barpolar"
           }
          ],
          "carpet": [
           {
            "aaxis": {
             "endlinecolor": "#2a3f5f",
             "gridcolor": "white",
             "linecolor": "white",
             "minorgridcolor": "white",
             "startlinecolor": "#2a3f5f"
            },
            "baxis": {
             "endlinecolor": "#2a3f5f",
             "gridcolor": "white",
             "linecolor": "white",
             "minorgridcolor": "white",
             "startlinecolor": "#2a3f5f"
            },
            "type": "carpet"
           }
          ],
          "choropleth": [
           {
            "colorbar": {
             "outlinewidth": 0,
             "ticks": ""
            },
            "type": "choropleth"
           }
          ],
          "contour": [
           {
            "colorbar": {
             "outlinewidth": 0,
             "ticks": ""
            },
            "colorscale": [
             [
              0,
              "#0d0887"
             ],
             [
              0.1111111111111111,
              "#46039f"
             ],
             [
              0.2222222222222222,
              "#7201a8"
             ],
             [
              0.3333333333333333,
              "#9c179e"
             ],
             [
              0.4444444444444444,
              "#bd3786"
             ],
             [
              0.5555555555555556,
              "#d8576b"
             ],
             [
              0.6666666666666666,
              "#ed7953"
             ],
             [
              0.7777777777777778,
              "#fb9f3a"
             ],
             [
              0.8888888888888888,
              "#fdca26"
             ],
             [
              1,
              "#f0f921"
             ]
            ],
            "type": "contour"
           }
          ],
          "contourcarpet": [
           {
            "colorbar": {
             "outlinewidth": 0,
             "ticks": ""
            },
            "type": "contourcarpet"
           }
          ],
          "heatmap": [
           {
            "colorbar": {
             "outlinewidth": 0,
             "ticks": ""
            },
            "colorscale": [
             [
              0,
              "#0d0887"
             ],
             [
              0.1111111111111111,
              "#46039f"
             ],
             [
              0.2222222222222222,
              "#7201a8"
             ],
             [
              0.3333333333333333,
              "#9c179e"
             ],
             [
              0.4444444444444444,
              "#bd3786"
             ],
             [
              0.5555555555555556,
              "#d8576b"
             ],
             [
              0.6666666666666666,
              "#ed7953"
             ],
             [
              0.7777777777777778,
              "#fb9f3a"
             ],
             [
              0.8888888888888888,
              "#fdca26"
             ],
             [
              1,
              "#f0f921"
             ]
            ],
            "type": "heatmap"
           }
          ],
          "heatmapgl": [
           {
            "colorbar": {
             "outlinewidth": 0,
             "ticks": ""
            },
            "colorscale": [
             [
              0,
              "#0d0887"
             ],
             [
              0.1111111111111111,
              "#46039f"
             ],
             [
              0.2222222222222222,
              "#7201a8"
             ],
             [
              0.3333333333333333,
              "#9c179e"
             ],
             [
              0.4444444444444444,
              "#bd3786"
             ],
             [
              0.5555555555555556,
              "#d8576b"
             ],
             [
              0.6666666666666666,
              "#ed7953"
             ],
             [
              0.7777777777777778,
              "#fb9f3a"
             ],
             [
              0.8888888888888888,
              "#fdca26"
             ],
             [
              1,
              "#f0f921"
             ]
            ],
            "type": "heatmapgl"
           }
          ],
          "histogram": [
           {
            "marker": {
             "pattern": {
              "fillmode": "overlay",
              "size": 10,
              "solidity": 0.2
             }
            },
            "type": "histogram"
           }
          ],
          "histogram2d": [
           {
            "colorbar": {
             "outlinewidth": 0,
             "ticks": ""
            },
            "colorscale": [
             [
              0,
              "#0d0887"
             ],
             [
              0.1111111111111111,
              "#46039f"
             ],
             [
              0.2222222222222222,
              "#7201a8"
             ],
             [
              0.3333333333333333,
              "#9c179e"
             ],
             [
              0.4444444444444444,
              "#bd3786"
             ],
             [
              0.5555555555555556,
              "#d8576b"
             ],
             [
              0.6666666666666666,
              "#ed7953"
             ],
             [
              0.7777777777777778,
              "#fb9f3a"
             ],
             [
              0.8888888888888888,
              "#fdca26"
             ],
             [
              1,
              "#f0f921"
             ]
            ],
            "type": "histogram2d"
           }
          ],
          "histogram2dcontour": [
           {
            "colorbar": {
             "outlinewidth": 0,
             "ticks": ""
            },
            "colorscale": [
             [
              0,
              "#0d0887"
             ],
             [
              0.1111111111111111,
              "#46039f"
             ],
             [
              0.2222222222222222,
              "#7201a8"
             ],
             [
              0.3333333333333333,
              "#9c179e"
             ],
             [
              0.4444444444444444,
              "#bd3786"
             ],
             [
              0.5555555555555556,
              "#d8576b"
             ],
             [
              0.6666666666666666,
              "#ed7953"
             ],
             [
              0.7777777777777778,
              "#fb9f3a"
             ],
             [
              0.8888888888888888,
              "#fdca26"
             ],
             [
              1,
              "#f0f921"
             ]
            ],
            "type": "histogram2dcontour"
           }
          ],
          "mesh3d": [
           {
            "colorbar": {
             "outlinewidth": 0,
             "ticks": ""
            },
            "type": "mesh3d"
           }
          ],
          "parcoords": [
           {
            "line": {
             "colorbar": {
              "outlinewidth": 0,
              "ticks": ""
             }
            },
            "type": "parcoords"
           }
          ],
          "pie": [
           {
            "automargin": true,
            "type": "pie"
           }
          ],
          "scatter": [
           {
            "marker": {
             "colorbar": {
              "outlinewidth": 0,
              "ticks": ""
             }
            },
            "type": "scatter"
           }
          ],
          "scatter3d": [
           {
            "line": {
             "colorbar": {
              "outlinewidth": 0,
              "ticks": ""
             }
            },
            "marker": {
             "colorbar": {
              "outlinewidth": 0,
              "ticks": ""
             }
            },
            "type": "scatter3d"
           }
          ],
          "scattercarpet": [
           {
            "marker": {
             "colorbar": {
              "outlinewidth": 0,
              "ticks": ""
             }
            },
            "type": "scattercarpet"
           }
          ],
          "scattergeo": [
           {
            "marker": {
             "colorbar": {
              "outlinewidth": 0,
              "ticks": ""
             }
            },
            "type": "scattergeo"
           }
          ],
          "scattergl": [
           {
            "marker": {
             "colorbar": {
              "outlinewidth": 0,
              "ticks": ""
             }
            },
            "type": "scattergl"
           }
          ],
          "scattermapbox": [
           {
            "marker": {
             "colorbar": {
              "outlinewidth": 0,
              "ticks": ""
             }
            },
            "type": "scattermapbox"
           }
          ],
          "scatterpolar": [
           {
            "marker": {
             "colorbar": {
              "outlinewidth": 0,
              "ticks": ""
             }
            },
            "type": "scatterpolar"
           }
          ],
          "scatterpolargl": [
           {
            "marker": {
             "colorbar": {
              "outlinewidth": 0,
              "ticks": ""
             }
            },
            "type": "scatterpolargl"
           }
          ],
          "scatterternary": [
           {
            "marker": {
             "colorbar": {
              "outlinewidth": 0,
              "ticks": ""
             }
            },
            "type": "scatterternary"
           }
          ],
          "surface": [
           {
            "colorbar": {
             "outlinewidth": 0,
             "ticks": ""
            },
            "colorscale": [
             [
              0,
              "#0d0887"
             ],
             [
              0.1111111111111111,
              "#46039f"
             ],
             [
              0.2222222222222222,
              "#7201a8"
             ],
             [
              0.3333333333333333,
              "#9c179e"
             ],
             [
              0.4444444444444444,
              "#bd3786"
             ],
             [
              0.5555555555555556,
              "#d8576b"
             ],
             [
              0.6666666666666666,
              "#ed7953"
             ],
             [
              0.7777777777777778,
              "#fb9f3a"
             ],
             [
              0.8888888888888888,
              "#fdca26"
             ],
             [
              1,
              "#f0f921"
             ]
            ],
            "type": "surface"
           }
          ],
          "table": [
           {
            "cells": {
             "fill": {
              "color": "#EBF0F8"
             },
             "line": {
              "color": "white"
             }
            },
            "header": {
             "fill": {
              "color": "#C8D4E3"
             },
             "line": {
              "color": "white"
             }
            },
            "type": "table"
           }
          ]
         },
         "layout": {
          "annotationdefaults": {
           "arrowcolor": "#2a3f5f",
           "arrowhead": 0,
           "arrowwidth": 1
          },
          "autotypenumbers": "strict",
          "coloraxis": {
           "colorbar": {
            "outlinewidth": 0,
            "ticks": ""
           }
          },
          "colorscale": {
           "diverging": [
            [
             0,
             "#8e0152"
            ],
            [
             0.1,
             "#c51b7d"
            ],
            [
             0.2,
             "#de77ae"
            ],
            [
             0.3,
             "#f1b6da"
            ],
            [
             0.4,
             "#fde0ef"
            ],
            [
             0.5,
             "#f7f7f7"
            ],
            [
             0.6,
             "#e6f5d0"
            ],
            [
             0.7,
             "#b8e186"
            ],
            [
             0.8,
             "#7fbc41"
            ],
            [
             0.9,
             "#4d9221"
            ],
            [
             1,
             "#276419"
            ]
           ],
           "sequential": [
            [
             0,
             "#0d0887"
            ],
            [
             0.1111111111111111,
             "#46039f"
            ],
            [
             0.2222222222222222,
             "#7201a8"
            ],
            [
             0.3333333333333333,
             "#9c179e"
            ],
            [
             0.4444444444444444,
             "#bd3786"
            ],
            [
             0.5555555555555556,
             "#d8576b"
            ],
            [
             0.6666666666666666,
             "#ed7953"
            ],
            [
             0.7777777777777778,
             "#fb9f3a"
            ],
            [
             0.8888888888888888,
             "#fdca26"
            ],
            [
             1,
             "#f0f921"
            ]
           ],
           "sequentialminus": [
            [
             0,
             "#0d0887"
            ],
            [
             0.1111111111111111,
             "#46039f"
            ],
            [
             0.2222222222222222,
             "#7201a8"
            ],
            [
             0.3333333333333333,
             "#9c179e"
            ],
            [
             0.4444444444444444,
             "#bd3786"
            ],
            [
             0.5555555555555556,
             "#d8576b"
            ],
            [
             0.6666666666666666,
             "#ed7953"
            ],
            [
             0.7777777777777778,
             "#fb9f3a"
            ],
            [
             0.8888888888888888,
             "#fdca26"
            ],
            [
             1,
             "#f0f921"
            ]
           ]
          },
          "colorway": [
           "#636efa",
           "#EF553B",
           "#00cc96",
           "#ab63fa",
           "#FFA15A",
           "#19d3f3",
           "#FF6692",
           "#B6E880",
           "#FF97FF",
           "#FECB52"
          ],
          "font": {
           "color": "#2a3f5f"
          },
          "geo": {
           "bgcolor": "white",
           "lakecolor": "white",
           "landcolor": "#E5ECF6",
           "showlakes": true,
           "showland": true,
           "subunitcolor": "white"
          },
          "hoverlabel": {
           "align": "left"
          },
          "hovermode": "closest",
          "mapbox": {
           "style": "light"
          },
          "paper_bgcolor": "white",
          "plot_bgcolor": "#E5ECF6",
          "polar": {
           "angularaxis": {
            "gridcolor": "white",
            "linecolor": "white",
            "ticks": ""
           },
           "bgcolor": "#E5ECF6",
           "radialaxis": {
            "gridcolor": "white",
            "linecolor": "white",
            "ticks": ""
           }
          },
          "scene": {
           "xaxis": {
            "backgroundcolor": "#E5ECF6",
            "gridcolor": "white",
            "gridwidth": 2,
            "linecolor": "white",
            "showbackground": true,
            "ticks": "",
            "zerolinecolor": "white"
           },
           "yaxis": {
            "backgroundcolor": "#E5ECF6",
            "gridcolor": "white",
            "gridwidth": 2,
            "linecolor": "white",
            "showbackground": true,
            "ticks": "",
            "zerolinecolor": "white"
           },
           "zaxis": {
            "backgroundcolor": "#E5ECF6",
            "gridcolor": "white",
            "gridwidth": 2,
            "linecolor": "white",
            "showbackground": true,
            "ticks": "",
            "zerolinecolor": "white"
           }
          },
          "shapedefaults": {
           "line": {
            "color": "#2a3f5f"
           }
          },
          "ternary": {
           "aaxis": {
            "gridcolor": "white",
            "linecolor": "white",
            "ticks": ""
           },
           "baxis": {
            "gridcolor": "white",
            "linecolor": "white",
            "ticks": ""
           },
           "bgcolor": "#E5ECF6",
           "caxis": {
            "gridcolor": "white",
            "linecolor": "white",
            "ticks": ""
           }
          },
          "title": {
           "x": 0.05
          },
          "xaxis": {
           "automargin": true,
           "gridcolor": "white",
           "linecolor": "white",
           "ticks": "",
           "title": {
            "standoff": 15
           },
           "zerolinecolor": "white",
           "zerolinewidth": 2
          },
          "yaxis": {
           "automargin": true,
           "gridcolor": "white",
           "linecolor": "white",
           "ticks": "",
           "title": {
            "standoff": 15
           },
           "zerolinecolor": "white",
           "zerolinewidth": 2
          }
         }
        },
        "title": {
         "font": {
          "color": "#4D5663"
         }
        },
        "xaxis": {
         "gridcolor": "#E1E5ED",
         "showgrid": true,
         "tickfont": {
          "color": "#4D5663"
         },
         "title": {
          "font": {
           "color": "#4D5663"
          },
          "text": ""
         },
         "zerolinecolor": "#E1E5ED"
        },
        "yaxis": {
         "gridcolor": "#E1E5ED",
         "showgrid": true,
         "tickfont": {
          "color": "#4D5663"
         },
         "title": {
          "font": {
           "color": "#4D5663"
          },
          "text": ""
         },
         "zerolinecolor": "#E1E5ED"
        }
       }
      },
      "text/html": [
       "<div>                            <div id=\"f7cbd1dc-dc8c-4d60-8a72-cd50bbe11abf\" class=\"plotly-graph-div\" style=\"height:525px; width:100%;\"></div>            <script type=\"text/javascript\">                require([\"plotly\"], function(Plotly) {                    window.PLOTLYENV=window.PLOTLYENV || {};\n",
       "                    window.PLOTLYENV.BASE_URL='https://plot.ly';                                    if (document.getElementById(\"f7cbd1dc-dc8c-4d60-8a72-cd50bbe11abf\")) {                    Plotly.newPlot(                        \"f7cbd1dc-dc8c-4d60-8a72-cd50bbe11abf\",                        [{\"line\":{\"color\":\"rgba(255, 153, 51, 1.0)\",\"dash\":\"solid\",\"shape\":\"linear\",\"width\":1.3},\"mode\":\"lines\",\"name\":\"A\",\"text\":\"\",\"x\":[0,1,2,3,4,5,6,7,8,9,10,11,12,13,14,15,16,17,18,19,20,21,22,23,24,25,26,27,28,29,30,31,32,33,34,35,36,37,38,39,40,41,42,43,44,45,46,47,48,49,50,51,52,53,54,55,56,57,58,59,60,61,62,63,64,65,66,67,68,69,70,71,72,73,74,75,76,77,78,79,80,81,82,83,84,85,86,87,88,89,90,91,92,93,94,95,96,97,98,99],\"y\":[-0.7211844881720889,-1.460522588285307,2.154948856212787,-0.49761196784253425,0.45284763019750024,-0.2146016535662887,0.6461779730757492,-0.11825227421614609,1.2915518225379228,0.18608916067102835,-1.4874697128735566,-2.674955108446302,0.9190575231032203,-2.5325371551100275,-1.6777824953054545,-0.5467026438923042,0.5889265073259935,0.5713454137445192,-0.7405110737545675,-0.3762010861641179,0.1489885436790522,0.5826629600411326,9.93956133860854e-05,1.3228779971160258,1.548816618475939,1.0493635334616715,-0.41796228792981016,0.17190353418274495,0.26603823982029823,1.7748592869778435,-0.7486339320839377,0.0800193740814564,0.024234150399956793,-1.2542478347818165,0.437098308644309,0.703962364809523,-1.456325016003159,-1.515331912201515,-1.6783903384875147,-0.4105728612305543,-1.609348939801891,0.20873382660773848,1.7185816695607006,1.515224936174814,1.0690785260274,-1.6264240979749063,-0.10391990265168422,-1.0109174745146479,-1.9146061901244,0.8887427941528846,1.1887629381499019,-2.628399663534101,1.4627541154619559,1.2193879796116494,0.03120731155045379,0.19112324160339209,-0.41263213724016684,1.2195646026171014,-0.9357186450127927,-0.7735198800180834,0.7193889197776803,0.6576833793061325,-1.056242381180936,0.09944112179190494,1.0607886466058087,1.7480384469434798,-0.2925634435299589,-2.259658886505214,-1.693429506937218,2.0564346631440666,-0.14075746225916153,1.1671358816250528,-0.5788602987660235,-0.0019086180276748474,-1.9031784355512493,0.6697468613769787,1.2899599026774455,1.0937370716707826,0.2270561295865113,-0.22835157535766273,-0.21301396382913657,0.2796610966082171,0.6150753211568992,-0.8829404665561942,-0.4656916952739058,-0.4252283999883795,0.4855630893895303,0.21391697236657217,-0.24628332366479058,0.1698428083437271,0.4165353423709389,1.0312345779753802,-0.3802955308874277,-0.24345550305773975,-1.6088187152500206,1.362642934270473,0.5659359812206953,-0.08982000068507776,0.13460869031949085,0.07277500218970358],\"type\":\"scatter\"},{\"line\":{\"color\":\"rgba(55, 128, 191, 1.0)\",\"dash\":\"solid\",\"shape\":\"linear\",\"width\":1.3},\"mode\":\"lines\",\"name\":\"B\",\"text\":\"\",\"x\":[0,1,2,3,4,5,6,7,8,9,10,11,12,13,14,15,16,17,18,19,20,21,22,23,24,25,26,27,28,29,30,31,32,33,34,35,36,37,38,39,40,41,42,43,44,45,46,47,48,49,50,51,52,53,54,55,56,57,58,59,60,61,62,63,64,65,66,67,68,69,70,71,72,73,74,75,76,77,78,79,80,81,82,83,84,85,86,87,88,89,90,91,92,93,94,95,96,97,98,99],\"y\":[1.9363176963824915,0.783691095069216,-1.1913463628659005,-0.6441276887203147,1.1687904468466739,0.6323414704685131,-1.2191589935127074,-0.2143976718639855,-1.9448875532251129,-0.28376974222916534,1.5782128138754477,-1.8196443931299022,-0.6407499492278539,-0.4211817381995266,0.749816068741311,1.0357869223281948,1.4574441310839379,-0.3042344579582755,0.19723781050623027,-0.5624181531021479,-1.4068385344205947,-1.467133562334591,-0.5674350597043402,-2.129336044404162,1.1758806168946234,-0.16448995704076652,-0.9779043170437532,-0.34597066195963844,0.5646432182256792,1.3236523242202396,0.6072867513938234,-0.568385280381742,-1.1186532483940683,0.30430474772314803,-0.31653229378343317,0.10274254004759957,-0.4004143253747189,-0.5401696407335572,-1.7905406758414422,-0.3447153898348365,0.01640549905721995,1.329803844957976,-0.2838454848295598,-0.7149500718878599,2.131509449259118,-0.20594262819363468,-0.46095460604086497,1.3762460600580146,-0.5315216700601639,0.4330121353014572,-1.0421993308088067,-1.5558986585240033,-1.218392913837334,0.44444621727844846,-0.3033811422910685,-0.2348174161172821,0.6761559094978562,-0.1433003612459205,-0.5021565887281341,-0.5643974865846672,-0.32738588487886683,2.7095465578361577,0.18779561954741292,-0.179442053806397,0.16190622421114106,-0.10631574297220216,-0.9719562551176633,-0.8864656963735614,-1.0971579537801677,0.5703636600272055,0.017455999104761276,0.10764563017514592,0.6674390203404504,-1.5483790010746306,0.7855020724347893,1.0864443237398242,-0.09412775608332852,-0.7155961933081841,2.1220822162796087,0.6706361949388256,-0.5290544807432842,-2.2005054084000197,0.1576792060896083,0.09945177553841868,-1.8392810801254043,-0.9192852920587717,2.4718464231328774,0.2076321039179723,-0.8445272827194005,-0.8008434375387793,-0.007766019613267419,0.5090193899057244,-0.0030644485108717303,1.2109719752722654,-0.8042659230928949,0.0639503553332306,-0.19669717584049626,0.3109834776847498,0.27778199066943177,0.9202818228115818],\"type\":\"scatter\"},{\"line\":{\"color\":\"rgba(50, 171, 96, 1.0)\",\"dash\":\"solid\",\"shape\":\"linear\",\"width\":1.3},\"mode\":\"lines\",\"name\":\"C\",\"text\":\"\",\"x\":[0,1,2,3,4,5,6,7,8,9,10,11,12,13,14,15,16,17,18,19,20,21,22,23,24,25,26,27,28,29,30,31,32,33,34,35,36,37,38,39,40,41,42,43,44,45,46,47,48,49,50,51,52,53,54,55,56,57,58,59,60,61,62,63,64,65,66,67,68,69,70,71,72,73,74,75,76,77,78,79,80,81,82,83,84,85,86,87,88,89,90,91,92,93,94,95,96,97,98,99],\"y\":[1.4859017289979828,-0.33882624051823435,0.5643405958898692,1.2614884985758812,1.6779225026293678,-1.5007675294668912,-0.3133709553042308,-0.24881116987413524,-0.8984296938782744,0.8517918517884915,0.7914783840592418,1.0118561818366778,-0.16940827506921166,0.48119272683245096,-0.5302480006131105,-0.12596380055710518,-0.914482692452627,0.2430324564669559,-0.6271456877220737,-0.039243873746583474,-0.624373521737248,-0.7011493076273844,0.34747903798741425,-0.703721067051155,0.8724572241803034,0.5465326745477941,-1.0166519623938672,-0.22250238064915695,0.7798878940201981,-0.47769775108492524,0.7515736123635777,-0.7065355298480203,0.5293249332023787,-1.1892173218761193,2.1194522888672753,-0.10986125717974393,0.8791148594632846,0.5460438641241416,-0.30489535972538856,0.22483542272608617,0.6888768183285222,-0.6729712777178668,-0.7300028071817591,0.2679722597855181,0.6035977345794945,1.180301839137286,-1.2760752780811426,0.9142491827677313,0.4425859047930506,1.154320087707713,-2.735241340135281,1.1364550696252336,0.3001807224411202,0.12550119080175973,-0.5560080144457152,-0.693293437527863,3.0194991712263026,-0.4262567543938785,0.5764953151360391,0.45139734451565655,-0.167279095942579,1.2692271053324897,-1.019028606681503,-0.6739974262146932,0.08992637211206918,0.7261097008800064,-0.17338081937656077,-0.7215243294097896,0.09804193397711113,-0.42254823205487335,-1.3675350240945991,0.8495984942986297,-2.331481960731101,-0.255456500873279,-1.0621376786949863,1.672461134218411,-0.27760778046229584,1.2612127949309468,-0.9445409907916669,-0.7510247839559636,0.3586429710448984,2.0143853340331566,1.0897052639120521,1.3917973240762471,1.0649228888781936,-1.1921019278896943,0.3584927758114282,-1.446003874283754,0.4617132803189797,0.022046213056134613,-1.0258203592039308,-1.7522236855261502,0.4623225073343496,-0.12079620716968513,-0.07238179439131184,-0.8239656021056064,1.5573934006047707,0.011873561422134572,0.1454108215874784,0.3194758145951463],\"type\":\"scatter\"},{\"line\":{\"color\":\"rgba(128, 0, 128, 1.0)\",\"dash\":\"solid\",\"shape\":\"linear\",\"width\":1.3},\"mode\":\"lines\",\"name\":\"D\",\"text\":\"\",\"x\":[0,1,2,3,4,5,6,7,8,9,10,11,12,13,14,15,16,17,18,19,20,21,22,23,24,25,26,27,28,29,30,31,32,33,34,35,36,37,38,39,40,41,42,43,44,45,46,47,48,49,50,51,52,53,54,55,56,57,58,59,60,61,62,63,64,65,66,67,68,69,70,71,72,73,74,75,76,77,78,79,80,81,82,83,84,85,86,87,88,89,90,91,92,93,94,95,96,97,98,99],\"y\":[-1.4248961080733737,-0.3273423015501189,-1.251243272904655,0.03571868360370304,-0.8831359287118566,-0.4570458265199517,0.6669520968804289,0.12954797107100285,-1.1872784105353085,-1.0788534706921908,0.30414595111300274,-0.5808001420568194,0.7181559955419363,0.06431165990781074,0.4849600848179319,1.4650669998186705,0.3674900679512842,0.4659875208335856,1.8188709506352152,-2.4086829521242197,0.14269415469329055,-0.8986756621656249,0.24858640874522073,-0.6666710092100481,0.5312821075428688,0.6019372930953827,-0.8785566114030708,0.681347037704834,-0.5275682348277461,0.5224893317843847,-0.4632983081749662,0.11455424289896247,-0.5877204962503827,-0.2727428023361453,0.11871099006403349,-0.012220458087781596,-0.3418858101884144,-0.1701824065150667,0.19866144793597726,2.2346940769277372,0.2699534923198242,1.4952770521817178,1.9779450932749005,-0.1573965657928153,0.21480268763970578,-0.014537958815027823,0.9464220940372752,0.6011294964228965,-0.5791683004735586,-0.14674788751325316,0.742208864305391,0.5414212853423049,-0.9944259857720036,-0.2959846855161765,0.23580701543961627,-1.6600227313443063,-0.9233777628566187,-0.5238750058782555,-2.993809512427146,-0.8172655557837051,-0.29137604806023587,-0.2996317587288255,-0.5762542829528886,-1.4475470129302017,0.7626889846818631,-0.11586394220813491,0.7333320422309404,0.2631279090696038,0.15528968037263927,-0.4027569275919533,1.2364870960612364,1.1247560994972394,0.158400504315808,-0.8953734151597598,0.029924998471448666,1.0348887702004474,-0.08442864675348455,2.5868485824131993,1.117124451409192,-0.8021254788163592,1.3609419169157688,-0.9939500139315293,0.5130557561569394,-1.2397896504581485,-0.24837163218103428,-0.3698617259191884,-1.0388166503324645,0.9790966570987323,-0.11488459891479715,0.49015055617855424,-0.25275398163526946,1.1848213764718107,0.23659704857385866,-0.2719241288569037,1.325505481258998,-1.3312249257331565,1.2051807720165935,0.5847206558372181,0.06900031359470782,1.0132343277241416],\"type\":\"scatter\"}],                        {\"legend\":{\"bgcolor\":\"#F5F6F9\",\"font\":{\"color\":\"#4D5663\"}},\"paper_bgcolor\":\"#F5F6F9\",\"plot_bgcolor\":\"#F5F6F9\",\"template\":{\"data\":{\"barpolar\":[{\"marker\":{\"line\":{\"color\":\"#E5ECF6\",\"width\":0.5},\"pattern\":{\"fillmode\":\"overlay\",\"size\":10,\"solidity\":0.2}},\"type\":\"barpolar\"}],\"bar\":[{\"error_x\":{\"color\":\"#2a3f5f\"},\"error_y\":{\"color\":\"#2a3f5f\"},\"marker\":{\"line\":{\"color\":\"#E5ECF6\",\"width\":0.5},\"pattern\":{\"fillmode\":\"overlay\",\"size\":10,\"solidity\":0.2}},\"type\":\"bar\"}],\"carpet\":[{\"aaxis\":{\"endlinecolor\":\"#2a3f5f\",\"gridcolor\":\"white\",\"linecolor\":\"white\",\"minorgridcolor\":\"white\",\"startlinecolor\":\"#2a3f5f\"},\"baxis\":{\"endlinecolor\":\"#2a3f5f\",\"gridcolor\":\"white\",\"linecolor\":\"white\",\"minorgridcolor\":\"white\",\"startlinecolor\":\"#2a3f5f\"},\"type\":\"carpet\"}],\"choropleth\":[{\"colorbar\":{\"outlinewidth\":0,\"ticks\":\"\"},\"type\":\"choropleth\"}],\"contourcarpet\":[{\"colorbar\":{\"outlinewidth\":0,\"ticks\":\"\"},\"type\":\"contourcarpet\"}],\"contour\":[{\"colorbar\":{\"outlinewidth\":0,\"ticks\":\"\"},\"colorscale\":[[0.0,\"#0d0887\"],[0.1111111111111111,\"#46039f\"],[0.2222222222222222,\"#7201a8\"],[0.3333333333333333,\"#9c179e\"],[0.4444444444444444,\"#bd3786\"],[0.5555555555555556,\"#d8576b\"],[0.6666666666666666,\"#ed7953\"],[0.7777777777777778,\"#fb9f3a\"],[0.8888888888888888,\"#fdca26\"],[1.0,\"#f0f921\"]],\"type\":\"contour\"}],\"heatmapgl\":[{\"colorbar\":{\"outlinewidth\":0,\"ticks\":\"\"},\"colorscale\":[[0.0,\"#0d0887\"],[0.1111111111111111,\"#46039f\"],[0.2222222222222222,\"#7201a8\"],[0.3333333333333333,\"#9c179e\"],[0.4444444444444444,\"#bd3786\"],[0.5555555555555556,\"#d8576b\"],[0.6666666666666666,\"#ed7953\"],[0.7777777777777778,\"#fb9f3a\"],[0.8888888888888888,\"#fdca26\"],[1.0,\"#f0f921\"]],\"type\":\"heatmapgl\"}],\"heatmap\":[{\"colorbar\":{\"outlinewidth\":0,\"ticks\":\"\"},\"colorscale\":[[0.0,\"#0d0887\"],[0.1111111111111111,\"#46039f\"],[0.2222222222222222,\"#7201a8\"],[0.3333333333333333,\"#9c179e\"],[0.4444444444444444,\"#bd3786\"],[0.5555555555555556,\"#d8576b\"],[0.6666666666666666,\"#ed7953\"],[0.7777777777777778,\"#fb9f3a\"],[0.8888888888888888,\"#fdca26\"],[1.0,\"#f0f921\"]],\"type\":\"heatmap\"}],\"histogram2dcontour\":[{\"colorbar\":{\"outlinewidth\":0,\"ticks\":\"\"},\"colorscale\":[[0.0,\"#0d0887\"],[0.1111111111111111,\"#46039f\"],[0.2222222222222222,\"#7201a8\"],[0.3333333333333333,\"#9c179e\"],[0.4444444444444444,\"#bd3786\"],[0.5555555555555556,\"#d8576b\"],[0.6666666666666666,\"#ed7953\"],[0.7777777777777778,\"#fb9f3a\"],[0.8888888888888888,\"#fdca26\"],[1.0,\"#f0f921\"]],\"type\":\"histogram2dcontour\"}],\"histogram2d\":[{\"colorbar\":{\"outlinewidth\":0,\"ticks\":\"\"},\"colorscale\":[[0.0,\"#0d0887\"],[0.1111111111111111,\"#46039f\"],[0.2222222222222222,\"#7201a8\"],[0.3333333333333333,\"#9c179e\"],[0.4444444444444444,\"#bd3786\"],[0.5555555555555556,\"#d8576b\"],[0.6666666666666666,\"#ed7953\"],[0.7777777777777778,\"#fb9f3a\"],[0.8888888888888888,\"#fdca26\"],[1.0,\"#f0f921\"]],\"type\":\"histogram2d\"}],\"histogram\":[{\"marker\":{\"pattern\":{\"fillmode\":\"overlay\",\"size\":10,\"solidity\":0.2}},\"type\":\"histogram\"}],\"mesh3d\":[{\"colorbar\":{\"outlinewidth\":0,\"ticks\":\"\"},\"type\":\"mesh3d\"}],\"parcoords\":[{\"line\":{\"colorbar\":{\"outlinewidth\":0,\"ticks\":\"\"}},\"type\":\"parcoords\"}],\"pie\":[{\"automargin\":true,\"type\":\"pie\"}],\"scatter3d\":[{\"line\":{\"colorbar\":{\"outlinewidth\":0,\"ticks\":\"\"}},\"marker\":{\"colorbar\":{\"outlinewidth\":0,\"ticks\":\"\"}},\"type\":\"scatter3d\"}],\"scattercarpet\":[{\"marker\":{\"colorbar\":{\"outlinewidth\":0,\"ticks\":\"\"}},\"type\":\"scattercarpet\"}],\"scattergeo\":[{\"marker\":{\"colorbar\":{\"outlinewidth\":0,\"ticks\":\"\"}},\"type\":\"scattergeo\"}],\"scattergl\":[{\"marker\":{\"colorbar\":{\"outlinewidth\":0,\"ticks\":\"\"}},\"type\":\"scattergl\"}],\"scattermapbox\":[{\"marker\":{\"colorbar\":{\"outlinewidth\":0,\"ticks\":\"\"}},\"type\":\"scattermapbox\"}],\"scatterpolargl\":[{\"marker\":{\"colorbar\":{\"outlinewidth\":0,\"ticks\":\"\"}},\"type\":\"scatterpolargl\"}],\"scatterpolar\":[{\"marker\":{\"colorbar\":{\"outlinewidth\":0,\"ticks\":\"\"}},\"type\":\"scatterpolar\"}],\"scatter\":[{\"marker\":{\"colorbar\":{\"outlinewidth\":0,\"ticks\":\"\"}},\"type\":\"scatter\"}],\"scatterternary\":[{\"marker\":{\"colorbar\":{\"outlinewidth\":0,\"ticks\":\"\"}},\"type\":\"scatterternary\"}],\"surface\":[{\"colorbar\":{\"outlinewidth\":0,\"ticks\":\"\"},\"colorscale\":[[0.0,\"#0d0887\"],[0.1111111111111111,\"#46039f\"],[0.2222222222222222,\"#7201a8\"],[0.3333333333333333,\"#9c179e\"],[0.4444444444444444,\"#bd3786\"],[0.5555555555555556,\"#d8576b\"],[0.6666666666666666,\"#ed7953\"],[0.7777777777777778,\"#fb9f3a\"],[0.8888888888888888,\"#fdca26\"],[1.0,\"#f0f921\"]],\"type\":\"surface\"}],\"table\":[{\"cells\":{\"fill\":{\"color\":\"#EBF0F8\"},\"line\":{\"color\":\"white\"}},\"header\":{\"fill\":{\"color\":\"#C8D4E3\"},\"line\":{\"color\":\"white\"}},\"type\":\"table\"}]},\"layout\":{\"annotationdefaults\":{\"arrowcolor\":\"#2a3f5f\",\"arrowhead\":0,\"arrowwidth\":1},\"autotypenumbers\":\"strict\",\"coloraxis\":{\"colorbar\":{\"outlinewidth\":0,\"ticks\":\"\"}},\"colorscale\":{\"diverging\":[[0,\"#8e0152\"],[0.1,\"#c51b7d\"],[0.2,\"#de77ae\"],[0.3,\"#f1b6da\"],[0.4,\"#fde0ef\"],[0.5,\"#f7f7f7\"],[0.6,\"#e6f5d0\"],[0.7,\"#b8e186\"],[0.8,\"#7fbc41\"],[0.9,\"#4d9221\"],[1,\"#276419\"]],\"sequential\":[[0.0,\"#0d0887\"],[0.1111111111111111,\"#46039f\"],[0.2222222222222222,\"#7201a8\"],[0.3333333333333333,\"#9c179e\"],[0.4444444444444444,\"#bd3786\"],[0.5555555555555556,\"#d8576b\"],[0.6666666666666666,\"#ed7953\"],[0.7777777777777778,\"#fb9f3a\"],[0.8888888888888888,\"#fdca26\"],[1.0,\"#f0f921\"]],\"sequentialminus\":[[0.0,\"#0d0887\"],[0.1111111111111111,\"#46039f\"],[0.2222222222222222,\"#7201a8\"],[0.3333333333333333,\"#9c179e\"],[0.4444444444444444,\"#bd3786\"],[0.5555555555555556,\"#d8576b\"],[0.6666666666666666,\"#ed7953\"],[0.7777777777777778,\"#fb9f3a\"],[0.8888888888888888,\"#fdca26\"],[1.0,\"#f0f921\"]]},\"colorway\":[\"#636efa\",\"#EF553B\",\"#00cc96\",\"#ab63fa\",\"#FFA15A\",\"#19d3f3\",\"#FF6692\",\"#B6E880\",\"#FF97FF\",\"#FECB52\"],\"font\":{\"color\":\"#2a3f5f\"},\"geo\":{\"bgcolor\":\"white\",\"lakecolor\":\"white\",\"landcolor\":\"#E5ECF6\",\"showlakes\":true,\"showland\":true,\"subunitcolor\":\"white\"},\"hoverlabel\":{\"align\":\"left\"},\"hovermode\":\"closest\",\"mapbox\":{\"style\":\"light\"},\"paper_bgcolor\":\"white\",\"plot_bgcolor\":\"#E5ECF6\",\"polar\":{\"angularaxis\":{\"gridcolor\":\"white\",\"linecolor\":\"white\",\"ticks\":\"\"},\"bgcolor\":\"#E5ECF6\",\"radialaxis\":{\"gridcolor\":\"white\",\"linecolor\":\"white\",\"ticks\":\"\"}},\"scene\":{\"xaxis\":{\"backgroundcolor\":\"#E5ECF6\",\"gridcolor\":\"white\",\"gridwidth\":2,\"linecolor\":\"white\",\"showbackground\":true,\"ticks\":\"\",\"zerolinecolor\":\"white\"},\"yaxis\":{\"backgroundcolor\":\"#E5ECF6\",\"gridcolor\":\"white\",\"gridwidth\":2,\"linecolor\":\"white\",\"showbackground\":true,\"ticks\":\"\",\"zerolinecolor\":\"white\"},\"zaxis\":{\"backgroundcolor\":\"#E5ECF6\",\"gridcolor\":\"white\",\"gridwidth\":2,\"linecolor\":\"white\",\"showbackground\":true,\"ticks\":\"\",\"zerolinecolor\":\"white\"}},\"shapedefaults\":{\"line\":{\"color\":\"#2a3f5f\"}},\"ternary\":{\"aaxis\":{\"gridcolor\":\"white\",\"linecolor\":\"white\",\"ticks\":\"\"},\"baxis\":{\"gridcolor\":\"white\",\"linecolor\":\"white\",\"ticks\":\"\"},\"bgcolor\":\"#E5ECF6\",\"caxis\":{\"gridcolor\":\"white\",\"linecolor\":\"white\",\"ticks\":\"\"}},\"title\":{\"x\":0.05},\"xaxis\":{\"automargin\":true,\"gridcolor\":\"white\",\"linecolor\":\"white\",\"ticks\":\"\",\"title\":{\"standoff\":15},\"zerolinecolor\":\"white\",\"zerolinewidth\":2},\"yaxis\":{\"automargin\":true,\"gridcolor\":\"white\",\"linecolor\":\"white\",\"ticks\":\"\",\"title\":{\"standoff\":15},\"zerolinecolor\":\"white\",\"zerolinewidth\":2}}},\"title\":{\"font\":{\"color\":\"#4D5663\"}},\"xaxis\":{\"gridcolor\":\"#E1E5ED\",\"showgrid\":true,\"tickfont\":{\"color\":\"#4D5663\"},\"title\":{\"font\":{\"color\":\"#4D5663\"},\"text\":\"\"},\"zerolinecolor\":\"#E1E5ED\"},\"yaxis\":{\"gridcolor\":\"#E1E5ED\",\"showgrid\":true,\"tickfont\":{\"color\":\"#4D5663\"},\"title\":{\"font\":{\"color\":\"#4D5663\"},\"text\":\"\"},\"zerolinecolor\":\"#E1E5ED\"}},                        {\"showLink\": true, \"linkText\": \"Export to plot.ly\", \"plotlyServerURL\": \"https://plot.ly\", \"responsive\": true}                    ).then(function(){\n",
       "                            \n",
       "var gd = document.getElementById('f7cbd1dc-dc8c-4d60-8a72-cd50bbe11abf');\n",
       "var x = new MutationObserver(function (mutations, observer) {{\n",
       "        var display = window.getComputedStyle(gd).display;\n",
       "        if (!display || display === 'none') {{\n",
       "            console.log([gd, 'removed!']);\n",
       "            Plotly.purge(gd);\n",
       "            observer.disconnect();\n",
       "        }}\n",
       "}});\n",
       "\n",
       "// Listen for the removal of the full notebook cells\n",
       "var notebookContainer = gd.closest('#notebook-container');\n",
       "if (notebookContainer) {{\n",
       "    x.observe(notebookContainer, {childList: true});\n",
       "}}\n",
       "\n",
       "// Listen for the clearing of the current output cell\n",
       "var outputEl = gd.closest('.output');\n",
       "if (outputEl) {{\n",
       "    x.observe(outputEl, {childList: true});\n",
       "}}\n",
       "\n",
       "                        })                };                });            </script>        </div>"
      ]
     },
     "metadata": {},
     "output_type": "display_data"
    }
   ],
   "source": [
    "df.iplot()"
   ]
  },
  {
   "cell_type": "markdown",
   "metadata": {},
   "source": [
    "# Scatter"
   ]
  },
  {
   "cell_type": "code",
   "execution_count": 7,
   "metadata": {},
   "outputs": [
    {
     "data": {
      "application/vnd.plotly.v1+json": {
       "config": {
        "linkText": "Export to plot.ly",
        "plotlyServerURL": "https://plot.ly",
        "showLink": true
       },
       "data": [
        {
         "line": {
          "color": "rgba(255, 153, 51, 1.0)",
          "dash": "solid",
          "shape": "linear",
          "width": 1.3
         },
         "marker": {
          "size": 10,
          "symbol": "circle"
         },
         "mode": "markers",
         "name": "B",
         "text": "",
         "type": "scatter",
         "x": [
          -0.7211844881720889,
          -1.460522588285307,
          2.154948856212787,
          -0.49761196784253425,
          0.45284763019750024,
          -0.2146016535662887,
          0.6461779730757492,
          -0.11825227421614609,
          1.2915518225379228,
          0.18608916067102835,
          -1.4874697128735566,
          -2.674955108446302,
          0.9190575231032203,
          -2.5325371551100275,
          -1.6777824953054545,
          -0.5467026438923042,
          0.5889265073259935,
          0.5713454137445192,
          -0.7405110737545675,
          -0.3762010861641179,
          0.1489885436790522,
          0.5826629600411326,
          9.93956133860854e-05,
          1.3228779971160258,
          1.548816618475939,
          1.0493635334616715,
          -0.41796228792981016,
          0.17190353418274495,
          0.26603823982029823,
          1.7748592869778435,
          -0.7486339320839377,
          0.0800193740814564,
          0.024234150399956793,
          -1.2542478347818165,
          0.437098308644309,
          0.703962364809523,
          -1.456325016003159,
          -1.515331912201515,
          -1.6783903384875147,
          -0.4105728612305543,
          -1.609348939801891,
          0.20873382660773848,
          1.7185816695607006,
          1.515224936174814,
          1.0690785260274,
          -1.6264240979749063,
          -0.10391990265168422,
          -1.0109174745146479,
          -1.9146061901244,
          0.8887427941528846,
          1.1887629381499019,
          -2.628399663534101,
          1.4627541154619559,
          1.2193879796116494,
          0.03120731155045379,
          0.19112324160339209,
          -0.41263213724016684,
          1.2195646026171014,
          -0.9357186450127927,
          -0.7735198800180834,
          0.7193889197776803,
          0.6576833793061325,
          -1.056242381180936,
          0.09944112179190494,
          1.0607886466058087,
          1.7480384469434798,
          -0.2925634435299589,
          -2.259658886505214,
          -1.693429506937218,
          2.0564346631440666,
          -0.14075746225916153,
          1.1671358816250528,
          -0.5788602987660235,
          -0.0019086180276748474,
          -1.9031784355512493,
          0.6697468613769787,
          1.2899599026774455,
          1.0937370716707826,
          0.2270561295865113,
          -0.22835157535766273,
          -0.21301396382913657,
          0.2796610966082171,
          0.6150753211568992,
          -0.8829404665561942,
          -0.4656916952739058,
          -0.4252283999883795,
          0.4855630893895303,
          0.21391697236657217,
          -0.24628332366479058,
          0.1698428083437271,
          0.4165353423709389,
          1.0312345779753802,
          -0.3802955308874277,
          -0.24345550305773975,
          -1.6088187152500206,
          1.362642934270473,
          0.5659359812206953,
          -0.08982000068507776,
          0.13460869031949085,
          0.07277500218970358
         ],
         "y": [
          1.9363176963824915,
          0.783691095069216,
          -1.1913463628659005,
          -0.6441276887203147,
          1.1687904468466739,
          0.6323414704685131,
          -1.2191589935127074,
          -0.2143976718639855,
          -1.9448875532251129,
          -0.28376974222916534,
          1.5782128138754477,
          -1.8196443931299022,
          -0.6407499492278539,
          -0.4211817381995266,
          0.749816068741311,
          1.0357869223281948,
          1.4574441310839379,
          -0.3042344579582755,
          0.19723781050623027,
          -0.5624181531021479,
          -1.4068385344205947,
          -1.467133562334591,
          -0.5674350597043402,
          -2.129336044404162,
          1.1758806168946234,
          -0.16448995704076652,
          -0.9779043170437532,
          -0.34597066195963844,
          0.5646432182256792,
          1.3236523242202396,
          0.6072867513938234,
          -0.568385280381742,
          -1.1186532483940683,
          0.30430474772314803,
          -0.31653229378343317,
          0.10274254004759957,
          -0.4004143253747189,
          -0.5401696407335572,
          -1.7905406758414422,
          -0.3447153898348365,
          0.01640549905721995,
          1.329803844957976,
          -0.2838454848295598,
          -0.7149500718878599,
          2.131509449259118,
          -0.20594262819363468,
          -0.46095460604086497,
          1.3762460600580146,
          -0.5315216700601639,
          0.4330121353014572,
          -1.0421993308088067,
          -1.5558986585240033,
          -1.218392913837334,
          0.44444621727844846,
          -0.3033811422910685,
          -0.2348174161172821,
          0.6761559094978562,
          -0.1433003612459205,
          -0.5021565887281341,
          -0.5643974865846672,
          -0.32738588487886683,
          2.7095465578361577,
          0.18779561954741292,
          -0.179442053806397,
          0.16190622421114106,
          -0.10631574297220216,
          -0.9719562551176633,
          -0.8864656963735614,
          -1.0971579537801677,
          0.5703636600272055,
          0.017455999104761276,
          0.10764563017514592,
          0.6674390203404504,
          -1.5483790010746306,
          0.7855020724347893,
          1.0864443237398242,
          -0.09412775608332852,
          -0.7155961933081841,
          2.1220822162796087,
          0.6706361949388256,
          -0.5290544807432842,
          -2.2005054084000197,
          0.1576792060896083,
          0.09945177553841868,
          -1.8392810801254043,
          -0.9192852920587717,
          2.4718464231328774,
          0.2076321039179723,
          -0.8445272827194005,
          -0.8008434375387793,
          -0.007766019613267419,
          0.5090193899057244,
          -0.0030644485108717303,
          1.2109719752722654,
          -0.8042659230928949,
          0.0639503553332306,
          -0.19669717584049626,
          0.3109834776847498,
          0.27778199066943177,
          0.9202818228115818
         ]
        }
       ],
       "layout": {
        "legend": {
         "bgcolor": "#F5F6F9",
         "font": {
          "color": "#4D5663"
         }
        },
        "paper_bgcolor": "#F5F6F9",
        "plot_bgcolor": "#F5F6F9",
        "template": {
         "data": {
          "bar": [
           {
            "error_x": {
             "color": "#2a3f5f"
            },
            "error_y": {
             "color": "#2a3f5f"
            },
            "marker": {
             "line": {
              "color": "#E5ECF6",
              "width": 0.5
             },
             "pattern": {
              "fillmode": "overlay",
              "size": 10,
              "solidity": 0.2
             }
            },
            "type": "bar"
           }
          ],
          "barpolar": [
           {
            "marker": {
             "line": {
              "color": "#E5ECF6",
              "width": 0.5
             },
             "pattern": {
              "fillmode": "overlay",
              "size": 10,
              "solidity": 0.2
             }
            },
            "type": "barpolar"
           }
          ],
          "carpet": [
           {
            "aaxis": {
             "endlinecolor": "#2a3f5f",
             "gridcolor": "white",
             "linecolor": "white",
             "minorgridcolor": "white",
             "startlinecolor": "#2a3f5f"
            },
            "baxis": {
             "endlinecolor": "#2a3f5f",
             "gridcolor": "white",
             "linecolor": "white",
             "minorgridcolor": "white",
             "startlinecolor": "#2a3f5f"
            },
            "type": "carpet"
           }
          ],
          "choropleth": [
           {
            "colorbar": {
             "outlinewidth": 0,
             "ticks": ""
            },
            "type": "choropleth"
           }
          ],
          "contour": [
           {
            "colorbar": {
             "outlinewidth": 0,
             "ticks": ""
            },
            "colorscale": [
             [
              0,
              "#0d0887"
             ],
             [
              0.1111111111111111,
              "#46039f"
             ],
             [
              0.2222222222222222,
              "#7201a8"
             ],
             [
              0.3333333333333333,
              "#9c179e"
             ],
             [
              0.4444444444444444,
              "#bd3786"
             ],
             [
              0.5555555555555556,
              "#d8576b"
             ],
             [
              0.6666666666666666,
              "#ed7953"
             ],
             [
              0.7777777777777778,
              "#fb9f3a"
             ],
             [
              0.8888888888888888,
              "#fdca26"
             ],
             [
              1,
              "#f0f921"
             ]
            ],
            "type": "contour"
           }
          ],
          "contourcarpet": [
           {
            "colorbar": {
             "outlinewidth": 0,
             "ticks": ""
            },
            "type": "contourcarpet"
           }
          ],
          "heatmap": [
           {
            "colorbar": {
             "outlinewidth": 0,
             "ticks": ""
            },
            "colorscale": [
             [
              0,
              "#0d0887"
             ],
             [
              0.1111111111111111,
              "#46039f"
             ],
             [
              0.2222222222222222,
              "#7201a8"
             ],
             [
              0.3333333333333333,
              "#9c179e"
             ],
             [
              0.4444444444444444,
              "#bd3786"
             ],
             [
              0.5555555555555556,
              "#d8576b"
             ],
             [
              0.6666666666666666,
              "#ed7953"
             ],
             [
              0.7777777777777778,
              "#fb9f3a"
             ],
             [
              0.8888888888888888,
              "#fdca26"
             ],
             [
              1,
              "#f0f921"
             ]
            ],
            "type": "heatmap"
           }
          ],
          "heatmapgl": [
           {
            "colorbar": {
             "outlinewidth": 0,
             "ticks": ""
            },
            "colorscale": [
             [
              0,
              "#0d0887"
             ],
             [
              0.1111111111111111,
              "#46039f"
             ],
             [
              0.2222222222222222,
              "#7201a8"
             ],
             [
              0.3333333333333333,
              "#9c179e"
             ],
             [
              0.4444444444444444,
              "#bd3786"
             ],
             [
              0.5555555555555556,
              "#d8576b"
             ],
             [
              0.6666666666666666,
              "#ed7953"
             ],
             [
              0.7777777777777778,
              "#fb9f3a"
             ],
             [
              0.8888888888888888,
              "#fdca26"
             ],
             [
              1,
              "#f0f921"
             ]
            ],
            "type": "heatmapgl"
           }
          ],
          "histogram": [
           {
            "marker": {
             "pattern": {
              "fillmode": "overlay",
              "size": 10,
              "solidity": 0.2
             }
            },
            "type": "histogram"
           }
          ],
          "histogram2d": [
           {
            "colorbar": {
             "outlinewidth": 0,
             "ticks": ""
            },
            "colorscale": [
             [
              0,
              "#0d0887"
             ],
             [
              0.1111111111111111,
              "#46039f"
             ],
             [
              0.2222222222222222,
              "#7201a8"
             ],
             [
              0.3333333333333333,
              "#9c179e"
             ],
             [
              0.4444444444444444,
              "#bd3786"
             ],
             [
              0.5555555555555556,
              "#d8576b"
             ],
             [
              0.6666666666666666,
              "#ed7953"
             ],
             [
              0.7777777777777778,
              "#fb9f3a"
             ],
             [
              0.8888888888888888,
              "#fdca26"
             ],
             [
              1,
              "#f0f921"
             ]
            ],
            "type": "histogram2d"
           }
          ],
          "histogram2dcontour": [
           {
            "colorbar": {
             "outlinewidth": 0,
             "ticks": ""
            },
            "colorscale": [
             [
              0,
              "#0d0887"
             ],
             [
              0.1111111111111111,
              "#46039f"
             ],
             [
              0.2222222222222222,
              "#7201a8"
             ],
             [
              0.3333333333333333,
              "#9c179e"
             ],
             [
              0.4444444444444444,
              "#bd3786"
             ],
             [
              0.5555555555555556,
              "#d8576b"
             ],
             [
              0.6666666666666666,
              "#ed7953"
             ],
             [
              0.7777777777777778,
              "#fb9f3a"
             ],
             [
              0.8888888888888888,
              "#fdca26"
             ],
             [
              1,
              "#f0f921"
             ]
            ],
            "type": "histogram2dcontour"
           }
          ],
          "mesh3d": [
           {
            "colorbar": {
             "outlinewidth": 0,
             "ticks": ""
            },
            "type": "mesh3d"
           }
          ],
          "parcoords": [
           {
            "line": {
             "colorbar": {
              "outlinewidth": 0,
              "ticks": ""
             }
            },
            "type": "parcoords"
           }
          ],
          "pie": [
           {
            "automargin": true,
            "type": "pie"
           }
          ],
          "scatter": [
           {
            "marker": {
             "colorbar": {
              "outlinewidth": 0,
              "ticks": ""
             }
            },
            "type": "scatter"
           }
          ],
          "scatter3d": [
           {
            "line": {
             "colorbar": {
              "outlinewidth": 0,
              "ticks": ""
             }
            },
            "marker": {
             "colorbar": {
              "outlinewidth": 0,
              "ticks": ""
             }
            },
            "type": "scatter3d"
           }
          ],
          "scattercarpet": [
           {
            "marker": {
             "colorbar": {
              "outlinewidth": 0,
              "ticks": ""
             }
            },
            "type": "scattercarpet"
           }
          ],
          "scattergeo": [
           {
            "marker": {
             "colorbar": {
              "outlinewidth": 0,
              "ticks": ""
             }
            },
            "type": "scattergeo"
           }
          ],
          "scattergl": [
           {
            "marker": {
             "colorbar": {
              "outlinewidth": 0,
              "ticks": ""
             }
            },
            "type": "scattergl"
           }
          ],
          "scattermapbox": [
           {
            "marker": {
             "colorbar": {
              "outlinewidth": 0,
              "ticks": ""
             }
            },
            "type": "scattermapbox"
           }
          ],
          "scatterpolar": [
           {
            "marker": {
             "colorbar": {
              "outlinewidth": 0,
              "ticks": ""
             }
            },
            "type": "scatterpolar"
           }
          ],
          "scatterpolargl": [
           {
            "marker": {
             "colorbar": {
              "outlinewidth": 0,
              "ticks": ""
             }
            },
            "type": "scatterpolargl"
           }
          ],
          "scatterternary": [
           {
            "marker": {
             "colorbar": {
              "outlinewidth": 0,
              "ticks": ""
             }
            },
            "type": "scatterternary"
           }
          ],
          "surface": [
           {
            "colorbar": {
             "outlinewidth": 0,
             "ticks": ""
            },
            "colorscale": [
             [
              0,
              "#0d0887"
             ],
             [
              0.1111111111111111,
              "#46039f"
             ],
             [
              0.2222222222222222,
              "#7201a8"
             ],
             [
              0.3333333333333333,
              "#9c179e"
             ],
             [
              0.4444444444444444,
              "#bd3786"
             ],
             [
              0.5555555555555556,
              "#d8576b"
             ],
             [
              0.6666666666666666,
              "#ed7953"
             ],
             [
              0.7777777777777778,
              "#fb9f3a"
             ],
             [
              0.8888888888888888,
              "#fdca26"
             ],
             [
              1,
              "#f0f921"
             ]
            ],
            "type": "surface"
           }
          ],
          "table": [
           {
            "cells": {
             "fill": {
              "color": "#EBF0F8"
             },
             "line": {
              "color": "white"
             }
            },
            "header": {
             "fill": {
              "color": "#C8D4E3"
             },
             "line": {
              "color": "white"
             }
            },
            "type": "table"
           }
          ]
         },
         "layout": {
          "annotationdefaults": {
           "arrowcolor": "#2a3f5f",
           "arrowhead": 0,
           "arrowwidth": 1
          },
          "autotypenumbers": "strict",
          "coloraxis": {
           "colorbar": {
            "outlinewidth": 0,
            "ticks": ""
           }
          },
          "colorscale": {
           "diverging": [
            [
             0,
             "#8e0152"
            ],
            [
             0.1,
             "#c51b7d"
            ],
            [
             0.2,
             "#de77ae"
            ],
            [
             0.3,
             "#f1b6da"
            ],
            [
             0.4,
             "#fde0ef"
            ],
            [
             0.5,
             "#f7f7f7"
            ],
            [
             0.6,
             "#e6f5d0"
            ],
            [
             0.7,
             "#b8e186"
            ],
            [
             0.8,
             "#7fbc41"
            ],
            [
             0.9,
             "#4d9221"
            ],
            [
             1,
             "#276419"
            ]
           ],
           "sequential": [
            [
             0,
             "#0d0887"
            ],
            [
             0.1111111111111111,
             "#46039f"
            ],
            [
             0.2222222222222222,
             "#7201a8"
            ],
            [
             0.3333333333333333,
             "#9c179e"
            ],
            [
             0.4444444444444444,
             "#bd3786"
            ],
            [
             0.5555555555555556,
             "#d8576b"
            ],
            [
             0.6666666666666666,
             "#ed7953"
            ],
            [
             0.7777777777777778,
             "#fb9f3a"
            ],
            [
             0.8888888888888888,
             "#fdca26"
            ],
            [
             1,
             "#f0f921"
            ]
           ],
           "sequentialminus": [
            [
             0,
             "#0d0887"
            ],
            [
             0.1111111111111111,
             "#46039f"
            ],
            [
             0.2222222222222222,
             "#7201a8"
            ],
            [
             0.3333333333333333,
             "#9c179e"
            ],
            [
             0.4444444444444444,
             "#bd3786"
            ],
            [
             0.5555555555555556,
             "#d8576b"
            ],
            [
             0.6666666666666666,
             "#ed7953"
            ],
            [
             0.7777777777777778,
             "#fb9f3a"
            ],
            [
             0.8888888888888888,
             "#fdca26"
            ],
            [
             1,
             "#f0f921"
            ]
           ]
          },
          "colorway": [
           "#636efa",
           "#EF553B",
           "#00cc96",
           "#ab63fa",
           "#FFA15A",
           "#19d3f3",
           "#FF6692",
           "#B6E880",
           "#FF97FF",
           "#FECB52"
          ],
          "font": {
           "color": "#2a3f5f"
          },
          "geo": {
           "bgcolor": "white",
           "lakecolor": "white",
           "landcolor": "#E5ECF6",
           "showlakes": true,
           "showland": true,
           "subunitcolor": "white"
          },
          "hoverlabel": {
           "align": "left"
          },
          "hovermode": "closest",
          "mapbox": {
           "style": "light"
          },
          "paper_bgcolor": "white",
          "plot_bgcolor": "#E5ECF6",
          "polar": {
           "angularaxis": {
            "gridcolor": "white",
            "linecolor": "white",
            "ticks": ""
           },
           "bgcolor": "#E5ECF6",
           "radialaxis": {
            "gridcolor": "white",
            "linecolor": "white",
            "ticks": ""
           }
          },
          "scene": {
           "xaxis": {
            "backgroundcolor": "#E5ECF6",
            "gridcolor": "white",
            "gridwidth": 2,
            "linecolor": "white",
            "showbackground": true,
            "ticks": "",
            "zerolinecolor": "white"
           },
           "yaxis": {
            "backgroundcolor": "#E5ECF6",
            "gridcolor": "white",
            "gridwidth": 2,
            "linecolor": "white",
            "showbackground": true,
            "ticks": "",
            "zerolinecolor": "white"
           },
           "zaxis": {
            "backgroundcolor": "#E5ECF6",
            "gridcolor": "white",
            "gridwidth": 2,
            "linecolor": "white",
            "showbackground": true,
            "ticks": "",
            "zerolinecolor": "white"
           }
          },
          "shapedefaults": {
           "line": {
            "color": "#2a3f5f"
           }
          },
          "ternary": {
           "aaxis": {
            "gridcolor": "white",
            "linecolor": "white",
            "ticks": ""
           },
           "baxis": {
            "gridcolor": "white",
            "linecolor": "white",
            "ticks": ""
           },
           "bgcolor": "#E5ECF6",
           "caxis": {
            "gridcolor": "white",
            "linecolor": "white",
            "ticks": ""
           }
          },
          "title": {
           "x": 0.05
          },
          "xaxis": {
           "automargin": true,
           "gridcolor": "white",
           "linecolor": "white",
           "ticks": "",
           "title": {
            "standoff": 15
           },
           "zerolinecolor": "white",
           "zerolinewidth": 2
          },
          "yaxis": {
           "automargin": true,
           "gridcolor": "white",
           "linecolor": "white",
           "ticks": "",
           "title": {
            "standoff": 15
           },
           "zerolinecolor": "white",
           "zerolinewidth": 2
          }
         }
        },
        "title": {
         "font": {
          "color": "#4D5663"
         }
        },
        "xaxis": {
         "gridcolor": "#E1E5ED",
         "showgrid": true,
         "tickfont": {
          "color": "#4D5663"
         },
         "title": {
          "font": {
           "color": "#4D5663"
          },
          "text": ""
         },
         "zerolinecolor": "#E1E5ED"
        },
        "yaxis": {
         "gridcolor": "#E1E5ED",
         "showgrid": true,
         "tickfont": {
          "color": "#4D5663"
         },
         "title": {
          "font": {
           "color": "#4D5663"
          },
          "text": ""
         },
         "zerolinecolor": "#E1E5ED"
        }
       }
      },
      "text/html": [
       "<div>                            <div id=\"9ce1c87f-824d-4ae3-a99e-38471684d180\" class=\"plotly-graph-div\" style=\"height:525px; width:100%;\"></div>            <script type=\"text/javascript\">                require([\"plotly\"], function(Plotly) {                    window.PLOTLYENV=window.PLOTLYENV || {};\n",
       "                    window.PLOTLYENV.BASE_URL='https://plot.ly';                                    if (document.getElementById(\"9ce1c87f-824d-4ae3-a99e-38471684d180\")) {                    Plotly.newPlot(                        \"9ce1c87f-824d-4ae3-a99e-38471684d180\",                        [{\"line\":{\"color\":\"rgba(255, 153, 51, 1.0)\",\"dash\":\"solid\",\"shape\":\"linear\",\"width\":1.3},\"marker\":{\"size\":10,\"symbol\":\"circle\"},\"mode\":\"markers\",\"name\":\"B\",\"text\":\"\",\"x\":[-0.7211844881720889,-1.460522588285307,2.154948856212787,-0.49761196784253425,0.45284763019750024,-0.2146016535662887,0.6461779730757492,-0.11825227421614609,1.2915518225379228,0.18608916067102835,-1.4874697128735566,-2.674955108446302,0.9190575231032203,-2.5325371551100275,-1.6777824953054545,-0.5467026438923042,0.5889265073259935,0.5713454137445192,-0.7405110737545675,-0.3762010861641179,0.1489885436790522,0.5826629600411326,9.93956133860854e-05,1.3228779971160258,1.548816618475939,1.0493635334616715,-0.41796228792981016,0.17190353418274495,0.26603823982029823,1.7748592869778435,-0.7486339320839377,0.0800193740814564,0.024234150399956793,-1.2542478347818165,0.437098308644309,0.703962364809523,-1.456325016003159,-1.515331912201515,-1.6783903384875147,-0.4105728612305543,-1.609348939801891,0.20873382660773848,1.7185816695607006,1.515224936174814,1.0690785260274,-1.6264240979749063,-0.10391990265168422,-1.0109174745146479,-1.9146061901244,0.8887427941528846,1.1887629381499019,-2.628399663534101,1.4627541154619559,1.2193879796116494,0.03120731155045379,0.19112324160339209,-0.41263213724016684,1.2195646026171014,-0.9357186450127927,-0.7735198800180834,0.7193889197776803,0.6576833793061325,-1.056242381180936,0.09944112179190494,1.0607886466058087,1.7480384469434798,-0.2925634435299589,-2.259658886505214,-1.693429506937218,2.0564346631440666,-0.14075746225916153,1.1671358816250528,-0.5788602987660235,-0.0019086180276748474,-1.9031784355512493,0.6697468613769787,1.2899599026774455,1.0937370716707826,0.2270561295865113,-0.22835157535766273,-0.21301396382913657,0.2796610966082171,0.6150753211568992,-0.8829404665561942,-0.4656916952739058,-0.4252283999883795,0.4855630893895303,0.21391697236657217,-0.24628332366479058,0.1698428083437271,0.4165353423709389,1.0312345779753802,-0.3802955308874277,-0.24345550305773975,-1.6088187152500206,1.362642934270473,0.5659359812206953,-0.08982000068507776,0.13460869031949085,0.07277500218970358],\"y\":[1.9363176963824915,0.783691095069216,-1.1913463628659005,-0.6441276887203147,1.1687904468466739,0.6323414704685131,-1.2191589935127074,-0.2143976718639855,-1.9448875532251129,-0.28376974222916534,1.5782128138754477,-1.8196443931299022,-0.6407499492278539,-0.4211817381995266,0.749816068741311,1.0357869223281948,1.4574441310839379,-0.3042344579582755,0.19723781050623027,-0.5624181531021479,-1.4068385344205947,-1.467133562334591,-0.5674350597043402,-2.129336044404162,1.1758806168946234,-0.16448995704076652,-0.9779043170437532,-0.34597066195963844,0.5646432182256792,1.3236523242202396,0.6072867513938234,-0.568385280381742,-1.1186532483940683,0.30430474772314803,-0.31653229378343317,0.10274254004759957,-0.4004143253747189,-0.5401696407335572,-1.7905406758414422,-0.3447153898348365,0.01640549905721995,1.329803844957976,-0.2838454848295598,-0.7149500718878599,2.131509449259118,-0.20594262819363468,-0.46095460604086497,1.3762460600580146,-0.5315216700601639,0.4330121353014572,-1.0421993308088067,-1.5558986585240033,-1.218392913837334,0.44444621727844846,-0.3033811422910685,-0.2348174161172821,0.6761559094978562,-0.1433003612459205,-0.5021565887281341,-0.5643974865846672,-0.32738588487886683,2.7095465578361577,0.18779561954741292,-0.179442053806397,0.16190622421114106,-0.10631574297220216,-0.9719562551176633,-0.8864656963735614,-1.0971579537801677,0.5703636600272055,0.017455999104761276,0.10764563017514592,0.6674390203404504,-1.5483790010746306,0.7855020724347893,1.0864443237398242,-0.09412775608332852,-0.7155961933081841,2.1220822162796087,0.6706361949388256,-0.5290544807432842,-2.2005054084000197,0.1576792060896083,0.09945177553841868,-1.8392810801254043,-0.9192852920587717,2.4718464231328774,0.2076321039179723,-0.8445272827194005,-0.8008434375387793,-0.007766019613267419,0.5090193899057244,-0.0030644485108717303,1.2109719752722654,-0.8042659230928949,0.0639503553332306,-0.19669717584049626,0.3109834776847498,0.27778199066943177,0.9202818228115818],\"type\":\"scatter\"}],                        {\"legend\":{\"bgcolor\":\"#F5F6F9\",\"font\":{\"color\":\"#4D5663\"}},\"paper_bgcolor\":\"#F5F6F9\",\"plot_bgcolor\":\"#F5F6F9\",\"template\":{\"data\":{\"barpolar\":[{\"marker\":{\"line\":{\"color\":\"#E5ECF6\",\"width\":0.5},\"pattern\":{\"fillmode\":\"overlay\",\"size\":10,\"solidity\":0.2}},\"type\":\"barpolar\"}],\"bar\":[{\"error_x\":{\"color\":\"#2a3f5f\"},\"error_y\":{\"color\":\"#2a3f5f\"},\"marker\":{\"line\":{\"color\":\"#E5ECF6\",\"width\":0.5},\"pattern\":{\"fillmode\":\"overlay\",\"size\":10,\"solidity\":0.2}},\"type\":\"bar\"}],\"carpet\":[{\"aaxis\":{\"endlinecolor\":\"#2a3f5f\",\"gridcolor\":\"white\",\"linecolor\":\"white\",\"minorgridcolor\":\"white\",\"startlinecolor\":\"#2a3f5f\"},\"baxis\":{\"endlinecolor\":\"#2a3f5f\",\"gridcolor\":\"white\",\"linecolor\":\"white\",\"minorgridcolor\":\"white\",\"startlinecolor\":\"#2a3f5f\"},\"type\":\"carpet\"}],\"choropleth\":[{\"colorbar\":{\"outlinewidth\":0,\"ticks\":\"\"},\"type\":\"choropleth\"}],\"contourcarpet\":[{\"colorbar\":{\"outlinewidth\":0,\"ticks\":\"\"},\"type\":\"contourcarpet\"}],\"contour\":[{\"colorbar\":{\"outlinewidth\":0,\"ticks\":\"\"},\"colorscale\":[[0.0,\"#0d0887\"],[0.1111111111111111,\"#46039f\"],[0.2222222222222222,\"#7201a8\"],[0.3333333333333333,\"#9c179e\"],[0.4444444444444444,\"#bd3786\"],[0.5555555555555556,\"#d8576b\"],[0.6666666666666666,\"#ed7953\"],[0.7777777777777778,\"#fb9f3a\"],[0.8888888888888888,\"#fdca26\"],[1.0,\"#f0f921\"]],\"type\":\"contour\"}],\"heatmapgl\":[{\"colorbar\":{\"outlinewidth\":0,\"ticks\":\"\"},\"colorscale\":[[0.0,\"#0d0887\"],[0.1111111111111111,\"#46039f\"],[0.2222222222222222,\"#7201a8\"],[0.3333333333333333,\"#9c179e\"],[0.4444444444444444,\"#bd3786\"],[0.5555555555555556,\"#d8576b\"],[0.6666666666666666,\"#ed7953\"],[0.7777777777777778,\"#fb9f3a\"],[0.8888888888888888,\"#fdca26\"],[1.0,\"#f0f921\"]],\"type\":\"heatmapgl\"}],\"heatmap\":[{\"colorbar\":{\"outlinewidth\":0,\"ticks\":\"\"},\"colorscale\":[[0.0,\"#0d0887\"],[0.1111111111111111,\"#46039f\"],[0.2222222222222222,\"#7201a8\"],[0.3333333333333333,\"#9c179e\"],[0.4444444444444444,\"#bd3786\"],[0.5555555555555556,\"#d8576b\"],[0.6666666666666666,\"#ed7953\"],[0.7777777777777778,\"#fb9f3a\"],[0.8888888888888888,\"#fdca26\"],[1.0,\"#f0f921\"]],\"type\":\"heatmap\"}],\"histogram2dcontour\":[{\"colorbar\":{\"outlinewidth\":0,\"ticks\":\"\"},\"colorscale\":[[0.0,\"#0d0887\"],[0.1111111111111111,\"#46039f\"],[0.2222222222222222,\"#7201a8\"],[0.3333333333333333,\"#9c179e\"],[0.4444444444444444,\"#bd3786\"],[0.5555555555555556,\"#d8576b\"],[0.6666666666666666,\"#ed7953\"],[0.7777777777777778,\"#fb9f3a\"],[0.8888888888888888,\"#fdca26\"],[1.0,\"#f0f921\"]],\"type\":\"histogram2dcontour\"}],\"histogram2d\":[{\"colorbar\":{\"outlinewidth\":0,\"ticks\":\"\"},\"colorscale\":[[0.0,\"#0d0887\"],[0.1111111111111111,\"#46039f\"],[0.2222222222222222,\"#7201a8\"],[0.3333333333333333,\"#9c179e\"],[0.4444444444444444,\"#bd3786\"],[0.5555555555555556,\"#d8576b\"],[0.6666666666666666,\"#ed7953\"],[0.7777777777777778,\"#fb9f3a\"],[0.8888888888888888,\"#fdca26\"],[1.0,\"#f0f921\"]],\"type\":\"histogram2d\"}],\"histogram\":[{\"marker\":{\"pattern\":{\"fillmode\":\"overlay\",\"size\":10,\"solidity\":0.2}},\"type\":\"histogram\"}],\"mesh3d\":[{\"colorbar\":{\"outlinewidth\":0,\"ticks\":\"\"},\"type\":\"mesh3d\"}],\"parcoords\":[{\"line\":{\"colorbar\":{\"outlinewidth\":0,\"ticks\":\"\"}},\"type\":\"parcoords\"}],\"pie\":[{\"automargin\":true,\"type\":\"pie\"}],\"scatter3d\":[{\"line\":{\"colorbar\":{\"outlinewidth\":0,\"ticks\":\"\"}},\"marker\":{\"colorbar\":{\"outlinewidth\":0,\"ticks\":\"\"}},\"type\":\"scatter3d\"}],\"scattercarpet\":[{\"marker\":{\"colorbar\":{\"outlinewidth\":0,\"ticks\":\"\"}},\"type\":\"scattercarpet\"}],\"scattergeo\":[{\"marker\":{\"colorbar\":{\"outlinewidth\":0,\"ticks\":\"\"}},\"type\":\"scattergeo\"}],\"scattergl\":[{\"marker\":{\"colorbar\":{\"outlinewidth\":0,\"ticks\":\"\"}},\"type\":\"scattergl\"}],\"scattermapbox\":[{\"marker\":{\"colorbar\":{\"outlinewidth\":0,\"ticks\":\"\"}},\"type\":\"scattermapbox\"}],\"scatterpolargl\":[{\"marker\":{\"colorbar\":{\"outlinewidth\":0,\"ticks\":\"\"}},\"type\":\"scatterpolargl\"}],\"scatterpolar\":[{\"marker\":{\"colorbar\":{\"outlinewidth\":0,\"ticks\":\"\"}},\"type\":\"scatterpolar\"}],\"scatter\":[{\"marker\":{\"colorbar\":{\"outlinewidth\":0,\"ticks\":\"\"}},\"type\":\"scatter\"}],\"scatterternary\":[{\"marker\":{\"colorbar\":{\"outlinewidth\":0,\"ticks\":\"\"}},\"type\":\"scatterternary\"}],\"surface\":[{\"colorbar\":{\"outlinewidth\":0,\"ticks\":\"\"},\"colorscale\":[[0.0,\"#0d0887\"],[0.1111111111111111,\"#46039f\"],[0.2222222222222222,\"#7201a8\"],[0.3333333333333333,\"#9c179e\"],[0.4444444444444444,\"#bd3786\"],[0.5555555555555556,\"#d8576b\"],[0.6666666666666666,\"#ed7953\"],[0.7777777777777778,\"#fb9f3a\"],[0.8888888888888888,\"#fdca26\"],[1.0,\"#f0f921\"]],\"type\":\"surface\"}],\"table\":[{\"cells\":{\"fill\":{\"color\":\"#EBF0F8\"},\"line\":{\"color\":\"white\"}},\"header\":{\"fill\":{\"color\":\"#C8D4E3\"},\"line\":{\"color\":\"white\"}},\"type\":\"table\"}]},\"layout\":{\"annotationdefaults\":{\"arrowcolor\":\"#2a3f5f\",\"arrowhead\":0,\"arrowwidth\":1},\"autotypenumbers\":\"strict\",\"coloraxis\":{\"colorbar\":{\"outlinewidth\":0,\"ticks\":\"\"}},\"colorscale\":{\"diverging\":[[0,\"#8e0152\"],[0.1,\"#c51b7d\"],[0.2,\"#de77ae\"],[0.3,\"#f1b6da\"],[0.4,\"#fde0ef\"],[0.5,\"#f7f7f7\"],[0.6,\"#e6f5d0\"],[0.7,\"#b8e186\"],[0.8,\"#7fbc41\"],[0.9,\"#4d9221\"],[1,\"#276419\"]],\"sequential\":[[0.0,\"#0d0887\"],[0.1111111111111111,\"#46039f\"],[0.2222222222222222,\"#7201a8\"],[0.3333333333333333,\"#9c179e\"],[0.4444444444444444,\"#bd3786\"],[0.5555555555555556,\"#d8576b\"],[0.6666666666666666,\"#ed7953\"],[0.7777777777777778,\"#fb9f3a\"],[0.8888888888888888,\"#fdca26\"],[1.0,\"#f0f921\"]],\"sequentialminus\":[[0.0,\"#0d0887\"],[0.1111111111111111,\"#46039f\"],[0.2222222222222222,\"#7201a8\"],[0.3333333333333333,\"#9c179e\"],[0.4444444444444444,\"#bd3786\"],[0.5555555555555556,\"#d8576b\"],[0.6666666666666666,\"#ed7953\"],[0.7777777777777778,\"#fb9f3a\"],[0.8888888888888888,\"#fdca26\"],[1.0,\"#f0f921\"]]},\"colorway\":[\"#636efa\",\"#EF553B\",\"#00cc96\",\"#ab63fa\",\"#FFA15A\",\"#19d3f3\",\"#FF6692\",\"#B6E880\",\"#FF97FF\",\"#FECB52\"],\"font\":{\"color\":\"#2a3f5f\"},\"geo\":{\"bgcolor\":\"white\",\"lakecolor\":\"white\",\"landcolor\":\"#E5ECF6\",\"showlakes\":true,\"showland\":true,\"subunitcolor\":\"white\"},\"hoverlabel\":{\"align\":\"left\"},\"hovermode\":\"closest\",\"mapbox\":{\"style\":\"light\"},\"paper_bgcolor\":\"white\",\"plot_bgcolor\":\"#E5ECF6\",\"polar\":{\"angularaxis\":{\"gridcolor\":\"white\",\"linecolor\":\"white\",\"ticks\":\"\"},\"bgcolor\":\"#E5ECF6\",\"radialaxis\":{\"gridcolor\":\"white\",\"linecolor\":\"white\",\"ticks\":\"\"}},\"scene\":{\"xaxis\":{\"backgroundcolor\":\"#E5ECF6\",\"gridcolor\":\"white\",\"gridwidth\":2,\"linecolor\":\"white\",\"showbackground\":true,\"ticks\":\"\",\"zerolinecolor\":\"white\"},\"yaxis\":{\"backgroundcolor\":\"#E5ECF6\",\"gridcolor\":\"white\",\"gridwidth\":2,\"linecolor\":\"white\",\"showbackground\":true,\"ticks\":\"\",\"zerolinecolor\":\"white\"},\"zaxis\":{\"backgroundcolor\":\"#E5ECF6\",\"gridcolor\":\"white\",\"gridwidth\":2,\"linecolor\":\"white\",\"showbackground\":true,\"ticks\":\"\",\"zerolinecolor\":\"white\"}},\"shapedefaults\":{\"line\":{\"color\":\"#2a3f5f\"}},\"ternary\":{\"aaxis\":{\"gridcolor\":\"white\",\"linecolor\":\"white\",\"ticks\":\"\"},\"baxis\":{\"gridcolor\":\"white\",\"linecolor\":\"white\",\"ticks\":\"\"},\"bgcolor\":\"#E5ECF6\",\"caxis\":{\"gridcolor\":\"white\",\"linecolor\":\"white\",\"ticks\":\"\"}},\"title\":{\"x\":0.05},\"xaxis\":{\"automargin\":true,\"gridcolor\":\"white\",\"linecolor\":\"white\",\"ticks\":\"\",\"title\":{\"standoff\":15},\"zerolinecolor\":\"white\",\"zerolinewidth\":2},\"yaxis\":{\"automargin\":true,\"gridcolor\":\"white\",\"linecolor\":\"white\",\"ticks\":\"\",\"title\":{\"standoff\":15},\"zerolinecolor\":\"white\",\"zerolinewidth\":2}}},\"title\":{\"font\":{\"color\":\"#4D5663\"}},\"xaxis\":{\"gridcolor\":\"#E1E5ED\",\"showgrid\":true,\"tickfont\":{\"color\":\"#4D5663\"},\"title\":{\"font\":{\"color\":\"#4D5663\"},\"text\":\"\"},\"zerolinecolor\":\"#E1E5ED\"},\"yaxis\":{\"gridcolor\":\"#E1E5ED\",\"showgrid\":true,\"tickfont\":{\"color\":\"#4D5663\"},\"title\":{\"font\":{\"color\":\"#4D5663\"},\"text\":\"\"},\"zerolinecolor\":\"#E1E5ED\"}},                        {\"showLink\": true, \"linkText\": \"Export to plot.ly\", \"plotlyServerURL\": \"https://plot.ly\", \"responsive\": true}                    ).then(function(){\n",
       "                            \n",
       "var gd = document.getElementById('9ce1c87f-824d-4ae3-a99e-38471684d180');\n",
       "var x = new MutationObserver(function (mutations, observer) {{\n",
       "        var display = window.getComputedStyle(gd).display;\n",
       "        if (!display || display === 'none') {{\n",
       "            console.log([gd, 'removed!']);\n",
       "            Plotly.purge(gd);\n",
       "            observer.disconnect();\n",
       "        }}\n",
       "}});\n",
       "\n",
       "// Listen for the removal of the full notebook cells\n",
       "var notebookContainer = gd.closest('#notebook-container');\n",
       "if (notebookContainer) {{\n",
       "    x.observe(notebookContainer, {childList: true});\n",
       "}}\n",
       "\n",
       "// Listen for the clearing of the current output cell\n",
       "var outputEl = gd.closest('.output');\n",
       "if (outputEl) {{\n",
       "    x.observe(outputEl, {childList: true});\n",
       "}}\n",
       "\n",
       "                        })                };                });            </script>        </div>"
      ]
     },
     "metadata": {},
     "output_type": "display_data"
    }
   ],
   "source": [
    "df.iplot(kind='scatter', x='A', y='B', mode='markers',size=10)"
   ]
  },
  {
   "cell_type": "markdown",
   "metadata": {},
   "source": [
    "# Bar Plots"
   ]
  },
  {
   "cell_type": "code",
   "execution_count": 8,
   "metadata": {},
   "outputs": [
    {
     "data": {
      "text/html": [
       "<div>\n",
       "<style scoped>\n",
       "    .dataframe tbody tr th:only-of-type {\n",
       "        vertical-align: middle;\n",
       "    }\n",
       "\n",
       "    .dataframe tbody tr th {\n",
       "        vertical-align: top;\n",
       "    }\n",
       "\n",
       "    .dataframe thead th {\n",
       "        text-align: right;\n",
       "    }\n",
       "</style>\n",
       "<table border=\"1\" class=\"dataframe\">\n",
       "  <thead>\n",
       "    <tr style=\"text-align: right;\">\n",
       "      <th></th>\n",
       "      <th>Category</th>\n",
       "      <th>Values</th>\n",
       "    </tr>\n",
       "  </thead>\n",
       "  <tbody>\n",
       "    <tr>\n",
       "      <th>0</th>\n",
       "      <td>A</td>\n",
       "      <td>32</td>\n",
       "    </tr>\n",
       "    <tr>\n",
       "      <th>1</th>\n",
       "      <td>B</td>\n",
       "      <td>43</td>\n",
       "    </tr>\n",
       "    <tr>\n",
       "      <th>2</th>\n",
       "      <td>C</td>\n",
       "      <td>50</td>\n",
       "    </tr>\n",
       "  </tbody>\n",
       "</table>\n",
       "</div>"
      ],
      "text/plain": [
       "  Category  Values\n",
       "0        A      32\n",
       "1        B      43\n",
       "2        C      50"
      ]
     },
     "execution_count": 8,
     "metadata": {},
     "output_type": "execute_result"
    }
   ],
   "source": [
    "df2 = pd.DataFrame({'Category':['A','B','C'],'Values':[32,43,50]})\n",
    "df2.head()"
   ]
  },
  {
   "cell_type": "code",
   "execution_count": 9,
   "metadata": {},
   "outputs": [
    {
     "data": {
      "application/vnd.plotly.v1+json": {
       "config": {
        "linkText": "Export to plot.ly",
        "plotlyServerURL": "https://plot.ly",
        "showLink": true
       },
       "data": [
        {
         "marker": {
          "color": "rgba(255, 153, 51, 0.6)",
          "line": {
           "color": "rgba(255, 153, 51, 1.0)",
           "width": 1
          }
         },
         "name": "Values",
         "orientation": "v",
         "text": "",
         "type": "bar",
         "x": [
          "A",
          "B",
          "C"
         ],
         "y": [
          32,
          43,
          50
         ]
        }
       ],
       "layout": {
        "legend": {
         "bgcolor": "#F5F6F9",
         "font": {
          "color": "#4D5663"
         }
        },
        "paper_bgcolor": "#F5F6F9",
        "plot_bgcolor": "#F5F6F9",
        "template": {
         "data": {
          "bar": [
           {
            "error_x": {
             "color": "#2a3f5f"
            },
            "error_y": {
             "color": "#2a3f5f"
            },
            "marker": {
             "line": {
              "color": "#E5ECF6",
              "width": 0.5
             },
             "pattern": {
              "fillmode": "overlay",
              "size": 10,
              "solidity": 0.2
             }
            },
            "type": "bar"
           }
          ],
          "barpolar": [
           {
            "marker": {
             "line": {
              "color": "#E5ECF6",
              "width": 0.5
             },
             "pattern": {
              "fillmode": "overlay",
              "size": 10,
              "solidity": 0.2
             }
            },
            "type": "barpolar"
           }
          ],
          "carpet": [
           {
            "aaxis": {
             "endlinecolor": "#2a3f5f",
             "gridcolor": "white",
             "linecolor": "white",
             "minorgridcolor": "white",
             "startlinecolor": "#2a3f5f"
            },
            "baxis": {
             "endlinecolor": "#2a3f5f",
             "gridcolor": "white",
             "linecolor": "white",
             "minorgridcolor": "white",
             "startlinecolor": "#2a3f5f"
            },
            "type": "carpet"
           }
          ],
          "choropleth": [
           {
            "colorbar": {
             "outlinewidth": 0,
             "ticks": ""
            },
            "type": "choropleth"
           }
          ],
          "contour": [
           {
            "colorbar": {
             "outlinewidth": 0,
             "ticks": ""
            },
            "colorscale": [
             [
              0,
              "#0d0887"
             ],
             [
              0.1111111111111111,
              "#46039f"
             ],
             [
              0.2222222222222222,
              "#7201a8"
             ],
             [
              0.3333333333333333,
              "#9c179e"
             ],
             [
              0.4444444444444444,
              "#bd3786"
             ],
             [
              0.5555555555555556,
              "#d8576b"
             ],
             [
              0.6666666666666666,
              "#ed7953"
             ],
             [
              0.7777777777777778,
              "#fb9f3a"
             ],
             [
              0.8888888888888888,
              "#fdca26"
             ],
             [
              1,
              "#f0f921"
             ]
            ],
            "type": "contour"
           }
          ],
          "contourcarpet": [
           {
            "colorbar": {
             "outlinewidth": 0,
             "ticks": ""
            },
            "type": "contourcarpet"
           }
          ],
          "heatmap": [
           {
            "colorbar": {
             "outlinewidth": 0,
             "ticks": ""
            },
            "colorscale": [
             [
              0,
              "#0d0887"
             ],
             [
              0.1111111111111111,
              "#46039f"
             ],
             [
              0.2222222222222222,
              "#7201a8"
             ],
             [
              0.3333333333333333,
              "#9c179e"
             ],
             [
              0.4444444444444444,
              "#bd3786"
             ],
             [
              0.5555555555555556,
              "#d8576b"
             ],
             [
              0.6666666666666666,
              "#ed7953"
             ],
             [
              0.7777777777777778,
              "#fb9f3a"
             ],
             [
              0.8888888888888888,
              "#fdca26"
             ],
             [
              1,
              "#f0f921"
             ]
            ],
            "type": "heatmap"
           }
          ],
          "heatmapgl": [
           {
            "colorbar": {
             "outlinewidth": 0,
             "ticks": ""
            },
            "colorscale": [
             [
              0,
              "#0d0887"
             ],
             [
              0.1111111111111111,
              "#46039f"
             ],
             [
              0.2222222222222222,
              "#7201a8"
             ],
             [
              0.3333333333333333,
              "#9c179e"
             ],
             [
              0.4444444444444444,
              "#bd3786"
             ],
             [
              0.5555555555555556,
              "#d8576b"
             ],
             [
              0.6666666666666666,
              "#ed7953"
             ],
             [
              0.7777777777777778,
              "#fb9f3a"
             ],
             [
              0.8888888888888888,
              "#fdca26"
             ],
             [
              1,
              "#f0f921"
             ]
            ],
            "type": "heatmapgl"
           }
          ],
          "histogram": [
           {
            "marker": {
             "pattern": {
              "fillmode": "overlay",
              "size": 10,
              "solidity": 0.2
             }
            },
            "type": "histogram"
           }
          ],
          "histogram2d": [
           {
            "colorbar": {
             "outlinewidth": 0,
             "ticks": ""
            },
            "colorscale": [
             [
              0,
              "#0d0887"
             ],
             [
              0.1111111111111111,
              "#46039f"
             ],
             [
              0.2222222222222222,
              "#7201a8"
             ],
             [
              0.3333333333333333,
              "#9c179e"
             ],
             [
              0.4444444444444444,
              "#bd3786"
             ],
             [
              0.5555555555555556,
              "#d8576b"
             ],
             [
              0.6666666666666666,
              "#ed7953"
             ],
             [
              0.7777777777777778,
              "#fb9f3a"
             ],
             [
              0.8888888888888888,
              "#fdca26"
             ],
             [
              1,
              "#f0f921"
             ]
            ],
            "type": "histogram2d"
           }
          ],
          "histogram2dcontour": [
           {
            "colorbar": {
             "outlinewidth": 0,
             "ticks": ""
            },
            "colorscale": [
             [
              0,
              "#0d0887"
             ],
             [
              0.1111111111111111,
              "#46039f"
             ],
             [
              0.2222222222222222,
              "#7201a8"
             ],
             [
              0.3333333333333333,
              "#9c179e"
             ],
             [
              0.4444444444444444,
              "#bd3786"
             ],
             [
              0.5555555555555556,
              "#d8576b"
             ],
             [
              0.6666666666666666,
              "#ed7953"
             ],
             [
              0.7777777777777778,
              "#fb9f3a"
             ],
             [
              0.8888888888888888,
              "#fdca26"
             ],
             [
              1,
              "#f0f921"
             ]
            ],
            "type": "histogram2dcontour"
           }
          ],
          "mesh3d": [
           {
            "colorbar": {
             "outlinewidth": 0,
             "ticks": ""
            },
            "type": "mesh3d"
           }
          ],
          "parcoords": [
           {
            "line": {
             "colorbar": {
              "outlinewidth": 0,
              "ticks": ""
             }
            },
            "type": "parcoords"
           }
          ],
          "pie": [
           {
            "automargin": true,
            "type": "pie"
           }
          ],
          "scatter": [
           {
            "marker": {
             "colorbar": {
              "outlinewidth": 0,
              "ticks": ""
             }
            },
            "type": "scatter"
           }
          ],
          "scatter3d": [
           {
            "line": {
             "colorbar": {
              "outlinewidth": 0,
              "ticks": ""
             }
            },
            "marker": {
             "colorbar": {
              "outlinewidth": 0,
              "ticks": ""
             }
            },
            "type": "scatter3d"
           }
          ],
          "scattercarpet": [
           {
            "marker": {
             "colorbar": {
              "outlinewidth": 0,
              "ticks": ""
             }
            },
            "type": "scattercarpet"
           }
          ],
          "scattergeo": [
           {
            "marker": {
             "colorbar": {
              "outlinewidth": 0,
              "ticks": ""
             }
            },
            "type": "scattergeo"
           }
          ],
          "scattergl": [
           {
            "marker": {
             "colorbar": {
              "outlinewidth": 0,
              "ticks": ""
             }
            },
            "type": "scattergl"
           }
          ],
          "scattermapbox": [
           {
            "marker": {
             "colorbar": {
              "outlinewidth": 0,
              "ticks": ""
             }
            },
            "type": "scattermapbox"
           }
          ],
          "scatterpolar": [
           {
            "marker": {
             "colorbar": {
              "outlinewidth": 0,
              "ticks": ""
             }
            },
            "type": "scatterpolar"
           }
          ],
          "scatterpolargl": [
           {
            "marker": {
             "colorbar": {
              "outlinewidth": 0,
              "ticks": ""
             }
            },
            "type": "scatterpolargl"
           }
          ],
          "scatterternary": [
           {
            "marker": {
             "colorbar": {
              "outlinewidth": 0,
              "ticks": ""
             }
            },
            "type": "scatterternary"
           }
          ],
          "surface": [
           {
            "colorbar": {
             "outlinewidth": 0,
             "ticks": ""
            },
            "colorscale": [
             [
              0,
              "#0d0887"
             ],
             [
              0.1111111111111111,
              "#46039f"
             ],
             [
              0.2222222222222222,
              "#7201a8"
             ],
             [
              0.3333333333333333,
              "#9c179e"
             ],
             [
              0.4444444444444444,
              "#bd3786"
             ],
             [
              0.5555555555555556,
              "#d8576b"
             ],
             [
              0.6666666666666666,
              "#ed7953"
             ],
             [
              0.7777777777777778,
              "#fb9f3a"
             ],
             [
              0.8888888888888888,
              "#fdca26"
             ],
             [
              1,
              "#f0f921"
             ]
            ],
            "type": "surface"
           }
          ],
          "table": [
           {
            "cells": {
             "fill": {
              "color": "#EBF0F8"
             },
             "line": {
              "color": "white"
             }
            },
            "header": {
             "fill": {
              "color": "#C8D4E3"
             },
             "line": {
              "color": "white"
             }
            },
            "type": "table"
           }
          ]
         },
         "layout": {
          "annotationdefaults": {
           "arrowcolor": "#2a3f5f",
           "arrowhead": 0,
           "arrowwidth": 1
          },
          "autotypenumbers": "strict",
          "coloraxis": {
           "colorbar": {
            "outlinewidth": 0,
            "ticks": ""
           }
          },
          "colorscale": {
           "diverging": [
            [
             0,
             "#8e0152"
            ],
            [
             0.1,
             "#c51b7d"
            ],
            [
             0.2,
             "#de77ae"
            ],
            [
             0.3,
             "#f1b6da"
            ],
            [
             0.4,
             "#fde0ef"
            ],
            [
             0.5,
             "#f7f7f7"
            ],
            [
             0.6,
             "#e6f5d0"
            ],
            [
             0.7,
             "#b8e186"
            ],
            [
             0.8,
             "#7fbc41"
            ],
            [
             0.9,
             "#4d9221"
            ],
            [
             1,
             "#276419"
            ]
           ],
           "sequential": [
            [
             0,
             "#0d0887"
            ],
            [
             0.1111111111111111,
             "#46039f"
            ],
            [
             0.2222222222222222,
             "#7201a8"
            ],
            [
             0.3333333333333333,
             "#9c179e"
            ],
            [
             0.4444444444444444,
             "#bd3786"
            ],
            [
             0.5555555555555556,
             "#d8576b"
            ],
            [
             0.6666666666666666,
             "#ed7953"
            ],
            [
             0.7777777777777778,
             "#fb9f3a"
            ],
            [
             0.8888888888888888,
             "#fdca26"
            ],
            [
             1,
             "#f0f921"
            ]
           ],
           "sequentialminus": [
            [
             0,
             "#0d0887"
            ],
            [
             0.1111111111111111,
             "#46039f"
            ],
            [
             0.2222222222222222,
             "#7201a8"
            ],
            [
             0.3333333333333333,
             "#9c179e"
            ],
            [
             0.4444444444444444,
             "#bd3786"
            ],
            [
             0.5555555555555556,
             "#d8576b"
            ],
            [
             0.6666666666666666,
             "#ed7953"
            ],
            [
             0.7777777777777778,
             "#fb9f3a"
            ],
            [
             0.8888888888888888,
             "#fdca26"
            ],
            [
             1,
             "#f0f921"
            ]
           ]
          },
          "colorway": [
           "#636efa",
           "#EF553B",
           "#00cc96",
           "#ab63fa",
           "#FFA15A",
           "#19d3f3",
           "#FF6692",
           "#B6E880",
           "#FF97FF",
           "#FECB52"
          ],
          "font": {
           "color": "#2a3f5f"
          },
          "geo": {
           "bgcolor": "white",
           "lakecolor": "white",
           "landcolor": "#E5ECF6",
           "showlakes": true,
           "showland": true,
           "subunitcolor": "white"
          },
          "hoverlabel": {
           "align": "left"
          },
          "hovermode": "closest",
          "mapbox": {
           "style": "light"
          },
          "paper_bgcolor": "white",
          "plot_bgcolor": "#E5ECF6",
          "polar": {
           "angularaxis": {
            "gridcolor": "white",
            "linecolor": "white",
            "ticks": ""
           },
           "bgcolor": "#E5ECF6",
           "radialaxis": {
            "gridcolor": "white",
            "linecolor": "white",
            "ticks": ""
           }
          },
          "scene": {
           "xaxis": {
            "backgroundcolor": "#E5ECF6",
            "gridcolor": "white",
            "gridwidth": 2,
            "linecolor": "white",
            "showbackground": true,
            "ticks": "",
            "zerolinecolor": "white"
           },
           "yaxis": {
            "backgroundcolor": "#E5ECF6",
            "gridcolor": "white",
            "gridwidth": 2,
            "linecolor": "white",
            "showbackground": true,
            "ticks": "",
            "zerolinecolor": "white"
           },
           "zaxis": {
            "backgroundcolor": "#E5ECF6",
            "gridcolor": "white",
            "gridwidth": 2,
            "linecolor": "white",
            "showbackground": true,
            "ticks": "",
            "zerolinecolor": "white"
           }
          },
          "shapedefaults": {
           "line": {
            "color": "#2a3f5f"
           }
          },
          "ternary": {
           "aaxis": {
            "gridcolor": "white",
            "linecolor": "white",
            "ticks": ""
           },
           "baxis": {
            "gridcolor": "white",
            "linecolor": "white",
            "ticks": ""
           },
           "bgcolor": "#E5ECF6",
           "caxis": {
            "gridcolor": "white",
            "linecolor": "white",
            "ticks": ""
           }
          },
          "title": {
           "x": 0.05
          },
          "xaxis": {
           "automargin": true,
           "gridcolor": "white",
           "linecolor": "white",
           "ticks": "",
           "title": {
            "standoff": 15
           },
           "zerolinecolor": "white",
           "zerolinewidth": 2
          },
          "yaxis": {
           "automargin": true,
           "gridcolor": "white",
           "linecolor": "white",
           "ticks": "",
           "title": {
            "standoff": 15
           },
           "zerolinecolor": "white",
           "zerolinewidth": 2
          }
         }
        },
        "title": {
         "font": {
          "color": "#4D5663"
         }
        },
        "xaxis": {
         "gridcolor": "#E1E5ED",
         "showgrid": true,
         "tickfont": {
          "color": "#4D5663"
         },
         "title": {
          "font": {
           "color": "#4D5663"
          },
          "text": ""
         },
         "zerolinecolor": "#E1E5ED"
        },
        "yaxis": {
         "gridcolor": "#E1E5ED",
         "showgrid": true,
         "tickfont": {
          "color": "#4D5663"
         },
         "title": {
          "font": {
           "color": "#4D5663"
          },
          "text": ""
         },
         "zerolinecolor": "#E1E5ED"
        }
       }
      },
      "text/html": [
       "<div>                            <div id=\"7a0564fd-9e07-49fb-a8bb-161b61f09f0e\" class=\"plotly-graph-div\" style=\"height:525px; width:100%;\"></div>            <script type=\"text/javascript\">                require([\"plotly\"], function(Plotly) {                    window.PLOTLYENV=window.PLOTLYENV || {};\n",
       "                    window.PLOTLYENV.BASE_URL='https://plot.ly';                                    if (document.getElementById(\"7a0564fd-9e07-49fb-a8bb-161b61f09f0e\")) {                    Plotly.newPlot(                        \"7a0564fd-9e07-49fb-a8bb-161b61f09f0e\",                        [{\"marker\":{\"color\":\"rgba(255, 153, 51, 0.6)\",\"line\":{\"color\":\"rgba(255, 153, 51, 1.0)\",\"width\":1}},\"name\":\"Values\",\"orientation\":\"v\",\"text\":\"\",\"x\":[\"A\",\"B\",\"C\"],\"y\":[32,43,50],\"type\":\"bar\"}],                        {\"legend\":{\"bgcolor\":\"#F5F6F9\",\"font\":{\"color\":\"#4D5663\"}},\"paper_bgcolor\":\"#F5F6F9\",\"plot_bgcolor\":\"#F5F6F9\",\"template\":{\"data\":{\"barpolar\":[{\"marker\":{\"line\":{\"color\":\"#E5ECF6\",\"width\":0.5},\"pattern\":{\"fillmode\":\"overlay\",\"size\":10,\"solidity\":0.2}},\"type\":\"barpolar\"}],\"bar\":[{\"error_x\":{\"color\":\"#2a3f5f\"},\"error_y\":{\"color\":\"#2a3f5f\"},\"marker\":{\"line\":{\"color\":\"#E5ECF6\",\"width\":0.5},\"pattern\":{\"fillmode\":\"overlay\",\"size\":10,\"solidity\":0.2}},\"type\":\"bar\"}],\"carpet\":[{\"aaxis\":{\"endlinecolor\":\"#2a3f5f\",\"gridcolor\":\"white\",\"linecolor\":\"white\",\"minorgridcolor\":\"white\",\"startlinecolor\":\"#2a3f5f\"},\"baxis\":{\"endlinecolor\":\"#2a3f5f\",\"gridcolor\":\"white\",\"linecolor\":\"white\",\"minorgridcolor\":\"white\",\"startlinecolor\":\"#2a3f5f\"},\"type\":\"carpet\"}],\"choropleth\":[{\"colorbar\":{\"outlinewidth\":0,\"ticks\":\"\"},\"type\":\"choropleth\"}],\"contourcarpet\":[{\"colorbar\":{\"outlinewidth\":0,\"ticks\":\"\"},\"type\":\"contourcarpet\"}],\"contour\":[{\"colorbar\":{\"outlinewidth\":0,\"ticks\":\"\"},\"colorscale\":[[0.0,\"#0d0887\"],[0.1111111111111111,\"#46039f\"],[0.2222222222222222,\"#7201a8\"],[0.3333333333333333,\"#9c179e\"],[0.4444444444444444,\"#bd3786\"],[0.5555555555555556,\"#d8576b\"],[0.6666666666666666,\"#ed7953\"],[0.7777777777777778,\"#fb9f3a\"],[0.8888888888888888,\"#fdca26\"],[1.0,\"#f0f921\"]],\"type\":\"contour\"}],\"heatmapgl\":[{\"colorbar\":{\"outlinewidth\":0,\"ticks\":\"\"},\"colorscale\":[[0.0,\"#0d0887\"],[0.1111111111111111,\"#46039f\"],[0.2222222222222222,\"#7201a8\"],[0.3333333333333333,\"#9c179e\"],[0.4444444444444444,\"#bd3786\"],[0.5555555555555556,\"#d8576b\"],[0.6666666666666666,\"#ed7953\"],[0.7777777777777778,\"#fb9f3a\"],[0.8888888888888888,\"#fdca26\"],[1.0,\"#f0f921\"]],\"type\":\"heatmapgl\"}],\"heatmap\":[{\"colorbar\":{\"outlinewidth\":0,\"ticks\":\"\"},\"colorscale\":[[0.0,\"#0d0887\"],[0.1111111111111111,\"#46039f\"],[0.2222222222222222,\"#7201a8\"],[0.3333333333333333,\"#9c179e\"],[0.4444444444444444,\"#bd3786\"],[0.5555555555555556,\"#d8576b\"],[0.6666666666666666,\"#ed7953\"],[0.7777777777777778,\"#fb9f3a\"],[0.8888888888888888,\"#fdca26\"],[1.0,\"#f0f921\"]],\"type\":\"heatmap\"}],\"histogram2dcontour\":[{\"colorbar\":{\"outlinewidth\":0,\"ticks\":\"\"},\"colorscale\":[[0.0,\"#0d0887\"],[0.1111111111111111,\"#46039f\"],[0.2222222222222222,\"#7201a8\"],[0.3333333333333333,\"#9c179e\"],[0.4444444444444444,\"#bd3786\"],[0.5555555555555556,\"#d8576b\"],[0.6666666666666666,\"#ed7953\"],[0.7777777777777778,\"#fb9f3a\"],[0.8888888888888888,\"#fdca26\"],[1.0,\"#f0f921\"]],\"type\":\"histogram2dcontour\"}],\"histogram2d\":[{\"colorbar\":{\"outlinewidth\":0,\"ticks\":\"\"},\"colorscale\":[[0.0,\"#0d0887\"],[0.1111111111111111,\"#46039f\"],[0.2222222222222222,\"#7201a8\"],[0.3333333333333333,\"#9c179e\"],[0.4444444444444444,\"#bd3786\"],[0.5555555555555556,\"#d8576b\"],[0.6666666666666666,\"#ed7953\"],[0.7777777777777778,\"#fb9f3a\"],[0.8888888888888888,\"#fdca26\"],[1.0,\"#f0f921\"]],\"type\":\"histogram2d\"}],\"histogram\":[{\"marker\":{\"pattern\":{\"fillmode\":\"overlay\",\"size\":10,\"solidity\":0.2}},\"type\":\"histogram\"}],\"mesh3d\":[{\"colorbar\":{\"outlinewidth\":0,\"ticks\":\"\"},\"type\":\"mesh3d\"}],\"parcoords\":[{\"line\":{\"colorbar\":{\"outlinewidth\":0,\"ticks\":\"\"}},\"type\":\"parcoords\"}],\"pie\":[{\"automargin\":true,\"type\":\"pie\"}],\"scatter3d\":[{\"line\":{\"colorbar\":{\"outlinewidth\":0,\"ticks\":\"\"}},\"marker\":{\"colorbar\":{\"outlinewidth\":0,\"ticks\":\"\"}},\"type\":\"scatter3d\"}],\"scattercarpet\":[{\"marker\":{\"colorbar\":{\"outlinewidth\":0,\"ticks\":\"\"}},\"type\":\"scattercarpet\"}],\"scattergeo\":[{\"marker\":{\"colorbar\":{\"outlinewidth\":0,\"ticks\":\"\"}},\"type\":\"scattergeo\"}],\"scattergl\":[{\"marker\":{\"colorbar\":{\"outlinewidth\":0,\"ticks\":\"\"}},\"type\":\"scattergl\"}],\"scattermapbox\":[{\"marker\":{\"colorbar\":{\"outlinewidth\":0,\"ticks\":\"\"}},\"type\":\"scattermapbox\"}],\"scatterpolargl\":[{\"marker\":{\"colorbar\":{\"outlinewidth\":0,\"ticks\":\"\"}},\"type\":\"scatterpolargl\"}],\"scatterpolar\":[{\"marker\":{\"colorbar\":{\"outlinewidth\":0,\"ticks\":\"\"}},\"type\":\"scatterpolar\"}],\"scatter\":[{\"marker\":{\"colorbar\":{\"outlinewidth\":0,\"ticks\":\"\"}},\"type\":\"scatter\"}],\"scatterternary\":[{\"marker\":{\"colorbar\":{\"outlinewidth\":0,\"ticks\":\"\"}},\"type\":\"scatterternary\"}],\"surface\":[{\"colorbar\":{\"outlinewidth\":0,\"ticks\":\"\"},\"colorscale\":[[0.0,\"#0d0887\"],[0.1111111111111111,\"#46039f\"],[0.2222222222222222,\"#7201a8\"],[0.3333333333333333,\"#9c179e\"],[0.4444444444444444,\"#bd3786\"],[0.5555555555555556,\"#d8576b\"],[0.6666666666666666,\"#ed7953\"],[0.7777777777777778,\"#fb9f3a\"],[0.8888888888888888,\"#fdca26\"],[1.0,\"#f0f921\"]],\"type\":\"surface\"}],\"table\":[{\"cells\":{\"fill\":{\"color\":\"#EBF0F8\"},\"line\":{\"color\":\"white\"}},\"header\":{\"fill\":{\"color\":\"#C8D4E3\"},\"line\":{\"color\":\"white\"}},\"type\":\"table\"}]},\"layout\":{\"annotationdefaults\":{\"arrowcolor\":\"#2a3f5f\",\"arrowhead\":0,\"arrowwidth\":1},\"autotypenumbers\":\"strict\",\"coloraxis\":{\"colorbar\":{\"outlinewidth\":0,\"ticks\":\"\"}},\"colorscale\":{\"diverging\":[[0,\"#8e0152\"],[0.1,\"#c51b7d\"],[0.2,\"#de77ae\"],[0.3,\"#f1b6da\"],[0.4,\"#fde0ef\"],[0.5,\"#f7f7f7\"],[0.6,\"#e6f5d0\"],[0.7,\"#b8e186\"],[0.8,\"#7fbc41\"],[0.9,\"#4d9221\"],[1,\"#276419\"]],\"sequential\":[[0.0,\"#0d0887\"],[0.1111111111111111,\"#46039f\"],[0.2222222222222222,\"#7201a8\"],[0.3333333333333333,\"#9c179e\"],[0.4444444444444444,\"#bd3786\"],[0.5555555555555556,\"#d8576b\"],[0.6666666666666666,\"#ed7953\"],[0.7777777777777778,\"#fb9f3a\"],[0.8888888888888888,\"#fdca26\"],[1.0,\"#f0f921\"]],\"sequentialminus\":[[0.0,\"#0d0887\"],[0.1111111111111111,\"#46039f\"],[0.2222222222222222,\"#7201a8\"],[0.3333333333333333,\"#9c179e\"],[0.4444444444444444,\"#bd3786\"],[0.5555555555555556,\"#d8576b\"],[0.6666666666666666,\"#ed7953\"],[0.7777777777777778,\"#fb9f3a\"],[0.8888888888888888,\"#fdca26\"],[1.0,\"#f0f921\"]]},\"colorway\":[\"#636efa\",\"#EF553B\",\"#00cc96\",\"#ab63fa\",\"#FFA15A\",\"#19d3f3\",\"#FF6692\",\"#B6E880\",\"#FF97FF\",\"#FECB52\"],\"font\":{\"color\":\"#2a3f5f\"},\"geo\":{\"bgcolor\":\"white\",\"lakecolor\":\"white\",\"landcolor\":\"#E5ECF6\",\"showlakes\":true,\"showland\":true,\"subunitcolor\":\"white\"},\"hoverlabel\":{\"align\":\"left\"},\"hovermode\":\"closest\",\"mapbox\":{\"style\":\"light\"},\"paper_bgcolor\":\"white\",\"plot_bgcolor\":\"#E5ECF6\",\"polar\":{\"angularaxis\":{\"gridcolor\":\"white\",\"linecolor\":\"white\",\"ticks\":\"\"},\"bgcolor\":\"#E5ECF6\",\"radialaxis\":{\"gridcolor\":\"white\",\"linecolor\":\"white\",\"ticks\":\"\"}},\"scene\":{\"xaxis\":{\"backgroundcolor\":\"#E5ECF6\",\"gridcolor\":\"white\",\"gridwidth\":2,\"linecolor\":\"white\",\"showbackground\":true,\"ticks\":\"\",\"zerolinecolor\":\"white\"},\"yaxis\":{\"backgroundcolor\":\"#E5ECF6\",\"gridcolor\":\"white\",\"gridwidth\":2,\"linecolor\":\"white\",\"showbackground\":true,\"ticks\":\"\",\"zerolinecolor\":\"white\"},\"zaxis\":{\"backgroundcolor\":\"#E5ECF6\",\"gridcolor\":\"white\",\"gridwidth\":2,\"linecolor\":\"white\",\"showbackground\":true,\"ticks\":\"\",\"zerolinecolor\":\"white\"}},\"shapedefaults\":{\"line\":{\"color\":\"#2a3f5f\"}},\"ternary\":{\"aaxis\":{\"gridcolor\":\"white\",\"linecolor\":\"white\",\"ticks\":\"\"},\"baxis\":{\"gridcolor\":\"white\",\"linecolor\":\"white\",\"ticks\":\"\"},\"bgcolor\":\"#E5ECF6\",\"caxis\":{\"gridcolor\":\"white\",\"linecolor\":\"white\",\"ticks\":\"\"}},\"title\":{\"x\":0.05},\"xaxis\":{\"automargin\":true,\"gridcolor\":\"white\",\"linecolor\":\"white\",\"ticks\":\"\",\"title\":{\"standoff\":15},\"zerolinecolor\":\"white\",\"zerolinewidth\":2},\"yaxis\":{\"automargin\":true,\"gridcolor\":\"white\",\"linecolor\":\"white\",\"ticks\":\"\",\"title\":{\"standoff\":15},\"zerolinecolor\":\"white\",\"zerolinewidth\":2}}},\"title\":{\"font\":{\"color\":\"#4D5663\"}},\"xaxis\":{\"gridcolor\":\"#E1E5ED\",\"showgrid\":true,\"tickfont\":{\"color\":\"#4D5663\"},\"title\":{\"font\":{\"color\":\"#4D5663\"},\"text\":\"\"},\"zerolinecolor\":\"#E1E5ED\"},\"yaxis\":{\"gridcolor\":\"#E1E5ED\",\"showgrid\":true,\"tickfont\":{\"color\":\"#4D5663\"},\"title\":{\"font\":{\"color\":\"#4D5663\"},\"text\":\"\"},\"zerolinecolor\":\"#E1E5ED\"}},                        {\"showLink\": true, \"linkText\": \"Export to plot.ly\", \"plotlyServerURL\": \"https://plot.ly\", \"responsive\": true}                    ).then(function(){\n",
       "                            \n",
       "var gd = document.getElementById('7a0564fd-9e07-49fb-a8bb-161b61f09f0e');\n",
       "var x = new MutationObserver(function (mutations, observer) {{\n",
       "        var display = window.getComputedStyle(gd).display;\n",
       "        if (!display || display === 'none') {{\n",
       "            console.log([gd, 'removed!']);\n",
       "            Plotly.purge(gd);\n",
       "            observer.disconnect();\n",
       "        }}\n",
       "}});\n",
       "\n",
       "// Listen for the removal of the full notebook cells\n",
       "var notebookContainer = gd.closest('#notebook-container');\n",
       "if (notebookContainer) {{\n",
       "    x.observe(notebookContainer, {childList: true});\n",
       "}}\n",
       "\n",
       "// Listen for the clearing of the current output cell\n",
       "var outputEl = gd.closest('.output');\n",
       "if (outputEl) {{\n",
       "    x.observe(outputEl, {childList: true});\n",
       "}}\n",
       "\n",
       "                        })                };                });            </script>        </div>"
      ]
     },
     "metadata": {},
     "output_type": "display_data"
    }
   ],
   "source": [
    "df2.iplot(kind='bar',x='Category',y='Values')"
   ]
  },
  {
   "cell_type": "code",
   "execution_count": 10,
   "metadata": {},
   "outputs": [
    {
     "data": {
      "application/vnd.plotly.v1+json": {
       "config": {
        "linkText": "Export to plot.ly",
        "plotlyServerURL": "https://plot.ly",
        "showLink": true
       },
       "data": [
        {
         "marker": {
          "color": "rgba(255, 153, 51, 0.6)",
          "line": {
           "color": "rgba(255, 153, 51, 1.0)",
           "width": 1
          }
         },
         "name": "A",
         "orientation": "v",
         "text": "",
         "type": "bar",
         "x": [
          0,
          1,
          2,
          3,
          4,
          5,
          6,
          7,
          8,
          9,
          10,
          11,
          12,
          13,
          14,
          15,
          16,
          17,
          18,
          19,
          20,
          21,
          22,
          23,
          24,
          25,
          26,
          27,
          28,
          29,
          30,
          31,
          32,
          33,
          34,
          35,
          36,
          37,
          38,
          39,
          40,
          41,
          42,
          43,
          44,
          45,
          46,
          47,
          48,
          49,
          50,
          51,
          52,
          53,
          54,
          55,
          56,
          57,
          58,
          59,
          60,
          61,
          62,
          63,
          64,
          65,
          66,
          67,
          68,
          69,
          70,
          71,
          72,
          73,
          74,
          75,
          76,
          77,
          78,
          79,
          80,
          81,
          82,
          83,
          84,
          85,
          86,
          87,
          88,
          89,
          90,
          91,
          92,
          93,
          94,
          95,
          96,
          97,
          98,
          99
         ],
         "y": [
          -0.7211844881720889,
          -1.460522588285307,
          2.154948856212787,
          -0.49761196784253425,
          0.45284763019750024,
          -0.2146016535662887,
          0.6461779730757492,
          -0.11825227421614609,
          1.2915518225379228,
          0.18608916067102835,
          -1.4874697128735566,
          -2.674955108446302,
          0.9190575231032203,
          -2.5325371551100275,
          -1.6777824953054545,
          -0.5467026438923042,
          0.5889265073259935,
          0.5713454137445192,
          -0.7405110737545675,
          -0.3762010861641179,
          0.1489885436790522,
          0.5826629600411326,
          9.93956133860854e-05,
          1.3228779971160258,
          1.548816618475939,
          1.0493635334616715,
          -0.41796228792981016,
          0.17190353418274495,
          0.26603823982029823,
          1.7748592869778435,
          -0.7486339320839377,
          0.0800193740814564,
          0.024234150399956793,
          -1.2542478347818165,
          0.437098308644309,
          0.703962364809523,
          -1.456325016003159,
          -1.515331912201515,
          -1.6783903384875147,
          -0.4105728612305543,
          -1.609348939801891,
          0.20873382660773848,
          1.7185816695607006,
          1.515224936174814,
          1.0690785260274,
          -1.6264240979749063,
          -0.10391990265168422,
          -1.0109174745146479,
          -1.9146061901244,
          0.8887427941528846,
          1.1887629381499019,
          -2.628399663534101,
          1.4627541154619559,
          1.2193879796116494,
          0.03120731155045379,
          0.19112324160339209,
          -0.41263213724016684,
          1.2195646026171014,
          -0.9357186450127927,
          -0.7735198800180834,
          0.7193889197776803,
          0.6576833793061325,
          -1.056242381180936,
          0.09944112179190494,
          1.0607886466058087,
          1.7480384469434798,
          -0.2925634435299589,
          -2.259658886505214,
          -1.693429506937218,
          2.0564346631440666,
          -0.14075746225916153,
          1.1671358816250528,
          -0.5788602987660235,
          -0.0019086180276748474,
          -1.9031784355512493,
          0.6697468613769787,
          1.2899599026774455,
          1.0937370716707826,
          0.2270561295865113,
          -0.22835157535766273,
          -0.21301396382913657,
          0.2796610966082171,
          0.6150753211568992,
          -0.8829404665561942,
          -0.4656916952739058,
          -0.4252283999883795,
          0.4855630893895303,
          0.21391697236657217,
          -0.24628332366479058,
          0.1698428083437271,
          0.4165353423709389,
          1.0312345779753802,
          -0.3802955308874277,
          -0.24345550305773975,
          -1.6088187152500206,
          1.362642934270473,
          0.5659359812206953,
          -0.08982000068507776,
          0.13460869031949085,
          0.07277500218970358
         ]
        },
        {
         "marker": {
          "color": "rgba(55, 128, 191, 0.6)",
          "line": {
           "color": "rgba(55, 128, 191, 1.0)",
           "width": 1
          }
         },
         "name": "B",
         "orientation": "v",
         "text": "",
         "type": "bar",
         "x": [
          0,
          1,
          2,
          3,
          4,
          5,
          6,
          7,
          8,
          9,
          10,
          11,
          12,
          13,
          14,
          15,
          16,
          17,
          18,
          19,
          20,
          21,
          22,
          23,
          24,
          25,
          26,
          27,
          28,
          29,
          30,
          31,
          32,
          33,
          34,
          35,
          36,
          37,
          38,
          39,
          40,
          41,
          42,
          43,
          44,
          45,
          46,
          47,
          48,
          49,
          50,
          51,
          52,
          53,
          54,
          55,
          56,
          57,
          58,
          59,
          60,
          61,
          62,
          63,
          64,
          65,
          66,
          67,
          68,
          69,
          70,
          71,
          72,
          73,
          74,
          75,
          76,
          77,
          78,
          79,
          80,
          81,
          82,
          83,
          84,
          85,
          86,
          87,
          88,
          89,
          90,
          91,
          92,
          93,
          94,
          95,
          96,
          97,
          98,
          99
         ],
         "y": [
          1.9363176963824915,
          0.783691095069216,
          -1.1913463628659005,
          -0.6441276887203147,
          1.1687904468466739,
          0.6323414704685131,
          -1.2191589935127074,
          -0.2143976718639855,
          -1.9448875532251129,
          -0.28376974222916534,
          1.5782128138754477,
          -1.8196443931299022,
          -0.6407499492278539,
          -0.4211817381995266,
          0.749816068741311,
          1.0357869223281948,
          1.4574441310839379,
          -0.3042344579582755,
          0.19723781050623027,
          -0.5624181531021479,
          -1.4068385344205947,
          -1.467133562334591,
          -0.5674350597043402,
          -2.129336044404162,
          1.1758806168946234,
          -0.16448995704076652,
          -0.9779043170437532,
          -0.34597066195963844,
          0.5646432182256792,
          1.3236523242202396,
          0.6072867513938234,
          -0.568385280381742,
          -1.1186532483940683,
          0.30430474772314803,
          -0.31653229378343317,
          0.10274254004759957,
          -0.4004143253747189,
          -0.5401696407335572,
          -1.7905406758414422,
          -0.3447153898348365,
          0.01640549905721995,
          1.329803844957976,
          -0.2838454848295598,
          -0.7149500718878599,
          2.131509449259118,
          -0.20594262819363468,
          -0.46095460604086497,
          1.3762460600580146,
          -0.5315216700601639,
          0.4330121353014572,
          -1.0421993308088067,
          -1.5558986585240033,
          -1.218392913837334,
          0.44444621727844846,
          -0.3033811422910685,
          -0.2348174161172821,
          0.6761559094978562,
          -0.1433003612459205,
          -0.5021565887281341,
          -0.5643974865846672,
          -0.32738588487886683,
          2.7095465578361577,
          0.18779561954741292,
          -0.179442053806397,
          0.16190622421114106,
          -0.10631574297220216,
          -0.9719562551176633,
          -0.8864656963735614,
          -1.0971579537801677,
          0.5703636600272055,
          0.017455999104761276,
          0.10764563017514592,
          0.6674390203404504,
          -1.5483790010746306,
          0.7855020724347893,
          1.0864443237398242,
          -0.09412775608332852,
          -0.7155961933081841,
          2.1220822162796087,
          0.6706361949388256,
          -0.5290544807432842,
          -2.2005054084000197,
          0.1576792060896083,
          0.09945177553841868,
          -1.8392810801254043,
          -0.9192852920587717,
          2.4718464231328774,
          0.2076321039179723,
          -0.8445272827194005,
          -0.8008434375387793,
          -0.007766019613267419,
          0.5090193899057244,
          -0.0030644485108717303,
          1.2109719752722654,
          -0.8042659230928949,
          0.0639503553332306,
          -0.19669717584049626,
          0.3109834776847498,
          0.27778199066943177,
          0.9202818228115818
         ]
        },
        {
         "marker": {
          "color": "rgba(50, 171, 96, 0.6)",
          "line": {
           "color": "rgba(50, 171, 96, 1.0)",
           "width": 1
          }
         },
         "name": "C",
         "orientation": "v",
         "text": "",
         "type": "bar",
         "x": [
          0,
          1,
          2,
          3,
          4,
          5,
          6,
          7,
          8,
          9,
          10,
          11,
          12,
          13,
          14,
          15,
          16,
          17,
          18,
          19,
          20,
          21,
          22,
          23,
          24,
          25,
          26,
          27,
          28,
          29,
          30,
          31,
          32,
          33,
          34,
          35,
          36,
          37,
          38,
          39,
          40,
          41,
          42,
          43,
          44,
          45,
          46,
          47,
          48,
          49,
          50,
          51,
          52,
          53,
          54,
          55,
          56,
          57,
          58,
          59,
          60,
          61,
          62,
          63,
          64,
          65,
          66,
          67,
          68,
          69,
          70,
          71,
          72,
          73,
          74,
          75,
          76,
          77,
          78,
          79,
          80,
          81,
          82,
          83,
          84,
          85,
          86,
          87,
          88,
          89,
          90,
          91,
          92,
          93,
          94,
          95,
          96,
          97,
          98,
          99
         ],
         "y": [
          1.4859017289979828,
          -0.33882624051823435,
          0.5643405958898692,
          1.2614884985758812,
          1.6779225026293678,
          -1.5007675294668912,
          -0.3133709553042308,
          -0.24881116987413524,
          -0.8984296938782744,
          0.8517918517884915,
          0.7914783840592418,
          1.0118561818366778,
          -0.16940827506921166,
          0.48119272683245096,
          -0.5302480006131105,
          -0.12596380055710518,
          -0.914482692452627,
          0.2430324564669559,
          -0.6271456877220737,
          -0.039243873746583474,
          -0.624373521737248,
          -0.7011493076273844,
          0.34747903798741425,
          -0.703721067051155,
          0.8724572241803034,
          0.5465326745477941,
          -1.0166519623938672,
          -0.22250238064915695,
          0.7798878940201981,
          -0.47769775108492524,
          0.7515736123635777,
          -0.7065355298480203,
          0.5293249332023787,
          -1.1892173218761193,
          2.1194522888672753,
          -0.10986125717974393,
          0.8791148594632846,
          0.5460438641241416,
          -0.30489535972538856,
          0.22483542272608617,
          0.6888768183285222,
          -0.6729712777178668,
          -0.7300028071817591,
          0.2679722597855181,
          0.6035977345794945,
          1.180301839137286,
          -1.2760752780811426,
          0.9142491827677313,
          0.4425859047930506,
          1.154320087707713,
          -2.735241340135281,
          1.1364550696252336,
          0.3001807224411202,
          0.12550119080175973,
          -0.5560080144457152,
          -0.693293437527863,
          3.0194991712263026,
          -0.4262567543938785,
          0.5764953151360391,
          0.45139734451565655,
          -0.167279095942579,
          1.2692271053324897,
          -1.019028606681503,
          -0.6739974262146932,
          0.08992637211206918,
          0.7261097008800064,
          -0.17338081937656077,
          -0.7215243294097896,
          0.09804193397711113,
          -0.42254823205487335,
          -1.3675350240945991,
          0.8495984942986297,
          -2.331481960731101,
          -0.255456500873279,
          -1.0621376786949863,
          1.672461134218411,
          -0.27760778046229584,
          1.2612127949309468,
          -0.9445409907916669,
          -0.7510247839559636,
          0.3586429710448984,
          2.0143853340331566,
          1.0897052639120521,
          1.3917973240762471,
          1.0649228888781936,
          -1.1921019278896943,
          0.3584927758114282,
          -1.446003874283754,
          0.4617132803189797,
          0.022046213056134613,
          -1.0258203592039308,
          -1.7522236855261502,
          0.4623225073343496,
          -0.12079620716968513,
          -0.07238179439131184,
          -0.8239656021056064,
          1.5573934006047707,
          0.011873561422134572,
          0.1454108215874784,
          0.3194758145951463
         ]
        },
        {
         "marker": {
          "color": "rgba(128, 0, 128, 0.6)",
          "line": {
           "color": "rgba(128, 0, 128, 1.0)",
           "width": 1
          }
         },
         "name": "D",
         "orientation": "v",
         "text": "",
         "type": "bar",
         "x": [
          0,
          1,
          2,
          3,
          4,
          5,
          6,
          7,
          8,
          9,
          10,
          11,
          12,
          13,
          14,
          15,
          16,
          17,
          18,
          19,
          20,
          21,
          22,
          23,
          24,
          25,
          26,
          27,
          28,
          29,
          30,
          31,
          32,
          33,
          34,
          35,
          36,
          37,
          38,
          39,
          40,
          41,
          42,
          43,
          44,
          45,
          46,
          47,
          48,
          49,
          50,
          51,
          52,
          53,
          54,
          55,
          56,
          57,
          58,
          59,
          60,
          61,
          62,
          63,
          64,
          65,
          66,
          67,
          68,
          69,
          70,
          71,
          72,
          73,
          74,
          75,
          76,
          77,
          78,
          79,
          80,
          81,
          82,
          83,
          84,
          85,
          86,
          87,
          88,
          89,
          90,
          91,
          92,
          93,
          94,
          95,
          96,
          97,
          98,
          99
         ],
         "y": [
          -1.4248961080733737,
          -0.3273423015501189,
          -1.251243272904655,
          0.03571868360370304,
          -0.8831359287118566,
          -0.4570458265199517,
          0.6669520968804289,
          0.12954797107100285,
          -1.1872784105353085,
          -1.0788534706921908,
          0.30414595111300274,
          -0.5808001420568194,
          0.7181559955419363,
          0.06431165990781074,
          0.4849600848179319,
          1.4650669998186705,
          0.3674900679512842,
          0.4659875208335856,
          1.8188709506352152,
          -2.4086829521242197,
          0.14269415469329055,
          -0.8986756621656249,
          0.24858640874522073,
          -0.6666710092100481,
          0.5312821075428688,
          0.6019372930953827,
          -0.8785566114030708,
          0.681347037704834,
          -0.5275682348277461,
          0.5224893317843847,
          -0.4632983081749662,
          0.11455424289896247,
          -0.5877204962503827,
          -0.2727428023361453,
          0.11871099006403349,
          -0.012220458087781596,
          -0.3418858101884144,
          -0.1701824065150667,
          0.19866144793597726,
          2.2346940769277372,
          0.2699534923198242,
          1.4952770521817178,
          1.9779450932749005,
          -0.1573965657928153,
          0.21480268763970578,
          -0.014537958815027823,
          0.9464220940372752,
          0.6011294964228965,
          -0.5791683004735586,
          -0.14674788751325316,
          0.742208864305391,
          0.5414212853423049,
          -0.9944259857720036,
          -0.2959846855161765,
          0.23580701543961627,
          -1.6600227313443063,
          -0.9233777628566187,
          -0.5238750058782555,
          -2.993809512427146,
          -0.8172655557837051,
          -0.29137604806023587,
          -0.2996317587288255,
          -0.5762542829528886,
          -1.4475470129302017,
          0.7626889846818631,
          -0.11586394220813491,
          0.7333320422309404,
          0.2631279090696038,
          0.15528968037263927,
          -0.4027569275919533,
          1.2364870960612364,
          1.1247560994972394,
          0.158400504315808,
          -0.8953734151597598,
          0.029924998471448666,
          1.0348887702004474,
          -0.08442864675348455,
          2.5868485824131993,
          1.117124451409192,
          -0.8021254788163592,
          1.3609419169157688,
          -0.9939500139315293,
          0.5130557561569394,
          -1.2397896504581485,
          -0.24837163218103428,
          -0.3698617259191884,
          -1.0388166503324645,
          0.9790966570987323,
          -0.11488459891479715,
          0.49015055617855424,
          -0.25275398163526946,
          1.1848213764718107,
          0.23659704857385866,
          -0.2719241288569037,
          1.325505481258998,
          -1.3312249257331565,
          1.2051807720165935,
          0.5847206558372181,
          0.06900031359470782,
          1.0132343277241416
         ]
        }
       ],
       "layout": {
        "legend": {
         "bgcolor": "#F5F6F9",
         "font": {
          "color": "#4D5663"
         }
        },
        "paper_bgcolor": "#F5F6F9",
        "plot_bgcolor": "#F5F6F9",
        "template": {
         "data": {
          "bar": [
           {
            "error_x": {
             "color": "#2a3f5f"
            },
            "error_y": {
             "color": "#2a3f5f"
            },
            "marker": {
             "line": {
              "color": "#E5ECF6",
              "width": 0.5
             },
             "pattern": {
              "fillmode": "overlay",
              "size": 10,
              "solidity": 0.2
             }
            },
            "type": "bar"
           }
          ],
          "barpolar": [
           {
            "marker": {
             "line": {
              "color": "#E5ECF6",
              "width": 0.5
             },
             "pattern": {
              "fillmode": "overlay",
              "size": 10,
              "solidity": 0.2
             }
            },
            "type": "barpolar"
           }
          ],
          "carpet": [
           {
            "aaxis": {
             "endlinecolor": "#2a3f5f",
             "gridcolor": "white",
             "linecolor": "white",
             "minorgridcolor": "white",
             "startlinecolor": "#2a3f5f"
            },
            "baxis": {
             "endlinecolor": "#2a3f5f",
             "gridcolor": "white",
             "linecolor": "white",
             "minorgridcolor": "white",
             "startlinecolor": "#2a3f5f"
            },
            "type": "carpet"
           }
          ],
          "choropleth": [
           {
            "colorbar": {
             "outlinewidth": 0,
             "ticks": ""
            },
            "type": "choropleth"
           }
          ],
          "contour": [
           {
            "colorbar": {
             "outlinewidth": 0,
             "ticks": ""
            },
            "colorscale": [
             [
              0,
              "#0d0887"
             ],
             [
              0.1111111111111111,
              "#46039f"
             ],
             [
              0.2222222222222222,
              "#7201a8"
             ],
             [
              0.3333333333333333,
              "#9c179e"
             ],
             [
              0.4444444444444444,
              "#bd3786"
             ],
             [
              0.5555555555555556,
              "#d8576b"
             ],
             [
              0.6666666666666666,
              "#ed7953"
             ],
             [
              0.7777777777777778,
              "#fb9f3a"
             ],
             [
              0.8888888888888888,
              "#fdca26"
             ],
             [
              1,
              "#f0f921"
             ]
            ],
            "type": "contour"
           }
          ],
          "contourcarpet": [
           {
            "colorbar": {
             "outlinewidth": 0,
             "ticks": ""
            },
            "type": "contourcarpet"
           }
          ],
          "heatmap": [
           {
            "colorbar": {
             "outlinewidth": 0,
             "ticks": ""
            },
            "colorscale": [
             [
              0,
              "#0d0887"
             ],
             [
              0.1111111111111111,
              "#46039f"
             ],
             [
              0.2222222222222222,
              "#7201a8"
             ],
             [
              0.3333333333333333,
              "#9c179e"
             ],
             [
              0.4444444444444444,
              "#bd3786"
             ],
             [
              0.5555555555555556,
              "#d8576b"
             ],
             [
              0.6666666666666666,
              "#ed7953"
             ],
             [
              0.7777777777777778,
              "#fb9f3a"
             ],
             [
              0.8888888888888888,
              "#fdca26"
             ],
             [
              1,
              "#f0f921"
             ]
            ],
            "type": "heatmap"
           }
          ],
          "heatmapgl": [
           {
            "colorbar": {
             "outlinewidth": 0,
             "ticks": ""
            },
            "colorscale": [
             [
              0,
              "#0d0887"
             ],
             [
              0.1111111111111111,
              "#46039f"
             ],
             [
              0.2222222222222222,
              "#7201a8"
             ],
             [
              0.3333333333333333,
              "#9c179e"
             ],
             [
              0.4444444444444444,
              "#bd3786"
             ],
             [
              0.5555555555555556,
              "#d8576b"
             ],
             [
              0.6666666666666666,
              "#ed7953"
             ],
             [
              0.7777777777777778,
              "#fb9f3a"
             ],
             [
              0.8888888888888888,
              "#fdca26"
             ],
             [
              1,
              "#f0f921"
             ]
            ],
            "type": "heatmapgl"
           }
          ],
          "histogram": [
           {
            "marker": {
             "pattern": {
              "fillmode": "overlay",
              "size": 10,
              "solidity": 0.2
             }
            },
            "type": "histogram"
           }
          ],
          "histogram2d": [
           {
            "colorbar": {
             "outlinewidth": 0,
             "ticks": ""
            },
            "colorscale": [
             [
              0,
              "#0d0887"
             ],
             [
              0.1111111111111111,
              "#46039f"
             ],
             [
              0.2222222222222222,
              "#7201a8"
             ],
             [
              0.3333333333333333,
              "#9c179e"
             ],
             [
              0.4444444444444444,
              "#bd3786"
             ],
             [
              0.5555555555555556,
              "#d8576b"
             ],
             [
              0.6666666666666666,
              "#ed7953"
             ],
             [
              0.7777777777777778,
              "#fb9f3a"
             ],
             [
              0.8888888888888888,
              "#fdca26"
             ],
             [
              1,
              "#f0f921"
             ]
            ],
            "type": "histogram2d"
           }
          ],
          "histogram2dcontour": [
           {
            "colorbar": {
             "outlinewidth": 0,
             "ticks": ""
            },
            "colorscale": [
             [
              0,
              "#0d0887"
             ],
             [
              0.1111111111111111,
              "#46039f"
             ],
             [
              0.2222222222222222,
              "#7201a8"
             ],
             [
              0.3333333333333333,
              "#9c179e"
             ],
             [
              0.4444444444444444,
              "#bd3786"
             ],
             [
              0.5555555555555556,
              "#d8576b"
             ],
             [
              0.6666666666666666,
              "#ed7953"
             ],
             [
              0.7777777777777778,
              "#fb9f3a"
             ],
             [
              0.8888888888888888,
              "#fdca26"
             ],
             [
              1,
              "#f0f921"
             ]
            ],
            "type": "histogram2dcontour"
           }
          ],
          "mesh3d": [
           {
            "colorbar": {
             "outlinewidth": 0,
             "ticks": ""
            },
            "type": "mesh3d"
           }
          ],
          "parcoords": [
           {
            "line": {
             "colorbar": {
              "outlinewidth": 0,
              "ticks": ""
             }
            },
            "type": "parcoords"
           }
          ],
          "pie": [
           {
            "automargin": true,
            "type": "pie"
           }
          ],
          "scatter": [
           {
            "marker": {
             "colorbar": {
              "outlinewidth": 0,
              "ticks": ""
             }
            },
            "type": "scatter"
           }
          ],
          "scatter3d": [
           {
            "line": {
             "colorbar": {
              "outlinewidth": 0,
              "ticks": ""
             }
            },
            "marker": {
             "colorbar": {
              "outlinewidth": 0,
              "ticks": ""
             }
            },
            "type": "scatter3d"
           }
          ],
          "scattercarpet": [
           {
            "marker": {
             "colorbar": {
              "outlinewidth": 0,
              "ticks": ""
             }
            },
            "type": "scattercarpet"
           }
          ],
          "scattergeo": [
           {
            "marker": {
             "colorbar": {
              "outlinewidth": 0,
              "ticks": ""
             }
            },
            "type": "scattergeo"
           }
          ],
          "scattergl": [
           {
            "marker": {
             "colorbar": {
              "outlinewidth": 0,
              "ticks": ""
             }
            },
            "type": "scattergl"
           }
          ],
          "scattermapbox": [
           {
            "marker": {
             "colorbar": {
              "outlinewidth": 0,
              "ticks": ""
             }
            },
            "type": "scattermapbox"
           }
          ],
          "scatterpolar": [
           {
            "marker": {
             "colorbar": {
              "outlinewidth": 0,
              "ticks": ""
             }
            },
            "type": "scatterpolar"
           }
          ],
          "scatterpolargl": [
           {
            "marker": {
             "colorbar": {
              "outlinewidth": 0,
              "ticks": ""
             }
            },
            "type": "scatterpolargl"
           }
          ],
          "scatterternary": [
           {
            "marker": {
             "colorbar": {
              "outlinewidth": 0,
              "ticks": ""
             }
            },
            "type": "scatterternary"
           }
          ],
          "surface": [
           {
            "colorbar": {
             "outlinewidth": 0,
             "ticks": ""
            },
            "colorscale": [
             [
              0,
              "#0d0887"
             ],
             [
              0.1111111111111111,
              "#46039f"
             ],
             [
              0.2222222222222222,
              "#7201a8"
             ],
             [
              0.3333333333333333,
              "#9c179e"
             ],
             [
              0.4444444444444444,
              "#bd3786"
             ],
             [
              0.5555555555555556,
              "#d8576b"
             ],
             [
              0.6666666666666666,
              "#ed7953"
             ],
             [
              0.7777777777777778,
              "#fb9f3a"
             ],
             [
              0.8888888888888888,
              "#fdca26"
             ],
             [
              1,
              "#f0f921"
             ]
            ],
            "type": "surface"
           }
          ],
          "table": [
           {
            "cells": {
             "fill": {
              "color": "#EBF0F8"
             },
             "line": {
              "color": "white"
             }
            },
            "header": {
             "fill": {
              "color": "#C8D4E3"
             },
             "line": {
              "color": "white"
             }
            },
            "type": "table"
           }
          ]
         },
         "layout": {
          "annotationdefaults": {
           "arrowcolor": "#2a3f5f",
           "arrowhead": 0,
           "arrowwidth": 1
          },
          "autotypenumbers": "strict",
          "coloraxis": {
           "colorbar": {
            "outlinewidth": 0,
            "ticks": ""
           }
          },
          "colorscale": {
           "diverging": [
            [
             0,
             "#8e0152"
            ],
            [
             0.1,
             "#c51b7d"
            ],
            [
             0.2,
             "#de77ae"
            ],
            [
             0.3,
             "#f1b6da"
            ],
            [
             0.4,
             "#fde0ef"
            ],
            [
             0.5,
             "#f7f7f7"
            ],
            [
             0.6,
             "#e6f5d0"
            ],
            [
             0.7,
             "#b8e186"
            ],
            [
             0.8,
             "#7fbc41"
            ],
            [
             0.9,
             "#4d9221"
            ],
            [
             1,
             "#276419"
            ]
           ],
           "sequential": [
            [
             0,
             "#0d0887"
            ],
            [
             0.1111111111111111,
             "#46039f"
            ],
            [
             0.2222222222222222,
             "#7201a8"
            ],
            [
             0.3333333333333333,
             "#9c179e"
            ],
            [
             0.4444444444444444,
             "#bd3786"
            ],
            [
             0.5555555555555556,
             "#d8576b"
            ],
            [
             0.6666666666666666,
             "#ed7953"
            ],
            [
             0.7777777777777778,
             "#fb9f3a"
            ],
            [
             0.8888888888888888,
             "#fdca26"
            ],
            [
             1,
             "#f0f921"
            ]
           ],
           "sequentialminus": [
            [
             0,
             "#0d0887"
            ],
            [
             0.1111111111111111,
             "#46039f"
            ],
            [
             0.2222222222222222,
             "#7201a8"
            ],
            [
             0.3333333333333333,
             "#9c179e"
            ],
            [
             0.4444444444444444,
             "#bd3786"
            ],
            [
             0.5555555555555556,
             "#d8576b"
            ],
            [
             0.6666666666666666,
             "#ed7953"
            ],
            [
             0.7777777777777778,
             "#fb9f3a"
            ],
            [
             0.8888888888888888,
             "#fdca26"
            ],
            [
             1,
             "#f0f921"
            ]
           ]
          },
          "colorway": [
           "#636efa",
           "#EF553B",
           "#00cc96",
           "#ab63fa",
           "#FFA15A",
           "#19d3f3",
           "#FF6692",
           "#B6E880",
           "#FF97FF",
           "#FECB52"
          ],
          "font": {
           "color": "#2a3f5f"
          },
          "geo": {
           "bgcolor": "white",
           "lakecolor": "white",
           "landcolor": "#E5ECF6",
           "showlakes": true,
           "showland": true,
           "subunitcolor": "white"
          },
          "hoverlabel": {
           "align": "left"
          },
          "hovermode": "closest",
          "mapbox": {
           "style": "light"
          },
          "paper_bgcolor": "white",
          "plot_bgcolor": "#E5ECF6",
          "polar": {
           "angularaxis": {
            "gridcolor": "white",
            "linecolor": "white",
            "ticks": ""
           },
           "bgcolor": "#E5ECF6",
           "radialaxis": {
            "gridcolor": "white",
            "linecolor": "white",
            "ticks": ""
           }
          },
          "scene": {
           "xaxis": {
            "backgroundcolor": "#E5ECF6",
            "gridcolor": "white",
            "gridwidth": 2,
            "linecolor": "white",
            "showbackground": true,
            "ticks": "",
            "zerolinecolor": "white"
           },
           "yaxis": {
            "backgroundcolor": "#E5ECF6",
            "gridcolor": "white",
            "gridwidth": 2,
            "linecolor": "white",
            "showbackground": true,
            "ticks": "",
            "zerolinecolor": "white"
           },
           "zaxis": {
            "backgroundcolor": "#E5ECF6",
            "gridcolor": "white",
            "gridwidth": 2,
            "linecolor": "white",
            "showbackground": true,
            "ticks": "",
            "zerolinecolor": "white"
           }
          },
          "shapedefaults": {
           "line": {
            "color": "#2a3f5f"
           }
          },
          "ternary": {
           "aaxis": {
            "gridcolor": "white",
            "linecolor": "white",
            "ticks": ""
           },
           "baxis": {
            "gridcolor": "white",
            "linecolor": "white",
            "ticks": ""
           },
           "bgcolor": "#E5ECF6",
           "caxis": {
            "gridcolor": "white",
            "linecolor": "white",
            "ticks": ""
           }
          },
          "title": {
           "x": 0.05
          },
          "xaxis": {
           "automargin": true,
           "gridcolor": "white",
           "linecolor": "white",
           "ticks": "",
           "title": {
            "standoff": 15
           },
           "zerolinecolor": "white",
           "zerolinewidth": 2
          },
          "yaxis": {
           "automargin": true,
           "gridcolor": "white",
           "linecolor": "white",
           "ticks": "",
           "title": {
            "standoff": 15
           },
           "zerolinecolor": "white",
           "zerolinewidth": 2
          }
         }
        },
        "title": {
         "font": {
          "color": "#4D5663"
         }
        },
        "xaxis": {
         "gridcolor": "#E1E5ED",
         "showgrid": true,
         "tickfont": {
          "color": "#4D5663"
         },
         "title": {
          "font": {
           "color": "#4D5663"
          },
          "text": ""
         },
         "zerolinecolor": "#E1E5ED"
        },
        "yaxis": {
         "gridcolor": "#E1E5ED",
         "showgrid": true,
         "tickfont": {
          "color": "#4D5663"
         },
         "title": {
          "font": {
           "color": "#4D5663"
          },
          "text": ""
         },
         "zerolinecolor": "#E1E5ED"
        }
       }
      },
      "text/html": [
       "<div>                            <div id=\"560feae8-b967-432e-a9f4-42d01025f441\" class=\"plotly-graph-div\" style=\"height:525px; width:100%;\"></div>            <script type=\"text/javascript\">                require([\"plotly\"], function(Plotly) {                    window.PLOTLYENV=window.PLOTLYENV || {};\n",
       "                    window.PLOTLYENV.BASE_URL='https://plot.ly';                                    if (document.getElementById(\"560feae8-b967-432e-a9f4-42d01025f441\")) {                    Plotly.newPlot(                        \"560feae8-b967-432e-a9f4-42d01025f441\",                        [{\"marker\":{\"color\":\"rgba(255, 153, 51, 0.6)\",\"line\":{\"color\":\"rgba(255, 153, 51, 1.0)\",\"width\":1}},\"name\":\"A\",\"orientation\":\"v\",\"text\":\"\",\"x\":[0,1,2,3,4,5,6,7,8,9,10,11,12,13,14,15,16,17,18,19,20,21,22,23,24,25,26,27,28,29,30,31,32,33,34,35,36,37,38,39,40,41,42,43,44,45,46,47,48,49,50,51,52,53,54,55,56,57,58,59,60,61,62,63,64,65,66,67,68,69,70,71,72,73,74,75,76,77,78,79,80,81,82,83,84,85,86,87,88,89,90,91,92,93,94,95,96,97,98,99],\"y\":[-0.7211844881720889,-1.460522588285307,2.154948856212787,-0.49761196784253425,0.45284763019750024,-0.2146016535662887,0.6461779730757492,-0.11825227421614609,1.2915518225379228,0.18608916067102835,-1.4874697128735566,-2.674955108446302,0.9190575231032203,-2.5325371551100275,-1.6777824953054545,-0.5467026438923042,0.5889265073259935,0.5713454137445192,-0.7405110737545675,-0.3762010861641179,0.1489885436790522,0.5826629600411326,9.93956133860854e-05,1.3228779971160258,1.548816618475939,1.0493635334616715,-0.41796228792981016,0.17190353418274495,0.26603823982029823,1.7748592869778435,-0.7486339320839377,0.0800193740814564,0.024234150399956793,-1.2542478347818165,0.437098308644309,0.703962364809523,-1.456325016003159,-1.515331912201515,-1.6783903384875147,-0.4105728612305543,-1.609348939801891,0.20873382660773848,1.7185816695607006,1.515224936174814,1.0690785260274,-1.6264240979749063,-0.10391990265168422,-1.0109174745146479,-1.9146061901244,0.8887427941528846,1.1887629381499019,-2.628399663534101,1.4627541154619559,1.2193879796116494,0.03120731155045379,0.19112324160339209,-0.41263213724016684,1.2195646026171014,-0.9357186450127927,-0.7735198800180834,0.7193889197776803,0.6576833793061325,-1.056242381180936,0.09944112179190494,1.0607886466058087,1.7480384469434798,-0.2925634435299589,-2.259658886505214,-1.693429506937218,2.0564346631440666,-0.14075746225916153,1.1671358816250528,-0.5788602987660235,-0.0019086180276748474,-1.9031784355512493,0.6697468613769787,1.2899599026774455,1.0937370716707826,0.2270561295865113,-0.22835157535766273,-0.21301396382913657,0.2796610966082171,0.6150753211568992,-0.8829404665561942,-0.4656916952739058,-0.4252283999883795,0.4855630893895303,0.21391697236657217,-0.24628332366479058,0.1698428083437271,0.4165353423709389,1.0312345779753802,-0.3802955308874277,-0.24345550305773975,-1.6088187152500206,1.362642934270473,0.5659359812206953,-0.08982000068507776,0.13460869031949085,0.07277500218970358],\"type\":\"bar\"},{\"marker\":{\"color\":\"rgba(55, 128, 191, 0.6)\",\"line\":{\"color\":\"rgba(55, 128, 191, 1.0)\",\"width\":1}},\"name\":\"B\",\"orientation\":\"v\",\"text\":\"\",\"x\":[0,1,2,3,4,5,6,7,8,9,10,11,12,13,14,15,16,17,18,19,20,21,22,23,24,25,26,27,28,29,30,31,32,33,34,35,36,37,38,39,40,41,42,43,44,45,46,47,48,49,50,51,52,53,54,55,56,57,58,59,60,61,62,63,64,65,66,67,68,69,70,71,72,73,74,75,76,77,78,79,80,81,82,83,84,85,86,87,88,89,90,91,92,93,94,95,96,97,98,99],\"y\":[1.9363176963824915,0.783691095069216,-1.1913463628659005,-0.6441276887203147,1.1687904468466739,0.6323414704685131,-1.2191589935127074,-0.2143976718639855,-1.9448875532251129,-0.28376974222916534,1.5782128138754477,-1.8196443931299022,-0.6407499492278539,-0.4211817381995266,0.749816068741311,1.0357869223281948,1.4574441310839379,-0.3042344579582755,0.19723781050623027,-0.5624181531021479,-1.4068385344205947,-1.467133562334591,-0.5674350597043402,-2.129336044404162,1.1758806168946234,-0.16448995704076652,-0.9779043170437532,-0.34597066195963844,0.5646432182256792,1.3236523242202396,0.6072867513938234,-0.568385280381742,-1.1186532483940683,0.30430474772314803,-0.31653229378343317,0.10274254004759957,-0.4004143253747189,-0.5401696407335572,-1.7905406758414422,-0.3447153898348365,0.01640549905721995,1.329803844957976,-0.2838454848295598,-0.7149500718878599,2.131509449259118,-0.20594262819363468,-0.46095460604086497,1.3762460600580146,-0.5315216700601639,0.4330121353014572,-1.0421993308088067,-1.5558986585240033,-1.218392913837334,0.44444621727844846,-0.3033811422910685,-0.2348174161172821,0.6761559094978562,-0.1433003612459205,-0.5021565887281341,-0.5643974865846672,-0.32738588487886683,2.7095465578361577,0.18779561954741292,-0.179442053806397,0.16190622421114106,-0.10631574297220216,-0.9719562551176633,-0.8864656963735614,-1.0971579537801677,0.5703636600272055,0.017455999104761276,0.10764563017514592,0.6674390203404504,-1.5483790010746306,0.7855020724347893,1.0864443237398242,-0.09412775608332852,-0.7155961933081841,2.1220822162796087,0.6706361949388256,-0.5290544807432842,-2.2005054084000197,0.1576792060896083,0.09945177553841868,-1.8392810801254043,-0.9192852920587717,2.4718464231328774,0.2076321039179723,-0.8445272827194005,-0.8008434375387793,-0.007766019613267419,0.5090193899057244,-0.0030644485108717303,1.2109719752722654,-0.8042659230928949,0.0639503553332306,-0.19669717584049626,0.3109834776847498,0.27778199066943177,0.9202818228115818],\"type\":\"bar\"},{\"marker\":{\"color\":\"rgba(50, 171, 96, 0.6)\",\"line\":{\"color\":\"rgba(50, 171, 96, 1.0)\",\"width\":1}},\"name\":\"C\",\"orientation\":\"v\",\"text\":\"\",\"x\":[0,1,2,3,4,5,6,7,8,9,10,11,12,13,14,15,16,17,18,19,20,21,22,23,24,25,26,27,28,29,30,31,32,33,34,35,36,37,38,39,40,41,42,43,44,45,46,47,48,49,50,51,52,53,54,55,56,57,58,59,60,61,62,63,64,65,66,67,68,69,70,71,72,73,74,75,76,77,78,79,80,81,82,83,84,85,86,87,88,89,90,91,92,93,94,95,96,97,98,99],\"y\":[1.4859017289979828,-0.33882624051823435,0.5643405958898692,1.2614884985758812,1.6779225026293678,-1.5007675294668912,-0.3133709553042308,-0.24881116987413524,-0.8984296938782744,0.8517918517884915,0.7914783840592418,1.0118561818366778,-0.16940827506921166,0.48119272683245096,-0.5302480006131105,-0.12596380055710518,-0.914482692452627,0.2430324564669559,-0.6271456877220737,-0.039243873746583474,-0.624373521737248,-0.7011493076273844,0.34747903798741425,-0.703721067051155,0.8724572241803034,0.5465326745477941,-1.0166519623938672,-0.22250238064915695,0.7798878940201981,-0.47769775108492524,0.7515736123635777,-0.7065355298480203,0.5293249332023787,-1.1892173218761193,2.1194522888672753,-0.10986125717974393,0.8791148594632846,0.5460438641241416,-0.30489535972538856,0.22483542272608617,0.6888768183285222,-0.6729712777178668,-0.7300028071817591,0.2679722597855181,0.6035977345794945,1.180301839137286,-1.2760752780811426,0.9142491827677313,0.4425859047930506,1.154320087707713,-2.735241340135281,1.1364550696252336,0.3001807224411202,0.12550119080175973,-0.5560080144457152,-0.693293437527863,3.0194991712263026,-0.4262567543938785,0.5764953151360391,0.45139734451565655,-0.167279095942579,1.2692271053324897,-1.019028606681503,-0.6739974262146932,0.08992637211206918,0.7261097008800064,-0.17338081937656077,-0.7215243294097896,0.09804193397711113,-0.42254823205487335,-1.3675350240945991,0.8495984942986297,-2.331481960731101,-0.255456500873279,-1.0621376786949863,1.672461134218411,-0.27760778046229584,1.2612127949309468,-0.9445409907916669,-0.7510247839559636,0.3586429710448984,2.0143853340331566,1.0897052639120521,1.3917973240762471,1.0649228888781936,-1.1921019278896943,0.3584927758114282,-1.446003874283754,0.4617132803189797,0.022046213056134613,-1.0258203592039308,-1.7522236855261502,0.4623225073343496,-0.12079620716968513,-0.07238179439131184,-0.8239656021056064,1.5573934006047707,0.011873561422134572,0.1454108215874784,0.3194758145951463],\"type\":\"bar\"},{\"marker\":{\"color\":\"rgba(128, 0, 128, 0.6)\",\"line\":{\"color\":\"rgba(128, 0, 128, 1.0)\",\"width\":1}},\"name\":\"D\",\"orientation\":\"v\",\"text\":\"\",\"x\":[0,1,2,3,4,5,6,7,8,9,10,11,12,13,14,15,16,17,18,19,20,21,22,23,24,25,26,27,28,29,30,31,32,33,34,35,36,37,38,39,40,41,42,43,44,45,46,47,48,49,50,51,52,53,54,55,56,57,58,59,60,61,62,63,64,65,66,67,68,69,70,71,72,73,74,75,76,77,78,79,80,81,82,83,84,85,86,87,88,89,90,91,92,93,94,95,96,97,98,99],\"y\":[-1.4248961080733737,-0.3273423015501189,-1.251243272904655,0.03571868360370304,-0.8831359287118566,-0.4570458265199517,0.6669520968804289,0.12954797107100285,-1.1872784105353085,-1.0788534706921908,0.30414595111300274,-0.5808001420568194,0.7181559955419363,0.06431165990781074,0.4849600848179319,1.4650669998186705,0.3674900679512842,0.4659875208335856,1.8188709506352152,-2.4086829521242197,0.14269415469329055,-0.8986756621656249,0.24858640874522073,-0.6666710092100481,0.5312821075428688,0.6019372930953827,-0.8785566114030708,0.681347037704834,-0.5275682348277461,0.5224893317843847,-0.4632983081749662,0.11455424289896247,-0.5877204962503827,-0.2727428023361453,0.11871099006403349,-0.012220458087781596,-0.3418858101884144,-0.1701824065150667,0.19866144793597726,2.2346940769277372,0.2699534923198242,1.4952770521817178,1.9779450932749005,-0.1573965657928153,0.21480268763970578,-0.014537958815027823,0.9464220940372752,0.6011294964228965,-0.5791683004735586,-0.14674788751325316,0.742208864305391,0.5414212853423049,-0.9944259857720036,-0.2959846855161765,0.23580701543961627,-1.6600227313443063,-0.9233777628566187,-0.5238750058782555,-2.993809512427146,-0.8172655557837051,-0.29137604806023587,-0.2996317587288255,-0.5762542829528886,-1.4475470129302017,0.7626889846818631,-0.11586394220813491,0.7333320422309404,0.2631279090696038,0.15528968037263927,-0.4027569275919533,1.2364870960612364,1.1247560994972394,0.158400504315808,-0.8953734151597598,0.029924998471448666,1.0348887702004474,-0.08442864675348455,2.5868485824131993,1.117124451409192,-0.8021254788163592,1.3609419169157688,-0.9939500139315293,0.5130557561569394,-1.2397896504581485,-0.24837163218103428,-0.3698617259191884,-1.0388166503324645,0.9790966570987323,-0.11488459891479715,0.49015055617855424,-0.25275398163526946,1.1848213764718107,0.23659704857385866,-0.2719241288569037,1.325505481258998,-1.3312249257331565,1.2051807720165935,0.5847206558372181,0.06900031359470782,1.0132343277241416],\"type\":\"bar\"}],                        {\"legend\":{\"bgcolor\":\"#F5F6F9\",\"font\":{\"color\":\"#4D5663\"}},\"paper_bgcolor\":\"#F5F6F9\",\"plot_bgcolor\":\"#F5F6F9\",\"template\":{\"data\":{\"barpolar\":[{\"marker\":{\"line\":{\"color\":\"#E5ECF6\",\"width\":0.5},\"pattern\":{\"fillmode\":\"overlay\",\"size\":10,\"solidity\":0.2}},\"type\":\"barpolar\"}],\"bar\":[{\"error_x\":{\"color\":\"#2a3f5f\"},\"error_y\":{\"color\":\"#2a3f5f\"},\"marker\":{\"line\":{\"color\":\"#E5ECF6\",\"width\":0.5},\"pattern\":{\"fillmode\":\"overlay\",\"size\":10,\"solidity\":0.2}},\"type\":\"bar\"}],\"carpet\":[{\"aaxis\":{\"endlinecolor\":\"#2a3f5f\",\"gridcolor\":\"white\",\"linecolor\":\"white\",\"minorgridcolor\":\"white\",\"startlinecolor\":\"#2a3f5f\"},\"baxis\":{\"endlinecolor\":\"#2a3f5f\",\"gridcolor\":\"white\",\"linecolor\":\"white\",\"minorgridcolor\":\"white\",\"startlinecolor\":\"#2a3f5f\"},\"type\":\"carpet\"}],\"choropleth\":[{\"colorbar\":{\"outlinewidth\":0,\"ticks\":\"\"},\"type\":\"choropleth\"}],\"contourcarpet\":[{\"colorbar\":{\"outlinewidth\":0,\"ticks\":\"\"},\"type\":\"contourcarpet\"}],\"contour\":[{\"colorbar\":{\"outlinewidth\":0,\"ticks\":\"\"},\"colorscale\":[[0.0,\"#0d0887\"],[0.1111111111111111,\"#46039f\"],[0.2222222222222222,\"#7201a8\"],[0.3333333333333333,\"#9c179e\"],[0.4444444444444444,\"#bd3786\"],[0.5555555555555556,\"#d8576b\"],[0.6666666666666666,\"#ed7953\"],[0.7777777777777778,\"#fb9f3a\"],[0.8888888888888888,\"#fdca26\"],[1.0,\"#f0f921\"]],\"type\":\"contour\"}],\"heatmapgl\":[{\"colorbar\":{\"outlinewidth\":0,\"ticks\":\"\"},\"colorscale\":[[0.0,\"#0d0887\"],[0.1111111111111111,\"#46039f\"],[0.2222222222222222,\"#7201a8\"],[0.3333333333333333,\"#9c179e\"],[0.4444444444444444,\"#bd3786\"],[0.5555555555555556,\"#d8576b\"],[0.6666666666666666,\"#ed7953\"],[0.7777777777777778,\"#fb9f3a\"],[0.8888888888888888,\"#fdca26\"],[1.0,\"#f0f921\"]],\"type\":\"heatmapgl\"}],\"heatmap\":[{\"colorbar\":{\"outlinewidth\":0,\"ticks\":\"\"},\"colorscale\":[[0.0,\"#0d0887\"],[0.1111111111111111,\"#46039f\"],[0.2222222222222222,\"#7201a8\"],[0.3333333333333333,\"#9c179e\"],[0.4444444444444444,\"#bd3786\"],[0.5555555555555556,\"#d8576b\"],[0.6666666666666666,\"#ed7953\"],[0.7777777777777778,\"#fb9f3a\"],[0.8888888888888888,\"#fdca26\"],[1.0,\"#f0f921\"]],\"type\":\"heatmap\"}],\"histogram2dcontour\":[{\"colorbar\":{\"outlinewidth\":0,\"ticks\":\"\"},\"colorscale\":[[0.0,\"#0d0887\"],[0.1111111111111111,\"#46039f\"],[0.2222222222222222,\"#7201a8\"],[0.3333333333333333,\"#9c179e\"],[0.4444444444444444,\"#bd3786\"],[0.5555555555555556,\"#d8576b\"],[0.6666666666666666,\"#ed7953\"],[0.7777777777777778,\"#fb9f3a\"],[0.8888888888888888,\"#fdca26\"],[1.0,\"#f0f921\"]],\"type\":\"histogram2dcontour\"}],\"histogram2d\":[{\"colorbar\":{\"outlinewidth\":0,\"ticks\":\"\"},\"colorscale\":[[0.0,\"#0d0887\"],[0.1111111111111111,\"#46039f\"],[0.2222222222222222,\"#7201a8\"],[0.3333333333333333,\"#9c179e\"],[0.4444444444444444,\"#bd3786\"],[0.5555555555555556,\"#d8576b\"],[0.6666666666666666,\"#ed7953\"],[0.7777777777777778,\"#fb9f3a\"],[0.8888888888888888,\"#fdca26\"],[1.0,\"#f0f921\"]],\"type\":\"histogram2d\"}],\"histogram\":[{\"marker\":{\"pattern\":{\"fillmode\":\"overlay\",\"size\":10,\"solidity\":0.2}},\"type\":\"histogram\"}],\"mesh3d\":[{\"colorbar\":{\"outlinewidth\":0,\"ticks\":\"\"},\"type\":\"mesh3d\"}],\"parcoords\":[{\"line\":{\"colorbar\":{\"outlinewidth\":0,\"ticks\":\"\"}},\"type\":\"parcoords\"}],\"pie\":[{\"automargin\":true,\"type\":\"pie\"}],\"scatter3d\":[{\"line\":{\"colorbar\":{\"outlinewidth\":0,\"ticks\":\"\"}},\"marker\":{\"colorbar\":{\"outlinewidth\":0,\"ticks\":\"\"}},\"type\":\"scatter3d\"}],\"scattercarpet\":[{\"marker\":{\"colorbar\":{\"outlinewidth\":0,\"ticks\":\"\"}},\"type\":\"scattercarpet\"}],\"scattergeo\":[{\"marker\":{\"colorbar\":{\"outlinewidth\":0,\"ticks\":\"\"}},\"type\":\"scattergeo\"}],\"scattergl\":[{\"marker\":{\"colorbar\":{\"outlinewidth\":0,\"ticks\":\"\"}},\"type\":\"scattergl\"}],\"scattermapbox\":[{\"marker\":{\"colorbar\":{\"outlinewidth\":0,\"ticks\":\"\"}},\"type\":\"scattermapbox\"}],\"scatterpolargl\":[{\"marker\":{\"colorbar\":{\"outlinewidth\":0,\"ticks\":\"\"}},\"type\":\"scatterpolargl\"}],\"scatterpolar\":[{\"marker\":{\"colorbar\":{\"outlinewidth\":0,\"ticks\":\"\"}},\"type\":\"scatterpolar\"}],\"scatter\":[{\"marker\":{\"colorbar\":{\"outlinewidth\":0,\"ticks\":\"\"}},\"type\":\"scatter\"}],\"scatterternary\":[{\"marker\":{\"colorbar\":{\"outlinewidth\":0,\"ticks\":\"\"}},\"type\":\"scatterternary\"}],\"surface\":[{\"colorbar\":{\"outlinewidth\":0,\"ticks\":\"\"},\"colorscale\":[[0.0,\"#0d0887\"],[0.1111111111111111,\"#46039f\"],[0.2222222222222222,\"#7201a8\"],[0.3333333333333333,\"#9c179e\"],[0.4444444444444444,\"#bd3786\"],[0.5555555555555556,\"#d8576b\"],[0.6666666666666666,\"#ed7953\"],[0.7777777777777778,\"#fb9f3a\"],[0.8888888888888888,\"#fdca26\"],[1.0,\"#f0f921\"]],\"type\":\"surface\"}],\"table\":[{\"cells\":{\"fill\":{\"color\":\"#EBF0F8\"},\"line\":{\"color\":\"white\"}},\"header\":{\"fill\":{\"color\":\"#C8D4E3\"},\"line\":{\"color\":\"white\"}},\"type\":\"table\"}]},\"layout\":{\"annotationdefaults\":{\"arrowcolor\":\"#2a3f5f\",\"arrowhead\":0,\"arrowwidth\":1},\"autotypenumbers\":\"strict\",\"coloraxis\":{\"colorbar\":{\"outlinewidth\":0,\"ticks\":\"\"}},\"colorscale\":{\"diverging\":[[0,\"#8e0152\"],[0.1,\"#c51b7d\"],[0.2,\"#de77ae\"],[0.3,\"#f1b6da\"],[0.4,\"#fde0ef\"],[0.5,\"#f7f7f7\"],[0.6,\"#e6f5d0\"],[0.7,\"#b8e186\"],[0.8,\"#7fbc41\"],[0.9,\"#4d9221\"],[1,\"#276419\"]],\"sequential\":[[0.0,\"#0d0887\"],[0.1111111111111111,\"#46039f\"],[0.2222222222222222,\"#7201a8\"],[0.3333333333333333,\"#9c179e\"],[0.4444444444444444,\"#bd3786\"],[0.5555555555555556,\"#d8576b\"],[0.6666666666666666,\"#ed7953\"],[0.7777777777777778,\"#fb9f3a\"],[0.8888888888888888,\"#fdca26\"],[1.0,\"#f0f921\"]],\"sequentialminus\":[[0.0,\"#0d0887\"],[0.1111111111111111,\"#46039f\"],[0.2222222222222222,\"#7201a8\"],[0.3333333333333333,\"#9c179e\"],[0.4444444444444444,\"#bd3786\"],[0.5555555555555556,\"#d8576b\"],[0.6666666666666666,\"#ed7953\"],[0.7777777777777778,\"#fb9f3a\"],[0.8888888888888888,\"#fdca26\"],[1.0,\"#f0f921\"]]},\"colorway\":[\"#636efa\",\"#EF553B\",\"#00cc96\",\"#ab63fa\",\"#FFA15A\",\"#19d3f3\",\"#FF6692\",\"#B6E880\",\"#FF97FF\",\"#FECB52\"],\"font\":{\"color\":\"#2a3f5f\"},\"geo\":{\"bgcolor\":\"white\",\"lakecolor\":\"white\",\"landcolor\":\"#E5ECF6\",\"showlakes\":true,\"showland\":true,\"subunitcolor\":\"white\"},\"hoverlabel\":{\"align\":\"left\"},\"hovermode\":\"closest\",\"mapbox\":{\"style\":\"light\"},\"paper_bgcolor\":\"white\",\"plot_bgcolor\":\"#E5ECF6\",\"polar\":{\"angularaxis\":{\"gridcolor\":\"white\",\"linecolor\":\"white\",\"ticks\":\"\"},\"bgcolor\":\"#E5ECF6\",\"radialaxis\":{\"gridcolor\":\"white\",\"linecolor\":\"white\",\"ticks\":\"\"}},\"scene\":{\"xaxis\":{\"backgroundcolor\":\"#E5ECF6\",\"gridcolor\":\"white\",\"gridwidth\":2,\"linecolor\":\"white\",\"showbackground\":true,\"ticks\":\"\",\"zerolinecolor\":\"white\"},\"yaxis\":{\"backgroundcolor\":\"#E5ECF6\",\"gridcolor\":\"white\",\"gridwidth\":2,\"linecolor\":\"white\",\"showbackground\":true,\"ticks\":\"\",\"zerolinecolor\":\"white\"},\"zaxis\":{\"backgroundcolor\":\"#E5ECF6\",\"gridcolor\":\"white\",\"gridwidth\":2,\"linecolor\":\"white\",\"showbackground\":true,\"ticks\":\"\",\"zerolinecolor\":\"white\"}},\"shapedefaults\":{\"line\":{\"color\":\"#2a3f5f\"}},\"ternary\":{\"aaxis\":{\"gridcolor\":\"white\",\"linecolor\":\"white\",\"ticks\":\"\"},\"baxis\":{\"gridcolor\":\"white\",\"linecolor\":\"white\",\"ticks\":\"\"},\"bgcolor\":\"#E5ECF6\",\"caxis\":{\"gridcolor\":\"white\",\"linecolor\":\"white\",\"ticks\":\"\"}},\"title\":{\"x\":0.05},\"xaxis\":{\"automargin\":true,\"gridcolor\":\"white\",\"linecolor\":\"white\",\"ticks\":\"\",\"title\":{\"standoff\":15},\"zerolinecolor\":\"white\",\"zerolinewidth\":2},\"yaxis\":{\"automargin\":true,\"gridcolor\":\"white\",\"linecolor\":\"white\",\"ticks\":\"\",\"title\":{\"standoff\":15},\"zerolinecolor\":\"white\",\"zerolinewidth\":2}}},\"title\":{\"font\":{\"color\":\"#4D5663\"}},\"xaxis\":{\"gridcolor\":\"#E1E5ED\",\"showgrid\":true,\"tickfont\":{\"color\":\"#4D5663\"},\"title\":{\"font\":{\"color\":\"#4D5663\"},\"text\":\"\"},\"zerolinecolor\":\"#E1E5ED\"},\"yaxis\":{\"gridcolor\":\"#E1E5ED\",\"showgrid\":true,\"tickfont\":{\"color\":\"#4D5663\"},\"title\":{\"font\":{\"color\":\"#4D5663\"},\"text\":\"\"},\"zerolinecolor\":\"#E1E5ED\"}},                        {\"showLink\": true, \"linkText\": \"Export to plot.ly\", \"plotlyServerURL\": \"https://plot.ly\", \"responsive\": true}                    ).then(function(){\n",
       "                            \n",
       "var gd = document.getElementById('560feae8-b967-432e-a9f4-42d01025f441');\n",
       "var x = new MutationObserver(function (mutations, observer) {{\n",
       "        var display = window.getComputedStyle(gd).display;\n",
       "        if (!display || display === 'none') {{\n",
       "            console.log([gd, 'removed!']);\n",
       "            Plotly.purge(gd);\n",
       "            observer.disconnect();\n",
       "        }}\n",
       "}});\n",
       "\n",
       "// Listen for the removal of the full notebook cells\n",
       "var notebookContainer = gd.closest('#notebook-container');\n",
       "if (notebookContainer) {{\n",
       "    x.observe(notebookContainer, {childList: true});\n",
       "}}\n",
       "\n",
       "// Listen for the clearing of the current output cell\n",
       "var outputEl = gd.closest('.output');\n",
       "if (outputEl) {{\n",
       "    x.observe(outputEl, {childList: true});\n",
       "}}\n",
       "\n",
       "                        })                };                });            </script>        </div>"
      ]
     },
     "metadata": {},
     "output_type": "display_data"
    }
   ],
   "source": [
    "df.iplot(kind='bar')"
   ]
  },
  {
   "cell_type": "code",
   "execution_count": 11,
   "metadata": {},
   "outputs": [
    {
     "data": {
      "application/vnd.plotly.v1+json": {
       "config": {
        "linkText": "Export to plot.ly",
        "plotlyServerURL": "https://plot.ly",
        "showLink": true
       },
       "data": [
        {
         "marker": {
          "color": "rgba(255, 153, 51, 0.6)",
          "line": {
           "color": "rgba(255, 153, 51, 1.0)",
           "width": 1
          }
         },
         "name": "None",
         "orientation": "v",
         "text": "",
         "type": "bar",
         "x": [
          "A",
          "B",
          "C",
          "D"
         ],
         "y": [
          -2.4835475921199244,
          -7.876167332265618,
          6.597910104116418,
          2.8039591494168947
         ]
        }
       ],
       "layout": {
        "legend": {
         "bgcolor": "#F5F6F9",
         "font": {
          "color": "#4D5663"
         }
        },
        "paper_bgcolor": "#F5F6F9",
        "plot_bgcolor": "#F5F6F9",
        "template": {
         "data": {
          "bar": [
           {
            "error_x": {
             "color": "#2a3f5f"
            },
            "error_y": {
             "color": "#2a3f5f"
            },
            "marker": {
             "line": {
              "color": "#E5ECF6",
              "width": 0.5
             },
             "pattern": {
              "fillmode": "overlay",
              "size": 10,
              "solidity": 0.2
             }
            },
            "type": "bar"
           }
          ],
          "barpolar": [
           {
            "marker": {
             "line": {
              "color": "#E5ECF6",
              "width": 0.5
             },
             "pattern": {
              "fillmode": "overlay",
              "size": 10,
              "solidity": 0.2
             }
            },
            "type": "barpolar"
           }
          ],
          "carpet": [
           {
            "aaxis": {
             "endlinecolor": "#2a3f5f",
             "gridcolor": "white",
             "linecolor": "white",
             "minorgridcolor": "white",
             "startlinecolor": "#2a3f5f"
            },
            "baxis": {
             "endlinecolor": "#2a3f5f",
             "gridcolor": "white",
             "linecolor": "white",
             "minorgridcolor": "white",
             "startlinecolor": "#2a3f5f"
            },
            "type": "carpet"
           }
          ],
          "choropleth": [
           {
            "colorbar": {
             "outlinewidth": 0,
             "ticks": ""
            },
            "type": "choropleth"
           }
          ],
          "contour": [
           {
            "colorbar": {
             "outlinewidth": 0,
             "ticks": ""
            },
            "colorscale": [
             [
              0,
              "#0d0887"
             ],
             [
              0.1111111111111111,
              "#46039f"
             ],
             [
              0.2222222222222222,
              "#7201a8"
             ],
             [
              0.3333333333333333,
              "#9c179e"
             ],
             [
              0.4444444444444444,
              "#bd3786"
             ],
             [
              0.5555555555555556,
              "#d8576b"
             ],
             [
              0.6666666666666666,
              "#ed7953"
             ],
             [
              0.7777777777777778,
              "#fb9f3a"
             ],
             [
              0.8888888888888888,
              "#fdca26"
             ],
             [
              1,
              "#f0f921"
             ]
            ],
            "type": "contour"
           }
          ],
          "contourcarpet": [
           {
            "colorbar": {
             "outlinewidth": 0,
             "ticks": ""
            },
            "type": "contourcarpet"
           }
          ],
          "heatmap": [
           {
            "colorbar": {
             "outlinewidth": 0,
             "ticks": ""
            },
            "colorscale": [
             [
              0,
              "#0d0887"
             ],
             [
              0.1111111111111111,
              "#46039f"
             ],
             [
              0.2222222222222222,
              "#7201a8"
             ],
             [
              0.3333333333333333,
              "#9c179e"
             ],
             [
              0.4444444444444444,
              "#bd3786"
             ],
             [
              0.5555555555555556,
              "#d8576b"
             ],
             [
              0.6666666666666666,
              "#ed7953"
             ],
             [
              0.7777777777777778,
              "#fb9f3a"
             ],
             [
              0.8888888888888888,
              "#fdca26"
             ],
             [
              1,
              "#f0f921"
             ]
            ],
            "type": "heatmap"
           }
          ],
          "heatmapgl": [
           {
            "colorbar": {
             "outlinewidth": 0,
             "ticks": ""
            },
            "colorscale": [
             [
              0,
              "#0d0887"
             ],
             [
              0.1111111111111111,
              "#46039f"
             ],
             [
              0.2222222222222222,
              "#7201a8"
             ],
             [
              0.3333333333333333,
              "#9c179e"
             ],
             [
              0.4444444444444444,
              "#bd3786"
             ],
             [
              0.5555555555555556,
              "#d8576b"
             ],
             [
              0.6666666666666666,
              "#ed7953"
             ],
             [
              0.7777777777777778,
              "#fb9f3a"
             ],
             [
              0.8888888888888888,
              "#fdca26"
             ],
             [
              1,
              "#f0f921"
             ]
            ],
            "type": "heatmapgl"
           }
          ],
          "histogram": [
           {
            "marker": {
             "pattern": {
              "fillmode": "overlay",
              "size": 10,
              "solidity": 0.2
             }
            },
            "type": "histogram"
           }
          ],
          "histogram2d": [
           {
            "colorbar": {
             "outlinewidth": 0,
             "ticks": ""
            },
            "colorscale": [
             [
              0,
              "#0d0887"
             ],
             [
              0.1111111111111111,
              "#46039f"
             ],
             [
              0.2222222222222222,
              "#7201a8"
             ],
             [
              0.3333333333333333,
              "#9c179e"
             ],
             [
              0.4444444444444444,
              "#bd3786"
             ],
             [
              0.5555555555555556,
              "#d8576b"
             ],
             [
              0.6666666666666666,
              "#ed7953"
             ],
             [
              0.7777777777777778,
              "#fb9f3a"
             ],
             [
              0.8888888888888888,
              "#fdca26"
             ],
             [
              1,
              "#f0f921"
             ]
            ],
            "type": "histogram2d"
           }
          ],
          "histogram2dcontour": [
           {
            "colorbar": {
             "outlinewidth": 0,
             "ticks": ""
            },
            "colorscale": [
             [
              0,
              "#0d0887"
             ],
             [
              0.1111111111111111,
              "#46039f"
             ],
             [
              0.2222222222222222,
              "#7201a8"
             ],
             [
              0.3333333333333333,
              "#9c179e"
             ],
             [
              0.4444444444444444,
              "#bd3786"
             ],
             [
              0.5555555555555556,
              "#d8576b"
             ],
             [
              0.6666666666666666,
              "#ed7953"
             ],
             [
              0.7777777777777778,
              "#fb9f3a"
             ],
             [
              0.8888888888888888,
              "#fdca26"
             ],
             [
              1,
              "#f0f921"
             ]
            ],
            "type": "histogram2dcontour"
           }
          ],
          "mesh3d": [
           {
            "colorbar": {
             "outlinewidth": 0,
             "ticks": ""
            },
            "type": "mesh3d"
           }
          ],
          "parcoords": [
           {
            "line": {
             "colorbar": {
              "outlinewidth": 0,
              "ticks": ""
             }
            },
            "type": "parcoords"
           }
          ],
          "pie": [
           {
            "automargin": true,
            "type": "pie"
           }
          ],
          "scatter": [
           {
            "marker": {
             "colorbar": {
              "outlinewidth": 0,
              "ticks": ""
             }
            },
            "type": "scatter"
           }
          ],
          "scatter3d": [
           {
            "line": {
             "colorbar": {
              "outlinewidth": 0,
              "ticks": ""
             }
            },
            "marker": {
             "colorbar": {
              "outlinewidth": 0,
              "ticks": ""
             }
            },
            "type": "scatter3d"
           }
          ],
          "scattercarpet": [
           {
            "marker": {
             "colorbar": {
              "outlinewidth": 0,
              "ticks": ""
             }
            },
            "type": "scattercarpet"
           }
          ],
          "scattergeo": [
           {
            "marker": {
             "colorbar": {
              "outlinewidth": 0,
              "ticks": ""
             }
            },
            "type": "scattergeo"
           }
          ],
          "scattergl": [
           {
            "marker": {
             "colorbar": {
              "outlinewidth": 0,
              "ticks": ""
             }
            },
            "type": "scattergl"
           }
          ],
          "scattermapbox": [
           {
            "marker": {
             "colorbar": {
              "outlinewidth": 0,
              "ticks": ""
             }
            },
            "type": "scattermapbox"
           }
          ],
          "scatterpolar": [
           {
            "marker": {
             "colorbar": {
              "outlinewidth": 0,
              "ticks": ""
             }
            },
            "type": "scatterpolar"
           }
          ],
          "scatterpolargl": [
           {
            "marker": {
             "colorbar": {
              "outlinewidth": 0,
              "ticks": ""
             }
            },
            "type": "scatterpolargl"
           }
          ],
          "scatterternary": [
           {
            "marker": {
             "colorbar": {
              "outlinewidth": 0,
              "ticks": ""
             }
            },
            "type": "scatterternary"
           }
          ],
          "surface": [
           {
            "colorbar": {
             "outlinewidth": 0,
             "ticks": ""
            },
            "colorscale": [
             [
              0,
              "#0d0887"
             ],
             [
              0.1111111111111111,
              "#46039f"
             ],
             [
              0.2222222222222222,
              "#7201a8"
             ],
             [
              0.3333333333333333,
              "#9c179e"
             ],
             [
              0.4444444444444444,
              "#bd3786"
             ],
             [
              0.5555555555555556,
              "#d8576b"
             ],
             [
              0.6666666666666666,
              "#ed7953"
             ],
             [
              0.7777777777777778,
              "#fb9f3a"
             ],
             [
              0.8888888888888888,
              "#fdca26"
             ],
             [
              1,
              "#f0f921"
             ]
            ],
            "type": "surface"
           }
          ],
          "table": [
           {
            "cells": {
             "fill": {
              "color": "#EBF0F8"
             },
             "line": {
              "color": "white"
             }
            },
            "header": {
             "fill": {
              "color": "#C8D4E3"
             },
             "line": {
              "color": "white"
             }
            },
            "type": "table"
           }
          ]
         },
         "layout": {
          "annotationdefaults": {
           "arrowcolor": "#2a3f5f",
           "arrowhead": 0,
           "arrowwidth": 1
          },
          "autotypenumbers": "strict",
          "coloraxis": {
           "colorbar": {
            "outlinewidth": 0,
            "ticks": ""
           }
          },
          "colorscale": {
           "diverging": [
            [
             0,
             "#8e0152"
            ],
            [
             0.1,
             "#c51b7d"
            ],
            [
             0.2,
             "#de77ae"
            ],
            [
             0.3,
             "#f1b6da"
            ],
            [
             0.4,
             "#fde0ef"
            ],
            [
             0.5,
             "#f7f7f7"
            ],
            [
             0.6,
             "#e6f5d0"
            ],
            [
             0.7,
             "#b8e186"
            ],
            [
             0.8,
             "#7fbc41"
            ],
            [
             0.9,
             "#4d9221"
            ],
            [
             1,
             "#276419"
            ]
           ],
           "sequential": [
            [
             0,
             "#0d0887"
            ],
            [
             0.1111111111111111,
             "#46039f"
            ],
            [
             0.2222222222222222,
             "#7201a8"
            ],
            [
             0.3333333333333333,
             "#9c179e"
            ],
            [
             0.4444444444444444,
             "#bd3786"
            ],
            [
             0.5555555555555556,
             "#d8576b"
            ],
            [
             0.6666666666666666,
             "#ed7953"
            ],
            [
             0.7777777777777778,
             "#fb9f3a"
            ],
            [
             0.8888888888888888,
             "#fdca26"
            ],
            [
             1,
             "#f0f921"
            ]
           ],
           "sequentialminus": [
            [
             0,
             "#0d0887"
            ],
            [
             0.1111111111111111,
             "#46039f"
            ],
            [
             0.2222222222222222,
             "#7201a8"
            ],
            [
             0.3333333333333333,
             "#9c179e"
            ],
            [
             0.4444444444444444,
             "#bd3786"
            ],
            [
             0.5555555555555556,
             "#d8576b"
            ],
            [
             0.6666666666666666,
             "#ed7953"
            ],
            [
             0.7777777777777778,
             "#fb9f3a"
            ],
            [
             0.8888888888888888,
             "#fdca26"
            ],
            [
             1,
             "#f0f921"
            ]
           ]
          },
          "colorway": [
           "#636efa",
           "#EF553B",
           "#00cc96",
           "#ab63fa",
           "#FFA15A",
           "#19d3f3",
           "#FF6692",
           "#B6E880",
           "#FF97FF",
           "#FECB52"
          ],
          "font": {
           "color": "#2a3f5f"
          },
          "geo": {
           "bgcolor": "white",
           "lakecolor": "white",
           "landcolor": "#E5ECF6",
           "showlakes": true,
           "showland": true,
           "subunitcolor": "white"
          },
          "hoverlabel": {
           "align": "left"
          },
          "hovermode": "closest",
          "mapbox": {
           "style": "light"
          },
          "paper_bgcolor": "white",
          "plot_bgcolor": "#E5ECF6",
          "polar": {
           "angularaxis": {
            "gridcolor": "white",
            "linecolor": "white",
            "ticks": ""
           },
           "bgcolor": "#E5ECF6",
           "radialaxis": {
            "gridcolor": "white",
            "linecolor": "white",
            "ticks": ""
           }
          },
          "scene": {
           "xaxis": {
            "backgroundcolor": "#E5ECF6",
            "gridcolor": "white",
            "gridwidth": 2,
            "linecolor": "white",
            "showbackground": true,
            "ticks": "",
            "zerolinecolor": "white"
           },
           "yaxis": {
            "backgroundcolor": "#E5ECF6",
            "gridcolor": "white",
            "gridwidth": 2,
            "linecolor": "white",
            "showbackground": true,
            "ticks": "",
            "zerolinecolor": "white"
           },
           "zaxis": {
            "backgroundcolor": "#E5ECF6",
            "gridcolor": "white",
            "gridwidth": 2,
            "linecolor": "white",
            "showbackground": true,
            "ticks": "",
            "zerolinecolor": "white"
           }
          },
          "shapedefaults": {
           "line": {
            "color": "#2a3f5f"
           }
          },
          "ternary": {
           "aaxis": {
            "gridcolor": "white",
            "linecolor": "white",
            "ticks": ""
           },
           "baxis": {
            "gridcolor": "white",
            "linecolor": "white",
            "ticks": ""
           },
           "bgcolor": "#E5ECF6",
           "caxis": {
            "gridcolor": "white",
            "linecolor": "white",
            "ticks": ""
           }
          },
          "title": {
           "x": 0.05
          },
          "xaxis": {
           "automargin": true,
           "gridcolor": "white",
           "linecolor": "white",
           "ticks": "",
           "title": {
            "standoff": 15
           },
           "zerolinecolor": "white",
           "zerolinewidth": 2
          },
          "yaxis": {
           "automargin": true,
           "gridcolor": "white",
           "linecolor": "white",
           "ticks": "",
           "title": {
            "standoff": 15
           },
           "zerolinecolor": "white",
           "zerolinewidth": 2
          }
         }
        },
        "title": {
         "font": {
          "color": "#4D5663"
         }
        },
        "xaxis": {
         "gridcolor": "#E1E5ED",
         "showgrid": true,
         "tickfont": {
          "color": "#4D5663"
         },
         "title": {
          "font": {
           "color": "#4D5663"
          },
          "text": ""
         },
         "zerolinecolor": "#E1E5ED"
        },
        "yaxis": {
         "gridcolor": "#E1E5ED",
         "showgrid": true,
         "tickfont": {
          "color": "#4D5663"
         },
         "title": {
          "font": {
           "color": "#4D5663"
          },
          "text": ""
         },
         "zerolinecolor": "#E1E5ED"
        }
       }
      },
      "text/html": [
       "<div>                            <div id=\"d9e52ac3-eb32-421d-8e66-78a488d40d50\" class=\"plotly-graph-div\" style=\"height:525px; width:100%;\"></div>            <script type=\"text/javascript\">                require([\"plotly\"], function(Plotly) {                    window.PLOTLYENV=window.PLOTLYENV || {};\n",
       "                    window.PLOTLYENV.BASE_URL='https://plot.ly';                                    if (document.getElementById(\"d9e52ac3-eb32-421d-8e66-78a488d40d50\")) {                    Plotly.newPlot(                        \"d9e52ac3-eb32-421d-8e66-78a488d40d50\",                        [{\"marker\":{\"color\":\"rgba(255, 153, 51, 0.6)\",\"line\":{\"color\":\"rgba(255, 153, 51, 1.0)\",\"width\":1}},\"name\":\"None\",\"orientation\":\"v\",\"text\":\"\",\"x\":[\"A\",\"B\",\"C\",\"D\"],\"y\":[-2.4835475921199244,-7.876167332265618,6.597910104116418,2.8039591494168947],\"type\":\"bar\"}],                        {\"legend\":{\"bgcolor\":\"#F5F6F9\",\"font\":{\"color\":\"#4D5663\"}},\"paper_bgcolor\":\"#F5F6F9\",\"plot_bgcolor\":\"#F5F6F9\",\"template\":{\"data\":{\"barpolar\":[{\"marker\":{\"line\":{\"color\":\"#E5ECF6\",\"width\":0.5},\"pattern\":{\"fillmode\":\"overlay\",\"size\":10,\"solidity\":0.2}},\"type\":\"barpolar\"}],\"bar\":[{\"error_x\":{\"color\":\"#2a3f5f\"},\"error_y\":{\"color\":\"#2a3f5f\"},\"marker\":{\"line\":{\"color\":\"#E5ECF6\",\"width\":0.5},\"pattern\":{\"fillmode\":\"overlay\",\"size\":10,\"solidity\":0.2}},\"type\":\"bar\"}],\"carpet\":[{\"aaxis\":{\"endlinecolor\":\"#2a3f5f\",\"gridcolor\":\"white\",\"linecolor\":\"white\",\"minorgridcolor\":\"white\",\"startlinecolor\":\"#2a3f5f\"},\"baxis\":{\"endlinecolor\":\"#2a3f5f\",\"gridcolor\":\"white\",\"linecolor\":\"white\",\"minorgridcolor\":\"white\",\"startlinecolor\":\"#2a3f5f\"},\"type\":\"carpet\"}],\"choropleth\":[{\"colorbar\":{\"outlinewidth\":0,\"ticks\":\"\"},\"type\":\"choropleth\"}],\"contourcarpet\":[{\"colorbar\":{\"outlinewidth\":0,\"ticks\":\"\"},\"type\":\"contourcarpet\"}],\"contour\":[{\"colorbar\":{\"outlinewidth\":0,\"ticks\":\"\"},\"colorscale\":[[0.0,\"#0d0887\"],[0.1111111111111111,\"#46039f\"],[0.2222222222222222,\"#7201a8\"],[0.3333333333333333,\"#9c179e\"],[0.4444444444444444,\"#bd3786\"],[0.5555555555555556,\"#d8576b\"],[0.6666666666666666,\"#ed7953\"],[0.7777777777777778,\"#fb9f3a\"],[0.8888888888888888,\"#fdca26\"],[1.0,\"#f0f921\"]],\"type\":\"contour\"}],\"heatmapgl\":[{\"colorbar\":{\"outlinewidth\":0,\"ticks\":\"\"},\"colorscale\":[[0.0,\"#0d0887\"],[0.1111111111111111,\"#46039f\"],[0.2222222222222222,\"#7201a8\"],[0.3333333333333333,\"#9c179e\"],[0.4444444444444444,\"#bd3786\"],[0.5555555555555556,\"#d8576b\"],[0.6666666666666666,\"#ed7953\"],[0.7777777777777778,\"#fb9f3a\"],[0.8888888888888888,\"#fdca26\"],[1.0,\"#f0f921\"]],\"type\":\"heatmapgl\"}],\"heatmap\":[{\"colorbar\":{\"outlinewidth\":0,\"ticks\":\"\"},\"colorscale\":[[0.0,\"#0d0887\"],[0.1111111111111111,\"#46039f\"],[0.2222222222222222,\"#7201a8\"],[0.3333333333333333,\"#9c179e\"],[0.4444444444444444,\"#bd3786\"],[0.5555555555555556,\"#d8576b\"],[0.6666666666666666,\"#ed7953\"],[0.7777777777777778,\"#fb9f3a\"],[0.8888888888888888,\"#fdca26\"],[1.0,\"#f0f921\"]],\"type\":\"heatmap\"}],\"histogram2dcontour\":[{\"colorbar\":{\"outlinewidth\":0,\"ticks\":\"\"},\"colorscale\":[[0.0,\"#0d0887\"],[0.1111111111111111,\"#46039f\"],[0.2222222222222222,\"#7201a8\"],[0.3333333333333333,\"#9c179e\"],[0.4444444444444444,\"#bd3786\"],[0.5555555555555556,\"#d8576b\"],[0.6666666666666666,\"#ed7953\"],[0.7777777777777778,\"#fb9f3a\"],[0.8888888888888888,\"#fdca26\"],[1.0,\"#f0f921\"]],\"type\":\"histogram2dcontour\"}],\"histogram2d\":[{\"colorbar\":{\"outlinewidth\":0,\"ticks\":\"\"},\"colorscale\":[[0.0,\"#0d0887\"],[0.1111111111111111,\"#46039f\"],[0.2222222222222222,\"#7201a8\"],[0.3333333333333333,\"#9c179e\"],[0.4444444444444444,\"#bd3786\"],[0.5555555555555556,\"#d8576b\"],[0.6666666666666666,\"#ed7953\"],[0.7777777777777778,\"#fb9f3a\"],[0.8888888888888888,\"#fdca26\"],[1.0,\"#f0f921\"]],\"type\":\"histogram2d\"}],\"histogram\":[{\"marker\":{\"pattern\":{\"fillmode\":\"overlay\",\"size\":10,\"solidity\":0.2}},\"type\":\"histogram\"}],\"mesh3d\":[{\"colorbar\":{\"outlinewidth\":0,\"ticks\":\"\"},\"type\":\"mesh3d\"}],\"parcoords\":[{\"line\":{\"colorbar\":{\"outlinewidth\":0,\"ticks\":\"\"}},\"type\":\"parcoords\"}],\"pie\":[{\"automargin\":true,\"type\":\"pie\"}],\"scatter3d\":[{\"line\":{\"colorbar\":{\"outlinewidth\":0,\"ticks\":\"\"}},\"marker\":{\"colorbar\":{\"outlinewidth\":0,\"ticks\":\"\"}},\"type\":\"scatter3d\"}],\"scattercarpet\":[{\"marker\":{\"colorbar\":{\"outlinewidth\":0,\"ticks\":\"\"}},\"type\":\"scattercarpet\"}],\"scattergeo\":[{\"marker\":{\"colorbar\":{\"outlinewidth\":0,\"ticks\":\"\"}},\"type\":\"scattergeo\"}],\"scattergl\":[{\"marker\":{\"colorbar\":{\"outlinewidth\":0,\"ticks\":\"\"}},\"type\":\"scattergl\"}],\"scattermapbox\":[{\"marker\":{\"colorbar\":{\"outlinewidth\":0,\"ticks\":\"\"}},\"type\":\"scattermapbox\"}],\"scatterpolargl\":[{\"marker\":{\"colorbar\":{\"outlinewidth\":0,\"ticks\":\"\"}},\"type\":\"scatterpolargl\"}],\"scatterpolar\":[{\"marker\":{\"colorbar\":{\"outlinewidth\":0,\"ticks\":\"\"}},\"type\":\"scatterpolar\"}],\"scatter\":[{\"marker\":{\"colorbar\":{\"outlinewidth\":0,\"ticks\":\"\"}},\"type\":\"scatter\"}],\"scatterternary\":[{\"marker\":{\"colorbar\":{\"outlinewidth\":0,\"ticks\":\"\"}},\"type\":\"scatterternary\"}],\"surface\":[{\"colorbar\":{\"outlinewidth\":0,\"ticks\":\"\"},\"colorscale\":[[0.0,\"#0d0887\"],[0.1111111111111111,\"#46039f\"],[0.2222222222222222,\"#7201a8\"],[0.3333333333333333,\"#9c179e\"],[0.4444444444444444,\"#bd3786\"],[0.5555555555555556,\"#d8576b\"],[0.6666666666666666,\"#ed7953\"],[0.7777777777777778,\"#fb9f3a\"],[0.8888888888888888,\"#fdca26\"],[1.0,\"#f0f921\"]],\"type\":\"surface\"}],\"table\":[{\"cells\":{\"fill\":{\"color\":\"#EBF0F8\"},\"line\":{\"color\":\"white\"}},\"header\":{\"fill\":{\"color\":\"#C8D4E3\"},\"line\":{\"color\":\"white\"}},\"type\":\"table\"}]},\"layout\":{\"annotationdefaults\":{\"arrowcolor\":\"#2a3f5f\",\"arrowhead\":0,\"arrowwidth\":1},\"autotypenumbers\":\"strict\",\"coloraxis\":{\"colorbar\":{\"outlinewidth\":0,\"ticks\":\"\"}},\"colorscale\":{\"diverging\":[[0,\"#8e0152\"],[0.1,\"#c51b7d\"],[0.2,\"#de77ae\"],[0.3,\"#f1b6da\"],[0.4,\"#fde0ef\"],[0.5,\"#f7f7f7\"],[0.6,\"#e6f5d0\"],[0.7,\"#b8e186\"],[0.8,\"#7fbc41\"],[0.9,\"#4d9221\"],[1,\"#276419\"]],\"sequential\":[[0.0,\"#0d0887\"],[0.1111111111111111,\"#46039f\"],[0.2222222222222222,\"#7201a8\"],[0.3333333333333333,\"#9c179e\"],[0.4444444444444444,\"#bd3786\"],[0.5555555555555556,\"#d8576b\"],[0.6666666666666666,\"#ed7953\"],[0.7777777777777778,\"#fb9f3a\"],[0.8888888888888888,\"#fdca26\"],[1.0,\"#f0f921\"]],\"sequentialminus\":[[0.0,\"#0d0887\"],[0.1111111111111111,\"#46039f\"],[0.2222222222222222,\"#7201a8\"],[0.3333333333333333,\"#9c179e\"],[0.4444444444444444,\"#bd3786\"],[0.5555555555555556,\"#d8576b\"],[0.6666666666666666,\"#ed7953\"],[0.7777777777777778,\"#fb9f3a\"],[0.8888888888888888,\"#fdca26\"],[1.0,\"#f0f921\"]]},\"colorway\":[\"#636efa\",\"#EF553B\",\"#00cc96\",\"#ab63fa\",\"#FFA15A\",\"#19d3f3\",\"#FF6692\",\"#B6E880\",\"#FF97FF\",\"#FECB52\"],\"font\":{\"color\":\"#2a3f5f\"},\"geo\":{\"bgcolor\":\"white\",\"lakecolor\":\"white\",\"landcolor\":\"#E5ECF6\",\"showlakes\":true,\"showland\":true,\"subunitcolor\":\"white\"},\"hoverlabel\":{\"align\":\"left\"},\"hovermode\":\"closest\",\"mapbox\":{\"style\":\"light\"},\"paper_bgcolor\":\"white\",\"plot_bgcolor\":\"#E5ECF6\",\"polar\":{\"angularaxis\":{\"gridcolor\":\"white\",\"linecolor\":\"white\",\"ticks\":\"\"},\"bgcolor\":\"#E5ECF6\",\"radialaxis\":{\"gridcolor\":\"white\",\"linecolor\":\"white\",\"ticks\":\"\"}},\"scene\":{\"xaxis\":{\"backgroundcolor\":\"#E5ECF6\",\"gridcolor\":\"white\",\"gridwidth\":2,\"linecolor\":\"white\",\"showbackground\":true,\"ticks\":\"\",\"zerolinecolor\":\"white\"},\"yaxis\":{\"backgroundcolor\":\"#E5ECF6\",\"gridcolor\":\"white\",\"gridwidth\":2,\"linecolor\":\"white\",\"showbackground\":true,\"ticks\":\"\",\"zerolinecolor\":\"white\"},\"zaxis\":{\"backgroundcolor\":\"#E5ECF6\",\"gridcolor\":\"white\",\"gridwidth\":2,\"linecolor\":\"white\",\"showbackground\":true,\"ticks\":\"\",\"zerolinecolor\":\"white\"}},\"shapedefaults\":{\"line\":{\"color\":\"#2a3f5f\"}},\"ternary\":{\"aaxis\":{\"gridcolor\":\"white\",\"linecolor\":\"white\",\"ticks\":\"\"},\"baxis\":{\"gridcolor\":\"white\",\"linecolor\":\"white\",\"ticks\":\"\"},\"bgcolor\":\"#E5ECF6\",\"caxis\":{\"gridcolor\":\"white\",\"linecolor\":\"white\",\"ticks\":\"\"}},\"title\":{\"x\":0.05},\"xaxis\":{\"automargin\":true,\"gridcolor\":\"white\",\"linecolor\":\"white\",\"ticks\":\"\",\"title\":{\"standoff\":15},\"zerolinecolor\":\"white\",\"zerolinewidth\":2},\"yaxis\":{\"automargin\":true,\"gridcolor\":\"white\",\"linecolor\":\"white\",\"ticks\":\"\",\"title\":{\"standoff\":15},\"zerolinecolor\":\"white\",\"zerolinewidth\":2}}},\"title\":{\"font\":{\"color\":\"#4D5663\"}},\"xaxis\":{\"gridcolor\":\"#E1E5ED\",\"showgrid\":true,\"tickfont\":{\"color\":\"#4D5663\"},\"title\":{\"font\":{\"color\":\"#4D5663\"},\"text\":\"\"},\"zerolinecolor\":\"#E1E5ED\"},\"yaxis\":{\"gridcolor\":\"#E1E5ED\",\"showgrid\":true,\"tickfont\":{\"color\":\"#4D5663\"},\"title\":{\"font\":{\"color\":\"#4D5663\"},\"text\":\"\"},\"zerolinecolor\":\"#E1E5ED\"}},                        {\"showLink\": true, \"linkText\": \"Export to plot.ly\", \"plotlyServerURL\": \"https://plot.ly\", \"responsive\": true}                    ).then(function(){\n",
       "                            \n",
       "var gd = document.getElementById('d9e52ac3-eb32-421d-8e66-78a488d40d50');\n",
       "var x = new MutationObserver(function (mutations, observer) {{\n",
       "        var display = window.getComputedStyle(gd).display;\n",
       "        if (!display || display === 'none') {{\n",
       "            console.log([gd, 'removed!']);\n",
       "            Plotly.purge(gd);\n",
       "            observer.disconnect();\n",
       "        }}\n",
       "}});\n",
       "\n",
       "// Listen for the removal of the full notebook cells\n",
       "var notebookContainer = gd.closest('#notebook-container');\n",
       "if (notebookContainer) {{\n",
       "    x.observe(notebookContainer, {childList: true});\n",
       "}}\n",
       "\n",
       "// Listen for the clearing of the current output cell\n",
       "var outputEl = gd.closest('.output');\n",
       "if (outputEl) {{\n",
       "    x.observe(outputEl, {childList: true});\n",
       "}}\n",
       "\n",
       "                        })                };                });            </script>        </div>"
      ]
     },
     "metadata": {},
     "output_type": "display_data"
    }
   ],
   "source": [
    "df.sum().iplot(kind='bar')"
   ]
  },
  {
   "cell_type": "markdown",
   "metadata": {},
   "source": [
    "# Boxplots"
   ]
  },
  {
   "cell_type": "code",
   "execution_count": 12,
   "metadata": {},
   "outputs": [
    {
     "data": {
      "application/vnd.plotly.v1+json": {
       "config": {
        "linkText": "Export to plot.ly",
        "plotlyServerURL": "https://plot.ly",
        "showLink": true
       },
       "data": [
        {
         "boxpoints": false,
         "line": {
          "width": 1.3
         },
         "marker": {
          "color": "rgba(255, 153, 51, 1.0)"
         },
         "name": "A",
         "orientation": "v",
         "type": "box",
         "y": [
          -0.7211844881720889,
          -1.460522588285307,
          2.154948856212787,
          -0.49761196784253425,
          0.45284763019750024,
          -0.2146016535662887,
          0.6461779730757492,
          -0.11825227421614609,
          1.2915518225379228,
          0.18608916067102835,
          -1.4874697128735566,
          -2.674955108446302,
          0.9190575231032203,
          -2.5325371551100275,
          -1.6777824953054545,
          -0.5467026438923042,
          0.5889265073259935,
          0.5713454137445192,
          -0.7405110737545675,
          -0.3762010861641179,
          0.1489885436790522,
          0.5826629600411326,
          9.93956133860854e-05,
          1.3228779971160258,
          1.548816618475939,
          1.0493635334616715,
          -0.41796228792981016,
          0.17190353418274495,
          0.26603823982029823,
          1.7748592869778435,
          -0.7486339320839377,
          0.0800193740814564,
          0.024234150399956793,
          -1.2542478347818165,
          0.437098308644309,
          0.703962364809523,
          -1.456325016003159,
          -1.515331912201515,
          -1.6783903384875147,
          -0.4105728612305543,
          -1.609348939801891,
          0.20873382660773848,
          1.7185816695607006,
          1.515224936174814,
          1.0690785260274,
          -1.6264240979749063,
          -0.10391990265168422,
          -1.0109174745146479,
          -1.9146061901244,
          0.8887427941528846,
          1.1887629381499019,
          -2.628399663534101,
          1.4627541154619559,
          1.2193879796116494,
          0.03120731155045379,
          0.19112324160339209,
          -0.41263213724016684,
          1.2195646026171014,
          -0.9357186450127927,
          -0.7735198800180834,
          0.7193889197776803,
          0.6576833793061325,
          -1.056242381180936,
          0.09944112179190494,
          1.0607886466058087,
          1.7480384469434798,
          -0.2925634435299589,
          -2.259658886505214,
          -1.693429506937218,
          2.0564346631440666,
          -0.14075746225916153,
          1.1671358816250528,
          -0.5788602987660235,
          -0.0019086180276748474,
          -1.9031784355512493,
          0.6697468613769787,
          1.2899599026774455,
          1.0937370716707826,
          0.2270561295865113,
          -0.22835157535766273,
          -0.21301396382913657,
          0.2796610966082171,
          0.6150753211568992,
          -0.8829404665561942,
          -0.4656916952739058,
          -0.4252283999883795,
          0.4855630893895303,
          0.21391697236657217,
          -0.24628332366479058,
          0.1698428083437271,
          0.4165353423709389,
          1.0312345779753802,
          -0.3802955308874277,
          -0.24345550305773975,
          -1.6088187152500206,
          1.362642934270473,
          0.5659359812206953,
          -0.08982000068507776,
          0.13460869031949085,
          0.07277500218970358
         ]
        },
        {
         "boxpoints": false,
         "line": {
          "width": 1.3
         },
         "marker": {
          "color": "rgba(55, 128, 191, 1.0)"
         },
         "name": "B",
         "orientation": "v",
         "type": "box",
         "y": [
          1.9363176963824915,
          0.783691095069216,
          -1.1913463628659005,
          -0.6441276887203147,
          1.1687904468466739,
          0.6323414704685131,
          -1.2191589935127074,
          -0.2143976718639855,
          -1.9448875532251129,
          -0.28376974222916534,
          1.5782128138754477,
          -1.8196443931299022,
          -0.6407499492278539,
          -0.4211817381995266,
          0.749816068741311,
          1.0357869223281948,
          1.4574441310839379,
          -0.3042344579582755,
          0.19723781050623027,
          -0.5624181531021479,
          -1.4068385344205947,
          -1.467133562334591,
          -0.5674350597043402,
          -2.129336044404162,
          1.1758806168946234,
          -0.16448995704076652,
          -0.9779043170437532,
          -0.34597066195963844,
          0.5646432182256792,
          1.3236523242202396,
          0.6072867513938234,
          -0.568385280381742,
          -1.1186532483940683,
          0.30430474772314803,
          -0.31653229378343317,
          0.10274254004759957,
          -0.4004143253747189,
          -0.5401696407335572,
          -1.7905406758414422,
          -0.3447153898348365,
          0.01640549905721995,
          1.329803844957976,
          -0.2838454848295598,
          -0.7149500718878599,
          2.131509449259118,
          -0.20594262819363468,
          -0.46095460604086497,
          1.3762460600580146,
          -0.5315216700601639,
          0.4330121353014572,
          -1.0421993308088067,
          -1.5558986585240033,
          -1.218392913837334,
          0.44444621727844846,
          -0.3033811422910685,
          -0.2348174161172821,
          0.6761559094978562,
          -0.1433003612459205,
          -0.5021565887281341,
          -0.5643974865846672,
          -0.32738588487886683,
          2.7095465578361577,
          0.18779561954741292,
          -0.179442053806397,
          0.16190622421114106,
          -0.10631574297220216,
          -0.9719562551176633,
          -0.8864656963735614,
          -1.0971579537801677,
          0.5703636600272055,
          0.017455999104761276,
          0.10764563017514592,
          0.6674390203404504,
          -1.5483790010746306,
          0.7855020724347893,
          1.0864443237398242,
          -0.09412775608332852,
          -0.7155961933081841,
          2.1220822162796087,
          0.6706361949388256,
          -0.5290544807432842,
          -2.2005054084000197,
          0.1576792060896083,
          0.09945177553841868,
          -1.8392810801254043,
          -0.9192852920587717,
          2.4718464231328774,
          0.2076321039179723,
          -0.8445272827194005,
          -0.8008434375387793,
          -0.007766019613267419,
          0.5090193899057244,
          -0.0030644485108717303,
          1.2109719752722654,
          -0.8042659230928949,
          0.0639503553332306,
          -0.19669717584049626,
          0.3109834776847498,
          0.27778199066943177,
          0.9202818228115818
         ]
        },
        {
         "boxpoints": false,
         "line": {
          "width": 1.3
         },
         "marker": {
          "color": "rgba(50, 171, 96, 1.0)"
         },
         "name": "C",
         "orientation": "v",
         "type": "box",
         "y": [
          1.4859017289979828,
          -0.33882624051823435,
          0.5643405958898692,
          1.2614884985758812,
          1.6779225026293678,
          -1.5007675294668912,
          -0.3133709553042308,
          -0.24881116987413524,
          -0.8984296938782744,
          0.8517918517884915,
          0.7914783840592418,
          1.0118561818366778,
          -0.16940827506921166,
          0.48119272683245096,
          -0.5302480006131105,
          -0.12596380055710518,
          -0.914482692452627,
          0.2430324564669559,
          -0.6271456877220737,
          -0.039243873746583474,
          -0.624373521737248,
          -0.7011493076273844,
          0.34747903798741425,
          -0.703721067051155,
          0.8724572241803034,
          0.5465326745477941,
          -1.0166519623938672,
          -0.22250238064915695,
          0.7798878940201981,
          -0.47769775108492524,
          0.7515736123635777,
          -0.7065355298480203,
          0.5293249332023787,
          -1.1892173218761193,
          2.1194522888672753,
          -0.10986125717974393,
          0.8791148594632846,
          0.5460438641241416,
          -0.30489535972538856,
          0.22483542272608617,
          0.6888768183285222,
          -0.6729712777178668,
          -0.7300028071817591,
          0.2679722597855181,
          0.6035977345794945,
          1.180301839137286,
          -1.2760752780811426,
          0.9142491827677313,
          0.4425859047930506,
          1.154320087707713,
          -2.735241340135281,
          1.1364550696252336,
          0.3001807224411202,
          0.12550119080175973,
          -0.5560080144457152,
          -0.693293437527863,
          3.0194991712263026,
          -0.4262567543938785,
          0.5764953151360391,
          0.45139734451565655,
          -0.167279095942579,
          1.2692271053324897,
          -1.019028606681503,
          -0.6739974262146932,
          0.08992637211206918,
          0.7261097008800064,
          -0.17338081937656077,
          -0.7215243294097896,
          0.09804193397711113,
          -0.42254823205487335,
          -1.3675350240945991,
          0.8495984942986297,
          -2.331481960731101,
          -0.255456500873279,
          -1.0621376786949863,
          1.672461134218411,
          -0.27760778046229584,
          1.2612127949309468,
          -0.9445409907916669,
          -0.7510247839559636,
          0.3586429710448984,
          2.0143853340331566,
          1.0897052639120521,
          1.3917973240762471,
          1.0649228888781936,
          -1.1921019278896943,
          0.3584927758114282,
          -1.446003874283754,
          0.4617132803189797,
          0.022046213056134613,
          -1.0258203592039308,
          -1.7522236855261502,
          0.4623225073343496,
          -0.12079620716968513,
          -0.07238179439131184,
          -0.8239656021056064,
          1.5573934006047707,
          0.011873561422134572,
          0.1454108215874784,
          0.3194758145951463
         ]
        },
        {
         "boxpoints": false,
         "line": {
          "width": 1.3
         },
         "marker": {
          "color": "rgba(128, 0, 128, 1.0)"
         },
         "name": "D",
         "orientation": "v",
         "type": "box",
         "y": [
          -1.4248961080733737,
          -0.3273423015501189,
          -1.251243272904655,
          0.03571868360370304,
          -0.8831359287118566,
          -0.4570458265199517,
          0.6669520968804289,
          0.12954797107100285,
          -1.1872784105353085,
          -1.0788534706921908,
          0.30414595111300274,
          -0.5808001420568194,
          0.7181559955419363,
          0.06431165990781074,
          0.4849600848179319,
          1.4650669998186705,
          0.3674900679512842,
          0.4659875208335856,
          1.8188709506352152,
          -2.4086829521242197,
          0.14269415469329055,
          -0.8986756621656249,
          0.24858640874522073,
          -0.6666710092100481,
          0.5312821075428688,
          0.6019372930953827,
          -0.8785566114030708,
          0.681347037704834,
          -0.5275682348277461,
          0.5224893317843847,
          -0.4632983081749662,
          0.11455424289896247,
          -0.5877204962503827,
          -0.2727428023361453,
          0.11871099006403349,
          -0.012220458087781596,
          -0.3418858101884144,
          -0.1701824065150667,
          0.19866144793597726,
          2.2346940769277372,
          0.2699534923198242,
          1.4952770521817178,
          1.9779450932749005,
          -0.1573965657928153,
          0.21480268763970578,
          -0.014537958815027823,
          0.9464220940372752,
          0.6011294964228965,
          -0.5791683004735586,
          -0.14674788751325316,
          0.742208864305391,
          0.5414212853423049,
          -0.9944259857720036,
          -0.2959846855161765,
          0.23580701543961627,
          -1.6600227313443063,
          -0.9233777628566187,
          -0.5238750058782555,
          -2.993809512427146,
          -0.8172655557837051,
          -0.29137604806023587,
          -0.2996317587288255,
          -0.5762542829528886,
          -1.4475470129302017,
          0.7626889846818631,
          -0.11586394220813491,
          0.7333320422309404,
          0.2631279090696038,
          0.15528968037263927,
          -0.4027569275919533,
          1.2364870960612364,
          1.1247560994972394,
          0.158400504315808,
          -0.8953734151597598,
          0.029924998471448666,
          1.0348887702004474,
          -0.08442864675348455,
          2.5868485824131993,
          1.117124451409192,
          -0.8021254788163592,
          1.3609419169157688,
          -0.9939500139315293,
          0.5130557561569394,
          -1.2397896504581485,
          -0.24837163218103428,
          -0.3698617259191884,
          -1.0388166503324645,
          0.9790966570987323,
          -0.11488459891479715,
          0.49015055617855424,
          -0.25275398163526946,
          1.1848213764718107,
          0.23659704857385866,
          -0.2719241288569037,
          1.325505481258998,
          -1.3312249257331565,
          1.2051807720165935,
          0.5847206558372181,
          0.06900031359470782,
          1.0132343277241416
         ]
        }
       ],
       "layout": {
        "legend": {
         "bgcolor": "#F5F6F9",
         "font": {
          "color": "#4D5663"
         }
        },
        "paper_bgcolor": "#F5F6F9",
        "plot_bgcolor": "#F5F6F9",
        "template": {
         "data": {
          "bar": [
           {
            "error_x": {
             "color": "#2a3f5f"
            },
            "error_y": {
             "color": "#2a3f5f"
            },
            "marker": {
             "line": {
              "color": "#E5ECF6",
              "width": 0.5
             },
             "pattern": {
              "fillmode": "overlay",
              "size": 10,
              "solidity": 0.2
             }
            },
            "type": "bar"
           }
          ],
          "barpolar": [
           {
            "marker": {
             "line": {
              "color": "#E5ECF6",
              "width": 0.5
             },
             "pattern": {
              "fillmode": "overlay",
              "size": 10,
              "solidity": 0.2
             }
            },
            "type": "barpolar"
           }
          ],
          "carpet": [
           {
            "aaxis": {
             "endlinecolor": "#2a3f5f",
             "gridcolor": "white",
             "linecolor": "white",
             "minorgridcolor": "white",
             "startlinecolor": "#2a3f5f"
            },
            "baxis": {
             "endlinecolor": "#2a3f5f",
             "gridcolor": "white",
             "linecolor": "white",
             "minorgridcolor": "white",
             "startlinecolor": "#2a3f5f"
            },
            "type": "carpet"
           }
          ],
          "choropleth": [
           {
            "colorbar": {
             "outlinewidth": 0,
             "ticks": ""
            },
            "type": "choropleth"
           }
          ],
          "contour": [
           {
            "colorbar": {
             "outlinewidth": 0,
             "ticks": ""
            },
            "colorscale": [
             [
              0,
              "#0d0887"
             ],
             [
              0.1111111111111111,
              "#46039f"
             ],
             [
              0.2222222222222222,
              "#7201a8"
             ],
             [
              0.3333333333333333,
              "#9c179e"
             ],
             [
              0.4444444444444444,
              "#bd3786"
             ],
             [
              0.5555555555555556,
              "#d8576b"
             ],
             [
              0.6666666666666666,
              "#ed7953"
             ],
             [
              0.7777777777777778,
              "#fb9f3a"
             ],
             [
              0.8888888888888888,
              "#fdca26"
             ],
             [
              1,
              "#f0f921"
             ]
            ],
            "type": "contour"
           }
          ],
          "contourcarpet": [
           {
            "colorbar": {
             "outlinewidth": 0,
             "ticks": ""
            },
            "type": "contourcarpet"
           }
          ],
          "heatmap": [
           {
            "colorbar": {
             "outlinewidth": 0,
             "ticks": ""
            },
            "colorscale": [
             [
              0,
              "#0d0887"
             ],
             [
              0.1111111111111111,
              "#46039f"
             ],
             [
              0.2222222222222222,
              "#7201a8"
             ],
             [
              0.3333333333333333,
              "#9c179e"
             ],
             [
              0.4444444444444444,
              "#bd3786"
             ],
             [
              0.5555555555555556,
              "#d8576b"
             ],
             [
              0.6666666666666666,
              "#ed7953"
             ],
             [
              0.7777777777777778,
              "#fb9f3a"
             ],
             [
              0.8888888888888888,
              "#fdca26"
             ],
             [
              1,
              "#f0f921"
             ]
            ],
            "type": "heatmap"
           }
          ],
          "heatmapgl": [
           {
            "colorbar": {
             "outlinewidth": 0,
             "ticks": ""
            },
            "colorscale": [
             [
              0,
              "#0d0887"
             ],
             [
              0.1111111111111111,
              "#46039f"
             ],
             [
              0.2222222222222222,
              "#7201a8"
             ],
             [
              0.3333333333333333,
              "#9c179e"
             ],
             [
              0.4444444444444444,
              "#bd3786"
             ],
             [
              0.5555555555555556,
              "#d8576b"
             ],
             [
              0.6666666666666666,
              "#ed7953"
             ],
             [
              0.7777777777777778,
              "#fb9f3a"
             ],
             [
              0.8888888888888888,
              "#fdca26"
             ],
             [
              1,
              "#f0f921"
             ]
            ],
            "type": "heatmapgl"
           }
          ],
          "histogram": [
           {
            "marker": {
             "pattern": {
              "fillmode": "overlay",
              "size": 10,
              "solidity": 0.2
             }
            },
            "type": "histogram"
           }
          ],
          "histogram2d": [
           {
            "colorbar": {
             "outlinewidth": 0,
             "ticks": ""
            },
            "colorscale": [
             [
              0,
              "#0d0887"
             ],
             [
              0.1111111111111111,
              "#46039f"
             ],
             [
              0.2222222222222222,
              "#7201a8"
             ],
             [
              0.3333333333333333,
              "#9c179e"
             ],
             [
              0.4444444444444444,
              "#bd3786"
             ],
             [
              0.5555555555555556,
              "#d8576b"
             ],
             [
              0.6666666666666666,
              "#ed7953"
             ],
             [
              0.7777777777777778,
              "#fb9f3a"
             ],
             [
              0.8888888888888888,
              "#fdca26"
             ],
             [
              1,
              "#f0f921"
             ]
            ],
            "type": "histogram2d"
           }
          ],
          "histogram2dcontour": [
           {
            "colorbar": {
             "outlinewidth": 0,
             "ticks": ""
            },
            "colorscale": [
             [
              0,
              "#0d0887"
             ],
             [
              0.1111111111111111,
              "#46039f"
             ],
             [
              0.2222222222222222,
              "#7201a8"
             ],
             [
              0.3333333333333333,
              "#9c179e"
             ],
             [
              0.4444444444444444,
              "#bd3786"
             ],
             [
              0.5555555555555556,
              "#d8576b"
             ],
             [
              0.6666666666666666,
              "#ed7953"
             ],
             [
              0.7777777777777778,
              "#fb9f3a"
             ],
             [
              0.8888888888888888,
              "#fdca26"
             ],
             [
              1,
              "#f0f921"
             ]
            ],
            "type": "histogram2dcontour"
           }
          ],
          "mesh3d": [
           {
            "colorbar": {
             "outlinewidth": 0,
             "ticks": ""
            },
            "type": "mesh3d"
           }
          ],
          "parcoords": [
           {
            "line": {
             "colorbar": {
              "outlinewidth": 0,
              "ticks": ""
             }
            },
            "type": "parcoords"
           }
          ],
          "pie": [
           {
            "automargin": true,
            "type": "pie"
           }
          ],
          "scatter": [
           {
            "marker": {
             "colorbar": {
              "outlinewidth": 0,
              "ticks": ""
             }
            },
            "type": "scatter"
           }
          ],
          "scatter3d": [
           {
            "line": {
             "colorbar": {
              "outlinewidth": 0,
              "ticks": ""
             }
            },
            "marker": {
             "colorbar": {
              "outlinewidth": 0,
              "ticks": ""
             }
            },
            "type": "scatter3d"
           }
          ],
          "scattercarpet": [
           {
            "marker": {
             "colorbar": {
              "outlinewidth": 0,
              "ticks": ""
             }
            },
            "type": "scattercarpet"
           }
          ],
          "scattergeo": [
           {
            "marker": {
             "colorbar": {
              "outlinewidth": 0,
              "ticks": ""
             }
            },
            "type": "scattergeo"
           }
          ],
          "scattergl": [
           {
            "marker": {
             "colorbar": {
              "outlinewidth": 0,
              "ticks": ""
             }
            },
            "type": "scattergl"
           }
          ],
          "scattermapbox": [
           {
            "marker": {
             "colorbar": {
              "outlinewidth": 0,
              "ticks": ""
             }
            },
            "type": "scattermapbox"
           }
          ],
          "scatterpolar": [
           {
            "marker": {
             "colorbar": {
              "outlinewidth": 0,
              "ticks": ""
             }
            },
            "type": "scatterpolar"
           }
          ],
          "scatterpolargl": [
           {
            "marker": {
             "colorbar": {
              "outlinewidth": 0,
              "ticks": ""
             }
            },
            "type": "scatterpolargl"
           }
          ],
          "scatterternary": [
           {
            "marker": {
             "colorbar": {
              "outlinewidth": 0,
              "ticks": ""
             }
            },
            "type": "scatterternary"
           }
          ],
          "surface": [
           {
            "colorbar": {
             "outlinewidth": 0,
             "ticks": ""
            },
            "colorscale": [
             [
              0,
              "#0d0887"
             ],
             [
              0.1111111111111111,
              "#46039f"
             ],
             [
              0.2222222222222222,
              "#7201a8"
             ],
             [
              0.3333333333333333,
              "#9c179e"
             ],
             [
              0.4444444444444444,
              "#bd3786"
             ],
             [
              0.5555555555555556,
              "#d8576b"
             ],
             [
              0.6666666666666666,
              "#ed7953"
             ],
             [
              0.7777777777777778,
              "#fb9f3a"
             ],
             [
              0.8888888888888888,
              "#fdca26"
             ],
             [
              1,
              "#f0f921"
             ]
            ],
            "type": "surface"
           }
          ],
          "table": [
           {
            "cells": {
             "fill": {
              "color": "#EBF0F8"
             },
             "line": {
              "color": "white"
             }
            },
            "header": {
             "fill": {
              "color": "#C8D4E3"
             },
             "line": {
              "color": "white"
             }
            },
            "type": "table"
           }
          ]
         },
         "layout": {
          "annotationdefaults": {
           "arrowcolor": "#2a3f5f",
           "arrowhead": 0,
           "arrowwidth": 1
          },
          "autotypenumbers": "strict",
          "coloraxis": {
           "colorbar": {
            "outlinewidth": 0,
            "ticks": ""
           }
          },
          "colorscale": {
           "diverging": [
            [
             0,
             "#8e0152"
            ],
            [
             0.1,
             "#c51b7d"
            ],
            [
             0.2,
             "#de77ae"
            ],
            [
             0.3,
             "#f1b6da"
            ],
            [
             0.4,
             "#fde0ef"
            ],
            [
             0.5,
             "#f7f7f7"
            ],
            [
             0.6,
             "#e6f5d0"
            ],
            [
             0.7,
             "#b8e186"
            ],
            [
             0.8,
             "#7fbc41"
            ],
            [
             0.9,
             "#4d9221"
            ],
            [
             1,
             "#276419"
            ]
           ],
           "sequential": [
            [
             0,
             "#0d0887"
            ],
            [
             0.1111111111111111,
             "#46039f"
            ],
            [
             0.2222222222222222,
             "#7201a8"
            ],
            [
             0.3333333333333333,
             "#9c179e"
            ],
            [
             0.4444444444444444,
             "#bd3786"
            ],
            [
             0.5555555555555556,
             "#d8576b"
            ],
            [
             0.6666666666666666,
             "#ed7953"
            ],
            [
             0.7777777777777778,
             "#fb9f3a"
            ],
            [
             0.8888888888888888,
             "#fdca26"
            ],
            [
             1,
             "#f0f921"
            ]
           ],
           "sequentialminus": [
            [
             0,
             "#0d0887"
            ],
            [
             0.1111111111111111,
             "#46039f"
            ],
            [
             0.2222222222222222,
             "#7201a8"
            ],
            [
             0.3333333333333333,
             "#9c179e"
            ],
            [
             0.4444444444444444,
             "#bd3786"
            ],
            [
             0.5555555555555556,
             "#d8576b"
            ],
            [
             0.6666666666666666,
             "#ed7953"
            ],
            [
             0.7777777777777778,
             "#fb9f3a"
            ],
            [
             0.8888888888888888,
             "#fdca26"
            ],
            [
             1,
             "#f0f921"
            ]
           ]
          },
          "colorway": [
           "#636efa",
           "#EF553B",
           "#00cc96",
           "#ab63fa",
           "#FFA15A",
           "#19d3f3",
           "#FF6692",
           "#B6E880",
           "#FF97FF",
           "#FECB52"
          ],
          "font": {
           "color": "#2a3f5f"
          },
          "geo": {
           "bgcolor": "white",
           "lakecolor": "white",
           "landcolor": "#E5ECF6",
           "showlakes": true,
           "showland": true,
           "subunitcolor": "white"
          },
          "hoverlabel": {
           "align": "left"
          },
          "hovermode": "closest",
          "mapbox": {
           "style": "light"
          },
          "paper_bgcolor": "white",
          "plot_bgcolor": "#E5ECF6",
          "polar": {
           "angularaxis": {
            "gridcolor": "white",
            "linecolor": "white",
            "ticks": ""
           },
           "bgcolor": "#E5ECF6",
           "radialaxis": {
            "gridcolor": "white",
            "linecolor": "white",
            "ticks": ""
           }
          },
          "scene": {
           "xaxis": {
            "backgroundcolor": "#E5ECF6",
            "gridcolor": "white",
            "gridwidth": 2,
            "linecolor": "white",
            "showbackground": true,
            "ticks": "",
            "zerolinecolor": "white"
           },
           "yaxis": {
            "backgroundcolor": "#E5ECF6",
            "gridcolor": "white",
            "gridwidth": 2,
            "linecolor": "white",
            "showbackground": true,
            "ticks": "",
            "zerolinecolor": "white"
           },
           "zaxis": {
            "backgroundcolor": "#E5ECF6",
            "gridcolor": "white",
            "gridwidth": 2,
            "linecolor": "white",
            "showbackground": true,
            "ticks": "",
            "zerolinecolor": "white"
           }
          },
          "shapedefaults": {
           "line": {
            "color": "#2a3f5f"
           }
          },
          "ternary": {
           "aaxis": {
            "gridcolor": "white",
            "linecolor": "white",
            "ticks": ""
           },
           "baxis": {
            "gridcolor": "white",
            "linecolor": "white",
            "ticks": ""
           },
           "bgcolor": "#E5ECF6",
           "caxis": {
            "gridcolor": "white",
            "linecolor": "white",
            "ticks": ""
           }
          },
          "title": {
           "x": 0.05
          },
          "xaxis": {
           "automargin": true,
           "gridcolor": "white",
           "linecolor": "white",
           "ticks": "",
           "title": {
            "standoff": 15
           },
           "zerolinecolor": "white",
           "zerolinewidth": 2
          },
          "yaxis": {
           "automargin": true,
           "gridcolor": "white",
           "linecolor": "white",
           "ticks": "",
           "title": {
            "standoff": 15
           },
           "zerolinecolor": "white",
           "zerolinewidth": 2
          }
         }
        },
        "title": {
         "font": {
          "color": "#4D5663"
         }
        },
        "xaxis": {
         "gridcolor": "#E1E5ED",
         "showgrid": true,
         "tickfont": {
          "color": "#4D5663"
         },
         "title": {
          "font": {
           "color": "#4D5663"
          },
          "text": ""
         },
         "zerolinecolor": "#E1E5ED"
        },
        "yaxis": {
         "gridcolor": "#E1E5ED",
         "showgrid": true,
         "tickfont": {
          "color": "#4D5663"
         },
         "title": {
          "font": {
           "color": "#4D5663"
          },
          "text": ""
         },
         "zerolinecolor": "#E1E5ED"
        }
       }
      },
      "text/html": [
       "<div>                            <div id=\"be53cbbf-e967-40c2-8288-299b5ddb48e8\" class=\"plotly-graph-div\" style=\"height:525px; width:100%;\"></div>            <script type=\"text/javascript\">                require([\"plotly\"], function(Plotly) {                    window.PLOTLYENV=window.PLOTLYENV || {};\n",
       "                    window.PLOTLYENV.BASE_URL='https://plot.ly';                                    if (document.getElementById(\"be53cbbf-e967-40c2-8288-299b5ddb48e8\")) {                    Plotly.newPlot(                        \"be53cbbf-e967-40c2-8288-299b5ddb48e8\",                        [{\"boxpoints\":false,\"line\":{\"width\":1.3},\"marker\":{\"color\":\"rgba(255, 153, 51, 1.0)\"},\"name\":\"A\",\"orientation\":\"v\",\"y\":[-0.7211844881720889,-1.460522588285307,2.154948856212787,-0.49761196784253425,0.45284763019750024,-0.2146016535662887,0.6461779730757492,-0.11825227421614609,1.2915518225379228,0.18608916067102835,-1.4874697128735566,-2.674955108446302,0.9190575231032203,-2.5325371551100275,-1.6777824953054545,-0.5467026438923042,0.5889265073259935,0.5713454137445192,-0.7405110737545675,-0.3762010861641179,0.1489885436790522,0.5826629600411326,9.93956133860854e-05,1.3228779971160258,1.548816618475939,1.0493635334616715,-0.41796228792981016,0.17190353418274495,0.26603823982029823,1.7748592869778435,-0.7486339320839377,0.0800193740814564,0.024234150399956793,-1.2542478347818165,0.437098308644309,0.703962364809523,-1.456325016003159,-1.515331912201515,-1.6783903384875147,-0.4105728612305543,-1.609348939801891,0.20873382660773848,1.7185816695607006,1.515224936174814,1.0690785260274,-1.6264240979749063,-0.10391990265168422,-1.0109174745146479,-1.9146061901244,0.8887427941528846,1.1887629381499019,-2.628399663534101,1.4627541154619559,1.2193879796116494,0.03120731155045379,0.19112324160339209,-0.41263213724016684,1.2195646026171014,-0.9357186450127927,-0.7735198800180834,0.7193889197776803,0.6576833793061325,-1.056242381180936,0.09944112179190494,1.0607886466058087,1.7480384469434798,-0.2925634435299589,-2.259658886505214,-1.693429506937218,2.0564346631440666,-0.14075746225916153,1.1671358816250528,-0.5788602987660235,-0.0019086180276748474,-1.9031784355512493,0.6697468613769787,1.2899599026774455,1.0937370716707826,0.2270561295865113,-0.22835157535766273,-0.21301396382913657,0.2796610966082171,0.6150753211568992,-0.8829404665561942,-0.4656916952739058,-0.4252283999883795,0.4855630893895303,0.21391697236657217,-0.24628332366479058,0.1698428083437271,0.4165353423709389,1.0312345779753802,-0.3802955308874277,-0.24345550305773975,-1.6088187152500206,1.362642934270473,0.5659359812206953,-0.08982000068507776,0.13460869031949085,0.07277500218970358],\"type\":\"box\"},{\"boxpoints\":false,\"line\":{\"width\":1.3},\"marker\":{\"color\":\"rgba(55, 128, 191, 1.0)\"},\"name\":\"B\",\"orientation\":\"v\",\"y\":[1.9363176963824915,0.783691095069216,-1.1913463628659005,-0.6441276887203147,1.1687904468466739,0.6323414704685131,-1.2191589935127074,-0.2143976718639855,-1.9448875532251129,-0.28376974222916534,1.5782128138754477,-1.8196443931299022,-0.6407499492278539,-0.4211817381995266,0.749816068741311,1.0357869223281948,1.4574441310839379,-0.3042344579582755,0.19723781050623027,-0.5624181531021479,-1.4068385344205947,-1.467133562334591,-0.5674350597043402,-2.129336044404162,1.1758806168946234,-0.16448995704076652,-0.9779043170437532,-0.34597066195963844,0.5646432182256792,1.3236523242202396,0.6072867513938234,-0.568385280381742,-1.1186532483940683,0.30430474772314803,-0.31653229378343317,0.10274254004759957,-0.4004143253747189,-0.5401696407335572,-1.7905406758414422,-0.3447153898348365,0.01640549905721995,1.329803844957976,-0.2838454848295598,-0.7149500718878599,2.131509449259118,-0.20594262819363468,-0.46095460604086497,1.3762460600580146,-0.5315216700601639,0.4330121353014572,-1.0421993308088067,-1.5558986585240033,-1.218392913837334,0.44444621727844846,-0.3033811422910685,-0.2348174161172821,0.6761559094978562,-0.1433003612459205,-0.5021565887281341,-0.5643974865846672,-0.32738588487886683,2.7095465578361577,0.18779561954741292,-0.179442053806397,0.16190622421114106,-0.10631574297220216,-0.9719562551176633,-0.8864656963735614,-1.0971579537801677,0.5703636600272055,0.017455999104761276,0.10764563017514592,0.6674390203404504,-1.5483790010746306,0.7855020724347893,1.0864443237398242,-0.09412775608332852,-0.7155961933081841,2.1220822162796087,0.6706361949388256,-0.5290544807432842,-2.2005054084000197,0.1576792060896083,0.09945177553841868,-1.8392810801254043,-0.9192852920587717,2.4718464231328774,0.2076321039179723,-0.8445272827194005,-0.8008434375387793,-0.007766019613267419,0.5090193899057244,-0.0030644485108717303,1.2109719752722654,-0.8042659230928949,0.0639503553332306,-0.19669717584049626,0.3109834776847498,0.27778199066943177,0.9202818228115818],\"type\":\"box\"},{\"boxpoints\":false,\"line\":{\"width\":1.3},\"marker\":{\"color\":\"rgba(50, 171, 96, 1.0)\"},\"name\":\"C\",\"orientation\":\"v\",\"y\":[1.4859017289979828,-0.33882624051823435,0.5643405958898692,1.2614884985758812,1.6779225026293678,-1.5007675294668912,-0.3133709553042308,-0.24881116987413524,-0.8984296938782744,0.8517918517884915,0.7914783840592418,1.0118561818366778,-0.16940827506921166,0.48119272683245096,-0.5302480006131105,-0.12596380055710518,-0.914482692452627,0.2430324564669559,-0.6271456877220737,-0.039243873746583474,-0.624373521737248,-0.7011493076273844,0.34747903798741425,-0.703721067051155,0.8724572241803034,0.5465326745477941,-1.0166519623938672,-0.22250238064915695,0.7798878940201981,-0.47769775108492524,0.7515736123635777,-0.7065355298480203,0.5293249332023787,-1.1892173218761193,2.1194522888672753,-0.10986125717974393,0.8791148594632846,0.5460438641241416,-0.30489535972538856,0.22483542272608617,0.6888768183285222,-0.6729712777178668,-0.7300028071817591,0.2679722597855181,0.6035977345794945,1.180301839137286,-1.2760752780811426,0.9142491827677313,0.4425859047930506,1.154320087707713,-2.735241340135281,1.1364550696252336,0.3001807224411202,0.12550119080175973,-0.5560080144457152,-0.693293437527863,3.0194991712263026,-0.4262567543938785,0.5764953151360391,0.45139734451565655,-0.167279095942579,1.2692271053324897,-1.019028606681503,-0.6739974262146932,0.08992637211206918,0.7261097008800064,-0.17338081937656077,-0.7215243294097896,0.09804193397711113,-0.42254823205487335,-1.3675350240945991,0.8495984942986297,-2.331481960731101,-0.255456500873279,-1.0621376786949863,1.672461134218411,-0.27760778046229584,1.2612127949309468,-0.9445409907916669,-0.7510247839559636,0.3586429710448984,2.0143853340331566,1.0897052639120521,1.3917973240762471,1.0649228888781936,-1.1921019278896943,0.3584927758114282,-1.446003874283754,0.4617132803189797,0.022046213056134613,-1.0258203592039308,-1.7522236855261502,0.4623225073343496,-0.12079620716968513,-0.07238179439131184,-0.8239656021056064,1.5573934006047707,0.011873561422134572,0.1454108215874784,0.3194758145951463],\"type\":\"box\"},{\"boxpoints\":false,\"line\":{\"width\":1.3},\"marker\":{\"color\":\"rgba(128, 0, 128, 1.0)\"},\"name\":\"D\",\"orientation\":\"v\",\"y\":[-1.4248961080733737,-0.3273423015501189,-1.251243272904655,0.03571868360370304,-0.8831359287118566,-0.4570458265199517,0.6669520968804289,0.12954797107100285,-1.1872784105353085,-1.0788534706921908,0.30414595111300274,-0.5808001420568194,0.7181559955419363,0.06431165990781074,0.4849600848179319,1.4650669998186705,0.3674900679512842,0.4659875208335856,1.8188709506352152,-2.4086829521242197,0.14269415469329055,-0.8986756621656249,0.24858640874522073,-0.6666710092100481,0.5312821075428688,0.6019372930953827,-0.8785566114030708,0.681347037704834,-0.5275682348277461,0.5224893317843847,-0.4632983081749662,0.11455424289896247,-0.5877204962503827,-0.2727428023361453,0.11871099006403349,-0.012220458087781596,-0.3418858101884144,-0.1701824065150667,0.19866144793597726,2.2346940769277372,0.2699534923198242,1.4952770521817178,1.9779450932749005,-0.1573965657928153,0.21480268763970578,-0.014537958815027823,0.9464220940372752,0.6011294964228965,-0.5791683004735586,-0.14674788751325316,0.742208864305391,0.5414212853423049,-0.9944259857720036,-0.2959846855161765,0.23580701543961627,-1.6600227313443063,-0.9233777628566187,-0.5238750058782555,-2.993809512427146,-0.8172655557837051,-0.29137604806023587,-0.2996317587288255,-0.5762542829528886,-1.4475470129302017,0.7626889846818631,-0.11586394220813491,0.7333320422309404,0.2631279090696038,0.15528968037263927,-0.4027569275919533,1.2364870960612364,1.1247560994972394,0.158400504315808,-0.8953734151597598,0.029924998471448666,1.0348887702004474,-0.08442864675348455,2.5868485824131993,1.117124451409192,-0.8021254788163592,1.3609419169157688,-0.9939500139315293,0.5130557561569394,-1.2397896504581485,-0.24837163218103428,-0.3698617259191884,-1.0388166503324645,0.9790966570987323,-0.11488459891479715,0.49015055617855424,-0.25275398163526946,1.1848213764718107,0.23659704857385866,-0.2719241288569037,1.325505481258998,-1.3312249257331565,1.2051807720165935,0.5847206558372181,0.06900031359470782,1.0132343277241416],\"type\":\"box\"}],                        {\"legend\":{\"bgcolor\":\"#F5F6F9\",\"font\":{\"color\":\"#4D5663\"}},\"paper_bgcolor\":\"#F5F6F9\",\"plot_bgcolor\":\"#F5F6F9\",\"template\":{\"data\":{\"barpolar\":[{\"marker\":{\"line\":{\"color\":\"#E5ECF6\",\"width\":0.5},\"pattern\":{\"fillmode\":\"overlay\",\"size\":10,\"solidity\":0.2}},\"type\":\"barpolar\"}],\"bar\":[{\"error_x\":{\"color\":\"#2a3f5f\"},\"error_y\":{\"color\":\"#2a3f5f\"},\"marker\":{\"line\":{\"color\":\"#E5ECF6\",\"width\":0.5},\"pattern\":{\"fillmode\":\"overlay\",\"size\":10,\"solidity\":0.2}},\"type\":\"bar\"}],\"carpet\":[{\"aaxis\":{\"endlinecolor\":\"#2a3f5f\",\"gridcolor\":\"white\",\"linecolor\":\"white\",\"minorgridcolor\":\"white\",\"startlinecolor\":\"#2a3f5f\"},\"baxis\":{\"endlinecolor\":\"#2a3f5f\",\"gridcolor\":\"white\",\"linecolor\":\"white\",\"minorgridcolor\":\"white\",\"startlinecolor\":\"#2a3f5f\"},\"type\":\"carpet\"}],\"choropleth\":[{\"colorbar\":{\"outlinewidth\":0,\"ticks\":\"\"},\"type\":\"choropleth\"}],\"contourcarpet\":[{\"colorbar\":{\"outlinewidth\":0,\"ticks\":\"\"},\"type\":\"contourcarpet\"}],\"contour\":[{\"colorbar\":{\"outlinewidth\":0,\"ticks\":\"\"},\"colorscale\":[[0.0,\"#0d0887\"],[0.1111111111111111,\"#46039f\"],[0.2222222222222222,\"#7201a8\"],[0.3333333333333333,\"#9c179e\"],[0.4444444444444444,\"#bd3786\"],[0.5555555555555556,\"#d8576b\"],[0.6666666666666666,\"#ed7953\"],[0.7777777777777778,\"#fb9f3a\"],[0.8888888888888888,\"#fdca26\"],[1.0,\"#f0f921\"]],\"type\":\"contour\"}],\"heatmapgl\":[{\"colorbar\":{\"outlinewidth\":0,\"ticks\":\"\"},\"colorscale\":[[0.0,\"#0d0887\"],[0.1111111111111111,\"#46039f\"],[0.2222222222222222,\"#7201a8\"],[0.3333333333333333,\"#9c179e\"],[0.4444444444444444,\"#bd3786\"],[0.5555555555555556,\"#d8576b\"],[0.6666666666666666,\"#ed7953\"],[0.7777777777777778,\"#fb9f3a\"],[0.8888888888888888,\"#fdca26\"],[1.0,\"#f0f921\"]],\"type\":\"heatmapgl\"}],\"heatmap\":[{\"colorbar\":{\"outlinewidth\":0,\"ticks\":\"\"},\"colorscale\":[[0.0,\"#0d0887\"],[0.1111111111111111,\"#46039f\"],[0.2222222222222222,\"#7201a8\"],[0.3333333333333333,\"#9c179e\"],[0.4444444444444444,\"#bd3786\"],[0.5555555555555556,\"#d8576b\"],[0.6666666666666666,\"#ed7953\"],[0.7777777777777778,\"#fb9f3a\"],[0.8888888888888888,\"#fdca26\"],[1.0,\"#f0f921\"]],\"type\":\"heatmap\"}],\"histogram2dcontour\":[{\"colorbar\":{\"outlinewidth\":0,\"ticks\":\"\"},\"colorscale\":[[0.0,\"#0d0887\"],[0.1111111111111111,\"#46039f\"],[0.2222222222222222,\"#7201a8\"],[0.3333333333333333,\"#9c179e\"],[0.4444444444444444,\"#bd3786\"],[0.5555555555555556,\"#d8576b\"],[0.6666666666666666,\"#ed7953\"],[0.7777777777777778,\"#fb9f3a\"],[0.8888888888888888,\"#fdca26\"],[1.0,\"#f0f921\"]],\"type\":\"histogram2dcontour\"}],\"histogram2d\":[{\"colorbar\":{\"outlinewidth\":0,\"ticks\":\"\"},\"colorscale\":[[0.0,\"#0d0887\"],[0.1111111111111111,\"#46039f\"],[0.2222222222222222,\"#7201a8\"],[0.3333333333333333,\"#9c179e\"],[0.4444444444444444,\"#bd3786\"],[0.5555555555555556,\"#d8576b\"],[0.6666666666666666,\"#ed7953\"],[0.7777777777777778,\"#fb9f3a\"],[0.8888888888888888,\"#fdca26\"],[1.0,\"#f0f921\"]],\"type\":\"histogram2d\"}],\"histogram\":[{\"marker\":{\"pattern\":{\"fillmode\":\"overlay\",\"size\":10,\"solidity\":0.2}},\"type\":\"histogram\"}],\"mesh3d\":[{\"colorbar\":{\"outlinewidth\":0,\"ticks\":\"\"},\"type\":\"mesh3d\"}],\"parcoords\":[{\"line\":{\"colorbar\":{\"outlinewidth\":0,\"ticks\":\"\"}},\"type\":\"parcoords\"}],\"pie\":[{\"automargin\":true,\"type\":\"pie\"}],\"scatter3d\":[{\"line\":{\"colorbar\":{\"outlinewidth\":0,\"ticks\":\"\"}},\"marker\":{\"colorbar\":{\"outlinewidth\":0,\"ticks\":\"\"}},\"type\":\"scatter3d\"}],\"scattercarpet\":[{\"marker\":{\"colorbar\":{\"outlinewidth\":0,\"ticks\":\"\"}},\"type\":\"scattercarpet\"}],\"scattergeo\":[{\"marker\":{\"colorbar\":{\"outlinewidth\":0,\"ticks\":\"\"}},\"type\":\"scattergeo\"}],\"scattergl\":[{\"marker\":{\"colorbar\":{\"outlinewidth\":0,\"ticks\":\"\"}},\"type\":\"scattergl\"}],\"scattermapbox\":[{\"marker\":{\"colorbar\":{\"outlinewidth\":0,\"ticks\":\"\"}},\"type\":\"scattermapbox\"}],\"scatterpolargl\":[{\"marker\":{\"colorbar\":{\"outlinewidth\":0,\"ticks\":\"\"}},\"type\":\"scatterpolargl\"}],\"scatterpolar\":[{\"marker\":{\"colorbar\":{\"outlinewidth\":0,\"ticks\":\"\"}},\"type\":\"scatterpolar\"}],\"scatter\":[{\"marker\":{\"colorbar\":{\"outlinewidth\":0,\"ticks\":\"\"}},\"type\":\"scatter\"}],\"scatterternary\":[{\"marker\":{\"colorbar\":{\"outlinewidth\":0,\"ticks\":\"\"}},\"type\":\"scatterternary\"}],\"surface\":[{\"colorbar\":{\"outlinewidth\":0,\"ticks\":\"\"},\"colorscale\":[[0.0,\"#0d0887\"],[0.1111111111111111,\"#46039f\"],[0.2222222222222222,\"#7201a8\"],[0.3333333333333333,\"#9c179e\"],[0.4444444444444444,\"#bd3786\"],[0.5555555555555556,\"#d8576b\"],[0.6666666666666666,\"#ed7953\"],[0.7777777777777778,\"#fb9f3a\"],[0.8888888888888888,\"#fdca26\"],[1.0,\"#f0f921\"]],\"type\":\"surface\"}],\"table\":[{\"cells\":{\"fill\":{\"color\":\"#EBF0F8\"},\"line\":{\"color\":\"white\"}},\"header\":{\"fill\":{\"color\":\"#C8D4E3\"},\"line\":{\"color\":\"white\"}},\"type\":\"table\"}]},\"layout\":{\"annotationdefaults\":{\"arrowcolor\":\"#2a3f5f\",\"arrowhead\":0,\"arrowwidth\":1},\"autotypenumbers\":\"strict\",\"coloraxis\":{\"colorbar\":{\"outlinewidth\":0,\"ticks\":\"\"}},\"colorscale\":{\"diverging\":[[0,\"#8e0152\"],[0.1,\"#c51b7d\"],[0.2,\"#de77ae\"],[0.3,\"#f1b6da\"],[0.4,\"#fde0ef\"],[0.5,\"#f7f7f7\"],[0.6,\"#e6f5d0\"],[0.7,\"#b8e186\"],[0.8,\"#7fbc41\"],[0.9,\"#4d9221\"],[1,\"#276419\"]],\"sequential\":[[0.0,\"#0d0887\"],[0.1111111111111111,\"#46039f\"],[0.2222222222222222,\"#7201a8\"],[0.3333333333333333,\"#9c179e\"],[0.4444444444444444,\"#bd3786\"],[0.5555555555555556,\"#d8576b\"],[0.6666666666666666,\"#ed7953\"],[0.7777777777777778,\"#fb9f3a\"],[0.8888888888888888,\"#fdca26\"],[1.0,\"#f0f921\"]],\"sequentialminus\":[[0.0,\"#0d0887\"],[0.1111111111111111,\"#46039f\"],[0.2222222222222222,\"#7201a8\"],[0.3333333333333333,\"#9c179e\"],[0.4444444444444444,\"#bd3786\"],[0.5555555555555556,\"#d8576b\"],[0.6666666666666666,\"#ed7953\"],[0.7777777777777778,\"#fb9f3a\"],[0.8888888888888888,\"#fdca26\"],[1.0,\"#f0f921\"]]},\"colorway\":[\"#636efa\",\"#EF553B\",\"#00cc96\",\"#ab63fa\",\"#FFA15A\",\"#19d3f3\",\"#FF6692\",\"#B6E880\",\"#FF97FF\",\"#FECB52\"],\"font\":{\"color\":\"#2a3f5f\"},\"geo\":{\"bgcolor\":\"white\",\"lakecolor\":\"white\",\"landcolor\":\"#E5ECF6\",\"showlakes\":true,\"showland\":true,\"subunitcolor\":\"white\"},\"hoverlabel\":{\"align\":\"left\"},\"hovermode\":\"closest\",\"mapbox\":{\"style\":\"light\"},\"paper_bgcolor\":\"white\",\"plot_bgcolor\":\"#E5ECF6\",\"polar\":{\"angularaxis\":{\"gridcolor\":\"white\",\"linecolor\":\"white\",\"ticks\":\"\"},\"bgcolor\":\"#E5ECF6\",\"radialaxis\":{\"gridcolor\":\"white\",\"linecolor\":\"white\",\"ticks\":\"\"}},\"scene\":{\"xaxis\":{\"backgroundcolor\":\"#E5ECF6\",\"gridcolor\":\"white\",\"gridwidth\":2,\"linecolor\":\"white\",\"showbackground\":true,\"ticks\":\"\",\"zerolinecolor\":\"white\"},\"yaxis\":{\"backgroundcolor\":\"#E5ECF6\",\"gridcolor\":\"white\",\"gridwidth\":2,\"linecolor\":\"white\",\"showbackground\":true,\"ticks\":\"\",\"zerolinecolor\":\"white\"},\"zaxis\":{\"backgroundcolor\":\"#E5ECF6\",\"gridcolor\":\"white\",\"gridwidth\":2,\"linecolor\":\"white\",\"showbackground\":true,\"ticks\":\"\",\"zerolinecolor\":\"white\"}},\"shapedefaults\":{\"line\":{\"color\":\"#2a3f5f\"}},\"ternary\":{\"aaxis\":{\"gridcolor\":\"white\",\"linecolor\":\"white\",\"ticks\":\"\"},\"baxis\":{\"gridcolor\":\"white\",\"linecolor\":\"white\",\"ticks\":\"\"},\"bgcolor\":\"#E5ECF6\",\"caxis\":{\"gridcolor\":\"white\",\"linecolor\":\"white\",\"ticks\":\"\"}},\"title\":{\"x\":0.05},\"xaxis\":{\"automargin\":true,\"gridcolor\":\"white\",\"linecolor\":\"white\",\"ticks\":\"\",\"title\":{\"standoff\":15},\"zerolinecolor\":\"white\",\"zerolinewidth\":2},\"yaxis\":{\"automargin\":true,\"gridcolor\":\"white\",\"linecolor\":\"white\",\"ticks\":\"\",\"title\":{\"standoff\":15},\"zerolinecolor\":\"white\",\"zerolinewidth\":2}}},\"title\":{\"font\":{\"color\":\"#4D5663\"}},\"xaxis\":{\"gridcolor\":\"#E1E5ED\",\"showgrid\":true,\"tickfont\":{\"color\":\"#4D5663\"},\"title\":{\"font\":{\"color\":\"#4D5663\"},\"text\":\"\"},\"zerolinecolor\":\"#E1E5ED\"},\"yaxis\":{\"gridcolor\":\"#E1E5ED\",\"showgrid\":true,\"tickfont\":{\"color\":\"#4D5663\"},\"title\":{\"font\":{\"color\":\"#4D5663\"},\"text\":\"\"},\"zerolinecolor\":\"#E1E5ED\"}},                        {\"showLink\": true, \"linkText\": \"Export to plot.ly\", \"plotlyServerURL\": \"https://plot.ly\", \"responsive\": true}                    ).then(function(){\n",
       "                            \n",
       "var gd = document.getElementById('be53cbbf-e967-40c2-8288-299b5ddb48e8');\n",
       "var x = new MutationObserver(function (mutations, observer) {{\n",
       "        var display = window.getComputedStyle(gd).display;\n",
       "        if (!display || display === 'none') {{\n",
       "            console.log([gd, 'removed!']);\n",
       "            Plotly.purge(gd);\n",
       "            observer.disconnect();\n",
       "        }}\n",
       "}});\n",
       "\n",
       "// Listen for the removal of the full notebook cells\n",
       "var notebookContainer = gd.closest('#notebook-container');\n",
       "if (notebookContainer) {{\n",
       "    x.observe(notebookContainer, {childList: true});\n",
       "}}\n",
       "\n",
       "// Listen for the clearing of the current output cell\n",
       "var outputEl = gd.closest('.output');\n",
       "if (outputEl) {{\n",
       "    x.observe(outputEl, {childList: true});\n",
       "}}\n",
       "\n",
       "                        })                };                });            </script>        </div>"
      ]
     },
     "metadata": {},
     "output_type": "display_data"
    }
   ],
   "source": [
    "df.iplot(kind='box')"
   ]
  },
  {
   "cell_type": "markdown",
   "metadata": {},
   "source": [
    "# 3d Surface"
   ]
  },
  {
   "cell_type": "code",
   "execution_count": 13,
   "metadata": {},
   "outputs": [
    {
     "data": {
      "application/vnd.plotly.v1+json": {
       "config": {
        "linkText": "Export to plot.ly",
        "plotlyServerURL": "https://plot.ly",
        "showLink": true
       },
       "data": [
        {
         "colorscale": [
          [
           0,
           "rgb(165,0,38)"
          ],
          [
           0.1,
           "rgb(215,48,39)"
          ],
          [
           0.2,
           "rgb(244,109,67)"
          ],
          [
           0.3,
           "rgb(253,174,97)"
          ],
          [
           0.4,
           "rgb(254,224,144)"
          ],
          [
           0.5,
           "rgb(255,255,191)"
          ],
          [
           0.6,
           "rgb(224,243,248)"
          ],
          [
           0.7,
           "rgb(171,217,233)"
          ],
          [
           0.8,
           "rgb(116,173,209)"
          ],
          [
           0.9,
           "rgb(69,117,180)"
          ],
          [
           1,
           "rgb(49,54,149)"
          ]
         ],
         "type": "surface",
         "x": [
          0,
          1,
          2,
          3,
          4
         ],
         "y": [
          "x",
          "y",
          "z"
         ],
         "z": [
          [
           1,
           2,
           3,
           4,
           5
          ],
          [
           10,
           20,
           30,
           20,
           10
          ],
          [
           5,
           4,
           3,
           2,
           1
          ]
         ]
        }
       ],
       "layout": {
        "legend": {
         "bgcolor": "#F5F6F9",
         "font": {
          "color": "#4D5663"
         }
        },
        "paper_bgcolor": "#F5F6F9",
        "plot_bgcolor": "#F5F6F9",
        "template": {
         "data": {
          "bar": [
           {
            "error_x": {
             "color": "#2a3f5f"
            },
            "error_y": {
             "color": "#2a3f5f"
            },
            "marker": {
             "line": {
              "color": "#E5ECF6",
              "width": 0.5
             },
             "pattern": {
              "fillmode": "overlay",
              "size": 10,
              "solidity": 0.2
             }
            },
            "type": "bar"
           }
          ],
          "barpolar": [
           {
            "marker": {
             "line": {
              "color": "#E5ECF6",
              "width": 0.5
             },
             "pattern": {
              "fillmode": "overlay",
              "size": 10,
              "solidity": 0.2
             }
            },
            "type": "barpolar"
           }
          ],
          "carpet": [
           {
            "aaxis": {
             "endlinecolor": "#2a3f5f",
             "gridcolor": "white",
             "linecolor": "white",
             "minorgridcolor": "white",
             "startlinecolor": "#2a3f5f"
            },
            "baxis": {
             "endlinecolor": "#2a3f5f",
             "gridcolor": "white",
             "linecolor": "white",
             "minorgridcolor": "white",
             "startlinecolor": "#2a3f5f"
            },
            "type": "carpet"
           }
          ],
          "choropleth": [
           {
            "colorbar": {
             "outlinewidth": 0,
             "ticks": ""
            },
            "type": "choropleth"
           }
          ],
          "contour": [
           {
            "colorbar": {
             "outlinewidth": 0,
             "ticks": ""
            },
            "colorscale": [
             [
              0,
              "#0d0887"
             ],
             [
              0.1111111111111111,
              "#46039f"
             ],
             [
              0.2222222222222222,
              "#7201a8"
             ],
             [
              0.3333333333333333,
              "#9c179e"
             ],
             [
              0.4444444444444444,
              "#bd3786"
             ],
             [
              0.5555555555555556,
              "#d8576b"
             ],
             [
              0.6666666666666666,
              "#ed7953"
             ],
             [
              0.7777777777777778,
              "#fb9f3a"
             ],
             [
              0.8888888888888888,
              "#fdca26"
             ],
             [
              1,
              "#f0f921"
             ]
            ],
            "type": "contour"
           }
          ],
          "contourcarpet": [
           {
            "colorbar": {
             "outlinewidth": 0,
             "ticks": ""
            },
            "type": "contourcarpet"
           }
          ],
          "heatmap": [
           {
            "colorbar": {
             "outlinewidth": 0,
             "ticks": ""
            },
            "colorscale": [
             [
              0,
              "#0d0887"
             ],
             [
              0.1111111111111111,
              "#46039f"
             ],
             [
              0.2222222222222222,
              "#7201a8"
             ],
             [
              0.3333333333333333,
              "#9c179e"
             ],
             [
              0.4444444444444444,
              "#bd3786"
             ],
             [
              0.5555555555555556,
              "#d8576b"
             ],
             [
              0.6666666666666666,
              "#ed7953"
             ],
             [
              0.7777777777777778,
              "#fb9f3a"
             ],
             [
              0.8888888888888888,
              "#fdca26"
             ],
             [
              1,
              "#f0f921"
             ]
            ],
            "type": "heatmap"
           }
          ],
          "heatmapgl": [
           {
            "colorbar": {
             "outlinewidth": 0,
             "ticks": ""
            },
            "colorscale": [
             [
              0,
              "#0d0887"
             ],
             [
              0.1111111111111111,
              "#46039f"
             ],
             [
              0.2222222222222222,
              "#7201a8"
             ],
             [
              0.3333333333333333,
              "#9c179e"
             ],
             [
              0.4444444444444444,
              "#bd3786"
             ],
             [
              0.5555555555555556,
              "#d8576b"
             ],
             [
              0.6666666666666666,
              "#ed7953"
             ],
             [
              0.7777777777777778,
              "#fb9f3a"
             ],
             [
              0.8888888888888888,
              "#fdca26"
             ],
             [
              1,
              "#f0f921"
             ]
            ],
            "type": "heatmapgl"
           }
          ],
          "histogram": [
           {
            "marker": {
             "pattern": {
              "fillmode": "overlay",
              "size": 10,
              "solidity": 0.2
             }
            },
            "type": "histogram"
           }
          ],
          "histogram2d": [
           {
            "colorbar": {
             "outlinewidth": 0,
             "ticks": ""
            },
            "colorscale": [
             [
              0,
              "#0d0887"
             ],
             [
              0.1111111111111111,
              "#46039f"
             ],
             [
              0.2222222222222222,
              "#7201a8"
             ],
             [
              0.3333333333333333,
              "#9c179e"
             ],
             [
              0.4444444444444444,
              "#bd3786"
             ],
             [
              0.5555555555555556,
              "#d8576b"
             ],
             [
              0.6666666666666666,
              "#ed7953"
             ],
             [
              0.7777777777777778,
              "#fb9f3a"
             ],
             [
              0.8888888888888888,
              "#fdca26"
             ],
             [
              1,
              "#f0f921"
             ]
            ],
            "type": "histogram2d"
           }
          ],
          "histogram2dcontour": [
           {
            "colorbar": {
             "outlinewidth": 0,
             "ticks": ""
            },
            "colorscale": [
             [
              0,
              "#0d0887"
             ],
             [
              0.1111111111111111,
              "#46039f"
             ],
             [
              0.2222222222222222,
              "#7201a8"
             ],
             [
              0.3333333333333333,
              "#9c179e"
             ],
             [
              0.4444444444444444,
              "#bd3786"
             ],
             [
              0.5555555555555556,
              "#d8576b"
             ],
             [
              0.6666666666666666,
              "#ed7953"
             ],
             [
              0.7777777777777778,
              "#fb9f3a"
             ],
             [
              0.8888888888888888,
              "#fdca26"
             ],
             [
              1,
              "#f0f921"
             ]
            ],
            "type": "histogram2dcontour"
           }
          ],
          "mesh3d": [
           {
            "colorbar": {
             "outlinewidth": 0,
             "ticks": ""
            },
            "type": "mesh3d"
           }
          ],
          "parcoords": [
           {
            "line": {
             "colorbar": {
              "outlinewidth": 0,
              "ticks": ""
             }
            },
            "type": "parcoords"
           }
          ],
          "pie": [
           {
            "automargin": true,
            "type": "pie"
           }
          ],
          "scatter": [
           {
            "marker": {
             "colorbar": {
              "outlinewidth": 0,
              "ticks": ""
             }
            },
            "type": "scatter"
           }
          ],
          "scatter3d": [
           {
            "line": {
             "colorbar": {
              "outlinewidth": 0,
              "ticks": ""
             }
            },
            "marker": {
             "colorbar": {
              "outlinewidth": 0,
              "ticks": ""
             }
            },
            "type": "scatter3d"
           }
          ],
          "scattercarpet": [
           {
            "marker": {
             "colorbar": {
              "outlinewidth": 0,
              "ticks": ""
             }
            },
            "type": "scattercarpet"
           }
          ],
          "scattergeo": [
           {
            "marker": {
             "colorbar": {
              "outlinewidth": 0,
              "ticks": ""
             }
            },
            "type": "scattergeo"
           }
          ],
          "scattergl": [
           {
            "marker": {
             "colorbar": {
              "outlinewidth": 0,
              "ticks": ""
             }
            },
            "type": "scattergl"
           }
          ],
          "scattermapbox": [
           {
            "marker": {
             "colorbar": {
              "outlinewidth": 0,
              "ticks": ""
             }
            },
            "type": "scattermapbox"
           }
          ],
          "scatterpolar": [
           {
            "marker": {
             "colorbar": {
              "outlinewidth": 0,
              "ticks": ""
             }
            },
            "type": "scatterpolar"
           }
          ],
          "scatterpolargl": [
           {
            "marker": {
             "colorbar": {
              "outlinewidth": 0,
              "ticks": ""
             }
            },
            "type": "scatterpolargl"
           }
          ],
          "scatterternary": [
           {
            "marker": {
             "colorbar": {
              "outlinewidth": 0,
              "ticks": ""
             }
            },
            "type": "scatterternary"
           }
          ],
          "surface": [
           {
            "colorbar": {
             "outlinewidth": 0,
             "ticks": ""
            },
            "colorscale": [
             [
              0,
              "#0d0887"
             ],
             [
              0.1111111111111111,
              "#46039f"
             ],
             [
              0.2222222222222222,
              "#7201a8"
             ],
             [
              0.3333333333333333,
              "#9c179e"
             ],
             [
              0.4444444444444444,
              "#bd3786"
             ],
             [
              0.5555555555555556,
              "#d8576b"
             ],
             [
              0.6666666666666666,
              "#ed7953"
             ],
             [
              0.7777777777777778,
              "#fb9f3a"
             ],
             [
              0.8888888888888888,
              "#fdca26"
             ],
             [
              1,
              "#f0f921"
             ]
            ],
            "type": "surface"
           }
          ],
          "table": [
           {
            "cells": {
             "fill": {
              "color": "#EBF0F8"
             },
             "line": {
              "color": "white"
             }
            },
            "header": {
             "fill": {
              "color": "#C8D4E3"
             },
             "line": {
              "color": "white"
             }
            },
            "type": "table"
           }
          ]
         },
         "layout": {
          "annotationdefaults": {
           "arrowcolor": "#2a3f5f",
           "arrowhead": 0,
           "arrowwidth": 1
          },
          "autotypenumbers": "strict",
          "coloraxis": {
           "colorbar": {
            "outlinewidth": 0,
            "ticks": ""
           }
          },
          "colorscale": {
           "diverging": [
            [
             0,
             "#8e0152"
            ],
            [
             0.1,
             "#c51b7d"
            ],
            [
             0.2,
             "#de77ae"
            ],
            [
             0.3,
             "#f1b6da"
            ],
            [
             0.4,
             "#fde0ef"
            ],
            [
             0.5,
             "#f7f7f7"
            ],
            [
             0.6,
             "#e6f5d0"
            ],
            [
             0.7,
             "#b8e186"
            ],
            [
             0.8,
             "#7fbc41"
            ],
            [
             0.9,
             "#4d9221"
            ],
            [
             1,
             "#276419"
            ]
           ],
           "sequential": [
            [
             0,
             "#0d0887"
            ],
            [
             0.1111111111111111,
             "#46039f"
            ],
            [
             0.2222222222222222,
             "#7201a8"
            ],
            [
             0.3333333333333333,
             "#9c179e"
            ],
            [
             0.4444444444444444,
             "#bd3786"
            ],
            [
             0.5555555555555556,
             "#d8576b"
            ],
            [
             0.6666666666666666,
             "#ed7953"
            ],
            [
             0.7777777777777778,
             "#fb9f3a"
            ],
            [
             0.8888888888888888,
             "#fdca26"
            ],
            [
             1,
             "#f0f921"
            ]
           ],
           "sequentialminus": [
            [
             0,
             "#0d0887"
            ],
            [
             0.1111111111111111,
             "#46039f"
            ],
            [
             0.2222222222222222,
             "#7201a8"
            ],
            [
             0.3333333333333333,
             "#9c179e"
            ],
            [
             0.4444444444444444,
             "#bd3786"
            ],
            [
             0.5555555555555556,
             "#d8576b"
            ],
            [
             0.6666666666666666,
             "#ed7953"
            ],
            [
             0.7777777777777778,
             "#fb9f3a"
            ],
            [
             0.8888888888888888,
             "#fdca26"
            ],
            [
             1,
             "#f0f921"
            ]
           ]
          },
          "colorway": [
           "#636efa",
           "#EF553B",
           "#00cc96",
           "#ab63fa",
           "#FFA15A",
           "#19d3f3",
           "#FF6692",
           "#B6E880",
           "#FF97FF",
           "#FECB52"
          ],
          "font": {
           "color": "#2a3f5f"
          },
          "geo": {
           "bgcolor": "white",
           "lakecolor": "white",
           "landcolor": "#E5ECF6",
           "showlakes": true,
           "showland": true,
           "subunitcolor": "white"
          },
          "hoverlabel": {
           "align": "left"
          },
          "hovermode": "closest",
          "mapbox": {
           "style": "light"
          },
          "paper_bgcolor": "white",
          "plot_bgcolor": "#E5ECF6",
          "polar": {
           "angularaxis": {
            "gridcolor": "white",
            "linecolor": "white",
            "ticks": ""
           },
           "bgcolor": "#E5ECF6",
           "radialaxis": {
            "gridcolor": "white",
            "linecolor": "white",
            "ticks": ""
           }
          },
          "scene": {
           "xaxis": {
            "backgroundcolor": "#E5ECF6",
            "gridcolor": "white",
            "gridwidth": 2,
            "linecolor": "white",
            "showbackground": true,
            "ticks": "",
            "zerolinecolor": "white"
           },
           "yaxis": {
            "backgroundcolor": "#E5ECF6",
            "gridcolor": "white",
            "gridwidth": 2,
            "linecolor": "white",
            "showbackground": true,
            "ticks": "",
            "zerolinecolor": "white"
           },
           "zaxis": {
            "backgroundcolor": "#E5ECF6",
            "gridcolor": "white",
            "gridwidth": 2,
            "linecolor": "white",
            "showbackground": true,
            "ticks": "",
            "zerolinecolor": "white"
           }
          },
          "shapedefaults": {
           "line": {
            "color": "#2a3f5f"
           }
          },
          "ternary": {
           "aaxis": {
            "gridcolor": "white",
            "linecolor": "white",
            "ticks": ""
           },
           "baxis": {
            "gridcolor": "white",
            "linecolor": "white",
            "ticks": ""
           },
           "bgcolor": "#E5ECF6",
           "caxis": {
            "gridcolor": "white",
            "linecolor": "white",
            "ticks": ""
           }
          },
          "title": {
           "x": 0.05
          },
          "xaxis": {
           "automargin": true,
           "gridcolor": "white",
           "linecolor": "white",
           "ticks": "",
           "title": {
            "standoff": 15
           },
           "zerolinecolor": "white",
           "zerolinewidth": 2
          },
          "yaxis": {
           "automargin": true,
           "gridcolor": "white",
           "linecolor": "white",
           "ticks": "",
           "title": {
            "standoff": 15
           },
           "zerolinecolor": "white",
           "zerolinewidth": 2
          }
         }
        },
        "title": {
         "font": {
          "color": "#4D5663"
         }
        },
        "xaxis": {
         "gridcolor": "#E1E5ED",
         "showgrid": true,
         "tickfont": {
          "color": "#4D5663"
         },
         "title": {
          "font": {
           "color": "#4D5663"
          },
          "text": ""
         },
         "zerolinecolor": "#E1E5ED"
        },
        "yaxis": {
         "gridcolor": "#E1E5ED",
         "showgrid": true,
         "tickfont": {
          "color": "#4D5663"
         },
         "title": {
          "font": {
           "color": "#4D5663"
          },
          "text": ""
         },
         "zerolinecolor": "#E1E5ED"
        }
       }
      },
      "text/html": [
       "<div>                            <div id=\"d7b7b574-d703-49c9-8803-92b29ef67ccf\" class=\"plotly-graph-div\" style=\"height:525px; width:100%;\"></div>            <script type=\"text/javascript\">                require([\"plotly\"], function(Plotly) {                    window.PLOTLYENV=window.PLOTLYENV || {};\n",
       "                    window.PLOTLYENV.BASE_URL='https://plot.ly';                                    if (document.getElementById(\"d7b7b574-d703-49c9-8803-92b29ef67ccf\")) {                    Plotly.newPlot(                        \"d7b7b574-d703-49c9-8803-92b29ef67ccf\",                        [{\"colorscale\":[[0.0,\"rgb(165,0,38)\"],[0.1,\"rgb(215,48,39)\"],[0.2,\"rgb(244,109,67)\"],[0.3,\"rgb(253,174,97)\"],[0.4,\"rgb(254,224,144)\"],[0.5,\"rgb(255,255,191)\"],[0.6,\"rgb(224,243,248)\"],[0.7,\"rgb(171,217,233)\"],[0.8,\"rgb(116,173,209)\"],[0.9,\"rgb(69,117,180)\"],[1.0,\"rgb(49,54,149)\"]],\"x\":[0,1,2,3,4],\"y\":[\"x\",\"y\",\"z\"],\"z\":[[1,2,3,4,5],[10,20,30,20,10],[5,4,3,2,1]],\"type\":\"surface\"}],                        {\"legend\":{\"bgcolor\":\"#F5F6F9\",\"font\":{\"color\":\"#4D5663\"}},\"paper_bgcolor\":\"#F5F6F9\",\"plot_bgcolor\":\"#F5F6F9\",\"template\":{\"data\":{\"barpolar\":[{\"marker\":{\"line\":{\"color\":\"#E5ECF6\",\"width\":0.5},\"pattern\":{\"fillmode\":\"overlay\",\"size\":10,\"solidity\":0.2}},\"type\":\"barpolar\"}],\"bar\":[{\"error_x\":{\"color\":\"#2a3f5f\"},\"error_y\":{\"color\":\"#2a3f5f\"},\"marker\":{\"line\":{\"color\":\"#E5ECF6\",\"width\":0.5},\"pattern\":{\"fillmode\":\"overlay\",\"size\":10,\"solidity\":0.2}},\"type\":\"bar\"}],\"carpet\":[{\"aaxis\":{\"endlinecolor\":\"#2a3f5f\",\"gridcolor\":\"white\",\"linecolor\":\"white\",\"minorgridcolor\":\"white\",\"startlinecolor\":\"#2a3f5f\"},\"baxis\":{\"endlinecolor\":\"#2a3f5f\",\"gridcolor\":\"white\",\"linecolor\":\"white\",\"minorgridcolor\":\"white\",\"startlinecolor\":\"#2a3f5f\"},\"type\":\"carpet\"}],\"choropleth\":[{\"colorbar\":{\"outlinewidth\":0,\"ticks\":\"\"},\"type\":\"choropleth\"}],\"contourcarpet\":[{\"colorbar\":{\"outlinewidth\":0,\"ticks\":\"\"},\"type\":\"contourcarpet\"}],\"contour\":[{\"colorbar\":{\"outlinewidth\":0,\"ticks\":\"\"},\"colorscale\":[[0.0,\"#0d0887\"],[0.1111111111111111,\"#46039f\"],[0.2222222222222222,\"#7201a8\"],[0.3333333333333333,\"#9c179e\"],[0.4444444444444444,\"#bd3786\"],[0.5555555555555556,\"#d8576b\"],[0.6666666666666666,\"#ed7953\"],[0.7777777777777778,\"#fb9f3a\"],[0.8888888888888888,\"#fdca26\"],[1.0,\"#f0f921\"]],\"type\":\"contour\"}],\"heatmapgl\":[{\"colorbar\":{\"outlinewidth\":0,\"ticks\":\"\"},\"colorscale\":[[0.0,\"#0d0887\"],[0.1111111111111111,\"#46039f\"],[0.2222222222222222,\"#7201a8\"],[0.3333333333333333,\"#9c179e\"],[0.4444444444444444,\"#bd3786\"],[0.5555555555555556,\"#d8576b\"],[0.6666666666666666,\"#ed7953\"],[0.7777777777777778,\"#fb9f3a\"],[0.8888888888888888,\"#fdca26\"],[1.0,\"#f0f921\"]],\"type\":\"heatmapgl\"}],\"heatmap\":[{\"colorbar\":{\"outlinewidth\":0,\"ticks\":\"\"},\"colorscale\":[[0.0,\"#0d0887\"],[0.1111111111111111,\"#46039f\"],[0.2222222222222222,\"#7201a8\"],[0.3333333333333333,\"#9c179e\"],[0.4444444444444444,\"#bd3786\"],[0.5555555555555556,\"#d8576b\"],[0.6666666666666666,\"#ed7953\"],[0.7777777777777778,\"#fb9f3a\"],[0.8888888888888888,\"#fdca26\"],[1.0,\"#f0f921\"]],\"type\":\"heatmap\"}],\"histogram2dcontour\":[{\"colorbar\":{\"outlinewidth\":0,\"ticks\":\"\"},\"colorscale\":[[0.0,\"#0d0887\"],[0.1111111111111111,\"#46039f\"],[0.2222222222222222,\"#7201a8\"],[0.3333333333333333,\"#9c179e\"],[0.4444444444444444,\"#bd3786\"],[0.5555555555555556,\"#d8576b\"],[0.6666666666666666,\"#ed7953\"],[0.7777777777777778,\"#fb9f3a\"],[0.8888888888888888,\"#fdca26\"],[1.0,\"#f0f921\"]],\"type\":\"histogram2dcontour\"}],\"histogram2d\":[{\"colorbar\":{\"outlinewidth\":0,\"ticks\":\"\"},\"colorscale\":[[0.0,\"#0d0887\"],[0.1111111111111111,\"#46039f\"],[0.2222222222222222,\"#7201a8\"],[0.3333333333333333,\"#9c179e\"],[0.4444444444444444,\"#bd3786\"],[0.5555555555555556,\"#d8576b\"],[0.6666666666666666,\"#ed7953\"],[0.7777777777777778,\"#fb9f3a\"],[0.8888888888888888,\"#fdca26\"],[1.0,\"#f0f921\"]],\"type\":\"histogram2d\"}],\"histogram\":[{\"marker\":{\"pattern\":{\"fillmode\":\"overlay\",\"size\":10,\"solidity\":0.2}},\"type\":\"histogram\"}],\"mesh3d\":[{\"colorbar\":{\"outlinewidth\":0,\"ticks\":\"\"},\"type\":\"mesh3d\"}],\"parcoords\":[{\"line\":{\"colorbar\":{\"outlinewidth\":0,\"ticks\":\"\"}},\"type\":\"parcoords\"}],\"pie\":[{\"automargin\":true,\"type\":\"pie\"}],\"scatter3d\":[{\"line\":{\"colorbar\":{\"outlinewidth\":0,\"ticks\":\"\"}},\"marker\":{\"colorbar\":{\"outlinewidth\":0,\"ticks\":\"\"}},\"type\":\"scatter3d\"}],\"scattercarpet\":[{\"marker\":{\"colorbar\":{\"outlinewidth\":0,\"ticks\":\"\"}},\"type\":\"scattercarpet\"}],\"scattergeo\":[{\"marker\":{\"colorbar\":{\"outlinewidth\":0,\"ticks\":\"\"}},\"type\":\"scattergeo\"}],\"scattergl\":[{\"marker\":{\"colorbar\":{\"outlinewidth\":0,\"ticks\":\"\"}},\"type\":\"scattergl\"}],\"scattermapbox\":[{\"marker\":{\"colorbar\":{\"outlinewidth\":0,\"ticks\":\"\"}},\"type\":\"scattermapbox\"}],\"scatterpolargl\":[{\"marker\":{\"colorbar\":{\"outlinewidth\":0,\"ticks\":\"\"}},\"type\":\"scatterpolargl\"}],\"scatterpolar\":[{\"marker\":{\"colorbar\":{\"outlinewidth\":0,\"ticks\":\"\"}},\"type\":\"scatterpolar\"}],\"scatter\":[{\"marker\":{\"colorbar\":{\"outlinewidth\":0,\"ticks\":\"\"}},\"type\":\"scatter\"}],\"scatterternary\":[{\"marker\":{\"colorbar\":{\"outlinewidth\":0,\"ticks\":\"\"}},\"type\":\"scatterternary\"}],\"surface\":[{\"colorbar\":{\"outlinewidth\":0,\"ticks\":\"\"},\"colorscale\":[[0.0,\"#0d0887\"],[0.1111111111111111,\"#46039f\"],[0.2222222222222222,\"#7201a8\"],[0.3333333333333333,\"#9c179e\"],[0.4444444444444444,\"#bd3786\"],[0.5555555555555556,\"#d8576b\"],[0.6666666666666666,\"#ed7953\"],[0.7777777777777778,\"#fb9f3a\"],[0.8888888888888888,\"#fdca26\"],[1.0,\"#f0f921\"]],\"type\":\"surface\"}],\"table\":[{\"cells\":{\"fill\":{\"color\":\"#EBF0F8\"},\"line\":{\"color\":\"white\"}},\"header\":{\"fill\":{\"color\":\"#C8D4E3\"},\"line\":{\"color\":\"white\"}},\"type\":\"table\"}]},\"layout\":{\"annotationdefaults\":{\"arrowcolor\":\"#2a3f5f\",\"arrowhead\":0,\"arrowwidth\":1},\"autotypenumbers\":\"strict\",\"coloraxis\":{\"colorbar\":{\"outlinewidth\":0,\"ticks\":\"\"}},\"colorscale\":{\"diverging\":[[0,\"#8e0152\"],[0.1,\"#c51b7d\"],[0.2,\"#de77ae\"],[0.3,\"#f1b6da\"],[0.4,\"#fde0ef\"],[0.5,\"#f7f7f7\"],[0.6,\"#e6f5d0\"],[0.7,\"#b8e186\"],[0.8,\"#7fbc41\"],[0.9,\"#4d9221\"],[1,\"#276419\"]],\"sequential\":[[0.0,\"#0d0887\"],[0.1111111111111111,\"#46039f\"],[0.2222222222222222,\"#7201a8\"],[0.3333333333333333,\"#9c179e\"],[0.4444444444444444,\"#bd3786\"],[0.5555555555555556,\"#d8576b\"],[0.6666666666666666,\"#ed7953\"],[0.7777777777777778,\"#fb9f3a\"],[0.8888888888888888,\"#fdca26\"],[1.0,\"#f0f921\"]],\"sequentialminus\":[[0.0,\"#0d0887\"],[0.1111111111111111,\"#46039f\"],[0.2222222222222222,\"#7201a8\"],[0.3333333333333333,\"#9c179e\"],[0.4444444444444444,\"#bd3786\"],[0.5555555555555556,\"#d8576b\"],[0.6666666666666666,\"#ed7953\"],[0.7777777777777778,\"#fb9f3a\"],[0.8888888888888888,\"#fdca26\"],[1.0,\"#f0f921\"]]},\"colorway\":[\"#636efa\",\"#EF553B\",\"#00cc96\",\"#ab63fa\",\"#FFA15A\",\"#19d3f3\",\"#FF6692\",\"#B6E880\",\"#FF97FF\",\"#FECB52\"],\"font\":{\"color\":\"#2a3f5f\"},\"geo\":{\"bgcolor\":\"white\",\"lakecolor\":\"white\",\"landcolor\":\"#E5ECF6\",\"showlakes\":true,\"showland\":true,\"subunitcolor\":\"white\"},\"hoverlabel\":{\"align\":\"left\"},\"hovermode\":\"closest\",\"mapbox\":{\"style\":\"light\"},\"paper_bgcolor\":\"white\",\"plot_bgcolor\":\"#E5ECF6\",\"polar\":{\"angularaxis\":{\"gridcolor\":\"white\",\"linecolor\":\"white\",\"ticks\":\"\"},\"bgcolor\":\"#E5ECF6\",\"radialaxis\":{\"gridcolor\":\"white\",\"linecolor\":\"white\",\"ticks\":\"\"}},\"scene\":{\"xaxis\":{\"backgroundcolor\":\"#E5ECF6\",\"gridcolor\":\"white\",\"gridwidth\":2,\"linecolor\":\"white\",\"showbackground\":true,\"ticks\":\"\",\"zerolinecolor\":\"white\"},\"yaxis\":{\"backgroundcolor\":\"#E5ECF6\",\"gridcolor\":\"white\",\"gridwidth\":2,\"linecolor\":\"white\",\"showbackground\":true,\"ticks\":\"\",\"zerolinecolor\":\"white\"},\"zaxis\":{\"backgroundcolor\":\"#E5ECF6\",\"gridcolor\":\"white\",\"gridwidth\":2,\"linecolor\":\"white\",\"showbackground\":true,\"ticks\":\"\",\"zerolinecolor\":\"white\"}},\"shapedefaults\":{\"line\":{\"color\":\"#2a3f5f\"}},\"ternary\":{\"aaxis\":{\"gridcolor\":\"white\",\"linecolor\":\"white\",\"ticks\":\"\"},\"baxis\":{\"gridcolor\":\"white\",\"linecolor\":\"white\",\"ticks\":\"\"},\"bgcolor\":\"#E5ECF6\",\"caxis\":{\"gridcolor\":\"white\",\"linecolor\":\"white\",\"ticks\":\"\"}},\"title\":{\"x\":0.05},\"xaxis\":{\"automargin\":true,\"gridcolor\":\"white\",\"linecolor\":\"white\",\"ticks\":\"\",\"title\":{\"standoff\":15},\"zerolinecolor\":\"white\",\"zerolinewidth\":2},\"yaxis\":{\"automargin\":true,\"gridcolor\":\"white\",\"linecolor\":\"white\",\"ticks\":\"\",\"title\":{\"standoff\":15},\"zerolinecolor\":\"white\",\"zerolinewidth\":2}}},\"title\":{\"font\":{\"color\":\"#4D5663\"}},\"xaxis\":{\"gridcolor\":\"#E1E5ED\",\"showgrid\":true,\"tickfont\":{\"color\":\"#4D5663\"},\"title\":{\"font\":{\"color\":\"#4D5663\"},\"text\":\"\"},\"zerolinecolor\":\"#E1E5ED\"},\"yaxis\":{\"gridcolor\":\"#E1E5ED\",\"showgrid\":true,\"tickfont\":{\"color\":\"#4D5663\"},\"title\":{\"font\":{\"color\":\"#4D5663\"},\"text\":\"\"},\"zerolinecolor\":\"#E1E5ED\"}},                        {\"showLink\": true, \"linkText\": \"Export to plot.ly\", \"plotlyServerURL\": \"https://plot.ly\", \"responsive\": true}                    ).then(function(){\n",
       "                            \n",
       "var gd = document.getElementById('d7b7b574-d703-49c9-8803-92b29ef67ccf');\n",
       "var x = new MutationObserver(function (mutations, observer) {{\n",
       "        var display = window.getComputedStyle(gd).display;\n",
       "        if (!display || display === 'none') {{\n",
       "            console.log([gd, 'removed!']);\n",
       "            Plotly.purge(gd);\n",
       "            observer.disconnect();\n",
       "        }}\n",
       "}});\n",
       "\n",
       "// Listen for the removal of the full notebook cells\n",
       "var notebookContainer = gd.closest('#notebook-container');\n",
       "if (notebookContainer) {{\n",
       "    x.observe(notebookContainer, {childList: true});\n",
       "}}\n",
       "\n",
       "// Listen for the clearing of the current output cell\n",
       "var outputEl = gd.closest('.output');\n",
       "if (outputEl) {{\n",
       "    x.observe(outputEl, {childList: true});\n",
       "}}\n",
       "\n",
       "                        })                };                });            </script>        </div>"
      ]
     },
     "metadata": {},
     "output_type": "display_data"
    }
   ],
   "source": [
    "df3 = pd.DataFrame({'x':[1,2,3,4,5],'y':[10,20,30,20,10],'z':[5,4,3,2,1]})\n",
    "df3.iplot(kind='surface',colorscale='rdylbu')"
   ]
  },
  {
   "cell_type": "markdown",
   "metadata": {},
   "source": [
    "# Spread"
   ]
  },
  {
   "cell_type": "code",
   "execution_count": 14,
   "metadata": {},
   "outputs": [
    {
     "data": {
      "application/vnd.plotly.v1+json": {
       "config": {
        "linkText": "Export to plot.ly",
        "plotlyServerURL": "https://plot.ly",
        "showLink": true
       },
       "data": [
        {
         "line": {
          "color": "rgba(255, 153, 51, 1.0)",
          "dash": "solid",
          "shape": "linear",
          "width": 1.3
         },
         "mode": "lines",
         "name": "A",
         "text": "",
         "type": "scatter",
         "x": [
          0,
          1,
          2,
          3,
          4,
          5,
          6,
          7,
          8,
          9,
          10,
          11,
          12,
          13,
          14,
          15,
          16,
          17,
          18,
          19,
          20,
          21,
          22,
          23,
          24,
          25,
          26,
          27,
          28,
          29,
          30,
          31,
          32,
          33,
          34,
          35,
          36,
          37,
          38,
          39,
          40,
          41,
          42,
          43,
          44,
          45,
          46,
          47,
          48,
          49,
          50,
          51,
          52,
          53,
          54,
          55,
          56,
          57,
          58,
          59,
          60,
          61,
          62,
          63,
          64,
          65,
          66,
          67,
          68,
          69,
          70,
          71,
          72,
          73,
          74,
          75,
          76,
          77,
          78,
          79,
          80,
          81,
          82,
          83,
          84,
          85,
          86,
          87,
          88,
          89,
          90,
          91,
          92,
          93,
          94,
          95,
          96,
          97,
          98,
          99
         ],
         "y": [
          -0.7211844881720889,
          -1.460522588285307,
          2.154948856212787,
          -0.49761196784253425,
          0.45284763019750024,
          -0.2146016535662887,
          0.6461779730757492,
          -0.11825227421614609,
          1.2915518225379228,
          0.18608916067102835,
          -1.4874697128735566,
          -2.674955108446302,
          0.9190575231032203,
          -2.5325371551100275,
          -1.6777824953054545,
          -0.5467026438923042,
          0.5889265073259935,
          0.5713454137445192,
          -0.7405110737545675,
          -0.3762010861641179,
          0.1489885436790522,
          0.5826629600411326,
          9.93956133860854e-05,
          1.3228779971160258,
          1.548816618475939,
          1.0493635334616715,
          -0.41796228792981016,
          0.17190353418274495,
          0.26603823982029823,
          1.7748592869778435,
          -0.7486339320839377,
          0.0800193740814564,
          0.024234150399956793,
          -1.2542478347818165,
          0.437098308644309,
          0.703962364809523,
          -1.456325016003159,
          -1.515331912201515,
          -1.6783903384875147,
          -0.4105728612305543,
          -1.609348939801891,
          0.20873382660773848,
          1.7185816695607006,
          1.515224936174814,
          1.0690785260274,
          -1.6264240979749063,
          -0.10391990265168422,
          -1.0109174745146479,
          -1.9146061901244,
          0.8887427941528846,
          1.1887629381499019,
          -2.628399663534101,
          1.4627541154619559,
          1.2193879796116494,
          0.03120731155045379,
          0.19112324160339209,
          -0.41263213724016684,
          1.2195646026171014,
          -0.9357186450127927,
          -0.7735198800180834,
          0.7193889197776803,
          0.6576833793061325,
          -1.056242381180936,
          0.09944112179190494,
          1.0607886466058087,
          1.7480384469434798,
          -0.2925634435299589,
          -2.259658886505214,
          -1.693429506937218,
          2.0564346631440666,
          -0.14075746225916153,
          1.1671358816250528,
          -0.5788602987660235,
          -0.0019086180276748474,
          -1.9031784355512493,
          0.6697468613769787,
          1.2899599026774455,
          1.0937370716707826,
          0.2270561295865113,
          -0.22835157535766273,
          -0.21301396382913657,
          0.2796610966082171,
          0.6150753211568992,
          -0.8829404665561942,
          -0.4656916952739058,
          -0.4252283999883795,
          0.4855630893895303,
          0.21391697236657217,
          -0.24628332366479058,
          0.1698428083437271,
          0.4165353423709389,
          1.0312345779753802,
          -0.3802955308874277,
          -0.24345550305773975,
          -1.6088187152500206,
          1.362642934270473,
          0.5659359812206953,
          -0.08982000068507776,
          0.13460869031949085,
          0.07277500218970358
         ]
        },
        {
         "line": {
          "color": "rgba(55, 128, 191, 1.0)",
          "dash": "solid",
          "shape": "linear",
          "width": 1.3
         },
         "mode": "lines",
         "name": "B",
         "text": "",
         "type": "scatter",
         "x": [
          0,
          1,
          2,
          3,
          4,
          5,
          6,
          7,
          8,
          9,
          10,
          11,
          12,
          13,
          14,
          15,
          16,
          17,
          18,
          19,
          20,
          21,
          22,
          23,
          24,
          25,
          26,
          27,
          28,
          29,
          30,
          31,
          32,
          33,
          34,
          35,
          36,
          37,
          38,
          39,
          40,
          41,
          42,
          43,
          44,
          45,
          46,
          47,
          48,
          49,
          50,
          51,
          52,
          53,
          54,
          55,
          56,
          57,
          58,
          59,
          60,
          61,
          62,
          63,
          64,
          65,
          66,
          67,
          68,
          69,
          70,
          71,
          72,
          73,
          74,
          75,
          76,
          77,
          78,
          79,
          80,
          81,
          82,
          83,
          84,
          85,
          86,
          87,
          88,
          89,
          90,
          91,
          92,
          93,
          94,
          95,
          96,
          97,
          98,
          99
         ],
         "y": [
          1.9363176963824915,
          0.783691095069216,
          -1.1913463628659005,
          -0.6441276887203147,
          1.1687904468466739,
          0.6323414704685131,
          -1.2191589935127074,
          -0.2143976718639855,
          -1.9448875532251129,
          -0.28376974222916534,
          1.5782128138754477,
          -1.8196443931299022,
          -0.6407499492278539,
          -0.4211817381995266,
          0.749816068741311,
          1.0357869223281948,
          1.4574441310839379,
          -0.3042344579582755,
          0.19723781050623027,
          -0.5624181531021479,
          -1.4068385344205947,
          -1.467133562334591,
          -0.5674350597043402,
          -2.129336044404162,
          1.1758806168946234,
          -0.16448995704076652,
          -0.9779043170437532,
          -0.34597066195963844,
          0.5646432182256792,
          1.3236523242202396,
          0.6072867513938234,
          -0.568385280381742,
          -1.1186532483940683,
          0.30430474772314803,
          -0.31653229378343317,
          0.10274254004759957,
          -0.4004143253747189,
          -0.5401696407335572,
          -1.7905406758414422,
          -0.3447153898348365,
          0.01640549905721995,
          1.329803844957976,
          -0.2838454848295598,
          -0.7149500718878599,
          2.131509449259118,
          -0.20594262819363468,
          -0.46095460604086497,
          1.3762460600580146,
          -0.5315216700601639,
          0.4330121353014572,
          -1.0421993308088067,
          -1.5558986585240033,
          -1.218392913837334,
          0.44444621727844846,
          -0.3033811422910685,
          -0.2348174161172821,
          0.6761559094978562,
          -0.1433003612459205,
          -0.5021565887281341,
          -0.5643974865846672,
          -0.32738588487886683,
          2.7095465578361577,
          0.18779561954741292,
          -0.179442053806397,
          0.16190622421114106,
          -0.10631574297220216,
          -0.9719562551176633,
          -0.8864656963735614,
          -1.0971579537801677,
          0.5703636600272055,
          0.017455999104761276,
          0.10764563017514592,
          0.6674390203404504,
          -1.5483790010746306,
          0.7855020724347893,
          1.0864443237398242,
          -0.09412775608332852,
          -0.7155961933081841,
          2.1220822162796087,
          0.6706361949388256,
          -0.5290544807432842,
          -2.2005054084000197,
          0.1576792060896083,
          0.09945177553841868,
          -1.8392810801254043,
          -0.9192852920587717,
          2.4718464231328774,
          0.2076321039179723,
          -0.8445272827194005,
          -0.8008434375387793,
          -0.007766019613267419,
          0.5090193899057244,
          -0.0030644485108717303,
          1.2109719752722654,
          -0.8042659230928949,
          0.0639503553332306,
          -0.19669717584049626,
          0.3109834776847498,
          0.27778199066943177,
          0.9202818228115818
         ]
        },
        {
         "connectgaps": false,
         "fill": "tozeroy",
         "line": {
          "color": "green",
          "dash": "solid",
          "shape": "linear",
          "width": 0.5
         },
         "mode": "lines",
         "name": "Spread",
         "showlegend": false,
         "type": "scatter",
         "x": [
          0,
          1,
          2,
          3,
          4,
          5,
          6,
          7,
          8,
          9,
          10,
          11,
          12,
          13,
          14,
          15,
          16,
          17,
          18,
          19,
          20,
          21,
          22,
          23,
          24,
          25,
          26,
          27,
          28,
          29,
          30,
          31,
          32,
          33,
          34,
          35,
          36,
          37,
          38,
          39,
          40,
          41,
          42,
          43,
          44,
          45,
          46,
          47,
          48,
          49,
          50,
          51,
          52,
          53,
          54,
          55,
          56,
          57,
          58,
          59,
          60,
          61,
          62,
          63,
          64,
          65,
          66,
          67,
          68,
          69,
          70,
          71,
          72,
          73,
          74,
          75,
          76,
          77,
          78,
          79,
          80,
          81,
          82,
          83,
          84,
          85,
          86,
          87,
          88,
          89,
          90,
          91,
          92,
          93,
          94,
          95,
          96,
          97,
          98,
          99
         ],
         "xaxis": "x2",
         "y": [
          "",
          "",
          3.346295219078687,
          0.14651572087778042,
          "",
          "",
          1.8653369665884565,
          0.09614539764783941,
          3.2364393757630356,
          0.4698589029001937,
          "",
          "",
          1.5598074723310742,
          "",
          "",
          "",
          "",
          0.8755798717027947,
          "",
          0.18621706693803003,
          1.5558270780996468,
          2.0497965223757237,
          0.5675344553177263,
          3.452214041520188,
          0.3729360015813157,
          1.213853490502438,
          0.5599420291139431,
          0.5178741961423834,
          "",
          0.45120696275760386,
          "",
          0.6484046544631984,
          1.1428873987940251,
          "",
          0.7536306024277422,
          0.6012198247619235,
          "",
          "",
          0.11215033735392743,
          "",
          "",
          "",
          2.0024271543902605,
          2.230175008062674,
          "",
          "",
          0.35703470338918075,
          "",
          "",
          0.4557306588514274,
          2.2309622689587085,
          "",
          2.68114702929929,
          0.7749417623332009,
          0.3345884538415223,
          0.4259406577206742,
          "",
          1.362864963863022,
          "",
          "",
          1.046774804656547,
          "",
          "",
          0.27888317559830195,
          0.8988824223946676,
          1.854354189915682,
          0.6793928115877044,
          "",
          "",
          1.4860710031168611,
          "",
          1.059490251449907,
          "",
          1.5464703830469557,
          "",
          "",
          1.384087658760774,
          1.8093332649789668,
          "",
          "",
          0.31604051691414764,
          2.4801665050082367,
          0.45739611506729094,
          "",
          1.3735893848514984,
          0.4940568920703922,
          "",
          0.0062848684485998785,
          0.5982439590546099,
          0.9706862458825064,
          0.4243013619842063,
          0.5222151880696558,
          "",
          "",
          "",
          1.2986925789372423,
          0.7626331570611916,
          "",
          "",
          ""
         ],
         "yaxis": "y2"
        },
        {
         "connectgaps": false,
         "fill": "tozeroy",
         "line": {
          "color": "red",
          "dash": "solid",
          "shape": "linear",
          "width": 0.5
         },
         "mode": "lines",
         "name": "Spread",
         "showlegend": false,
         "type": "scatter",
         "x": [
          0,
          1,
          2,
          3,
          4,
          5,
          6,
          7,
          8,
          9,
          10,
          11,
          12,
          13,
          14,
          15,
          16,
          17,
          18,
          19,
          20,
          21,
          22,
          23,
          24,
          25,
          26,
          27,
          28,
          29,
          30,
          31,
          32,
          33,
          34,
          35,
          36,
          37,
          38,
          39,
          40,
          41,
          42,
          43,
          44,
          45,
          46,
          47,
          48,
          49,
          50,
          51,
          52,
          53,
          54,
          55,
          56,
          57,
          58,
          59,
          60,
          61,
          62,
          63,
          64,
          65,
          66,
          67,
          68,
          69,
          70,
          71,
          72,
          73,
          74,
          75,
          76,
          77,
          78,
          79,
          80,
          81,
          82,
          83,
          84,
          85,
          86,
          87,
          88,
          89,
          90,
          91,
          92,
          93,
          94,
          95,
          96,
          97,
          98,
          99
         ],
         "xaxis": "x2",
         "y": [
          -2.6575021845545805,
          -2.244213683354523,
          "",
          "",
          -0.7159428166491737,
          -0.8469431240348018,
          "",
          "",
          "",
          "",
          -3.065682526749004,
          -0.8553107153163997,
          "",
          -2.111355416910501,
          -2.4275985640467654,
          -1.582489566220499,
          -0.8685176237579444,
          "",
          -0.9377488842607977,
          "",
          "",
          "",
          "",
          "",
          "",
          "",
          "",
          "",
          -0.29860497840538097,
          "",
          -1.355920683477761,
          "",
          "",
          -1.5585525825049644,
          "",
          "",
          -1.0559106906284401,
          -0.9751622714679578,
          "",
          -0.06585747139571779,
          -1.625754438859111,
          -1.1210700183502376,
          "",
          "",
          -1.0624309232317177,
          -1.4204814697812715,
          "",
          -2.3871635345726627,
          -1.383084520064236,
          "",
          "",
          -1.0725010050100976,
          "",
          "",
          "",
          "",
          -1.088788046738023,
          "",
          -0.4335620562846586,
          -0.2091223934334162,
          "",
          -2.0518631785300254,
          -1.244038000728349,
          "",
          "",
          "",
          "",
          -1.3731931901316528,
          -0.5962715531570504,
          "",
          -0.1582134613639228,
          "",
          -1.246299319106474,
          "",
          -2.6886805079860387,
          -0.41669746236284555,
          "",
          "",
          -1.8950260866930975,
          -0.8989877702964884,
          "",
          "",
          "",
          -0.9823922420946128,
          "",
          "",
          -1.986283333743347,
          "",
          "",
          "",
          "",
          "",
          -0.37723108237655595,
          -1.454427478330005,
          -0.8045527921571257,
          "",
          "",
          -0.40080347836982755,
          -0.1431733003499409,
          -0.8475068206218782
         ],
         "yaxis": "y2"
        }
       ],
       "layout": {
        "hovermode": "x",
        "legend": {
         "bgcolor": "#F5F6F9",
         "font": {
          "color": "#4D5663"
         }
        },
        "paper_bgcolor": "#F5F6F9",
        "plot_bgcolor": "#F5F6F9",
        "template": {
         "data": {
          "bar": [
           {
            "error_x": {
             "color": "#2a3f5f"
            },
            "error_y": {
             "color": "#2a3f5f"
            },
            "marker": {
             "line": {
              "color": "#E5ECF6",
              "width": 0.5
             },
             "pattern": {
              "fillmode": "overlay",
              "size": 10,
              "solidity": 0.2
             }
            },
            "type": "bar"
           }
          ],
          "barpolar": [
           {
            "marker": {
             "line": {
              "color": "#E5ECF6",
              "width": 0.5
             },
             "pattern": {
              "fillmode": "overlay",
              "size": 10,
              "solidity": 0.2
             }
            },
            "type": "barpolar"
           }
          ],
          "carpet": [
           {
            "aaxis": {
             "endlinecolor": "#2a3f5f",
             "gridcolor": "white",
             "linecolor": "white",
             "minorgridcolor": "white",
             "startlinecolor": "#2a3f5f"
            },
            "baxis": {
             "endlinecolor": "#2a3f5f",
             "gridcolor": "white",
             "linecolor": "white",
             "minorgridcolor": "white",
             "startlinecolor": "#2a3f5f"
            },
            "type": "carpet"
           }
          ],
          "choropleth": [
           {
            "colorbar": {
             "outlinewidth": 0,
             "ticks": ""
            },
            "type": "choropleth"
           }
          ],
          "contour": [
           {
            "colorbar": {
             "outlinewidth": 0,
             "ticks": ""
            },
            "colorscale": [
             [
              0,
              "#0d0887"
             ],
             [
              0.1111111111111111,
              "#46039f"
             ],
             [
              0.2222222222222222,
              "#7201a8"
             ],
             [
              0.3333333333333333,
              "#9c179e"
             ],
             [
              0.4444444444444444,
              "#bd3786"
             ],
             [
              0.5555555555555556,
              "#d8576b"
             ],
             [
              0.6666666666666666,
              "#ed7953"
             ],
             [
              0.7777777777777778,
              "#fb9f3a"
             ],
             [
              0.8888888888888888,
              "#fdca26"
             ],
             [
              1,
              "#f0f921"
             ]
            ],
            "type": "contour"
           }
          ],
          "contourcarpet": [
           {
            "colorbar": {
             "outlinewidth": 0,
             "ticks": ""
            },
            "type": "contourcarpet"
           }
          ],
          "heatmap": [
           {
            "colorbar": {
             "outlinewidth": 0,
             "ticks": ""
            },
            "colorscale": [
             [
              0,
              "#0d0887"
             ],
             [
              0.1111111111111111,
              "#46039f"
             ],
             [
              0.2222222222222222,
              "#7201a8"
             ],
             [
              0.3333333333333333,
              "#9c179e"
             ],
             [
              0.4444444444444444,
              "#bd3786"
             ],
             [
              0.5555555555555556,
              "#d8576b"
             ],
             [
              0.6666666666666666,
              "#ed7953"
             ],
             [
              0.7777777777777778,
              "#fb9f3a"
             ],
             [
              0.8888888888888888,
              "#fdca26"
             ],
             [
              1,
              "#f0f921"
             ]
            ],
            "type": "heatmap"
           }
          ],
          "heatmapgl": [
           {
            "colorbar": {
             "outlinewidth": 0,
             "ticks": ""
            },
            "colorscale": [
             [
              0,
              "#0d0887"
             ],
             [
              0.1111111111111111,
              "#46039f"
             ],
             [
              0.2222222222222222,
              "#7201a8"
             ],
             [
              0.3333333333333333,
              "#9c179e"
             ],
             [
              0.4444444444444444,
              "#bd3786"
             ],
             [
              0.5555555555555556,
              "#d8576b"
             ],
             [
              0.6666666666666666,
              "#ed7953"
             ],
             [
              0.7777777777777778,
              "#fb9f3a"
             ],
             [
              0.8888888888888888,
              "#fdca26"
             ],
             [
              1,
              "#f0f921"
             ]
            ],
            "type": "heatmapgl"
           }
          ],
          "histogram": [
           {
            "marker": {
             "pattern": {
              "fillmode": "overlay",
              "size": 10,
              "solidity": 0.2
             }
            },
            "type": "histogram"
           }
          ],
          "histogram2d": [
           {
            "colorbar": {
             "outlinewidth": 0,
             "ticks": ""
            },
            "colorscale": [
             [
              0,
              "#0d0887"
             ],
             [
              0.1111111111111111,
              "#46039f"
             ],
             [
              0.2222222222222222,
              "#7201a8"
             ],
             [
              0.3333333333333333,
              "#9c179e"
             ],
             [
              0.4444444444444444,
              "#bd3786"
             ],
             [
              0.5555555555555556,
              "#d8576b"
             ],
             [
              0.6666666666666666,
              "#ed7953"
             ],
             [
              0.7777777777777778,
              "#fb9f3a"
             ],
             [
              0.8888888888888888,
              "#fdca26"
             ],
             [
              1,
              "#f0f921"
             ]
            ],
            "type": "histogram2d"
           }
          ],
          "histogram2dcontour": [
           {
            "colorbar": {
             "outlinewidth": 0,
             "ticks": ""
            },
            "colorscale": [
             [
              0,
              "#0d0887"
             ],
             [
              0.1111111111111111,
              "#46039f"
             ],
             [
              0.2222222222222222,
              "#7201a8"
             ],
             [
              0.3333333333333333,
              "#9c179e"
             ],
             [
              0.4444444444444444,
              "#bd3786"
             ],
             [
              0.5555555555555556,
              "#d8576b"
             ],
             [
              0.6666666666666666,
              "#ed7953"
             ],
             [
              0.7777777777777778,
              "#fb9f3a"
             ],
             [
              0.8888888888888888,
              "#fdca26"
             ],
             [
              1,
              "#f0f921"
             ]
            ],
            "type": "histogram2dcontour"
           }
          ],
          "mesh3d": [
           {
            "colorbar": {
             "outlinewidth": 0,
             "ticks": ""
            },
            "type": "mesh3d"
           }
          ],
          "parcoords": [
           {
            "line": {
             "colorbar": {
              "outlinewidth": 0,
              "ticks": ""
             }
            },
            "type": "parcoords"
           }
          ],
          "pie": [
           {
            "automargin": true,
            "type": "pie"
           }
          ],
          "scatter": [
           {
            "marker": {
             "colorbar": {
              "outlinewidth": 0,
              "ticks": ""
             }
            },
            "type": "scatter"
           }
          ],
          "scatter3d": [
           {
            "line": {
             "colorbar": {
              "outlinewidth": 0,
              "ticks": ""
             }
            },
            "marker": {
             "colorbar": {
              "outlinewidth": 0,
              "ticks": ""
             }
            },
            "type": "scatter3d"
           }
          ],
          "scattercarpet": [
           {
            "marker": {
             "colorbar": {
              "outlinewidth": 0,
              "ticks": ""
             }
            },
            "type": "scattercarpet"
           }
          ],
          "scattergeo": [
           {
            "marker": {
             "colorbar": {
              "outlinewidth": 0,
              "ticks": ""
             }
            },
            "type": "scattergeo"
           }
          ],
          "scattergl": [
           {
            "marker": {
             "colorbar": {
              "outlinewidth": 0,
              "ticks": ""
             }
            },
            "type": "scattergl"
           }
          ],
          "scattermapbox": [
           {
            "marker": {
             "colorbar": {
              "outlinewidth": 0,
              "ticks": ""
             }
            },
            "type": "scattermapbox"
           }
          ],
          "scatterpolar": [
           {
            "marker": {
             "colorbar": {
              "outlinewidth": 0,
              "ticks": ""
             }
            },
            "type": "scatterpolar"
           }
          ],
          "scatterpolargl": [
           {
            "marker": {
             "colorbar": {
              "outlinewidth": 0,
              "ticks": ""
             }
            },
            "type": "scatterpolargl"
           }
          ],
          "scatterternary": [
           {
            "marker": {
             "colorbar": {
              "outlinewidth": 0,
              "ticks": ""
             }
            },
            "type": "scatterternary"
           }
          ],
          "surface": [
           {
            "colorbar": {
             "outlinewidth": 0,
             "ticks": ""
            },
            "colorscale": [
             [
              0,
              "#0d0887"
             ],
             [
              0.1111111111111111,
              "#46039f"
             ],
             [
              0.2222222222222222,
              "#7201a8"
             ],
             [
              0.3333333333333333,
              "#9c179e"
             ],
             [
              0.4444444444444444,
              "#bd3786"
             ],
             [
              0.5555555555555556,
              "#d8576b"
             ],
             [
              0.6666666666666666,
              "#ed7953"
             ],
             [
              0.7777777777777778,
              "#fb9f3a"
             ],
             [
              0.8888888888888888,
              "#fdca26"
             ],
             [
              1,
              "#f0f921"
             ]
            ],
            "type": "surface"
           }
          ],
          "table": [
           {
            "cells": {
             "fill": {
              "color": "#EBF0F8"
             },
             "line": {
              "color": "white"
             }
            },
            "header": {
             "fill": {
              "color": "#C8D4E3"
             },
             "line": {
              "color": "white"
             }
            },
            "type": "table"
           }
          ]
         },
         "layout": {
          "annotationdefaults": {
           "arrowcolor": "#2a3f5f",
           "arrowhead": 0,
           "arrowwidth": 1
          },
          "autotypenumbers": "strict",
          "coloraxis": {
           "colorbar": {
            "outlinewidth": 0,
            "ticks": ""
           }
          },
          "colorscale": {
           "diverging": [
            [
             0,
             "#8e0152"
            ],
            [
             0.1,
             "#c51b7d"
            ],
            [
             0.2,
             "#de77ae"
            ],
            [
             0.3,
             "#f1b6da"
            ],
            [
             0.4,
             "#fde0ef"
            ],
            [
             0.5,
             "#f7f7f7"
            ],
            [
             0.6,
             "#e6f5d0"
            ],
            [
             0.7,
             "#b8e186"
            ],
            [
             0.8,
             "#7fbc41"
            ],
            [
             0.9,
             "#4d9221"
            ],
            [
             1,
             "#276419"
            ]
           ],
           "sequential": [
            [
             0,
             "#0d0887"
            ],
            [
             0.1111111111111111,
             "#46039f"
            ],
            [
             0.2222222222222222,
             "#7201a8"
            ],
            [
             0.3333333333333333,
             "#9c179e"
            ],
            [
             0.4444444444444444,
             "#bd3786"
            ],
            [
             0.5555555555555556,
             "#d8576b"
            ],
            [
             0.6666666666666666,
             "#ed7953"
            ],
            [
             0.7777777777777778,
             "#fb9f3a"
            ],
            [
             0.8888888888888888,
             "#fdca26"
            ],
            [
             1,
             "#f0f921"
            ]
           ],
           "sequentialminus": [
            [
             0,
             "#0d0887"
            ],
            [
             0.1111111111111111,
             "#46039f"
            ],
            [
             0.2222222222222222,
             "#7201a8"
            ],
            [
             0.3333333333333333,
             "#9c179e"
            ],
            [
             0.4444444444444444,
             "#bd3786"
            ],
            [
             0.5555555555555556,
             "#d8576b"
            ],
            [
             0.6666666666666666,
             "#ed7953"
            ],
            [
             0.7777777777777778,
             "#fb9f3a"
            ],
            [
             0.8888888888888888,
             "#fdca26"
            ],
            [
             1,
             "#f0f921"
            ]
           ]
          },
          "colorway": [
           "#636efa",
           "#EF553B",
           "#00cc96",
           "#ab63fa",
           "#FFA15A",
           "#19d3f3",
           "#FF6692",
           "#B6E880",
           "#FF97FF",
           "#FECB52"
          ],
          "font": {
           "color": "#2a3f5f"
          },
          "geo": {
           "bgcolor": "white",
           "lakecolor": "white",
           "landcolor": "#E5ECF6",
           "showlakes": true,
           "showland": true,
           "subunitcolor": "white"
          },
          "hoverlabel": {
           "align": "left"
          },
          "hovermode": "closest",
          "mapbox": {
           "style": "light"
          },
          "paper_bgcolor": "white",
          "plot_bgcolor": "#E5ECF6",
          "polar": {
           "angularaxis": {
            "gridcolor": "white",
            "linecolor": "white",
            "ticks": ""
           },
           "bgcolor": "#E5ECF6",
           "radialaxis": {
            "gridcolor": "white",
            "linecolor": "white",
            "ticks": ""
           }
          },
          "scene": {
           "xaxis": {
            "backgroundcolor": "#E5ECF6",
            "gridcolor": "white",
            "gridwidth": 2,
            "linecolor": "white",
            "showbackground": true,
            "ticks": "",
            "zerolinecolor": "white"
           },
           "yaxis": {
            "backgroundcolor": "#E5ECF6",
            "gridcolor": "white",
            "gridwidth": 2,
            "linecolor": "white",
            "showbackground": true,
            "ticks": "",
            "zerolinecolor": "white"
           },
           "zaxis": {
            "backgroundcolor": "#E5ECF6",
            "gridcolor": "white",
            "gridwidth": 2,
            "linecolor": "white",
            "showbackground": true,
            "ticks": "",
            "zerolinecolor": "white"
           }
          },
          "shapedefaults": {
           "line": {
            "color": "#2a3f5f"
           }
          },
          "ternary": {
           "aaxis": {
            "gridcolor": "white",
            "linecolor": "white",
            "ticks": ""
           },
           "baxis": {
            "gridcolor": "white",
            "linecolor": "white",
            "ticks": ""
           },
           "bgcolor": "#E5ECF6",
           "caxis": {
            "gridcolor": "white",
            "linecolor": "white",
            "ticks": ""
           }
          },
          "title": {
           "x": 0.05
          },
          "xaxis": {
           "automargin": true,
           "gridcolor": "white",
           "linecolor": "white",
           "ticks": "",
           "title": {
            "standoff": 15
           },
           "zerolinecolor": "white",
           "zerolinewidth": 2
          },
          "yaxis": {
           "automargin": true,
           "gridcolor": "white",
           "linecolor": "white",
           "ticks": "",
           "title": {
            "standoff": 15
           },
           "zerolinecolor": "white",
           "zerolinewidth": 2
          }
         }
        },
        "title": {
         "font": {
          "color": "#4D5663"
         }
        },
        "xaxis": {
         "gridcolor": "#E1E5ED",
         "showgrid": true,
         "tickfont": {
          "color": "#4D5663"
         },
         "title": {
          "font": {
           "color": "#4D5663"
          },
          "text": ""
         },
         "zerolinecolor": "#E1E5ED"
        },
        "xaxis2": {
         "anchor": "y2",
         "gridcolor": "#E1E5ED",
         "showgrid": true,
         "showticklabels": false,
         "tickfont": {
          "color": "#4D5663"
         },
         "title": {
          "font": {
           "color": "#4D5663"
          },
          "text": ""
         },
         "zerolinecolor": "#E1E5ED"
        },
        "yaxis": {
         "domain": [
          0.3,
          1
         ],
         "gridcolor": "#E1E5ED",
         "showgrid": true,
         "tickfont": {
          "color": "#4D5663"
         },
         "title": {
          "font": {
           "color": "#4D5663"
          },
          "text": ""
         },
         "zerolinecolor": "#E1E5ED"
        },
        "yaxis2": {
         "domain": [
          0,
          0.25
         ],
         "gridcolor": "#E1E5ED",
         "showgrid": true,
         "tickfont": {
          "color": "#4D5663"
         },
         "title": {
          "font": {
           "color": "#4D5663"
          },
          "text": "Spread"
         },
         "zerolinecolor": "#E1E5ED"
        }
       }
      },
      "text/html": [
       "<div>                            <div id=\"7ffb1790-9ef4-4b3b-bb54-b4cd3cd95c99\" class=\"plotly-graph-div\" style=\"height:525px; width:100%;\"></div>            <script type=\"text/javascript\">                require([\"plotly\"], function(Plotly) {                    window.PLOTLYENV=window.PLOTLYENV || {};\n",
       "                    window.PLOTLYENV.BASE_URL='https://plot.ly';                                    if (document.getElementById(\"7ffb1790-9ef4-4b3b-bb54-b4cd3cd95c99\")) {                    Plotly.newPlot(                        \"7ffb1790-9ef4-4b3b-bb54-b4cd3cd95c99\",                        [{\"line\":{\"color\":\"rgba(255, 153, 51, 1.0)\",\"dash\":\"solid\",\"shape\":\"linear\",\"width\":1.3},\"mode\":\"lines\",\"name\":\"A\",\"text\":\"\",\"x\":[0,1,2,3,4,5,6,7,8,9,10,11,12,13,14,15,16,17,18,19,20,21,22,23,24,25,26,27,28,29,30,31,32,33,34,35,36,37,38,39,40,41,42,43,44,45,46,47,48,49,50,51,52,53,54,55,56,57,58,59,60,61,62,63,64,65,66,67,68,69,70,71,72,73,74,75,76,77,78,79,80,81,82,83,84,85,86,87,88,89,90,91,92,93,94,95,96,97,98,99],\"y\":[-0.7211844881720889,-1.460522588285307,2.154948856212787,-0.49761196784253425,0.45284763019750024,-0.2146016535662887,0.6461779730757492,-0.11825227421614609,1.2915518225379228,0.18608916067102835,-1.4874697128735566,-2.674955108446302,0.9190575231032203,-2.5325371551100275,-1.6777824953054545,-0.5467026438923042,0.5889265073259935,0.5713454137445192,-0.7405110737545675,-0.3762010861641179,0.1489885436790522,0.5826629600411326,9.93956133860854e-05,1.3228779971160258,1.548816618475939,1.0493635334616715,-0.41796228792981016,0.17190353418274495,0.26603823982029823,1.7748592869778435,-0.7486339320839377,0.0800193740814564,0.024234150399956793,-1.2542478347818165,0.437098308644309,0.703962364809523,-1.456325016003159,-1.515331912201515,-1.6783903384875147,-0.4105728612305543,-1.609348939801891,0.20873382660773848,1.7185816695607006,1.515224936174814,1.0690785260274,-1.6264240979749063,-0.10391990265168422,-1.0109174745146479,-1.9146061901244,0.8887427941528846,1.1887629381499019,-2.628399663534101,1.4627541154619559,1.2193879796116494,0.03120731155045379,0.19112324160339209,-0.41263213724016684,1.2195646026171014,-0.9357186450127927,-0.7735198800180834,0.7193889197776803,0.6576833793061325,-1.056242381180936,0.09944112179190494,1.0607886466058087,1.7480384469434798,-0.2925634435299589,-2.259658886505214,-1.693429506937218,2.0564346631440666,-0.14075746225916153,1.1671358816250528,-0.5788602987660235,-0.0019086180276748474,-1.9031784355512493,0.6697468613769787,1.2899599026774455,1.0937370716707826,0.2270561295865113,-0.22835157535766273,-0.21301396382913657,0.2796610966082171,0.6150753211568992,-0.8829404665561942,-0.4656916952739058,-0.4252283999883795,0.4855630893895303,0.21391697236657217,-0.24628332366479058,0.1698428083437271,0.4165353423709389,1.0312345779753802,-0.3802955308874277,-0.24345550305773975,-1.6088187152500206,1.362642934270473,0.5659359812206953,-0.08982000068507776,0.13460869031949085,0.07277500218970358],\"type\":\"scatter\"},{\"line\":{\"color\":\"rgba(55, 128, 191, 1.0)\",\"dash\":\"solid\",\"shape\":\"linear\",\"width\":1.3},\"mode\":\"lines\",\"name\":\"B\",\"text\":\"\",\"x\":[0,1,2,3,4,5,6,7,8,9,10,11,12,13,14,15,16,17,18,19,20,21,22,23,24,25,26,27,28,29,30,31,32,33,34,35,36,37,38,39,40,41,42,43,44,45,46,47,48,49,50,51,52,53,54,55,56,57,58,59,60,61,62,63,64,65,66,67,68,69,70,71,72,73,74,75,76,77,78,79,80,81,82,83,84,85,86,87,88,89,90,91,92,93,94,95,96,97,98,99],\"y\":[1.9363176963824915,0.783691095069216,-1.1913463628659005,-0.6441276887203147,1.1687904468466739,0.6323414704685131,-1.2191589935127074,-0.2143976718639855,-1.9448875532251129,-0.28376974222916534,1.5782128138754477,-1.8196443931299022,-0.6407499492278539,-0.4211817381995266,0.749816068741311,1.0357869223281948,1.4574441310839379,-0.3042344579582755,0.19723781050623027,-0.5624181531021479,-1.4068385344205947,-1.467133562334591,-0.5674350597043402,-2.129336044404162,1.1758806168946234,-0.16448995704076652,-0.9779043170437532,-0.34597066195963844,0.5646432182256792,1.3236523242202396,0.6072867513938234,-0.568385280381742,-1.1186532483940683,0.30430474772314803,-0.31653229378343317,0.10274254004759957,-0.4004143253747189,-0.5401696407335572,-1.7905406758414422,-0.3447153898348365,0.01640549905721995,1.329803844957976,-0.2838454848295598,-0.7149500718878599,2.131509449259118,-0.20594262819363468,-0.46095460604086497,1.3762460600580146,-0.5315216700601639,0.4330121353014572,-1.0421993308088067,-1.5558986585240033,-1.218392913837334,0.44444621727844846,-0.3033811422910685,-0.2348174161172821,0.6761559094978562,-0.1433003612459205,-0.5021565887281341,-0.5643974865846672,-0.32738588487886683,2.7095465578361577,0.18779561954741292,-0.179442053806397,0.16190622421114106,-0.10631574297220216,-0.9719562551176633,-0.8864656963735614,-1.0971579537801677,0.5703636600272055,0.017455999104761276,0.10764563017514592,0.6674390203404504,-1.5483790010746306,0.7855020724347893,1.0864443237398242,-0.09412775608332852,-0.7155961933081841,2.1220822162796087,0.6706361949388256,-0.5290544807432842,-2.2005054084000197,0.1576792060896083,0.09945177553841868,-1.8392810801254043,-0.9192852920587717,2.4718464231328774,0.2076321039179723,-0.8445272827194005,-0.8008434375387793,-0.007766019613267419,0.5090193899057244,-0.0030644485108717303,1.2109719752722654,-0.8042659230928949,0.0639503553332306,-0.19669717584049626,0.3109834776847498,0.27778199066943177,0.9202818228115818],\"type\":\"scatter\"},{\"connectgaps\":false,\"fill\":\"tozeroy\",\"line\":{\"color\":\"green\",\"dash\":\"solid\",\"shape\":\"linear\",\"width\":0.5},\"mode\":\"lines\",\"name\":\"Spread\",\"showlegend\":false,\"x\":[0,1,2,3,4,5,6,7,8,9,10,11,12,13,14,15,16,17,18,19,20,21,22,23,24,25,26,27,28,29,30,31,32,33,34,35,36,37,38,39,40,41,42,43,44,45,46,47,48,49,50,51,52,53,54,55,56,57,58,59,60,61,62,63,64,65,66,67,68,69,70,71,72,73,74,75,76,77,78,79,80,81,82,83,84,85,86,87,88,89,90,91,92,93,94,95,96,97,98,99],\"xaxis\":\"x2\",\"y\":[\"\",\"\",3.346295219078687,0.14651572087778042,\"\",\"\",1.8653369665884565,0.09614539764783941,3.2364393757630356,0.4698589029001937,\"\",\"\",1.5598074723310742,\"\",\"\",\"\",\"\",0.8755798717027947,\"\",0.18621706693803003,1.5558270780996468,2.0497965223757237,0.5675344553177263,3.452214041520188,0.3729360015813157,1.213853490502438,0.5599420291139431,0.5178741961423834,\"\",0.45120696275760386,\"\",0.6484046544631984,1.1428873987940251,\"\",0.7536306024277422,0.6012198247619235,\"\",\"\",0.11215033735392743,\"\",\"\",\"\",2.0024271543902605,2.230175008062674,\"\",\"\",0.35703470338918075,\"\",\"\",0.4557306588514274,2.2309622689587085,\"\",2.68114702929929,0.7749417623332009,0.3345884538415223,0.4259406577206742,\"\",1.362864963863022,\"\",\"\",1.046774804656547,\"\",\"\",0.27888317559830195,0.8988824223946676,1.854354189915682,0.6793928115877044,\"\",\"\",1.4860710031168611,\"\",1.059490251449907,\"\",1.5464703830469557,\"\",\"\",1.384087658760774,1.8093332649789668,\"\",\"\",0.31604051691414764,2.4801665050082367,0.45739611506729094,\"\",1.3735893848514984,0.4940568920703922,\"\",0.0062848684485998785,0.5982439590546099,0.9706862458825064,0.4243013619842063,0.5222151880696558,\"\",\"\",\"\",1.2986925789372423,0.7626331570611916,\"\",\"\",\"\"],\"yaxis\":\"y2\",\"type\":\"scatter\"},{\"connectgaps\":false,\"fill\":\"tozeroy\",\"line\":{\"color\":\"red\",\"dash\":\"solid\",\"shape\":\"linear\",\"width\":0.5},\"mode\":\"lines\",\"name\":\"Spread\",\"showlegend\":false,\"x\":[0,1,2,3,4,5,6,7,8,9,10,11,12,13,14,15,16,17,18,19,20,21,22,23,24,25,26,27,28,29,30,31,32,33,34,35,36,37,38,39,40,41,42,43,44,45,46,47,48,49,50,51,52,53,54,55,56,57,58,59,60,61,62,63,64,65,66,67,68,69,70,71,72,73,74,75,76,77,78,79,80,81,82,83,84,85,86,87,88,89,90,91,92,93,94,95,96,97,98,99],\"xaxis\":\"x2\",\"y\":[-2.6575021845545805,-2.244213683354523,\"\",\"\",-0.7159428166491737,-0.8469431240348018,\"\",\"\",\"\",\"\",-3.065682526749004,-0.8553107153163997,\"\",-2.111355416910501,-2.4275985640467654,-1.582489566220499,-0.8685176237579444,\"\",-0.9377488842607977,\"\",\"\",\"\",\"\",\"\",\"\",\"\",\"\",\"\",-0.29860497840538097,\"\",-1.355920683477761,\"\",\"\",-1.5585525825049644,\"\",\"\",-1.0559106906284401,-0.9751622714679578,\"\",-0.06585747139571779,-1.625754438859111,-1.1210700183502376,\"\",\"\",-1.0624309232317177,-1.4204814697812715,\"\",-2.3871635345726627,-1.383084520064236,\"\",\"\",-1.0725010050100976,\"\",\"\",\"\",\"\",-1.088788046738023,\"\",-0.4335620562846586,-0.2091223934334162,\"\",-2.0518631785300254,-1.244038000728349,\"\",\"\",\"\",\"\",-1.3731931901316528,-0.5962715531570504,\"\",-0.1582134613639228,\"\",-1.246299319106474,\"\",-2.6886805079860387,-0.41669746236284555,\"\",\"\",-1.8950260866930975,-0.8989877702964884,\"\",\"\",\"\",-0.9823922420946128,\"\",\"\",-1.986283333743347,\"\",\"\",\"\",\"\",\"\",-0.37723108237655595,-1.454427478330005,-0.8045527921571257,\"\",\"\",-0.40080347836982755,-0.1431733003499409,-0.8475068206218782],\"yaxis\":\"y2\",\"type\":\"scatter\"}],                        {\"hovermode\":\"x\",\"legend\":{\"bgcolor\":\"#F5F6F9\",\"font\":{\"color\":\"#4D5663\"}},\"paper_bgcolor\":\"#F5F6F9\",\"plot_bgcolor\":\"#F5F6F9\",\"template\":{\"data\":{\"barpolar\":[{\"marker\":{\"line\":{\"color\":\"#E5ECF6\",\"width\":0.5},\"pattern\":{\"fillmode\":\"overlay\",\"size\":10,\"solidity\":0.2}},\"type\":\"barpolar\"}],\"bar\":[{\"error_x\":{\"color\":\"#2a3f5f\"},\"error_y\":{\"color\":\"#2a3f5f\"},\"marker\":{\"line\":{\"color\":\"#E5ECF6\",\"width\":0.5},\"pattern\":{\"fillmode\":\"overlay\",\"size\":10,\"solidity\":0.2}},\"type\":\"bar\"}],\"carpet\":[{\"aaxis\":{\"endlinecolor\":\"#2a3f5f\",\"gridcolor\":\"white\",\"linecolor\":\"white\",\"minorgridcolor\":\"white\",\"startlinecolor\":\"#2a3f5f\"},\"baxis\":{\"endlinecolor\":\"#2a3f5f\",\"gridcolor\":\"white\",\"linecolor\":\"white\",\"minorgridcolor\":\"white\",\"startlinecolor\":\"#2a3f5f\"},\"type\":\"carpet\"}],\"choropleth\":[{\"colorbar\":{\"outlinewidth\":0,\"ticks\":\"\"},\"type\":\"choropleth\"}],\"contourcarpet\":[{\"colorbar\":{\"outlinewidth\":0,\"ticks\":\"\"},\"type\":\"contourcarpet\"}],\"contour\":[{\"colorbar\":{\"outlinewidth\":0,\"ticks\":\"\"},\"colorscale\":[[0.0,\"#0d0887\"],[0.1111111111111111,\"#46039f\"],[0.2222222222222222,\"#7201a8\"],[0.3333333333333333,\"#9c179e\"],[0.4444444444444444,\"#bd3786\"],[0.5555555555555556,\"#d8576b\"],[0.6666666666666666,\"#ed7953\"],[0.7777777777777778,\"#fb9f3a\"],[0.8888888888888888,\"#fdca26\"],[1.0,\"#f0f921\"]],\"type\":\"contour\"}],\"heatmapgl\":[{\"colorbar\":{\"outlinewidth\":0,\"ticks\":\"\"},\"colorscale\":[[0.0,\"#0d0887\"],[0.1111111111111111,\"#46039f\"],[0.2222222222222222,\"#7201a8\"],[0.3333333333333333,\"#9c179e\"],[0.4444444444444444,\"#bd3786\"],[0.5555555555555556,\"#d8576b\"],[0.6666666666666666,\"#ed7953\"],[0.7777777777777778,\"#fb9f3a\"],[0.8888888888888888,\"#fdca26\"],[1.0,\"#f0f921\"]],\"type\":\"heatmapgl\"}],\"heatmap\":[{\"colorbar\":{\"outlinewidth\":0,\"ticks\":\"\"},\"colorscale\":[[0.0,\"#0d0887\"],[0.1111111111111111,\"#46039f\"],[0.2222222222222222,\"#7201a8\"],[0.3333333333333333,\"#9c179e\"],[0.4444444444444444,\"#bd3786\"],[0.5555555555555556,\"#d8576b\"],[0.6666666666666666,\"#ed7953\"],[0.7777777777777778,\"#fb9f3a\"],[0.8888888888888888,\"#fdca26\"],[1.0,\"#f0f921\"]],\"type\":\"heatmap\"}],\"histogram2dcontour\":[{\"colorbar\":{\"outlinewidth\":0,\"ticks\":\"\"},\"colorscale\":[[0.0,\"#0d0887\"],[0.1111111111111111,\"#46039f\"],[0.2222222222222222,\"#7201a8\"],[0.3333333333333333,\"#9c179e\"],[0.4444444444444444,\"#bd3786\"],[0.5555555555555556,\"#d8576b\"],[0.6666666666666666,\"#ed7953\"],[0.7777777777777778,\"#fb9f3a\"],[0.8888888888888888,\"#fdca26\"],[1.0,\"#f0f921\"]],\"type\":\"histogram2dcontour\"}],\"histogram2d\":[{\"colorbar\":{\"outlinewidth\":0,\"ticks\":\"\"},\"colorscale\":[[0.0,\"#0d0887\"],[0.1111111111111111,\"#46039f\"],[0.2222222222222222,\"#7201a8\"],[0.3333333333333333,\"#9c179e\"],[0.4444444444444444,\"#bd3786\"],[0.5555555555555556,\"#d8576b\"],[0.6666666666666666,\"#ed7953\"],[0.7777777777777778,\"#fb9f3a\"],[0.8888888888888888,\"#fdca26\"],[1.0,\"#f0f921\"]],\"type\":\"histogram2d\"}],\"histogram\":[{\"marker\":{\"pattern\":{\"fillmode\":\"overlay\",\"size\":10,\"solidity\":0.2}},\"type\":\"histogram\"}],\"mesh3d\":[{\"colorbar\":{\"outlinewidth\":0,\"ticks\":\"\"},\"type\":\"mesh3d\"}],\"parcoords\":[{\"line\":{\"colorbar\":{\"outlinewidth\":0,\"ticks\":\"\"}},\"type\":\"parcoords\"}],\"pie\":[{\"automargin\":true,\"type\":\"pie\"}],\"scatter3d\":[{\"line\":{\"colorbar\":{\"outlinewidth\":0,\"ticks\":\"\"}},\"marker\":{\"colorbar\":{\"outlinewidth\":0,\"ticks\":\"\"}},\"type\":\"scatter3d\"}],\"scattercarpet\":[{\"marker\":{\"colorbar\":{\"outlinewidth\":0,\"ticks\":\"\"}},\"type\":\"scattercarpet\"}],\"scattergeo\":[{\"marker\":{\"colorbar\":{\"outlinewidth\":0,\"ticks\":\"\"}},\"type\":\"scattergeo\"}],\"scattergl\":[{\"marker\":{\"colorbar\":{\"outlinewidth\":0,\"ticks\":\"\"}},\"type\":\"scattergl\"}],\"scattermapbox\":[{\"marker\":{\"colorbar\":{\"outlinewidth\":0,\"ticks\":\"\"}},\"type\":\"scattermapbox\"}],\"scatterpolargl\":[{\"marker\":{\"colorbar\":{\"outlinewidth\":0,\"ticks\":\"\"}},\"type\":\"scatterpolargl\"}],\"scatterpolar\":[{\"marker\":{\"colorbar\":{\"outlinewidth\":0,\"ticks\":\"\"}},\"type\":\"scatterpolar\"}],\"scatter\":[{\"marker\":{\"colorbar\":{\"outlinewidth\":0,\"ticks\":\"\"}},\"type\":\"scatter\"}],\"scatterternary\":[{\"marker\":{\"colorbar\":{\"outlinewidth\":0,\"ticks\":\"\"}},\"type\":\"scatterternary\"}],\"surface\":[{\"colorbar\":{\"outlinewidth\":0,\"ticks\":\"\"},\"colorscale\":[[0.0,\"#0d0887\"],[0.1111111111111111,\"#46039f\"],[0.2222222222222222,\"#7201a8\"],[0.3333333333333333,\"#9c179e\"],[0.4444444444444444,\"#bd3786\"],[0.5555555555555556,\"#d8576b\"],[0.6666666666666666,\"#ed7953\"],[0.7777777777777778,\"#fb9f3a\"],[0.8888888888888888,\"#fdca26\"],[1.0,\"#f0f921\"]],\"type\":\"surface\"}],\"table\":[{\"cells\":{\"fill\":{\"color\":\"#EBF0F8\"},\"line\":{\"color\":\"white\"}},\"header\":{\"fill\":{\"color\":\"#C8D4E3\"},\"line\":{\"color\":\"white\"}},\"type\":\"table\"}]},\"layout\":{\"annotationdefaults\":{\"arrowcolor\":\"#2a3f5f\",\"arrowhead\":0,\"arrowwidth\":1},\"autotypenumbers\":\"strict\",\"coloraxis\":{\"colorbar\":{\"outlinewidth\":0,\"ticks\":\"\"}},\"colorscale\":{\"diverging\":[[0,\"#8e0152\"],[0.1,\"#c51b7d\"],[0.2,\"#de77ae\"],[0.3,\"#f1b6da\"],[0.4,\"#fde0ef\"],[0.5,\"#f7f7f7\"],[0.6,\"#e6f5d0\"],[0.7,\"#b8e186\"],[0.8,\"#7fbc41\"],[0.9,\"#4d9221\"],[1,\"#276419\"]],\"sequential\":[[0.0,\"#0d0887\"],[0.1111111111111111,\"#46039f\"],[0.2222222222222222,\"#7201a8\"],[0.3333333333333333,\"#9c179e\"],[0.4444444444444444,\"#bd3786\"],[0.5555555555555556,\"#d8576b\"],[0.6666666666666666,\"#ed7953\"],[0.7777777777777778,\"#fb9f3a\"],[0.8888888888888888,\"#fdca26\"],[1.0,\"#f0f921\"]],\"sequentialminus\":[[0.0,\"#0d0887\"],[0.1111111111111111,\"#46039f\"],[0.2222222222222222,\"#7201a8\"],[0.3333333333333333,\"#9c179e\"],[0.4444444444444444,\"#bd3786\"],[0.5555555555555556,\"#d8576b\"],[0.6666666666666666,\"#ed7953\"],[0.7777777777777778,\"#fb9f3a\"],[0.8888888888888888,\"#fdca26\"],[1.0,\"#f0f921\"]]},\"colorway\":[\"#636efa\",\"#EF553B\",\"#00cc96\",\"#ab63fa\",\"#FFA15A\",\"#19d3f3\",\"#FF6692\",\"#B6E880\",\"#FF97FF\",\"#FECB52\"],\"font\":{\"color\":\"#2a3f5f\"},\"geo\":{\"bgcolor\":\"white\",\"lakecolor\":\"white\",\"landcolor\":\"#E5ECF6\",\"showlakes\":true,\"showland\":true,\"subunitcolor\":\"white\"},\"hoverlabel\":{\"align\":\"left\"},\"hovermode\":\"closest\",\"mapbox\":{\"style\":\"light\"},\"paper_bgcolor\":\"white\",\"plot_bgcolor\":\"#E5ECF6\",\"polar\":{\"angularaxis\":{\"gridcolor\":\"white\",\"linecolor\":\"white\",\"ticks\":\"\"},\"bgcolor\":\"#E5ECF6\",\"radialaxis\":{\"gridcolor\":\"white\",\"linecolor\":\"white\",\"ticks\":\"\"}},\"scene\":{\"xaxis\":{\"backgroundcolor\":\"#E5ECF6\",\"gridcolor\":\"white\",\"gridwidth\":2,\"linecolor\":\"white\",\"showbackground\":true,\"ticks\":\"\",\"zerolinecolor\":\"white\"},\"yaxis\":{\"backgroundcolor\":\"#E5ECF6\",\"gridcolor\":\"white\",\"gridwidth\":2,\"linecolor\":\"white\",\"showbackground\":true,\"ticks\":\"\",\"zerolinecolor\":\"white\"},\"zaxis\":{\"backgroundcolor\":\"#E5ECF6\",\"gridcolor\":\"white\",\"gridwidth\":2,\"linecolor\":\"white\",\"showbackground\":true,\"ticks\":\"\",\"zerolinecolor\":\"white\"}},\"shapedefaults\":{\"line\":{\"color\":\"#2a3f5f\"}},\"ternary\":{\"aaxis\":{\"gridcolor\":\"white\",\"linecolor\":\"white\",\"ticks\":\"\"},\"baxis\":{\"gridcolor\":\"white\",\"linecolor\":\"white\",\"ticks\":\"\"},\"bgcolor\":\"#E5ECF6\",\"caxis\":{\"gridcolor\":\"white\",\"linecolor\":\"white\",\"ticks\":\"\"}},\"title\":{\"x\":0.05},\"xaxis\":{\"automargin\":true,\"gridcolor\":\"white\",\"linecolor\":\"white\",\"ticks\":\"\",\"title\":{\"standoff\":15},\"zerolinecolor\":\"white\",\"zerolinewidth\":2},\"yaxis\":{\"automargin\":true,\"gridcolor\":\"white\",\"linecolor\":\"white\",\"ticks\":\"\",\"title\":{\"standoff\":15},\"zerolinecolor\":\"white\",\"zerolinewidth\":2}}},\"title\":{\"font\":{\"color\":\"#4D5663\"}},\"xaxis\":{\"gridcolor\":\"#E1E5ED\",\"showgrid\":true,\"tickfont\":{\"color\":\"#4D5663\"},\"title\":{\"font\":{\"color\":\"#4D5663\"},\"text\":\"\"},\"zerolinecolor\":\"#E1E5ED\"},\"yaxis\":{\"domain\":[0.3,1],\"gridcolor\":\"#E1E5ED\",\"showgrid\":true,\"tickfont\":{\"color\":\"#4D5663\"},\"title\":{\"font\":{\"color\":\"#4D5663\"},\"text\":\"\"},\"zerolinecolor\":\"#E1E5ED\"},\"yaxis2\":{\"domain\":[0,0.25],\"gridcolor\":\"#E1E5ED\",\"showgrid\":true,\"tickfont\":{\"color\":\"#4D5663\"},\"title\":{\"font\":{\"color\":\"#4D5663\"},\"text\":\"Spread\"},\"zerolinecolor\":\"#E1E5ED\"},\"xaxis2\":{\"anchor\":\"y2\",\"gridcolor\":\"#E1E5ED\",\"showgrid\":true,\"showticklabels\":false,\"tickfont\":{\"color\":\"#4D5663\"},\"title\":{\"font\":{\"color\":\"#4D5663\"},\"text\":\"\"},\"zerolinecolor\":\"#E1E5ED\"}},                        {\"showLink\": true, \"linkText\": \"Export to plot.ly\", \"plotlyServerURL\": \"https://plot.ly\", \"responsive\": true}                    ).then(function(){\n",
       "                            \n",
       "var gd = document.getElementById('7ffb1790-9ef4-4b3b-bb54-b4cd3cd95c99');\n",
       "var x = new MutationObserver(function (mutations, observer) {{\n",
       "        var display = window.getComputedStyle(gd).display;\n",
       "        if (!display || display === 'none') {{\n",
       "            console.log([gd, 'removed!']);\n",
       "            Plotly.purge(gd);\n",
       "            observer.disconnect();\n",
       "        }}\n",
       "}});\n",
       "\n",
       "// Listen for the removal of the full notebook cells\n",
       "var notebookContainer = gd.closest('#notebook-container');\n",
       "if (notebookContainer) {{\n",
       "    x.observe(notebookContainer, {childList: true});\n",
       "}}\n",
       "\n",
       "// Listen for the clearing of the current output cell\n",
       "var outputEl = gd.closest('.output');\n",
       "if (outputEl) {{\n",
       "    x.observe(outputEl, {childList: true});\n",
       "}}\n",
       "\n",
       "                        })                };                });            </script>        </div>"
      ]
     },
     "metadata": {},
     "output_type": "display_data"
    }
   ],
   "source": [
    "df[['A','B']].iplot(kind='spread')"
   ]
  },
  {
   "cell_type": "markdown",
   "metadata": {},
   "source": [
    "# Histogram"
   ]
  },
  {
   "cell_type": "code",
   "execution_count": 15,
   "metadata": {},
   "outputs": [
    {
     "data": {
      "application/vnd.plotly.v1+json": {
       "config": {
        "linkText": "Export to plot.ly",
        "plotlyServerURL": "https://plot.ly",
        "showLink": true
       },
       "data": [
        {
         "histfunc": "count",
         "histnorm": "",
         "marker": {
          "color": "rgba(255, 153, 51, 1.0)",
          "line": {
           "color": "#4D5663",
           "width": 1.3
          }
         },
         "name": "A",
         "nbinsx": 25,
         "opacity": 0.8,
         "orientation": "v",
         "type": "histogram",
         "x": [
          -0.7211844881720889,
          -1.460522588285307,
          2.154948856212787,
          -0.49761196784253425,
          0.45284763019750024,
          -0.2146016535662887,
          0.6461779730757492,
          -0.11825227421614609,
          1.2915518225379228,
          0.18608916067102835,
          -1.4874697128735566,
          -2.674955108446302,
          0.9190575231032203,
          -2.5325371551100275,
          -1.6777824953054545,
          -0.5467026438923042,
          0.5889265073259935,
          0.5713454137445192,
          -0.7405110737545675,
          -0.3762010861641179,
          0.1489885436790522,
          0.5826629600411326,
          9.93956133860854e-05,
          1.3228779971160258,
          1.548816618475939,
          1.0493635334616715,
          -0.41796228792981016,
          0.17190353418274495,
          0.26603823982029823,
          1.7748592869778435,
          -0.7486339320839377,
          0.0800193740814564,
          0.024234150399956793,
          -1.2542478347818165,
          0.437098308644309,
          0.703962364809523,
          -1.456325016003159,
          -1.515331912201515,
          -1.6783903384875147,
          -0.4105728612305543,
          -1.609348939801891,
          0.20873382660773848,
          1.7185816695607006,
          1.515224936174814,
          1.0690785260274,
          -1.6264240979749063,
          -0.10391990265168422,
          -1.0109174745146479,
          -1.9146061901244,
          0.8887427941528846,
          1.1887629381499019,
          -2.628399663534101,
          1.4627541154619559,
          1.2193879796116494,
          0.03120731155045379,
          0.19112324160339209,
          -0.41263213724016684,
          1.2195646026171014,
          -0.9357186450127927,
          -0.7735198800180834,
          0.7193889197776803,
          0.6576833793061325,
          -1.056242381180936,
          0.09944112179190494,
          1.0607886466058087,
          1.7480384469434798,
          -0.2925634435299589,
          -2.259658886505214,
          -1.693429506937218,
          2.0564346631440666,
          -0.14075746225916153,
          1.1671358816250528,
          -0.5788602987660235,
          -0.0019086180276748474,
          -1.9031784355512493,
          0.6697468613769787,
          1.2899599026774455,
          1.0937370716707826,
          0.2270561295865113,
          -0.22835157535766273,
          -0.21301396382913657,
          0.2796610966082171,
          0.6150753211568992,
          -0.8829404665561942,
          -0.4656916952739058,
          -0.4252283999883795,
          0.4855630893895303,
          0.21391697236657217,
          -0.24628332366479058,
          0.1698428083437271,
          0.4165353423709389,
          1.0312345779753802,
          -0.3802955308874277,
          -0.24345550305773975,
          -1.6088187152500206,
          1.362642934270473,
          0.5659359812206953,
          -0.08982000068507776,
          0.13460869031949085,
          0.07277500218970358
         ]
        }
       ],
       "layout": {
        "barmode": "overlay",
        "legend": {
         "bgcolor": "#F5F6F9",
         "font": {
          "color": "#4D5663"
         }
        },
        "paper_bgcolor": "#F5F6F9",
        "plot_bgcolor": "#F5F6F9",
        "template": {
         "data": {
          "bar": [
           {
            "error_x": {
             "color": "#2a3f5f"
            },
            "error_y": {
             "color": "#2a3f5f"
            },
            "marker": {
             "line": {
              "color": "#E5ECF6",
              "width": 0.5
             },
             "pattern": {
              "fillmode": "overlay",
              "size": 10,
              "solidity": 0.2
             }
            },
            "type": "bar"
           }
          ],
          "barpolar": [
           {
            "marker": {
             "line": {
              "color": "#E5ECF6",
              "width": 0.5
             },
             "pattern": {
              "fillmode": "overlay",
              "size": 10,
              "solidity": 0.2
             }
            },
            "type": "barpolar"
           }
          ],
          "carpet": [
           {
            "aaxis": {
             "endlinecolor": "#2a3f5f",
             "gridcolor": "white",
             "linecolor": "white",
             "minorgridcolor": "white",
             "startlinecolor": "#2a3f5f"
            },
            "baxis": {
             "endlinecolor": "#2a3f5f",
             "gridcolor": "white",
             "linecolor": "white",
             "minorgridcolor": "white",
             "startlinecolor": "#2a3f5f"
            },
            "type": "carpet"
           }
          ],
          "choropleth": [
           {
            "colorbar": {
             "outlinewidth": 0,
             "ticks": ""
            },
            "type": "choropleth"
           }
          ],
          "contour": [
           {
            "colorbar": {
             "outlinewidth": 0,
             "ticks": ""
            },
            "colorscale": [
             [
              0,
              "#0d0887"
             ],
             [
              0.1111111111111111,
              "#46039f"
             ],
             [
              0.2222222222222222,
              "#7201a8"
             ],
             [
              0.3333333333333333,
              "#9c179e"
             ],
             [
              0.4444444444444444,
              "#bd3786"
             ],
             [
              0.5555555555555556,
              "#d8576b"
             ],
             [
              0.6666666666666666,
              "#ed7953"
             ],
             [
              0.7777777777777778,
              "#fb9f3a"
             ],
             [
              0.8888888888888888,
              "#fdca26"
             ],
             [
              1,
              "#f0f921"
             ]
            ],
            "type": "contour"
           }
          ],
          "contourcarpet": [
           {
            "colorbar": {
             "outlinewidth": 0,
             "ticks": ""
            },
            "type": "contourcarpet"
           }
          ],
          "heatmap": [
           {
            "colorbar": {
             "outlinewidth": 0,
             "ticks": ""
            },
            "colorscale": [
             [
              0,
              "#0d0887"
             ],
             [
              0.1111111111111111,
              "#46039f"
             ],
             [
              0.2222222222222222,
              "#7201a8"
             ],
             [
              0.3333333333333333,
              "#9c179e"
             ],
             [
              0.4444444444444444,
              "#bd3786"
             ],
             [
              0.5555555555555556,
              "#d8576b"
             ],
             [
              0.6666666666666666,
              "#ed7953"
             ],
             [
              0.7777777777777778,
              "#fb9f3a"
             ],
             [
              0.8888888888888888,
              "#fdca26"
             ],
             [
              1,
              "#f0f921"
             ]
            ],
            "type": "heatmap"
           }
          ],
          "heatmapgl": [
           {
            "colorbar": {
             "outlinewidth": 0,
             "ticks": ""
            },
            "colorscale": [
             [
              0,
              "#0d0887"
             ],
             [
              0.1111111111111111,
              "#46039f"
             ],
             [
              0.2222222222222222,
              "#7201a8"
             ],
             [
              0.3333333333333333,
              "#9c179e"
             ],
             [
              0.4444444444444444,
              "#bd3786"
             ],
             [
              0.5555555555555556,
              "#d8576b"
             ],
             [
              0.6666666666666666,
              "#ed7953"
             ],
             [
              0.7777777777777778,
              "#fb9f3a"
             ],
             [
              0.8888888888888888,
              "#fdca26"
             ],
             [
              1,
              "#f0f921"
             ]
            ],
            "type": "heatmapgl"
           }
          ],
          "histogram": [
           {
            "marker": {
             "pattern": {
              "fillmode": "overlay",
              "size": 10,
              "solidity": 0.2
             }
            },
            "type": "histogram"
           }
          ],
          "histogram2d": [
           {
            "colorbar": {
             "outlinewidth": 0,
             "ticks": ""
            },
            "colorscale": [
             [
              0,
              "#0d0887"
             ],
             [
              0.1111111111111111,
              "#46039f"
             ],
             [
              0.2222222222222222,
              "#7201a8"
             ],
             [
              0.3333333333333333,
              "#9c179e"
             ],
             [
              0.4444444444444444,
              "#bd3786"
             ],
             [
              0.5555555555555556,
              "#d8576b"
             ],
             [
              0.6666666666666666,
              "#ed7953"
             ],
             [
              0.7777777777777778,
              "#fb9f3a"
             ],
             [
              0.8888888888888888,
              "#fdca26"
             ],
             [
              1,
              "#f0f921"
             ]
            ],
            "type": "histogram2d"
           }
          ],
          "histogram2dcontour": [
           {
            "colorbar": {
             "outlinewidth": 0,
             "ticks": ""
            },
            "colorscale": [
             [
              0,
              "#0d0887"
             ],
             [
              0.1111111111111111,
              "#46039f"
             ],
             [
              0.2222222222222222,
              "#7201a8"
             ],
             [
              0.3333333333333333,
              "#9c179e"
             ],
             [
              0.4444444444444444,
              "#bd3786"
             ],
             [
              0.5555555555555556,
              "#d8576b"
             ],
             [
              0.6666666666666666,
              "#ed7953"
             ],
             [
              0.7777777777777778,
              "#fb9f3a"
             ],
             [
              0.8888888888888888,
              "#fdca26"
             ],
             [
              1,
              "#f0f921"
             ]
            ],
            "type": "histogram2dcontour"
           }
          ],
          "mesh3d": [
           {
            "colorbar": {
             "outlinewidth": 0,
             "ticks": ""
            },
            "type": "mesh3d"
           }
          ],
          "parcoords": [
           {
            "line": {
             "colorbar": {
              "outlinewidth": 0,
              "ticks": ""
             }
            },
            "type": "parcoords"
           }
          ],
          "pie": [
           {
            "automargin": true,
            "type": "pie"
           }
          ],
          "scatter": [
           {
            "marker": {
             "colorbar": {
              "outlinewidth": 0,
              "ticks": ""
             }
            },
            "type": "scatter"
           }
          ],
          "scatter3d": [
           {
            "line": {
             "colorbar": {
              "outlinewidth": 0,
              "ticks": ""
             }
            },
            "marker": {
             "colorbar": {
              "outlinewidth": 0,
              "ticks": ""
             }
            },
            "type": "scatter3d"
           }
          ],
          "scattercarpet": [
           {
            "marker": {
             "colorbar": {
              "outlinewidth": 0,
              "ticks": ""
             }
            },
            "type": "scattercarpet"
           }
          ],
          "scattergeo": [
           {
            "marker": {
             "colorbar": {
              "outlinewidth": 0,
              "ticks": ""
             }
            },
            "type": "scattergeo"
           }
          ],
          "scattergl": [
           {
            "marker": {
             "colorbar": {
              "outlinewidth": 0,
              "ticks": ""
             }
            },
            "type": "scattergl"
           }
          ],
          "scattermapbox": [
           {
            "marker": {
             "colorbar": {
              "outlinewidth": 0,
              "ticks": ""
             }
            },
            "type": "scattermapbox"
           }
          ],
          "scatterpolar": [
           {
            "marker": {
             "colorbar": {
              "outlinewidth": 0,
              "ticks": ""
             }
            },
            "type": "scatterpolar"
           }
          ],
          "scatterpolargl": [
           {
            "marker": {
             "colorbar": {
              "outlinewidth": 0,
              "ticks": ""
             }
            },
            "type": "scatterpolargl"
           }
          ],
          "scatterternary": [
           {
            "marker": {
             "colorbar": {
              "outlinewidth": 0,
              "ticks": ""
             }
            },
            "type": "scatterternary"
           }
          ],
          "surface": [
           {
            "colorbar": {
             "outlinewidth": 0,
             "ticks": ""
            },
            "colorscale": [
             [
              0,
              "#0d0887"
             ],
             [
              0.1111111111111111,
              "#46039f"
             ],
             [
              0.2222222222222222,
              "#7201a8"
             ],
             [
              0.3333333333333333,
              "#9c179e"
             ],
             [
              0.4444444444444444,
              "#bd3786"
             ],
             [
              0.5555555555555556,
              "#d8576b"
             ],
             [
              0.6666666666666666,
              "#ed7953"
             ],
             [
              0.7777777777777778,
              "#fb9f3a"
             ],
             [
              0.8888888888888888,
              "#fdca26"
             ],
             [
              1,
              "#f0f921"
             ]
            ],
            "type": "surface"
           }
          ],
          "table": [
           {
            "cells": {
             "fill": {
              "color": "#EBF0F8"
             },
             "line": {
              "color": "white"
             }
            },
            "header": {
             "fill": {
              "color": "#C8D4E3"
             },
             "line": {
              "color": "white"
             }
            },
            "type": "table"
           }
          ]
         },
         "layout": {
          "annotationdefaults": {
           "arrowcolor": "#2a3f5f",
           "arrowhead": 0,
           "arrowwidth": 1
          },
          "autotypenumbers": "strict",
          "coloraxis": {
           "colorbar": {
            "outlinewidth": 0,
            "ticks": ""
           }
          },
          "colorscale": {
           "diverging": [
            [
             0,
             "#8e0152"
            ],
            [
             0.1,
             "#c51b7d"
            ],
            [
             0.2,
             "#de77ae"
            ],
            [
             0.3,
             "#f1b6da"
            ],
            [
             0.4,
             "#fde0ef"
            ],
            [
             0.5,
             "#f7f7f7"
            ],
            [
             0.6,
             "#e6f5d0"
            ],
            [
             0.7,
             "#b8e186"
            ],
            [
             0.8,
             "#7fbc41"
            ],
            [
             0.9,
             "#4d9221"
            ],
            [
             1,
             "#276419"
            ]
           ],
           "sequential": [
            [
             0,
             "#0d0887"
            ],
            [
             0.1111111111111111,
             "#46039f"
            ],
            [
             0.2222222222222222,
             "#7201a8"
            ],
            [
             0.3333333333333333,
             "#9c179e"
            ],
            [
             0.4444444444444444,
             "#bd3786"
            ],
            [
             0.5555555555555556,
             "#d8576b"
            ],
            [
             0.6666666666666666,
             "#ed7953"
            ],
            [
             0.7777777777777778,
             "#fb9f3a"
            ],
            [
             0.8888888888888888,
             "#fdca26"
            ],
            [
             1,
             "#f0f921"
            ]
           ],
           "sequentialminus": [
            [
             0,
             "#0d0887"
            ],
            [
             0.1111111111111111,
             "#46039f"
            ],
            [
             0.2222222222222222,
             "#7201a8"
            ],
            [
             0.3333333333333333,
             "#9c179e"
            ],
            [
             0.4444444444444444,
             "#bd3786"
            ],
            [
             0.5555555555555556,
             "#d8576b"
            ],
            [
             0.6666666666666666,
             "#ed7953"
            ],
            [
             0.7777777777777778,
             "#fb9f3a"
            ],
            [
             0.8888888888888888,
             "#fdca26"
            ],
            [
             1,
             "#f0f921"
            ]
           ]
          },
          "colorway": [
           "#636efa",
           "#EF553B",
           "#00cc96",
           "#ab63fa",
           "#FFA15A",
           "#19d3f3",
           "#FF6692",
           "#B6E880",
           "#FF97FF",
           "#FECB52"
          ],
          "font": {
           "color": "#2a3f5f"
          },
          "geo": {
           "bgcolor": "white",
           "lakecolor": "white",
           "landcolor": "#E5ECF6",
           "showlakes": true,
           "showland": true,
           "subunitcolor": "white"
          },
          "hoverlabel": {
           "align": "left"
          },
          "hovermode": "closest",
          "mapbox": {
           "style": "light"
          },
          "paper_bgcolor": "white",
          "plot_bgcolor": "#E5ECF6",
          "polar": {
           "angularaxis": {
            "gridcolor": "white",
            "linecolor": "white",
            "ticks": ""
           },
           "bgcolor": "#E5ECF6",
           "radialaxis": {
            "gridcolor": "white",
            "linecolor": "white",
            "ticks": ""
           }
          },
          "scene": {
           "xaxis": {
            "backgroundcolor": "#E5ECF6",
            "gridcolor": "white",
            "gridwidth": 2,
            "linecolor": "white",
            "showbackground": true,
            "ticks": "",
            "zerolinecolor": "white"
           },
           "yaxis": {
            "backgroundcolor": "#E5ECF6",
            "gridcolor": "white",
            "gridwidth": 2,
            "linecolor": "white",
            "showbackground": true,
            "ticks": "",
            "zerolinecolor": "white"
           },
           "zaxis": {
            "backgroundcolor": "#E5ECF6",
            "gridcolor": "white",
            "gridwidth": 2,
            "linecolor": "white",
            "showbackground": true,
            "ticks": "",
            "zerolinecolor": "white"
           }
          },
          "shapedefaults": {
           "line": {
            "color": "#2a3f5f"
           }
          },
          "ternary": {
           "aaxis": {
            "gridcolor": "white",
            "linecolor": "white",
            "ticks": ""
           },
           "baxis": {
            "gridcolor": "white",
            "linecolor": "white",
            "ticks": ""
           },
           "bgcolor": "#E5ECF6",
           "caxis": {
            "gridcolor": "white",
            "linecolor": "white",
            "ticks": ""
           }
          },
          "title": {
           "x": 0.05
          },
          "xaxis": {
           "automargin": true,
           "gridcolor": "white",
           "linecolor": "white",
           "ticks": "",
           "title": {
            "standoff": 15
           },
           "zerolinecolor": "white",
           "zerolinewidth": 2
          },
          "yaxis": {
           "automargin": true,
           "gridcolor": "white",
           "linecolor": "white",
           "ticks": "",
           "title": {
            "standoff": 15
           },
           "zerolinecolor": "white",
           "zerolinewidth": 2
          }
         }
        },
        "title": {
         "font": {
          "color": "#4D5663"
         }
        },
        "xaxis": {
         "gridcolor": "#E1E5ED",
         "showgrid": true,
         "tickfont": {
          "color": "#4D5663"
         },
         "title": {
          "font": {
           "color": "#4D5663"
          },
          "text": ""
         },
         "zerolinecolor": "#E1E5ED"
        },
        "yaxis": {
         "gridcolor": "#E1E5ED",
         "showgrid": true,
         "tickfont": {
          "color": "#4D5663"
         },
         "title": {
          "font": {
           "color": "#4D5663"
          },
          "text": ""
         },
         "zerolinecolor": "#E1E5ED"
        }
       }
      },
      "text/html": [
       "<div>                            <div id=\"65dbaff3-956c-45b8-b061-ff7145152d09\" class=\"plotly-graph-div\" style=\"height:525px; width:100%;\"></div>            <script type=\"text/javascript\">                require([\"plotly\"], function(Plotly) {                    window.PLOTLYENV=window.PLOTLYENV || {};\n",
       "                    window.PLOTLYENV.BASE_URL='https://plot.ly';                                    if (document.getElementById(\"65dbaff3-956c-45b8-b061-ff7145152d09\")) {                    Plotly.newPlot(                        \"65dbaff3-956c-45b8-b061-ff7145152d09\",                        [{\"histfunc\":\"count\",\"histnorm\":\"\",\"marker\":{\"color\":\"rgba(255, 153, 51, 1.0)\",\"line\":{\"color\":\"#4D5663\",\"width\":1.3}},\"name\":\"A\",\"nbinsx\":25,\"opacity\":0.8,\"orientation\":\"v\",\"x\":[-0.7211844881720889,-1.460522588285307,2.154948856212787,-0.49761196784253425,0.45284763019750024,-0.2146016535662887,0.6461779730757492,-0.11825227421614609,1.2915518225379228,0.18608916067102835,-1.4874697128735566,-2.674955108446302,0.9190575231032203,-2.5325371551100275,-1.6777824953054545,-0.5467026438923042,0.5889265073259935,0.5713454137445192,-0.7405110737545675,-0.3762010861641179,0.1489885436790522,0.5826629600411326,9.93956133860854e-05,1.3228779971160258,1.548816618475939,1.0493635334616715,-0.41796228792981016,0.17190353418274495,0.26603823982029823,1.7748592869778435,-0.7486339320839377,0.0800193740814564,0.024234150399956793,-1.2542478347818165,0.437098308644309,0.703962364809523,-1.456325016003159,-1.515331912201515,-1.6783903384875147,-0.4105728612305543,-1.609348939801891,0.20873382660773848,1.7185816695607006,1.515224936174814,1.0690785260274,-1.6264240979749063,-0.10391990265168422,-1.0109174745146479,-1.9146061901244,0.8887427941528846,1.1887629381499019,-2.628399663534101,1.4627541154619559,1.2193879796116494,0.03120731155045379,0.19112324160339209,-0.41263213724016684,1.2195646026171014,-0.9357186450127927,-0.7735198800180834,0.7193889197776803,0.6576833793061325,-1.056242381180936,0.09944112179190494,1.0607886466058087,1.7480384469434798,-0.2925634435299589,-2.259658886505214,-1.693429506937218,2.0564346631440666,-0.14075746225916153,1.1671358816250528,-0.5788602987660235,-0.0019086180276748474,-1.9031784355512493,0.6697468613769787,1.2899599026774455,1.0937370716707826,0.2270561295865113,-0.22835157535766273,-0.21301396382913657,0.2796610966082171,0.6150753211568992,-0.8829404665561942,-0.4656916952739058,-0.4252283999883795,0.4855630893895303,0.21391697236657217,-0.24628332366479058,0.1698428083437271,0.4165353423709389,1.0312345779753802,-0.3802955308874277,-0.24345550305773975,-1.6088187152500206,1.362642934270473,0.5659359812206953,-0.08982000068507776,0.13460869031949085,0.07277500218970358],\"type\":\"histogram\"}],                        {\"barmode\":\"overlay\",\"legend\":{\"bgcolor\":\"#F5F6F9\",\"font\":{\"color\":\"#4D5663\"}},\"paper_bgcolor\":\"#F5F6F9\",\"plot_bgcolor\":\"#F5F6F9\",\"template\":{\"data\":{\"barpolar\":[{\"marker\":{\"line\":{\"color\":\"#E5ECF6\",\"width\":0.5},\"pattern\":{\"fillmode\":\"overlay\",\"size\":10,\"solidity\":0.2}},\"type\":\"barpolar\"}],\"bar\":[{\"error_x\":{\"color\":\"#2a3f5f\"},\"error_y\":{\"color\":\"#2a3f5f\"},\"marker\":{\"line\":{\"color\":\"#E5ECF6\",\"width\":0.5},\"pattern\":{\"fillmode\":\"overlay\",\"size\":10,\"solidity\":0.2}},\"type\":\"bar\"}],\"carpet\":[{\"aaxis\":{\"endlinecolor\":\"#2a3f5f\",\"gridcolor\":\"white\",\"linecolor\":\"white\",\"minorgridcolor\":\"white\",\"startlinecolor\":\"#2a3f5f\"},\"baxis\":{\"endlinecolor\":\"#2a3f5f\",\"gridcolor\":\"white\",\"linecolor\":\"white\",\"minorgridcolor\":\"white\",\"startlinecolor\":\"#2a3f5f\"},\"type\":\"carpet\"}],\"choropleth\":[{\"colorbar\":{\"outlinewidth\":0,\"ticks\":\"\"},\"type\":\"choropleth\"}],\"contourcarpet\":[{\"colorbar\":{\"outlinewidth\":0,\"ticks\":\"\"},\"type\":\"contourcarpet\"}],\"contour\":[{\"colorbar\":{\"outlinewidth\":0,\"ticks\":\"\"},\"colorscale\":[[0.0,\"#0d0887\"],[0.1111111111111111,\"#46039f\"],[0.2222222222222222,\"#7201a8\"],[0.3333333333333333,\"#9c179e\"],[0.4444444444444444,\"#bd3786\"],[0.5555555555555556,\"#d8576b\"],[0.6666666666666666,\"#ed7953\"],[0.7777777777777778,\"#fb9f3a\"],[0.8888888888888888,\"#fdca26\"],[1.0,\"#f0f921\"]],\"type\":\"contour\"}],\"heatmapgl\":[{\"colorbar\":{\"outlinewidth\":0,\"ticks\":\"\"},\"colorscale\":[[0.0,\"#0d0887\"],[0.1111111111111111,\"#46039f\"],[0.2222222222222222,\"#7201a8\"],[0.3333333333333333,\"#9c179e\"],[0.4444444444444444,\"#bd3786\"],[0.5555555555555556,\"#d8576b\"],[0.6666666666666666,\"#ed7953\"],[0.7777777777777778,\"#fb9f3a\"],[0.8888888888888888,\"#fdca26\"],[1.0,\"#f0f921\"]],\"type\":\"heatmapgl\"}],\"heatmap\":[{\"colorbar\":{\"outlinewidth\":0,\"ticks\":\"\"},\"colorscale\":[[0.0,\"#0d0887\"],[0.1111111111111111,\"#46039f\"],[0.2222222222222222,\"#7201a8\"],[0.3333333333333333,\"#9c179e\"],[0.4444444444444444,\"#bd3786\"],[0.5555555555555556,\"#d8576b\"],[0.6666666666666666,\"#ed7953\"],[0.7777777777777778,\"#fb9f3a\"],[0.8888888888888888,\"#fdca26\"],[1.0,\"#f0f921\"]],\"type\":\"heatmap\"}],\"histogram2dcontour\":[{\"colorbar\":{\"outlinewidth\":0,\"ticks\":\"\"},\"colorscale\":[[0.0,\"#0d0887\"],[0.1111111111111111,\"#46039f\"],[0.2222222222222222,\"#7201a8\"],[0.3333333333333333,\"#9c179e\"],[0.4444444444444444,\"#bd3786\"],[0.5555555555555556,\"#d8576b\"],[0.6666666666666666,\"#ed7953\"],[0.7777777777777778,\"#fb9f3a\"],[0.8888888888888888,\"#fdca26\"],[1.0,\"#f0f921\"]],\"type\":\"histogram2dcontour\"}],\"histogram2d\":[{\"colorbar\":{\"outlinewidth\":0,\"ticks\":\"\"},\"colorscale\":[[0.0,\"#0d0887\"],[0.1111111111111111,\"#46039f\"],[0.2222222222222222,\"#7201a8\"],[0.3333333333333333,\"#9c179e\"],[0.4444444444444444,\"#bd3786\"],[0.5555555555555556,\"#d8576b\"],[0.6666666666666666,\"#ed7953\"],[0.7777777777777778,\"#fb9f3a\"],[0.8888888888888888,\"#fdca26\"],[1.0,\"#f0f921\"]],\"type\":\"histogram2d\"}],\"histogram\":[{\"marker\":{\"pattern\":{\"fillmode\":\"overlay\",\"size\":10,\"solidity\":0.2}},\"type\":\"histogram\"}],\"mesh3d\":[{\"colorbar\":{\"outlinewidth\":0,\"ticks\":\"\"},\"type\":\"mesh3d\"}],\"parcoords\":[{\"line\":{\"colorbar\":{\"outlinewidth\":0,\"ticks\":\"\"}},\"type\":\"parcoords\"}],\"pie\":[{\"automargin\":true,\"type\":\"pie\"}],\"scatter3d\":[{\"line\":{\"colorbar\":{\"outlinewidth\":0,\"ticks\":\"\"}},\"marker\":{\"colorbar\":{\"outlinewidth\":0,\"ticks\":\"\"}},\"type\":\"scatter3d\"}],\"scattercarpet\":[{\"marker\":{\"colorbar\":{\"outlinewidth\":0,\"ticks\":\"\"}},\"type\":\"scattercarpet\"}],\"scattergeo\":[{\"marker\":{\"colorbar\":{\"outlinewidth\":0,\"ticks\":\"\"}},\"type\":\"scattergeo\"}],\"scattergl\":[{\"marker\":{\"colorbar\":{\"outlinewidth\":0,\"ticks\":\"\"}},\"type\":\"scattergl\"}],\"scattermapbox\":[{\"marker\":{\"colorbar\":{\"outlinewidth\":0,\"ticks\":\"\"}},\"type\":\"scattermapbox\"}],\"scatterpolargl\":[{\"marker\":{\"colorbar\":{\"outlinewidth\":0,\"ticks\":\"\"}},\"type\":\"scatterpolargl\"}],\"scatterpolar\":[{\"marker\":{\"colorbar\":{\"outlinewidth\":0,\"ticks\":\"\"}},\"type\":\"scatterpolar\"}],\"scatter\":[{\"marker\":{\"colorbar\":{\"outlinewidth\":0,\"ticks\":\"\"}},\"type\":\"scatter\"}],\"scatterternary\":[{\"marker\":{\"colorbar\":{\"outlinewidth\":0,\"ticks\":\"\"}},\"type\":\"scatterternary\"}],\"surface\":[{\"colorbar\":{\"outlinewidth\":0,\"ticks\":\"\"},\"colorscale\":[[0.0,\"#0d0887\"],[0.1111111111111111,\"#46039f\"],[0.2222222222222222,\"#7201a8\"],[0.3333333333333333,\"#9c179e\"],[0.4444444444444444,\"#bd3786\"],[0.5555555555555556,\"#d8576b\"],[0.6666666666666666,\"#ed7953\"],[0.7777777777777778,\"#fb9f3a\"],[0.8888888888888888,\"#fdca26\"],[1.0,\"#f0f921\"]],\"type\":\"surface\"}],\"table\":[{\"cells\":{\"fill\":{\"color\":\"#EBF0F8\"},\"line\":{\"color\":\"white\"}},\"header\":{\"fill\":{\"color\":\"#C8D4E3\"},\"line\":{\"color\":\"white\"}},\"type\":\"table\"}]},\"layout\":{\"annotationdefaults\":{\"arrowcolor\":\"#2a3f5f\",\"arrowhead\":0,\"arrowwidth\":1},\"autotypenumbers\":\"strict\",\"coloraxis\":{\"colorbar\":{\"outlinewidth\":0,\"ticks\":\"\"}},\"colorscale\":{\"diverging\":[[0,\"#8e0152\"],[0.1,\"#c51b7d\"],[0.2,\"#de77ae\"],[0.3,\"#f1b6da\"],[0.4,\"#fde0ef\"],[0.5,\"#f7f7f7\"],[0.6,\"#e6f5d0\"],[0.7,\"#b8e186\"],[0.8,\"#7fbc41\"],[0.9,\"#4d9221\"],[1,\"#276419\"]],\"sequential\":[[0.0,\"#0d0887\"],[0.1111111111111111,\"#46039f\"],[0.2222222222222222,\"#7201a8\"],[0.3333333333333333,\"#9c179e\"],[0.4444444444444444,\"#bd3786\"],[0.5555555555555556,\"#d8576b\"],[0.6666666666666666,\"#ed7953\"],[0.7777777777777778,\"#fb9f3a\"],[0.8888888888888888,\"#fdca26\"],[1.0,\"#f0f921\"]],\"sequentialminus\":[[0.0,\"#0d0887\"],[0.1111111111111111,\"#46039f\"],[0.2222222222222222,\"#7201a8\"],[0.3333333333333333,\"#9c179e\"],[0.4444444444444444,\"#bd3786\"],[0.5555555555555556,\"#d8576b\"],[0.6666666666666666,\"#ed7953\"],[0.7777777777777778,\"#fb9f3a\"],[0.8888888888888888,\"#fdca26\"],[1.0,\"#f0f921\"]]},\"colorway\":[\"#636efa\",\"#EF553B\",\"#00cc96\",\"#ab63fa\",\"#FFA15A\",\"#19d3f3\",\"#FF6692\",\"#B6E880\",\"#FF97FF\",\"#FECB52\"],\"font\":{\"color\":\"#2a3f5f\"},\"geo\":{\"bgcolor\":\"white\",\"lakecolor\":\"white\",\"landcolor\":\"#E5ECF6\",\"showlakes\":true,\"showland\":true,\"subunitcolor\":\"white\"},\"hoverlabel\":{\"align\":\"left\"},\"hovermode\":\"closest\",\"mapbox\":{\"style\":\"light\"},\"paper_bgcolor\":\"white\",\"plot_bgcolor\":\"#E5ECF6\",\"polar\":{\"angularaxis\":{\"gridcolor\":\"white\",\"linecolor\":\"white\",\"ticks\":\"\"},\"bgcolor\":\"#E5ECF6\",\"radialaxis\":{\"gridcolor\":\"white\",\"linecolor\":\"white\",\"ticks\":\"\"}},\"scene\":{\"xaxis\":{\"backgroundcolor\":\"#E5ECF6\",\"gridcolor\":\"white\",\"gridwidth\":2,\"linecolor\":\"white\",\"showbackground\":true,\"ticks\":\"\",\"zerolinecolor\":\"white\"},\"yaxis\":{\"backgroundcolor\":\"#E5ECF6\",\"gridcolor\":\"white\",\"gridwidth\":2,\"linecolor\":\"white\",\"showbackground\":true,\"ticks\":\"\",\"zerolinecolor\":\"white\"},\"zaxis\":{\"backgroundcolor\":\"#E5ECF6\",\"gridcolor\":\"white\",\"gridwidth\":2,\"linecolor\":\"white\",\"showbackground\":true,\"ticks\":\"\",\"zerolinecolor\":\"white\"}},\"shapedefaults\":{\"line\":{\"color\":\"#2a3f5f\"}},\"ternary\":{\"aaxis\":{\"gridcolor\":\"white\",\"linecolor\":\"white\",\"ticks\":\"\"},\"baxis\":{\"gridcolor\":\"white\",\"linecolor\":\"white\",\"ticks\":\"\"},\"bgcolor\":\"#E5ECF6\",\"caxis\":{\"gridcolor\":\"white\",\"linecolor\":\"white\",\"ticks\":\"\"}},\"title\":{\"x\":0.05},\"xaxis\":{\"automargin\":true,\"gridcolor\":\"white\",\"linecolor\":\"white\",\"ticks\":\"\",\"title\":{\"standoff\":15},\"zerolinecolor\":\"white\",\"zerolinewidth\":2},\"yaxis\":{\"automargin\":true,\"gridcolor\":\"white\",\"linecolor\":\"white\",\"ticks\":\"\",\"title\":{\"standoff\":15},\"zerolinecolor\":\"white\",\"zerolinewidth\":2}}},\"title\":{\"font\":{\"color\":\"#4D5663\"}},\"xaxis\":{\"gridcolor\":\"#E1E5ED\",\"showgrid\":true,\"tickfont\":{\"color\":\"#4D5663\"},\"title\":{\"font\":{\"color\":\"#4D5663\"},\"text\":\"\"},\"zerolinecolor\":\"#E1E5ED\"},\"yaxis\":{\"gridcolor\":\"#E1E5ED\",\"showgrid\":true,\"tickfont\":{\"color\":\"#4D5663\"},\"title\":{\"font\":{\"color\":\"#4D5663\"},\"text\":\"\"},\"zerolinecolor\":\"#E1E5ED\"}},                        {\"showLink\": true, \"linkText\": \"Export to plot.ly\", \"plotlyServerURL\": \"https://plot.ly\", \"responsive\": true}                    ).then(function(){\n",
       "                            \n",
       "var gd = document.getElementById('65dbaff3-956c-45b8-b061-ff7145152d09');\n",
       "var x = new MutationObserver(function (mutations, observer) {{\n",
       "        var display = window.getComputedStyle(gd).display;\n",
       "        if (!display || display === 'none') {{\n",
       "            console.log([gd, 'removed!']);\n",
       "            Plotly.purge(gd);\n",
       "            observer.disconnect();\n",
       "        }}\n",
       "}});\n",
       "\n",
       "// Listen for the removal of the full notebook cells\n",
       "var notebookContainer = gd.closest('#notebook-container');\n",
       "if (notebookContainer) {{\n",
       "    x.observe(notebookContainer, {childList: true});\n",
       "}}\n",
       "\n",
       "// Listen for the clearing of the current output cell\n",
       "var outputEl = gd.closest('.output');\n",
       "if (outputEl) {{\n",
       "    x.observe(outputEl, {childList: true});\n",
       "}}\n",
       "\n",
       "                        })                };                });            </script>        </div>"
      ]
     },
     "metadata": {},
     "output_type": "display_data"
    }
   ],
   "source": [
    "df['A'].iplot(kind='hist',bins=25)"
   ]
  },
  {
   "cell_type": "code",
   "execution_count": 16,
   "metadata": {},
   "outputs": [
    {
     "data": {
      "application/vnd.plotly.v1+json": {
       "config": {
        "linkText": "Export to plot.ly",
        "plotlyServerURL": "https://plot.ly",
        "showLink": true
       },
       "data": [
        {
         "histfunc": "count",
         "histnorm": "",
         "marker": {
          "color": "rgba(255, 153, 51, 1.0)",
          "line": {
           "color": "#4D5663",
           "width": 1.3
          }
         },
         "name": "A",
         "nbinsx": 25,
         "opacity": 0.8,
         "orientation": "v",
         "type": "histogram",
         "x": [
          -0.7211844881720889,
          -1.460522588285307,
          2.154948856212787,
          -0.49761196784253425,
          0.45284763019750024,
          -0.2146016535662887,
          0.6461779730757492,
          -0.11825227421614609,
          1.2915518225379228,
          0.18608916067102835,
          -1.4874697128735566,
          -2.674955108446302,
          0.9190575231032203,
          -2.5325371551100275,
          -1.6777824953054545,
          -0.5467026438923042,
          0.5889265073259935,
          0.5713454137445192,
          -0.7405110737545675,
          -0.3762010861641179,
          0.1489885436790522,
          0.5826629600411326,
          9.93956133860854e-05,
          1.3228779971160258,
          1.548816618475939,
          1.0493635334616715,
          -0.41796228792981016,
          0.17190353418274495,
          0.26603823982029823,
          1.7748592869778435,
          -0.7486339320839377,
          0.0800193740814564,
          0.024234150399956793,
          -1.2542478347818165,
          0.437098308644309,
          0.703962364809523,
          -1.456325016003159,
          -1.515331912201515,
          -1.6783903384875147,
          -0.4105728612305543,
          -1.609348939801891,
          0.20873382660773848,
          1.7185816695607006,
          1.515224936174814,
          1.0690785260274,
          -1.6264240979749063,
          -0.10391990265168422,
          -1.0109174745146479,
          -1.9146061901244,
          0.8887427941528846,
          1.1887629381499019,
          -2.628399663534101,
          1.4627541154619559,
          1.2193879796116494,
          0.03120731155045379,
          0.19112324160339209,
          -0.41263213724016684,
          1.2195646026171014,
          -0.9357186450127927,
          -0.7735198800180834,
          0.7193889197776803,
          0.6576833793061325,
          -1.056242381180936,
          0.09944112179190494,
          1.0607886466058087,
          1.7480384469434798,
          -0.2925634435299589,
          -2.259658886505214,
          -1.693429506937218,
          2.0564346631440666,
          -0.14075746225916153,
          1.1671358816250528,
          -0.5788602987660235,
          -0.0019086180276748474,
          -1.9031784355512493,
          0.6697468613769787,
          1.2899599026774455,
          1.0937370716707826,
          0.2270561295865113,
          -0.22835157535766273,
          -0.21301396382913657,
          0.2796610966082171,
          0.6150753211568992,
          -0.8829404665561942,
          -0.4656916952739058,
          -0.4252283999883795,
          0.4855630893895303,
          0.21391697236657217,
          -0.24628332366479058,
          0.1698428083437271,
          0.4165353423709389,
          1.0312345779753802,
          -0.3802955308874277,
          -0.24345550305773975,
          -1.6088187152500206,
          1.362642934270473,
          0.5659359812206953,
          -0.08982000068507776,
          0.13460869031949085,
          0.07277500218970358
         ]
        },
        {
         "histfunc": "count",
         "histnorm": "",
         "marker": {
          "color": "rgba(55, 128, 191, 1.0)",
          "line": {
           "color": "#4D5663",
           "width": 1.3
          }
         },
         "name": "B",
         "nbinsx": 25,
         "opacity": 0.8,
         "orientation": "v",
         "type": "histogram",
         "x": [
          1.9363176963824915,
          0.783691095069216,
          -1.1913463628659005,
          -0.6441276887203147,
          1.1687904468466739,
          0.6323414704685131,
          -1.2191589935127074,
          -0.2143976718639855,
          -1.9448875532251129,
          -0.28376974222916534,
          1.5782128138754477,
          -1.8196443931299022,
          -0.6407499492278539,
          -0.4211817381995266,
          0.749816068741311,
          1.0357869223281948,
          1.4574441310839379,
          -0.3042344579582755,
          0.19723781050623027,
          -0.5624181531021479,
          -1.4068385344205947,
          -1.467133562334591,
          -0.5674350597043402,
          -2.129336044404162,
          1.1758806168946234,
          -0.16448995704076652,
          -0.9779043170437532,
          -0.34597066195963844,
          0.5646432182256792,
          1.3236523242202396,
          0.6072867513938234,
          -0.568385280381742,
          -1.1186532483940683,
          0.30430474772314803,
          -0.31653229378343317,
          0.10274254004759957,
          -0.4004143253747189,
          -0.5401696407335572,
          -1.7905406758414422,
          -0.3447153898348365,
          0.01640549905721995,
          1.329803844957976,
          -0.2838454848295598,
          -0.7149500718878599,
          2.131509449259118,
          -0.20594262819363468,
          -0.46095460604086497,
          1.3762460600580146,
          -0.5315216700601639,
          0.4330121353014572,
          -1.0421993308088067,
          -1.5558986585240033,
          -1.218392913837334,
          0.44444621727844846,
          -0.3033811422910685,
          -0.2348174161172821,
          0.6761559094978562,
          -0.1433003612459205,
          -0.5021565887281341,
          -0.5643974865846672,
          -0.32738588487886683,
          2.7095465578361577,
          0.18779561954741292,
          -0.179442053806397,
          0.16190622421114106,
          -0.10631574297220216,
          -0.9719562551176633,
          -0.8864656963735614,
          -1.0971579537801677,
          0.5703636600272055,
          0.017455999104761276,
          0.10764563017514592,
          0.6674390203404504,
          -1.5483790010746306,
          0.7855020724347893,
          1.0864443237398242,
          -0.09412775608332852,
          -0.7155961933081841,
          2.1220822162796087,
          0.6706361949388256,
          -0.5290544807432842,
          -2.2005054084000197,
          0.1576792060896083,
          0.09945177553841868,
          -1.8392810801254043,
          -0.9192852920587717,
          2.4718464231328774,
          0.2076321039179723,
          -0.8445272827194005,
          -0.8008434375387793,
          -0.007766019613267419,
          0.5090193899057244,
          -0.0030644485108717303,
          1.2109719752722654,
          -0.8042659230928949,
          0.0639503553332306,
          -0.19669717584049626,
          0.3109834776847498,
          0.27778199066943177,
          0.9202818228115818
         ]
        },
        {
         "histfunc": "count",
         "histnorm": "",
         "marker": {
          "color": "rgba(50, 171, 96, 1.0)",
          "line": {
           "color": "#4D5663",
           "width": 1.3
          }
         },
         "name": "C",
         "nbinsx": 25,
         "opacity": 0.8,
         "orientation": "v",
         "type": "histogram",
         "x": [
          1.4859017289979828,
          -0.33882624051823435,
          0.5643405958898692,
          1.2614884985758812,
          1.6779225026293678,
          -1.5007675294668912,
          -0.3133709553042308,
          -0.24881116987413524,
          -0.8984296938782744,
          0.8517918517884915,
          0.7914783840592418,
          1.0118561818366778,
          -0.16940827506921166,
          0.48119272683245096,
          -0.5302480006131105,
          -0.12596380055710518,
          -0.914482692452627,
          0.2430324564669559,
          -0.6271456877220737,
          -0.039243873746583474,
          -0.624373521737248,
          -0.7011493076273844,
          0.34747903798741425,
          -0.703721067051155,
          0.8724572241803034,
          0.5465326745477941,
          -1.0166519623938672,
          -0.22250238064915695,
          0.7798878940201981,
          -0.47769775108492524,
          0.7515736123635777,
          -0.7065355298480203,
          0.5293249332023787,
          -1.1892173218761193,
          2.1194522888672753,
          -0.10986125717974393,
          0.8791148594632846,
          0.5460438641241416,
          -0.30489535972538856,
          0.22483542272608617,
          0.6888768183285222,
          -0.6729712777178668,
          -0.7300028071817591,
          0.2679722597855181,
          0.6035977345794945,
          1.180301839137286,
          -1.2760752780811426,
          0.9142491827677313,
          0.4425859047930506,
          1.154320087707713,
          -2.735241340135281,
          1.1364550696252336,
          0.3001807224411202,
          0.12550119080175973,
          -0.5560080144457152,
          -0.693293437527863,
          3.0194991712263026,
          -0.4262567543938785,
          0.5764953151360391,
          0.45139734451565655,
          -0.167279095942579,
          1.2692271053324897,
          -1.019028606681503,
          -0.6739974262146932,
          0.08992637211206918,
          0.7261097008800064,
          -0.17338081937656077,
          -0.7215243294097896,
          0.09804193397711113,
          -0.42254823205487335,
          -1.3675350240945991,
          0.8495984942986297,
          -2.331481960731101,
          -0.255456500873279,
          -1.0621376786949863,
          1.672461134218411,
          -0.27760778046229584,
          1.2612127949309468,
          -0.9445409907916669,
          -0.7510247839559636,
          0.3586429710448984,
          2.0143853340331566,
          1.0897052639120521,
          1.3917973240762471,
          1.0649228888781936,
          -1.1921019278896943,
          0.3584927758114282,
          -1.446003874283754,
          0.4617132803189797,
          0.022046213056134613,
          -1.0258203592039308,
          -1.7522236855261502,
          0.4623225073343496,
          -0.12079620716968513,
          -0.07238179439131184,
          -0.8239656021056064,
          1.5573934006047707,
          0.011873561422134572,
          0.1454108215874784,
          0.3194758145951463
         ]
        },
        {
         "histfunc": "count",
         "histnorm": "",
         "marker": {
          "color": "rgba(128, 0, 128, 1.0)",
          "line": {
           "color": "#4D5663",
           "width": 1.3
          }
         },
         "name": "D",
         "nbinsx": 25,
         "opacity": 0.8,
         "orientation": "v",
         "type": "histogram",
         "x": [
          -1.4248961080733737,
          -0.3273423015501189,
          -1.251243272904655,
          0.03571868360370304,
          -0.8831359287118566,
          -0.4570458265199517,
          0.6669520968804289,
          0.12954797107100285,
          -1.1872784105353085,
          -1.0788534706921908,
          0.30414595111300274,
          -0.5808001420568194,
          0.7181559955419363,
          0.06431165990781074,
          0.4849600848179319,
          1.4650669998186705,
          0.3674900679512842,
          0.4659875208335856,
          1.8188709506352152,
          -2.4086829521242197,
          0.14269415469329055,
          -0.8986756621656249,
          0.24858640874522073,
          -0.6666710092100481,
          0.5312821075428688,
          0.6019372930953827,
          -0.8785566114030708,
          0.681347037704834,
          -0.5275682348277461,
          0.5224893317843847,
          -0.4632983081749662,
          0.11455424289896247,
          -0.5877204962503827,
          -0.2727428023361453,
          0.11871099006403349,
          -0.012220458087781596,
          -0.3418858101884144,
          -0.1701824065150667,
          0.19866144793597726,
          2.2346940769277372,
          0.2699534923198242,
          1.4952770521817178,
          1.9779450932749005,
          -0.1573965657928153,
          0.21480268763970578,
          -0.014537958815027823,
          0.9464220940372752,
          0.6011294964228965,
          -0.5791683004735586,
          -0.14674788751325316,
          0.742208864305391,
          0.5414212853423049,
          -0.9944259857720036,
          -0.2959846855161765,
          0.23580701543961627,
          -1.6600227313443063,
          -0.9233777628566187,
          -0.5238750058782555,
          -2.993809512427146,
          -0.8172655557837051,
          -0.29137604806023587,
          -0.2996317587288255,
          -0.5762542829528886,
          -1.4475470129302017,
          0.7626889846818631,
          -0.11586394220813491,
          0.7333320422309404,
          0.2631279090696038,
          0.15528968037263927,
          -0.4027569275919533,
          1.2364870960612364,
          1.1247560994972394,
          0.158400504315808,
          -0.8953734151597598,
          0.029924998471448666,
          1.0348887702004474,
          -0.08442864675348455,
          2.5868485824131993,
          1.117124451409192,
          -0.8021254788163592,
          1.3609419169157688,
          -0.9939500139315293,
          0.5130557561569394,
          -1.2397896504581485,
          -0.24837163218103428,
          -0.3698617259191884,
          -1.0388166503324645,
          0.9790966570987323,
          -0.11488459891479715,
          0.49015055617855424,
          -0.25275398163526946,
          1.1848213764718107,
          0.23659704857385866,
          -0.2719241288569037,
          1.325505481258998,
          -1.3312249257331565,
          1.2051807720165935,
          0.5847206558372181,
          0.06900031359470782,
          1.0132343277241416
         ]
        }
       ],
       "layout": {
        "barmode": "overlay",
        "legend": {
         "bgcolor": "#F5F6F9",
         "font": {
          "color": "#4D5663"
         }
        },
        "paper_bgcolor": "#F5F6F9",
        "plot_bgcolor": "#F5F6F9",
        "template": {
         "data": {
          "bar": [
           {
            "error_x": {
             "color": "#2a3f5f"
            },
            "error_y": {
             "color": "#2a3f5f"
            },
            "marker": {
             "line": {
              "color": "#E5ECF6",
              "width": 0.5
             },
             "pattern": {
              "fillmode": "overlay",
              "size": 10,
              "solidity": 0.2
             }
            },
            "type": "bar"
           }
          ],
          "barpolar": [
           {
            "marker": {
             "line": {
              "color": "#E5ECF6",
              "width": 0.5
             },
             "pattern": {
              "fillmode": "overlay",
              "size": 10,
              "solidity": 0.2
             }
            },
            "type": "barpolar"
           }
          ],
          "carpet": [
           {
            "aaxis": {
             "endlinecolor": "#2a3f5f",
             "gridcolor": "white",
             "linecolor": "white",
             "minorgridcolor": "white",
             "startlinecolor": "#2a3f5f"
            },
            "baxis": {
             "endlinecolor": "#2a3f5f",
             "gridcolor": "white",
             "linecolor": "white",
             "minorgridcolor": "white",
             "startlinecolor": "#2a3f5f"
            },
            "type": "carpet"
           }
          ],
          "choropleth": [
           {
            "colorbar": {
             "outlinewidth": 0,
             "ticks": ""
            },
            "type": "choropleth"
           }
          ],
          "contour": [
           {
            "colorbar": {
             "outlinewidth": 0,
             "ticks": ""
            },
            "colorscale": [
             [
              0,
              "#0d0887"
             ],
             [
              0.1111111111111111,
              "#46039f"
             ],
             [
              0.2222222222222222,
              "#7201a8"
             ],
             [
              0.3333333333333333,
              "#9c179e"
             ],
             [
              0.4444444444444444,
              "#bd3786"
             ],
             [
              0.5555555555555556,
              "#d8576b"
             ],
             [
              0.6666666666666666,
              "#ed7953"
             ],
             [
              0.7777777777777778,
              "#fb9f3a"
             ],
             [
              0.8888888888888888,
              "#fdca26"
             ],
             [
              1,
              "#f0f921"
             ]
            ],
            "type": "contour"
           }
          ],
          "contourcarpet": [
           {
            "colorbar": {
             "outlinewidth": 0,
             "ticks": ""
            },
            "type": "contourcarpet"
           }
          ],
          "heatmap": [
           {
            "colorbar": {
             "outlinewidth": 0,
             "ticks": ""
            },
            "colorscale": [
             [
              0,
              "#0d0887"
             ],
             [
              0.1111111111111111,
              "#46039f"
             ],
             [
              0.2222222222222222,
              "#7201a8"
             ],
             [
              0.3333333333333333,
              "#9c179e"
             ],
             [
              0.4444444444444444,
              "#bd3786"
             ],
             [
              0.5555555555555556,
              "#d8576b"
             ],
             [
              0.6666666666666666,
              "#ed7953"
             ],
             [
              0.7777777777777778,
              "#fb9f3a"
             ],
             [
              0.8888888888888888,
              "#fdca26"
             ],
             [
              1,
              "#f0f921"
             ]
            ],
            "type": "heatmap"
           }
          ],
          "heatmapgl": [
           {
            "colorbar": {
             "outlinewidth": 0,
             "ticks": ""
            },
            "colorscale": [
             [
              0,
              "#0d0887"
             ],
             [
              0.1111111111111111,
              "#46039f"
             ],
             [
              0.2222222222222222,
              "#7201a8"
             ],
             [
              0.3333333333333333,
              "#9c179e"
             ],
             [
              0.4444444444444444,
              "#bd3786"
             ],
             [
              0.5555555555555556,
              "#d8576b"
             ],
             [
              0.6666666666666666,
              "#ed7953"
             ],
             [
              0.7777777777777778,
              "#fb9f3a"
             ],
             [
              0.8888888888888888,
              "#fdca26"
             ],
             [
              1,
              "#f0f921"
             ]
            ],
            "type": "heatmapgl"
           }
          ],
          "histogram": [
           {
            "marker": {
             "pattern": {
              "fillmode": "overlay",
              "size": 10,
              "solidity": 0.2
             }
            },
            "type": "histogram"
           }
          ],
          "histogram2d": [
           {
            "colorbar": {
             "outlinewidth": 0,
             "ticks": ""
            },
            "colorscale": [
             [
              0,
              "#0d0887"
             ],
             [
              0.1111111111111111,
              "#46039f"
             ],
             [
              0.2222222222222222,
              "#7201a8"
             ],
             [
              0.3333333333333333,
              "#9c179e"
             ],
             [
              0.4444444444444444,
              "#bd3786"
             ],
             [
              0.5555555555555556,
              "#d8576b"
             ],
             [
              0.6666666666666666,
              "#ed7953"
             ],
             [
              0.7777777777777778,
              "#fb9f3a"
             ],
             [
              0.8888888888888888,
              "#fdca26"
             ],
             [
              1,
              "#f0f921"
             ]
            ],
            "type": "histogram2d"
           }
          ],
          "histogram2dcontour": [
           {
            "colorbar": {
             "outlinewidth": 0,
             "ticks": ""
            },
            "colorscale": [
             [
              0,
              "#0d0887"
             ],
             [
              0.1111111111111111,
              "#46039f"
             ],
             [
              0.2222222222222222,
              "#7201a8"
             ],
             [
              0.3333333333333333,
              "#9c179e"
             ],
             [
              0.4444444444444444,
              "#bd3786"
             ],
             [
              0.5555555555555556,
              "#d8576b"
             ],
             [
              0.6666666666666666,
              "#ed7953"
             ],
             [
              0.7777777777777778,
              "#fb9f3a"
             ],
             [
              0.8888888888888888,
              "#fdca26"
             ],
             [
              1,
              "#f0f921"
             ]
            ],
            "type": "histogram2dcontour"
           }
          ],
          "mesh3d": [
           {
            "colorbar": {
             "outlinewidth": 0,
             "ticks": ""
            },
            "type": "mesh3d"
           }
          ],
          "parcoords": [
           {
            "line": {
             "colorbar": {
              "outlinewidth": 0,
              "ticks": ""
             }
            },
            "type": "parcoords"
           }
          ],
          "pie": [
           {
            "automargin": true,
            "type": "pie"
           }
          ],
          "scatter": [
           {
            "marker": {
             "colorbar": {
              "outlinewidth": 0,
              "ticks": ""
             }
            },
            "type": "scatter"
           }
          ],
          "scatter3d": [
           {
            "line": {
             "colorbar": {
              "outlinewidth": 0,
              "ticks": ""
             }
            },
            "marker": {
             "colorbar": {
              "outlinewidth": 0,
              "ticks": ""
             }
            },
            "type": "scatter3d"
           }
          ],
          "scattercarpet": [
           {
            "marker": {
             "colorbar": {
              "outlinewidth": 0,
              "ticks": ""
             }
            },
            "type": "scattercarpet"
           }
          ],
          "scattergeo": [
           {
            "marker": {
             "colorbar": {
              "outlinewidth": 0,
              "ticks": ""
             }
            },
            "type": "scattergeo"
           }
          ],
          "scattergl": [
           {
            "marker": {
             "colorbar": {
              "outlinewidth": 0,
              "ticks": ""
             }
            },
            "type": "scattergl"
           }
          ],
          "scattermapbox": [
           {
            "marker": {
             "colorbar": {
              "outlinewidth": 0,
              "ticks": ""
             }
            },
            "type": "scattermapbox"
           }
          ],
          "scatterpolar": [
           {
            "marker": {
             "colorbar": {
              "outlinewidth": 0,
              "ticks": ""
             }
            },
            "type": "scatterpolar"
           }
          ],
          "scatterpolargl": [
           {
            "marker": {
             "colorbar": {
              "outlinewidth": 0,
              "ticks": ""
             }
            },
            "type": "scatterpolargl"
           }
          ],
          "scatterternary": [
           {
            "marker": {
             "colorbar": {
              "outlinewidth": 0,
              "ticks": ""
             }
            },
            "type": "scatterternary"
           }
          ],
          "surface": [
           {
            "colorbar": {
             "outlinewidth": 0,
             "ticks": ""
            },
            "colorscale": [
             [
              0,
              "#0d0887"
             ],
             [
              0.1111111111111111,
              "#46039f"
             ],
             [
              0.2222222222222222,
              "#7201a8"
             ],
             [
              0.3333333333333333,
              "#9c179e"
             ],
             [
              0.4444444444444444,
              "#bd3786"
             ],
             [
              0.5555555555555556,
              "#d8576b"
             ],
             [
              0.6666666666666666,
              "#ed7953"
             ],
             [
              0.7777777777777778,
              "#fb9f3a"
             ],
             [
              0.8888888888888888,
              "#fdca26"
             ],
             [
              1,
              "#f0f921"
             ]
            ],
            "type": "surface"
           }
          ],
          "table": [
           {
            "cells": {
             "fill": {
              "color": "#EBF0F8"
             },
             "line": {
              "color": "white"
             }
            },
            "header": {
             "fill": {
              "color": "#C8D4E3"
             },
             "line": {
              "color": "white"
             }
            },
            "type": "table"
           }
          ]
         },
         "layout": {
          "annotationdefaults": {
           "arrowcolor": "#2a3f5f",
           "arrowhead": 0,
           "arrowwidth": 1
          },
          "autotypenumbers": "strict",
          "coloraxis": {
           "colorbar": {
            "outlinewidth": 0,
            "ticks": ""
           }
          },
          "colorscale": {
           "diverging": [
            [
             0,
             "#8e0152"
            ],
            [
             0.1,
             "#c51b7d"
            ],
            [
             0.2,
             "#de77ae"
            ],
            [
             0.3,
             "#f1b6da"
            ],
            [
             0.4,
             "#fde0ef"
            ],
            [
             0.5,
             "#f7f7f7"
            ],
            [
             0.6,
             "#e6f5d0"
            ],
            [
             0.7,
             "#b8e186"
            ],
            [
             0.8,
             "#7fbc41"
            ],
            [
             0.9,
             "#4d9221"
            ],
            [
             1,
             "#276419"
            ]
           ],
           "sequential": [
            [
             0,
             "#0d0887"
            ],
            [
             0.1111111111111111,
             "#46039f"
            ],
            [
             0.2222222222222222,
             "#7201a8"
            ],
            [
             0.3333333333333333,
             "#9c179e"
            ],
            [
             0.4444444444444444,
             "#bd3786"
            ],
            [
             0.5555555555555556,
             "#d8576b"
            ],
            [
             0.6666666666666666,
             "#ed7953"
            ],
            [
             0.7777777777777778,
             "#fb9f3a"
            ],
            [
             0.8888888888888888,
             "#fdca26"
            ],
            [
             1,
             "#f0f921"
            ]
           ],
           "sequentialminus": [
            [
             0,
             "#0d0887"
            ],
            [
             0.1111111111111111,
             "#46039f"
            ],
            [
             0.2222222222222222,
             "#7201a8"
            ],
            [
             0.3333333333333333,
             "#9c179e"
            ],
            [
             0.4444444444444444,
             "#bd3786"
            ],
            [
             0.5555555555555556,
             "#d8576b"
            ],
            [
             0.6666666666666666,
             "#ed7953"
            ],
            [
             0.7777777777777778,
             "#fb9f3a"
            ],
            [
             0.8888888888888888,
             "#fdca26"
            ],
            [
             1,
             "#f0f921"
            ]
           ]
          },
          "colorway": [
           "#636efa",
           "#EF553B",
           "#00cc96",
           "#ab63fa",
           "#FFA15A",
           "#19d3f3",
           "#FF6692",
           "#B6E880",
           "#FF97FF",
           "#FECB52"
          ],
          "font": {
           "color": "#2a3f5f"
          },
          "geo": {
           "bgcolor": "white",
           "lakecolor": "white",
           "landcolor": "#E5ECF6",
           "showlakes": true,
           "showland": true,
           "subunitcolor": "white"
          },
          "hoverlabel": {
           "align": "left"
          },
          "hovermode": "closest",
          "mapbox": {
           "style": "light"
          },
          "paper_bgcolor": "white",
          "plot_bgcolor": "#E5ECF6",
          "polar": {
           "angularaxis": {
            "gridcolor": "white",
            "linecolor": "white",
            "ticks": ""
           },
           "bgcolor": "#E5ECF6",
           "radialaxis": {
            "gridcolor": "white",
            "linecolor": "white",
            "ticks": ""
           }
          },
          "scene": {
           "xaxis": {
            "backgroundcolor": "#E5ECF6",
            "gridcolor": "white",
            "gridwidth": 2,
            "linecolor": "white",
            "showbackground": true,
            "ticks": "",
            "zerolinecolor": "white"
           },
           "yaxis": {
            "backgroundcolor": "#E5ECF6",
            "gridcolor": "white",
            "gridwidth": 2,
            "linecolor": "white",
            "showbackground": true,
            "ticks": "",
            "zerolinecolor": "white"
           },
           "zaxis": {
            "backgroundcolor": "#E5ECF6",
            "gridcolor": "white",
            "gridwidth": 2,
            "linecolor": "white",
            "showbackground": true,
            "ticks": "",
            "zerolinecolor": "white"
           }
          },
          "shapedefaults": {
           "line": {
            "color": "#2a3f5f"
           }
          },
          "ternary": {
           "aaxis": {
            "gridcolor": "white",
            "linecolor": "white",
            "ticks": ""
           },
           "baxis": {
            "gridcolor": "white",
            "linecolor": "white",
            "ticks": ""
           },
           "bgcolor": "#E5ECF6",
           "caxis": {
            "gridcolor": "white",
            "linecolor": "white",
            "ticks": ""
           }
          },
          "title": {
           "x": 0.05
          },
          "xaxis": {
           "automargin": true,
           "gridcolor": "white",
           "linecolor": "white",
           "ticks": "",
           "title": {
            "standoff": 15
           },
           "zerolinecolor": "white",
           "zerolinewidth": 2
          },
          "yaxis": {
           "automargin": true,
           "gridcolor": "white",
           "linecolor": "white",
           "ticks": "",
           "title": {
            "standoff": 15
           },
           "zerolinecolor": "white",
           "zerolinewidth": 2
          }
         }
        },
        "title": {
         "font": {
          "color": "#4D5663"
         }
        },
        "xaxis": {
         "gridcolor": "#E1E5ED",
         "showgrid": true,
         "tickfont": {
          "color": "#4D5663"
         },
         "title": {
          "font": {
           "color": "#4D5663"
          },
          "text": ""
         },
         "zerolinecolor": "#E1E5ED"
        },
        "yaxis": {
         "gridcolor": "#E1E5ED",
         "showgrid": true,
         "tickfont": {
          "color": "#4D5663"
         },
         "title": {
          "font": {
           "color": "#4D5663"
          },
          "text": ""
         },
         "zerolinecolor": "#E1E5ED"
        }
       }
      },
      "text/html": [
       "<div>                            <div id=\"6ee336fb-b259-4071-81de-ff56ce331f8d\" class=\"plotly-graph-div\" style=\"height:525px; width:100%;\"></div>            <script type=\"text/javascript\">                require([\"plotly\"], function(Plotly) {                    window.PLOTLYENV=window.PLOTLYENV || {};\n",
       "                    window.PLOTLYENV.BASE_URL='https://plot.ly';                                    if (document.getElementById(\"6ee336fb-b259-4071-81de-ff56ce331f8d\")) {                    Plotly.newPlot(                        \"6ee336fb-b259-4071-81de-ff56ce331f8d\",                        [{\"histfunc\":\"count\",\"histnorm\":\"\",\"marker\":{\"color\":\"rgba(255, 153, 51, 1.0)\",\"line\":{\"color\":\"#4D5663\",\"width\":1.3}},\"name\":\"A\",\"nbinsx\":25,\"opacity\":0.8,\"orientation\":\"v\",\"x\":[-0.7211844881720889,-1.460522588285307,2.154948856212787,-0.49761196784253425,0.45284763019750024,-0.2146016535662887,0.6461779730757492,-0.11825227421614609,1.2915518225379228,0.18608916067102835,-1.4874697128735566,-2.674955108446302,0.9190575231032203,-2.5325371551100275,-1.6777824953054545,-0.5467026438923042,0.5889265073259935,0.5713454137445192,-0.7405110737545675,-0.3762010861641179,0.1489885436790522,0.5826629600411326,9.93956133860854e-05,1.3228779971160258,1.548816618475939,1.0493635334616715,-0.41796228792981016,0.17190353418274495,0.26603823982029823,1.7748592869778435,-0.7486339320839377,0.0800193740814564,0.024234150399956793,-1.2542478347818165,0.437098308644309,0.703962364809523,-1.456325016003159,-1.515331912201515,-1.6783903384875147,-0.4105728612305543,-1.609348939801891,0.20873382660773848,1.7185816695607006,1.515224936174814,1.0690785260274,-1.6264240979749063,-0.10391990265168422,-1.0109174745146479,-1.9146061901244,0.8887427941528846,1.1887629381499019,-2.628399663534101,1.4627541154619559,1.2193879796116494,0.03120731155045379,0.19112324160339209,-0.41263213724016684,1.2195646026171014,-0.9357186450127927,-0.7735198800180834,0.7193889197776803,0.6576833793061325,-1.056242381180936,0.09944112179190494,1.0607886466058087,1.7480384469434798,-0.2925634435299589,-2.259658886505214,-1.693429506937218,2.0564346631440666,-0.14075746225916153,1.1671358816250528,-0.5788602987660235,-0.0019086180276748474,-1.9031784355512493,0.6697468613769787,1.2899599026774455,1.0937370716707826,0.2270561295865113,-0.22835157535766273,-0.21301396382913657,0.2796610966082171,0.6150753211568992,-0.8829404665561942,-0.4656916952739058,-0.4252283999883795,0.4855630893895303,0.21391697236657217,-0.24628332366479058,0.1698428083437271,0.4165353423709389,1.0312345779753802,-0.3802955308874277,-0.24345550305773975,-1.6088187152500206,1.362642934270473,0.5659359812206953,-0.08982000068507776,0.13460869031949085,0.07277500218970358],\"type\":\"histogram\"},{\"histfunc\":\"count\",\"histnorm\":\"\",\"marker\":{\"color\":\"rgba(55, 128, 191, 1.0)\",\"line\":{\"color\":\"#4D5663\",\"width\":1.3}},\"name\":\"B\",\"nbinsx\":25,\"opacity\":0.8,\"orientation\":\"v\",\"x\":[1.9363176963824915,0.783691095069216,-1.1913463628659005,-0.6441276887203147,1.1687904468466739,0.6323414704685131,-1.2191589935127074,-0.2143976718639855,-1.9448875532251129,-0.28376974222916534,1.5782128138754477,-1.8196443931299022,-0.6407499492278539,-0.4211817381995266,0.749816068741311,1.0357869223281948,1.4574441310839379,-0.3042344579582755,0.19723781050623027,-0.5624181531021479,-1.4068385344205947,-1.467133562334591,-0.5674350597043402,-2.129336044404162,1.1758806168946234,-0.16448995704076652,-0.9779043170437532,-0.34597066195963844,0.5646432182256792,1.3236523242202396,0.6072867513938234,-0.568385280381742,-1.1186532483940683,0.30430474772314803,-0.31653229378343317,0.10274254004759957,-0.4004143253747189,-0.5401696407335572,-1.7905406758414422,-0.3447153898348365,0.01640549905721995,1.329803844957976,-0.2838454848295598,-0.7149500718878599,2.131509449259118,-0.20594262819363468,-0.46095460604086497,1.3762460600580146,-0.5315216700601639,0.4330121353014572,-1.0421993308088067,-1.5558986585240033,-1.218392913837334,0.44444621727844846,-0.3033811422910685,-0.2348174161172821,0.6761559094978562,-0.1433003612459205,-0.5021565887281341,-0.5643974865846672,-0.32738588487886683,2.7095465578361577,0.18779561954741292,-0.179442053806397,0.16190622421114106,-0.10631574297220216,-0.9719562551176633,-0.8864656963735614,-1.0971579537801677,0.5703636600272055,0.017455999104761276,0.10764563017514592,0.6674390203404504,-1.5483790010746306,0.7855020724347893,1.0864443237398242,-0.09412775608332852,-0.7155961933081841,2.1220822162796087,0.6706361949388256,-0.5290544807432842,-2.2005054084000197,0.1576792060896083,0.09945177553841868,-1.8392810801254043,-0.9192852920587717,2.4718464231328774,0.2076321039179723,-0.8445272827194005,-0.8008434375387793,-0.007766019613267419,0.5090193899057244,-0.0030644485108717303,1.2109719752722654,-0.8042659230928949,0.0639503553332306,-0.19669717584049626,0.3109834776847498,0.27778199066943177,0.9202818228115818],\"type\":\"histogram\"},{\"histfunc\":\"count\",\"histnorm\":\"\",\"marker\":{\"color\":\"rgba(50, 171, 96, 1.0)\",\"line\":{\"color\":\"#4D5663\",\"width\":1.3}},\"name\":\"C\",\"nbinsx\":25,\"opacity\":0.8,\"orientation\":\"v\",\"x\":[1.4859017289979828,-0.33882624051823435,0.5643405958898692,1.2614884985758812,1.6779225026293678,-1.5007675294668912,-0.3133709553042308,-0.24881116987413524,-0.8984296938782744,0.8517918517884915,0.7914783840592418,1.0118561818366778,-0.16940827506921166,0.48119272683245096,-0.5302480006131105,-0.12596380055710518,-0.914482692452627,0.2430324564669559,-0.6271456877220737,-0.039243873746583474,-0.624373521737248,-0.7011493076273844,0.34747903798741425,-0.703721067051155,0.8724572241803034,0.5465326745477941,-1.0166519623938672,-0.22250238064915695,0.7798878940201981,-0.47769775108492524,0.7515736123635777,-0.7065355298480203,0.5293249332023787,-1.1892173218761193,2.1194522888672753,-0.10986125717974393,0.8791148594632846,0.5460438641241416,-0.30489535972538856,0.22483542272608617,0.6888768183285222,-0.6729712777178668,-0.7300028071817591,0.2679722597855181,0.6035977345794945,1.180301839137286,-1.2760752780811426,0.9142491827677313,0.4425859047930506,1.154320087707713,-2.735241340135281,1.1364550696252336,0.3001807224411202,0.12550119080175973,-0.5560080144457152,-0.693293437527863,3.0194991712263026,-0.4262567543938785,0.5764953151360391,0.45139734451565655,-0.167279095942579,1.2692271053324897,-1.019028606681503,-0.6739974262146932,0.08992637211206918,0.7261097008800064,-0.17338081937656077,-0.7215243294097896,0.09804193397711113,-0.42254823205487335,-1.3675350240945991,0.8495984942986297,-2.331481960731101,-0.255456500873279,-1.0621376786949863,1.672461134218411,-0.27760778046229584,1.2612127949309468,-0.9445409907916669,-0.7510247839559636,0.3586429710448984,2.0143853340331566,1.0897052639120521,1.3917973240762471,1.0649228888781936,-1.1921019278896943,0.3584927758114282,-1.446003874283754,0.4617132803189797,0.022046213056134613,-1.0258203592039308,-1.7522236855261502,0.4623225073343496,-0.12079620716968513,-0.07238179439131184,-0.8239656021056064,1.5573934006047707,0.011873561422134572,0.1454108215874784,0.3194758145951463],\"type\":\"histogram\"},{\"histfunc\":\"count\",\"histnorm\":\"\",\"marker\":{\"color\":\"rgba(128, 0, 128, 1.0)\",\"line\":{\"color\":\"#4D5663\",\"width\":1.3}},\"name\":\"D\",\"nbinsx\":25,\"opacity\":0.8,\"orientation\":\"v\",\"x\":[-1.4248961080733737,-0.3273423015501189,-1.251243272904655,0.03571868360370304,-0.8831359287118566,-0.4570458265199517,0.6669520968804289,0.12954797107100285,-1.1872784105353085,-1.0788534706921908,0.30414595111300274,-0.5808001420568194,0.7181559955419363,0.06431165990781074,0.4849600848179319,1.4650669998186705,0.3674900679512842,0.4659875208335856,1.8188709506352152,-2.4086829521242197,0.14269415469329055,-0.8986756621656249,0.24858640874522073,-0.6666710092100481,0.5312821075428688,0.6019372930953827,-0.8785566114030708,0.681347037704834,-0.5275682348277461,0.5224893317843847,-0.4632983081749662,0.11455424289896247,-0.5877204962503827,-0.2727428023361453,0.11871099006403349,-0.012220458087781596,-0.3418858101884144,-0.1701824065150667,0.19866144793597726,2.2346940769277372,0.2699534923198242,1.4952770521817178,1.9779450932749005,-0.1573965657928153,0.21480268763970578,-0.014537958815027823,0.9464220940372752,0.6011294964228965,-0.5791683004735586,-0.14674788751325316,0.742208864305391,0.5414212853423049,-0.9944259857720036,-0.2959846855161765,0.23580701543961627,-1.6600227313443063,-0.9233777628566187,-0.5238750058782555,-2.993809512427146,-0.8172655557837051,-0.29137604806023587,-0.2996317587288255,-0.5762542829528886,-1.4475470129302017,0.7626889846818631,-0.11586394220813491,0.7333320422309404,0.2631279090696038,0.15528968037263927,-0.4027569275919533,1.2364870960612364,1.1247560994972394,0.158400504315808,-0.8953734151597598,0.029924998471448666,1.0348887702004474,-0.08442864675348455,2.5868485824131993,1.117124451409192,-0.8021254788163592,1.3609419169157688,-0.9939500139315293,0.5130557561569394,-1.2397896504581485,-0.24837163218103428,-0.3698617259191884,-1.0388166503324645,0.9790966570987323,-0.11488459891479715,0.49015055617855424,-0.25275398163526946,1.1848213764718107,0.23659704857385866,-0.2719241288569037,1.325505481258998,-1.3312249257331565,1.2051807720165935,0.5847206558372181,0.06900031359470782,1.0132343277241416],\"type\":\"histogram\"}],                        {\"barmode\":\"overlay\",\"legend\":{\"bgcolor\":\"#F5F6F9\",\"font\":{\"color\":\"#4D5663\"}},\"paper_bgcolor\":\"#F5F6F9\",\"plot_bgcolor\":\"#F5F6F9\",\"template\":{\"data\":{\"barpolar\":[{\"marker\":{\"line\":{\"color\":\"#E5ECF6\",\"width\":0.5},\"pattern\":{\"fillmode\":\"overlay\",\"size\":10,\"solidity\":0.2}},\"type\":\"barpolar\"}],\"bar\":[{\"error_x\":{\"color\":\"#2a3f5f\"},\"error_y\":{\"color\":\"#2a3f5f\"},\"marker\":{\"line\":{\"color\":\"#E5ECF6\",\"width\":0.5},\"pattern\":{\"fillmode\":\"overlay\",\"size\":10,\"solidity\":0.2}},\"type\":\"bar\"}],\"carpet\":[{\"aaxis\":{\"endlinecolor\":\"#2a3f5f\",\"gridcolor\":\"white\",\"linecolor\":\"white\",\"minorgridcolor\":\"white\",\"startlinecolor\":\"#2a3f5f\"},\"baxis\":{\"endlinecolor\":\"#2a3f5f\",\"gridcolor\":\"white\",\"linecolor\":\"white\",\"minorgridcolor\":\"white\",\"startlinecolor\":\"#2a3f5f\"},\"type\":\"carpet\"}],\"choropleth\":[{\"colorbar\":{\"outlinewidth\":0,\"ticks\":\"\"},\"type\":\"choropleth\"}],\"contourcarpet\":[{\"colorbar\":{\"outlinewidth\":0,\"ticks\":\"\"},\"type\":\"contourcarpet\"}],\"contour\":[{\"colorbar\":{\"outlinewidth\":0,\"ticks\":\"\"},\"colorscale\":[[0.0,\"#0d0887\"],[0.1111111111111111,\"#46039f\"],[0.2222222222222222,\"#7201a8\"],[0.3333333333333333,\"#9c179e\"],[0.4444444444444444,\"#bd3786\"],[0.5555555555555556,\"#d8576b\"],[0.6666666666666666,\"#ed7953\"],[0.7777777777777778,\"#fb9f3a\"],[0.8888888888888888,\"#fdca26\"],[1.0,\"#f0f921\"]],\"type\":\"contour\"}],\"heatmapgl\":[{\"colorbar\":{\"outlinewidth\":0,\"ticks\":\"\"},\"colorscale\":[[0.0,\"#0d0887\"],[0.1111111111111111,\"#46039f\"],[0.2222222222222222,\"#7201a8\"],[0.3333333333333333,\"#9c179e\"],[0.4444444444444444,\"#bd3786\"],[0.5555555555555556,\"#d8576b\"],[0.6666666666666666,\"#ed7953\"],[0.7777777777777778,\"#fb9f3a\"],[0.8888888888888888,\"#fdca26\"],[1.0,\"#f0f921\"]],\"type\":\"heatmapgl\"}],\"heatmap\":[{\"colorbar\":{\"outlinewidth\":0,\"ticks\":\"\"},\"colorscale\":[[0.0,\"#0d0887\"],[0.1111111111111111,\"#46039f\"],[0.2222222222222222,\"#7201a8\"],[0.3333333333333333,\"#9c179e\"],[0.4444444444444444,\"#bd3786\"],[0.5555555555555556,\"#d8576b\"],[0.6666666666666666,\"#ed7953\"],[0.7777777777777778,\"#fb9f3a\"],[0.8888888888888888,\"#fdca26\"],[1.0,\"#f0f921\"]],\"type\":\"heatmap\"}],\"histogram2dcontour\":[{\"colorbar\":{\"outlinewidth\":0,\"ticks\":\"\"},\"colorscale\":[[0.0,\"#0d0887\"],[0.1111111111111111,\"#46039f\"],[0.2222222222222222,\"#7201a8\"],[0.3333333333333333,\"#9c179e\"],[0.4444444444444444,\"#bd3786\"],[0.5555555555555556,\"#d8576b\"],[0.6666666666666666,\"#ed7953\"],[0.7777777777777778,\"#fb9f3a\"],[0.8888888888888888,\"#fdca26\"],[1.0,\"#f0f921\"]],\"type\":\"histogram2dcontour\"}],\"histogram2d\":[{\"colorbar\":{\"outlinewidth\":0,\"ticks\":\"\"},\"colorscale\":[[0.0,\"#0d0887\"],[0.1111111111111111,\"#46039f\"],[0.2222222222222222,\"#7201a8\"],[0.3333333333333333,\"#9c179e\"],[0.4444444444444444,\"#bd3786\"],[0.5555555555555556,\"#d8576b\"],[0.6666666666666666,\"#ed7953\"],[0.7777777777777778,\"#fb9f3a\"],[0.8888888888888888,\"#fdca26\"],[1.0,\"#f0f921\"]],\"type\":\"histogram2d\"}],\"histogram\":[{\"marker\":{\"pattern\":{\"fillmode\":\"overlay\",\"size\":10,\"solidity\":0.2}},\"type\":\"histogram\"}],\"mesh3d\":[{\"colorbar\":{\"outlinewidth\":0,\"ticks\":\"\"},\"type\":\"mesh3d\"}],\"parcoords\":[{\"line\":{\"colorbar\":{\"outlinewidth\":0,\"ticks\":\"\"}},\"type\":\"parcoords\"}],\"pie\":[{\"automargin\":true,\"type\":\"pie\"}],\"scatter3d\":[{\"line\":{\"colorbar\":{\"outlinewidth\":0,\"ticks\":\"\"}},\"marker\":{\"colorbar\":{\"outlinewidth\":0,\"ticks\":\"\"}},\"type\":\"scatter3d\"}],\"scattercarpet\":[{\"marker\":{\"colorbar\":{\"outlinewidth\":0,\"ticks\":\"\"}},\"type\":\"scattercarpet\"}],\"scattergeo\":[{\"marker\":{\"colorbar\":{\"outlinewidth\":0,\"ticks\":\"\"}},\"type\":\"scattergeo\"}],\"scattergl\":[{\"marker\":{\"colorbar\":{\"outlinewidth\":0,\"ticks\":\"\"}},\"type\":\"scattergl\"}],\"scattermapbox\":[{\"marker\":{\"colorbar\":{\"outlinewidth\":0,\"ticks\":\"\"}},\"type\":\"scattermapbox\"}],\"scatterpolargl\":[{\"marker\":{\"colorbar\":{\"outlinewidth\":0,\"ticks\":\"\"}},\"type\":\"scatterpolargl\"}],\"scatterpolar\":[{\"marker\":{\"colorbar\":{\"outlinewidth\":0,\"ticks\":\"\"}},\"type\":\"scatterpolar\"}],\"scatter\":[{\"marker\":{\"colorbar\":{\"outlinewidth\":0,\"ticks\":\"\"}},\"type\":\"scatter\"}],\"scatterternary\":[{\"marker\":{\"colorbar\":{\"outlinewidth\":0,\"ticks\":\"\"}},\"type\":\"scatterternary\"}],\"surface\":[{\"colorbar\":{\"outlinewidth\":0,\"ticks\":\"\"},\"colorscale\":[[0.0,\"#0d0887\"],[0.1111111111111111,\"#46039f\"],[0.2222222222222222,\"#7201a8\"],[0.3333333333333333,\"#9c179e\"],[0.4444444444444444,\"#bd3786\"],[0.5555555555555556,\"#d8576b\"],[0.6666666666666666,\"#ed7953\"],[0.7777777777777778,\"#fb9f3a\"],[0.8888888888888888,\"#fdca26\"],[1.0,\"#f0f921\"]],\"type\":\"surface\"}],\"table\":[{\"cells\":{\"fill\":{\"color\":\"#EBF0F8\"},\"line\":{\"color\":\"white\"}},\"header\":{\"fill\":{\"color\":\"#C8D4E3\"},\"line\":{\"color\":\"white\"}},\"type\":\"table\"}]},\"layout\":{\"annotationdefaults\":{\"arrowcolor\":\"#2a3f5f\",\"arrowhead\":0,\"arrowwidth\":1},\"autotypenumbers\":\"strict\",\"coloraxis\":{\"colorbar\":{\"outlinewidth\":0,\"ticks\":\"\"}},\"colorscale\":{\"diverging\":[[0,\"#8e0152\"],[0.1,\"#c51b7d\"],[0.2,\"#de77ae\"],[0.3,\"#f1b6da\"],[0.4,\"#fde0ef\"],[0.5,\"#f7f7f7\"],[0.6,\"#e6f5d0\"],[0.7,\"#b8e186\"],[0.8,\"#7fbc41\"],[0.9,\"#4d9221\"],[1,\"#276419\"]],\"sequential\":[[0.0,\"#0d0887\"],[0.1111111111111111,\"#46039f\"],[0.2222222222222222,\"#7201a8\"],[0.3333333333333333,\"#9c179e\"],[0.4444444444444444,\"#bd3786\"],[0.5555555555555556,\"#d8576b\"],[0.6666666666666666,\"#ed7953\"],[0.7777777777777778,\"#fb9f3a\"],[0.8888888888888888,\"#fdca26\"],[1.0,\"#f0f921\"]],\"sequentialminus\":[[0.0,\"#0d0887\"],[0.1111111111111111,\"#46039f\"],[0.2222222222222222,\"#7201a8\"],[0.3333333333333333,\"#9c179e\"],[0.4444444444444444,\"#bd3786\"],[0.5555555555555556,\"#d8576b\"],[0.6666666666666666,\"#ed7953\"],[0.7777777777777778,\"#fb9f3a\"],[0.8888888888888888,\"#fdca26\"],[1.0,\"#f0f921\"]]},\"colorway\":[\"#636efa\",\"#EF553B\",\"#00cc96\",\"#ab63fa\",\"#FFA15A\",\"#19d3f3\",\"#FF6692\",\"#B6E880\",\"#FF97FF\",\"#FECB52\"],\"font\":{\"color\":\"#2a3f5f\"},\"geo\":{\"bgcolor\":\"white\",\"lakecolor\":\"white\",\"landcolor\":\"#E5ECF6\",\"showlakes\":true,\"showland\":true,\"subunitcolor\":\"white\"},\"hoverlabel\":{\"align\":\"left\"},\"hovermode\":\"closest\",\"mapbox\":{\"style\":\"light\"},\"paper_bgcolor\":\"white\",\"plot_bgcolor\":\"#E5ECF6\",\"polar\":{\"angularaxis\":{\"gridcolor\":\"white\",\"linecolor\":\"white\",\"ticks\":\"\"},\"bgcolor\":\"#E5ECF6\",\"radialaxis\":{\"gridcolor\":\"white\",\"linecolor\":\"white\",\"ticks\":\"\"}},\"scene\":{\"xaxis\":{\"backgroundcolor\":\"#E5ECF6\",\"gridcolor\":\"white\",\"gridwidth\":2,\"linecolor\":\"white\",\"showbackground\":true,\"ticks\":\"\",\"zerolinecolor\":\"white\"},\"yaxis\":{\"backgroundcolor\":\"#E5ECF6\",\"gridcolor\":\"white\",\"gridwidth\":2,\"linecolor\":\"white\",\"showbackground\":true,\"ticks\":\"\",\"zerolinecolor\":\"white\"},\"zaxis\":{\"backgroundcolor\":\"#E5ECF6\",\"gridcolor\":\"white\",\"gridwidth\":2,\"linecolor\":\"white\",\"showbackground\":true,\"ticks\":\"\",\"zerolinecolor\":\"white\"}},\"shapedefaults\":{\"line\":{\"color\":\"#2a3f5f\"}},\"ternary\":{\"aaxis\":{\"gridcolor\":\"white\",\"linecolor\":\"white\",\"ticks\":\"\"},\"baxis\":{\"gridcolor\":\"white\",\"linecolor\":\"white\",\"ticks\":\"\"},\"bgcolor\":\"#E5ECF6\",\"caxis\":{\"gridcolor\":\"white\",\"linecolor\":\"white\",\"ticks\":\"\"}},\"title\":{\"x\":0.05},\"xaxis\":{\"automargin\":true,\"gridcolor\":\"white\",\"linecolor\":\"white\",\"ticks\":\"\",\"title\":{\"standoff\":15},\"zerolinecolor\":\"white\",\"zerolinewidth\":2},\"yaxis\":{\"automargin\":true,\"gridcolor\":\"white\",\"linecolor\":\"white\",\"ticks\":\"\",\"title\":{\"standoff\":15},\"zerolinecolor\":\"white\",\"zerolinewidth\":2}}},\"title\":{\"font\":{\"color\":\"#4D5663\"}},\"xaxis\":{\"gridcolor\":\"#E1E5ED\",\"showgrid\":true,\"tickfont\":{\"color\":\"#4D5663\"},\"title\":{\"font\":{\"color\":\"#4D5663\"},\"text\":\"\"},\"zerolinecolor\":\"#E1E5ED\"},\"yaxis\":{\"gridcolor\":\"#E1E5ED\",\"showgrid\":true,\"tickfont\":{\"color\":\"#4D5663\"},\"title\":{\"font\":{\"color\":\"#4D5663\"},\"text\":\"\"},\"zerolinecolor\":\"#E1E5ED\"}},                        {\"showLink\": true, \"linkText\": \"Export to plot.ly\", \"plotlyServerURL\": \"https://plot.ly\", \"responsive\": true}                    ).then(function(){\n",
       "                            \n",
       "var gd = document.getElementById('6ee336fb-b259-4071-81de-ff56ce331f8d');\n",
       "var x = new MutationObserver(function (mutations, observer) {{\n",
       "        var display = window.getComputedStyle(gd).display;\n",
       "        if (!display || display === 'none') {{\n",
       "            console.log([gd, 'removed!']);\n",
       "            Plotly.purge(gd);\n",
       "            observer.disconnect();\n",
       "        }}\n",
       "}});\n",
       "\n",
       "// Listen for the removal of the full notebook cells\n",
       "var notebookContainer = gd.closest('#notebook-container');\n",
       "if (notebookContainer) {{\n",
       "    x.observe(notebookContainer, {childList: true});\n",
       "}}\n",
       "\n",
       "// Listen for the clearing of the current output cell\n",
       "var outputEl = gd.closest('.output');\n",
       "if (outputEl) {{\n",
       "    x.observe(outputEl, {childList: true});\n",
       "}}\n",
       "\n",
       "                        })                };                });            </script>        </div>"
      ]
     },
     "metadata": {},
     "output_type": "display_data"
    }
   ],
   "source": [
    "df.iplot(kind='hist',bins=25)"
   ]
  },
  {
   "cell_type": "code",
   "execution_count": 17,
   "metadata": {},
   "outputs": [
    {
     "data": {
      "application/vnd.plotly.v1+json": {
       "config": {
        "linkText": "Export to plot.ly",
        "plotlyServerURL": "https://plot.ly",
        "showLink": true
       },
       "data": [
        {
         "marker": {
          "color": [
           "rgb(255, 153, 51)",
           "rgb(55, 128, 191)",
           "rgb(50, 171, 96)",
           "rgb(128, 0, 128)",
           "rgb(219, 64, 82)",
           "rgb(0, 128, 128)",
           "rgb(255, 255, 51)",
           "rgb(128, 128, 0)",
           "rgb(251, 128, 114)",
           "rgb(128, 177, 211)"
          ],
          "line": {
           "width": 1.3
          },
          "size": [
           85,
           53,
           69,
           81,
           88,
           33,
           54,
           55,
           43,
           74,
           73,
           77,
           56,
           67,
           50,
           57,
           43,
           63,
           48,
           58,
           48,
           47,
           65,
           47,
           74,
           69,
           41,
           55,
           73,
           51,
           72,
           47,
           68,
           38,
           96,
           57,
           74,
           69,
           54,
           63,
           71,
           47,
           46,
           64,
           70,
           80,
           37,
           75,
           67,
           79,
           12,
           79,
           64,
           61,
           49,
           47,
           112,
           52,
           69,
           67,
           56,
           81,
           41,
           47,
           61,
           72,
           56,
           46,
           61,
           52,
           35,
           74,
           19,
           55,
           41,
           88,
           54,
           81,
           43,
           46,
           65,
           94,
           78,
           83,
           78,
           38,
           65,
           34,
           67,
           59,
           41,
           29,
           67,
           57,
           58,
           45,
           86,
           59,
           62,
           65
          ],
          "symbol": "circle"
         },
         "mode": "markers",
         "text": "",
         "type": "scatter",
         "x": [
          -0.7211844881720889,
          -1.460522588285307,
          2.154948856212787,
          -0.49761196784253425,
          0.45284763019750024,
          -0.2146016535662887,
          0.6461779730757492,
          -0.11825227421614609,
          1.2915518225379228,
          0.18608916067102835,
          -1.4874697128735566,
          -2.674955108446302,
          0.9190575231032203,
          -2.5325371551100275,
          -1.6777824953054545,
          -0.5467026438923042,
          0.5889265073259935,
          0.5713454137445192,
          -0.7405110737545675,
          -0.3762010861641179,
          0.1489885436790522,
          0.5826629600411326,
          9.93956133860854e-05,
          1.3228779971160258,
          1.548816618475939,
          1.0493635334616715,
          -0.41796228792981016,
          0.17190353418274495,
          0.26603823982029823,
          1.7748592869778435,
          -0.7486339320839377,
          0.0800193740814564,
          0.024234150399956793,
          -1.2542478347818165,
          0.437098308644309,
          0.703962364809523,
          -1.456325016003159,
          -1.515331912201515,
          -1.6783903384875147,
          -0.4105728612305543,
          -1.609348939801891,
          0.20873382660773848,
          1.7185816695607006,
          1.515224936174814,
          1.0690785260274,
          -1.6264240979749063,
          -0.10391990265168422,
          -1.0109174745146479,
          -1.9146061901244,
          0.8887427941528846,
          1.1887629381499019,
          -2.628399663534101,
          1.4627541154619559,
          1.2193879796116494,
          0.03120731155045379,
          0.19112324160339209,
          -0.41263213724016684,
          1.2195646026171014,
          -0.9357186450127927,
          -0.7735198800180834,
          0.7193889197776803,
          0.6576833793061325,
          -1.056242381180936,
          0.09944112179190494,
          1.0607886466058087,
          1.7480384469434798,
          -0.2925634435299589,
          -2.259658886505214,
          -1.693429506937218,
          2.0564346631440666,
          -0.14075746225916153,
          1.1671358816250528,
          -0.5788602987660235,
          -0.0019086180276748474,
          -1.9031784355512493,
          0.6697468613769787,
          1.2899599026774455,
          1.0937370716707826,
          0.2270561295865113,
          -0.22835157535766273,
          -0.21301396382913657,
          0.2796610966082171,
          0.6150753211568992,
          -0.8829404665561942,
          -0.4656916952739058,
          -0.4252283999883795,
          0.4855630893895303,
          0.21391697236657217,
          -0.24628332366479058,
          0.1698428083437271,
          0.4165353423709389,
          1.0312345779753802,
          -0.3802955308874277,
          -0.24345550305773975,
          -1.6088187152500206,
          1.362642934270473,
          0.5659359812206953,
          -0.08982000068507776,
          0.13460869031949085,
          0.07277500218970358
         ],
         "y": [
          1.9363176963824915,
          0.783691095069216,
          -1.1913463628659005,
          -0.6441276887203147,
          1.1687904468466739,
          0.6323414704685131,
          -1.2191589935127074,
          -0.2143976718639855,
          -1.9448875532251129,
          -0.28376974222916534,
          1.5782128138754477,
          -1.8196443931299022,
          -0.6407499492278539,
          -0.4211817381995266,
          0.749816068741311,
          1.0357869223281948,
          1.4574441310839379,
          -0.3042344579582755,
          0.19723781050623027,
          -0.5624181531021479,
          -1.4068385344205947,
          -1.467133562334591,
          -0.5674350597043402,
          -2.129336044404162,
          1.1758806168946234,
          -0.16448995704076652,
          -0.9779043170437532,
          -0.34597066195963844,
          0.5646432182256792,
          1.3236523242202396,
          0.6072867513938234,
          -0.568385280381742,
          -1.1186532483940683,
          0.30430474772314803,
          -0.31653229378343317,
          0.10274254004759957,
          -0.4004143253747189,
          -0.5401696407335572,
          -1.7905406758414422,
          -0.3447153898348365,
          0.01640549905721995,
          1.329803844957976,
          -0.2838454848295598,
          -0.7149500718878599,
          2.131509449259118,
          -0.20594262819363468,
          -0.46095460604086497,
          1.3762460600580146,
          -0.5315216700601639,
          0.4330121353014572,
          -1.0421993308088067,
          -1.5558986585240033,
          -1.218392913837334,
          0.44444621727844846,
          -0.3033811422910685,
          -0.2348174161172821,
          0.6761559094978562,
          -0.1433003612459205,
          -0.5021565887281341,
          -0.5643974865846672,
          -0.32738588487886683,
          2.7095465578361577,
          0.18779561954741292,
          -0.179442053806397,
          0.16190622421114106,
          -0.10631574297220216,
          -0.9719562551176633,
          -0.8864656963735614,
          -1.0971579537801677,
          0.5703636600272055,
          0.017455999104761276,
          0.10764563017514592,
          0.6674390203404504,
          -1.5483790010746306,
          0.7855020724347893,
          1.0864443237398242,
          -0.09412775608332852,
          -0.7155961933081841,
          2.1220822162796087,
          0.6706361949388256,
          -0.5290544807432842,
          -2.2005054084000197,
          0.1576792060896083,
          0.09945177553841868,
          -1.8392810801254043,
          -0.9192852920587717,
          2.4718464231328774,
          0.2076321039179723,
          -0.8445272827194005,
          -0.8008434375387793,
          -0.007766019613267419,
          0.5090193899057244,
          -0.0030644485108717303,
          1.2109719752722654,
          -0.8042659230928949,
          0.0639503553332306,
          -0.19669717584049626,
          0.3109834776847498,
          0.27778199066943177,
          0.9202818228115818
         ]
        }
       ],
       "layout": {
        "legend": {
         "bgcolor": "#F5F6F9",
         "font": {
          "color": "#4D5663"
         }
        },
        "paper_bgcolor": "#F5F6F9",
        "plot_bgcolor": "#F5F6F9",
        "template": {
         "data": {
          "bar": [
           {
            "error_x": {
             "color": "#2a3f5f"
            },
            "error_y": {
             "color": "#2a3f5f"
            },
            "marker": {
             "line": {
              "color": "#E5ECF6",
              "width": 0.5
             },
             "pattern": {
              "fillmode": "overlay",
              "size": 10,
              "solidity": 0.2
             }
            },
            "type": "bar"
           }
          ],
          "barpolar": [
           {
            "marker": {
             "line": {
              "color": "#E5ECF6",
              "width": 0.5
             },
             "pattern": {
              "fillmode": "overlay",
              "size": 10,
              "solidity": 0.2
             }
            },
            "type": "barpolar"
           }
          ],
          "carpet": [
           {
            "aaxis": {
             "endlinecolor": "#2a3f5f",
             "gridcolor": "white",
             "linecolor": "white",
             "minorgridcolor": "white",
             "startlinecolor": "#2a3f5f"
            },
            "baxis": {
             "endlinecolor": "#2a3f5f",
             "gridcolor": "white",
             "linecolor": "white",
             "minorgridcolor": "white",
             "startlinecolor": "#2a3f5f"
            },
            "type": "carpet"
           }
          ],
          "choropleth": [
           {
            "colorbar": {
             "outlinewidth": 0,
             "ticks": ""
            },
            "type": "choropleth"
           }
          ],
          "contour": [
           {
            "colorbar": {
             "outlinewidth": 0,
             "ticks": ""
            },
            "colorscale": [
             [
              0,
              "#0d0887"
             ],
             [
              0.1111111111111111,
              "#46039f"
             ],
             [
              0.2222222222222222,
              "#7201a8"
             ],
             [
              0.3333333333333333,
              "#9c179e"
             ],
             [
              0.4444444444444444,
              "#bd3786"
             ],
             [
              0.5555555555555556,
              "#d8576b"
             ],
             [
              0.6666666666666666,
              "#ed7953"
             ],
             [
              0.7777777777777778,
              "#fb9f3a"
             ],
             [
              0.8888888888888888,
              "#fdca26"
             ],
             [
              1,
              "#f0f921"
             ]
            ],
            "type": "contour"
           }
          ],
          "contourcarpet": [
           {
            "colorbar": {
             "outlinewidth": 0,
             "ticks": ""
            },
            "type": "contourcarpet"
           }
          ],
          "heatmap": [
           {
            "colorbar": {
             "outlinewidth": 0,
             "ticks": ""
            },
            "colorscale": [
             [
              0,
              "#0d0887"
             ],
             [
              0.1111111111111111,
              "#46039f"
             ],
             [
              0.2222222222222222,
              "#7201a8"
             ],
             [
              0.3333333333333333,
              "#9c179e"
             ],
             [
              0.4444444444444444,
              "#bd3786"
             ],
             [
              0.5555555555555556,
              "#d8576b"
             ],
             [
              0.6666666666666666,
              "#ed7953"
             ],
             [
              0.7777777777777778,
              "#fb9f3a"
             ],
             [
              0.8888888888888888,
              "#fdca26"
             ],
             [
              1,
              "#f0f921"
             ]
            ],
            "type": "heatmap"
           }
          ],
          "heatmapgl": [
           {
            "colorbar": {
             "outlinewidth": 0,
             "ticks": ""
            },
            "colorscale": [
             [
              0,
              "#0d0887"
             ],
             [
              0.1111111111111111,
              "#46039f"
             ],
             [
              0.2222222222222222,
              "#7201a8"
             ],
             [
              0.3333333333333333,
              "#9c179e"
             ],
             [
              0.4444444444444444,
              "#bd3786"
             ],
             [
              0.5555555555555556,
              "#d8576b"
             ],
             [
              0.6666666666666666,
              "#ed7953"
             ],
             [
              0.7777777777777778,
              "#fb9f3a"
             ],
             [
              0.8888888888888888,
              "#fdca26"
             ],
             [
              1,
              "#f0f921"
             ]
            ],
            "type": "heatmapgl"
           }
          ],
          "histogram": [
           {
            "marker": {
             "pattern": {
              "fillmode": "overlay",
              "size": 10,
              "solidity": 0.2
             }
            },
            "type": "histogram"
           }
          ],
          "histogram2d": [
           {
            "colorbar": {
             "outlinewidth": 0,
             "ticks": ""
            },
            "colorscale": [
             [
              0,
              "#0d0887"
             ],
             [
              0.1111111111111111,
              "#46039f"
             ],
             [
              0.2222222222222222,
              "#7201a8"
             ],
             [
              0.3333333333333333,
              "#9c179e"
             ],
             [
              0.4444444444444444,
              "#bd3786"
             ],
             [
              0.5555555555555556,
              "#d8576b"
             ],
             [
              0.6666666666666666,
              "#ed7953"
             ],
             [
              0.7777777777777778,
              "#fb9f3a"
             ],
             [
              0.8888888888888888,
              "#fdca26"
             ],
             [
              1,
              "#f0f921"
             ]
            ],
            "type": "histogram2d"
           }
          ],
          "histogram2dcontour": [
           {
            "colorbar": {
             "outlinewidth": 0,
             "ticks": ""
            },
            "colorscale": [
             [
              0,
              "#0d0887"
             ],
             [
              0.1111111111111111,
              "#46039f"
             ],
             [
              0.2222222222222222,
              "#7201a8"
             ],
             [
              0.3333333333333333,
              "#9c179e"
             ],
             [
              0.4444444444444444,
              "#bd3786"
             ],
             [
              0.5555555555555556,
              "#d8576b"
             ],
             [
              0.6666666666666666,
              "#ed7953"
             ],
             [
              0.7777777777777778,
              "#fb9f3a"
             ],
             [
              0.8888888888888888,
              "#fdca26"
             ],
             [
              1,
              "#f0f921"
             ]
            ],
            "type": "histogram2dcontour"
           }
          ],
          "mesh3d": [
           {
            "colorbar": {
             "outlinewidth": 0,
             "ticks": ""
            },
            "type": "mesh3d"
           }
          ],
          "parcoords": [
           {
            "line": {
             "colorbar": {
              "outlinewidth": 0,
              "ticks": ""
             }
            },
            "type": "parcoords"
           }
          ],
          "pie": [
           {
            "automargin": true,
            "type": "pie"
           }
          ],
          "scatter": [
           {
            "marker": {
             "colorbar": {
              "outlinewidth": 0,
              "ticks": ""
             }
            },
            "type": "scatter"
           }
          ],
          "scatter3d": [
           {
            "line": {
             "colorbar": {
              "outlinewidth": 0,
              "ticks": ""
             }
            },
            "marker": {
             "colorbar": {
              "outlinewidth": 0,
              "ticks": ""
             }
            },
            "type": "scatter3d"
           }
          ],
          "scattercarpet": [
           {
            "marker": {
             "colorbar": {
              "outlinewidth": 0,
              "ticks": ""
             }
            },
            "type": "scattercarpet"
           }
          ],
          "scattergeo": [
           {
            "marker": {
             "colorbar": {
              "outlinewidth": 0,
              "ticks": ""
             }
            },
            "type": "scattergeo"
           }
          ],
          "scattergl": [
           {
            "marker": {
             "colorbar": {
              "outlinewidth": 0,
              "ticks": ""
             }
            },
            "type": "scattergl"
           }
          ],
          "scattermapbox": [
           {
            "marker": {
             "colorbar": {
              "outlinewidth": 0,
              "ticks": ""
             }
            },
            "type": "scattermapbox"
           }
          ],
          "scatterpolar": [
           {
            "marker": {
             "colorbar": {
              "outlinewidth": 0,
              "ticks": ""
             }
            },
            "type": "scatterpolar"
           }
          ],
          "scatterpolargl": [
           {
            "marker": {
             "colorbar": {
              "outlinewidth": 0,
              "ticks": ""
             }
            },
            "type": "scatterpolargl"
           }
          ],
          "scatterternary": [
           {
            "marker": {
             "colorbar": {
              "outlinewidth": 0,
              "ticks": ""
             }
            },
            "type": "scatterternary"
           }
          ],
          "surface": [
           {
            "colorbar": {
             "outlinewidth": 0,
             "ticks": ""
            },
            "colorscale": [
             [
              0,
              "#0d0887"
             ],
             [
              0.1111111111111111,
              "#46039f"
             ],
             [
              0.2222222222222222,
              "#7201a8"
             ],
             [
              0.3333333333333333,
              "#9c179e"
             ],
             [
              0.4444444444444444,
              "#bd3786"
             ],
             [
              0.5555555555555556,
              "#d8576b"
             ],
             [
              0.6666666666666666,
              "#ed7953"
             ],
             [
              0.7777777777777778,
              "#fb9f3a"
             ],
             [
              0.8888888888888888,
              "#fdca26"
             ],
             [
              1,
              "#f0f921"
             ]
            ],
            "type": "surface"
           }
          ],
          "table": [
           {
            "cells": {
             "fill": {
              "color": "#EBF0F8"
             },
             "line": {
              "color": "white"
             }
            },
            "header": {
             "fill": {
              "color": "#C8D4E3"
             },
             "line": {
              "color": "white"
             }
            },
            "type": "table"
           }
          ]
         },
         "layout": {
          "annotationdefaults": {
           "arrowcolor": "#2a3f5f",
           "arrowhead": 0,
           "arrowwidth": 1
          },
          "autotypenumbers": "strict",
          "coloraxis": {
           "colorbar": {
            "outlinewidth": 0,
            "ticks": ""
           }
          },
          "colorscale": {
           "diverging": [
            [
             0,
             "#8e0152"
            ],
            [
             0.1,
             "#c51b7d"
            ],
            [
             0.2,
             "#de77ae"
            ],
            [
             0.3,
             "#f1b6da"
            ],
            [
             0.4,
             "#fde0ef"
            ],
            [
             0.5,
             "#f7f7f7"
            ],
            [
             0.6,
             "#e6f5d0"
            ],
            [
             0.7,
             "#b8e186"
            ],
            [
             0.8,
             "#7fbc41"
            ],
            [
             0.9,
             "#4d9221"
            ],
            [
             1,
             "#276419"
            ]
           ],
           "sequential": [
            [
             0,
             "#0d0887"
            ],
            [
             0.1111111111111111,
             "#46039f"
            ],
            [
             0.2222222222222222,
             "#7201a8"
            ],
            [
             0.3333333333333333,
             "#9c179e"
            ],
            [
             0.4444444444444444,
             "#bd3786"
            ],
            [
             0.5555555555555556,
             "#d8576b"
            ],
            [
             0.6666666666666666,
             "#ed7953"
            ],
            [
             0.7777777777777778,
             "#fb9f3a"
            ],
            [
             0.8888888888888888,
             "#fdca26"
            ],
            [
             1,
             "#f0f921"
            ]
           ],
           "sequentialminus": [
            [
             0,
             "#0d0887"
            ],
            [
             0.1111111111111111,
             "#46039f"
            ],
            [
             0.2222222222222222,
             "#7201a8"
            ],
            [
             0.3333333333333333,
             "#9c179e"
            ],
            [
             0.4444444444444444,
             "#bd3786"
            ],
            [
             0.5555555555555556,
             "#d8576b"
            ],
            [
             0.6666666666666666,
             "#ed7953"
            ],
            [
             0.7777777777777778,
             "#fb9f3a"
            ],
            [
             0.8888888888888888,
             "#fdca26"
            ],
            [
             1,
             "#f0f921"
            ]
           ]
          },
          "colorway": [
           "#636efa",
           "#EF553B",
           "#00cc96",
           "#ab63fa",
           "#FFA15A",
           "#19d3f3",
           "#FF6692",
           "#B6E880",
           "#FF97FF",
           "#FECB52"
          ],
          "font": {
           "color": "#2a3f5f"
          },
          "geo": {
           "bgcolor": "white",
           "lakecolor": "white",
           "landcolor": "#E5ECF6",
           "showlakes": true,
           "showland": true,
           "subunitcolor": "white"
          },
          "hoverlabel": {
           "align": "left"
          },
          "hovermode": "closest",
          "mapbox": {
           "style": "light"
          },
          "paper_bgcolor": "white",
          "plot_bgcolor": "#E5ECF6",
          "polar": {
           "angularaxis": {
            "gridcolor": "white",
            "linecolor": "white",
            "ticks": ""
           },
           "bgcolor": "#E5ECF6",
           "radialaxis": {
            "gridcolor": "white",
            "linecolor": "white",
            "ticks": ""
           }
          },
          "scene": {
           "xaxis": {
            "backgroundcolor": "#E5ECF6",
            "gridcolor": "white",
            "gridwidth": 2,
            "linecolor": "white",
            "showbackground": true,
            "ticks": "",
            "zerolinecolor": "white"
           },
           "yaxis": {
            "backgroundcolor": "#E5ECF6",
            "gridcolor": "white",
            "gridwidth": 2,
            "linecolor": "white",
            "showbackground": true,
            "ticks": "",
            "zerolinecolor": "white"
           },
           "zaxis": {
            "backgroundcolor": "#E5ECF6",
            "gridcolor": "white",
            "gridwidth": 2,
            "linecolor": "white",
            "showbackground": true,
            "ticks": "",
            "zerolinecolor": "white"
           }
          },
          "shapedefaults": {
           "line": {
            "color": "#2a3f5f"
           }
          },
          "ternary": {
           "aaxis": {
            "gridcolor": "white",
            "linecolor": "white",
            "ticks": ""
           },
           "baxis": {
            "gridcolor": "white",
            "linecolor": "white",
            "ticks": ""
           },
           "bgcolor": "#E5ECF6",
           "caxis": {
            "gridcolor": "white",
            "linecolor": "white",
            "ticks": ""
           }
          },
          "title": {
           "x": 0.05
          },
          "xaxis": {
           "automargin": true,
           "gridcolor": "white",
           "linecolor": "white",
           "ticks": "",
           "title": {
            "standoff": 15
           },
           "zerolinecolor": "white",
           "zerolinewidth": 2
          },
          "yaxis": {
           "automargin": true,
           "gridcolor": "white",
           "linecolor": "white",
           "ticks": "",
           "title": {
            "standoff": 15
           },
           "zerolinecolor": "white",
           "zerolinewidth": 2
          }
         }
        },
        "title": {
         "font": {
          "color": "#4D5663"
         }
        },
        "xaxis": {
         "gridcolor": "#E1E5ED",
         "showgrid": true,
         "tickfont": {
          "color": "#4D5663"
         },
         "title": {
          "font": {
           "color": "#4D5663"
          },
          "text": ""
         },
         "zerolinecolor": "#E1E5ED"
        },
        "yaxis": {
         "gridcolor": "#E1E5ED",
         "showgrid": true,
         "tickfont": {
          "color": "#4D5663"
         },
         "title": {
          "font": {
           "color": "#4D5663"
          },
          "text": ""
         },
         "zerolinecolor": "#E1E5ED"
        }
       }
      },
      "text/html": [
       "<div>                            <div id=\"9c7624bb-39c9-421f-99b5-109e14d7d9a8\" class=\"plotly-graph-div\" style=\"height:525px; width:100%;\"></div>            <script type=\"text/javascript\">                require([\"plotly\"], function(Plotly) {                    window.PLOTLYENV=window.PLOTLYENV || {};\n",
       "                    window.PLOTLYENV.BASE_URL='https://plot.ly';                                    if (document.getElementById(\"9c7624bb-39c9-421f-99b5-109e14d7d9a8\")) {                    Plotly.newPlot(                        \"9c7624bb-39c9-421f-99b5-109e14d7d9a8\",                        [{\"marker\":{\"color\":[\"rgb(255, 153, 51)\",\"rgb(55, 128, 191)\",\"rgb(50, 171, 96)\",\"rgb(128, 0, 128)\",\"rgb(219, 64, 82)\",\"rgb(0, 128, 128)\",\"rgb(255, 255, 51)\",\"rgb(128, 128, 0)\",\"rgb(251, 128, 114)\",\"rgb(128, 177, 211)\"],\"line\":{\"width\":1.3},\"size\":[85,53,69,81,88,33,54,55,43,74,73,77,56,67,50,57,43,63,48,58,48,47,65,47,74,69,41,55,73,51,72,47,68,38,96,57,74,69,54,63,71,47,46,64,70,80,37,75,67,79,12,79,64,61,49,47,112,52,69,67,56,81,41,47,61,72,56,46,61,52,35,74,19,55,41,88,54,81,43,46,65,94,78,83,78,38,65,34,67,59,41,29,67,57,58,45,86,59,62,65],\"symbol\":\"circle\"},\"mode\":\"markers\",\"text\":\"\",\"x\":[-0.7211844881720889,-1.460522588285307,2.154948856212787,-0.49761196784253425,0.45284763019750024,-0.2146016535662887,0.6461779730757492,-0.11825227421614609,1.2915518225379228,0.18608916067102835,-1.4874697128735566,-2.674955108446302,0.9190575231032203,-2.5325371551100275,-1.6777824953054545,-0.5467026438923042,0.5889265073259935,0.5713454137445192,-0.7405110737545675,-0.3762010861641179,0.1489885436790522,0.5826629600411326,9.93956133860854e-05,1.3228779971160258,1.548816618475939,1.0493635334616715,-0.41796228792981016,0.17190353418274495,0.26603823982029823,1.7748592869778435,-0.7486339320839377,0.0800193740814564,0.024234150399956793,-1.2542478347818165,0.437098308644309,0.703962364809523,-1.456325016003159,-1.515331912201515,-1.6783903384875147,-0.4105728612305543,-1.609348939801891,0.20873382660773848,1.7185816695607006,1.515224936174814,1.0690785260274,-1.6264240979749063,-0.10391990265168422,-1.0109174745146479,-1.9146061901244,0.8887427941528846,1.1887629381499019,-2.628399663534101,1.4627541154619559,1.2193879796116494,0.03120731155045379,0.19112324160339209,-0.41263213724016684,1.2195646026171014,-0.9357186450127927,-0.7735198800180834,0.7193889197776803,0.6576833793061325,-1.056242381180936,0.09944112179190494,1.0607886466058087,1.7480384469434798,-0.2925634435299589,-2.259658886505214,-1.693429506937218,2.0564346631440666,-0.14075746225916153,1.1671358816250528,-0.5788602987660235,-0.0019086180276748474,-1.9031784355512493,0.6697468613769787,1.2899599026774455,1.0937370716707826,0.2270561295865113,-0.22835157535766273,-0.21301396382913657,0.2796610966082171,0.6150753211568992,-0.8829404665561942,-0.4656916952739058,-0.4252283999883795,0.4855630893895303,0.21391697236657217,-0.24628332366479058,0.1698428083437271,0.4165353423709389,1.0312345779753802,-0.3802955308874277,-0.24345550305773975,-1.6088187152500206,1.362642934270473,0.5659359812206953,-0.08982000068507776,0.13460869031949085,0.07277500218970358],\"y\":[1.9363176963824915,0.783691095069216,-1.1913463628659005,-0.6441276887203147,1.1687904468466739,0.6323414704685131,-1.2191589935127074,-0.2143976718639855,-1.9448875532251129,-0.28376974222916534,1.5782128138754477,-1.8196443931299022,-0.6407499492278539,-0.4211817381995266,0.749816068741311,1.0357869223281948,1.4574441310839379,-0.3042344579582755,0.19723781050623027,-0.5624181531021479,-1.4068385344205947,-1.467133562334591,-0.5674350597043402,-2.129336044404162,1.1758806168946234,-0.16448995704076652,-0.9779043170437532,-0.34597066195963844,0.5646432182256792,1.3236523242202396,0.6072867513938234,-0.568385280381742,-1.1186532483940683,0.30430474772314803,-0.31653229378343317,0.10274254004759957,-0.4004143253747189,-0.5401696407335572,-1.7905406758414422,-0.3447153898348365,0.01640549905721995,1.329803844957976,-0.2838454848295598,-0.7149500718878599,2.131509449259118,-0.20594262819363468,-0.46095460604086497,1.3762460600580146,-0.5315216700601639,0.4330121353014572,-1.0421993308088067,-1.5558986585240033,-1.218392913837334,0.44444621727844846,-0.3033811422910685,-0.2348174161172821,0.6761559094978562,-0.1433003612459205,-0.5021565887281341,-0.5643974865846672,-0.32738588487886683,2.7095465578361577,0.18779561954741292,-0.179442053806397,0.16190622421114106,-0.10631574297220216,-0.9719562551176633,-0.8864656963735614,-1.0971579537801677,0.5703636600272055,0.017455999104761276,0.10764563017514592,0.6674390203404504,-1.5483790010746306,0.7855020724347893,1.0864443237398242,-0.09412775608332852,-0.7155961933081841,2.1220822162796087,0.6706361949388256,-0.5290544807432842,-2.2005054084000197,0.1576792060896083,0.09945177553841868,-1.8392810801254043,-0.9192852920587717,2.4718464231328774,0.2076321039179723,-0.8445272827194005,-0.8008434375387793,-0.007766019613267419,0.5090193899057244,-0.0030644485108717303,1.2109719752722654,-0.8042659230928949,0.0639503553332306,-0.19669717584049626,0.3109834776847498,0.27778199066943177,0.9202818228115818],\"type\":\"scatter\"}],                        {\"legend\":{\"bgcolor\":\"#F5F6F9\",\"font\":{\"color\":\"#4D5663\"}},\"paper_bgcolor\":\"#F5F6F9\",\"plot_bgcolor\":\"#F5F6F9\",\"template\":{\"data\":{\"barpolar\":[{\"marker\":{\"line\":{\"color\":\"#E5ECF6\",\"width\":0.5},\"pattern\":{\"fillmode\":\"overlay\",\"size\":10,\"solidity\":0.2}},\"type\":\"barpolar\"}],\"bar\":[{\"error_x\":{\"color\":\"#2a3f5f\"},\"error_y\":{\"color\":\"#2a3f5f\"},\"marker\":{\"line\":{\"color\":\"#E5ECF6\",\"width\":0.5},\"pattern\":{\"fillmode\":\"overlay\",\"size\":10,\"solidity\":0.2}},\"type\":\"bar\"}],\"carpet\":[{\"aaxis\":{\"endlinecolor\":\"#2a3f5f\",\"gridcolor\":\"white\",\"linecolor\":\"white\",\"minorgridcolor\":\"white\",\"startlinecolor\":\"#2a3f5f\"},\"baxis\":{\"endlinecolor\":\"#2a3f5f\",\"gridcolor\":\"white\",\"linecolor\":\"white\",\"minorgridcolor\":\"white\",\"startlinecolor\":\"#2a3f5f\"},\"type\":\"carpet\"}],\"choropleth\":[{\"colorbar\":{\"outlinewidth\":0,\"ticks\":\"\"},\"type\":\"choropleth\"}],\"contourcarpet\":[{\"colorbar\":{\"outlinewidth\":0,\"ticks\":\"\"},\"type\":\"contourcarpet\"}],\"contour\":[{\"colorbar\":{\"outlinewidth\":0,\"ticks\":\"\"},\"colorscale\":[[0.0,\"#0d0887\"],[0.1111111111111111,\"#46039f\"],[0.2222222222222222,\"#7201a8\"],[0.3333333333333333,\"#9c179e\"],[0.4444444444444444,\"#bd3786\"],[0.5555555555555556,\"#d8576b\"],[0.6666666666666666,\"#ed7953\"],[0.7777777777777778,\"#fb9f3a\"],[0.8888888888888888,\"#fdca26\"],[1.0,\"#f0f921\"]],\"type\":\"contour\"}],\"heatmapgl\":[{\"colorbar\":{\"outlinewidth\":0,\"ticks\":\"\"},\"colorscale\":[[0.0,\"#0d0887\"],[0.1111111111111111,\"#46039f\"],[0.2222222222222222,\"#7201a8\"],[0.3333333333333333,\"#9c179e\"],[0.4444444444444444,\"#bd3786\"],[0.5555555555555556,\"#d8576b\"],[0.6666666666666666,\"#ed7953\"],[0.7777777777777778,\"#fb9f3a\"],[0.8888888888888888,\"#fdca26\"],[1.0,\"#f0f921\"]],\"type\":\"heatmapgl\"}],\"heatmap\":[{\"colorbar\":{\"outlinewidth\":0,\"ticks\":\"\"},\"colorscale\":[[0.0,\"#0d0887\"],[0.1111111111111111,\"#46039f\"],[0.2222222222222222,\"#7201a8\"],[0.3333333333333333,\"#9c179e\"],[0.4444444444444444,\"#bd3786\"],[0.5555555555555556,\"#d8576b\"],[0.6666666666666666,\"#ed7953\"],[0.7777777777777778,\"#fb9f3a\"],[0.8888888888888888,\"#fdca26\"],[1.0,\"#f0f921\"]],\"type\":\"heatmap\"}],\"histogram2dcontour\":[{\"colorbar\":{\"outlinewidth\":0,\"ticks\":\"\"},\"colorscale\":[[0.0,\"#0d0887\"],[0.1111111111111111,\"#46039f\"],[0.2222222222222222,\"#7201a8\"],[0.3333333333333333,\"#9c179e\"],[0.4444444444444444,\"#bd3786\"],[0.5555555555555556,\"#d8576b\"],[0.6666666666666666,\"#ed7953\"],[0.7777777777777778,\"#fb9f3a\"],[0.8888888888888888,\"#fdca26\"],[1.0,\"#f0f921\"]],\"type\":\"histogram2dcontour\"}],\"histogram2d\":[{\"colorbar\":{\"outlinewidth\":0,\"ticks\":\"\"},\"colorscale\":[[0.0,\"#0d0887\"],[0.1111111111111111,\"#46039f\"],[0.2222222222222222,\"#7201a8\"],[0.3333333333333333,\"#9c179e\"],[0.4444444444444444,\"#bd3786\"],[0.5555555555555556,\"#d8576b\"],[0.6666666666666666,\"#ed7953\"],[0.7777777777777778,\"#fb9f3a\"],[0.8888888888888888,\"#fdca26\"],[1.0,\"#f0f921\"]],\"type\":\"histogram2d\"}],\"histogram\":[{\"marker\":{\"pattern\":{\"fillmode\":\"overlay\",\"size\":10,\"solidity\":0.2}},\"type\":\"histogram\"}],\"mesh3d\":[{\"colorbar\":{\"outlinewidth\":0,\"ticks\":\"\"},\"type\":\"mesh3d\"}],\"parcoords\":[{\"line\":{\"colorbar\":{\"outlinewidth\":0,\"ticks\":\"\"}},\"type\":\"parcoords\"}],\"pie\":[{\"automargin\":true,\"type\":\"pie\"}],\"scatter3d\":[{\"line\":{\"colorbar\":{\"outlinewidth\":0,\"ticks\":\"\"}},\"marker\":{\"colorbar\":{\"outlinewidth\":0,\"ticks\":\"\"}},\"type\":\"scatter3d\"}],\"scattercarpet\":[{\"marker\":{\"colorbar\":{\"outlinewidth\":0,\"ticks\":\"\"}},\"type\":\"scattercarpet\"}],\"scattergeo\":[{\"marker\":{\"colorbar\":{\"outlinewidth\":0,\"ticks\":\"\"}},\"type\":\"scattergeo\"}],\"scattergl\":[{\"marker\":{\"colorbar\":{\"outlinewidth\":0,\"ticks\":\"\"}},\"type\":\"scattergl\"}],\"scattermapbox\":[{\"marker\":{\"colorbar\":{\"outlinewidth\":0,\"ticks\":\"\"}},\"type\":\"scattermapbox\"}],\"scatterpolargl\":[{\"marker\":{\"colorbar\":{\"outlinewidth\":0,\"ticks\":\"\"}},\"type\":\"scatterpolargl\"}],\"scatterpolar\":[{\"marker\":{\"colorbar\":{\"outlinewidth\":0,\"ticks\":\"\"}},\"type\":\"scatterpolar\"}],\"scatter\":[{\"marker\":{\"colorbar\":{\"outlinewidth\":0,\"ticks\":\"\"}},\"type\":\"scatter\"}],\"scatterternary\":[{\"marker\":{\"colorbar\":{\"outlinewidth\":0,\"ticks\":\"\"}},\"type\":\"scatterternary\"}],\"surface\":[{\"colorbar\":{\"outlinewidth\":0,\"ticks\":\"\"},\"colorscale\":[[0.0,\"#0d0887\"],[0.1111111111111111,\"#46039f\"],[0.2222222222222222,\"#7201a8\"],[0.3333333333333333,\"#9c179e\"],[0.4444444444444444,\"#bd3786\"],[0.5555555555555556,\"#d8576b\"],[0.6666666666666666,\"#ed7953\"],[0.7777777777777778,\"#fb9f3a\"],[0.8888888888888888,\"#fdca26\"],[1.0,\"#f0f921\"]],\"type\":\"surface\"}],\"table\":[{\"cells\":{\"fill\":{\"color\":\"#EBF0F8\"},\"line\":{\"color\":\"white\"}},\"header\":{\"fill\":{\"color\":\"#C8D4E3\"},\"line\":{\"color\":\"white\"}},\"type\":\"table\"}]},\"layout\":{\"annotationdefaults\":{\"arrowcolor\":\"#2a3f5f\",\"arrowhead\":0,\"arrowwidth\":1},\"autotypenumbers\":\"strict\",\"coloraxis\":{\"colorbar\":{\"outlinewidth\":0,\"ticks\":\"\"}},\"colorscale\":{\"diverging\":[[0,\"#8e0152\"],[0.1,\"#c51b7d\"],[0.2,\"#de77ae\"],[0.3,\"#f1b6da\"],[0.4,\"#fde0ef\"],[0.5,\"#f7f7f7\"],[0.6,\"#e6f5d0\"],[0.7,\"#b8e186\"],[0.8,\"#7fbc41\"],[0.9,\"#4d9221\"],[1,\"#276419\"]],\"sequential\":[[0.0,\"#0d0887\"],[0.1111111111111111,\"#46039f\"],[0.2222222222222222,\"#7201a8\"],[0.3333333333333333,\"#9c179e\"],[0.4444444444444444,\"#bd3786\"],[0.5555555555555556,\"#d8576b\"],[0.6666666666666666,\"#ed7953\"],[0.7777777777777778,\"#fb9f3a\"],[0.8888888888888888,\"#fdca26\"],[1.0,\"#f0f921\"]],\"sequentialminus\":[[0.0,\"#0d0887\"],[0.1111111111111111,\"#46039f\"],[0.2222222222222222,\"#7201a8\"],[0.3333333333333333,\"#9c179e\"],[0.4444444444444444,\"#bd3786\"],[0.5555555555555556,\"#d8576b\"],[0.6666666666666666,\"#ed7953\"],[0.7777777777777778,\"#fb9f3a\"],[0.8888888888888888,\"#fdca26\"],[1.0,\"#f0f921\"]]},\"colorway\":[\"#636efa\",\"#EF553B\",\"#00cc96\",\"#ab63fa\",\"#FFA15A\",\"#19d3f3\",\"#FF6692\",\"#B6E880\",\"#FF97FF\",\"#FECB52\"],\"font\":{\"color\":\"#2a3f5f\"},\"geo\":{\"bgcolor\":\"white\",\"lakecolor\":\"white\",\"landcolor\":\"#E5ECF6\",\"showlakes\":true,\"showland\":true,\"subunitcolor\":\"white\"},\"hoverlabel\":{\"align\":\"left\"},\"hovermode\":\"closest\",\"mapbox\":{\"style\":\"light\"},\"paper_bgcolor\":\"white\",\"plot_bgcolor\":\"#E5ECF6\",\"polar\":{\"angularaxis\":{\"gridcolor\":\"white\",\"linecolor\":\"white\",\"ticks\":\"\"},\"bgcolor\":\"#E5ECF6\",\"radialaxis\":{\"gridcolor\":\"white\",\"linecolor\":\"white\",\"ticks\":\"\"}},\"scene\":{\"xaxis\":{\"backgroundcolor\":\"#E5ECF6\",\"gridcolor\":\"white\",\"gridwidth\":2,\"linecolor\":\"white\",\"showbackground\":true,\"ticks\":\"\",\"zerolinecolor\":\"white\"},\"yaxis\":{\"backgroundcolor\":\"#E5ECF6\",\"gridcolor\":\"white\",\"gridwidth\":2,\"linecolor\":\"white\",\"showbackground\":true,\"ticks\":\"\",\"zerolinecolor\":\"white\"},\"zaxis\":{\"backgroundcolor\":\"#E5ECF6\",\"gridcolor\":\"white\",\"gridwidth\":2,\"linecolor\":\"white\",\"showbackground\":true,\"ticks\":\"\",\"zerolinecolor\":\"white\"}},\"shapedefaults\":{\"line\":{\"color\":\"#2a3f5f\"}},\"ternary\":{\"aaxis\":{\"gridcolor\":\"white\",\"linecolor\":\"white\",\"ticks\":\"\"},\"baxis\":{\"gridcolor\":\"white\",\"linecolor\":\"white\",\"ticks\":\"\"},\"bgcolor\":\"#E5ECF6\",\"caxis\":{\"gridcolor\":\"white\",\"linecolor\":\"white\",\"ticks\":\"\"}},\"title\":{\"x\":0.05},\"xaxis\":{\"automargin\":true,\"gridcolor\":\"white\",\"linecolor\":\"white\",\"ticks\":\"\",\"title\":{\"standoff\":15},\"zerolinecolor\":\"white\",\"zerolinewidth\":2},\"yaxis\":{\"automargin\":true,\"gridcolor\":\"white\",\"linecolor\":\"white\",\"ticks\":\"\",\"title\":{\"standoff\":15},\"zerolinecolor\":\"white\",\"zerolinewidth\":2}}},\"title\":{\"font\":{\"color\":\"#4D5663\"}},\"xaxis\":{\"gridcolor\":\"#E1E5ED\",\"showgrid\":true,\"tickfont\":{\"color\":\"#4D5663\"},\"title\":{\"font\":{\"color\":\"#4D5663\"},\"text\":\"\"},\"zerolinecolor\":\"#E1E5ED\"},\"yaxis\":{\"gridcolor\":\"#E1E5ED\",\"showgrid\":true,\"tickfont\":{\"color\":\"#4D5663\"},\"title\":{\"font\":{\"color\":\"#4D5663\"},\"text\":\"\"},\"zerolinecolor\":\"#E1E5ED\"}},                        {\"showLink\": true, \"linkText\": \"Export to plot.ly\", \"plotlyServerURL\": \"https://plot.ly\", \"responsive\": true}                    ).then(function(){\n",
       "                            \n",
       "var gd = document.getElementById('9c7624bb-39c9-421f-99b5-109e14d7d9a8');\n",
       "var x = new MutationObserver(function (mutations, observer) {{\n",
       "        var display = window.getComputedStyle(gd).display;\n",
       "        if (!display || display === 'none') {{\n",
       "            console.log([gd, 'removed!']);\n",
       "            Plotly.purge(gd);\n",
       "            observer.disconnect();\n",
       "        }}\n",
       "}});\n",
       "\n",
       "// Listen for the removal of the full notebook cells\n",
       "var notebookContainer = gd.closest('#notebook-container');\n",
       "if (notebookContainer) {{\n",
       "    x.observe(notebookContainer, {childList: true});\n",
       "}}\n",
       "\n",
       "// Listen for the clearing of the current output cell\n",
       "var outputEl = gd.closest('.output');\n",
       "if (outputEl) {{\n",
       "    x.observe(outputEl, {childList: true});\n",
       "}}\n",
       "\n",
       "                        })                };                });            </script>        </div>"
      ]
     },
     "metadata": {},
     "output_type": "display_data"
    }
   ],
   "source": [
    "df.iplot(kind='bubble',x='A',y='B',size='C')"
   ]
  },
  {
   "cell_type": "markdown",
   "metadata": {},
   "source": [
    "# Scatter Matrix"
   ]
  },
  {
   "cell_type": "code",
   "execution_count": 18,
   "metadata": {},
   "outputs": [
    {
     "data": {
      "application/vnd.plotly.v1+json": {
       "config": {
        "linkText": "Export to plot.ly",
        "plotlyServerURL": "https://plot.ly",
        "showLink": true
       },
       "data": [
        {
         "histfunc": "count",
         "histnorm": "",
         "marker": {
          "color": "rgba(255, 153, 51, 1.0)",
          "line": {
           "color": "#4D5663",
           "width": 1.3
          }
         },
         "name": "A",
         "nbinsx": 10,
         "opacity": 0.8,
         "orientation": "v",
         "type": "histogram",
         "x": [
          -0.7211844881720889,
          -1.460522588285307,
          2.154948856212787,
          -0.49761196784253425,
          0.45284763019750024,
          -0.2146016535662887,
          0.6461779730757492,
          -0.11825227421614609,
          1.2915518225379228,
          0.18608916067102835,
          -1.4874697128735566,
          -2.674955108446302,
          0.9190575231032203,
          -2.5325371551100275,
          -1.6777824953054545,
          -0.5467026438923042,
          0.5889265073259935,
          0.5713454137445192,
          -0.7405110737545675,
          -0.3762010861641179,
          0.1489885436790522,
          0.5826629600411326,
          9.93956133860854e-05,
          1.3228779971160258,
          1.548816618475939,
          1.0493635334616715,
          -0.41796228792981016,
          0.17190353418274495,
          0.26603823982029823,
          1.7748592869778435,
          -0.7486339320839377,
          0.0800193740814564,
          0.024234150399956793,
          -1.2542478347818165,
          0.437098308644309,
          0.703962364809523,
          -1.456325016003159,
          -1.515331912201515,
          -1.6783903384875147,
          -0.4105728612305543,
          -1.609348939801891,
          0.20873382660773848,
          1.7185816695607006,
          1.515224936174814,
          1.0690785260274,
          -1.6264240979749063,
          -0.10391990265168422,
          -1.0109174745146479,
          -1.9146061901244,
          0.8887427941528846,
          1.1887629381499019,
          -2.628399663534101,
          1.4627541154619559,
          1.2193879796116494,
          0.03120731155045379,
          0.19112324160339209,
          -0.41263213724016684,
          1.2195646026171014,
          -0.9357186450127927,
          -0.7735198800180834,
          0.7193889197776803,
          0.6576833793061325,
          -1.056242381180936,
          0.09944112179190494,
          1.0607886466058087,
          1.7480384469434798,
          -0.2925634435299589,
          -2.259658886505214,
          -1.693429506937218,
          2.0564346631440666,
          -0.14075746225916153,
          1.1671358816250528,
          -0.5788602987660235,
          -0.0019086180276748474,
          -1.9031784355512493,
          0.6697468613769787,
          1.2899599026774455,
          1.0937370716707826,
          0.2270561295865113,
          -0.22835157535766273,
          -0.21301396382913657,
          0.2796610966082171,
          0.6150753211568992,
          -0.8829404665561942,
          -0.4656916952739058,
          -0.4252283999883795,
          0.4855630893895303,
          0.21391697236657217,
          -0.24628332366479058,
          0.1698428083437271,
          0.4165353423709389,
          1.0312345779753802,
          -0.3802955308874277,
          -0.24345550305773975,
          -1.6088187152500206,
          1.362642934270473,
          0.5659359812206953,
          -0.08982000068507776,
          0.13460869031949085,
          0.07277500218970358
         ],
         "xaxis": "x",
         "yaxis": "y"
        },
        {
         "line": {
          "color": "rgba(128, 128, 128, 1.0)",
          "dash": "solid",
          "shape": "linear",
          "width": 1.3
         },
         "marker": {
          "size": 2,
          "symbol": "circle"
         },
         "mode": "markers",
         "name": "A",
         "text": "",
         "type": "scatter",
         "x": [
          1.9363176963824915,
          0.783691095069216,
          -1.1913463628659005,
          -0.6441276887203147,
          1.1687904468466739,
          0.6323414704685131,
          -1.2191589935127074,
          -0.2143976718639855,
          -1.9448875532251129,
          -0.28376974222916534,
          1.5782128138754477,
          -1.8196443931299022,
          -0.6407499492278539,
          -0.4211817381995266,
          0.749816068741311,
          1.0357869223281948,
          1.4574441310839379,
          -0.3042344579582755,
          0.19723781050623027,
          -0.5624181531021479,
          -1.4068385344205947,
          -1.467133562334591,
          -0.5674350597043402,
          -2.129336044404162,
          1.1758806168946234,
          -0.16448995704076652,
          -0.9779043170437532,
          -0.34597066195963844,
          0.5646432182256792,
          1.3236523242202396,
          0.6072867513938234,
          -0.568385280381742,
          -1.1186532483940683,
          0.30430474772314803,
          -0.31653229378343317,
          0.10274254004759957,
          -0.4004143253747189,
          -0.5401696407335572,
          -1.7905406758414422,
          -0.3447153898348365,
          0.01640549905721995,
          1.329803844957976,
          -0.2838454848295598,
          -0.7149500718878599,
          2.131509449259118,
          -0.20594262819363468,
          -0.46095460604086497,
          1.3762460600580146,
          -0.5315216700601639,
          0.4330121353014572,
          -1.0421993308088067,
          -1.5558986585240033,
          -1.218392913837334,
          0.44444621727844846,
          -0.3033811422910685,
          -0.2348174161172821,
          0.6761559094978562,
          -0.1433003612459205,
          -0.5021565887281341,
          -0.5643974865846672,
          -0.32738588487886683,
          2.7095465578361577,
          0.18779561954741292,
          -0.179442053806397,
          0.16190622421114106,
          -0.10631574297220216,
          -0.9719562551176633,
          -0.8864656963735614,
          -1.0971579537801677,
          0.5703636600272055,
          0.017455999104761276,
          0.10764563017514592,
          0.6674390203404504,
          -1.5483790010746306,
          0.7855020724347893,
          1.0864443237398242,
          -0.09412775608332852,
          -0.7155961933081841,
          2.1220822162796087,
          0.6706361949388256,
          -0.5290544807432842,
          -2.2005054084000197,
          0.1576792060896083,
          0.09945177553841868,
          -1.8392810801254043,
          -0.9192852920587717,
          2.4718464231328774,
          0.2076321039179723,
          -0.8445272827194005,
          -0.8008434375387793,
          -0.007766019613267419,
          0.5090193899057244,
          -0.0030644485108717303,
          1.2109719752722654,
          -0.8042659230928949,
          0.0639503553332306,
          -0.19669717584049626,
          0.3109834776847498,
          0.27778199066943177,
          0.9202818228115818
         ],
         "xaxis": "x2",
         "y": [
          -0.7211844881720889,
          -1.460522588285307,
          2.154948856212787,
          -0.49761196784253425,
          0.45284763019750024,
          -0.2146016535662887,
          0.6461779730757492,
          -0.11825227421614609,
          1.2915518225379228,
          0.18608916067102835,
          -1.4874697128735566,
          -2.674955108446302,
          0.9190575231032203,
          -2.5325371551100275,
          -1.6777824953054545,
          -0.5467026438923042,
          0.5889265073259935,
          0.5713454137445192,
          -0.7405110737545675,
          -0.3762010861641179,
          0.1489885436790522,
          0.5826629600411326,
          9.93956133860854e-05,
          1.3228779971160258,
          1.548816618475939,
          1.0493635334616715,
          -0.41796228792981016,
          0.17190353418274495,
          0.26603823982029823,
          1.7748592869778435,
          -0.7486339320839377,
          0.0800193740814564,
          0.024234150399956793,
          -1.2542478347818165,
          0.437098308644309,
          0.703962364809523,
          -1.456325016003159,
          -1.515331912201515,
          -1.6783903384875147,
          -0.4105728612305543,
          -1.609348939801891,
          0.20873382660773848,
          1.7185816695607006,
          1.515224936174814,
          1.0690785260274,
          -1.6264240979749063,
          -0.10391990265168422,
          -1.0109174745146479,
          -1.9146061901244,
          0.8887427941528846,
          1.1887629381499019,
          -2.628399663534101,
          1.4627541154619559,
          1.2193879796116494,
          0.03120731155045379,
          0.19112324160339209,
          -0.41263213724016684,
          1.2195646026171014,
          -0.9357186450127927,
          -0.7735198800180834,
          0.7193889197776803,
          0.6576833793061325,
          -1.056242381180936,
          0.09944112179190494,
          1.0607886466058087,
          1.7480384469434798,
          -0.2925634435299589,
          -2.259658886505214,
          -1.693429506937218,
          2.0564346631440666,
          -0.14075746225916153,
          1.1671358816250528,
          -0.5788602987660235,
          -0.0019086180276748474,
          -1.9031784355512493,
          0.6697468613769787,
          1.2899599026774455,
          1.0937370716707826,
          0.2270561295865113,
          -0.22835157535766273,
          -0.21301396382913657,
          0.2796610966082171,
          0.6150753211568992,
          -0.8829404665561942,
          -0.4656916952739058,
          -0.4252283999883795,
          0.4855630893895303,
          0.21391697236657217,
          -0.24628332366479058,
          0.1698428083437271,
          0.4165353423709389,
          1.0312345779753802,
          -0.3802955308874277,
          -0.24345550305773975,
          -1.6088187152500206,
          1.362642934270473,
          0.5659359812206953,
          -0.08982000068507776,
          0.13460869031949085,
          0.07277500218970358
         ],
         "yaxis": "y2"
        },
        {
         "line": {
          "color": "rgba(128, 128, 128, 1.0)",
          "dash": "solid",
          "shape": "linear",
          "width": 1.3
         },
         "marker": {
          "size": 2,
          "symbol": "circle"
         },
         "mode": "markers",
         "name": "A",
         "text": "",
         "type": "scatter",
         "x": [
          1.4859017289979828,
          -0.33882624051823435,
          0.5643405958898692,
          1.2614884985758812,
          1.6779225026293678,
          -1.5007675294668912,
          -0.3133709553042308,
          -0.24881116987413524,
          -0.8984296938782744,
          0.8517918517884915,
          0.7914783840592418,
          1.0118561818366778,
          -0.16940827506921166,
          0.48119272683245096,
          -0.5302480006131105,
          -0.12596380055710518,
          -0.914482692452627,
          0.2430324564669559,
          -0.6271456877220737,
          -0.039243873746583474,
          -0.624373521737248,
          -0.7011493076273844,
          0.34747903798741425,
          -0.703721067051155,
          0.8724572241803034,
          0.5465326745477941,
          -1.0166519623938672,
          -0.22250238064915695,
          0.7798878940201981,
          -0.47769775108492524,
          0.7515736123635777,
          -0.7065355298480203,
          0.5293249332023787,
          -1.1892173218761193,
          2.1194522888672753,
          -0.10986125717974393,
          0.8791148594632846,
          0.5460438641241416,
          -0.30489535972538856,
          0.22483542272608617,
          0.6888768183285222,
          -0.6729712777178668,
          -0.7300028071817591,
          0.2679722597855181,
          0.6035977345794945,
          1.180301839137286,
          -1.2760752780811426,
          0.9142491827677313,
          0.4425859047930506,
          1.154320087707713,
          -2.735241340135281,
          1.1364550696252336,
          0.3001807224411202,
          0.12550119080175973,
          -0.5560080144457152,
          -0.693293437527863,
          3.0194991712263026,
          -0.4262567543938785,
          0.5764953151360391,
          0.45139734451565655,
          -0.167279095942579,
          1.2692271053324897,
          -1.019028606681503,
          -0.6739974262146932,
          0.08992637211206918,
          0.7261097008800064,
          -0.17338081937656077,
          -0.7215243294097896,
          0.09804193397711113,
          -0.42254823205487335,
          -1.3675350240945991,
          0.8495984942986297,
          -2.331481960731101,
          -0.255456500873279,
          -1.0621376786949863,
          1.672461134218411,
          -0.27760778046229584,
          1.2612127949309468,
          -0.9445409907916669,
          -0.7510247839559636,
          0.3586429710448984,
          2.0143853340331566,
          1.0897052639120521,
          1.3917973240762471,
          1.0649228888781936,
          -1.1921019278896943,
          0.3584927758114282,
          -1.446003874283754,
          0.4617132803189797,
          0.022046213056134613,
          -1.0258203592039308,
          -1.7522236855261502,
          0.4623225073343496,
          -0.12079620716968513,
          -0.07238179439131184,
          -0.8239656021056064,
          1.5573934006047707,
          0.011873561422134572,
          0.1454108215874784,
          0.3194758145951463
         ],
         "xaxis": "x3",
         "y": [
          -0.7211844881720889,
          -1.460522588285307,
          2.154948856212787,
          -0.49761196784253425,
          0.45284763019750024,
          -0.2146016535662887,
          0.6461779730757492,
          -0.11825227421614609,
          1.2915518225379228,
          0.18608916067102835,
          -1.4874697128735566,
          -2.674955108446302,
          0.9190575231032203,
          -2.5325371551100275,
          -1.6777824953054545,
          -0.5467026438923042,
          0.5889265073259935,
          0.5713454137445192,
          -0.7405110737545675,
          -0.3762010861641179,
          0.1489885436790522,
          0.5826629600411326,
          9.93956133860854e-05,
          1.3228779971160258,
          1.548816618475939,
          1.0493635334616715,
          -0.41796228792981016,
          0.17190353418274495,
          0.26603823982029823,
          1.7748592869778435,
          -0.7486339320839377,
          0.0800193740814564,
          0.024234150399956793,
          -1.2542478347818165,
          0.437098308644309,
          0.703962364809523,
          -1.456325016003159,
          -1.515331912201515,
          -1.6783903384875147,
          -0.4105728612305543,
          -1.609348939801891,
          0.20873382660773848,
          1.7185816695607006,
          1.515224936174814,
          1.0690785260274,
          -1.6264240979749063,
          -0.10391990265168422,
          -1.0109174745146479,
          -1.9146061901244,
          0.8887427941528846,
          1.1887629381499019,
          -2.628399663534101,
          1.4627541154619559,
          1.2193879796116494,
          0.03120731155045379,
          0.19112324160339209,
          -0.41263213724016684,
          1.2195646026171014,
          -0.9357186450127927,
          -0.7735198800180834,
          0.7193889197776803,
          0.6576833793061325,
          -1.056242381180936,
          0.09944112179190494,
          1.0607886466058087,
          1.7480384469434798,
          -0.2925634435299589,
          -2.259658886505214,
          -1.693429506937218,
          2.0564346631440666,
          -0.14075746225916153,
          1.1671358816250528,
          -0.5788602987660235,
          -0.0019086180276748474,
          -1.9031784355512493,
          0.6697468613769787,
          1.2899599026774455,
          1.0937370716707826,
          0.2270561295865113,
          -0.22835157535766273,
          -0.21301396382913657,
          0.2796610966082171,
          0.6150753211568992,
          -0.8829404665561942,
          -0.4656916952739058,
          -0.4252283999883795,
          0.4855630893895303,
          0.21391697236657217,
          -0.24628332366479058,
          0.1698428083437271,
          0.4165353423709389,
          1.0312345779753802,
          -0.3802955308874277,
          -0.24345550305773975,
          -1.6088187152500206,
          1.362642934270473,
          0.5659359812206953,
          -0.08982000068507776,
          0.13460869031949085,
          0.07277500218970358
         ],
         "yaxis": "y3"
        },
        {
         "line": {
          "color": "rgba(128, 128, 128, 1.0)",
          "dash": "solid",
          "shape": "linear",
          "width": 1.3
         },
         "marker": {
          "size": 2,
          "symbol": "circle"
         },
         "mode": "markers",
         "name": "A",
         "text": "",
         "type": "scatter",
         "x": [
          -1.4248961080733737,
          -0.3273423015501189,
          -1.251243272904655,
          0.03571868360370304,
          -0.8831359287118566,
          -0.4570458265199517,
          0.6669520968804289,
          0.12954797107100285,
          -1.1872784105353085,
          -1.0788534706921908,
          0.30414595111300274,
          -0.5808001420568194,
          0.7181559955419363,
          0.06431165990781074,
          0.4849600848179319,
          1.4650669998186705,
          0.3674900679512842,
          0.4659875208335856,
          1.8188709506352152,
          -2.4086829521242197,
          0.14269415469329055,
          -0.8986756621656249,
          0.24858640874522073,
          -0.6666710092100481,
          0.5312821075428688,
          0.6019372930953827,
          -0.8785566114030708,
          0.681347037704834,
          -0.5275682348277461,
          0.5224893317843847,
          -0.4632983081749662,
          0.11455424289896247,
          -0.5877204962503827,
          -0.2727428023361453,
          0.11871099006403349,
          -0.012220458087781596,
          -0.3418858101884144,
          -0.1701824065150667,
          0.19866144793597726,
          2.2346940769277372,
          0.2699534923198242,
          1.4952770521817178,
          1.9779450932749005,
          -0.1573965657928153,
          0.21480268763970578,
          -0.014537958815027823,
          0.9464220940372752,
          0.6011294964228965,
          -0.5791683004735586,
          -0.14674788751325316,
          0.742208864305391,
          0.5414212853423049,
          -0.9944259857720036,
          -0.2959846855161765,
          0.23580701543961627,
          -1.6600227313443063,
          -0.9233777628566187,
          -0.5238750058782555,
          -2.993809512427146,
          -0.8172655557837051,
          -0.29137604806023587,
          -0.2996317587288255,
          -0.5762542829528886,
          -1.4475470129302017,
          0.7626889846818631,
          -0.11586394220813491,
          0.7333320422309404,
          0.2631279090696038,
          0.15528968037263927,
          -0.4027569275919533,
          1.2364870960612364,
          1.1247560994972394,
          0.158400504315808,
          -0.8953734151597598,
          0.029924998471448666,
          1.0348887702004474,
          -0.08442864675348455,
          2.5868485824131993,
          1.117124451409192,
          -0.8021254788163592,
          1.3609419169157688,
          -0.9939500139315293,
          0.5130557561569394,
          -1.2397896504581485,
          -0.24837163218103428,
          -0.3698617259191884,
          -1.0388166503324645,
          0.9790966570987323,
          -0.11488459891479715,
          0.49015055617855424,
          -0.25275398163526946,
          1.1848213764718107,
          0.23659704857385866,
          -0.2719241288569037,
          1.325505481258998,
          -1.3312249257331565,
          1.2051807720165935,
          0.5847206558372181,
          0.06900031359470782,
          1.0132343277241416
         ],
         "xaxis": "x4",
         "y": [
          -0.7211844881720889,
          -1.460522588285307,
          2.154948856212787,
          -0.49761196784253425,
          0.45284763019750024,
          -0.2146016535662887,
          0.6461779730757492,
          -0.11825227421614609,
          1.2915518225379228,
          0.18608916067102835,
          -1.4874697128735566,
          -2.674955108446302,
          0.9190575231032203,
          -2.5325371551100275,
          -1.6777824953054545,
          -0.5467026438923042,
          0.5889265073259935,
          0.5713454137445192,
          -0.7405110737545675,
          -0.3762010861641179,
          0.1489885436790522,
          0.5826629600411326,
          9.93956133860854e-05,
          1.3228779971160258,
          1.548816618475939,
          1.0493635334616715,
          -0.41796228792981016,
          0.17190353418274495,
          0.26603823982029823,
          1.7748592869778435,
          -0.7486339320839377,
          0.0800193740814564,
          0.024234150399956793,
          -1.2542478347818165,
          0.437098308644309,
          0.703962364809523,
          -1.456325016003159,
          -1.515331912201515,
          -1.6783903384875147,
          -0.4105728612305543,
          -1.609348939801891,
          0.20873382660773848,
          1.7185816695607006,
          1.515224936174814,
          1.0690785260274,
          -1.6264240979749063,
          -0.10391990265168422,
          -1.0109174745146479,
          -1.9146061901244,
          0.8887427941528846,
          1.1887629381499019,
          -2.628399663534101,
          1.4627541154619559,
          1.2193879796116494,
          0.03120731155045379,
          0.19112324160339209,
          -0.41263213724016684,
          1.2195646026171014,
          -0.9357186450127927,
          -0.7735198800180834,
          0.7193889197776803,
          0.6576833793061325,
          -1.056242381180936,
          0.09944112179190494,
          1.0607886466058087,
          1.7480384469434798,
          -0.2925634435299589,
          -2.259658886505214,
          -1.693429506937218,
          2.0564346631440666,
          -0.14075746225916153,
          1.1671358816250528,
          -0.5788602987660235,
          -0.0019086180276748474,
          -1.9031784355512493,
          0.6697468613769787,
          1.2899599026774455,
          1.0937370716707826,
          0.2270561295865113,
          -0.22835157535766273,
          -0.21301396382913657,
          0.2796610966082171,
          0.6150753211568992,
          -0.8829404665561942,
          -0.4656916952739058,
          -0.4252283999883795,
          0.4855630893895303,
          0.21391697236657217,
          -0.24628332366479058,
          0.1698428083437271,
          0.4165353423709389,
          1.0312345779753802,
          -0.3802955308874277,
          -0.24345550305773975,
          -1.6088187152500206,
          1.362642934270473,
          0.5659359812206953,
          -0.08982000068507776,
          0.13460869031949085,
          0.07277500218970358
         ],
         "yaxis": "y4"
        },
        {
         "line": {
          "color": "rgba(128, 128, 128, 1.0)",
          "dash": "solid",
          "shape": "linear",
          "width": 1.3
         },
         "marker": {
          "size": 2,
          "symbol": "circle"
         },
         "mode": "markers",
         "name": "B",
         "text": "",
         "type": "scatter",
         "x": [
          -0.7211844881720889,
          -1.460522588285307,
          2.154948856212787,
          -0.49761196784253425,
          0.45284763019750024,
          -0.2146016535662887,
          0.6461779730757492,
          -0.11825227421614609,
          1.2915518225379228,
          0.18608916067102835,
          -1.4874697128735566,
          -2.674955108446302,
          0.9190575231032203,
          -2.5325371551100275,
          -1.6777824953054545,
          -0.5467026438923042,
          0.5889265073259935,
          0.5713454137445192,
          -0.7405110737545675,
          -0.3762010861641179,
          0.1489885436790522,
          0.5826629600411326,
          9.93956133860854e-05,
          1.3228779971160258,
          1.548816618475939,
          1.0493635334616715,
          -0.41796228792981016,
          0.17190353418274495,
          0.26603823982029823,
          1.7748592869778435,
          -0.7486339320839377,
          0.0800193740814564,
          0.024234150399956793,
          -1.2542478347818165,
          0.437098308644309,
          0.703962364809523,
          -1.456325016003159,
          -1.515331912201515,
          -1.6783903384875147,
          -0.4105728612305543,
          -1.609348939801891,
          0.20873382660773848,
          1.7185816695607006,
          1.515224936174814,
          1.0690785260274,
          -1.6264240979749063,
          -0.10391990265168422,
          -1.0109174745146479,
          -1.9146061901244,
          0.8887427941528846,
          1.1887629381499019,
          -2.628399663534101,
          1.4627541154619559,
          1.2193879796116494,
          0.03120731155045379,
          0.19112324160339209,
          -0.41263213724016684,
          1.2195646026171014,
          -0.9357186450127927,
          -0.7735198800180834,
          0.7193889197776803,
          0.6576833793061325,
          -1.056242381180936,
          0.09944112179190494,
          1.0607886466058087,
          1.7480384469434798,
          -0.2925634435299589,
          -2.259658886505214,
          -1.693429506937218,
          2.0564346631440666,
          -0.14075746225916153,
          1.1671358816250528,
          -0.5788602987660235,
          -0.0019086180276748474,
          -1.9031784355512493,
          0.6697468613769787,
          1.2899599026774455,
          1.0937370716707826,
          0.2270561295865113,
          -0.22835157535766273,
          -0.21301396382913657,
          0.2796610966082171,
          0.6150753211568992,
          -0.8829404665561942,
          -0.4656916952739058,
          -0.4252283999883795,
          0.4855630893895303,
          0.21391697236657217,
          -0.24628332366479058,
          0.1698428083437271,
          0.4165353423709389,
          1.0312345779753802,
          -0.3802955308874277,
          -0.24345550305773975,
          -1.6088187152500206,
          1.362642934270473,
          0.5659359812206953,
          -0.08982000068507776,
          0.13460869031949085,
          0.07277500218970358
         ],
         "xaxis": "x5",
         "y": [
          1.9363176963824915,
          0.783691095069216,
          -1.1913463628659005,
          -0.6441276887203147,
          1.1687904468466739,
          0.6323414704685131,
          -1.2191589935127074,
          -0.2143976718639855,
          -1.9448875532251129,
          -0.28376974222916534,
          1.5782128138754477,
          -1.8196443931299022,
          -0.6407499492278539,
          -0.4211817381995266,
          0.749816068741311,
          1.0357869223281948,
          1.4574441310839379,
          -0.3042344579582755,
          0.19723781050623027,
          -0.5624181531021479,
          -1.4068385344205947,
          -1.467133562334591,
          -0.5674350597043402,
          -2.129336044404162,
          1.1758806168946234,
          -0.16448995704076652,
          -0.9779043170437532,
          -0.34597066195963844,
          0.5646432182256792,
          1.3236523242202396,
          0.6072867513938234,
          -0.568385280381742,
          -1.1186532483940683,
          0.30430474772314803,
          -0.31653229378343317,
          0.10274254004759957,
          -0.4004143253747189,
          -0.5401696407335572,
          -1.7905406758414422,
          -0.3447153898348365,
          0.01640549905721995,
          1.329803844957976,
          -0.2838454848295598,
          -0.7149500718878599,
          2.131509449259118,
          -0.20594262819363468,
          -0.46095460604086497,
          1.3762460600580146,
          -0.5315216700601639,
          0.4330121353014572,
          -1.0421993308088067,
          -1.5558986585240033,
          -1.218392913837334,
          0.44444621727844846,
          -0.3033811422910685,
          -0.2348174161172821,
          0.6761559094978562,
          -0.1433003612459205,
          -0.5021565887281341,
          -0.5643974865846672,
          -0.32738588487886683,
          2.7095465578361577,
          0.18779561954741292,
          -0.179442053806397,
          0.16190622421114106,
          -0.10631574297220216,
          -0.9719562551176633,
          -0.8864656963735614,
          -1.0971579537801677,
          0.5703636600272055,
          0.017455999104761276,
          0.10764563017514592,
          0.6674390203404504,
          -1.5483790010746306,
          0.7855020724347893,
          1.0864443237398242,
          -0.09412775608332852,
          -0.7155961933081841,
          2.1220822162796087,
          0.6706361949388256,
          -0.5290544807432842,
          -2.2005054084000197,
          0.1576792060896083,
          0.09945177553841868,
          -1.8392810801254043,
          -0.9192852920587717,
          2.4718464231328774,
          0.2076321039179723,
          -0.8445272827194005,
          -0.8008434375387793,
          -0.007766019613267419,
          0.5090193899057244,
          -0.0030644485108717303,
          1.2109719752722654,
          -0.8042659230928949,
          0.0639503553332306,
          -0.19669717584049626,
          0.3109834776847498,
          0.27778199066943177,
          0.9202818228115818
         ],
         "yaxis": "y5"
        },
        {
         "histfunc": "count",
         "histnorm": "",
         "marker": {
          "color": "rgba(55, 128, 191, 1.0)",
          "line": {
           "color": "#4D5663",
           "width": 1.3
          }
         },
         "name": "B",
         "nbinsx": 10,
         "opacity": 0.8,
         "orientation": "v",
         "type": "histogram",
         "x": [
          1.9363176963824915,
          0.783691095069216,
          -1.1913463628659005,
          -0.6441276887203147,
          1.1687904468466739,
          0.6323414704685131,
          -1.2191589935127074,
          -0.2143976718639855,
          -1.9448875532251129,
          -0.28376974222916534,
          1.5782128138754477,
          -1.8196443931299022,
          -0.6407499492278539,
          -0.4211817381995266,
          0.749816068741311,
          1.0357869223281948,
          1.4574441310839379,
          -0.3042344579582755,
          0.19723781050623027,
          -0.5624181531021479,
          -1.4068385344205947,
          -1.467133562334591,
          -0.5674350597043402,
          -2.129336044404162,
          1.1758806168946234,
          -0.16448995704076652,
          -0.9779043170437532,
          -0.34597066195963844,
          0.5646432182256792,
          1.3236523242202396,
          0.6072867513938234,
          -0.568385280381742,
          -1.1186532483940683,
          0.30430474772314803,
          -0.31653229378343317,
          0.10274254004759957,
          -0.4004143253747189,
          -0.5401696407335572,
          -1.7905406758414422,
          -0.3447153898348365,
          0.01640549905721995,
          1.329803844957976,
          -0.2838454848295598,
          -0.7149500718878599,
          2.131509449259118,
          -0.20594262819363468,
          -0.46095460604086497,
          1.3762460600580146,
          -0.5315216700601639,
          0.4330121353014572,
          -1.0421993308088067,
          -1.5558986585240033,
          -1.218392913837334,
          0.44444621727844846,
          -0.3033811422910685,
          -0.2348174161172821,
          0.6761559094978562,
          -0.1433003612459205,
          -0.5021565887281341,
          -0.5643974865846672,
          -0.32738588487886683,
          2.7095465578361577,
          0.18779561954741292,
          -0.179442053806397,
          0.16190622421114106,
          -0.10631574297220216,
          -0.9719562551176633,
          -0.8864656963735614,
          -1.0971579537801677,
          0.5703636600272055,
          0.017455999104761276,
          0.10764563017514592,
          0.6674390203404504,
          -1.5483790010746306,
          0.7855020724347893,
          1.0864443237398242,
          -0.09412775608332852,
          -0.7155961933081841,
          2.1220822162796087,
          0.6706361949388256,
          -0.5290544807432842,
          -2.2005054084000197,
          0.1576792060896083,
          0.09945177553841868,
          -1.8392810801254043,
          -0.9192852920587717,
          2.4718464231328774,
          0.2076321039179723,
          -0.8445272827194005,
          -0.8008434375387793,
          -0.007766019613267419,
          0.5090193899057244,
          -0.0030644485108717303,
          1.2109719752722654,
          -0.8042659230928949,
          0.0639503553332306,
          -0.19669717584049626,
          0.3109834776847498,
          0.27778199066943177,
          0.9202818228115818
         ],
         "xaxis": "x6",
         "yaxis": "y6"
        },
        {
         "line": {
          "color": "rgba(128, 128, 128, 1.0)",
          "dash": "solid",
          "shape": "linear",
          "width": 1.3
         },
         "marker": {
          "size": 2,
          "symbol": "circle"
         },
         "mode": "markers",
         "name": "B",
         "text": "",
         "type": "scatter",
         "x": [
          1.4859017289979828,
          -0.33882624051823435,
          0.5643405958898692,
          1.2614884985758812,
          1.6779225026293678,
          -1.5007675294668912,
          -0.3133709553042308,
          -0.24881116987413524,
          -0.8984296938782744,
          0.8517918517884915,
          0.7914783840592418,
          1.0118561818366778,
          -0.16940827506921166,
          0.48119272683245096,
          -0.5302480006131105,
          -0.12596380055710518,
          -0.914482692452627,
          0.2430324564669559,
          -0.6271456877220737,
          -0.039243873746583474,
          -0.624373521737248,
          -0.7011493076273844,
          0.34747903798741425,
          -0.703721067051155,
          0.8724572241803034,
          0.5465326745477941,
          -1.0166519623938672,
          -0.22250238064915695,
          0.7798878940201981,
          -0.47769775108492524,
          0.7515736123635777,
          -0.7065355298480203,
          0.5293249332023787,
          -1.1892173218761193,
          2.1194522888672753,
          -0.10986125717974393,
          0.8791148594632846,
          0.5460438641241416,
          -0.30489535972538856,
          0.22483542272608617,
          0.6888768183285222,
          -0.6729712777178668,
          -0.7300028071817591,
          0.2679722597855181,
          0.6035977345794945,
          1.180301839137286,
          -1.2760752780811426,
          0.9142491827677313,
          0.4425859047930506,
          1.154320087707713,
          -2.735241340135281,
          1.1364550696252336,
          0.3001807224411202,
          0.12550119080175973,
          -0.5560080144457152,
          -0.693293437527863,
          3.0194991712263026,
          -0.4262567543938785,
          0.5764953151360391,
          0.45139734451565655,
          -0.167279095942579,
          1.2692271053324897,
          -1.019028606681503,
          -0.6739974262146932,
          0.08992637211206918,
          0.7261097008800064,
          -0.17338081937656077,
          -0.7215243294097896,
          0.09804193397711113,
          -0.42254823205487335,
          -1.3675350240945991,
          0.8495984942986297,
          -2.331481960731101,
          -0.255456500873279,
          -1.0621376786949863,
          1.672461134218411,
          -0.27760778046229584,
          1.2612127949309468,
          -0.9445409907916669,
          -0.7510247839559636,
          0.3586429710448984,
          2.0143853340331566,
          1.0897052639120521,
          1.3917973240762471,
          1.0649228888781936,
          -1.1921019278896943,
          0.3584927758114282,
          -1.446003874283754,
          0.4617132803189797,
          0.022046213056134613,
          -1.0258203592039308,
          -1.7522236855261502,
          0.4623225073343496,
          -0.12079620716968513,
          -0.07238179439131184,
          -0.8239656021056064,
          1.5573934006047707,
          0.011873561422134572,
          0.1454108215874784,
          0.3194758145951463
         ],
         "xaxis": "x7",
         "y": [
          1.9363176963824915,
          0.783691095069216,
          -1.1913463628659005,
          -0.6441276887203147,
          1.1687904468466739,
          0.6323414704685131,
          -1.2191589935127074,
          -0.2143976718639855,
          -1.9448875532251129,
          -0.28376974222916534,
          1.5782128138754477,
          -1.8196443931299022,
          -0.6407499492278539,
          -0.4211817381995266,
          0.749816068741311,
          1.0357869223281948,
          1.4574441310839379,
          -0.3042344579582755,
          0.19723781050623027,
          -0.5624181531021479,
          -1.4068385344205947,
          -1.467133562334591,
          -0.5674350597043402,
          -2.129336044404162,
          1.1758806168946234,
          -0.16448995704076652,
          -0.9779043170437532,
          -0.34597066195963844,
          0.5646432182256792,
          1.3236523242202396,
          0.6072867513938234,
          -0.568385280381742,
          -1.1186532483940683,
          0.30430474772314803,
          -0.31653229378343317,
          0.10274254004759957,
          -0.4004143253747189,
          -0.5401696407335572,
          -1.7905406758414422,
          -0.3447153898348365,
          0.01640549905721995,
          1.329803844957976,
          -0.2838454848295598,
          -0.7149500718878599,
          2.131509449259118,
          -0.20594262819363468,
          -0.46095460604086497,
          1.3762460600580146,
          -0.5315216700601639,
          0.4330121353014572,
          -1.0421993308088067,
          -1.5558986585240033,
          -1.218392913837334,
          0.44444621727844846,
          -0.3033811422910685,
          -0.2348174161172821,
          0.6761559094978562,
          -0.1433003612459205,
          -0.5021565887281341,
          -0.5643974865846672,
          -0.32738588487886683,
          2.7095465578361577,
          0.18779561954741292,
          -0.179442053806397,
          0.16190622421114106,
          -0.10631574297220216,
          -0.9719562551176633,
          -0.8864656963735614,
          -1.0971579537801677,
          0.5703636600272055,
          0.017455999104761276,
          0.10764563017514592,
          0.6674390203404504,
          -1.5483790010746306,
          0.7855020724347893,
          1.0864443237398242,
          -0.09412775608332852,
          -0.7155961933081841,
          2.1220822162796087,
          0.6706361949388256,
          -0.5290544807432842,
          -2.2005054084000197,
          0.1576792060896083,
          0.09945177553841868,
          -1.8392810801254043,
          -0.9192852920587717,
          2.4718464231328774,
          0.2076321039179723,
          -0.8445272827194005,
          -0.8008434375387793,
          -0.007766019613267419,
          0.5090193899057244,
          -0.0030644485108717303,
          1.2109719752722654,
          -0.8042659230928949,
          0.0639503553332306,
          -0.19669717584049626,
          0.3109834776847498,
          0.27778199066943177,
          0.9202818228115818
         ],
         "yaxis": "y7"
        },
        {
         "line": {
          "color": "rgba(128, 128, 128, 1.0)",
          "dash": "solid",
          "shape": "linear",
          "width": 1.3
         },
         "marker": {
          "size": 2,
          "symbol": "circle"
         },
         "mode": "markers",
         "name": "B",
         "text": "",
         "type": "scatter",
         "x": [
          -1.4248961080733737,
          -0.3273423015501189,
          -1.251243272904655,
          0.03571868360370304,
          -0.8831359287118566,
          -0.4570458265199517,
          0.6669520968804289,
          0.12954797107100285,
          -1.1872784105353085,
          -1.0788534706921908,
          0.30414595111300274,
          -0.5808001420568194,
          0.7181559955419363,
          0.06431165990781074,
          0.4849600848179319,
          1.4650669998186705,
          0.3674900679512842,
          0.4659875208335856,
          1.8188709506352152,
          -2.4086829521242197,
          0.14269415469329055,
          -0.8986756621656249,
          0.24858640874522073,
          -0.6666710092100481,
          0.5312821075428688,
          0.6019372930953827,
          -0.8785566114030708,
          0.681347037704834,
          -0.5275682348277461,
          0.5224893317843847,
          -0.4632983081749662,
          0.11455424289896247,
          -0.5877204962503827,
          -0.2727428023361453,
          0.11871099006403349,
          -0.012220458087781596,
          -0.3418858101884144,
          -0.1701824065150667,
          0.19866144793597726,
          2.2346940769277372,
          0.2699534923198242,
          1.4952770521817178,
          1.9779450932749005,
          -0.1573965657928153,
          0.21480268763970578,
          -0.014537958815027823,
          0.9464220940372752,
          0.6011294964228965,
          -0.5791683004735586,
          -0.14674788751325316,
          0.742208864305391,
          0.5414212853423049,
          -0.9944259857720036,
          -0.2959846855161765,
          0.23580701543961627,
          -1.6600227313443063,
          -0.9233777628566187,
          -0.5238750058782555,
          -2.993809512427146,
          -0.8172655557837051,
          -0.29137604806023587,
          -0.2996317587288255,
          -0.5762542829528886,
          -1.4475470129302017,
          0.7626889846818631,
          -0.11586394220813491,
          0.7333320422309404,
          0.2631279090696038,
          0.15528968037263927,
          -0.4027569275919533,
          1.2364870960612364,
          1.1247560994972394,
          0.158400504315808,
          -0.8953734151597598,
          0.029924998471448666,
          1.0348887702004474,
          -0.08442864675348455,
          2.5868485824131993,
          1.117124451409192,
          -0.8021254788163592,
          1.3609419169157688,
          -0.9939500139315293,
          0.5130557561569394,
          -1.2397896504581485,
          -0.24837163218103428,
          -0.3698617259191884,
          -1.0388166503324645,
          0.9790966570987323,
          -0.11488459891479715,
          0.49015055617855424,
          -0.25275398163526946,
          1.1848213764718107,
          0.23659704857385866,
          -0.2719241288569037,
          1.325505481258998,
          -1.3312249257331565,
          1.2051807720165935,
          0.5847206558372181,
          0.06900031359470782,
          1.0132343277241416
         ],
         "xaxis": "x8",
         "y": [
          1.9363176963824915,
          0.783691095069216,
          -1.1913463628659005,
          -0.6441276887203147,
          1.1687904468466739,
          0.6323414704685131,
          -1.2191589935127074,
          -0.2143976718639855,
          -1.9448875532251129,
          -0.28376974222916534,
          1.5782128138754477,
          -1.8196443931299022,
          -0.6407499492278539,
          -0.4211817381995266,
          0.749816068741311,
          1.0357869223281948,
          1.4574441310839379,
          -0.3042344579582755,
          0.19723781050623027,
          -0.5624181531021479,
          -1.4068385344205947,
          -1.467133562334591,
          -0.5674350597043402,
          -2.129336044404162,
          1.1758806168946234,
          -0.16448995704076652,
          -0.9779043170437532,
          -0.34597066195963844,
          0.5646432182256792,
          1.3236523242202396,
          0.6072867513938234,
          -0.568385280381742,
          -1.1186532483940683,
          0.30430474772314803,
          -0.31653229378343317,
          0.10274254004759957,
          -0.4004143253747189,
          -0.5401696407335572,
          -1.7905406758414422,
          -0.3447153898348365,
          0.01640549905721995,
          1.329803844957976,
          -0.2838454848295598,
          -0.7149500718878599,
          2.131509449259118,
          -0.20594262819363468,
          -0.46095460604086497,
          1.3762460600580146,
          -0.5315216700601639,
          0.4330121353014572,
          -1.0421993308088067,
          -1.5558986585240033,
          -1.218392913837334,
          0.44444621727844846,
          -0.3033811422910685,
          -0.2348174161172821,
          0.6761559094978562,
          -0.1433003612459205,
          -0.5021565887281341,
          -0.5643974865846672,
          -0.32738588487886683,
          2.7095465578361577,
          0.18779561954741292,
          -0.179442053806397,
          0.16190622421114106,
          -0.10631574297220216,
          -0.9719562551176633,
          -0.8864656963735614,
          -1.0971579537801677,
          0.5703636600272055,
          0.017455999104761276,
          0.10764563017514592,
          0.6674390203404504,
          -1.5483790010746306,
          0.7855020724347893,
          1.0864443237398242,
          -0.09412775608332852,
          -0.7155961933081841,
          2.1220822162796087,
          0.6706361949388256,
          -0.5290544807432842,
          -2.2005054084000197,
          0.1576792060896083,
          0.09945177553841868,
          -1.8392810801254043,
          -0.9192852920587717,
          2.4718464231328774,
          0.2076321039179723,
          -0.8445272827194005,
          -0.8008434375387793,
          -0.007766019613267419,
          0.5090193899057244,
          -0.0030644485108717303,
          1.2109719752722654,
          -0.8042659230928949,
          0.0639503553332306,
          -0.19669717584049626,
          0.3109834776847498,
          0.27778199066943177,
          0.9202818228115818
         ],
         "yaxis": "y8"
        },
        {
         "line": {
          "color": "rgba(128, 128, 128, 1.0)",
          "dash": "solid",
          "shape": "linear",
          "width": 1.3
         },
         "marker": {
          "size": 2,
          "symbol": "circle"
         },
         "mode": "markers",
         "name": "C",
         "text": "",
         "type": "scatter",
         "x": [
          -0.7211844881720889,
          -1.460522588285307,
          2.154948856212787,
          -0.49761196784253425,
          0.45284763019750024,
          -0.2146016535662887,
          0.6461779730757492,
          -0.11825227421614609,
          1.2915518225379228,
          0.18608916067102835,
          -1.4874697128735566,
          -2.674955108446302,
          0.9190575231032203,
          -2.5325371551100275,
          -1.6777824953054545,
          -0.5467026438923042,
          0.5889265073259935,
          0.5713454137445192,
          -0.7405110737545675,
          -0.3762010861641179,
          0.1489885436790522,
          0.5826629600411326,
          9.93956133860854e-05,
          1.3228779971160258,
          1.548816618475939,
          1.0493635334616715,
          -0.41796228792981016,
          0.17190353418274495,
          0.26603823982029823,
          1.7748592869778435,
          -0.7486339320839377,
          0.0800193740814564,
          0.024234150399956793,
          -1.2542478347818165,
          0.437098308644309,
          0.703962364809523,
          -1.456325016003159,
          -1.515331912201515,
          -1.6783903384875147,
          -0.4105728612305543,
          -1.609348939801891,
          0.20873382660773848,
          1.7185816695607006,
          1.515224936174814,
          1.0690785260274,
          -1.6264240979749063,
          -0.10391990265168422,
          -1.0109174745146479,
          -1.9146061901244,
          0.8887427941528846,
          1.1887629381499019,
          -2.628399663534101,
          1.4627541154619559,
          1.2193879796116494,
          0.03120731155045379,
          0.19112324160339209,
          -0.41263213724016684,
          1.2195646026171014,
          -0.9357186450127927,
          -0.7735198800180834,
          0.7193889197776803,
          0.6576833793061325,
          -1.056242381180936,
          0.09944112179190494,
          1.0607886466058087,
          1.7480384469434798,
          -0.2925634435299589,
          -2.259658886505214,
          -1.693429506937218,
          2.0564346631440666,
          -0.14075746225916153,
          1.1671358816250528,
          -0.5788602987660235,
          -0.0019086180276748474,
          -1.9031784355512493,
          0.6697468613769787,
          1.2899599026774455,
          1.0937370716707826,
          0.2270561295865113,
          -0.22835157535766273,
          -0.21301396382913657,
          0.2796610966082171,
          0.6150753211568992,
          -0.8829404665561942,
          -0.4656916952739058,
          -0.4252283999883795,
          0.4855630893895303,
          0.21391697236657217,
          -0.24628332366479058,
          0.1698428083437271,
          0.4165353423709389,
          1.0312345779753802,
          -0.3802955308874277,
          -0.24345550305773975,
          -1.6088187152500206,
          1.362642934270473,
          0.5659359812206953,
          -0.08982000068507776,
          0.13460869031949085,
          0.07277500218970358
         ],
         "xaxis": "x9",
         "y": [
          1.4859017289979828,
          -0.33882624051823435,
          0.5643405958898692,
          1.2614884985758812,
          1.6779225026293678,
          -1.5007675294668912,
          -0.3133709553042308,
          -0.24881116987413524,
          -0.8984296938782744,
          0.8517918517884915,
          0.7914783840592418,
          1.0118561818366778,
          -0.16940827506921166,
          0.48119272683245096,
          -0.5302480006131105,
          -0.12596380055710518,
          -0.914482692452627,
          0.2430324564669559,
          -0.6271456877220737,
          -0.039243873746583474,
          -0.624373521737248,
          -0.7011493076273844,
          0.34747903798741425,
          -0.703721067051155,
          0.8724572241803034,
          0.5465326745477941,
          -1.0166519623938672,
          -0.22250238064915695,
          0.7798878940201981,
          -0.47769775108492524,
          0.7515736123635777,
          -0.7065355298480203,
          0.5293249332023787,
          -1.1892173218761193,
          2.1194522888672753,
          -0.10986125717974393,
          0.8791148594632846,
          0.5460438641241416,
          -0.30489535972538856,
          0.22483542272608617,
          0.6888768183285222,
          -0.6729712777178668,
          -0.7300028071817591,
          0.2679722597855181,
          0.6035977345794945,
          1.180301839137286,
          -1.2760752780811426,
          0.9142491827677313,
          0.4425859047930506,
          1.154320087707713,
          -2.735241340135281,
          1.1364550696252336,
          0.3001807224411202,
          0.12550119080175973,
          -0.5560080144457152,
          -0.693293437527863,
          3.0194991712263026,
          -0.4262567543938785,
          0.5764953151360391,
          0.45139734451565655,
          -0.167279095942579,
          1.2692271053324897,
          -1.019028606681503,
          -0.6739974262146932,
          0.08992637211206918,
          0.7261097008800064,
          -0.17338081937656077,
          -0.7215243294097896,
          0.09804193397711113,
          -0.42254823205487335,
          -1.3675350240945991,
          0.8495984942986297,
          -2.331481960731101,
          -0.255456500873279,
          -1.0621376786949863,
          1.672461134218411,
          -0.27760778046229584,
          1.2612127949309468,
          -0.9445409907916669,
          -0.7510247839559636,
          0.3586429710448984,
          2.0143853340331566,
          1.0897052639120521,
          1.3917973240762471,
          1.0649228888781936,
          -1.1921019278896943,
          0.3584927758114282,
          -1.446003874283754,
          0.4617132803189797,
          0.022046213056134613,
          -1.0258203592039308,
          -1.7522236855261502,
          0.4623225073343496,
          -0.12079620716968513,
          -0.07238179439131184,
          -0.8239656021056064,
          1.5573934006047707,
          0.011873561422134572,
          0.1454108215874784,
          0.3194758145951463
         ],
         "yaxis": "y9"
        },
        {
         "line": {
          "color": "rgba(128, 128, 128, 1.0)",
          "dash": "solid",
          "shape": "linear",
          "width": 1.3
         },
         "marker": {
          "size": 2,
          "symbol": "circle"
         },
         "mode": "markers",
         "name": "C",
         "text": "",
         "type": "scatter",
         "x": [
          1.9363176963824915,
          0.783691095069216,
          -1.1913463628659005,
          -0.6441276887203147,
          1.1687904468466739,
          0.6323414704685131,
          -1.2191589935127074,
          -0.2143976718639855,
          -1.9448875532251129,
          -0.28376974222916534,
          1.5782128138754477,
          -1.8196443931299022,
          -0.6407499492278539,
          -0.4211817381995266,
          0.749816068741311,
          1.0357869223281948,
          1.4574441310839379,
          -0.3042344579582755,
          0.19723781050623027,
          -0.5624181531021479,
          -1.4068385344205947,
          -1.467133562334591,
          -0.5674350597043402,
          -2.129336044404162,
          1.1758806168946234,
          -0.16448995704076652,
          -0.9779043170437532,
          -0.34597066195963844,
          0.5646432182256792,
          1.3236523242202396,
          0.6072867513938234,
          -0.568385280381742,
          -1.1186532483940683,
          0.30430474772314803,
          -0.31653229378343317,
          0.10274254004759957,
          -0.4004143253747189,
          -0.5401696407335572,
          -1.7905406758414422,
          -0.3447153898348365,
          0.01640549905721995,
          1.329803844957976,
          -0.2838454848295598,
          -0.7149500718878599,
          2.131509449259118,
          -0.20594262819363468,
          -0.46095460604086497,
          1.3762460600580146,
          -0.5315216700601639,
          0.4330121353014572,
          -1.0421993308088067,
          -1.5558986585240033,
          -1.218392913837334,
          0.44444621727844846,
          -0.3033811422910685,
          -0.2348174161172821,
          0.6761559094978562,
          -0.1433003612459205,
          -0.5021565887281341,
          -0.5643974865846672,
          -0.32738588487886683,
          2.7095465578361577,
          0.18779561954741292,
          -0.179442053806397,
          0.16190622421114106,
          -0.10631574297220216,
          -0.9719562551176633,
          -0.8864656963735614,
          -1.0971579537801677,
          0.5703636600272055,
          0.017455999104761276,
          0.10764563017514592,
          0.6674390203404504,
          -1.5483790010746306,
          0.7855020724347893,
          1.0864443237398242,
          -0.09412775608332852,
          -0.7155961933081841,
          2.1220822162796087,
          0.6706361949388256,
          -0.5290544807432842,
          -2.2005054084000197,
          0.1576792060896083,
          0.09945177553841868,
          -1.8392810801254043,
          -0.9192852920587717,
          2.4718464231328774,
          0.2076321039179723,
          -0.8445272827194005,
          -0.8008434375387793,
          -0.007766019613267419,
          0.5090193899057244,
          -0.0030644485108717303,
          1.2109719752722654,
          -0.8042659230928949,
          0.0639503553332306,
          -0.19669717584049626,
          0.3109834776847498,
          0.27778199066943177,
          0.9202818228115818
         ],
         "xaxis": "x10",
         "y": [
          1.4859017289979828,
          -0.33882624051823435,
          0.5643405958898692,
          1.2614884985758812,
          1.6779225026293678,
          -1.5007675294668912,
          -0.3133709553042308,
          -0.24881116987413524,
          -0.8984296938782744,
          0.8517918517884915,
          0.7914783840592418,
          1.0118561818366778,
          -0.16940827506921166,
          0.48119272683245096,
          -0.5302480006131105,
          -0.12596380055710518,
          -0.914482692452627,
          0.2430324564669559,
          -0.6271456877220737,
          -0.039243873746583474,
          -0.624373521737248,
          -0.7011493076273844,
          0.34747903798741425,
          -0.703721067051155,
          0.8724572241803034,
          0.5465326745477941,
          -1.0166519623938672,
          -0.22250238064915695,
          0.7798878940201981,
          -0.47769775108492524,
          0.7515736123635777,
          -0.7065355298480203,
          0.5293249332023787,
          -1.1892173218761193,
          2.1194522888672753,
          -0.10986125717974393,
          0.8791148594632846,
          0.5460438641241416,
          -0.30489535972538856,
          0.22483542272608617,
          0.6888768183285222,
          -0.6729712777178668,
          -0.7300028071817591,
          0.2679722597855181,
          0.6035977345794945,
          1.180301839137286,
          -1.2760752780811426,
          0.9142491827677313,
          0.4425859047930506,
          1.154320087707713,
          -2.735241340135281,
          1.1364550696252336,
          0.3001807224411202,
          0.12550119080175973,
          -0.5560080144457152,
          -0.693293437527863,
          3.0194991712263026,
          -0.4262567543938785,
          0.5764953151360391,
          0.45139734451565655,
          -0.167279095942579,
          1.2692271053324897,
          -1.019028606681503,
          -0.6739974262146932,
          0.08992637211206918,
          0.7261097008800064,
          -0.17338081937656077,
          -0.7215243294097896,
          0.09804193397711113,
          -0.42254823205487335,
          -1.3675350240945991,
          0.8495984942986297,
          -2.331481960731101,
          -0.255456500873279,
          -1.0621376786949863,
          1.672461134218411,
          -0.27760778046229584,
          1.2612127949309468,
          -0.9445409907916669,
          -0.7510247839559636,
          0.3586429710448984,
          2.0143853340331566,
          1.0897052639120521,
          1.3917973240762471,
          1.0649228888781936,
          -1.1921019278896943,
          0.3584927758114282,
          -1.446003874283754,
          0.4617132803189797,
          0.022046213056134613,
          -1.0258203592039308,
          -1.7522236855261502,
          0.4623225073343496,
          -0.12079620716968513,
          -0.07238179439131184,
          -0.8239656021056064,
          1.5573934006047707,
          0.011873561422134572,
          0.1454108215874784,
          0.3194758145951463
         ],
         "yaxis": "y10"
        },
        {
         "histfunc": "count",
         "histnorm": "",
         "marker": {
          "color": "rgba(50, 171, 96, 1.0)",
          "line": {
           "color": "#4D5663",
           "width": 1.3
          }
         },
         "name": "C",
         "nbinsx": 10,
         "opacity": 0.8,
         "orientation": "v",
         "type": "histogram",
         "x": [
          1.4859017289979828,
          -0.33882624051823435,
          0.5643405958898692,
          1.2614884985758812,
          1.6779225026293678,
          -1.5007675294668912,
          -0.3133709553042308,
          -0.24881116987413524,
          -0.8984296938782744,
          0.8517918517884915,
          0.7914783840592418,
          1.0118561818366778,
          -0.16940827506921166,
          0.48119272683245096,
          -0.5302480006131105,
          -0.12596380055710518,
          -0.914482692452627,
          0.2430324564669559,
          -0.6271456877220737,
          -0.039243873746583474,
          -0.624373521737248,
          -0.7011493076273844,
          0.34747903798741425,
          -0.703721067051155,
          0.8724572241803034,
          0.5465326745477941,
          -1.0166519623938672,
          -0.22250238064915695,
          0.7798878940201981,
          -0.47769775108492524,
          0.7515736123635777,
          -0.7065355298480203,
          0.5293249332023787,
          -1.1892173218761193,
          2.1194522888672753,
          -0.10986125717974393,
          0.8791148594632846,
          0.5460438641241416,
          -0.30489535972538856,
          0.22483542272608617,
          0.6888768183285222,
          -0.6729712777178668,
          -0.7300028071817591,
          0.2679722597855181,
          0.6035977345794945,
          1.180301839137286,
          -1.2760752780811426,
          0.9142491827677313,
          0.4425859047930506,
          1.154320087707713,
          -2.735241340135281,
          1.1364550696252336,
          0.3001807224411202,
          0.12550119080175973,
          -0.5560080144457152,
          -0.693293437527863,
          3.0194991712263026,
          -0.4262567543938785,
          0.5764953151360391,
          0.45139734451565655,
          -0.167279095942579,
          1.2692271053324897,
          -1.019028606681503,
          -0.6739974262146932,
          0.08992637211206918,
          0.7261097008800064,
          -0.17338081937656077,
          -0.7215243294097896,
          0.09804193397711113,
          -0.42254823205487335,
          -1.3675350240945991,
          0.8495984942986297,
          -2.331481960731101,
          -0.255456500873279,
          -1.0621376786949863,
          1.672461134218411,
          -0.27760778046229584,
          1.2612127949309468,
          -0.9445409907916669,
          -0.7510247839559636,
          0.3586429710448984,
          2.0143853340331566,
          1.0897052639120521,
          1.3917973240762471,
          1.0649228888781936,
          -1.1921019278896943,
          0.3584927758114282,
          -1.446003874283754,
          0.4617132803189797,
          0.022046213056134613,
          -1.0258203592039308,
          -1.7522236855261502,
          0.4623225073343496,
          -0.12079620716968513,
          -0.07238179439131184,
          -0.8239656021056064,
          1.5573934006047707,
          0.011873561422134572,
          0.1454108215874784,
          0.3194758145951463
         ],
         "xaxis": "x11",
         "yaxis": "y11"
        },
        {
         "line": {
          "color": "rgba(128, 128, 128, 1.0)",
          "dash": "solid",
          "shape": "linear",
          "width": 1.3
         },
         "marker": {
          "size": 2,
          "symbol": "circle"
         },
         "mode": "markers",
         "name": "C",
         "text": "",
         "type": "scatter",
         "x": [
          -1.4248961080733737,
          -0.3273423015501189,
          -1.251243272904655,
          0.03571868360370304,
          -0.8831359287118566,
          -0.4570458265199517,
          0.6669520968804289,
          0.12954797107100285,
          -1.1872784105353085,
          -1.0788534706921908,
          0.30414595111300274,
          -0.5808001420568194,
          0.7181559955419363,
          0.06431165990781074,
          0.4849600848179319,
          1.4650669998186705,
          0.3674900679512842,
          0.4659875208335856,
          1.8188709506352152,
          -2.4086829521242197,
          0.14269415469329055,
          -0.8986756621656249,
          0.24858640874522073,
          -0.6666710092100481,
          0.5312821075428688,
          0.6019372930953827,
          -0.8785566114030708,
          0.681347037704834,
          -0.5275682348277461,
          0.5224893317843847,
          -0.4632983081749662,
          0.11455424289896247,
          -0.5877204962503827,
          -0.2727428023361453,
          0.11871099006403349,
          -0.012220458087781596,
          -0.3418858101884144,
          -0.1701824065150667,
          0.19866144793597726,
          2.2346940769277372,
          0.2699534923198242,
          1.4952770521817178,
          1.9779450932749005,
          -0.1573965657928153,
          0.21480268763970578,
          -0.014537958815027823,
          0.9464220940372752,
          0.6011294964228965,
          -0.5791683004735586,
          -0.14674788751325316,
          0.742208864305391,
          0.5414212853423049,
          -0.9944259857720036,
          -0.2959846855161765,
          0.23580701543961627,
          -1.6600227313443063,
          -0.9233777628566187,
          -0.5238750058782555,
          -2.993809512427146,
          -0.8172655557837051,
          -0.29137604806023587,
          -0.2996317587288255,
          -0.5762542829528886,
          -1.4475470129302017,
          0.7626889846818631,
          -0.11586394220813491,
          0.7333320422309404,
          0.2631279090696038,
          0.15528968037263927,
          -0.4027569275919533,
          1.2364870960612364,
          1.1247560994972394,
          0.158400504315808,
          -0.8953734151597598,
          0.029924998471448666,
          1.0348887702004474,
          -0.08442864675348455,
          2.5868485824131993,
          1.117124451409192,
          -0.8021254788163592,
          1.3609419169157688,
          -0.9939500139315293,
          0.5130557561569394,
          -1.2397896504581485,
          -0.24837163218103428,
          -0.3698617259191884,
          -1.0388166503324645,
          0.9790966570987323,
          -0.11488459891479715,
          0.49015055617855424,
          -0.25275398163526946,
          1.1848213764718107,
          0.23659704857385866,
          -0.2719241288569037,
          1.325505481258998,
          -1.3312249257331565,
          1.2051807720165935,
          0.5847206558372181,
          0.06900031359470782,
          1.0132343277241416
         ],
         "xaxis": "x12",
         "y": [
          1.4859017289979828,
          -0.33882624051823435,
          0.5643405958898692,
          1.2614884985758812,
          1.6779225026293678,
          -1.5007675294668912,
          -0.3133709553042308,
          -0.24881116987413524,
          -0.8984296938782744,
          0.8517918517884915,
          0.7914783840592418,
          1.0118561818366778,
          -0.16940827506921166,
          0.48119272683245096,
          -0.5302480006131105,
          -0.12596380055710518,
          -0.914482692452627,
          0.2430324564669559,
          -0.6271456877220737,
          -0.039243873746583474,
          -0.624373521737248,
          -0.7011493076273844,
          0.34747903798741425,
          -0.703721067051155,
          0.8724572241803034,
          0.5465326745477941,
          -1.0166519623938672,
          -0.22250238064915695,
          0.7798878940201981,
          -0.47769775108492524,
          0.7515736123635777,
          -0.7065355298480203,
          0.5293249332023787,
          -1.1892173218761193,
          2.1194522888672753,
          -0.10986125717974393,
          0.8791148594632846,
          0.5460438641241416,
          -0.30489535972538856,
          0.22483542272608617,
          0.6888768183285222,
          -0.6729712777178668,
          -0.7300028071817591,
          0.2679722597855181,
          0.6035977345794945,
          1.180301839137286,
          -1.2760752780811426,
          0.9142491827677313,
          0.4425859047930506,
          1.154320087707713,
          -2.735241340135281,
          1.1364550696252336,
          0.3001807224411202,
          0.12550119080175973,
          -0.5560080144457152,
          -0.693293437527863,
          3.0194991712263026,
          -0.4262567543938785,
          0.5764953151360391,
          0.45139734451565655,
          -0.167279095942579,
          1.2692271053324897,
          -1.019028606681503,
          -0.6739974262146932,
          0.08992637211206918,
          0.7261097008800064,
          -0.17338081937656077,
          -0.7215243294097896,
          0.09804193397711113,
          -0.42254823205487335,
          -1.3675350240945991,
          0.8495984942986297,
          -2.331481960731101,
          -0.255456500873279,
          -1.0621376786949863,
          1.672461134218411,
          -0.27760778046229584,
          1.2612127949309468,
          -0.9445409907916669,
          -0.7510247839559636,
          0.3586429710448984,
          2.0143853340331566,
          1.0897052639120521,
          1.3917973240762471,
          1.0649228888781936,
          -1.1921019278896943,
          0.3584927758114282,
          -1.446003874283754,
          0.4617132803189797,
          0.022046213056134613,
          -1.0258203592039308,
          -1.7522236855261502,
          0.4623225073343496,
          -0.12079620716968513,
          -0.07238179439131184,
          -0.8239656021056064,
          1.5573934006047707,
          0.011873561422134572,
          0.1454108215874784,
          0.3194758145951463
         ],
         "yaxis": "y12"
        },
        {
         "line": {
          "color": "rgba(128, 128, 128, 1.0)",
          "dash": "solid",
          "shape": "linear",
          "width": 1.3
         },
         "marker": {
          "size": 2,
          "symbol": "circle"
         },
         "mode": "markers",
         "name": "D",
         "text": "",
         "type": "scatter",
         "x": [
          -0.7211844881720889,
          -1.460522588285307,
          2.154948856212787,
          -0.49761196784253425,
          0.45284763019750024,
          -0.2146016535662887,
          0.6461779730757492,
          -0.11825227421614609,
          1.2915518225379228,
          0.18608916067102835,
          -1.4874697128735566,
          -2.674955108446302,
          0.9190575231032203,
          -2.5325371551100275,
          -1.6777824953054545,
          -0.5467026438923042,
          0.5889265073259935,
          0.5713454137445192,
          -0.7405110737545675,
          -0.3762010861641179,
          0.1489885436790522,
          0.5826629600411326,
          9.93956133860854e-05,
          1.3228779971160258,
          1.548816618475939,
          1.0493635334616715,
          -0.41796228792981016,
          0.17190353418274495,
          0.26603823982029823,
          1.7748592869778435,
          -0.7486339320839377,
          0.0800193740814564,
          0.024234150399956793,
          -1.2542478347818165,
          0.437098308644309,
          0.703962364809523,
          -1.456325016003159,
          -1.515331912201515,
          -1.6783903384875147,
          -0.4105728612305543,
          -1.609348939801891,
          0.20873382660773848,
          1.7185816695607006,
          1.515224936174814,
          1.0690785260274,
          -1.6264240979749063,
          -0.10391990265168422,
          -1.0109174745146479,
          -1.9146061901244,
          0.8887427941528846,
          1.1887629381499019,
          -2.628399663534101,
          1.4627541154619559,
          1.2193879796116494,
          0.03120731155045379,
          0.19112324160339209,
          -0.41263213724016684,
          1.2195646026171014,
          -0.9357186450127927,
          -0.7735198800180834,
          0.7193889197776803,
          0.6576833793061325,
          -1.056242381180936,
          0.09944112179190494,
          1.0607886466058087,
          1.7480384469434798,
          -0.2925634435299589,
          -2.259658886505214,
          -1.693429506937218,
          2.0564346631440666,
          -0.14075746225916153,
          1.1671358816250528,
          -0.5788602987660235,
          -0.0019086180276748474,
          -1.9031784355512493,
          0.6697468613769787,
          1.2899599026774455,
          1.0937370716707826,
          0.2270561295865113,
          -0.22835157535766273,
          -0.21301396382913657,
          0.2796610966082171,
          0.6150753211568992,
          -0.8829404665561942,
          -0.4656916952739058,
          -0.4252283999883795,
          0.4855630893895303,
          0.21391697236657217,
          -0.24628332366479058,
          0.1698428083437271,
          0.4165353423709389,
          1.0312345779753802,
          -0.3802955308874277,
          -0.24345550305773975,
          -1.6088187152500206,
          1.362642934270473,
          0.5659359812206953,
          -0.08982000068507776,
          0.13460869031949085,
          0.07277500218970358
         ],
         "xaxis": "x13",
         "y": [
          -1.4248961080733737,
          -0.3273423015501189,
          -1.251243272904655,
          0.03571868360370304,
          -0.8831359287118566,
          -0.4570458265199517,
          0.6669520968804289,
          0.12954797107100285,
          -1.1872784105353085,
          -1.0788534706921908,
          0.30414595111300274,
          -0.5808001420568194,
          0.7181559955419363,
          0.06431165990781074,
          0.4849600848179319,
          1.4650669998186705,
          0.3674900679512842,
          0.4659875208335856,
          1.8188709506352152,
          -2.4086829521242197,
          0.14269415469329055,
          -0.8986756621656249,
          0.24858640874522073,
          -0.6666710092100481,
          0.5312821075428688,
          0.6019372930953827,
          -0.8785566114030708,
          0.681347037704834,
          -0.5275682348277461,
          0.5224893317843847,
          -0.4632983081749662,
          0.11455424289896247,
          -0.5877204962503827,
          -0.2727428023361453,
          0.11871099006403349,
          -0.012220458087781596,
          -0.3418858101884144,
          -0.1701824065150667,
          0.19866144793597726,
          2.2346940769277372,
          0.2699534923198242,
          1.4952770521817178,
          1.9779450932749005,
          -0.1573965657928153,
          0.21480268763970578,
          -0.014537958815027823,
          0.9464220940372752,
          0.6011294964228965,
          -0.5791683004735586,
          -0.14674788751325316,
          0.742208864305391,
          0.5414212853423049,
          -0.9944259857720036,
          -0.2959846855161765,
          0.23580701543961627,
          -1.6600227313443063,
          -0.9233777628566187,
          -0.5238750058782555,
          -2.993809512427146,
          -0.8172655557837051,
          -0.29137604806023587,
          -0.2996317587288255,
          -0.5762542829528886,
          -1.4475470129302017,
          0.7626889846818631,
          -0.11586394220813491,
          0.7333320422309404,
          0.2631279090696038,
          0.15528968037263927,
          -0.4027569275919533,
          1.2364870960612364,
          1.1247560994972394,
          0.158400504315808,
          -0.8953734151597598,
          0.029924998471448666,
          1.0348887702004474,
          -0.08442864675348455,
          2.5868485824131993,
          1.117124451409192,
          -0.8021254788163592,
          1.3609419169157688,
          -0.9939500139315293,
          0.5130557561569394,
          -1.2397896504581485,
          -0.24837163218103428,
          -0.3698617259191884,
          -1.0388166503324645,
          0.9790966570987323,
          -0.11488459891479715,
          0.49015055617855424,
          -0.25275398163526946,
          1.1848213764718107,
          0.23659704857385866,
          -0.2719241288569037,
          1.325505481258998,
          -1.3312249257331565,
          1.2051807720165935,
          0.5847206558372181,
          0.06900031359470782,
          1.0132343277241416
         ],
         "yaxis": "y13"
        },
        {
         "line": {
          "color": "rgba(128, 128, 128, 1.0)",
          "dash": "solid",
          "shape": "linear",
          "width": 1.3
         },
         "marker": {
          "size": 2,
          "symbol": "circle"
         },
         "mode": "markers",
         "name": "D",
         "text": "",
         "type": "scatter",
         "x": [
          1.9363176963824915,
          0.783691095069216,
          -1.1913463628659005,
          -0.6441276887203147,
          1.1687904468466739,
          0.6323414704685131,
          -1.2191589935127074,
          -0.2143976718639855,
          -1.9448875532251129,
          -0.28376974222916534,
          1.5782128138754477,
          -1.8196443931299022,
          -0.6407499492278539,
          -0.4211817381995266,
          0.749816068741311,
          1.0357869223281948,
          1.4574441310839379,
          -0.3042344579582755,
          0.19723781050623027,
          -0.5624181531021479,
          -1.4068385344205947,
          -1.467133562334591,
          -0.5674350597043402,
          -2.129336044404162,
          1.1758806168946234,
          -0.16448995704076652,
          -0.9779043170437532,
          -0.34597066195963844,
          0.5646432182256792,
          1.3236523242202396,
          0.6072867513938234,
          -0.568385280381742,
          -1.1186532483940683,
          0.30430474772314803,
          -0.31653229378343317,
          0.10274254004759957,
          -0.4004143253747189,
          -0.5401696407335572,
          -1.7905406758414422,
          -0.3447153898348365,
          0.01640549905721995,
          1.329803844957976,
          -0.2838454848295598,
          -0.7149500718878599,
          2.131509449259118,
          -0.20594262819363468,
          -0.46095460604086497,
          1.3762460600580146,
          -0.5315216700601639,
          0.4330121353014572,
          -1.0421993308088067,
          -1.5558986585240033,
          -1.218392913837334,
          0.44444621727844846,
          -0.3033811422910685,
          -0.2348174161172821,
          0.6761559094978562,
          -0.1433003612459205,
          -0.5021565887281341,
          -0.5643974865846672,
          -0.32738588487886683,
          2.7095465578361577,
          0.18779561954741292,
          -0.179442053806397,
          0.16190622421114106,
          -0.10631574297220216,
          -0.9719562551176633,
          -0.8864656963735614,
          -1.0971579537801677,
          0.5703636600272055,
          0.017455999104761276,
          0.10764563017514592,
          0.6674390203404504,
          -1.5483790010746306,
          0.7855020724347893,
          1.0864443237398242,
          -0.09412775608332852,
          -0.7155961933081841,
          2.1220822162796087,
          0.6706361949388256,
          -0.5290544807432842,
          -2.2005054084000197,
          0.1576792060896083,
          0.09945177553841868,
          -1.8392810801254043,
          -0.9192852920587717,
          2.4718464231328774,
          0.2076321039179723,
          -0.8445272827194005,
          -0.8008434375387793,
          -0.007766019613267419,
          0.5090193899057244,
          -0.0030644485108717303,
          1.2109719752722654,
          -0.8042659230928949,
          0.0639503553332306,
          -0.19669717584049626,
          0.3109834776847498,
          0.27778199066943177,
          0.9202818228115818
         ],
         "xaxis": "x14",
         "y": [
          -1.4248961080733737,
          -0.3273423015501189,
          -1.251243272904655,
          0.03571868360370304,
          -0.8831359287118566,
          -0.4570458265199517,
          0.6669520968804289,
          0.12954797107100285,
          -1.1872784105353085,
          -1.0788534706921908,
          0.30414595111300274,
          -0.5808001420568194,
          0.7181559955419363,
          0.06431165990781074,
          0.4849600848179319,
          1.4650669998186705,
          0.3674900679512842,
          0.4659875208335856,
          1.8188709506352152,
          -2.4086829521242197,
          0.14269415469329055,
          -0.8986756621656249,
          0.24858640874522073,
          -0.6666710092100481,
          0.5312821075428688,
          0.6019372930953827,
          -0.8785566114030708,
          0.681347037704834,
          -0.5275682348277461,
          0.5224893317843847,
          -0.4632983081749662,
          0.11455424289896247,
          -0.5877204962503827,
          -0.2727428023361453,
          0.11871099006403349,
          -0.012220458087781596,
          -0.3418858101884144,
          -0.1701824065150667,
          0.19866144793597726,
          2.2346940769277372,
          0.2699534923198242,
          1.4952770521817178,
          1.9779450932749005,
          -0.1573965657928153,
          0.21480268763970578,
          -0.014537958815027823,
          0.9464220940372752,
          0.6011294964228965,
          -0.5791683004735586,
          -0.14674788751325316,
          0.742208864305391,
          0.5414212853423049,
          -0.9944259857720036,
          -0.2959846855161765,
          0.23580701543961627,
          -1.6600227313443063,
          -0.9233777628566187,
          -0.5238750058782555,
          -2.993809512427146,
          -0.8172655557837051,
          -0.29137604806023587,
          -0.2996317587288255,
          -0.5762542829528886,
          -1.4475470129302017,
          0.7626889846818631,
          -0.11586394220813491,
          0.7333320422309404,
          0.2631279090696038,
          0.15528968037263927,
          -0.4027569275919533,
          1.2364870960612364,
          1.1247560994972394,
          0.158400504315808,
          -0.8953734151597598,
          0.029924998471448666,
          1.0348887702004474,
          -0.08442864675348455,
          2.5868485824131993,
          1.117124451409192,
          -0.8021254788163592,
          1.3609419169157688,
          -0.9939500139315293,
          0.5130557561569394,
          -1.2397896504581485,
          -0.24837163218103428,
          -0.3698617259191884,
          -1.0388166503324645,
          0.9790966570987323,
          -0.11488459891479715,
          0.49015055617855424,
          -0.25275398163526946,
          1.1848213764718107,
          0.23659704857385866,
          -0.2719241288569037,
          1.325505481258998,
          -1.3312249257331565,
          1.2051807720165935,
          0.5847206558372181,
          0.06900031359470782,
          1.0132343277241416
         ],
         "yaxis": "y14"
        },
        {
         "line": {
          "color": "rgba(128, 128, 128, 1.0)",
          "dash": "solid",
          "shape": "linear",
          "width": 1.3
         },
         "marker": {
          "size": 2,
          "symbol": "circle"
         },
         "mode": "markers",
         "name": "D",
         "text": "",
         "type": "scatter",
         "x": [
          1.4859017289979828,
          -0.33882624051823435,
          0.5643405958898692,
          1.2614884985758812,
          1.6779225026293678,
          -1.5007675294668912,
          -0.3133709553042308,
          -0.24881116987413524,
          -0.8984296938782744,
          0.8517918517884915,
          0.7914783840592418,
          1.0118561818366778,
          -0.16940827506921166,
          0.48119272683245096,
          -0.5302480006131105,
          -0.12596380055710518,
          -0.914482692452627,
          0.2430324564669559,
          -0.6271456877220737,
          -0.039243873746583474,
          -0.624373521737248,
          -0.7011493076273844,
          0.34747903798741425,
          -0.703721067051155,
          0.8724572241803034,
          0.5465326745477941,
          -1.0166519623938672,
          -0.22250238064915695,
          0.7798878940201981,
          -0.47769775108492524,
          0.7515736123635777,
          -0.7065355298480203,
          0.5293249332023787,
          -1.1892173218761193,
          2.1194522888672753,
          -0.10986125717974393,
          0.8791148594632846,
          0.5460438641241416,
          -0.30489535972538856,
          0.22483542272608617,
          0.6888768183285222,
          -0.6729712777178668,
          -0.7300028071817591,
          0.2679722597855181,
          0.6035977345794945,
          1.180301839137286,
          -1.2760752780811426,
          0.9142491827677313,
          0.4425859047930506,
          1.154320087707713,
          -2.735241340135281,
          1.1364550696252336,
          0.3001807224411202,
          0.12550119080175973,
          -0.5560080144457152,
          -0.693293437527863,
          3.0194991712263026,
          -0.4262567543938785,
          0.5764953151360391,
          0.45139734451565655,
          -0.167279095942579,
          1.2692271053324897,
          -1.019028606681503,
          -0.6739974262146932,
          0.08992637211206918,
          0.7261097008800064,
          -0.17338081937656077,
          -0.7215243294097896,
          0.09804193397711113,
          -0.42254823205487335,
          -1.3675350240945991,
          0.8495984942986297,
          -2.331481960731101,
          -0.255456500873279,
          -1.0621376786949863,
          1.672461134218411,
          -0.27760778046229584,
          1.2612127949309468,
          -0.9445409907916669,
          -0.7510247839559636,
          0.3586429710448984,
          2.0143853340331566,
          1.0897052639120521,
          1.3917973240762471,
          1.0649228888781936,
          -1.1921019278896943,
          0.3584927758114282,
          -1.446003874283754,
          0.4617132803189797,
          0.022046213056134613,
          -1.0258203592039308,
          -1.7522236855261502,
          0.4623225073343496,
          -0.12079620716968513,
          -0.07238179439131184,
          -0.8239656021056064,
          1.5573934006047707,
          0.011873561422134572,
          0.1454108215874784,
          0.3194758145951463
         ],
         "xaxis": "x15",
         "y": [
          -1.4248961080733737,
          -0.3273423015501189,
          -1.251243272904655,
          0.03571868360370304,
          -0.8831359287118566,
          -0.4570458265199517,
          0.6669520968804289,
          0.12954797107100285,
          -1.1872784105353085,
          -1.0788534706921908,
          0.30414595111300274,
          -0.5808001420568194,
          0.7181559955419363,
          0.06431165990781074,
          0.4849600848179319,
          1.4650669998186705,
          0.3674900679512842,
          0.4659875208335856,
          1.8188709506352152,
          -2.4086829521242197,
          0.14269415469329055,
          -0.8986756621656249,
          0.24858640874522073,
          -0.6666710092100481,
          0.5312821075428688,
          0.6019372930953827,
          -0.8785566114030708,
          0.681347037704834,
          -0.5275682348277461,
          0.5224893317843847,
          -0.4632983081749662,
          0.11455424289896247,
          -0.5877204962503827,
          -0.2727428023361453,
          0.11871099006403349,
          -0.012220458087781596,
          -0.3418858101884144,
          -0.1701824065150667,
          0.19866144793597726,
          2.2346940769277372,
          0.2699534923198242,
          1.4952770521817178,
          1.9779450932749005,
          -0.1573965657928153,
          0.21480268763970578,
          -0.014537958815027823,
          0.9464220940372752,
          0.6011294964228965,
          -0.5791683004735586,
          -0.14674788751325316,
          0.742208864305391,
          0.5414212853423049,
          -0.9944259857720036,
          -0.2959846855161765,
          0.23580701543961627,
          -1.6600227313443063,
          -0.9233777628566187,
          -0.5238750058782555,
          -2.993809512427146,
          -0.8172655557837051,
          -0.29137604806023587,
          -0.2996317587288255,
          -0.5762542829528886,
          -1.4475470129302017,
          0.7626889846818631,
          -0.11586394220813491,
          0.7333320422309404,
          0.2631279090696038,
          0.15528968037263927,
          -0.4027569275919533,
          1.2364870960612364,
          1.1247560994972394,
          0.158400504315808,
          -0.8953734151597598,
          0.029924998471448666,
          1.0348887702004474,
          -0.08442864675348455,
          2.5868485824131993,
          1.117124451409192,
          -0.8021254788163592,
          1.3609419169157688,
          -0.9939500139315293,
          0.5130557561569394,
          -1.2397896504581485,
          -0.24837163218103428,
          -0.3698617259191884,
          -1.0388166503324645,
          0.9790966570987323,
          -0.11488459891479715,
          0.49015055617855424,
          -0.25275398163526946,
          1.1848213764718107,
          0.23659704857385866,
          -0.2719241288569037,
          1.325505481258998,
          -1.3312249257331565,
          1.2051807720165935,
          0.5847206558372181,
          0.06900031359470782,
          1.0132343277241416
         ],
         "yaxis": "y15"
        },
        {
         "histfunc": "count",
         "histnorm": "",
         "marker": {
          "color": "rgba(128, 0, 128, 1.0)",
          "line": {
           "color": "#4D5663",
           "width": 1.3
          }
         },
         "name": "D",
         "nbinsx": 10,
         "opacity": 0.8,
         "orientation": "v",
         "type": "histogram",
         "x": [
          -1.4248961080733737,
          -0.3273423015501189,
          -1.251243272904655,
          0.03571868360370304,
          -0.8831359287118566,
          -0.4570458265199517,
          0.6669520968804289,
          0.12954797107100285,
          -1.1872784105353085,
          -1.0788534706921908,
          0.30414595111300274,
          -0.5808001420568194,
          0.7181559955419363,
          0.06431165990781074,
          0.4849600848179319,
          1.4650669998186705,
          0.3674900679512842,
          0.4659875208335856,
          1.8188709506352152,
          -2.4086829521242197,
          0.14269415469329055,
          -0.8986756621656249,
          0.24858640874522073,
          -0.6666710092100481,
          0.5312821075428688,
          0.6019372930953827,
          -0.8785566114030708,
          0.681347037704834,
          -0.5275682348277461,
          0.5224893317843847,
          -0.4632983081749662,
          0.11455424289896247,
          -0.5877204962503827,
          -0.2727428023361453,
          0.11871099006403349,
          -0.012220458087781596,
          -0.3418858101884144,
          -0.1701824065150667,
          0.19866144793597726,
          2.2346940769277372,
          0.2699534923198242,
          1.4952770521817178,
          1.9779450932749005,
          -0.1573965657928153,
          0.21480268763970578,
          -0.014537958815027823,
          0.9464220940372752,
          0.6011294964228965,
          -0.5791683004735586,
          -0.14674788751325316,
          0.742208864305391,
          0.5414212853423049,
          -0.9944259857720036,
          -0.2959846855161765,
          0.23580701543961627,
          -1.6600227313443063,
          -0.9233777628566187,
          -0.5238750058782555,
          -2.993809512427146,
          -0.8172655557837051,
          -0.29137604806023587,
          -0.2996317587288255,
          -0.5762542829528886,
          -1.4475470129302017,
          0.7626889846818631,
          -0.11586394220813491,
          0.7333320422309404,
          0.2631279090696038,
          0.15528968037263927,
          -0.4027569275919533,
          1.2364870960612364,
          1.1247560994972394,
          0.158400504315808,
          -0.8953734151597598,
          0.029924998471448666,
          1.0348887702004474,
          -0.08442864675348455,
          2.5868485824131993,
          1.117124451409192,
          -0.8021254788163592,
          1.3609419169157688,
          -0.9939500139315293,
          0.5130557561569394,
          -1.2397896504581485,
          -0.24837163218103428,
          -0.3698617259191884,
          -1.0388166503324645,
          0.9790966570987323,
          -0.11488459891479715,
          0.49015055617855424,
          -0.25275398163526946,
          1.1848213764718107,
          0.23659704857385866,
          -0.2719241288569037,
          1.325505481258998,
          -1.3312249257331565,
          1.2051807720165935,
          0.5847206558372181,
          0.06900031359470782,
          1.0132343277241416
         ],
         "xaxis": "x16",
         "yaxis": "y16"
        }
       ],
       "layout": {
        "bargap": 0.02,
        "legend": {
         "bgcolor": "#F5F6F9",
         "font": {
          "color": "#4D5663"
         }
        },
        "paper_bgcolor": "#F5F6F9",
        "plot_bgcolor": "#F5F6F9",
        "showlegend": false,
        "template": {
         "data": {
          "bar": [
           {
            "error_x": {
             "color": "#2a3f5f"
            },
            "error_y": {
             "color": "#2a3f5f"
            },
            "marker": {
             "line": {
              "color": "#E5ECF6",
              "width": 0.5
             },
             "pattern": {
              "fillmode": "overlay",
              "size": 10,
              "solidity": 0.2
             }
            },
            "type": "bar"
           }
          ],
          "barpolar": [
           {
            "marker": {
             "line": {
              "color": "#E5ECF6",
              "width": 0.5
             },
             "pattern": {
              "fillmode": "overlay",
              "size": 10,
              "solidity": 0.2
             }
            },
            "type": "barpolar"
           }
          ],
          "carpet": [
           {
            "aaxis": {
             "endlinecolor": "#2a3f5f",
             "gridcolor": "white",
             "linecolor": "white",
             "minorgridcolor": "white",
             "startlinecolor": "#2a3f5f"
            },
            "baxis": {
             "endlinecolor": "#2a3f5f",
             "gridcolor": "white",
             "linecolor": "white",
             "minorgridcolor": "white",
             "startlinecolor": "#2a3f5f"
            },
            "type": "carpet"
           }
          ],
          "choropleth": [
           {
            "colorbar": {
             "outlinewidth": 0,
             "ticks": ""
            },
            "type": "choropleth"
           }
          ],
          "contour": [
           {
            "colorbar": {
             "outlinewidth": 0,
             "ticks": ""
            },
            "colorscale": [
             [
              0,
              "#0d0887"
             ],
             [
              0.1111111111111111,
              "#46039f"
             ],
             [
              0.2222222222222222,
              "#7201a8"
             ],
             [
              0.3333333333333333,
              "#9c179e"
             ],
             [
              0.4444444444444444,
              "#bd3786"
             ],
             [
              0.5555555555555556,
              "#d8576b"
             ],
             [
              0.6666666666666666,
              "#ed7953"
             ],
             [
              0.7777777777777778,
              "#fb9f3a"
             ],
             [
              0.8888888888888888,
              "#fdca26"
             ],
             [
              1,
              "#f0f921"
             ]
            ],
            "type": "contour"
           }
          ],
          "contourcarpet": [
           {
            "colorbar": {
             "outlinewidth": 0,
             "ticks": ""
            },
            "type": "contourcarpet"
           }
          ],
          "heatmap": [
           {
            "colorbar": {
             "outlinewidth": 0,
             "ticks": ""
            },
            "colorscale": [
             [
              0,
              "#0d0887"
             ],
             [
              0.1111111111111111,
              "#46039f"
             ],
             [
              0.2222222222222222,
              "#7201a8"
             ],
             [
              0.3333333333333333,
              "#9c179e"
             ],
             [
              0.4444444444444444,
              "#bd3786"
             ],
             [
              0.5555555555555556,
              "#d8576b"
             ],
             [
              0.6666666666666666,
              "#ed7953"
             ],
             [
              0.7777777777777778,
              "#fb9f3a"
             ],
             [
              0.8888888888888888,
              "#fdca26"
             ],
             [
              1,
              "#f0f921"
             ]
            ],
            "type": "heatmap"
           }
          ],
          "heatmapgl": [
           {
            "colorbar": {
             "outlinewidth": 0,
             "ticks": ""
            },
            "colorscale": [
             [
              0,
              "#0d0887"
             ],
             [
              0.1111111111111111,
              "#46039f"
             ],
             [
              0.2222222222222222,
              "#7201a8"
             ],
             [
              0.3333333333333333,
              "#9c179e"
             ],
             [
              0.4444444444444444,
              "#bd3786"
             ],
             [
              0.5555555555555556,
              "#d8576b"
             ],
             [
              0.6666666666666666,
              "#ed7953"
             ],
             [
              0.7777777777777778,
              "#fb9f3a"
             ],
             [
              0.8888888888888888,
              "#fdca26"
             ],
             [
              1,
              "#f0f921"
             ]
            ],
            "type": "heatmapgl"
           }
          ],
          "histogram": [
           {
            "marker": {
             "pattern": {
              "fillmode": "overlay",
              "size": 10,
              "solidity": 0.2
             }
            },
            "type": "histogram"
           }
          ],
          "histogram2d": [
           {
            "colorbar": {
             "outlinewidth": 0,
             "ticks": ""
            },
            "colorscale": [
             [
              0,
              "#0d0887"
             ],
             [
              0.1111111111111111,
              "#46039f"
             ],
             [
              0.2222222222222222,
              "#7201a8"
             ],
             [
              0.3333333333333333,
              "#9c179e"
             ],
             [
              0.4444444444444444,
              "#bd3786"
             ],
             [
              0.5555555555555556,
              "#d8576b"
             ],
             [
              0.6666666666666666,
              "#ed7953"
             ],
             [
              0.7777777777777778,
              "#fb9f3a"
             ],
             [
              0.8888888888888888,
              "#fdca26"
             ],
             [
              1,
              "#f0f921"
             ]
            ],
            "type": "histogram2d"
           }
          ],
          "histogram2dcontour": [
           {
            "colorbar": {
             "outlinewidth": 0,
             "ticks": ""
            },
            "colorscale": [
             [
              0,
              "#0d0887"
             ],
             [
              0.1111111111111111,
              "#46039f"
             ],
             [
              0.2222222222222222,
              "#7201a8"
             ],
             [
              0.3333333333333333,
              "#9c179e"
             ],
             [
              0.4444444444444444,
              "#bd3786"
             ],
             [
              0.5555555555555556,
              "#d8576b"
             ],
             [
              0.6666666666666666,
              "#ed7953"
             ],
             [
              0.7777777777777778,
              "#fb9f3a"
             ],
             [
              0.8888888888888888,
              "#fdca26"
             ],
             [
              1,
              "#f0f921"
             ]
            ],
            "type": "histogram2dcontour"
           }
          ],
          "mesh3d": [
           {
            "colorbar": {
             "outlinewidth": 0,
             "ticks": ""
            },
            "type": "mesh3d"
           }
          ],
          "parcoords": [
           {
            "line": {
             "colorbar": {
              "outlinewidth": 0,
              "ticks": ""
             }
            },
            "type": "parcoords"
           }
          ],
          "pie": [
           {
            "automargin": true,
            "type": "pie"
           }
          ],
          "scatter": [
           {
            "marker": {
             "colorbar": {
              "outlinewidth": 0,
              "ticks": ""
             }
            },
            "type": "scatter"
           }
          ],
          "scatter3d": [
           {
            "line": {
             "colorbar": {
              "outlinewidth": 0,
              "ticks": ""
             }
            },
            "marker": {
             "colorbar": {
              "outlinewidth": 0,
              "ticks": ""
             }
            },
            "type": "scatter3d"
           }
          ],
          "scattercarpet": [
           {
            "marker": {
             "colorbar": {
              "outlinewidth": 0,
              "ticks": ""
             }
            },
            "type": "scattercarpet"
           }
          ],
          "scattergeo": [
           {
            "marker": {
             "colorbar": {
              "outlinewidth": 0,
              "ticks": ""
             }
            },
            "type": "scattergeo"
           }
          ],
          "scattergl": [
           {
            "marker": {
             "colorbar": {
              "outlinewidth": 0,
              "ticks": ""
             }
            },
            "type": "scattergl"
           }
          ],
          "scattermapbox": [
           {
            "marker": {
             "colorbar": {
              "outlinewidth": 0,
              "ticks": ""
             }
            },
            "type": "scattermapbox"
           }
          ],
          "scatterpolar": [
           {
            "marker": {
             "colorbar": {
              "outlinewidth": 0,
              "ticks": ""
             }
            },
            "type": "scatterpolar"
           }
          ],
          "scatterpolargl": [
           {
            "marker": {
             "colorbar": {
              "outlinewidth": 0,
              "ticks": ""
             }
            },
            "type": "scatterpolargl"
           }
          ],
          "scatterternary": [
           {
            "marker": {
             "colorbar": {
              "outlinewidth": 0,
              "ticks": ""
             }
            },
            "type": "scatterternary"
           }
          ],
          "surface": [
           {
            "colorbar": {
             "outlinewidth": 0,
             "ticks": ""
            },
            "colorscale": [
             [
              0,
              "#0d0887"
             ],
             [
              0.1111111111111111,
              "#46039f"
             ],
             [
              0.2222222222222222,
              "#7201a8"
             ],
             [
              0.3333333333333333,
              "#9c179e"
             ],
             [
              0.4444444444444444,
              "#bd3786"
             ],
             [
              0.5555555555555556,
              "#d8576b"
             ],
             [
              0.6666666666666666,
              "#ed7953"
             ],
             [
              0.7777777777777778,
              "#fb9f3a"
             ],
             [
              0.8888888888888888,
              "#fdca26"
             ],
             [
              1,
              "#f0f921"
             ]
            ],
            "type": "surface"
           }
          ],
          "table": [
           {
            "cells": {
             "fill": {
              "color": "#EBF0F8"
             },
             "line": {
              "color": "white"
             }
            },
            "header": {
             "fill": {
              "color": "#C8D4E3"
             },
             "line": {
              "color": "white"
             }
            },
            "type": "table"
           }
          ]
         },
         "layout": {
          "annotationdefaults": {
           "arrowcolor": "#2a3f5f",
           "arrowhead": 0,
           "arrowwidth": 1
          },
          "autotypenumbers": "strict",
          "coloraxis": {
           "colorbar": {
            "outlinewidth": 0,
            "ticks": ""
           }
          },
          "colorscale": {
           "diverging": [
            [
             0,
             "#8e0152"
            ],
            [
             0.1,
             "#c51b7d"
            ],
            [
             0.2,
             "#de77ae"
            ],
            [
             0.3,
             "#f1b6da"
            ],
            [
             0.4,
             "#fde0ef"
            ],
            [
             0.5,
             "#f7f7f7"
            ],
            [
             0.6,
             "#e6f5d0"
            ],
            [
             0.7,
             "#b8e186"
            ],
            [
             0.8,
             "#7fbc41"
            ],
            [
             0.9,
             "#4d9221"
            ],
            [
             1,
             "#276419"
            ]
           ],
           "sequential": [
            [
             0,
             "#0d0887"
            ],
            [
             0.1111111111111111,
             "#46039f"
            ],
            [
             0.2222222222222222,
             "#7201a8"
            ],
            [
             0.3333333333333333,
             "#9c179e"
            ],
            [
             0.4444444444444444,
             "#bd3786"
            ],
            [
             0.5555555555555556,
             "#d8576b"
            ],
            [
             0.6666666666666666,
             "#ed7953"
            ],
            [
             0.7777777777777778,
             "#fb9f3a"
            ],
            [
             0.8888888888888888,
             "#fdca26"
            ],
            [
             1,
             "#f0f921"
            ]
           ],
           "sequentialminus": [
            [
             0,
             "#0d0887"
            ],
            [
             0.1111111111111111,
             "#46039f"
            ],
            [
             0.2222222222222222,
             "#7201a8"
            ],
            [
             0.3333333333333333,
             "#9c179e"
            ],
            [
             0.4444444444444444,
             "#bd3786"
            ],
            [
             0.5555555555555556,
             "#d8576b"
            ],
            [
             0.6666666666666666,
             "#ed7953"
            ],
            [
             0.7777777777777778,
             "#fb9f3a"
            ],
            [
             0.8888888888888888,
             "#fdca26"
            ],
            [
             1,
             "#f0f921"
            ]
           ]
          },
          "colorway": [
           "#636efa",
           "#EF553B",
           "#00cc96",
           "#ab63fa",
           "#FFA15A",
           "#19d3f3",
           "#FF6692",
           "#B6E880",
           "#FF97FF",
           "#FECB52"
          ],
          "font": {
           "color": "#2a3f5f"
          },
          "geo": {
           "bgcolor": "white",
           "lakecolor": "white",
           "landcolor": "#E5ECF6",
           "showlakes": true,
           "showland": true,
           "subunitcolor": "white"
          },
          "hoverlabel": {
           "align": "left"
          },
          "hovermode": "closest",
          "mapbox": {
           "style": "light"
          },
          "paper_bgcolor": "white",
          "plot_bgcolor": "#E5ECF6",
          "polar": {
           "angularaxis": {
            "gridcolor": "white",
            "linecolor": "white",
            "ticks": ""
           },
           "bgcolor": "#E5ECF6",
           "radialaxis": {
            "gridcolor": "white",
            "linecolor": "white",
            "ticks": ""
           }
          },
          "scene": {
           "xaxis": {
            "backgroundcolor": "#E5ECF6",
            "gridcolor": "white",
            "gridwidth": 2,
            "linecolor": "white",
            "showbackground": true,
            "ticks": "",
            "zerolinecolor": "white"
           },
           "yaxis": {
            "backgroundcolor": "#E5ECF6",
            "gridcolor": "white",
            "gridwidth": 2,
            "linecolor": "white",
            "showbackground": true,
            "ticks": "",
            "zerolinecolor": "white"
           },
           "zaxis": {
            "backgroundcolor": "#E5ECF6",
            "gridcolor": "white",
            "gridwidth": 2,
            "linecolor": "white",
            "showbackground": true,
            "ticks": "",
            "zerolinecolor": "white"
           }
          },
          "shapedefaults": {
           "line": {
            "color": "#2a3f5f"
           }
          },
          "ternary": {
           "aaxis": {
            "gridcolor": "white",
            "linecolor": "white",
            "ticks": ""
           },
           "baxis": {
            "gridcolor": "white",
            "linecolor": "white",
            "ticks": ""
           },
           "bgcolor": "#E5ECF6",
           "caxis": {
            "gridcolor": "white",
            "linecolor": "white",
            "ticks": ""
           }
          },
          "title": {
           "x": 0.05
          },
          "xaxis": {
           "automargin": true,
           "gridcolor": "white",
           "linecolor": "white",
           "ticks": "",
           "title": {
            "standoff": 15
           },
           "zerolinecolor": "white",
           "zerolinewidth": 2
          },
          "yaxis": {
           "automargin": true,
           "gridcolor": "white",
           "linecolor": "white",
           "ticks": "",
           "title": {
            "standoff": 15
           },
           "zerolinecolor": "white",
           "zerolinewidth": 2
          }
         }
        },
        "title": {
         "font": {
          "color": "#4D5663"
         }
        },
        "xaxis": {
         "anchor": "y",
         "domain": [
          0,
          0.2125
         ],
         "gridcolor": "#E1E5ED",
         "showgrid": false,
         "tickfont": {
          "color": "#4D5663"
         },
         "title": {
          "font": {
           "color": "#4D5663"
          },
          "text": ""
         },
         "zerolinecolor": "#E1E5ED"
        },
        "xaxis10": {
         "anchor": "y10",
         "domain": [
          0.2625,
          0.475
         ],
         "gridcolor": "#E1E5ED",
         "showgrid": false,
         "tickfont": {
          "color": "#4D5663"
         },
         "title": {
          "font": {
           "color": "#4D5663"
          },
          "text": ""
         },
         "zerolinecolor": "#E1E5ED"
        },
        "xaxis11": {
         "anchor": "y11",
         "domain": [
          0.525,
          0.7375
         ],
         "gridcolor": "#E1E5ED",
         "showgrid": false,
         "tickfont": {
          "color": "#4D5663"
         },
         "title": {
          "font": {
           "color": "#4D5663"
          },
          "text": ""
         },
         "zerolinecolor": "#E1E5ED"
        },
        "xaxis12": {
         "anchor": "y12",
         "domain": [
          0.7875,
          1
         ],
         "gridcolor": "#E1E5ED",
         "showgrid": false,
         "tickfont": {
          "color": "#4D5663"
         },
         "title": {
          "font": {
           "color": "#4D5663"
          },
          "text": ""
         },
         "zerolinecolor": "#E1E5ED"
        },
        "xaxis13": {
         "anchor": "y13",
         "domain": [
          0,
          0.2125
         ],
         "gridcolor": "#E1E5ED",
         "showgrid": false,
         "tickfont": {
          "color": "#4D5663"
         },
         "title": {
          "font": {
           "color": "#4D5663"
          },
          "text": ""
         },
         "zerolinecolor": "#E1E5ED"
        },
        "xaxis14": {
         "anchor": "y14",
         "domain": [
          0.2625,
          0.475
         ],
         "gridcolor": "#E1E5ED",
         "showgrid": false,
         "tickfont": {
          "color": "#4D5663"
         },
         "title": {
          "font": {
           "color": "#4D5663"
          },
          "text": ""
         },
         "zerolinecolor": "#E1E5ED"
        },
        "xaxis15": {
         "anchor": "y15",
         "domain": [
          0.525,
          0.7375
         ],
         "gridcolor": "#E1E5ED",
         "showgrid": false,
         "tickfont": {
          "color": "#4D5663"
         },
         "title": {
          "font": {
           "color": "#4D5663"
          },
          "text": ""
         },
         "zerolinecolor": "#E1E5ED"
        },
        "xaxis16": {
         "anchor": "y16",
         "domain": [
          0.7875,
          1
         ],
         "gridcolor": "#E1E5ED",
         "showgrid": false,
         "tickfont": {
          "color": "#4D5663"
         },
         "title": {
          "font": {
           "color": "#4D5663"
          },
          "text": ""
         },
         "zerolinecolor": "#E1E5ED"
        },
        "xaxis2": {
         "anchor": "y2",
         "domain": [
          0.2625,
          0.475
         ],
         "gridcolor": "#E1E5ED",
         "showgrid": false,
         "tickfont": {
          "color": "#4D5663"
         },
         "title": {
          "font": {
           "color": "#4D5663"
          },
          "text": ""
         },
         "zerolinecolor": "#E1E5ED"
        },
        "xaxis3": {
         "anchor": "y3",
         "domain": [
          0.525,
          0.7375
         ],
         "gridcolor": "#E1E5ED",
         "showgrid": false,
         "tickfont": {
          "color": "#4D5663"
         },
         "title": {
          "font": {
           "color": "#4D5663"
          },
          "text": ""
         },
         "zerolinecolor": "#E1E5ED"
        },
        "xaxis4": {
         "anchor": "y4",
         "domain": [
          0.7875,
          1
         ],
         "gridcolor": "#E1E5ED",
         "showgrid": false,
         "tickfont": {
          "color": "#4D5663"
         },
         "title": {
          "font": {
           "color": "#4D5663"
          },
          "text": ""
         },
         "zerolinecolor": "#E1E5ED"
        },
        "xaxis5": {
         "anchor": "y5",
         "domain": [
          0,
          0.2125
         ],
         "gridcolor": "#E1E5ED",
         "showgrid": false,
         "tickfont": {
          "color": "#4D5663"
         },
         "title": {
          "font": {
           "color": "#4D5663"
          },
          "text": ""
         },
         "zerolinecolor": "#E1E5ED"
        },
        "xaxis6": {
         "anchor": "y6",
         "domain": [
          0.2625,
          0.475
         ],
         "gridcolor": "#E1E5ED",
         "showgrid": false,
         "tickfont": {
          "color": "#4D5663"
         },
         "title": {
          "font": {
           "color": "#4D5663"
          },
          "text": ""
         },
         "zerolinecolor": "#E1E5ED"
        },
        "xaxis7": {
         "anchor": "y7",
         "domain": [
          0.525,
          0.7375
         ],
         "gridcolor": "#E1E5ED",
         "showgrid": false,
         "tickfont": {
          "color": "#4D5663"
         },
         "title": {
          "font": {
           "color": "#4D5663"
          },
          "text": ""
         },
         "zerolinecolor": "#E1E5ED"
        },
        "xaxis8": {
         "anchor": "y8",
         "domain": [
          0.7875,
          1
         ],
         "gridcolor": "#E1E5ED",
         "showgrid": false,
         "tickfont": {
          "color": "#4D5663"
         },
         "title": {
          "font": {
           "color": "#4D5663"
          },
          "text": ""
         },
         "zerolinecolor": "#E1E5ED"
        },
        "xaxis9": {
         "anchor": "y9",
         "domain": [
          0,
          0.2125
         ],
         "gridcolor": "#E1E5ED",
         "showgrid": false,
         "tickfont": {
          "color": "#4D5663"
         },
         "title": {
          "font": {
           "color": "#4D5663"
          },
          "text": ""
         },
         "zerolinecolor": "#E1E5ED"
        },
        "yaxis": {
         "anchor": "x",
         "domain": [
          0.8025,
          1
         ],
         "gridcolor": "#E1E5ED",
         "showgrid": false,
         "tickfont": {
          "color": "#4D5663"
         },
         "title": {
          "font": {
           "color": "#4D5663"
          },
          "text": ""
         },
         "zerolinecolor": "#E1E5ED"
        },
        "yaxis10": {
         "anchor": "x10",
         "domain": [
          0.2675,
          0.465
         ],
         "gridcolor": "#E1E5ED",
         "showgrid": false,
         "tickfont": {
          "color": "#4D5663"
         },
         "title": {
          "font": {
           "color": "#4D5663"
          },
          "text": ""
         },
         "zerolinecolor": "#E1E5ED"
        },
        "yaxis11": {
         "anchor": "x11",
         "domain": [
          0.2675,
          0.465
         ],
         "gridcolor": "#E1E5ED",
         "showgrid": false,
         "tickfont": {
          "color": "#4D5663"
         },
         "title": {
          "font": {
           "color": "#4D5663"
          },
          "text": ""
         },
         "zerolinecolor": "#E1E5ED"
        },
        "yaxis12": {
         "anchor": "x12",
         "domain": [
          0.2675,
          0.465
         ],
         "gridcolor": "#E1E5ED",
         "showgrid": false,
         "tickfont": {
          "color": "#4D5663"
         },
         "title": {
          "font": {
           "color": "#4D5663"
          },
          "text": ""
         },
         "zerolinecolor": "#E1E5ED"
        },
        "yaxis13": {
         "anchor": "x13",
         "domain": [
          0,
          0.1975
         ],
         "gridcolor": "#E1E5ED",
         "showgrid": false,
         "tickfont": {
          "color": "#4D5663"
         },
         "title": {
          "font": {
           "color": "#4D5663"
          },
          "text": ""
         },
         "zerolinecolor": "#E1E5ED"
        },
        "yaxis14": {
         "anchor": "x14",
         "domain": [
          0,
          0.1975
         ],
         "gridcolor": "#E1E5ED",
         "showgrid": false,
         "tickfont": {
          "color": "#4D5663"
         },
         "title": {
          "font": {
           "color": "#4D5663"
          },
          "text": ""
         },
         "zerolinecolor": "#E1E5ED"
        },
        "yaxis15": {
         "anchor": "x15",
         "domain": [
          0,
          0.1975
         ],
         "gridcolor": "#E1E5ED",
         "showgrid": false,
         "tickfont": {
          "color": "#4D5663"
         },
         "title": {
          "font": {
           "color": "#4D5663"
          },
          "text": ""
         },
         "zerolinecolor": "#E1E5ED"
        },
        "yaxis16": {
         "anchor": "x16",
         "domain": [
          0,
          0.1975
         ],
         "gridcolor": "#E1E5ED",
         "showgrid": false,
         "tickfont": {
          "color": "#4D5663"
         },
         "title": {
          "font": {
           "color": "#4D5663"
          },
          "text": ""
         },
         "zerolinecolor": "#E1E5ED"
        },
        "yaxis2": {
         "anchor": "x2",
         "domain": [
          0.8025,
          1
         ],
         "gridcolor": "#E1E5ED",
         "showgrid": false,
         "tickfont": {
          "color": "#4D5663"
         },
         "title": {
          "font": {
           "color": "#4D5663"
          },
          "text": ""
         },
         "zerolinecolor": "#E1E5ED"
        },
        "yaxis3": {
         "anchor": "x3",
         "domain": [
          0.8025,
          1
         ],
         "gridcolor": "#E1E5ED",
         "showgrid": false,
         "tickfont": {
          "color": "#4D5663"
         },
         "title": {
          "font": {
           "color": "#4D5663"
          },
          "text": ""
         },
         "zerolinecolor": "#E1E5ED"
        },
        "yaxis4": {
         "anchor": "x4",
         "domain": [
          0.8025,
          1
         ],
         "gridcolor": "#E1E5ED",
         "showgrid": false,
         "tickfont": {
          "color": "#4D5663"
         },
         "title": {
          "font": {
           "color": "#4D5663"
          },
          "text": ""
         },
         "zerolinecolor": "#E1E5ED"
        },
        "yaxis5": {
         "anchor": "x5",
         "domain": [
          0.535,
          0.7325
         ],
         "gridcolor": "#E1E5ED",
         "showgrid": false,
         "tickfont": {
          "color": "#4D5663"
         },
         "title": {
          "font": {
           "color": "#4D5663"
          },
          "text": ""
         },
         "zerolinecolor": "#E1E5ED"
        },
        "yaxis6": {
         "anchor": "x6",
         "domain": [
          0.535,
          0.7325
         ],
         "gridcolor": "#E1E5ED",
         "showgrid": false,
         "tickfont": {
          "color": "#4D5663"
         },
         "title": {
          "font": {
           "color": "#4D5663"
          },
          "text": ""
         },
         "zerolinecolor": "#E1E5ED"
        },
        "yaxis7": {
         "anchor": "x7",
         "domain": [
          0.535,
          0.7325
         ],
         "gridcolor": "#E1E5ED",
         "showgrid": false,
         "tickfont": {
          "color": "#4D5663"
         },
         "title": {
          "font": {
           "color": "#4D5663"
          },
          "text": ""
         },
         "zerolinecolor": "#E1E5ED"
        },
        "yaxis8": {
         "anchor": "x8",
         "domain": [
          0.535,
          0.7325
         ],
         "gridcolor": "#E1E5ED",
         "showgrid": false,
         "tickfont": {
          "color": "#4D5663"
         },
         "title": {
          "font": {
           "color": "#4D5663"
          },
          "text": ""
         },
         "zerolinecolor": "#E1E5ED"
        },
        "yaxis9": {
         "anchor": "x9",
         "domain": [
          0.2675,
          0.465
         ],
         "gridcolor": "#E1E5ED",
         "showgrid": false,
         "tickfont": {
          "color": "#4D5663"
         },
         "title": {
          "font": {
           "color": "#4D5663"
          },
          "text": ""
         },
         "zerolinecolor": "#E1E5ED"
        }
       }
      },
      "text/html": [
       "<div>                            <div id=\"728ca07e-8da9-498a-81a8-353934c93a63\" class=\"plotly-graph-div\" style=\"height:525px; width:100%;\"></div>            <script type=\"text/javascript\">                require([\"plotly\"], function(Plotly) {                    window.PLOTLYENV=window.PLOTLYENV || {};\n",
       "                    window.PLOTLYENV.BASE_URL='https://plot.ly';                                    if (document.getElementById(\"728ca07e-8da9-498a-81a8-353934c93a63\")) {                    Plotly.newPlot(                        \"728ca07e-8da9-498a-81a8-353934c93a63\",                        [{\"histfunc\":\"count\",\"histnorm\":\"\",\"marker\":{\"color\":\"rgba(255, 153, 51, 1.0)\",\"line\":{\"color\":\"#4D5663\",\"width\":1.3}},\"name\":\"A\",\"nbinsx\":10,\"opacity\":0.8,\"orientation\":\"v\",\"x\":[-0.7211844881720889,-1.460522588285307,2.154948856212787,-0.49761196784253425,0.45284763019750024,-0.2146016535662887,0.6461779730757492,-0.11825227421614609,1.2915518225379228,0.18608916067102835,-1.4874697128735566,-2.674955108446302,0.9190575231032203,-2.5325371551100275,-1.6777824953054545,-0.5467026438923042,0.5889265073259935,0.5713454137445192,-0.7405110737545675,-0.3762010861641179,0.1489885436790522,0.5826629600411326,9.93956133860854e-05,1.3228779971160258,1.548816618475939,1.0493635334616715,-0.41796228792981016,0.17190353418274495,0.26603823982029823,1.7748592869778435,-0.7486339320839377,0.0800193740814564,0.024234150399956793,-1.2542478347818165,0.437098308644309,0.703962364809523,-1.456325016003159,-1.515331912201515,-1.6783903384875147,-0.4105728612305543,-1.609348939801891,0.20873382660773848,1.7185816695607006,1.515224936174814,1.0690785260274,-1.6264240979749063,-0.10391990265168422,-1.0109174745146479,-1.9146061901244,0.8887427941528846,1.1887629381499019,-2.628399663534101,1.4627541154619559,1.2193879796116494,0.03120731155045379,0.19112324160339209,-0.41263213724016684,1.2195646026171014,-0.9357186450127927,-0.7735198800180834,0.7193889197776803,0.6576833793061325,-1.056242381180936,0.09944112179190494,1.0607886466058087,1.7480384469434798,-0.2925634435299589,-2.259658886505214,-1.693429506937218,2.0564346631440666,-0.14075746225916153,1.1671358816250528,-0.5788602987660235,-0.0019086180276748474,-1.9031784355512493,0.6697468613769787,1.2899599026774455,1.0937370716707826,0.2270561295865113,-0.22835157535766273,-0.21301396382913657,0.2796610966082171,0.6150753211568992,-0.8829404665561942,-0.4656916952739058,-0.4252283999883795,0.4855630893895303,0.21391697236657217,-0.24628332366479058,0.1698428083437271,0.4165353423709389,1.0312345779753802,-0.3802955308874277,-0.24345550305773975,-1.6088187152500206,1.362642934270473,0.5659359812206953,-0.08982000068507776,0.13460869031949085,0.07277500218970358],\"xaxis\":\"x\",\"yaxis\":\"y\",\"type\":\"histogram\"},{\"line\":{\"color\":\"rgba(128, 128, 128, 1.0)\",\"dash\":\"solid\",\"shape\":\"linear\",\"width\":1.3},\"marker\":{\"size\":2,\"symbol\":\"circle\"},\"mode\":\"markers\",\"name\":\"A\",\"text\":\"\",\"x\":[1.9363176963824915,0.783691095069216,-1.1913463628659005,-0.6441276887203147,1.1687904468466739,0.6323414704685131,-1.2191589935127074,-0.2143976718639855,-1.9448875532251129,-0.28376974222916534,1.5782128138754477,-1.8196443931299022,-0.6407499492278539,-0.4211817381995266,0.749816068741311,1.0357869223281948,1.4574441310839379,-0.3042344579582755,0.19723781050623027,-0.5624181531021479,-1.4068385344205947,-1.467133562334591,-0.5674350597043402,-2.129336044404162,1.1758806168946234,-0.16448995704076652,-0.9779043170437532,-0.34597066195963844,0.5646432182256792,1.3236523242202396,0.6072867513938234,-0.568385280381742,-1.1186532483940683,0.30430474772314803,-0.31653229378343317,0.10274254004759957,-0.4004143253747189,-0.5401696407335572,-1.7905406758414422,-0.3447153898348365,0.01640549905721995,1.329803844957976,-0.2838454848295598,-0.7149500718878599,2.131509449259118,-0.20594262819363468,-0.46095460604086497,1.3762460600580146,-0.5315216700601639,0.4330121353014572,-1.0421993308088067,-1.5558986585240033,-1.218392913837334,0.44444621727844846,-0.3033811422910685,-0.2348174161172821,0.6761559094978562,-0.1433003612459205,-0.5021565887281341,-0.5643974865846672,-0.32738588487886683,2.7095465578361577,0.18779561954741292,-0.179442053806397,0.16190622421114106,-0.10631574297220216,-0.9719562551176633,-0.8864656963735614,-1.0971579537801677,0.5703636600272055,0.017455999104761276,0.10764563017514592,0.6674390203404504,-1.5483790010746306,0.7855020724347893,1.0864443237398242,-0.09412775608332852,-0.7155961933081841,2.1220822162796087,0.6706361949388256,-0.5290544807432842,-2.2005054084000197,0.1576792060896083,0.09945177553841868,-1.8392810801254043,-0.9192852920587717,2.4718464231328774,0.2076321039179723,-0.8445272827194005,-0.8008434375387793,-0.007766019613267419,0.5090193899057244,-0.0030644485108717303,1.2109719752722654,-0.8042659230928949,0.0639503553332306,-0.19669717584049626,0.3109834776847498,0.27778199066943177,0.9202818228115818],\"xaxis\":\"x2\",\"y\":[-0.7211844881720889,-1.460522588285307,2.154948856212787,-0.49761196784253425,0.45284763019750024,-0.2146016535662887,0.6461779730757492,-0.11825227421614609,1.2915518225379228,0.18608916067102835,-1.4874697128735566,-2.674955108446302,0.9190575231032203,-2.5325371551100275,-1.6777824953054545,-0.5467026438923042,0.5889265073259935,0.5713454137445192,-0.7405110737545675,-0.3762010861641179,0.1489885436790522,0.5826629600411326,9.93956133860854e-05,1.3228779971160258,1.548816618475939,1.0493635334616715,-0.41796228792981016,0.17190353418274495,0.26603823982029823,1.7748592869778435,-0.7486339320839377,0.0800193740814564,0.024234150399956793,-1.2542478347818165,0.437098308644309,0.703962364809523,-1.456325016003159,-1.515331912201515,-1.6783903384875147,-0.4105728612305543,-1.609348939801891,0.20873382660773848,1.7185816695607006,1.515224936174814,1.0690785260274,-1.6264240979749063,-0.10391990265168422,-1.0109174745146479,-1.9146061901244,0.8887427941528846,1.1887629381499019,-2.628399663534101,1.4627541154619559,1.2193879796116494,0.03120731155045379,0.19112324160339209,-0.41263213724016684,1.2195646026171014,-0.9357186450127927,-0.7735198800180834,0.7193889197776803,0.6576833793061325,-1.056242381180936,0.09944112179190494,1.0607886466058087,1.7480384469434798,-0.2925634435299589,-2.259658886505214,-1.693429506937218,2.0564346631440666,-0.14075746225916153,1.1671358816250528,-0.5788602987660235,-0.0019086180276748474,-1.9031784355512493,0.6697468613769787,1.2899599026774455,1.0937370716707826,0.2270561295865113,-0.22835157535766273,-0.21301396382913657,0.2796610966082171,0.6150753211568992,-0.8829404665561942,-0.4656916952739058,-0.4252283999883795,0.4855630893895303,0.21391697236657217,-0.24628332366479058,0.1698428083437271,0.4165353423709389,1.0312345779753802,-0.3802955308874277,-0.24345550305773975,-1.6088187152500206,1.362642934270473,0.5659359812206953,-0.08982000068507776,0.13460869031949085,0.07277500218970358],\"yaxis\":\"y2\",\"type\":\"scatter\"},{\"line\":{\"color\":\"rgba(128, 128, 128, 1.0)\",\"dash\":\"solid\",\"shape\":\"linear\",\"width\":1.3},\"marker\":{\"size\":2,\"symbol\":\"circle\"},\"mode\":\"markers\",\"name\":\"A\",\"text\":\"\",\"x\":[1.4859017289979828,-0.33882624051823435,0.5643405958898692,1.2614884985758812,1.6779225026293678,-1.5007675294668912,-0.3133709553042308,-0.24881116987413524,-0.8984296938782744,0.8517918517884915,0.7914783840592418,1.0118561818366778,-0.16940827506921166,0.48119272683245096,-0.5302480006131105,-0.12596380055710518,-0.914482692452627,0.2430324564669559,-0.6271456877220737,-0.039243873746583474,-0.624373521737248,-0.7011493076273844,0.34747903798741425,-0.703721067051155,0.8724572241803034,0.5465326745477941,-1.0166519623938672,-0.22250238064915695,0.7798878940201981,-0.47769775108492524,0.7515736123635777,-0.7065355298480203,0.5293249332023787,-1.1892173218761193,2.1194522888672753,-0.10986125717974393,0.8791148594632846,0.5460438641241416,-0.30489535972538856,0.22483542272608617,0.6888768183285222,-0.6729712777178668,-0.7300028071817591,0.2679722597855181,0.6035977345794945,1.180301839137286,-1.2760752780811426,0.9142491827677313,0.4425859047930506,1.154320087707713,-2.735241340135281,1.1364550696252336,0.3001807224411202,0.12550119080175973,-0.5560080144457152,-0.693293437527863,3.0194991712263026,-0.4262567543938785,0.5764953151360391,0.45139734451565655,-0.167279095942579,1.2692271053324897,-1.019028606681503,-0.6739974262146932,0.08992637211206918,0.7261097008800064,-0.17338081937656077,-0.7215243294097896,0.09804193397711113,-0.42254823205487335,-1.3675350240945991,0.8495984942986297,-2.331481960731101,-0.255456500873279,-1.0621376786949863,1.672461134218411,-0.27760778046229584,1.2612127949309468,-0.9445409907916669,-0.7510247839559636,0.3586429710448984,2.0143853340331566,1.0897052639120521,1.3917973240762471,1.0649228888781936,-1.1921019278896943,0.3584927758114282,-1.446003874283754,0.4617132803189797,0.022046213056134613,-1.0258203592039308,-1.7522236855261502,0.4623225073343496,-0.12079620716968513,-0.07238179439131184,-0.8239656021056064,1.5573934006047707,0.011873561422134572,0.1454108215874784,0.3194758145951463],\"xaxis\":\"x3\",\"y\":[-0.7211844881720889,-1.460522588285307,2.154948856212787,-0.49761196784253425,0.45284763019750024,-0.2146016535662887,0.6461779730757492,-0.11825227421614609,1.2915518225379228,0.18608916067102835,-1.4874697128735566,-2.674955108446302,0.9190575231032203,-2.5325371551100275,-1.6777824953054545,-0.5467026438923042,0.5889265073259935,0.5713454137445192,-0.7405110737545675,-0.3762010861641179,0.1489885436790522,0.5826629600411326,9.93956133860854e-05,1.3228779971160258,1.548816618475939,1.0493635334616715,-0.41796228792981016,0.17190353418274495,0.26603823982029823,1.7748592869778435,-0.7486339320839377,0.0800193740814564,0.024234150399956793,-1.2542478347818165,0.437098308644309,0.703962364809523,-1.456325016003159,-1.515331912201515,-1.6783903384875147,-0.4105728612305543,-1.609348939801891,0.20873382660773848,1.7185816695607006,1.515224936174814,1.0690785260274,-1.6264240979749063,-0.10391990265168422,-1.0109174745146479,-1.9146061901244,0.8887427941528846,1.1887629381499019,-2.628399663534101,1.4627541154619559,1.2193879796116494,0.03120731155045379,0.19112324160339209,-0.41263213724016684,1.2195646026171014,-0.9357186450127927,-0.7735198800180834,0.7193889197776803,0.6576833793061325,-1.056242381180936,0.09944112179190494,1.0607886466058087,1.7480384469434798,-0.2925634435299589,-2.259658886505214,-1.693429506937218,2.0564346631440666,-0.14075746225916153,1.1671358816250528,-0.5788602987660235,-0.0019086180276748474,-1.9031784355512493,0.6697468613769787,1.2899599026774455,1.0937370716707826,0.2270561295865113,-0.22835157535766273,-0.21301396382913657,0.2796610966082171,0.6150753211568992,-0.8829404665561942,-0.4656916952739058,-0.4252283999883795,0.4855630893895303,0.21391697236657217,-0.24628332366479058,0.1698428083437271,0.4165353423709389,1.0312345779753802,-0.3802955308874277,-0.24345550305773975,-1.6088187152500206,1.362642934270473,0.5659359812206953,-0.08982000068507776,0.13460869031949085,0.07277500218970358],\"yaxis\":\"y3\",\"type\":\"scatter\"},{\"line\":{\"color\":\"rgba(128, 128, 128, 1.0)\",\"dash\":\"solid\",\"shape\":\"linear\",\"width\":1.3},\"marker\":{\"size\":2,\"symbol\":\"circle\"},\"mode\":\"markers\",\"name\":\"A\",\"text\":\"\",\"x\":[-1.4248961080733737,-0.3273423015501189,-1.251243272904655,0.03571868360370304,-0.8831359287118566,-0.4570458265199517,0.6669520968804289,0.12954797107100285,-1.1872784105353085,-1.0788534706921908,0.30414595111300274,-0.5808001420568194,0.7181559955419363,0.06431165990781074,0.4849600848179319,1.4650669998186705,0.3674900679512842,0.4659875208335856,1.8188709506352152,-2.4086829521242197,0.14269415469329055,-0.8986756621656249,0.24858640874522073,-0.6666710092100481,0.5312821075428688,0.6019372930953827,-0.8785566114030708,0.681347037704834,-0.5275682348277461,0.5224893317843847,-0.4632983081749662,0.11455424289896247,-0.5877204962503827,-0.2727428023361453,0.11871099006403349,-0.012220458087781596,-0.3418858101884144,-0.1701824065150667,0.19866144793597726,2.2346940769277372,0.2699534923198242,1.4952770521817178,1.9779450932749005,-0.1573965657928153,0.21480268763970578,-0.014537958815027823,0.9464220940372752,0.6011294964228965,-0.5791683004735586,-0.14674788751325316,0.742208864305391,0.5414212853423049,-0.9944259857720036,-0.2959846855161765,0.23580701543961627,-1.6600227313443063,-0.9233777628566187,-0.5238750058782555,-2.993809512427146,-0.8172655557837051,-0.29137604806023587,-0.2996317587288255,-0.5762542829528886,-1.4475470129302017,0.7626889846818631,-0.11586394220813491,0.7333320422309404,0.2631279090696038,0.15528968037263927,-0.4027569275919533,1.2364870960612364,1.1247560994972394,0.158400504315808,-0.8953734151597598,0.029924998471448666,1.0348887702004474,-0.08442864675348455,2.5868485824131993,1.117124451409192,-0.8021254788163592,1.3609419169157688,-0.9939500139315293,0.5130557561569394,-1.2397896504581485,-0.24837163218103428,-0.3698617259191884,-1.0388166503324645,0.9790966570987323,-0.11488459891479715,0.49015055617855424,-0.25275398163526946,1.1848213764718107,0.23659704857385866,-0.2719241288569037,1.325505481258998,-1.3312249257331565,1.2051807720165935,0.5847206558372181,0.06900031359470782,1.0132343277241416],\"xaxis\":\"x4\",\"y\":[-0.7211844881720889,-1.460522588285307,2.154948856212787,-0.49761196784253425,0.45284763019750024,-0.2146016535662887,0.6461779730757492,-0.11825227421614609,1.2915518225379228,0.18608916067102835,-1.4874697128735566,-2.674955108446302,0.9190575231032203,-2.5325371551100275,-1.6777824953054545,-0.5467026438923042,0.5889265073259935,0.5713454137445192,-0.7405110737545675,-0.3762010861641179,0.1489885436790522,0.5826629600411326,9.93956133860854e-05,1.3228779971160258,1.548816618475939,1.0493635334616715,-0.41796228792981016,0.17190353418274495,0.26603823982029823,1.7748592869778435,-0.7486339320839377,0.0800193740814564,0.024234150399956793,-1.2542478347818165,0.437098308644309,0.703962364809523,-1.456325016003159,-1.515331912201515,-1.6783903384875147,-0.4105728612305543,-1.609348939801891,0.20873382660773848,1.7185816695607006,1.515224936174814,1.0690785260274,-1.6264240979749063,-0.10391990265168422,-1.0109174745146479,-1.9146061901244,0.8887427941528846,1.1887629381499019,-2.628399663534101,1.4627541154619559,1.2193879796116494,0.03120731155045379,0.19112324160339209,-0.41263213724016684,1.2195646026171014,-0.9357186450127927,-0.7735198800180834,0.7193889197776803,0.6576833793061325,-1.056242381180936,0.09944112179190494,1.0607886466058087,1.7480384469434798,-0.2925634435299589,-2.259658886505214,-1.693429506937218,2.0564346631440666,-0.14075746225916153,1.1671358816250528,-0.5788602987660235,-0.0019086180276748474,-1.9031784355512493,0.6697468613769787,1.2899599026774455,1.0937370716707826,0.2270561295865113,-0.22835157535766273,-0.21301396382913657,0.2796610966082171,0.6150753211568992,-0.8829404665561942,-0.4656916952739058,-0.4252283999883795,0.4855630893895303,0.21391697236657217,-0.24628332366479058,0.1698428083437271,0.4165353423709389,1.0312345779753802,-0.3802955308874277,-0.24345550305773975,-1.6088187152500206,1.362642934270473,0.5659359812206953,-0.08982000068507776,0.13460869031949085,0.07277500218970358],\"yaxis\":\"y4\",\"type\":\"scatter\"},{\"line\":{\"color\":\"rgba(128, 128, 128, 1.0)\",\"dash\":\"solid\",\"shape\":\"linear\",\"width\":1.3},\"marker\":{\"size\":2,\"symbol\":\"circle\"},\"mode\":\"markers\",\"name\":\"B\",\"text\":\"\",\"x\":[-0.7211844881720889,-1.460522588285307,2.154948856212787,-0.49761196784253425,0.45284763019750024,-0.2146016535662887,0.6461779730757492,-0.11825227421614609,1.2915518225379228,0.18608916067102835,-1.4874697128735566,-2.674955108446302,0.9190575231032203,-2.5325371551100275,-1.6777824953054545,-0.5467026438923042,0.5889265073259935,0.5713454137445192,-0.7405110737545675,-0.3762010861641179,0.1489885436790522,0.5826629600411326,9.93956133860854e-05,1.3228779971160258,1.548816618475939,1.0493635334616715,-0.41796228792981016,0.17190353418274495,0.26603823982029823,1.7748592869778435,-0.7486339320839377,0.0800193740814564,0.024234150399956793,-1.2542478347818165,0.437098308644309,0.703962364809523,-1.456325016003159,-1.515331912201515,-1.6783903384875147,-0.4105728612305543,-1.609348939801891,0.20873382660773848,1.7185816695607006,1.515224936174814,1.0690785260274,-1.6264240979749063,-0.10391990265168422,-1.0109174745146479,-1.9146061901244,0.8887427941528846,1.1887629381499019,-2.628399663534101,1.4627541154619559,1.2193879796116494,0.03120731155045379,0.19112324160339209,-0.41263213724016684,1.2195646026171014,-0.9357186450127927,-0.7735198800180834,0.7193889197776803,0.6576833793061325,-1.056242381180936,0.09944112179190494,1.0607886466058087,1.7480384469434798,-0.2925634435299589,-2.259658886505214,-1.693429506937218,2.0564346631440666,-0.14075746225916153,1.1671358816250528,-0.5788602987660235,-0.0019086180276748474,-1.9031784355512493,0.6697468613769787,1.2899599026774455,1.0937370716707826,0.2270561295865113,-0.22835157535766273,-0.21301396382913657,0.2796610966082171,0.6150753211568992,-0.8829404665561942,-0.4656916952739058,-0.4252283999883795,0.4855630893895303,0.21391697236657217,-0.24628332366479058,0.1698428083437271,0.4165353423709389,1.0312345779753802,-0.3802955308874277,-0.24345550305773975,-1.6088187152500206,1.362642934270473,0.5659359812206953,-0.08982000068507776,0.13460869031949085,0.07277500218970358],\"xaxis\":\"x5\",\"y\":[1.9363176963824915,0.783691095069216,-1.1913463628659005,-0.6441276887203147,1.1687904468466739,0.6323414704685131,-1.2191589935127074,-0.2143976718639855,-1.9448875532251129,-0.28376974222916534,1.5782128138754477,-1.8196443931299022,-0.6407499492278539,-0.4211817381995266,0.749816068741311,1.0357869223281948,1.4574441310839379,-0.3042344579582755,0.19723781050623027,-0.5624181531021479,-1.4068385344205947,-1.467133562334591,-0.5674350597043402,-2.129336044404162,1.1758806168946234,-0.16448995704076652,-0.9779043170437532,-0.34597066195963844,0.5646432182256792,1.3236523242202396,0.6072867513938234,-0.568385280381742,-1.1186532483940683,0.30430474772314803,-0.31653229378343317,0.10274254004759957,-0.4004143253747189,-0.5401696407335572,-1.7905406758414422,-0.3447153898348365,0.01640549905721995,1.329803844957976,-0.2838454848295598,-0.7149500718878599,2.131509449259118,-0.20594262819363468,-0.46095460604086497,1.3762460600580146,-0.5315216700601639,0.4330121353014572,-1.0421993308088067,-1.5558986585240033,-1.218392913837334,0.44444621727844846,-0.3033811422910685,-0.2348174161172821,0.6761559094978562,-0.1433003612459205,-0.5021565887281341,-0.5643974865846672,-0.32738588487886683,2.7095465578361577,0.18779561954741292,-0.179442053806397,0.16190622421114106,-0.10631574297220216,-0.9719562551176633,-0.8864656963735614,-1.0971579537801677,0.5703636600272055,0.017455999104761276,0.10764563017514592,0.6674390203404504,-1.5483790010746306,0.7855020724347893,1.0864443237398242,-0.09412775608332852,-0.7155961933081841,2.1220822162796087,0.6706361949388256,-0.5290544807432842,-2.2005054084000197,0.1576792060896083,0.09945177553841868,-1.8392810801254043,-0.9192852920587717,2.4718464231328774,0.2076321039179723,-0.8445272827194005,-0.8008434375387793,-0.007766019613267419,0.5090193899057244,-0.0030644485108717303,1.2109719752722654,-0.8042659230928949,0.0639503553332306,-0.19669717584049626,0.3109834776847498,0.27778199066943177,0.9202818228115818],\"yaxis\":\"y5\",\"type\":\"scatter\"},{\"histfunc\":\"count\",\"histnorm\":\"\",\"marker\":{\"color\":\"rgba(55, 128, 191, 1.0)\",\"line\":{\"color\":\"#4D5663\",\"width\":1.3}},\"name\":\"B\",\"nbinsx\":10,\"opacity\":0.8,\"orientation\":\"v\",\"x\":[1.9363176963824915,0.783691095069216,-1.1913463628659005,-0.6441276887203147,1.1687904468466739,0.6323414704685131,-1.2191589935127074,-0.2143976718639855,-1.9448875532251129,-0.28376974222916534,1.5782128138754477,-1.8196443931299022,-0.6407499492278539,-0.4211817381995266,0.749816068741311,1.0357869223281948,1.4574441310839379,-0.3042344579582755,0.19723781050623027,-0.5624181531021479,-1.4068385344205947,-1.467133562334591,-0.5674350597043402,-2.129336044404162,1.1758806168946234,-0.16448995704076652,-0.9779043170437532,-0.34597066195963844,0.5646432182256792,1.3236523242202396,0.6072867513938234,-0.568385280381742,-1.1186532483940683,0.30430474772314803,-0.31653229378343317,0.10274254004759957,-0.4004143253747189,-0.5401696407335572,-1.7905406758414422,-0.3447153898348365,0.01640549905721995,1.329803844957976,-0.2838454848295598,-0.7149500718878599,2.131509449259118,-0.20594262819363468,-0.46095460604086497,1.3762460600580146,-0.5315216700601639,0.4330121353014572,-1.0421993308088067,-1.5558986585240033,-1.218392913837334,0.44444621727844846,-0.3033811422910685,-0.2348174161172821,0.6761559094978562,-0.1433003612459205,-0.5021565887281341,-0.5643974865846672,-0.32738588487886683,2.7095465578361577,0.18779561954741292,-0.179442053806397,0.16190622421114106,-0.10631574297220216,-0.9719562551176633,-0.8864656963735614,-1.0971579537801677,0.5703636600272055,0.017455999104761276,0.10764563017514592,0.6674390203404504,-1.5483790010746306,0.7855020724347893,1.0864443237398242,-0.09412775608332852,-0.7155961933081841,2.1220822162796087,0.6706361949388256,-0.5290544807432842,-2.2005054084000197,0.1576792060896083,0.09945177553841868,-1.8392810801254043,-0.9192852920587717,2.4718464231328774,0.2076321039179723,-0.8445272827194005,-0.8008434375387793,-0.007766019613267419,0.5090193899057244,-0.0030644485108717303,1.2109719752722654,-0.8042659230928949,0.0639503553332306,-0.19669717584049626,0.3109834776847498,0.27778199066943177,0.9202818228115818],\"xaxis\":\"x6\",\"yaxis\":\"y6\",\"type\":\"histogram\"},{\"line\":{\"color\":\"rgba(128, 128, 128, 1.0)\",\"dash\":\"solid\",\"shape\":\"linear\",\"width\":1.3},\"marker\":{\"size\":2,\"symbol\":\"circle\"},\"mode\":\"markers\",\"name\":\"B\",\"text\":\"\",\"x\":[1.4859017289979828,-0.33882624051823435,0.5643405958898692,1.2614884985758812,1.6779225026293678,-1.5007675294668912,-0.3133709553042308,-0.24881116987413524,-0.8984296938782744,0.8517918517884915,0.7914783840592418,1.0118561818366778,-0.16940827506921166,0.48119272683245096,-0.5302480006131105,-0.12596380055710518,-0.914482692452627,0.2430324564669559,-0.6271456877220737,-0.039243873746583474,-0.624373521737248,-0.7011493076273844,0.34747903798741425,-0.703721067051155,0.8724572241803034,0.5465326745477941,-1.0166519623938672,-0.22250238064915695,0.7798878940201981,-0.47769775108492524,0.7515736123635777,-0.7065355298480203,0.5293249332023787,-1.1892173218761193,2.1194522888672753,-0.10986125717974393,0.8791148594632846,0.5460438641241416,-0.30489535972538856,0.22483542272608617,0.6888768183285222,-0.6729712777178668,-0.7300028071817591,0.2679722597855181,0.6035977345794945,1.180301839137286,-1.2760752780811426,0.9142491827677313,0.4425859047930506,1.154320087707713,-2.735241340135281,1.1364550696252336,0.3001807224411202,0.12550119080175973,-0.5560080144457152,-0.693293437527863,3.0194991712263026,-0.4262567543938785,0.5764953151360391,0.45139734451565655,-0.167279095942579,1.2692271053324897,-1.019028606681503,-0.6739974262146932,0.08992637211206918,0.7261097008800064,-0.17338081937656077,-0.7215243294097896,0.09804193397711113,-0.42254823205487335,-1.3675350240945991,0.8495984942986297,-2.331481960731101,-0.255456500873279,-1.0621376786949863,1.672461134218411,-0.27760778046229584,1.2612127949309468,-0.9445409907916669,-0.7510247839559636,0.3586429710448984,2.0143853340331566,1.0897052639120521,1.3917973240762471,1.0649228888781936,-1.1921019278896943,0.3584927758114282,-1.446003874283754,0.4617132803189797,0.022046213056134613,-1.0258203592039308,-1.7522236855261502,0.4623225073343496,-0.12079620716968513,-0.07238179439131184,-0.8239656021056064,1.5573934006047707,0.011873561422134572,0.1454108215874784,0.3194758145951463],\"xaxis\":\"x7\",\"y\":[1.9363176963824915,0.783691095069216,-1.1913463628659005,-0.6441276887203147,1.1687904468466739,0.6323414704685131,-1.2191589935127074,-0.2143976718639855,-1.9448875532251129,-0.28376974222916534,1.5782128138754477,-1.8196443931299022,-0.6407499492278539,-0.4211817381995266,0.749816068741311,1.0357869223281948,1.4574441310839379,-0.3042344579582755,0.19723781050623027,-0.5624181531021479,-1.4068385344205947,-1.467133562334591,-0.5674350597043402,-2.129336044404162,1.1758806168946234,-0.16448995704076652,-0.9779043170437532,-0.34597066195963844,0.5646432182256792,1.3236523242202396,0.6072867513938234,-0.568385280381742,-1.1186532483940683,0.30430474772314803,-0.31653229378343317,0.10274254004759957,-0.4004143253747189,-0.5401696407335572,-1.7905406758414422,-0.3447153898348365,0.01640549905721995,1.329803844957976,-0.2838454848295598,-0.7149500718878599,2.131509449259118,-0.20594262819363468,-0.46095460604086497,1.3762460600580146,-0.5315216700601639,0.4330121353014572,-1.0421993308088067,-1.5558986585240033,-1.218392913837334,0.44444621727844846,-0.3033811422910685,-0.2348174161172821,0.6761559094978562,-0.1433003612459205,-0.5021565887281341,-0.5643974865846672,-0.32738588487886683,2.7095465578361577,0.18779561954741292,-0.179442053806397,0.16190622421114106,-0.10631574297220216,-0.9719562551176633,-0.8864656963735614,-1.0971579537801677,0.5703636600272055,0.017455999104761276,0.10764563017514592,0.6674390203404504,-1.5483790010746306,0.7855020724347893,1.0864443237398242,-0.09412775608332852,-0.7155961933081841,2.1220822162796087,0.6706361949388256,-0.5290544807432842,-2.2005054084000197,0.1576792060896083,0.09945177553841868,-1.8392810801254043,-0.9192852920587717,2.4718464231328774,0.2076321039179723,-0.8445272827194005,-0.8008434375387793,-0.007766019613267419,0.5090193899057244,-0.0030644485108717303,1.2109719752722654,-0.8042659230928949,0.0639503553332306,-0.19669717584049626,0.3109834776847498,0.27778199066943177,0.9202818228115818],\"yaxis\":\"y7\",\"type\":\"scatter\"},{\"line\":{\"color\":\"rgba(128, 128, 128, 1.0)\",\"dash\":\"solid\",\"shape\":\"linear\",\"width\":1.3},\"marker\":{\"size\":2,\"symbol\":\"circle\"},\"mode\":\"markers\",\"name\":\"B\",\"text\":\"\",\"x\":[-1.4248961080733737,-0.3273423015501189,-1.251243272904655,0.03571868360370304,-0.8831359287118566,-0.4570458265199517,0.6669520968804289,0.12954797107100285,-1.1872784105353085,-1.0788534706921908,0.30414595111300274,-0.5808001420568194,0.7181559955419363,0.06431165990781074,0.4849600848179319,1.4650669998186705,0.3674900679512842,0.4659875208335856,1.8188709506352152,-2.4086829521242197,0.14269415469329055,-0.8986756621656249,0.24858640874522073,-0.6666710092100481,0.5312821075428688,0.6019372930953827,-0.8785566114030708,0.681347037704834,-0.5275682348277461,0.5224893317843847,-0.4632983081749662,0.11455424289896247,-0.5877204962503827,-0.2727428023361453,0.11871099006403349,-0.012220458087781596,-0.3418858101884144,-0.1701824065150667,0.19866144793597726,2.2346940769277372,0.2699534923198242,1.4952770521817178,1.9779450932749005,-0.1573965657928153,0.21480268763970578,-0.014537958815027823,0.9464220940372752,0.6011294964228965,-0.5791683004735586,-0.14674788751325316,0.742208864305391,0.5414212853423049,-0.9944259857720036,-0.2959846855161765,0.23580701543961627,-1.6600227313443063,-0.9233777628566187,-0.5238750058782555,-2.993809512427146,-0.8172655557837051,-0.29137604806023587,-0.2996317587288255,-0.5762542829528886,-1.4475470129302017,0.7626889846818631,-0.11586394220813491,0.7333320422309404,0.2631279090696038,0.15528968037263927,-0.4027569275919533,1.2364870960612364,1.1247560994972394,0.158400504315808,-0.8953734151597598,0.029924998471448666,1.0348887702004474,-0.08442864675348455,2.5868485824131993,1.117124451409192,-0.8021254788163592,1.3609419169157688,-0.9939500139315293,0.5130557561569394,-1.2397896504581485,-0.24837163218103428,-0.3698617259191884,-1.0388166503324645,0.9790966570987323,-0.11488459891479715,0.49015055617855424,-0.25275398163526946,1.1848213764718107,0.23659704857385866,-0.2719241288569037,1.325505481258998,-1.3312249257331565,1.2051807720165935,0.5847206558372181,0.06900031359470782,1.0132343277241416],\"xaxis\":\"x8\",\"y\":[1.9363176963824915,0.783691095069216,-1.1913463628659005,-0.6441276887203147,1.1687904468466739,0.6323414704685131,-1.2191589935127074,-0.2143976718639855,-1.9448875532251129,-0.28376974222916534,1.5782128138754477,-1.8196443931299022,-0.6407499492278539,-0.4211817381995266,0.749816068741311,1.0357869223281948,1.4574441310839379,-0.3042344579582755,0.19723781050623027,-0.5624181531021479,-1.4068385344205947,-1.467133562334591,-0.5674350597043402,-2.129336044404162,1.1758806168946234,-0.16448995704076652,-0.9779043170437532,-0.34597066195963844,0.5646432182256792,1.3236523242202396,0.6072867513938234,-0.568385280381742,-1.1186532483940683,0.30430474772314803,-0.31653229378343317,0.10274254004759957,-0.4004143253747189,-0.5401696407335572,-1.7905406758414422,-0.3447153898348365,0.01640549905721995,1.329803844957976,-0.2838454848295598,-0.7149500718878599,2.131509449259118,-0.20594262819363468,-0.46095460604086497,1.3762460600580146,-0.5315216700601639,0.4330121353014572,-1.0421993308088067,-1.5558986585240033,-1.218392913837334,0.44444621727844846,-0.3033811422910685,-0.2348174161172821,0.6761559094978562,-0.1433003612459205,-0.5021565887281341,-0.5643974865846672,-0.32738588487886683,2.7095465578361577,0.18779561954741292,-0.179442053806397,0.16190622421114106,-0.10631574297220216,-0.9719562551176633,-0.8864656963735614,-1.0971579537801677,0.5703636600272055,0.017455999104761276,0.10764563017514592,0.6674390203404504,-1.5483790010746306,0.7855020724347893,1.0864443237398242,-0.09412775608332852,-0.7155961933081841,2.1220822162796087,0.6706361949388256,-0.5290544807432842,-2.2005054084000197,0.1576792060896083,0.09945177553841868,-1.8392810801254043,-0.9192852920587717,2.4718464231328774,0.2076321039179723,-0.8445272827194005,-0.8008434375387793,-0.007766019613267419,0.5090193899057244,-0.0030644485108717303,1.2109719752722654,-0.8042659230928949,0.0639503553332306,-0.19669717584049626,0.3109834776847498,0.27778199066943177,0.9202818228115818],\"yaxis\":\"y8\",\"type\":\"scatter\"},{\"line\":{\"color\":\"rgba(128, 128, 128, 1.0)\",\"dash\":\"solid\",\"shape\":\"linear\",\"width\":1.3},\"marker\":{\"size\":2,\"symbol\":\"circle\"},\"mode\":\"markers\",\"name\":\"C\",\"text\":\"\",\"x\":[-0.7211844881720889,-1.460522588285307,2.154948856212787,-0.49761196784253425,0.45284763019750024,-0.2146016535662887,0.6461779730757492,-0.11825227421614609,1.2915518225379228,0.18608916067102835,-1.4874697128735566,-2.674955108446302,0.9190575231032203,-2.5325371551100275,-1.6777824953054545,-0.5467026438923042,0.5889265073259935,0.5713454137445192,-0.7405110737545675,-0.3762010861641179,0.1489885436790522,0.5826629600411326,9.93956133860854e-05,1.3228779971160258,1.548816618475939,1.0493635334616715,-0.41796228792981016,0.17190353418274495,0.26603823982029823,1.7748592869778435,-0.7486339320839377,0.0800193740814564,0.024234150399956793,-1.2542478347818165,0.437098308644309,0.703962364809523,-1.456325016003159,-1.515331912201515,-1.6783903384875147,-0.4105728612305543,-1.609348939801891,0.20873382660773848,1.7185816695607006,1.515224936174814,1.0690785260274,-1.6264240979749063,-0.10391990265168422,-1.0109174745146479,-1.9146061901244,0.8887427941528846,1.1887629381499019,-2.628399663534101,1.4627541154619559,1.2193879796116494,0.03120731155045379,0.19112324160339209,-0.41263213724016684,1.2195646026171014,-0.9357186450127927,-0.7735198800180834,0.7193889197776803,0.6576833793061325,-1.056242381180936,0.09944112179190494,1.0607886466058087,1.7480384469434798,-0.2925634435299589,-2.259658886505214,-1.693429506937218,2.0564346631440666,-0.14075746225916153,1.1671358816250528,-0.5788602987660235,-0.0019086180276748474,-1.9031784355512493,0.6697468613769787,1.2899599026774455,1.0937370716707826,0.2270561295865113,-0.22835157535766273,-0.21301396382913657,0.2796610966082171,0.6150753211568992,-0.8829404665561942,-0.4656916952739058,-0.4252283999883795,0.4855630893895303,0.21391697236657217,-0.24628332366479058,0.1698428083437271,0.4165353423709389,1.0312345779753802,-0.3802955308874277,-0.24345550305773975,-1.6088187152500206,1.362642934270473,0.5659359812206953,-0.08982000068507776,0.13460869031949085,0.07277500218970358],\"xaxis\":\"x9\",\"y\":[1.4859017289979828,-0.33882624051823435,0.5643405958898692,1.2614884985758812,1.6779225026293678,-1.5007675294668912,-0.3133709553042308,-0.24881116987413524,-0.8984296938782744,0.8517918517884915,0.7914783840592418,1.0118561818366778,-0.16940827506921166,0.48119272683245096,-0.5302480006131105,-0.12596380055710518,-0.914482692452627,0.2430324564669559,-0.6271456877220737,-0.039243873746583474,-0.624373521737248,-0.7011493076273844,0.34747903798741425,-0.703721067051155,0.8724572241803034,0.5465326745477941,-1.0166519623938672,-0.22250238064915695,0.7798878940201981,-0.47769775108492524,0.7515736123635777,-0.7065355298480203,0.5293249332023787,-1.1892173218761193,2.1194522888672753,-0.10986125717974393,0.8791148594632846,0.5460438641241416,-0.30489535972538856,0.22483542272608617,0.6888768183285222,-0.6729712777178668,-0.7300028071817591,0.2679722597855181,0.6035977345794945,1.180301839137286,-1.2760752780811426,0.9142491827677313,0.4425859047930506,1.154320087707713,-2.735241340135281,1.1364550696252336,0.3001807224411202,0.12550119080175973,-0.5560080144457152,-0.693293437527863,3.0194991712263026,-0.4262567543938785,0.5764953151360391,0.45139734451565655,-0.167279095942579,1.2692271053324897,-1.019028606681503,-0.6739974262146932,0.08992637211206918,0.7261097008800064,-0.17338081937656077,-0.7215243294097896,0.09804193397711113,-0.42254823205487335,-1.3675350240945991,0.8495984942986297,-2.331481960731101,-0.255456500873279,-1.0621376786949863,1.672461134218411,-0.27760778046229584,1.2612127949309468,-0.9445409907916669,-0.7510247839559636,0.3586429710448984,2.0143853340331566,1.0897052639120521,1.3917973240762471,1.0649228888781936,-1.1921019278896943,0.3584927758114282,-1.446003874283754,0.4617132803189797,0.022046213056134613,-1.0258203592039308,-1.7522236855261502,0.4623225073343496,-0.12079620716968513,-0.07238179439131184,-0.8239656021056064,1.5573934006047707,0.011873561422134572,0.1454108215874784,0.3194758145951463],\"yaxis\":\"y9\",\"type\":\"scatter\"},{\"line\":{\"color\":\"rgba(128, 128, 128, 1.0)\",\"dash\":\"solid\",\"shape\":\"linear\",\"width\":1.3},\"marker\":{\"size\":2,\"symbol\":\"circle\"},\"mode\":\"markers\",\"name\":\"C\",\"text\":\"\",\"x\":[1.9363176963824915,0.783691095069216,-1.1913463628659005,-0.6441276887203147,1.1687904468466739,0.6323414704685131,-1.2191589935127074,-0.2143976718639855,-1.9448875532251129,-0.28376974222916534,1.5782128138754477,-1.8196443931299022,-0.6407499492278539,-0.4211817381995266,0.749816068741311,1.0357869223281948,1.4574441310839379,-0.3042344579582755,0.19723781050623027,-0.5624181531021479,-1.4068385344205947,-1.467133562334591,-0.5674350597043402,-2.129336044404162,1.1758806168946234,-0.16448995704076652,-0.9779043170437532,-0.34597066195963844,0.5646432182256792,1.3236523242202396,0.6072867513938234,-0.568385280381742,-1.1186532483940683,0.30430474772314803,-0.31653229378343317,0.10274254004759957,-0.4004143253747189,-0.5401696407335572,-1.7905406758414422,-0.3447153898348365,0.01640549905721995,1.329803844957976,-0.2838454848295598,-0.7149500718878599,2.131509449259118,-0.20594262819363468,-0.46095460604086497,1.3762460600580146,-0.5315216700601639,0.4330121353014572,-1.0421993308088067,-1.5558986585240033,-1.218392913837334,0.44444621727844846,-0.3033811422910685,-0.2348174161172821,0.6761559094978562,-0.1433003612459205,-0.5021565887281341,-0.5643974865846672,-0.32738588487886683,2.7095465578361577,0.18779561954741292,-0.179442053806397,0.16190622421114106,-0.10631574297220216,-0.9719562551176633,-0.8864656963735614,-1.0971579537801677,0.5703636600272055,0.017455999104761276,0.10764563017514592,0.6674390203404504,-1.5483790010746306,0.7855020724347893,1.0864443237398242,-0.09412775608332852,-0.7155961933081841,2.1220822162796087,0.6706361949388256,-0.5290544807432842,-2.2005054084000197,0.1576792060896083,0.09945177553841868,-1.8392810801254043,-0.9192852920587717,2.4718464231328774,0.2076321039179723,-0.8445272827194005,-0.8008434375387793,-0.007766019613267419,0.5090193899057244,-0.0030644485108717303,1.2109719752722654,-0.8042659230928949,0.0639503553332306,-0.19669717584049626,0.3109834776847498,0.27778199066943177,0.9202818228115818],\"xaxis\":\"x10\",\"y\":[1.4859017289979828,-0.33882624051823435,0.5643405958898692,1.2614884985758812,1.6779225026293678,-1.5007675294668912,-0.3133709553042308,-0.24881116987413524,-0.8984296938782744,0.8517918517884915,0.7914783840592418,1.0118561818366778,-0.16940827506921166,0.48119272683245096,-0.5302480006131105,-0.12596380055710518,-0.914482692452627,0.2430324564669559,-0.6271456877220737,-0.039243873746583474,-0.624373521737248,-0.7011493076273844,0.34747903798741425,-0.703721067051155,0.8724572241803034,0.5465326745477941,-1.0166519623938672,-0.22250238064915695,0.7798878940201981,-0.47769775108492524,0.7515736123635777,-0.7065355298480203,0.5293249332023787,-1.1892173218761193,2.1194522888672753,-0.10986125717974393,0.8791148594632846,0.5460438641241416,-0.30489535972538856,0.22483542272608617,0.6888768183285222,-0.6729712777178668,-0.7300028071817591,0.2679722597855181,0.6035977345794945,1.180301839137286,-1.2760752780811426,0.9142491827677313,0.4425859047930506,1.154320087707713,-2.735241340135281,1.1364550696252336,0.3001807224411202,0.12550119080175973,-0.5560080144457152,-0.693293437527863,3.0194991712263026,-0.4262567543938785,0.5764953151360391,0.45139734451565655,-0.167279095942579,1.2692271053324897,-1.019028606681503,-0.6739974262146932,0.08992637211206918,0.7261097008800064,-0.17338081937656077,-0.7215243294097896,0.09804193397711113,-0.42254823205487335,-1.3675350240945991,0.8495984942986297,-2.331481960731101,-0.255456500873279,-1.0621376786949863,1.672461134218411,-0.27760778046229584,1.2612127949309468,-0.9445409907916669,-0.7510247839559636,0.3586429710448984,2.0143853340331566,1.0897052639120521,1.3917973240762471,1.0649228888781936,-1.1921019278896943,0.3584927758114282,-1.446003874283754,0.4617132803189797,0.022046213056134613,-1.0258203592039308,-1.7522236855261502,0.4623225073343496,-0.12079620716968513,-0.07238179439131184,-0.8239656021056064,1.5573934006047707,0.011873561422134572,0.1454108215874784,0.3194758145951463],\"yaxis\":\"y10\",\"type\":\"scatter\"},{\"histfunc\":\"count\",\"histnorm\":\"\",\"marker\":{\"color\":\"rgba(50, 171, 96, 1.0)\",\"line\":{\"color\":\"#4D5663\",\"width\":1.3}},\"name\":\"C\",\"nbinsx\":10,\"opacity\":0.8,\"orientation\":\"v\",\"x\":[1.4859017289979828,-0.33882624051823435,0.5643405958898692,1.2614884985758812,1.6779225026293678,-1.5007675294668912,-0.3133709553042308,-0.24881116987413524,-0.8984296938782744,0.8517918517884915,0.7914783840592418,1.0118561818366778,-0.16940827506921166,0.48119272683245096,-0.5302480006131105,-0.12596380055710518,-0.914482692452627,0.2430324564669559,-0.6271456877220737,-0.039243873746583474,-0.624373521737248,-0.7011493076273844,0.34747903798741425,-0.703721067051155,0.8724572241803034,0.5465326745477941,-1.0166519623938672,-0.22250238064915695,0.7798878940201981,-0.47769775108492524,0.7515736123635777,-0.7065355298480203,0.5293249332023787,-1.1892173218761193,2.1194522888672753,-0.10986125717974393,0.8791148594632846,0.5460438641241416,-0.30489535972538856,0.22483542272608617,0.6888768183285222,-0.6729712777178668,-0.7300028071817591,0.2679722597855181,0.6035977345794945,1.180301839137286,-1.2760752780811426,0.9142491827677313,0.4425859047930506,1.154320087707713,-2.735241340135281,1.1364550696252336,0.3001807224411202,0.12550119080175973,-0.5560080144457152,-0.693293437527863,3.0194991712263026,-0.4262567543938785,0.5764953151360391,0.45139734451565655,-0.167279095942579,1.2692271053324897,-1.019028606681503,-0.6739974262146932,0.08992637211206918,0.7261097008800064,-0.17338081937656077,-0.7215243294097896,0.09804193397711113,-0.42254823205487335,-1.3675350240945991,0.8495984942986297,-2.331481960731101,-0.255456500873279,-1.0621376786949863,1.672461134218411,-0.27760778046229584,1.2612127949309468,-0.9445409907916669,-0.7510247839559636,0.3586429710448984,2.0143853340331566,1.0897052639120521,1.3917973240762471,1.0649228888781936,-1.1921019278896943,0.3584927758114282,-1.446003874283754,0.4617132803189797,0.022046213056134613,-1.0258203592039308,-1.7522236855261502,0.4623225073343496,-0.12079620716968513,-0.07238179439131184,-0.8239656021056064,1.5573934006047707,0.011873561422134572,0.1454108215874784,0.3194758145951463],\"xaxis\":\"x11\",\"yaxis\":\"y11\",\"type\":\"histogram\"},{\"line\":{\"color\":\"rgba(128, 128, 128, 1.0)\",\"dash\":\"solid\",\"shape\":\"linear\",\"width\":1.3},\"marker\":{\"size\":2,\"symbol\":\"circle\"},\"mode\":\"markers\",\"name\":\"C\",\"text\":\"\",\"x\":[-1.4248961080733737,-0.3273423015501189,-1.251243272904655,0.03571868360370304,-0.8831359287118566,-0.4570458265199517,0.6669520968804289,0.12954797107100285,-1.1872784105353085,-1.0788534706921908,0.30414595111300274,-0.5808001420568194,0.7181559955419363,0.06431165990781074,0.4849600848179319,1.4650669998186705,0.3674900679512842,0.4659875208335856,1.8188709506352152,-2.4086829521242197,0.14269415469329055,-0.8986756621656249,0.24858640874522073,-0.6666710092100481,0.5312821075428688,0.6019372930953827,-0.8785566114030708,0.681347037704834,-0.5275682348277461,0.5224893317843847,-0.4632983081749662,0.11455424289896247,-0.5877204962503827,-0.2727428023361453,0.11871099006403349,-0.012220458087781596,-0.3418858101884144,-0.1701824065150667,0.19866144793597726,2.2346940769277372,0.2699534923198242,1.4952770521817178,1.9779450932749005,-0.1573965657928153,0.21480268763970578,-0.014537958815027823,0.9464220940372752,0.6011294964228965,-0.5791683004735586,-0.14674788751325316,0.742208864305391,0.5414212853423049,-0.9944259857720036,-0.2959846855161765,0.23580701543961627,-1.6600227313443063,-0.9233777628566187,-0.5238750058782555,-2.993809512427146,-0.8172655557837051,-0.29137604806023587,-0.2996317587288255,-0.5762542829528886,-1.4475470129302017,0.7626889846818631,-0.11586394220813491,0.7333320422309404,0.2631279090696038,0.15528968037263927,-0.4027569275919533,1.2364870960612364,1.1247560994972394,0.158400504315808,-0.8953734151597598,0.029924998471448666,1.0348887702004474,-0.08442864675348455,2.5868485824131993,1.117124451409192,-0.8021254788163592,1.3609419169157688,-0.9939500139315293,0.5130557561569394,-1.2397896504581485,-0.24837163218103428,-0.3698617259191884,-1.0388166503324645,0.9790966570987323,-0.11488459891479715,0.49015055617855424,-0.25275398163526946,1.1848213764718107,0.23659704857385866,-0.2719241288569037,1.325505481258998,-1.3312249257331565,1.2051807720165935,0.5847206558372181,0.06900031359470782,1.0132343277241416],\"xaxis\":\"x12\",\"y\":[1.4859017289979828,-0.33882624051823435,0.5643405958898692,1.2614884985758812,1.6779225026293678,-1.5007675294668912,-0.3133709553042308,-0.24881116987413524,-0.8984296938782744,0.8517918517884915,0.7914783840592418,1.0118561818366778,-0.16940827506921166,0.48119272683245096,-0.5302480006131105,-0.12596380055710518,-0.914482692452627,0.2430324564669559,-0.6271456877220737,-0.039243873746583474,-0.624373521737248,-0.7011493076273844,0.34747903798741425,-0.703721067051155,0.8724572241803034,0.5465326745477941,-1.0166519623938672,-0.22250238064915695,0.7798878940201981,-0.47769775108492524,0.7515736123635777,-0.7065355298480203,0.5293249332023787,-1.1892173218761193,2.1194522888672753,-0.10986125717974393,0.8791148594632846,0.5460438641241416,-0.30489535972538856,0.22483542272608617,0.6888768183285222,-0.6729712777178668,-0.7300028071817591,0.2679722597855181,0.6035977345794945,1.180301839137286,-1.2760752780811426,0.9142491827677313,0.4425859047930506,1.154320087707713,-2.735241340135281,1.1364550696252336,0.3001807224411202,0.12550119080175973,-0.5560080144457152,-0.693293437527863,3.0194991712263026,-0.4262567543938785,0.5764953151360391,0.45139734451565655,-0.167279095942579,1.2692271053324897,-1.019028606681503,-0.6739974262146932,0.08992637211206918,0.7261097008800064,-0.17338081937656077,-0.7215243294097896,0.09804193397711113,-0.42254823205487335,-1.3675350240945991,0.8495984942986297,-2.331481960731101,-0.255456500873279,-1.0621376786949863,1.672461134218411,-0.27760778046229584,1.2612127949309468,-0.9445409907916669,-0.7510247839559636,0.3586429710448984,2.0143853340331566,1.0897052639120521,1.3917973240762471,1.0649228888781936,-1.1921019278896943,0.3584927758114282,-1.446003874283754,0.4617132803189797,0.022046213056134613,-1.0258203592039308,-1.7522236855261502,0.4623225073343496,-0.12079620716968513,-0.07238179439131184,-0.8239656021056064,1.5573934006047707,0.011873561422134572,0.1454108215874784,0.3194758145951463],\"yaxis\":\"y12\",\"type\":\"scatter\"},{\"line\":{\"color\":\"rgba(128, 128, 128, 1.0)\",\"dash\":\"solid\",\"shape\":\"linear\",\"width\":1.3},\"marker\":{\"size\":2,\"symbol\":\"circle\"},\"mode\":\"markers\",\"name\":\"D\",\"text\":\"\",\"x\":[-0.7211844881720889,-1.460522588285307,2.154948856212787,-0.49761196784253425,0.45284763019750024,-0.2146016535662887,0.6461779730757492,-0.11825227421614609,1.2915518225379228,0.18608916067102835,-1.4874697128735566,-2.674955108446302,0.9190575231032203,-2.5325371551100275,-1.6777824953054545,-0.5467026438923042,0.5889265073259935,0.5713454137445192,-0.7405110737545675,-0.3762010861641179,0.1489885436790522,0.5826629600411326,9.93956133860854e-05,1.3228779971160258,1.548816618475939,1.0493635334616715,-0.41796228792981016,0.17190353418274495,0.26603823982029823,1.7748592869778435,-0.7486339320839377,0.0800193740814564,0.024234150399956793,-1.2542478347818165,0.437098308644309,0.703962364809523,-1.456325016003159,-1.515331912201515,-1.6783903384875147,-0.4105728612305543,-1.609348939801891,0.20873382660773848,1.7185816695607006,1.515224936174814,1.0690785260274,-1.6264240979749063,-0.10391990265168422,-1.0109174745146479,-1.9146061901244,0.8887427941528846,1.1887629381499019,-2.628399663534101,1.4627541154619559,1.2193879796116494,0.03120731155045379,0.19112324160339209,-0.41263213724016684,1.2195646026171014,-0.9357186450127927,-0.7735198800180834,0.7193889197776803,0.6576833793061325,-1.056242381180936,0.09944112179190494,1.0607886466058087,1.7480384469434798,-0.2925634435299589,-2.259658886505214,-1.693429506937218,2.0564346631440666,-0.14075746225916153,1.1671358816250528,-0.5788602987660235,-0.0019086180276748474,-1.9031784355512493,0.6697468613769787,1.2899599026774455,1.0937370716707826,0.2270561295865113,-0.22835157535766273,-0.21301396382913657,0.2796610966082171,0.6150753211568992,-0.8829404665561942,-0.4656916952739058,-0.4252283999883795,0.4855630893895303,0.21391697236657217,-0.24628332366479058,0.1698428083437271,0.4165353423709389,1.0312345779753802,-0.3802955308874277,-0.24345550305773975,-1.6088187152500206,1.362642934270473,0.5659359812206953,-0.08982000068507776,0.13460869031949085,0.07277500218970358],\"xaxis\":\"x13\",\"y\":[-1.4248961080733737,-0.3273423015501189,-1.251243272904655,0.03571868360370304,-0.8831359287118566,-0.4570458265199517,0.6669520968804289,0.12954797107100285,-1.1872784105353085,-1.0788534706921908,0.30414595111300274,-0.5808001420568194,0.7181559955419363,0.06431165990781074,0.4849600848179319,1.4650669998186705,0.3674900679512842,0.4659875208335856,1.8188709506352152,-2.4086829521242197,0.14269415469329055,-0.8986756621656249,0.24858640874522073,-0.6666710092100481,0.5312821075428688,0.6019372930953827,-0.8785566114030708,0.681347037704834,-0.5275682348277461,0.5224893317843847,-0.4632983081749662,0.11455424289896247,-0.5877204962503827,-0.2727428023361453,0.11871099006403349,-0.012220458087781596,-0.3418858101884144,-0.1701824065150667,0.19866144793597726,2.2346940769277372,0.2699534923198242,1.4952770521817178,1.9779450932749005,-0.1573965657928153,0.21480268763970578,-0.014537958815027823,0.9464220940372752,0.6011294964228965,-0.5791683004735586,-0.14674788751325316,0.742208864305391,0.5414212853423049,-0.9944259857720036,-0.2959846855161765,0.23580701543961627,-1.6600227313443063,-0.9233777628566187,-0.5238750058782555,-2.993809512427146,-0.8172655557837051,-0.29137604806023587,-0.2996317587288255,-0.5762542829528886,-1.4475470129302017,0.7626889846818631,-0.11586394220813491,0.7333320422309404,0.2631279090696038,0.15528968037263927,-0.4027569275919533,1.2364870960612364,1.1247560994972394,0.158400504315808,-0.8953734151597598,0.029924998471448666,1.0348887702004474,-0.08442864675348455,2.5868485824131993,1.117124451409192,-0.8021254788163592,1.3609419169157688,-0.9939500139315293,0.5130557561569394,-1.2397896504581485,-0.24837163218103428,-0.3698617259191884,-1.0388166503324645,0.9790966570987323,-0.11488459891479715,0.49015055617855424,-0.25275398163526946,1.1848213764718107,0.23659704857385866,-0.2719241288569037,1.325505481258998,-1.3312249257331565,1.2051807720165935,0.5847206558372181,0.06900031359470782,1.0132343277241416],\"yaxis\":\"y13\",\"type\":\"scatter\"},{\"line\":{\"color\":\"rgba(128, 128, 128, 1.0)\",\"dash\":\"solid\",\"shape\":\"linear\",\"width\":1.3},\"marker\":{\"size\":2,\"symbol\":\"circle\"},\"mode\":\"markers\",\"name\":\"D\",\"text\":\"\",\"x\":[1.9363176963824915,0.783691095069216,-1.1913463628659005,-0.6441276887203147,1.1687904468466739,0.6323414704685131,-1.2191589935127074,-0.2143976718639855,-1.9448875532251129,-0.28376974222916534,1.5782128138754477,-1.8196443931299022,-0.6407499492278539,-0.4211817381995266,0.749816068741311,1.0357869223281948,1.4574441310839379,-0.3042344579582755,0.19723781050623027,-0.5624181531021479,-1.4068385344205947,-1.467133562334591,-0.5674350597043402,-2.129336044404162,1.1758806168946234,-0.16448995704076652,-0.9779043170437532,-0.34597066195963844,0.5646432182256792,1.3236523242202396,0.6072867513938234,-0.568385280381742,-1.1186532483940683,0.30430474772314803,-0.31653229378343317,0.10274254004759957,-0.4004143253747189,-0.5401696407335572,-1.7905406758414422,-0.3447153898348365,0.01640549905721995,1.329803844957976,-0.2838454848295598,-0.7149500718878599,2.131509449259118,-0.20594262819363468,-0.46095460604086497,1.3762460600580146,-0.5315216700601639,0.4330121353014572,-1.0421993308088067,-1.5558986585240033,-1.218392913837334,0.44444621727844846,-0.3033811422910685,-0.2348174161172821,0.6761559094978562,-0.1433003612459205,-0.5021565887281341,-0.5643974865846672,-0.32738588487886683,2.7095465578361577,0.18779561954741292,-0.179442053806397,0.16190622421114106,-0.10631574297220216,-0.9719562551176633,-0.8864656963735614,-1.0971579537801677,0.5703636600272055,0.017455999104761276,0.10764563017514592,0.6674390203404504,-1.5483790010746306,0.7855020724347893,1.0864443237398242,-0.09412775608332852,-0.7155961933081841,2.1220822162796087,0.6706361949388256,-0.5290544807432842,-2.2005054084000197,0.1576792060896083,0.09945177553841868,-1.8392810801254043,-0.9192852920587717,2.4718464231328774,0.2076321039179723,-0.8445272827194005,-0.8008434375387793,-0.007766019613267419,0.5090193899057244,-0.0030644485108717303,1.2109719752722654,-0.8042659230928949,0.0639503553332306,-0.19669717584049626,0.3109834776847498,0.27778199066943177,0.9202818228115818],\"xaxis\":\"x14\",\"y\":[-1.4248961080733737,-0.3273423015501189,-1.251243272904655,0.03571868360370304,-0.8831359287118566,-0.4570458265199517,0.6669520968804289,0.12954797107100285,-1.1872784105353085,-1.0788534706921908,0.30414595111300274,-0.5808001420568194,0.7181559955419363,0.06431165990781074,0.4849600848179319,1.4650669998186705,0.3674900679512842,0.4659875208335856,1.8188709506352152,-2.4086829521242197,0.14269415469329055,-0.8986756621656249,0.24858640874522073,-0.6666710092100481,0.5312821075428688,0.6019372930953827,-0.8785566114030708,0.681347037704834,-0.5275682348277461,0.5224893317843847,-0.4632983081749662,0.11455424289896247,-0.5877204962503827,-0.2727428023361453,0.11871099006403349,-0.012220458087781596,-0.3418858101884144,-0.1701824065150667,0.19866144793597726,2.2346940769277372,0.2699534923198242,1.4952770521817178,1.9779450932749005,-0.1573965657928153,0.21480268763970578,-0.014537958815027823,0.9464220940372752,0.6011294964228965,-0.5791683004735586,-0.14674788751325316,0.742208864305391,0.5414212853423049,-0.9944259857720036,-0.2959846855161765,0.23580701543961627,-1.6600227313443063,-0.9233777628566187,-0.5238750058782555,-2.993809512427146,-0.8172655557837051,-0.29137604806023587,-0.2996317587288255,-0.5762542829528886,-1.4475470129302017,0.7626889846818631,-0.11586394220813491,0.7333320422309404,0.2631279090696038,0.15528968037263927,-0.4027569275919533,1.2364870960612364,1.1247560994972394,0.158400504315808,-0.8953734151597598,0.029924998471448666,1.0348887702004474,-0.08442864675348455,2.5868485824131993,1.117124451409192,-0.8021254788163592,1.3609419169157688,-0.9939500139315293,0.5130557561569394,-1.2397896504581485,-0.24837163218103428,-0.3698617259191884,-1.0388166503324645,0.9790966570987323,-0.11488459891479715,0.49015055617855424,-0.25275398163526946,1.1848213764718107,0.23659704857385866,-0.2719241288569037,1.325505481258998,-1.3312249257331565,1.2051807720165935,0.5847206558372181,0.06900031359470782,1.0132343277241416],\"yaxis\":\"y14\",\"type\":\"scatter\"},{\"line\":{\"color\":\"rgba(128, 128, 128, 1.0)\",\"dash\":\"solid\",\"shape\":\"linear\",\"width\":1.3},\"marker\":{\"size\":2,\"symbol\":\"circle\"},\"mode\":\"markers\",\"name\":\"D\",\"text\":\"\",\"x\":[1.4859017289979828,-0.33882624051823435,0.5643405958898692,1.2614884985758812,1.6779225026293678,-1.5007675294668912,-0.3133709553042308,-0.24881116987413524,-0.8984296938782744,0.8517918517884915,0.7914783840592418,1.0118561818366778,-0.16940827506921166,0.48119272683245096,-0.5302480006131105,-0.12596380055710518,-0.914482692452627,0.2430324564669559,-0.6271456877220737,-0.039243873746583474,-0.624373521737248,-0.7011493076273844,0.34747903798741425,-0.703721067051155,0.8724572241803034,0.5465326745477941,-1.0166519623938672,-0.22250238064915695,0.7798878940201981,-0.47769775108492524,0.7515736123635777,-0.7065355298480203,0.5293249332023787,-1.1892173218761193,2.1194522888672753,-0.10986125717974393,0.8791148594632846,0.5460438641241416,-0.30489535972538856,0.22483542272608617,0.6888768183285222,-0.6729712777178668,-0.7300028071817591,0.2679722597855181,0.6035977345794945,1.180301839137286,-1.2760752780811426,0.9142491827677313,0.4425859047930506,1.154320087707713,-2.735241340135281,1.1364550696252336,0.3001807224411202,0.12550119080175973,-0.5560080144457152,-0.693293437527863,3.0194991712263026,-0.4262567543938785,0.5764953151360391,0.45139734451565655,-0.167279095942579,1.2692271053324897,-1.019028606681503,-0.6739974262146932,0.08992637211206918,0.7261097008800064,-0.17338081937656077,-0.7215243294097896,0.09804193397711113,-0.42254823205487335,-1.3675350240945991,0.8495984942986297,-2.331481960731101,-0.255456500873279,-1.0621376786949863,1.672461134218411,-0.27760778046229584,1.2612127949309468,-0.9445409907916669,-0.7510247839559636,0.3586429710448984,2.0143853340331566,1.0897052639120521,1.3917973240762471,1.0649228888781936,-1.1921019278896943,0.3584927758114282,-1.446003874283754,0.4617132803189797,0.022046213056134613,-1.0258203592039308,-1.7522236855261502,0.4623225073343496,-0.12079620716968513,-0.07238179439131184,-0.8239656021056064,1.5573934006047707,0.011873561422134572,0.1454108215874784,0.3194758145951463],\"xaxis\":\"x15\",\"y\":[-1.4248961080733737,-0.3273423015501189,-1.251243272904655,0.03571868360370304,-0.8831359287118566,-0.4570458265199517,0.6669520968804289,0.12954797107100285,-1.1872784105353085,-1.0788534706921908,0.30414595111300274,-0.5808001420568194,0.7181559955419363,0.06431165990781074,0.4849600848179319,1.4650669998186705,0.3674900679512842,0.4659875208335856,1.8188709506352152,-2.4086829521242197,0.14269415469329055,-0.8986756621656249,0.24858640874522073,-0.6666710092100481,0.5312821075428688,0.6019372930953827,-0.8785566114030708,0.681347037704834,-0.5275682348277461,0.5224893317843847,-0.4632983081749662,0.11455424289896247,-0.5877204962503827,-0.2727428023361453,0.11871099006403349,-0.012220458087781596,-0.3418858101884144,-0.1701824065150667,0.19866144793597726,2.2346940769277372,0.2699534923198242,1.4952770521817178,1.9779450932749005,-0.1573965657928153,0.21480268763970578,-0.014537958815027823,0.9464220940372752,0.6011294964228965,-0.5791683004735586,-0.14674788751325316,0.742208864305391,0.5414212853423049,-0.9944259857720036,-0.2959846855161765,0.23580701543961627,-1.6600227313443063,-0.9233777628566187,-0.5238750058782555,-2.993809512427146,-0.8172655557837051,-0.29137604806023587,-0.2996317587288255,-0.5762542829528886,-1.4475470129302017,0.7626889846818631,-0.11586394220813491,0.7333320422309404,0.2631279090696038,0.15528968037263927,-0.4027569275919533,1.2364870960612364,1.1247560994972394,0.158400504315808,-0.8953734151597598,0.029924998471448666,1.0348887702004474,-0.08442864675348455,2.5868485824131993,1.117124451409192,-0.8021254788163592,1.3609419169157688,-0.9939500139315293,0.5130557561569394,-1.2397896504581485,-0.24837163218103428,-0.3698617259191884,-1.0388166503324645,0.9790966570987323,-0.11488459891479715,0.49015055617855424,-0.25275398163526946,1.1848213764718107,0.23659704857385866,-0.2719241288569037,1.325505481258998,-1.3312249257331565,1.2051807720165935,0.5847206558372181,0.06900031359470782,1.0132343277241416],\"yaxis\":\"y15\",\"type\":\"scatter\"},{\"histfunc\":\"count\",\"histnorm\":\"\",\"marker\":{\"color\":\"rgba(128, 0, 128, 1.0)\",\"line\":{\"color\":\"#4D5663\",\"width\":1.3}},\"name\":\"D\",\"nbinsx\":10,\"opacity\":0.8,\"orientation\":\"v\",\"x\":[-1.4248961080733737,-0.3273423015501189,-1.251243272904655,0.03571868360370304,-0.8831359287118566,-0.4570458265199517,0.6669520968804289,0.12954797107100285,-1.1872784105353085,-1.0788534706921908,0.30414595111300274,-0.5808001420568194,0.7181559955419363,0.06431165990781074,0.4849600848179319,1.4650669998186705,0.3674900679512842,0.4659875208335856,1.8188709506352152,-2.4086829521242197,0.14269415469329055,-0.8986756621656249,0.24858640874522073,-0.6666710092100481,0.5312821075428688,0.6019372930953827,-0.8785566114030708,0.681347037704834,-0.5275682348277461,0.5224893317843847,-0.4632983081749662,0.11455424289896247,-0.5877204962503827,-0.2727428023361453,0.11871099006403349,-0.012220458087781596,-0.3418858101884144,-0.1701824065150667,0.19866144793597726,2.2346940769277372,0.2699534923198242,1.4952770521817178,1.9779450932749005,-0.1573965657928153,0.21480268763970578,-0.014537958815027823,0.9464220940372752,0.6011294964228965,-0.5791683004735586,-0.14674788751325316,0.742208864305391,0.5414212853423049,-0.9944259857720036,-0.2959846855161765,0.23580701543961627,-1.6600227313443063,-0.9233777628566187,-0.5238750058782555,-2.993809512427146,-0.8172655557837051,-0.29137604806023587,-0.2996317587288255,-0.5762542829528886,-1.4475470129302017,0.7626889846818631,-0.11586394220813491,0.7333320422309404,0.2631279090696038,0.15528968037263927,-0.4027569275919533,1.2364870960612364,1.1247560994972394,0.158400504315808,-0.8953734151597598,0.029924998471448666,1.0348887702004474,-0.08442864675348455,2.5868485824131993,1.117124451409192,-0.8021254788163592,1.3609419169157688,-0.9939500139315293,0.5130557561569394,-1.2397896504581485,-0.24837163218103428,-0.3698617259191884,-1.0388166503324645,0.9790966570987323,-0.11488459891479715,0.49015055617855424,-0.25275398163526946,1.1848213764718107,0.23659704857385866,-0.2719241288569037,1.325505481258998,-1.3312249257331565,1.2051807720165935,0.5847206558372181,0.06900031359470782,1.0132343277241416],\"xaxis\":\"x16\",\"yaxis\":\"y16\",\"type\":\"histogram\"}],                        {\"bargap\":0.02,\"legend\":{\"bgcolor\":\"#F5F6F9\",\"font\":{\"color\":\"#4D5663\"}},\"paper_bgcolor\":\"#F5F6F9\",\"plot_bgcolor\":\"#F5F6F9\",\"showlegend\":false,\"template\":{\"data\":{\"barpolar\":[{\"marker\":{\"line\":{\"color\":\"#E5ECF6\",\"width\":0.5},\"pattern\":{\"fillmode\":\"overlay\",\"size\":10,\"solidity\":0.2}},\"type\":\"barpolar\"}],\"bar\":[{\"error_x\":{\"color\":\"#2a3f5f\"},\"error_y\":{\"color\":\"#2a3f5f\"},\"marker\":{\"line\":{\"color\":\"#E5ECF6\",\"width\":0.5},\"pattern\":{\"fillmode\":\"overlay\",\"size\":10,\"solidity\":0.2}},\"type\":\"bar\"}],\"carpet\":[{\"aaxis\":{\"endlinecolor\":\"#2a3f5f\",\"gridcolor\":\"white\",\"linecolor\":\"white\",\"minorgridcolor\":\"white\",\"startlinecolor\":\"#2a3f5f\"},\"baxis\":{\"endlinecolor\":\"#2a3f5f\",\"gridcolor\":\"white\",\"linecolor\":\"white\",\"minorgridcolor\":\"white\",\"startlinecolor\":\"#2a3f5f\"},\"type\":\"carpet\"}],\"choropleth\":[{\"colorbar\":{\"outlinewidth\":0,\"ticks\":\"\"},\"type\":\"choropleth\"}],\"contourcarpet\":[{\"colorbar\":{\"outlinewidth\":0,\"ticks\":\"\"},\"type\":\"contourcarpet\"}],\"contour\":[{\"colorbar\":{\"outlinewidth\":0,\"ticks\":\"\"},\"colorscale\":[[0.0,\"#0d0887\"],[0.1111111111111111,\"#46039f\"],[0.2222222222222222,\"#7201a8\"],[0.3333333333333333,\"#9c179e\"],[0.4444444444444444,\"#bd3786\"],[0.5555555555555556,\"#d8576b\"],[0.6666666666666666,\"#ed7953\"],[0.7777777777777778,\"#fb9f3a\"],[0.8888888888888888,\"#fdca26\"],[1.0,\"#f0f921\"]],\"type\":\"contour\"}],\"heatmapgl\":[{\"colorbar\":{\"outlinewidth\":0,\"ticks\":\"\"},\"colorscale\":[[0.0,\"#0d0887\"],[0.1111111111111111,\"#46039f\"],[0.2222222222222222,\"#7201a8\"],[0.3333333333333333,\"#9c179e\"],[0.4444444444444444,\"#bd3786\"],[0.5555555555555556,\"#d8576b\"],[0.6666666666666666,\"#ed7953\"],[0.7777777777777778,\"#fb9f3a\"],[0.8888888888888888,\"#fdca26\"],[1.0,\"#f0f921\"]],\"type\":\"heatmapgl\"}],\"heatmap\":[{\"colorbar\":{\"outlinewidth\":0,\"ticks\":\"\"},\"colorscale\":[[0.0,\"#0d0887\"],[0.1111111111111111,\"#46039f\"],[0.2222222222222222,\"#7201a8\"],[0.3333333333333333,\"#9c179e\"],[0.4444444444444444,\"#bd3786\"],[0.5555555555555556,\"#d8576b\"],[0.6666666666666666,\"#ed7953\"],[0.7777777777777778,\"#fb9f3a\"],[0.8888888888888888,\"#fdca26\"],[1.0,\"#f0f921\"]],\"type\":\"heatmap\"}],\"histogram2dcontour\":[{\"colorbar\":{\"outlinewidth\":0,\"ticks\":\"\"},\"colorscale\":[[0.0,\"#0d0887\"],[0.1111111111111111,\"#46039f\"],[0.2222222222222222,\"#7201a8\"],[0.3333333333333333,\"#9c179e\"],[0.4444444444444444,\"#bd3786\"],[0.5555555555555556,\"#d8576b\"],[0.6666666666666666,\"#ed7953\"],[0.7777777777777778,\"#fb9f3a\"],[0.8888888888888888,\"#fdca26\"],[1.0,\"#f0f921\"]],\"type\":\"histogram2dcontour\"}],\"histogram2d\":[{\"colorbar\":{\"outlinewidth\":0,\"ticks\":\"\"},\"colorscale\":[[0.0,\"#0d0887\"],[0.1111111111111111,\"#46039f\"],[0.2222222222222222,\"#7201a8\"],[0.3333333333333333,\"#9c179e\"],[0.4444444444444444,\"#bd3786\"],[0.5555555555555556,\"#d8576b\"],[0.6666666666666666,\"#ed7953\"],[0.7777777777777778,\"#fb9f3a\"],[0.8888888888888888,\"#fdca26\"],[1.0,\"#f0f921\"]],\"type\":\"histogram2d\"}],\"histogram\":[{\"marker\":{\"pattern\":{\"fillmode\":\"overlay\",\"size\":10,\"solidity\":0.2}},\"type\":\"histogram\"}],\"mesh3d\":[{\"colorbar\":{\"outlinewidth\":0,\"ticks\":\"\"},\"type\":\"mesh3d\"}],\"parcoords\":[{\"line\":{\"colorbar\":{\"outlinewidth\":0,\"ticks\":\"\"}},\"type\":\"parcoords\"}],\"pie\":[{\"automargin\":true,\"type\":\"pie\"}],\"scatter3d\":[{\"line\":{\"colorbar\":{\"outlinewidth\":0,\"ticks\":\"\"}},\"marker\":{\"colorbar\":{\"outlinewidth\":0,\"ticks\":\"\"}},\"type\":\"scatter3d\"}],\"scattercarpet\":[{\"marker\":{\"colorbar\":{\"outlinewidth\":0,\"ticks\":\"\"}},\"type\":\"scattercarpet\"}],\"scattergeo\":[{\"marker\":{\"colorbar\":{\"outlinewidth\":0,\"ticks\":\"\"}},\"type\":\"scattergeo\"}],\"scattergl\":[{\"marker\":{\"colorbar\":{\"outlinewidth\":0,\"ticks\":\"\"}},\"type\":\"scattergl\"}],\"scattermapbox\":[{\"marker\":{\"colorbar\":{\"outlinewidth\":0,\"ticks\":\"\"}},\"type\":\"scattermapbox\"}],\"scatterpolargl\":[{\"marker\":{\"colorbar\":{\"outlinewidth\":0,\"ticks\":\"\"}},\"type\":\"scatterpolargl\"}],\"scatterpolar\":[{\"marker\":{\"colorbar\":{\"outlinewidth\":0,\"ticks\":\"\"}},\"type\":\"scatterpolar\"}],\"scatter\":[{\"marker\":{\"colorbar\":{\"outlinewidth\":0,\"ticks\":\"\"}},\"type\":\"scatter\"}],\"scatterternary\":[{\"marker\":{\"colorbar\":{\"outlinewidth\":0,\"ticks\":\"\"}},\"type\":\"scatterternary\"}],\"surface\":[{\"colorbar\":{\"outlinewidth\":0,\"ticks\":\"\"},\"colorscale\":[[0.0,\"#0d0887\"],[0.1111111111111111,\"#46039f\"],[0.2222222222222222,\"#7201a8\"],[0.3333333333333333,\"#9c179e\"],[0.4444444444444444,\"#bd3786\"],[0.5555555555555556,\"#d8576b\"],[0.6666666666666666,\"#ed7953\"],[0.7777777777777778,\"#fb9f3a\"],[0.8888888888888888,\"#fdca26\"],[1.0,\"#f0f921\"]],\"type\":\"surface\"}],\"table\":[{\"cells\":{\"fill\":{\"color\":\"#EBF0F8\"},\"line\":{\"color\":\"white\"}},\"header\":{\"fill\":{\"color\":\"#C8D4E3\"},\"line\":{\"color\":\"white\"}},\"type\":\"table\"}]},\"layout\":{\"annotationdefaults\":{\"arrowcolor\":\"#2a3f5f\",\"arrowhead\":0,\"arrowwidth\":1},\"autotypenumbers\":\"strict\",\"coloraxis\":{\"colorbar\":{\"outlinewidth\":0,\"ticks\":\"\"}},\"colorscale\":{\"diverging\":[[0,\"#8e0152\"],[0.1,\"#c51b7d\"],[0.2,\"#de77ae\"],[0.3,\"#f1b6da\"],[0.4,\"#fde0ef\"],[0.5,\"#f7f7f7\"],[0.6,\"#e6f5d0\"],[0.7,\"#b8e186\"],[0.8,\"#7fbc41\"],[0.9,\"#4d9221\"],[1,\"#276419\"]],\"sequential\":[[0.0,\"#0d0887\"],[0.1111111111111111,\"#46039f\"],[0.2222222222222222,\"#7201a8\"],[0.3333333333333333,\"#9c179e\"],[0.4444444444444444,\"#bd3786\"],[0.5555555555555556,\"#d8576b\"],[0.6666666666666666,\"#ed7953\"],[0.7777777777777778,\"#fb9f3a\"],[0.8888888888888888,\"#fdca26\"],[1.0,\"#f0f921\"]],\"sequentialminus\":[[0.0,\"#0d0887\"],[0.1111111111111111,\"#46039f\"],[0.2222222222222222,\"#7201a8\"],[0.3333333333333333,\"#9c179e\"],[0.4444444444444444,\"#bd3786\"],[0.5555555555555556,\"#d8576b\"],[0.6666666666666666,\"#ed7953\"],[0.7777777777777778,\"#fb9f3a\"],[0.8888888888888888,\"#fdca26\"],[1.0,\"#f0f921\"]]},\"colorway\":[\"#636efa\",\"#EF553B\",\"#00cc96\",\"#ab63fa\",\"#FFA15A\",\"#19d3f3\",\"#FF6692\",\"#B6E880\",\"#FF97FF\",\"#FECB52\"],\"font\":{\"color\":\"#2a3f5f\"},\"geo\":{\"bgcolor\":\"white\",\"lakecolor\":\"white\",\"landcolor\":\"#E5ECF6\",\"showlakes\":true,\"showland\":true,\"subunitcolor\":\"white\"},\"hoverlabel\":{\"align\":\"left\"},\"hovermode\":\"closest\",\"mapbox\":{\"style\":\"light\"},\"paper_bgcolor\":\"white\",\"plot_bgcolor\":\"#E5ECF6\",\"polar\":{\"angularaxis\":{\"gridcolor\":\"white\",\"linecolor\":\"white\",\"ticks\":\"\"},\"bgcolor\":\"#E5ECF6\",\"radialaxis\":{\"gridcolor\":\"white\",\"linecolor\":\"white\",\"ticks\":\"\"}},\"scene\":{\"xaxis\":{\"backgroundcolor\":\"#E5ECF6\",\"gridcolor\":\"white\",\"gridwidth\":2,\"linecolor\":\"white\",\"showbackground\":true,\"ticks\":\"\",\"zerolinecolor\":\"white\"},\"yaxis\":{\"backgroundcolor\":\"#E5ECF6\",\"gridcolor\":\"white\",\"gridwidth\":2,\"linecolor\":\"white\",\"showbackground\":true,\"ticks\":\"\",\"zerolinecolor\":\"white\"},\"zaxis\":{\"backgroundcolor\":\"#E5ECF6\",\"gridcolor\":\"white\",\"gridwidth\":2,\"linecolor\":\"white\",\"showbackground\":true,\"ticks\":\"\",\"zerolinecolor\":\"white\"}},\"shapedefaults\":{\"line\":{\"color\":\"#2a3f5f\"}},\"ternary\":{\"aaxis\":{\"gridcolor\":\"white\",\"linecolor\":\"white\",\"ticks\":\"\"},\"baxis\":{\"gridcolor\":\"white\",\"linecolor\":\"white\",\"ticks\":\"\"},\"bgcolor\":\"#E5ECF6\",\"caxis\":{\"gridcolor\":\"white\",\"linecolor\":\"white\",\"ticks\":\"\"}},\"title\":{\"x\":0.05},\"xaxis\":{\"automargin\":true,\"gridcolor\":\"white\",\"linecolor\":\"white\",\"ticks\":\"\",\"title\":{\"standoff\":15},\"zerolinecolor\":\"white\",\"zerolinewidth\":2},\"yaxis\":{\"automargin\":true,\"gridcolor\":\"white\",\"linecolor\":\"white\",\"ticks\":\"\",\"title\":{\"standoff\":15},\"zerolinecolor\":\"white\",\"zerolinewidth\":2}}},\"title\":{\"font\":{\"color\":\"#4D5663\"}},\"xaxis\":{\"anchor\":\"y\",\"domain\":[0.0,0.2125],\"gridcolor\":\"#E1E5ED\",\"showgrid\":false,\"tickfont\":{\"color\":\"#4D5663\"},\"title\":{\"font\":{\"color\":\"#4D5663\"},\"text\":\"\"},\"zerolinecolor\":\"#E1E5ED\"},\"yaxis\":{\"anchor\":\"x\",\"domain\":[0.8025,1.0],\"gridcolor\":\"#E1E5ED\",\"showgrid\":false,\"tickfont\":{\"color\":\"#4D5663\"},\"title\":{\"font\":{\"color\":\"#4D5663\"},\"text\":\"\"},\"zerolinecolor\":\"#E1E5ED\"},\"xaxis2\":{\"anchor\":\"y2\",\"domain\":[0.2625,0.475],\"gridcolor\":\"#E1E5ED\",\"showgrid\":false,\"tickfont\":{\"color\":\"#4D5663\"},\"title\":{\"font\":{\"color\":\"#4D5663\"},\"text\":\"\"},\"zerolinecolor\":\"#E1E5ED\"},\"yaxis2\":{\"anchor\":\"x2\",\"domain\":[0.8025,1.0],\"gridcolor\":\"#E1E5ED\",\"showgrid\":false,\"tickfont\":{\"color\":\"#4D5663\"},\"title\":{\"font\":{\"color\":\"#4D5663\"},\"text\":\"\"},\"zerolinecolor\":\"#E1E5ED\"},\"xaxis3\":{\"anchor\":\"y3\",\"domain\":[0.525,0.7375],\"gridcolor\":\"#E1E5ED\",\"showgrid\":false,\"tickfont\":{\"color\":\"#4D5663\"},\"title\":{\"font\":{\"color\":\"#4D5663\"},\"text\":\"\"},\"zerolinecolor\":\"#E1E5ED\"},\"yaxis3\":{\"anchor\":\"x3\",\"domain\":[0.8025,1.0],\"gridcolor\":\"#E1E5ED\",\"showgrid\":false,\"tickfont\":{\"color\":\"#4D5663\"},\"title\":{\"font\":{\"color\":\"#4D5663\"},\"text\":\"\"},\"zerolinecolor\":\"#E1E5ED\"},\"xaxis4\":{\"anchor\":\"y4\",\"domain\":[0.7875,1.0],\"gridcolor\":\"#E1E5ED\",\"showgrid\":false,\"tickfont\":{\"color\":\"#4D5663\"},\"title\":{\"font\":{\"color\":\"#4D5663\"},\"text\":\"\"},\"zerolinecolor\":\"#E1E5ED\"},\"yaxis4\":{\"anchor\":\"x4\",\"domain\":[0.8025,1.0],\"gridcolor\":\"#E1E5ED\",\"showgrid\":false,\"tickfont\":{\"color\":\"#4D5663\"},\"title\":{\"font\":{\"color\":\"#4D5663\"},\"text\":\"\"},\"zerolinecolor\":\"#E1E5ED\"},\"xaxis5\":{\"anchor\":\"y5\",\"domain\":[0.0,0.2125],\"gridcolor\":\"#E1E5ED\",\"showgrid\":false,\"tickfont\":{\"color\":\"#4D5663\"},\"title\":{\"font\":{\"color\":\"#4D5663\"},\"text\":\"\"},\"zerolinecolor\":\"#E1E5ED\"},\"yaxis5\":{\"anchor\":\"x5\",\"domain\":[0.535,0.7325],\"gridcolor\":\"#E1E5ED\",\"showgrid\":false,\"tickfont\":{\"color\":\"#4D5663\"},\"title\":{\"font\":{\"color\":\"#4D5663\"},\"text\":\"\"},\"zerolinecolor\":\"#E1E5ED\"},\"xaxis6\":{\"anchor\":\"y6\",\"domain\":[0.2625,0.475],\"gridcolor\":\"#E1E5ED\",\"showgrid\":false,\"tickfont\":{\"color\":\"#4D5663\"},\"title\":{\"font\":{\"color\":\"#4D5663\"},\"text\":\"\"},\"zerolinecolor\":\"#E1E5ED\"},\"yaxis6\":{\"anchor\":\"x6\",\"domain\":[0.535,0.7325],\"gridcolor\":\"#E1E5ED\",\"showgrid\":false,\"tickfont\":{\"color\":\"#4D5663\"},\"title\":{\"font\":{\"color\":\"#4D5663\"},\"text\":\"\"},\"zerolinecolor\":\"#E1E5ED\"},\"xaxis7\":{\"anchor\":\"y7\",\"domain\":[0.525,0.7375],\"gridcolor\":\"#E1E5ED\",\"showgrid\":false,\"tickfont\":{\"color\":\"#4D5663\"},\"title\":{\"font\":{\"color\":\"#4D5663\"},\"text\":\"\"},\"zerolinecolor\":\"#E1E5ED\"},\"yaxis7\":{\"anchor\":\"x7\",\"domain\":[0.535,0.7325],\"gridcolor\":\"#E1E5ED\",\"showgrid\":false,\"tickfont\":{\"color\":\"#4D5663\"},\"title\":{\"font\":{\"color\":\"#4D5663\"},\"text\":\"\"},\"zerolinecolor\":\"#E1E5ED\"},\"xaxis8\":{\"anchor\":\"y8\",\"domain\":[0.7875,1.0],\"gridcolor\":\"#E1E5ED\",\"showgrid\":false,\"tickfont\":{\"color\":\"#4D5663\"},\"title\":{\"font\":{\"color\":\"#4D5663\"},\"text\":\"\"},\"zerolinecolor\":\"#E1E5ED\"},\"yaxis8\":{\"anchor\":\"x8\",\"domain\":[0.535,0.7325],\"gridcolor\":\"#E1E5ED\",\"showgrid\":false,\"tickfont\":{\"color\":\"#4D5663\"},\"title\":{\"font\":{\"color\":\"#4D5663\"},\"text\":\"\"},\"zerolinecolor\":\"#E1E5ED\"},\"xaxis9\":{\"anchor\":\"y9\",\"domain\":[0.0,0.2125],\"gridcolor\":\"#E1E5ED\",\"showgrid\":false,\"tickfont\":{\"color\":\"#4D5663\"},\"title\":{\"font\":{\"color\":\"#4D5663\"},\"text\":\"\"},\"zerolinecolor\":\"#E1E5ED\"},\"yaxis9\":{\"anchor\":\"x9\",\"domain\":[0.2675,0.465],\"gridcolor\":\"#E1E5ED\",\"showgrid\":false,\"tickfont\":{\"color\":\"#4D5663\"},\"title\":{\"font\":{\"color\":\"#4D5663\"},\"text\":\"\"},\"zerolinecolor\":\"#E1E5ED\"},\"xaxis10\":{\"anchor\":\"y10\",\"domain\":[0.2625,0.475],\"gridcolor\":\"#E1E5ED\",\"showgrid\":false,\"tickfont\":{\"color\":\"#4D5663\"},\"title\":{\"font\":{\"color\":\"#4D5663\"},\"text\":\"\"},\"zerolinecolor\":\"#E1E5ED\"},\"yaxis10\":{\"anchor\":\"x10\",\"domain\":[0.2675,0.465],\"gridcolor\":\"#E1E5ED\",\"showgrid\":false,\"tickfont\":{\"color\":\"#4D5663\"},\"title\":{\"font\":{\"color\":\"#4D5663\"},\"text\":\"\"},\"zerolinecolor\":\"#E1E5ED\"},\"xaxis11\":{\"anchor\":\"y11\",\"domain\":[0.525,0.7375],\"gridcolor\":\"#E1E5ED\",\"showgrid\":false,\"tickfont\":{\"color\":\"#4D5663\"},\"title\":{\"font\":{\"color\":\"#4D5663\"},\"text\":\"\"},\"zerolinecolor\":\"#E1E5ED\"},\"yaxis11\":{\"anchor\":\"x11\",\"domain\":[0.2675,0.465],\"gridcolor\":\"#E1E5ED\",\"showgrid\":false,\"tickfont\":{\"color\":\"#4D5663\"},\"title\":{\"font\":{\"color\":\"#4D5663\"},\"text\":\"\"},\"zerolinecolor\":\"#E1E5ED\"},\"xaxis12\":{\"anchor\":\"y12\",\"domain\":[0.7875,1.0],\"gridcolor\":\"#E1E5ED\",\"showgrid\":false,\"tickfont\":{\"color\":\"#4D5663\"},\"title\":{\"font\":{\"color\":\"#4D5663\"},\"text\":\"\"},\"zerolinecolor\":\"#E1E5ED\"},\"yaxis12\":{\"anchor\":\"x12\",\"domain\":[0.2675,0.465],\"gridcolor\":\"#E1E5ED\",\"showgrid\":false,\"tickfont\":{\"color\":\"#4D5663\"},\"title\":{\"font\":{\"color\":\"#4D5663\"},\"text\":\"\"},\"zerolinecolor\":\"#E1E5ED\"},\"xaxis13\":{\"anchor\":\"y13\",\"domain\":[0.0,0.2125],\"gridcolor\":\"#E1E5ED\",\"showgrid\":false,\"tickfont\":{\"color\":\"#4D5663\"},\"title\":{\"font\":{\"color\":\"#4D5663\"},\"text\":\"\"},\"zerolinecolor\":\"#E1E5ED\"},\"yaxis13\":{\"anchor\":\"x13\",\"domain\":[0.0,0.1975],\"gridcolor\":\"#E1E5ED\",\"showgrid\":false,\"tickfont\":{\"color\":\"#4D5663\"},\"title\":{\"font\":{\"color\":\"#4D5663\"},\"text\":\"\"},\"zerolinecolor\":\"#E1E5ED\"},\"xaxis14\":{\"anchor\":\"y14\",\"domain\":[0.2625,0.475],\"gridcolor\":\"#E1E5ED\",\"showgrid\":false,\"tickfont\":{\"color\":\"#4D5663\"},\"title\":{\"font\":{\"color\":\"#4D5663\"},\"text\":\"\"},\"zerolinecolor\":\"#E1E5ED\"},\"yaxis14\":{\"anchor\":\"x14\",\"domain\":[0.0,0.1975],\"gridcolor\":\"#E1E5ED\",\"showgrid\":false,\"tickfont\":{\"color\":\"#4D5663\"},\"title\":{\"font\":{\"color\":\"#4D5663\"},\"text\":\"\"},\"zerolinecolor\":\"#E1E5ED\"},\"xaxis15\":{\"anchor\":\"y15\",\"domain\":[0.525,0.7375],\"gridcolor\":\"#E1E5ED\",\"showgrid\":false,\"tickfont\":{\"color\":\"#4D5663\"},\"title\":{\"font\":{\"color\":\"#4D5663\"},\"text\":\"\"},\"zerolinecolor\":\"#E1E5ED\"},\"yaxis15\":{\"anchor\":\"x15\",\"domain\":[0.0,0.1975],\"gridcolor\":\"#E1E5ED\",\"showgrid\":false,\"tickfont\":{\"color\":\"#4D5663\"},\"title\":{\"font\":{\"color\":\"#4D5663\"},\"text\":\"\"},\"zerolinecolor\":\"#E1E5ED\"},\"xaxis16\":{\"anchor\":\"y16\",\"domain\":[0.7875,1.0],\"gridcolor\":\"#E1E5ED\",\"showgrid\":false,\"tickfont\":{\"color\":\"#4D5663\"},\"title\":{\"font\":{\"color\":\"#4D5663\"},\"text\":\"\"},\"zerolinecolor\":\"#E1E5ED\"},\"yaxis16\":{\"anchor\":\"x16\",\"domain\":[0.0,0.1975],\"gridcolor\":\"#E1E5ED\",\"showgrid\":false,\"tickfont\":{\"color\":\"#4D5663\"},\"title\":{\"font\":{\"color\":\"#4D5663\"},\"text\":\"\"},\"zerolinecolor\":\"#E1E5ED\"}},                        {\"showLink\": true, \"linkText\": \"Export to plot.ly\", \"plotlyServerURL\": \"https://plot.ly\", \"responsive\": true}                    ).then(function(){\n",
       "                            \n",
       "var gd = document.getElementById('728ca07e-8da9-498a-81a8-353934c93a63');\n",
       "var x = new MutationObserver(function (mutations, observer) {{\n",
       "        var display = window.getComputedStyle(gd).display;\n",
       "        if (!display || display === 'none') {{\n",
       "            console.log([gd, 'removed!']);\n",
       "            Plotly.purge(gd);\n",
       "            observer.disconnect();\n",
       "        }}\n",
       "}});\n",
       "\n",
       "// Listen for the removal of the full notebook cells\n",
       "var notebookContainer = gd.closest('#notebook-container');\n",
       "if (notebookContainer) {{\n",
       "    x.observe(notebookContainer, {childList: true});\n",
       "}}\n",
       "\n",
       "// Listen for the clearing of the current output cell\n",
       "var outputEl = gd.closest('.output');\n",
       "if (outputEl) {{\n",
       "    x.observe(outputEl, {childList: true});\n",
       "}}\n",
       "\n",
       "                        })                };                });            </script>        </div>"
      ]
     },
     "metadata": {},
     "output_type": "display_data"
    }
   ],
   "source": [
    "df.scatter_matrix()"
   ]
  },
  {
   "cell_type": "code",
   "execution_count": 19,
   "metadata": {},
   "outputs": [
    {
     "name": "stdout",
     "output_type": "stream",
     "text": [
      "(150, 6)\n"
     ]
    },
    {
     "data": {
      "text/html": [
       "<div>\n",
       "<style scoped>\n",
       "    .dataframe tbody tr th:only-of-type {\n",
       "        vertical-align: middle;\n",
       "    }\n",
       "\n",
       "    .dataframe tbody tr th {\n",
       "        vertical-align: top;\n",
       "    }\n",
       "\n",
       "    .dataframe thead th {\n",
       "        text-align: right;\n",
       "    }\n",
       "</style>\n",
       "<table border=\"1\" class=\"dataframe\">\n",
       "  <thead>\n",
       "    <tr style=\"text-align: right;\">\n",
       "      <th></th>\n",
       "      <th>sepal_length</th>\n",
       "      <th>sepal_width</th>\n",
       "      <th>petal_length</th>\n",
       "      <th>petal_width</th>\n",
       "      <th>species</th>\n",
       "      <th>species_id</th>\n",
       "    </tr>\n",
       "  </thead>\n",
       "  <tbody>\n",
       "    <tr>\n",
       "      <th>0</th>\n",
       "      <td>5.1</td>\n",
       "      <td>3.5</td>\n",
       "      <td>1.4</td>\n",
       "      <td>0.2</td>\n",
       "      <td>setosa</td>\n",
       "      <td>1</td>\n",
       "    </tr>\n",
       "    <tr>\n",
       "      <th>1</th>\n",
       "      <td>4.9</td>\n",
       "      <td>3.0</td>\n",
       "      <td>1.4</td>\n",
       "      <td>0.2</td>\n",
       "      <td>setosa</td>\n",
       "      <td>1</td>\n",
       "    </tr>\n",
       "    <tr>\n",
       "      <th>2</th>\n",
       "      <td>4.7</td>\n",
       "      <td>3.2</td>\n",
       "      <td>1.3</td>\n",
       "      <td>0.2</td>\n",
       "      <td>setosa</td>\n",
       "      <td>1</td>\n",
       "    </tr>\n",
       "    <tr>\n",
       "      <th>3</th>\n",
       "      <td>4.6</td>\n",
       "      <td>3.1</td>\n",
       "      <td>1.5</td>\n",
       "      <td>0.2</td>\n",
       "      <td>setosa</td>\n",
       "      <td>1</td>\n",
       "    </tr>\n",
       "    <tr>\n",
       "      <th>4</th>\n",
       "      <td>5.0</td>\n",
       "      <td>3.6</td>\n",
       "      <td>1.4</td>\n",
       "      <td>0.2</td>\n",
       "      <td>setosa</td>\n",
       "      <td>1</td>\n",
       "    </tr>\n",
       "  </tbody>\n",
       "</table>\n",
       "</div>"
      ],
      "text/plain": [
       "   sepal_length  sepal_width  petal_length  petal_width species  species_id\n",
       "0           5.1          3.5           1.4          0.2  setosa           1\n",
       "1           4.9          3.0           1.4          0.2  setosa           1\n",
       "2           4.7          3.2           1.3          0.2  setosa           1\n",
       "3           4.6          3.1           1.5          0.2  setosa           1\n",
       "4           5.0          3.6           1.4          0.2  setosa           1"
      ]
     },
     "execution_count": 19,
     "metadata": {},
     "output_type": "execute_result"
    }
   ],
   "source": [
    "# import seaborn as sns \n",
    "# data = sns.load_dataset(\"iris\")\n",
    "# https://seaborn.pydata.org/generated/seaborn.load_dataset.html\n",
    "import plotly.express as px\n",
    "df = px.data.iris()\n",
    "print(df.shape)\n",
    "df.head()"
   ]
  },
  {
   "cell_type": "code",
   "execution_count": 20,
   "metadata": {},
   "outputs": [
    {
     "data": {
      "application/vnd.plotly.v1+json": {
       "config": {
        "plotlyServerURL": "https://plot.ly"
       },
       "data": [
        {
         "hovertemplate": "species=setosa<br>sepal_width=%{x}<br>sepal_length=%{y}<br>petal_length=%{marker.size}<extra></extra>",
         "legendgroup": "setosa",
         "marker": {
          "color": "#636efa",
          "size": [
           1.4,
           1.4,
           1.3,
           1.5,
           1.4,
           1.7,
           1.4,
           1.5,
           1.4,
           1.5,
           1.5,
           1.6,
           1.4,
           1.1,
           1.2,
           1.5,
           1.3,
           1.4,
           1.7,
           1.5,
           1.7,
           1.5,
           1,
           1.7,
           1.9,
           1.6,
           1.6,
           1.5,
           1.4,
           1.6,
           1.6,
           1.5,
           1.5,
           1.4,
           1.5,
           1.2,
           1.3,
           1.5,
           1.3,
           1.5,
           1.3,
           1.3,
           1.3,
           1.6,
           1.9,
           1.4,
           1.6,
           1.4,
           1.5,
           1.4
          ],
          "sizemode": "area",
          "sizeref": 0.01725,
          "symbol": "circle"
         },
         "mode": "markers",
         "name": "setosa",
         "orientation": "v",
         "showlegend": true,
         "type": "scatter",
         "x": [
          3.5,
          3,
          3.2,
          3.1,
          3.6,
          3.9,
          3.4,
          3.4,
          2.9,
          3.1,
          3.7,
          3.4,
          3,
          3,
          4,
          4.4,
          3.9,
          3.5,
          3.8,
          3.8,
          3.4,
          3.7,
          3.6,
          3.3,
          3.4,
          3,
          3.4,
          3.5,
          3.4,
          3.2,
          3.1,
          3.4,
          4.1,
          4.2,
          3.1,
          3.2,
          3.5,
          3.1,
          3,
          3.4,
          3.5,
          2.3,
          3.2,
          3.5,
          3.8,
          3,
          3.8,
          3.2,
          3.7,
          3.3
         ],
         "xaxis": "x3",
         "y": [
          5.1,
          4.9,
          4.7,
          4.6,
          5,
          5.4,
          4.6,
          5,
          4.4,
          4.9,
          5.4,
          4.8,
          4.8,
          4.3,
          5.8,
          5.7,
          5.4,
          5.1,
          5.7,
          5.1,
          5.4,
          5.1,
          4.6,
          5.1,
          4.8,
          5,
          5,
          5.2,
          5.2,
          4.7,
          4.8,
          5.4,
          5.2,
          5.5,
          4.9,
          5,
          5.5,
          4.9,
          4.4,
          5.1,
          5,
          4.5,
          4.4,
          5,
          5.1,
          4.8,
          5.1,
          4.6,
          5.3,
          5
         ],
         "yaxis": "y3"
        },
        {
         "hovertemplate": "species=versicolor<br>sepal_width=%{x}<br>sepal_length=%{y}<br>petal_length=%{marker.size}<extra></extra>",
         "legendgroup": "versicolor",
         "marker": {
          "color": "#EF553B",
          "size": [
           4.7,
           4.5,
           4.9,
           4,
           4.6,
           4.5,
           4.7,
           3.3,
           4.6,
           3.9,
           3.5,
           4.2,
           4,
           4.7,
           3.6,
           4.4,
           4.5,
           4.1,
           4.5,
           3.9,
           4.8,
           4,
           4.9,
           4.7,
           4.3,
           4.4,
           4.8,
           5,
           4.5,
           3.5,
           3.8,
           3.7,
           3.9,
           5.1,
           4.5,
           4.5,
           4.7,
           4.4,
           4.1,
           4,
           4.4,
           4.6,
           4,
           3.3,
           4.2,
           4.2,
           4.2,
           4.3,
           3,
           4.1
          ],
          "sizemode": "area",
          "sizeref": 0.01725,
          "symbol": "circle"
         },
         "mode": "markers",
         "name": "versicolor",
         "orientation": "v",
         "showlegend": true,
         "type": "scatter",
         "x": [
          3.2,
          3.2,
          3.1,
          2.3,
          2.8,
          2.8,
          3.3,
          2.4,
          2.9,
          2.7,
          2,
          3,
          2.2,
          2.9,
          2.9,
          3.1,
          3,
          2.7,
          2.2,
          2.5,
          3.2,
          2.8,
          2.5,
          2.8,
          2.9,
          3,
          2.8,
          3,
          2.9,
          2.6,
          2.4,
          2.4,
          2.7,
          2.7,
          3,
          3.4,
          3.1,
          2.3,
          3,
          2.5,
          2.6,
          3,
          2.6,
          2.3,
          2.7,
          3,
          2.9,
          2.9,
          2.5,
          2.8
         ],
         "xaxis": "x2",
         "y": [
          7,
          6.4,
          6.9,
          5.5,
          6.5,
          5.7,
          6.3,
          4.9,
          6.6,
          5.2,
          5,
          5.9,
          6,
          6.1,
          5.6,
          6.7,
          5.6,
          5.8,
          6.2,
          5.6,
          5.9,
          6.1,
          6.3,
          6.1,
          6.4,
          6.6,
          6.8,
          6.7,
          6,
          5.7,
          5.5,
          5.5,
          5.8,
          6,
          5.4,
          6,
          6.7,
          6.3,
          5.6,
          5.5,
          5.5,
          6.1,
          5.8,
          5,
          5.6,
          5.7,
          5.7,
          6.2,
          5.1,
          5.7
         ],
         "yaxis": "y2"
        },
        {
         "hovertemplate": "species=virginica<br>sepal_width=%{x}<br>sepal_length=%{y}<br>petal_length=%{marker.size}<extra></extra>",
         "legendgroup": "virginica",
         "marker": {
          "color": "#00cc96",
          "size": [
           6,
           5.1,
           5.9,
           5.6,
           5.8,
           6.6,
           4.5,
           6.3,
           5.8,
           6.1,
           5.1,
           5.3,
           5.5,
           5,
           5.1,
           5.3,
           5.5,
           6.7,
           6.9,
           5,
           5.7,
           4.9,
           6.7,
           4.9,
           5.7,
           6,
           4.8,
           4.9,
           5.6,
           5.8,
           6.1,
           6.4,
           5.6,
           5.1,
           5.6,
           6.1,
           5.6,
           5.5,
           4.8,
           5.4,
           5.6,
           5.1,
           5.1,
           5.9,
           5.7,
           5.2,
           5,
           5.2,
           5.4,
           5.1
          ],
          "sizemode": "area",
          "sizeref": 0.01725,
          "symbol": "circle"
         },
         "mode": "markers",
         "name": "virginica",
         "orientation": "v",
         "showlegend": true,
         "type": "scatter",
         "x": [
          3.3,
          2.7,
          3,
          2.9,
          3,
          3,
          2.5,
          2.9,
          2.5,
          3.6,
          3.2,
          2.7,
          3,
          2.5,
          2.8,
          3.2,
          3,
          3.8,
          2.6,
          2.2,
          3.2,
          2.8,
          2.8,
          2.7,
          3.3,
          3.2,
          2.8,
          3,
          2.8,
          3,
          2.8,
          3.8,
          2.8,
          2.8,
          2.6,
          3,
          3.4,
          3.1,
          3,
          3.1,
          3.1,
          3.1,
          2.7,
          3.2,
          3.3,
          3,
          2.5,
          3,
          3.4,
          3
         ],
         "xaxis": "x",
         "y": [
          6.3,
          5.8,
          7.1,
          6.3,
          6.5,
          7.6,
          4.9,
          7.3,
          6.7,
          7.2,
          6.5,
          6.4,
          6.8,
          5.7,
          5.8,
          6.4,
          6.5,
          7.7,
          7.7,
          6,
          6.9,
          5.6,
          7.7,
          6.3,
          6.7,
          7.2,
          6.2,
          6.1,
          6.4,
          7.2,
          7.4,
          7.9,
          6.4,
          6.3,
          6.1,
          7.7,
          6.3,
          6.4,
          6,
          6.9,
          6.7,
          6.9,
          5.8,
          6.8,
          6.7,
          6.7,
          6.3,
          6.5,
          6.2,
          5.9
         ],
         "yaxis": "y"
        }
       ],
       "layout": {
        "annotations": [
         {
          "font": {},
          "showarrow": false,
          "text": "species=virginica",
          "textangle": 90,
          "x": 0.98,
          "xanchor": "left",
          "xref": "paper",
          "y": 0.15666666666666665,
          "yanchor": "middle",
          "yref": "paper"
         },
         {
          "font": {},
          "showarrow": false,
          "text": "species=versicolor",
          "textangle": 90,
          "x": 0.98,
          "xanchor": "left",
          "xref": "paper",
          "y": 0.4999999999999999,
          "yanchor": "middle",
          "yref": "paper"
         },
         {
          "font": {},
          "showarrow": false,
          "text": "species=setosa",
          "textangle": 90,
          "x": 0.98,
          "xanchor": "left",
          "xref": "paper",
          "y": 0.8433333333333332,
          "yanchor": "middle",
          "yref": "paper"
         }
        ],
        "legend": {
         "itemsizing": "constant",
         "title": {
          "text": "species"
         },
         "tracegroupgap": 0
        },
        "template": {
         "data": {
          "bar": [
           {
            "error_x": {
             "color": "#2a3f5f"
            },
            "error_y": {
             "color": "#2a3f5f"
            },
            "marker": {
             "line": {
              "color": "#E5ECF6",
              "width": 0.5
             },
             "pattern": {
              "fillmode": "overlay",
              "size": 10,
              "solidity": 0.2
             }
            },
            "type": "bar"
           }
          ],
          "barpolar": [
           {
            "marker": {
             "line": {
              "color": "#E5ECF6",
              "width": 0.5
             },
             "pattern": {
              "fillmode": "overlay",
              "size": 10,
              "solidity": 0.2
             }
            },
            "type": "barpolar"
           }
          ],
          "carpet": [
           {
            "aaxis": {
             "endlinecolor": "#2a3f5f",
             "gridcolor": "white",
             "linecolor": "white",
             "minorgridcolor": "white",
             "startlinecolor": "#2a3f5f"
            },
            "baxis": {
             "endlinecolor": "#2a3f5f",
             "gridcolor": "white",
             "linecolor": "white",
             "minorgridcolor": "white",
             "startlinecolor": "#2a3f5f"
            },
            "type": "carpet"
           }
          ],
          "choropleth": [
           {
            "colorbar": {
             "outlinewidth": 0,
             "ticks": ""
            },
            "type": "choropleth"
           }
          ],
          "contour": [
           {
            "colorbar": {
             "outlinewidth": 0,
             "ticks": ""
            },
            "colorscale": [
             [
              0,
              "#0d0887"
             ],
             [
              0.1111111111111111,
              "#46039f"
             ],
             [
              0.2222222222222222,
              "#7201a8"
             ],
             [
              0.3333333333333333,
              "#9c179e"
             ],
             [
              0.4444444444444444,
              "#bd3786"
             ],
             [
              0.5555555555555556,
              "#d8576b"
             ],
             [
              0.6666666666666666,
              "#ed7953"
             ],
             [
              0.7777777777777778,
              "#fb9f3a"
             ],
             [
              0.8888888888888888,
              "#fdca26"
             ],
             [
              1,
              "#f0f921"
             ]
            ],
            "type": "contour"
           }
          ],
          "contourcarpet": [
           {
            "colorbar": {
             "outlinewidth": 0,
             "ticks": ""
            },
            "type": "contourcarpet"
           }
          ],
          "heatmap": [
           {
            "colorbar": {
             "outlinewidth": 0,
             "ticks": ""
            },
            "colorscale": [
             [
              0,
              "#0d0887"
             ],
             [
              0.1111111111111111,
              "#46039f"
             ],
             [
              0.2222222222222222,
              "#7201a8"
             ],
             [
              0.3333333333333333,
              "#9c179e"
             ],
             [
              0.4444444444444444,
              "#bd3786"
             ],
             [
              0.5555555555555556,
              "#d8576b"
             ],
             [
              0.6666666666666666,
              "#ed7953"
             ],
             [
              0.7777777777777778,
              "#fb9f3a"
             ],
             [
              0.8888888888888888,
              "#fdca26"
             ],
             [
              1,
              "#f0f921"
             ]
            ],
            "type": "heatmap"
           }
          ],
          "heatmapgl": [
           {
            "colorbar": {
             "outlinewidth": 0,
             "ticks": ""
            },
            "colorscale": [
             [
              0,
              "#0d0887"
             ],
             [
              0.1111111111111111,
              "#46039f"
             ],
             [
              0.2222222222222222,
              "#7201a8"
             ],
             [
              0.3333333333333333,
              "#9c179e"
             ],
             [
              0.4444444444444444,
              "#bd3786"
             ],
             [
              0.5555555555555556,
              "#d8576b"
             ],
             [
              0.6666666666666666,
              "#ed7953"
             ],
             [
              0.7777777777777778,
              "#fb9f3a"
             ],
             [
              0.8888888888888888,
              "#fdca26"
             ],
             [
              1,
              "#f0f921"
             ]
            ],
            "type": "heatmapgl"
           }
          ],
          "histogram": [
           {
            "marker": {
             "pattern": {
              "fillmode": "overlay",
              "size": 10,
              "solidity": 0.2
             }
            },
            "type": "histogram"
           }
          ],
          "histogram2d": [
           {
            "colorbar": {
             "outlinewidth": 0,
             "ticks": ""
            },
            "colorscale": [
             [
              0,
              "#0d0887"
             ],
             [
              0.1111111111111111,
              "#46039f"
             ],
             [
              0.2222222222222222,
              "#7201a8"
             ],
             [
              0.3333333333333333,
              "#9c179e"
             ],
             [
              0.4444444444444444,
              "#bd3786"
             ],
             [
              0.5555555555555556,
              "#d8576b"
             ],
             [
              0.6666666666666666,
              "#ed7953"
             ],
             [
              0.7777777777777778,
              "#fb9f3a"
             ],
             [
              0.8888888888888888,
              "#fdca26"
             ],
             [
              1,
              "#f0f921"
             ]
            ],
            "type": "histogram2d"
           }
          ],
          "histogram2dcontour": [
           {
            "colorbar": {
             "outlinewidth": 0,
             "ticks": ""
            },
            "colorscale": [
             [
              0,
              "#0d0887"
             ],
             [
              0.1111111111111111,
              "#46039f"
             ],
             [
              0.2222222222222222,
              "#7201a8"
             ],
             [
              0.3333333333333333,
              "#9c179e"
             ],
             [
              0.4444444444444444,
              "#bd3786"
             ],
             [
              0.5555555555555556,
              "#d8576b"
             ],
             [
              0.6666666666666666,
              "#ed7953"
             ],
             [
              0.7777777777777778,
              "#fb9f3a"
             ],
             [
              0.8888888888888888,
              "#fdca26"
             ],
             [
              1,
              "#f0f921"
             ]
            ],
            "type": "histogram2dcontour"
           }
          ],
          "mesh3d": [
           {
            "colorbar": {
             "outlinewidth": 0,
             "ticks": ""
            },
            "type": "mesh3d"
           }
          ],
          "parcoords": [
           {
            "line": {
             "colorbar": {
              "outlinewidth": 0,
              "ticks": ""
             }
            },
            "type": "parcoords"
           }
          ],
          "pie": [
           {
            "automargin": true,
            "type": "pie"
           }
          ],
          "scatter": [
           {
            "marker": {
             "colorbar": {
              "outlinewidth": 0,
              "ticks": ""
             }
            },
            "type": "scatter"
           }
          ],
          "scatter3d": [
           {
            "line": {
             "colorbar": {
              "outlinewidth": 0,
              "ticks": ""
             }
            },
            "marker": {
             "colorbar": {
              "outlinewidth": 0,
              "ticks": ""
             }
            },
            "type": "scatter3d"
           }
          ],
          "scattercarpet": [
           {
            "marker": {
             "colorbar": {
              "outlinewidth": 0,
              "ticks": ""
             }
            },
            "type": "scattercarpet"
           }
          ],
          "scattergeo": [
           {
            "marker": {
             "colorbar": {
              "outlinewidth": 0,
              "ticks": ""
             }
            },
            "type": "scattergeo"
           }
          ],
          "scattergl": [
           {
            "marker": {
             "colorbar": {
              "outlinewidth": 0,
              "ticks": ""
             }
            },
            "type": "scattergl"
           }
          ],
          "scattermapbox": [
           {
            "marker": {
             "colorbar": {
              "outlinewidth": 0,
              "ticks": ""
             }
            },
            "type": "scattermapbox"
           }
          ],
          "scatterpolar": [
           {
            "marker": {
             "colorbar": {
              "outlinewidth": 0,
              "ticks": ""
             }
            },
            "type": "scatterpolar"
           }
          ],
          "scatterpolargl": [
           {
            "marker": {
             "colorbar": {
              "outlinewidth": 0,
              "ticks": ""
             }
            },
            "type": "scatterpolargl"
           }
          ],
          "scatterternary": [
           {
            "marker": {
             "colorbar": {
              "outlinewidth": 0,
              "ticks": ""
             }
            },
            "type": "scatterternary"
           }
          ],
          "surface": [
           {
            "colorbar": {
             "outlinewidth": 0,
             "ticks": ""
            },
            "colorscale": [
             [
              0,
              "#0d0887"
             ],
             [
              0.1111111111111111,
              "#46039f"
             ],
             [
              0.2222222222222222,
              "#7201a8"
             ],
             [
              0.3333333333333333,
              "#9c179e"
             ],
             [
              0.4444444444444444,
              "#bd3786"
             ],
             [
              0.5555555555555556,
              "#d8576b"
             ],
             [
              0.6666666666666666,
              "#ed7953"
             ],
             [
              0.7777777777777778,
              "#fb9f3a"
             ],
             [
              0.8888888888888888,
              "#fdca26"
             ],
             [
              1,
              "#f0f921"
             ]
            ],
            "type": "surface"
           }
          ],
          "table": [
           {
            "cells": {
             "fill": {
              "color": "#EBF0F8"
             },
             "line": {
              "color": "white"
             }
            },
            "header": {
             "fill": {
              "color": "#C8D4E3"
             },
             "line": {
              "color": "white"
             }
            },
            "type": "table"
           }
          ]
         },
         "layout": {
          "annotationdefaults": {
           "arrowcolor": "#2a3f5f",
           "arrowhead": 0,
           "arrowwidth": 1
          },
          "autotypenumbers": "strict",
          "coloraxis": {
           "colorbar": {
            "outlinewidth": 0,
            "ticks": ""
           }
          },
          "colorscale": {
           "diverging": [
            [
             0,
             "#8e0152"
            ],
            [
             0.1,
             "#c51b7d"
            ],
            [
             0.2,
             "#de77ae"
            ],
            [
             0.3,
             "#f1b6da"
            ],
            [
             0.4,
             "#fde0ef"
            ],
            [
             0.5,
             "#f7f7f7"
            ],
            [
             0.6,
             "#e6f5d0"
            ],
            [
             0.7,
             "#b8e186"
            ],
            [
             0.8,
             "#7fbc41"
            ],
            [
             0.9,
             "#4d9221"
            ],
            [
             1,
             "#276419"
            ]
           ],
           "sequential": [
            [
             0,
             "#0d0887"
            ],
            [
             0.1111111111111111,
             "#46039f"
            ],
            [
             0.2222222222222222,
             "#7201a8"
            ],
            [
             0.3333333333333333,
             "#9c179e"
            ],
            [
             0.4444444444444444,
             "#bd3786"
            ],
            [
             0.5555555555555556,
             "#d8576b"
            ],
            [
             0.6666666666666666,
             "#ed7953"
            ],
            [
             0.7777777777777778,
             "#fb9f3a"
            ],
            [
             0.8888888888888888,
             "#fdca26"
            ],
            [
             1,
             "#f0f921"
            ]
           ],
           "sequentialminus": [
            [
             0,
             "#0d0887"
            ],
            [
             0.1111111111111111,
             "#46039f"
            ],
            [
             0.2222222222222222,
             "#7201a8"
            ],
            [
             0.3333333333333333,
             "#9c179e"
            ],
            [
             0.4444444444444444,
             "#bd3786"
            ],
            [
             0.5555555555555556,
             "#d8576b"
            ],
            [
             0.6666666666666666,
             "#ed7953"
            ],
            [
             0.7777777777777778,
             "#fb9f3a"
            ],
            [
             0.8888888888888888,
             "#fdca26"
            ],
            [
             1,
             "#f0f921"
            ]
           ]
          },
          "colorway": [
           "#636efa",
           "#EF553B",
           "#00cc96",
           "#ab63fa",
           "#FFA15A",
           "#19d3f3",
           "#FF6692",
           "#B6E880",
           "#FF97FF",
           "#FECB52"
          ],
          "font": {
           "color": "#2a3f5f"
          },
          "geo": {
           "bgcolor": "white",
           "lakecolor": "white",
           "landcolor": "#E5ECF6",
           "showlakes": true,
           "showland": true,
           "subunitcolor": "white"
          },
          "hoverlabel": {
           "align": "left"
          },
          "hovermode": "closest",
          "mapbox": {
           "style": "light"
          },
          "paper_bgcolor": "white",
          "plot_bgcolor": "#E5ECF6",
          "polar": {
           "angularaxis": {
            "gridcolor": "white",
            "linecolor": "white",
            "ticks": ""
           },
           "bgcolor": "#E5ECF6",
           "radialaxis": {
            "gridcolor": "white",
            "linecolor": "white",
            "ticks": ""
           }
          },
          "scene": {
           "xaxis": {
            "backgroundcolor": "#E5ECF6",
            "gridcolor": "white",
            "gridwidth": 2,
            "linecolor": "white",
            "showbackground": true,
            "ticks": "",
            "zerolinecolor": "white"
           },
           "yaxis": {
            "backgroundcolor": "#E5ECF6",
            "gridcolor": "white",
            "gridwidth": 2,
            "linecolor": "white",
            "showbackground": true,
            "ticks": "",
            "zerolinecolor": "white"
           },
           "zaxis": {
            "backgroundcolor": "#E5ECF6",
            "gridcolor": "white",
            "gridwidth": 2,
            "linecolor": "white",
            "showbackground": true,
            "ticks": "",
            "zerolinecolor": "white"
           }
          },
          "shapedefaults": {
           "line": {
            "color": "#2a3f5f"
           }
          },
          "ternary": {
           "aaxis": {
            "gridcolor": "white",
            "linecolor": "white",
            "ticks": ""
           },
           "baxis": {
            "gridcolor": "white",
            "linecolor": "white",
            "ticks": ""
           },
           "bgcolor": "#E5ECF6",
           "caxis": {
            "gridcolor": "white",
            "linecolor": "white",
            "ticks": ""
           }
          },
          "title": {
           "x": 0.05
          },
          "xaxis": {
           "automargin": true,
           "gridcolor": "white",
           "linecolor": "white",
           "ticks": "",
           "title": {
            "standoff": 15
           },
           "zerolinecolor": "white",
           "zerolinewidth": 2
          },
          "yaxis": {
           "automargin": true,
           "gridcolor": "white",
           "linecolor": "white",
           "ticks": "",
           "title": {
            "standoff": 15
           },
           "zerolinecolor": "white",
           "zerolinewidth": 2
          }
         }
        },
        "title": {
         "text": "Plotly Scatter Chart"
        },
        "xaxis": {
         "anchor": "y",
         "domain": [
          0,
          0.98
         ],
         "title": {
          "text": "sepal_width"
         }
        },
        "xaxis2": {
         "anchor": "y2",
         "domain": [
          0,
          0.98
         ],
         "matches": "x",
         "showticklabels": false
        },
        "xaxis3": {
         "anchor": "y3",
         "domain": [
          0,
          0.98
         ],
         "matches": "x",
         "showticklabels": false
        },
        "yaxis": {
         "anchor": "x",
         "domain": [
          0,
          0.3133333333333333
         ],
         "title": {
          "text": "sepal_length"
         }
        },
        "yaxis2": {
         "anchor": "x2",
         "domain": [
          0.34333333333333327,
          0.6566666666666665
         ],
         "matches": "y",
         "title": {
          "text": "sepal_length"
         }
        },
        "yaxis3": {
         "anchor": "x3",
         "domain": [
          0.6866666666666665,
          0.9999999999999998
         ],
         "matches": "y",
         "title": {
          "text": "sepal_length"
         }
        }
       }
      },
      "text/html": [
       "<div>                            <div id=\"1a7c850b-fd51-4ca2-af32-b2f37c3974c2\" class=\"plotly-graph-div\" style=\"height:525px; width:100%;\"></div>            <script type=\"text/javascript\">                require([\"plotly\"], function(Plotly) {                    window.PLOTLYENV=window.PLOTLYENV || {};                                    if (document.getElementById(\"1a7c850b-fd51-4ca2-af32-b2f37c3974c2\")) {                    Plotly.newPlot(                        \"1a7c850b-fd51-4ca2-af32-b2f37c3974c2\",                        [{\"hovertemplate\":\"species=setosa<br>sepal_width=%{x}<br>sepal_length=%{y}<br>petal_length=%{marker.size}<extra></extra>\",\"legendgroup\":\"setosa\",\"marker\":{\"color\":\"#636efa\",\"size\":[1.4,1.4,1.3,1.5,1.4,1.7,1.4,1.5,1.4,1.5,1.5,1.6,1.4,1.1,1.2,1.5,1.3,1.4,1.7,1.5,1.7,1.5,1.0,1.7,1.9,1.6,1.6,1.5,1.4,1.6,1.6,1.5,1.5,1.4,1.5,1.2,1.3,1.5,1.3,1.5,1.3,1.3,1.3,1.6,1.9,1.4,1.6,1.4,1.5,1.4],\"sizemode\":\"area\",\"sizeref\":0.01725,\"symbol\":\"circle\"},\"mode\":\"markers\",\"name\":\"setosa\",\"orientation\":\"v\",\"showlegend\":true,\"x\":[3.5,3.0,3.2,3.1,3.6,3.9,3.4,3.4,2.9,3.1,3.7,3.4,3.0,3.0,4.0,4.4,3.9,3.5,3.8,3.8,3.4,3.7,3.6,3.3,3.4,3.0,3.4,3.5,3.4,3.2,3.1,3.4,4.1,4.2,3.1,3.2,3.5,3.1,3.0,3.4,3.5,2.3,3.2,3.5,3.8,3.0,3.8,3.2,3.7,3.3],\"xaxis\":\"x3\",\"y\":[5.1,4.9,4.7,4.6,5.0,5.4,4.6,5.0,4.4,4.9,5.4,4.8,4.8,4.3,5.8,5.7,5.4,5.1,5.7,5.1,5.4,5.1,4.6,5.1,4.8,5.0,5.0,5.2,5.2,4.7,4.8,5.4,5.2,5.5,4.9,5.0,5.5,4.9,4.4,5.1,5.0,4.5,4.4,5.0,5.1,4.8,5.1,4.6,5.3,5.0],\"yaxis\":\"y3\",\"type\":\"scatter\"},{\"hovertemplate\":\"species=versicolor<br>sepal_width=%{x}<br>sepal_length=%{y}<br>petal_length=%{marker.size}<extra></extra>\",\"legendgroup\":\"versicolor\",\"marker\":{\"color\":\"#EF553B\",\"size\":[4.7,4.5,4.9,4.0,4.6,4.5,4.7,3.3,4.6,3.9,3.5,4.2,4.0,4.7,3.6,4.4,4.5,4.1,4.5,3.9,4.8,4.0,4.9,4.7,4.3,4.4,4.8,5.0,4.5,3.5,3.8,3.7,3.9,5.1,4.5,4.5,4.7,4.4,4.1,4.0,4.4,4.6,4.0,3.3,4.2,4.2,4.2,4.3,3.0,4.1],\"sizemode\":\"area\",\"sizeref\":0.01725,\"symbol\":\"circle\"},\"mode\":\"markers\",\"name\":\"versicolor\",\"orientation\":\"v\",\"showlegend\":true,\"x\":[3.2,3.2,3.1,2.3,2.8,2.8,3.3,2.4,2.9,2.7,2.0,3.0,2.2,2.9,2.9,3.1,3.0,2.7,2.2,2.5,3.2,2.8,2.5,2.8,2.9,3.0,2.8,3.0,2.9,2.6,2.4,2.4,2.7,2.7,3.0,3.4,3.1,2.3,3.0,2.5,2.6,3.0,2.6,2.3,2.7,3.0,2.9,2.9,2.5,2.8],\"xaxis\":\"x2\",\"y\":[7.0,6.4,6.9,5.5,6.5,5.7,6.3,4.9,6.6,5.2,5.0,5.9,6.0,6.1,5.6,6.7,5.6,5.8,6.2,5.6,5.9,6.1,6.3,6.1,6.4,6.6,6.8,6.7,6.0,5.7,5.5,5.5,5.8,6.0,5.4,6.0,6.7,6.3,5.6,5.5,5.5,6.1,5.8,5.0,5.6,5.7,5.7,6.2,5.1,5.7],\"yaxis\":\"y2\",\"type\":\"scatter\"},{\"hovertemplate\":\"species=virginica<br>sepal_width=%{x}<br>sepal_length=%{y}<br>petal_length=%{marker.size}<extra></extra>\",\"legendgroup\":\"virginica\",\"marker\":{\"color\":\"#00cc96\",\"size\":[6.0,5.1,5.9,5.6,5.8,6.6,4.5,6.3,5.8,6.1,5.1,5.3,5.5,5.0,5.1,5.3,5.5,6.7,6.9,5.0,5.7,4.9,6.7,4.9,5.7,6.0,4.8,4.9,5.6,5.8,6.1,6.4,5.6,5.1,5.6,6.1,5.6,5.5,4.8,5.4,5.6,5.1,5.1,5.9,5.7,5.2,5.0,5.2,5.4,5.1],\"sizemode\":\"area\",\"sizeref\":0.01725,\"symbol\":\"circle\"},\"mode\":\"markers\",\"name\":\"virginica\",\"orientation\":\"v\",\"showlegend\":true,\"x\":[3.3,2.7,3.0,2.9,3.0,3.0,2.5,2.9,2.5,3.6,3.2,2.7,3.0,2.5,2.8,3.2,3.0,3.8,2.6,2.2,3.2,2.8,2.8,2.7,3.3,3.2,2.8,3.0,2.8,3.0,2.8,3.8,2.8,2.8,2.6,3.0,3.4,3.1,3.0,3.1,3.1,3.1,2.7,3.2,3.3,3.0,2.5,3.0,3.4,3.0],\"xaxis\":\"x\",\"y\":[6.3,5.8,7.1,6.3,6.5,7.6,4.9,7.3,6.7,7.2,6.5,6.4,6.8,5.7,5.8,6.4,6.5,7.7,7.7,6.0,6.9,5.6,7.7,6.3,6.7,7.2,6.2,6.1,6.4,7.2,7.4,7.9,6.4,6.3,6.1,7.7,6.3,6.4,6.0,6.9,6.7,6.9,5.8,6.8,6.7,6.7,6.3,6.5,6.2,5.9],\"yaxis\":\"y\",\"type\":\"scatter\"}],                        {\"template\":{\"data\":{\"bar\":[{\"error_x\":{\"color\":\"#2a3f5f\"},\"error_y\":{\"color\":\"#2a3f5f\"},\"marker\":{\"line\":{\"color\":\"#E5ECF6\",\"width\":0.5},\"pattern\":{\"fillmode\":\"overlay\",\"size\":10,\"solidity\":0.2}},\"type\":\"bar\"}],\"barpolar\":[{\"marker\":{\"line\":{\"color\":\"#E5ECF6\",\"width\":0.5},\"pattern\":{\"fillmode\":\"overlay\",\"size\":10,\"solidity\":0.2}},\"type\":\"barpolar\"}],\"carpet\":[{\"aaxis\":{\"endlinecolor\":\"#2a3f5f\",\"gridcolor\":\"white\",\"linecolor\":\"white\",\"minorgridcolor\":\"white\",\"startlinecolor\":\"#2a3f5f\"},\"baxis\":{\"endlinecolor\":\"#2a3f5f\",\"gridcolor\":\"white\",\"linecolor\":\"white\",\"minorgridcolor\":\"white\",\"startlinecolor\":\"#2a3f5f\"},\"type\":\"carpet\"}],\"choropleth\":[{\"colorbar\":{\"outlinewidth\":0,\"ticks\":\"\"},\"type\":\"choropleth\"}],\"contour\":[{\"colorbar\":{\"outlinewidth\":0,\"ticks\":\"\"},\"colorscale\":[[0.0,\"#0d0887\"],[0.1111111111111111,\"#46039f\"],[0.2222222222222222,\"#7201a8\"],[0.3333333333333333,\"#9c179e\"],[0.4444444444444444,\"#bd3786\"],[0.5555555555555556,\"#d8576b\"],[0.6666666666666666,\"#ed7953\"],[0.7777777777777778,\"#fb9f3a\"],[0.8888888888888888,\"#fdca26\"],[1.0,\"#f0f921\"]],\"type\":\"contour\"}],\"contourcarpet\":[{\"colorbar\":{\"outlinewidth\":0,\"ticks\":\"\"},\"type\":\"contourcarpet\"}],\"heatmap\":[{\"colorbar\":{\"outlinewidth\":0,\"ticks\":\"\"},\"colorscale\":[[0.0,\"#0d0887\"],[0.1111111111111111,\"#46039f\"],[0.2222222222222222,\"#7201a8\"],[0.3333333333333333,\"#9c179e\"],[0.4444444444444444,\"#bd3786\"],[0.5555555555555556,\"#d8576b\"],[0.6666666666666666,\"#ed7953\"],[0.7777777777777778,\"#fb9f3a\"],[0.8888888888888888,\"#fdca26\"],[1.0,\"#f0f921\"]],\"type\":\"heatmap\"}],\"heatmapgl\":[{\"colorbar\":{\"outlinewidth\":0,\"ticks\":\"\"},\"colorscale\":[[0.0,\"#0d0887\"],[0.1111111111111111,\"#46039f\"],[0.2222222222222222,\"#7201a8\"],[0.3333333333333333,\"#9c179e\"],[0.4444444444444444,\"#bd3786\"],[0.5555555555555556,\"#d8576b\"],[0.6666666666666666,\"#ed7953\"],[0.7777777777777778,\"#fb9f3a\"],[0.8888888888888888,\"#fdca26\"],[1.0,\"#f0f921\"]],\"type\":\"heatmapgl\"}],\"histogram\":[{\"marker\":{\"pattern\":{\"fillmode\":\"overlay\",\"size\":10,\"solidity\":0.2}},\"type\":\"histogram\"}],\"histogram2d\":[{\"colorbar\":{\"outlinewidth\":0,\"ticks\":\"\"},\"colorscale\":[[0.0,\"#0d0887\"],[0.1111111111111111,\"#46039f\"],[0.2222222222222222,\"#7201a8\"],[0.3333333333333333,\"#9c179e\"],[0.4444444444444444,\"#bd3786\"],[0.5555555555555556,\"#d8576b\"],[0.6666666666666666,\"#ed7953\"],[0.7777777777777778,\"#fb9f3a\"],[0.8888888888888888,\"#fdca26\"],[1.0,\"#f0f921\"]],\"type\":\"histogram2d\"}],\"histogram2dcontour\":[{\"colorbar\":{\"outlinewidth\":0,\"ticks\":\"\"},\"colorscale\":[[0.0,\"#0d0887\"],[0.1111111111111111,\"#46039f\"],[0.2222222222222222,\"#7201a8\"],[0.3333333333333333,\"#9c179e\"],[0.4444444444444444,\"#bd3786\"],[0.5555555555555556,\"#d8576b\"],[0.6666666666666666,\"#ed7953\"],[0.7777777777777778,\"#fb9f3a\"],[0.8888888888888888,\"#fdca26\"],[1.0,\"#f0f921\"]],\"type\":\"histogram2dcontour\"}],\"mesh3d\":[{\"colorbar\":{\"outlinewidth\":0,\"ticks\":\"\"},\"type\":\"mesh3d\"}],\"parcoords\":[{\"line\":{\"colorbar\":{\"outlinewidth\":0,\"ticks\":\"\"}},\"type\":\"parcoords\"}],\"pie\":[{\"automargin\":true,\"type\":\"pie\"}],\"scatter\":[{\"marker\":{\"colorbar\":{\"outlinewidth\":0,\"ticks\":\"\"}},\"type\":\"scatter\"}],\"scatter3d\":[{\"line\":{\"colorbar\":{\"outlinewidth\":0,\"ticks\":\"\"}},\"marker\":{\"colorbar\":{\"outlinewidth\":0,\"ticks\":\"\"}},\"type\":\"scatter3d\"}],\"scattercarpet\":[{\"marker\":{\"colorbar\":{\"outlinewidth\":0,\"ticks\":\"\"}},\"type\":\"scattercarpet\"}],\"scattergeo\":[{\"marker\":{\"colorbar\":{\"outlinewidth\":0,\"ticks\":\"\"}},\"type\":\"scattergeo\"}],\"scattergl\":[{\"marker\":{\"colorbar\":{\"outlinewidth\":0,\"ticks\":\"\"}},\"type\":\"scattergl\"}],\"scattermapbox\":[{\"marker\":{\"colorbar\":{\"outlinewidth\":0,\"ticks\":\"\"}},\"type\":\"scattermapbox\"}],\"scatterpolar\":[{\"marker\":{\"colorbar\":{\"outlinewidth\":0,\"ticks\":\"\"}},\"type\":\"scatterpolar\"}],\"scatterpolargl\":[{\"marker\":{\"colorbar\":{\"outlinewidth\":0,\"ticks\":\"\"}},\"type\":\"scatterpolargl\"}],\"scatterternary\":[{\"marker\":{\"colorbar\":{\"outlinewidth\":0,\"ticks\":\"\"}},\"type\":\"scatterternary\"}],\"surface\":[{\"colorbar\":{\"outlinewidth\":0,\"ticks\":\"\"},\"colorscale\":[[0.0,\"#0d0887\"],[0.1111111111111111,\"#46039f\"],[0.2222222222222222,\"#7201a8\"],[0.3333333333333333,\"#9c179e\"],[0.4444444444444444,\"#bd3786\"],[0.5555555555555556,\"#d8576b\"],[0.6666666666666666,\"#ed7953\"],[0.7777777777777778,\"#fb9f3a\"],[0.8888888888888888,\"#fdca26\"],[1.0,\"#f0f921\"]],\"type\":\"surface\"}],\"table\":[{\"cells\":{\"fill\":{\"color\":\"#EBF0F8\"},\"line\":{\"color\":\"white\"}},\"header\":{\"fill\":{\"color\":\"#C8D4E3\"},\"line\":{\"color\":\"white\"}},\"type\":\"table\"}]},\"layout\":{\"annotationdefaults\":{\"arrowcolor\":\"#2a3f5f\",\"arrowhead\":0,\"arrowwidth\":1},\"autotypenumbers\":\"strict\",\"coloraxis\":{\"colorbar\":{\"outlinewidth\":0,\"ticks\":\"\"}},\"colorscale\":{\"diverging\":[[0,\"#8e0152\"],[0.1,\"#c51b7d\"],[0.2,\"#de77ae\"],[0.3,\"#f1b6da\"],[0.4,\"#fde0ef\"],[0.5,\"#f7f7f7\"],[0.6,\"#e6f5d0\"],[0.7,\"#b8e186\"],[0.8,\"#7fbc41\"],[0.9,\"#4d9221\"],[1,\"#276419\"]],\"sequential\":[[0.0,\"#0d0887\"],[0.1111111111111111,\"#46039f\"],[0.2222222222222222,\"#7201a8\"],[0.3333333333333333,\"#9c179e\"],[0.4444444444444444,\"#bd3786\"],[0.5555555555555556,\"#d8576b\"],[0.6666666666666666,\"#ed7953\"],[0.7777777777777778,\"#fb9f3a\"],[0.8888888888888888,\"#fdca26\"],[1.0,\"#f0f921\"]],\"sequentialminus\":[[0.0,\"#0d0887\"],[0.1111111111111111,\"#46039f\"],[0.2222222222222222,\"#7201a8\"],[0.3333333333333333,\"#9c179e\"],[0.4444444444444444,\"#bd3786\"],[0.5555555555555556,\"#d8576b\"],[0.6666666666666666,\"#ed7953\"],[0.7777777777777778,\"#fb9f3a\"],[0.8888888888888888,\"#fdca26\"],[1.0,\"#f0f921\"]]},\"colorway\":[\"#636efa\",\"#EF553B\",\"#00cc96\",\"#ab63fa\",\"#FFA15A\",\"#19d3f3\",\"#FF6692\",\"#B6E880\",\"#FF97FF\",\"#FECB52\"],\"font\":{\"color\":\"#2a3f5f\"},\"geo\":{\"bgcolor\":\"white\",\"lakecolor\":\"white\",\"landcolor\":\"#E5ECF6\",\"showlakes\":true,\"showland\":true,\"subunitcolor\":\"white\"},\"hoverlabel\":{\"align\":\"left\"},\"hovermode\":\"closest\",\"mapbox\":{\"style\":\"light\"},\"paper_bgcolor\":\"white\",\"plot_bgcolor\":\"#E5ECF6\",\"polar\":{\"angularaxis\":{\"gridcolor\":\"white\",\"linecolor\":\"white\",\"ticks\":\"\"},\"bgcolor\":\"#E5ECF6\",\"radialaxis\":{\"gridcolor\":\"white\",\"linecolor\":\"white\",\"ticks\":\"\"}},\"scene\":{\"xaxis\":{\"backgroundcolor\":\"#E5ECF6\",\"gridcolor\":\"white\",\"gridwidth\":2,\"linecolor\":\"white\",\"showbackground\":true,\"ticks\":\"\",\"zerolinecolor\":\"white\"},\"yaxis\":{\"backgroundcolor\":\"#E5ECF6\",\"gridcolor\":\"white\",\"gridwidth\":2,\"linecolor\":\"white\",\"showbackground\":true,\"ticks\":\"\",\"zerolinecolor\":\"white\"},\"zaxis\":{\"backgroundcolor\":\"#E5ECF6\",\"gridcolor\":\"white\",\"gridwidth\":2,\"linecolor\":\"white\",\"showbackground\":true,\"ticks\":\"\",\"zerolinecolor\":\"white\"}},\"shapedefaults\":{\"line\":{\"color\":\"#2a3f5f\"}},\"ternary\":{\"aaxis\":{\"gridcolor\":\"white\",\"linecolor\":\"white\",\"ticks\":\"\"},\"baxis\":{\"gridcolor\":\"white\",\"linecolor\":\"white\",\"ticks\":\"\"},\"bgcolor\":\"#E5ECF6\",\"caxis\":{\"gridcolor\":\"white\",\"linecolor\":\"white\",\"ticks\":\"\"}},\"title\":{\"x\":0.05},\"xaxis\":{\"automargin\":true,\"gridcolor\":\"white\",\"linecolor\":\"white\",\"ticks\":\"\",\"title\":{\"standoff\":15},\"zerolinecolor\":\"white\",\"zerolinewidth\":2},\"yaxis\":{\"automargin\":true,\"gridcolor\":\"white\",\"linecolor\":\"white\",\"ticks\":\"\",\"title\":{\"standoff\":15},\"zerolinecolor\":\"white\",\"zerolinewidth\":2}}},\"xaxis\":{\"anchor\":\"y\",\"domain\":[0.0,0.98],\"title\":{\"text\":\"sepal_width\"}},\"yaxis\":{\"anchor\":\"x\",\"domain\":[0.0,0.3133333333333333],\"title\":{\"text\":\"sepal_length\"}},\"xaxis2\":{\"anchor\":\"y2\",\"domain\":[0.0,0.98],\"matches\":\"x\",\"showticklabels\":false},\"yaxis2\":{\"anchor\":\"x2\",\"domain\":[0.34333333333333327,0.6566666666666665],\"matches\":\"y\",\"title\":{\"text\":\"sepal_length\"}},\"xaxis3\":{\"anchor\":\"y3\",\"domain\":[0.0,0.98],\"matches\":\"x\",\"showticklabels\":false},\"yaxis3\":{\"anchor\":\"x3\",\"domain\":[0.6866666666666665,0.9999999999999998],\"matches\":\"y\",\"title\":{\"text\":\"sepal_length\"}},\"annotations\":[{\"font\":{},\"showarrow\":false,\"text\":\"species=virginica\",\"textangle\":90,\"x\":0.98,\"xanchor\":\"left\",\"xref\":\"paper\",\"y\":0.15666666666666665,\"yanchor\":\"middle\",\"yref\":\"paper\"},{\"font\":{},\"showarrow\":false,\"text\":\"species=versicolor\",\"textangle\":90,\"x\":0.98,\"xanchor\":\"left\",\"xref\":\"paper\",\"y\":0.4999999999999999,\"yanchor\":\"middle\",\"yref\":\"paper\"},{\"font\":{},\"showarrow\":false,\"text\":\"species=setosa\",\"textangle\":90,\"x\":0.98,\"xanchor\":\"left\",\"xref\":\"paper\",\"y\":0.8433333333333332,\"yanchor\":\"middle\",\"yref\":\"paper\"}],\"legend\":{\"title\":{\"text\":\"species\"},\"tracegroupgap\":0,\"itemsizing\":\"constant\"},\"title\":{\"text\":\"Plotly Scatter Chart\"}},                        {\"responsive\": true}                    ).then(function(){\n",
       "                            \n",
       "var gd = document.getElementById('1a7c850b-fd51-4ca2-af32-b2f37c3974c2');\n",
       "var x = new MutationObserver(function (mutations, observer) {{\n",
       "        var display = window.getComputedStyle(gd).display;\n",
       "        if (!display || display === 'none') {{\n",
       "            console.log([gd, 'removed!']);\n",
       "            Plotly.purge(gd);\n",
       "            observer.disconnect();\n",
       "        }}\n",
       "}});\n",
       "\n",
       "// Listen for the removal of the full notebook cells\n",
       "var notebookContainer = gd.closest('#notebook-container');\n",
       "if (notebookContainer) {{\n",
       "    x.observe(notebookContainer, {childList: true});\n",
       "}}\n",
       "\n",
       "// Listen for the clearing of the current output cell\n",
       "var outputEl = gd.closest('.output');\n",
       "if (outputEl) {{\n",
       "    x.observe(outputEl, {childList: true});\n",
       "}}\n",
       "\n",
       "                        })                };                });            </script>        </div>"
      ]
     },
     "metadata": {},
     "output_type": "display_data"
    }
   ],
   "source": [
    "# https://plotly.com/python/line-and-scatter/\n",
    "fig = px.scatter(df, \n",
    "                 x=\"sepal_width\", y=\"sepal_length\", \n",
    "                 color=\"species\", facet_row=\"species\",# separate rows based on the selected column\n",
    "                 size='petal_length', title = \"Plotly Scatter Chart\")\n",
    "fig.show()"
   ]
  },
  {
   "cell_type": "code",
   "execution_count": 21,
   "metadata": {},
   "outputs": [
    {
     "data": {
      "application/vnd.plotly.v1+json": {
       "config": {
        "plotlyServerURL": "https://plot.ly"
       },
       "data": [
        {
         "hovertemplate": "species=setosa<br>sepal_width=%{x}<br>sepal_length=%{y}<br>petal_length=%{marker.size}<extra></extra>",
         "legendgroup": "setosa",
         "marker": {
          "color": "#636efa",
          "size": [
           1.4,
           1.4,
           1.3,
           1.5,
           1.4,
           1.7,
           1.4,
           1.5,
           1.4,
           1.5,
           1.5,
           1.6,
           1.4,
           1.1,
           1.2,
           1.5,
           1.3,
           1.4,
           1.7,
           1.5,
           1.7,
           1.5,
           1,
           1.7,
           1.9,
           1.6,
           1.6,
           1.5,
           1.4,
           1.6,
           1.6,
           1.5,
           1.5,
           1.4,
           1.5,
           1.2,
           1.3,
           1.5,
           1.3,
           1.5,
           1.3,
           1.3,
           1.3,
           1.6,
           1.9,
           1.4,
           1.6,
           1.4,
           1.5,
           1.4
          ],
          "sizemode": "area",
          "sizeref": 0.01725,
          "symbol": "circle"
         },
         "mode": "markers",
         "name": "setosa",
         "scene": "scene",
         "showlegend": true,
         "type": "scatter3d",
         "x": [
          3.5,
          3,
          3.2,
          3.1,
          3.6,
          3.9,
          3.4,
          3.4,
          2.9,
          3.1,
          3.7,
          3.4,
          3,
          3,
          4,
          4.4,
          3.9,
          3.5,
          3.8,
          3.8,
          3.4,
          3.7,
          3.6,
          3.3,
          3.4,
          3,
          3.4,
          3.5,
          3.4,
          3.2,
          3.1,
          3.4,
          4.1,
          4.2,
          3.1,
          3.2,
          3.5,
          3.1,
          3,
          3.4,
          3.5,
          2.3,
          3.2,
          3.5,
          3.8,
          3,
          3.8,
          3.2,
          3.7,
          3.3
         ],
         "y": [
          5.1,
          4.9,
          4.7,
          4.6,
          5,
          5.4,
          4.6,
          5,
          4.4,
          4.9,
          5.4,
          4.8,
          4.8,
          4.3,
          5.8,
          5.7,
          5.4,
          5.1,
          5.7,
          5.1,
          5.4,
          5.1,
          4.6,
          5.1,
          4.8,
          5,
          5,
          5.2,
          5.2,
          4.7,
          4.8,
          5.4,
          5.2,
          5.5,
          4.9,
          5,
          5.5,
          4.9,
          4.4,
          5.1,
          5,
          4.5,
          4.4,
          5,
          5.1,
          4.8,
          5.1,
          4.6,
          5.3,
          5
         ],
         "z": [
          1.4,
          1.4,
          1.3,
          1.5,
          1.4,
          1.7,
          1.4,
          1.5,
          1.4,
          1.5,
          1.5,
          1.6,
          1.4,
          1.1,
          1.2,
          1.5,
          1.3,
          1.4,
          1.7,
          1.5,
          1.7,
          1.5,
          1,
          1.7,
          1.9,
          1.6,
          1.6,
          1.5,
          1.4,
          1.6,
          1.6,
          1.5,
          1.5,
          1.4,
          1.5,
          1.2,
          1.3,
          1.5,
          1.3,
          1.5,
          1.3,
          1.3,
          1.3,
          1.6,
          1.9,
          1.4,
          1.6,
          1.4,
          1.5,
          1.4
         ]
        },
        {
         "hovertemplate": "species=versicolor<br>sepal_width=%{x}<br>sepal_length=%{y}<br>petal_length=%{marker.size}<extra></extra>",
         "legendgroup": "versicolor",
         "marker": {
          "color": "#EF553B",
          "size": [
           4.7,
           4.5,
           4.9,
           4,
           4.6,
           4.5,
           4.7,
           3.3,
           4.6,
           3.9,
           3.5,
           4.2,
           4,
           4.7,
           3.6,
           4.4,
           4.5,
           4.1,
           4.5,
           3.9,
           4.8,
           4,
           4.9,
           4.7,
           4.3,
           4.4,
           4.8,
           5,
           4.5,
           3.5,
           3.8,
           3.7,
           3.9,
           5.1,
           4.5,
           4.5,
           4.7,
           4.4,
           4.1,
           4,
           4.4,
           4.6,
           4,
           3.3,
           4.2,
           4.2,
           4.2,
           4.3,
           3,
           4.1
          ],
          "sizemode": "area",
          "sizeref": 0.01725,
          "symbol": "circle"
         },
         "mode": "markers",
         "name": "versicolor",
         "scene": "scene",
         "showlegend": true,
         "type": "scatter3d",
         "x": [
          3.2,
          3.2,
          3.1,
          2.3,
          2.8,
          2.8,
          3.3,
          2.4,
          2.9,
          2.7,
          2,
          3,
          2.2,
          2.9,
          2.9,
          3.1,
          3,
          2.7,
          2.2,
          2.5,
          3.2,
          2.8,
          2.5,
          2.8,
          2.9,
          3,
          2.8,
          3,
          2.9,
          2.6,
          2.4,
          2.4,
          2.7,
          2.7,
          3,
          3.4,
          3.1,
          2.3,
          3,
          2.5,
          2.6,
          3,
          2.6,
          2.3,
          2.7,
          3,
          2.9,
          2.9,
          2.5,
          2.8
         ],
         "y": [
          7,
          6.4,
          6.9,
          5.5,
          6.5,
          5.7,
          6.3,
          4.9,
          6.6,
          5.2,
          5,
          5.9,
          6,
          6.1,
          5.6,
          6.7,
          5.6,
          5.8,
          6.2,
          5.6,
          5.9,
          6.1,
          6.3,
          6.1,
          6.4,
          6.6,
          6.8,
          6.7,
          6,
          5.7,
          5.5,
          5.5,
          5.8,
          6,
          5.4,
          6,
          6.7,
          6.3,
          5.6,
          5.5,
          5.5,
          6.1,
          5.8,
          5,
          5.6,
          5.7,
          5.7,
          6.2,
          5.1,
          5.7
         ],
         "z": [
          4.7,
          4.5,
          4.9,
          4,
          4.6,
          4.5,
          4.7,
          3.3,
          4.6,
          3.9,
          3.5,
          4.2,
          4,
          4.7,
          3.6,
          4.4,
          4.5,
          4.1,
          4.5,
          3.9,
          4.8,
          4,
          4.9,
          4.7,
          4.3,
          4.4,
          4.8,
          5,
          4.5,
          3.5,
          3.8,
          3.7,
          3.9,
          5.1,
          4.5,
          4.5,
          4.7,
          4.4,
          4.1,
          4,
          4.4,
          4.6,
          4,
          3.3,
          4.2,
          4.2,
          4.2,
          4.3,
          3,
          4.1
         ]
        },
        {
         "hovertemplate": "species=virginica<br>sepal_width=%{x}<br>sepal_length=%{y}<br>petal_length=%{marker.size}<extra></extra>",
         "legendgroup": "virginica",
         "marker": {
          "color": "#00cc96",
          "size": [
           6,
           5.1,
           5.9,
           5.6,
           5.8,
           6.6,
           4.5,
           6.3,
           5.8,
           6.1,
           5.1,
           5.3,
           5.5,
           5,
           5.1,
           5.3,
           5.5,
           6.7,
           6.9,
           5,
           5.7,
           4.9,
           6.7,
           4.9,
           5.7,
           6,
           4.8,
           4.9,
           5.6,
           5.8,
           6.1,
           6.4,
           5.6,
           5.1,
           5.6,
           6.1,
           5.6,
           5.5,
           4.8,
           5.4,
           5.6,
           5.1,
           5.1,
           5.9,
           5.7,
           5.2,
           5,
           5.2,
           5.4,
           5.1
          ],
          "sizemode": "area",
          "sizeref": 0.01725,
          "symbol": "circle"
         },
         "mode": "markers",
         "name": "virginica",
         "scene": "scene",
         "showlegend": true,
         "type": "scatter3d",
         "x": [
          3.3,
          2.7,
          3,
          2.9,
          3,
          3,
          2.5,
          2.9,
          2.5,
          3.6,
          3.2,
          2.7,
          3,
          2.5,
          2.8,
          3.2,
          3,
          3.8,
          2.6,
          2.2,
          3.2,
          2.8,
          2.8,
          2.7,
          3.3,
          3.2,
          2.8,
          3,
          2.8,
          3,
          2.8,
          3.8,
          2.8,
          2.8,
          2.6,
          3,
          3.4,
          3.1,
          3,
          3.1,
          3.1,
          3.1,
          2.7,
          3.2,
          3.3,
          3,
          2.5,
          3,
          3.4,
          3
         ],
         "y": [
          6.3,
          5.8,
          7.1,
          6.3,
          6.5,
          7.6,
          4.9,
          7.3,
          6.7,
          7.2,
          6.5,
          6.4,
          6.8,
          5.7,
          5.8,
          6.4,
          6.5,
          7.7,
          7.7,
          6,
          6.9,
          5.6,
          7.7,
          6.3,
          6.7,
          7.2,
          6.2,
          6.1,
          6.4,
          7.2,
          7.4,
          7.9,
          6.4,
          6.3,
          6.1,
          7.7,
          6.3,
          6.4,
          6,
          6.9,
          6.7,
          6.9,
          5.8,
          6.8,
          6.7,
          6.7,
          6.3,
          6.5,
          6.2,
          5.9
         ],
         "z": [
          6,
          5.1,
          5.9,
          5.6,
          5.8,
          6.6,
          4.5,
          6.3,
          5.8,
          6.1,
          5.1,
          5.3,
          5.5,
          5,
          5.1,
          5.3,
          5.5,
          6.7,
          6.9,
          5,
          5.7,
          4.9,
          6.7,
          4.9,
          5.7,
          6,
          4.8,
          4.9,
          5.6,
          5.8,
          6.1,
          6.4,
          5.6,
          5.1,
          5.6,
          6.1,
          5.6,
          5.5,
          4.8,
          5.4,
          5.6,
          5.1,
          5.1,
          5.9,
          5.7,
          5.2,
          5,
          5.2,
          5.4,
          5.1
         ]
        }
       ],
       "layout": {
        "legend": {
         "itemsizing": "constant",
         "title": {
          "text": "species"
         },
         "tracegroupgap": 0
        },
        "scene": {
         "domain": {
          "x": [
           0,
           1
          ],
          "y": [
           0,
           1
          ]
         },
         "xaxis": {
          "title": {
           "text": "sepal_width"
          }
         },
         "yaxis": {
          "title": {
           "text": "sepal_length"
          }
         },
         "zaxis": {
          "title": {
           "text": "petal_length"
          }
         }
        },
        "template": {
         "data": {
          "bar": [
           {
            "error_x": {
             "color": "#2a3f5f"
            },
            "error_y": {
             "color": "#2a3f5f"
            },
            "marker": {
             "line": {
              "color": "#E5ECF6",
              "width": 0.5
             },
             "pattern": {
              "fillmode": "overlay",
              "size": 10,
              "solidity": 0.2
             }
            },
            "type": "bar"
           }
          ],
          "barpolar": [
           {
            "marker": {
             "line": {
              "color": "#E5ECF6",
              "width": 0.5
             },
             "pattern": {
              "fillmode": "overlay",
              "size": 10,
              "solidity": 0.2
             }
            },
            "type": "barpolar"
           }
          ],
          "carpet": [
           {
            "aaxis": {
             "endlinecolor": "#2a3f5f",
             "gridcolor": "white",
             "linecolor": "white",
             "minorgridcolor": "white",
             "startlinecolor": "#2a3f5f"
            },
            "baxis": {
             "endlinecolor": "#2a3f5f",
             "gridcolor": "white",
             "linecolor": "white",
             "minorgridcolor": "white",
             "startlinecolor": "#2a3f5f"
            },
            "type": "carpet"
           }
          ],
          "choropleth": [
           {
            "colorbar": {
             "outlinewidth": 0,
             "ticks": ""
            },
            "type": "choropleth"
           }
          ],
          "contour": [
           {
            "colorbar": {
             "outlinewidth": 0,
             "ticks": ""
            },
            "colorscale": [
             [
              0,
              "#0d0887"
             ],
             [
              0.1111111111111111,
              "#46039f"
             ],
             [
              0.2222222222222222,
              "#7201a8"
             ],
             [
              0.3333333333333333,
              "#9c179e"
             ],
             [
              0.4444444444444444,
              "#bd3786"
             ],
             [
              0.5555555555555556,
              "#d8576b"
             ],
             [
              0.6666666666666666,
              "#ed7953"
             ],
             [
              0.7777777777777778,
              "#fb9f3a"
             ],
             [
              0.8888888888888888,
              "#fdca26"
             ],
             [
              1,
              "#f0f921"
             ]
            ],
            "type": "contour"
           }
          ],
          "contourcarpet": [
           {
            "colorbar": {
             "outlinewidth": 0,
             "ticks": ""
            },
            "type": "contourcarpet"
           }
          ],
          "heatmap": [
           {
            "colorbar": {
             "outlinewidth": 0,
             "ticks": ""
            },
            "colorscale": [
             [
              0,
              "#0d0887"
             ],
             [
              0.1111111111111111,
              "#46039f"
             ],
             [
              0.2222222222222222,
              "#7201a8"
             ],
             [
              0.3333333333333333,
              "#9c179e"
             ],
             [
              0.4444444444444444,
              "#bd3786"
             ],
             [
              0.5555555555555556,
              "#d8576b"
             ],
             [
              0.6666666666666666,
              "#ed7953"
             ],
             [
              0.7777777777777778,
              "#fb9f3a"
             ],
             [
              0.8888888888888888,
              "#fdca26"
             ],
             [
              1,
              "#f0f921"
             ]
            ],
            "type": "heatmap"
           }
          ],
          "heatmapgl": [
           {
            "colorbar": {
             "outlinewidth": 0,
             "ticks": ""
            },
            "colorscale": [
             [
              0,
              "#0d0887"
             ],
             [
              0.1111111111111111,
              "#46039f"
             ],
             [
              0.2222222222222222,
              "#7201a8"
             ],
             [
              0.3333333333333333,
              "#9c179e"
             ],
             [
              0.4444444444444444,
              "#bd3786"
             ],
             [
              0.5555555555555556,
              "#d8576b"
             ],
             [
              0.6666666666666666,
              "#ed7953"
             ],
             [
              0.7777777777777778,
              "#fb9f3a"
             ],
             [
              0.8888888888888888,
              "#fdca26"
             ],
             [
              1,
              "#f0f921"
             ]
            ],
            "type": "heatmapgl"
           }
          ],
          "histogram": [
           {
            "marker": {
             "pattern": {
              "fillmode": "overlay",
              "size": 10,
              "solidity": 0.2
             }
            },
            "type": "histogram"
           }
          ],
          "histogram2d": [
           {
            "colorbar": {
             "outlinewidth": 0,
             "ticks": ""
            },
            "colorscale": [
             [
              0,
              "#0d0887"
             ],
             [
              0.1111111111111111,
              "#46039f"
             ],
             [
              0.2222222222222222,
              "#7201a8"
             ],
             [
              0.3333333333333333,
              "#9c179e"
             ],
             [
              0.4444444444444444,
              "#bd3786"
             ],
             [
              0.5555555555555556,
              "#d8576b"
             ],
             [
              0.6666666666666666,
              "#ed7953"
             ],
             [
              0.7777777777777778,
              "#fb9f3a"
             ],
             [
              0.8888888888888888,
              "#fdca26"
             ],
             [
              1,
              "#f0f921"
             ]
            ],
            "type": "histogram2d"
           }
          ],
          "histogram2dcontour": [
           {
            "colorbar": {
             "outlinewidth": 0,
             "ticks": ""
            },
            "colorscale": [
             [
              0,
              "#0d0887"
             ],
             [
              0.1111111111111111,
              "#46039f"
             ],
             [
              0.2222222222222222,
              "#7201a8"
             ],
             [
              0.3333333333333333,
              "#9c179e"
             ],
             [
              0.4444444444444444,
              "#bd3786"
             ],
             [
              0.5555555555555556,
              "#d8576b"
             ],
             [
              0.6666666666666666,
              "#ed7953"
             ],
             [
              0.7777777777777778,
              "#fb9f3a"
             ],
             [
              0.8888888888888888,
              "#fdca26"
             ],
             [
              1,
              "#f0f921"
             ]
            ],
            "type": "histogram2dcontour"
           }
          ],
          "mesh3d": [
           {
            "colorbar": {
             "outlinewidth": 0,
             "ticks": ""
            },
            "type": "mesh3d"
           }
          ],
          "parcoords": [
           {
            "line": {
             "colorbar": {
              "outlinewidth": 0,
              "ticks": ""
             }
            },
            "type": "parcoords"
           }
          ],
          "pie": [
           {
            "automargin": true,
            "type": "pie"
           }
          ],
          "scatter": [
           {
            "marker": {
             "colorbar": {
              "outlinewidth": 0,
              "ticks": ""
             }
            },
            "type": "scatter"
           }
          ],
          "scatter3d": [
           {
            "line": {
             "colorbar": {
              "outlinewidth": 0,
              "ticks": ""
             }
            },
            "marker": {
             "colorbar": {
              "outlinewidth": 0,
              "ticks": ""
             }
            },
            "type": "scatter3d"
           }
          ],
          "scattercarpet": [
           {
            "marker": {
             "colorbar": {
              "outlinewidth": 0,
              "ticks": ""
             }
            },
            "type": "scattercarpet"
           }
          ],
          "scattergeo": [
           {
            "marker": {
             "colorbar": {
              "outlinewidth": 0,
              "ticks": ""
             }
            },
            "type": "scattergeo"
           }
          ],
          "scattergl": [
           {
            "marker": {
             "colorbar": {
              "outlinewidth": 0,
              "ticks": ""
             }
            },
            "type": "scattergl"
           }
          ],
          "scattermapbox": [
           {
            "marker": {
             "colorbar": {
              "outlinewidth": 0,
              "ticks": ""
             }
            },
            "type": "scattermapbox"
           }
          ],
          "scatterpolar": [
           {
            "marker": {
             "colorbar": {
              "outlinewidth": 0,
              "ticks": ""
             }
            },
            "type": "scatterpolar"
           }
          ],
          "scatterpolargl": [
           {
            "marker": {
             "colorbar": {
              "outlinewidth": 0,
              "ticks": ""
             }
            },
            "type": "scatterpolargl"
           }
          ],
          "scatterternary": [
           {
            "marker": {
             "colorbar": {
              "outlinewidth": 0,
              "ticks": ""
             }
            },
            "type": "scatterternary"
           }
          ],
          "surface": [
           {
            "colorbar": {
             "outlinewidth": 0,
             "ticks": ""
            },
            "colorscale": [
             [
              0,
              "#0d0887"
             ],
             [
              0.1111111111111111,
              "#46039f"
             ],
             [
              0.2222222222222222,
              "#7201a8"
             ],
             [
              0.3333333333333333,
              "#9c179e"
             ],
             [
              0.4444444444444444,
              "#bd3786"
             ],
             [
              0.5555555555555556,
              "#d8576b"
             ],
             [
              0.6666666666666666,
              "#ed7953"
             ],
             [
              0.7777777777777778,
              "#fb9f3a"
             ],
             [
              0.8888888888888888,
              "#fdca26"
             ],
             [
              1,
              "#f0f921"
             ]
            ],
            "type": "surface"
           }
          ],
          "table": [
           {
            "cells": {
             "fill": {
              "color": "#EBF0F8"
             },
             "line": {
              "color": "white"
             }
            },
            "header": {
             "fill": {
              "color": "#C8D4E3"
             },
             "line": {
              "color": "white"
             }
            },
            "type": "table"
           }
          ]
         },
         "layout": {
          "annotationdefaults": {
           "arrowcolor": "#2a3f5f",
           "arrowhead": 0,
           "arrowwidth": 1
          },
          "autotypenumbers": "strict",
          "coloraxis": {
           "colorbar": {
            "outlinewidth": 0,
            "ticks": ""
           }
          },
          "colorscale": {
           "diverging": [
            [
             0,
             "#8e0152"
            ],
            [
             0.1,
             "#c51b7d"
            ],
            [
             0.2,
             "#de77ae"
            ],
            [
             0.3,
             "#f1b6da"
            ],
            [
             0.4,
             "#fde0ef"
            ],
            [
             0.5,
             "#f7f7f7"
            ],
            [
             0.6,
             "#e6f5d0"
            ],
            [
             0.7,
             "#b8e186"
            ],
            [
             0.8,
             "#7fbc41"
            ],
            [
             0.9,
             "#4d9221"
            ],
            [
             1,
             "#276419"
            ]
           ],
           "sequential": [
            [
             0,
             "#0d0887"
            ],
            [
             0.1111111111111111,
             "#46039f"
            ],
            [
             0.2222222222222222,
             "#7201a8"
            ],
            [
             0.3333333333333333,
             "#9c179e"
            ],
            [
             0.4444444444444444,
             "#bd3786"
            ],
            [
             0.5555555555555556,
             "#d8576b"
            ],
            [
             0.6666666666666666,
             "#ed7953"
            ],
            [
             0.7777777777777778,
             "#fb9f3a"
            ],
            [
             0.8888888888888888,
             "#fdca26"
            ],
            [
             1,
             "#f0f921"
            ]
           ],
           "sequentialminus": [
            [
             0,
             "#0d0887"
            ],
            [
             0.1111111111111111,
             "#46039f"
            ],
            [
             0.2222222222222222,
             "#7201a8"
            ],
            [
             0.3333333333333333,
             "#9c179e"
            ],
            [
             0.4444444444444444,
             "#bd3786"
            ],
            [
             0.5555555555555556,
             "#d8576b"
            ],
            [
             0.6666666666666666,
             "#ed7953"
            ],
            [
             0.7777777777777778,
             "#fb9f3a"
            ],
            [
             0.8888888888888888,
             "#fdca26"
            ],
            [
             1,
             "#f0f921"
            ]
           ]
          },
          "colorway": [
           "#636efa",
           "#EF553B",
           "#00cc96",
           "#ab63fa",
           "#FFA15A",
           "#19d3f3",
           "#FF6692",
           "#B6E880",
           "#FF97FF",
           "#FECB52"
          ],
          "font": {
           "color": "#2a3f5f"
          },
          "geo": {
           "bgcolor": "white",
           "lakecolor": "white",
           "landcolor": "#E5ECF6",
           "showlakes": true,
           "showland": true,
           "subunitcolor": "white"
          },
          "hoverlabel": {
           "align": "left"
          },
          "hovermode": "closest",
          "mapbox": {
           "style": "light"
          },
          "paper_bgcolor": "white",
          "plot_bgcolor": "#E5ECF6",
          "polar": {
           "angularaxis": {
            "gridcolor": "white",
            "linecolor": "white",
            "ticks": ""
           },
           "bgcolor": "#E5ECF6",
           "radialaxis": {
            "gridcolor": "white",
            "linecolor": "white",
            "ticks": ""
           }
          },
          "scene": {
           "xaxis": {
            "backgroundcolor": "#E5ECF6",
            "gridcolor": "white",
            "gridwidth": 2,
            "linecolor": "white",
            "showbackground": true,
            "ticks": "",
            "zerolinecolor": "white"
           },
           "yaxis": {
            "backgroundcolor": "#E5ECF6",
            "gridcolor": "white",
            "gridwidth": 2,
            "linecolor": "white",
            "showbackground": true,
            "ticks": "",
            "zerolinecolor": "white"
           },
           "zaxis": {
            "backgroundcolor": "#E5ECF6",
            "gridcolor": "white",
            "gridwidth": 2,
            "linecolor": "white",
            "showbackground": true,
            "ticks": "",
            "zerolinecolor": "white"
           }
          },
          "shapedefaults": {
           "line": {
            "color": "#2a3f5f"
           }
          },
          "ternary": {
           "aaxis": {
            "gridcolor": "white",
            "linecolor": "white",
            "ticks": ""
           },
           "baxis": {
            "gridcolor": "white",
            "linecolor": "white",
            "ticks": ""
           },
           "bgcolor": "#E5ECF6",
           "caxis": {
            "gridcolor": "white",
            "linecolor": "white",
            "ticks": ""
           }
          },
          "title": {
           "x": 0.05
          },
          "xaxis": {
           "automargin": true,
           "gridcolor": "white",
           "linecolor": "white",
           "ticks": "",
           "title": {
            "standoff": 15
           },
           "zerolinecolor": "white",
           "zerolinewidth": 2
          },
          "yaxis": {
           "automargin": true,
           "gridcolor": "white",
           "linecolor": "white",
           "ticks": "",
           "title": {
            "standoff": 15
           },
           "zerolinecolor": "white",
           "zerolinewidth": 2
          }
         }
        },
        "title": {
         "text": "Plotly 3D Scatter Chart"
        }
       }
      },
      "text/html": [
       "<div>                            <div id=\"5c3c1fcc-332f-4cf5-b549-fee71bba6c4a\" class=\"plotly-graph-div\" style=\"height:525px; width:100%;\"></div>            <script type=\"text/javascript\">                require([\"plotly\"], function(Plotly) {                    window.PLOTLYENV=window.PLOTLYENV || {};                                    if (document.getElementById(\"5c3c1fcc-332f-4cf5-b549-fee71bba6c4a\")) {                    Plotly.newPlot(                        \"5c3c1fcc-332f-4cf5-b549-fee71bba6c4a\",                        [{\"hovertemplate\":\"species=setosa<br>sepal_width=%{x}<br>sepal_length=%{y}<br>petal_length=%{marker.size}<extra></extra>\",\"legendgroup\":\"setosa\",\"marker\":{\"color\":\"#636efa\",\"size\":[1.4,1.4,1.3,1.5,1.4,1.7,1.4,1.5,1.4,1.5,1.5,1.6,1.4,1.1,1.2,1.5,1.3,1.4,1.7,1.5,1.7,1.5,1.0,1.7,1.9,1.6,1.6,1.5,1.4,1.6,1.6,1.5,1.5,1.4,1.5,1.2,1.3,1.5,1.3,1.5,1.3,1.3,1.3,1.6,1.9,1.4,1.6,1.4,1.5,1.4],\"sizemode\":\"area\",\"sizeref\":0.01725,\"symbol\":\"circle\"},\"mode\":\"markers\",\"name\":\"setosa\",\"scene\":\"scene\",\"showlegend\":true,\"x\":[3.5,3.0,3.2,3.1,3.6,3.9,3.4,3.4,2.9,3.1,3.7,3.4,3.0,3.0,4.0,4.4,3.9,3.5,3.8,3.8,3.4,3.7,3.6,3.3,3.4,3.0,3.4,3.5,3.4,3.2,3.1,3.4,4.1,4.2,3.1,3.2,3.5,3.1,3.0,3.4,3.5,2.3,3.2,3.5,3.8,3.0,3.8,3.2,3.7,3.3],\"y\":[5.1,4.9,4.7,4.6,5.0,5.4,4.6,5.0,4.4,4.9,5.4,4.8,4.8,4.3,5.8,5.7,5.4,5.1,5.7,5.1,5.4,5.1,4.6,5.1,4.8,5.0,5.0,5.2,5.2,4.7,4.8,5.4,5.2,5.5,4.9,5.0,5.5,4.9,4.4,5.1,5.0,4.5,4.4,5.0,5.1,4.8,5.1,4.6,5.3,5.0],\"z\":[1.4,1.4,1.3,1.5,1.4,1.7,1.4,1.5,1.4,1.5,1.5,1.6,1.4,1.1,1.2,1.5,1.3,1.4,1.7,1.5,1.7,1.5,1.0,1.7,1.9,1.6,1.6,1.5,1.4,1.6,1.6,1.5,1.5,1.4,1.5,1.2,1.3,1.5,1.3,1.5,1.3,1.3,1.3,1.6,1.9,1.4,1.6,1.4,1.5,1.4],\"type\":\"scatter3d\"},{\"hovertemplate\":\"species=versicolor<br>sepal_width=%{x}<br>sepal_length=%{y}<br>petal_length=%{marker.size}<extra></extra>\",\"legendgroup\":\"versicolor\",\"marker\":{\"color\":\"#EF553B\",\"size\":[4.7,4.5,4.9,4.0,4.6,4.5,4.7,3.3,4.6,3.9,3.5,4.2,4.0,4.7,3.6,4.4,4.5,4.1,4.5,3.9,4.8,4.0,4.9,4.7,4.3,4.4,4.8,5.0,4.5,3.5,3.8,3.7,3.9,5.1,4.5,4.5,4.7,4.4,4.1,4.0,4.4,4.6,4.0,3.3,4.2,4.2,4.2,4.3,3.0,4.1],\"sizemode\":\"area\",\"sizeref\":0.01725,\"symbol\":\"circle\"},\"mode\":\"markers\",\"name\":\"versicolor\",\"scene\":\"scene\",\"showlegend\":true,\"x\":[3.2,3.2,3.1,2.3,2.8,2.8,3.3,2.4,2.9,2.7,2.0,3.0,2.2,2.9,2.9,3.1,3.0,2.7,2.2,2.5,3.2,2.8,2.5,2.8,2.9,3.0,2.8,3.0,2.9,2.6,2.4,2.4,2.7,2.7,3.0,3.4,3.1,2.3,3.0,2.5,2.6,3.0,2.6,2.3,2.7,3.0,2.9,2.9,2.5,2.8],\"y\":[7.0,6.4,6.9,5.5,6.5,5.7,6.3,4.9,6.6,5.2,5.0,5.9,6.0,6.1,5.6,6.7,5.6,5.8,6.2,5.6,5.9,6.1,6.3,6.1,6.4,6.6,6.8,6.7,6.0,5.7,5.5,5.5,5.8,6.0,5.4,6.0,6.7,6.3,5.6,5.5,5.5,6.1,5.8,5.0,5.6,5.7,5.7,6.2,5.1,5.7],\"z\":[4.7,4.5,4.9,4.0,4.6,4.5,4.7,3.3,4.6,3.9,3.5,4.2,4.0,4.7,3.6,4.4,4.5,4.1,4.5,3.9,4.8,4.0,4.9,4.7,4.3,4.4,4.8,5.0,4.5,3.5,3.8,3.7,3.9,5.1,4.5,4.5,4.7,4.4,4.1,4.0,4.4,4.6,4.0,3.3,4.2,4.2,4.2,4.3,3.0,4.1],\"type\":\"scatter3d\"},{\"hovertemplate\":\"species=virginica<br>sepal_width=%{x}<br>sepal_length=%{y}<br>petal_length=%{marker.size}<extra></extra>\",\"legendgroup\":\"virginica\",\"marker\":{\"color\":\"#00cc96\",\"size\":[6.0,5.1,5.9,5.6,5.8,6.6,4.5,6.3,5.8,6.1,5.1,5.3,5.5,5.0,5.1,5.3,5.5,6.7,6.9,5.0,5.7,4.9,6.7,4.9,5.7,6.0,4.8,4.9,5.6,5.8,6.1,6.4,5.6,5.1,5.6,6.1,5.6,5.5,4.8,5.4,5.6,5.1,5.1,5.9,5.7,5.2,5.0,5.2,5.4,5.1],\"sizemode\":\"area\",\"sizeref\":0.01725,\"symbol\":\"circle\"},\"mode\":\"markers\",\"name\":\"virginica\",\"scene\":\"scene\",\"showlegend\":true,\"x\":[3.3,2.7,3.0,2.9,3.0,3.0,2.5,2.9,2.5,3.6,3.2,2.7,3.0,2.5,2.8,3.2,3.0,3.8,2.6,2.2,3.2,2.8,2.8,2.7,3.3,3.2,2.8,3.0,2.8,3.0,2.8,3.8,2.8,2.8,2.6,3.0,3.4,3.1,3.0,3.1,3.1,3.1,2.7,3.2,3.3,3.0,2.5,3.0,3.4,3.0],\"y\":[6.3,5.8,7.1,6.3,6.5,7.6,4.9,7.3,6.7,7.2,6.5,6.4,6.8,5.7,5.8,6.4,6.5,7.7,7.7,6.0,6.9,5.6,7.7,6.3,6.7,7.2,6.2,6.1,6.4,7.2,7.4,7.9,6.4,6.3,6.1,7.7,6.3,6.4,6.0,6.9,6.7,6.9,5.8,6.8,6.7,6.7,6.3,6.5,6.2,5.9],\"z\":[6.0,5.1,5.9,5.6,5.8,6.6,4.5,6.3,5.8,6.1,5.1,5.3,5.5,5.0,5.1,5.3,5.5,6.7,6.9,5.0,5.7,4.9,6.7,4.9,5.7,6.0,4.8,4.9,5.6,5.8,6.1,6.4,5.6,5.1,5.6,6.1,5.6,5.5,4.8,5.4,5.6,5.1,5.1,5.9,5.7,5.2,5.0,5.2,5.4,5.1],\"type\":\"scatter3d\"}],                        {\"template\":{\"data\":{\"bar\":[{\"error_x\":{\"color\":\"#2a3f5f\"},\"error_y\":{\"color\":\"#2a3f5f\"},\"marker\":{\"line\":{\"color\":\"#E5ECF6\",\"width\":0.5},\"pattern\":{\"fillmode\":\"overlay\",\"size\":10,\"solidity\":0.2}},\"type\":\"bar\"}],\"barpolar\":[{\"marker\":{\"line\":{\"color\":\"#E5ECF6\",\"width\":0.5},\"pattern\":{\"fillmode\":\"overlay\",\"size\":10,\"solidity\":0.2}},\"type\":\"barpolar\"}],\"carpet\":[{\"aaxis\":{\"endlinecolor\":\"#2a3f5f\",\"gridcolor\":\"white\",\"linecolor\":\"white\",\"minorgridcolor\":\"white\",\"startlinecolor\":\"#2a3f5f\"},\"baxis\":{\"endlinecolor\":\"#2a3f5f\",\"gridcolor\":\"white\",\"linecolor\":\"white\",\"minorgridcolor\":\"white\",\"startlinecolor\":\"#2a3f5f\"},\"type\":\"carpet\"}],\"choropleth\":[{\"colorbar\":{\"outlinewidth\":0,\"ticks\":\"\"},\"type\":\"choropleth\"}],\"contour\":[{\"colorbar\":{\"outlinewidth\":0,\"ticks\":\"\"},\"colorscale\":[[0.0,\"#0d0887\"],[0.1111111111111111,\"#46039f\"],[0.2222222222222222,\"#7201a8\"],[0.3333333333333333,\"#9c179e\"],[0.4444444444444444,\"#bd3786\"],[0.5555555555555556,\"#d8576b\"],[0.6666666666666666,\"#ed7953\"],[0.7777777777777778,\"#fb9f3a\"],[0.8888888888888888,\"#fdca26\"],[1.0,\"#f0f921\"]],\"type\":\"contour\"}],\"contourcarpet\":[{\"colorbar\":{\"outlinewidth\":0,\"ticks\":\"\"},\"type\":\"contourcarpet\"}],\"heatmap\":[{\"colorbar\":{\"outlinewidth\":0,\"ticks\":\"\"},\"colorscale\":[[0.0,\"#0d0887\"],[0.1111111111111111,\"#46039f\"],[0.2222222222222222,\"#7201a8\"],[0.3333333333333333,\"#9c179e\"],[0.4444444444444444,\"#bd3786\"],[0.5555555555555556,\"#d8576b\"],[0.6666666666666666,\"#ed7953\"],[0.7777777777777778,\"#fb9f3a\"],[0.8888888888888888,\"#fdca26\"],[1.0,\"#f0f921\"]],\"type\":\"heatmap\"}],\"heatmapgl\":[{\"colorbar\":{\"outlinewidth\":0,\"ticks\":\"\"},\"colorscale\":[[0.0,\"#0d0887\"],[0.1111111111111111,\"#46039f\"],[0.2222222222222222,\"#7201a8\"],[0.3333333333333333,\"#9c179e\"],[0.4444444444444444,\"#bd3786\"],[0.5555555555555556,\"#d8576b\"],[0.6666666666666666,\"#ed7953\"],[0.7777777777777778,\"#fb9f3a\"],[0.8888888888888888,\"#fdca26\"],[1.0,\"#f0f921\"]],\"type\":\"heatmapgl\"}],\"histogram\":[{\"marker\":{\"pattern\":{\"fillmode\":\"overlay\",\"size\":10,\"solidity\":0.2}},\"type\":\"histogram\"}],\"histogram2d\":[{\"colorbar\":{\"outlinewidth\":0,\"ticks\":\"\"},\"colorscale\":[[0.0,\"#0d0887\"],[0.1111111111111111,\"#46039f\"],[0.2222222222222222,\"#7201a8\"],[0.3333333333333333,\"#9c179e\"],[0.4444444444444444,\"#bd3786\"],[0.5555555555555556,\"#d8576b\"],[0.6666666666666666,\"#ed7953\"],[0.7777777777777778,\"#fb9f3a\"],[0.8888888888888888,\"#fdca26\"],[1.0,\"#f0f921\"]],\"type\":\"histogram2d\"}],\"histogram2dcontour\":[{\"colorbar\":{\"outlinewidth\":0,\"ticks\":\"\"},\"colorscale\":[[0.0,\"#0d0887\"],[0.1111111111111111,\"#46039f\"],[0.2222222222222222,\"#7201a8\"],[0.3333333333333333,\"#9c179e\"],[0.4444444444444444,\"#bd3786\"],[0.5555555555555556,\"#d8576b\"],[0.6666666666666666,\"#ed7953\"],[0.7777777777777778,\"#fb9f3a\"],[0.8888888888888888,\"#fdca26\"],[1.0,\"#f0f921\"]],\"type\":\"histogram2dcontour\"}],\"mesh3d\":[{\"colorbar\":{\"outlinewidth\":0,\"ticks\":\"\"},\"type\":\"mesh3d\"}],\"parcoords\":[{\"line\":{\"colorbar\":{\"outlinewidth\":0,\"ticks\":\"\"}},\"type\":\"parcoords\"}],\"pie\":[{\"automargin\":true,\"type\":\"pie\"}],\"scatter\":[{\"marker\":{\"colorbar\":{\"outlinewidth\":0,\"ticks\":\"\"}},\"type\":\"scatter\"}],\"scatter3d\":[{\"line\":{\"colorbar\":{\"outlinewidth\":0,\"ticks\":\"\"}},\"marker\":{\"colorbar\":{\"outlinewidth\":0,\"ticks\":\"\"}},\"type\":\"scatter3d\"}],\"scattercarpet\":[{\"marker\":{\"colorbar\":{\"outlinewidth\":0,\"ticks\":\"\"}},\"type\":\"scattercarpet\"}],\"scattergeo\":[{\"marker\":{\"colorbar\":{\"outlinewidth\":0,\"ticks\":\"\"}},\"type\":\"scattergeo\"}],\"scattergl\":[{\"marker\":{\"colorbar\":{\"outlinewidth\":0,\"ticks\":\"\"}},\"type\":\"scattergl\"}],\"scattermapbox\":[{\"marker\":{\"colorbar\":{\"outlinewidth\":0,\"ticks\":\"\"}},\"type\":\"scattermapbox\"}],\"scatterpolar\":[{\"marker\":{\"colorbar\":{\"outlinewidth\":0,\"ticks\":\"\"}},\"type\":\"scatterpolar\"}],\"scatterpolargl\":[{\"marker\":{\"colorbar\":{\"outlinewidth\":0,\"ticks\":\"\"}},\"type\":\"scatterpolargl\"}],\"scatterternary\":[{\"marker\":{\"colorbar\":{\"outlinewidth\":0,\"ticks\":\"\"}},\"type\":\"scatterternary\"}],\"surface\":[{\"colorbar\":{\"outlinewidth\":0,\"ticks\":\"\"},\"colorscale\":[[0.0,\"#0d0887\"],[0.1111111111111111,\"#46039f\"],[0.2222222222222222,\"#7201a8\"],[0.3333333333333333,\"#9c179e\"],[0.4444444444444444,\"#bd3786\"],[0.5555555555555556,\"#d8576b\"],[0.6666666666666666,\"#ed7953\"],[0.7777777777777778,\"#fb9f3a\"],[0.8888888888888888,\"#fdca26\"],[1.0,\"#f0f921\"]],\"type\":\"surface\"}],\"table\":[{\"cells\":{\"fill\":{\"color\":\"#EBF0F8\"},\"line\":{\"color\":\"white\"}},\"header\":{\"fill\":{\"color\":\"#C8D4E3\"},\"line\":{\"color\":\"white\"}},\"type\":\"table\"}]},\"layout\":{\"annotationdefaults\":{\"arrowcolor\":\"#2a3f5f\",\"arrowhead\":0,\"arrowwidth\":1},\"autotypenumbers\":\"strict\",\"coloraxis\":{\"colorbar\":{\"outlinewidth\":0,\"ticks\":\"\"}},\"colorscale\":{\"diverging\":[[0,\"#8e0152\"],[0.1,\"#c51b7d\"],[0.2,\"#de77ae\"],[0.3,\"#f1b6da\"],[0.4,\"#fde0ef\"],[0.5,\"#f7f7f7\"],[0.6,\"#e6f5d0\"],[0.7,\"#b8e186\"],[0.8,\"#7fbc41\"],[0.9,\"#4d9221\"],[1,\"#276419\"]],\"sequential\":[[0.0,\"#0d0887\"],[0.1111111111111111,\"#46039f\"],[0.2222222222222222,\"#7201a8\"],[0.3333333333333333,\"#9c179e\"],[0.4444444444444444,\"#bd3786\"],[0.5555555555555556,\"#d8576b\"],[0.6666666666666666,\"#ed7953\"],[0.7777777777777778,\"#fb9f3a\"],[0.8888888888888888,\"#fdca26\"],[1.0,\"#f0f921\"]],\"sequentialminus\":[[0.0,\"#0d0887\"],[0.1111111111111111,\"#46039f\"],[0.2222222222222222,\"#7201a8\"],[0.3333333333333333,\"#9c179e\"],[0.4444444444444444,\"#bd3786\"],[0.5555555555555556,\"#d8576b\"],[0.6666666666666666,\"#ed7953\"],[0.7777777777777778,\"#fb9f3a\"],[0.8888888888888888,\"#fdca26\"],[1.0,\"#f0f921\"]]},\"colorway\":[\"#636efa\",\"#EF553B\",\"#00cc96\",\"#ab63fa\",\"#FFA15A\",\"#19d3f3\",\"#FF6692\",\"#B6E880\",\"#FF97FF\",\"#FECB52\"],\"font\":{\"color\":\"#2a3f5f\"},\"geo\":{\"bgcolor\":\"white\",\"lakecolor\":\"white\",\"landcolor\":\"#E5ECF6\",\"showlakes\":true,\"showland\":true,\"subunitcolor\":\"white\"},\"hoverlabel\":{\"align\":\"left\"},\"hovermode\":\"closest\",\"mapbox\":{\"style\":\"light\"},\"paper_bgcolor\":\"white\",\"plot_bgcolor\":\"#E5ECF6\",\"polar\":{\"angularaxis\":{\"gridcolor\":\"white\",\"linecolor\":\"white\",\"ticks\":\"\"},\"bgcolor\":\"#E5ECF6\",\"radialaxis\":{\"gridcolor\":\"white\",\"linecolor\":\"white\",\"ticks\":\"\"}},\"scene\":{\"xaxis\":{\"backgroundcolor\":\"#E5ECF6\",\"gridcolor\":\"white\",\"gridwidth\":2,\"linecolor\":\"white\",\"showbackground\":true,\"ticks\":\"\",\"zerolinecolor\":\"white\"},\"yaxis\":{\"backgroundcolor\":\"#E5ECF6\",\"gridcolor\":\"white\",\"gridwidth\":2,\"linecolor\":\"white\",\"showbackground\":true,\"ticks\":\"\",\"zerolinecolor\":\"white\"},\"zaxis\":{\"backgroundcolor\":\"#E5ECF6\",\"gridcolor\":\"white\",\"gridwidth\":2,\"linecolor\":\"white\",\"showbackground\":true,\"ticks\":\"\",\"zerolinecolor\":\"white\"}},\"shapedefaults\":{\"line\":{\"color\":\"#2a3f5f\"}},\"ternary\":{\"aaxis\":{\"gridcolor\":\"white\",\"linecolor\":\"white\",\"ticks\":\"\"},\"baxis\":{\"gridcolor\":\"white\",\"linecolor\":\"white\",\"ticks\":\"\"},\"bgcolor\":\"#E5ECF6\",\"caxis\":{\"gridcolor\":\"white\",\"linecolor\":\"white\",\"ticks\":\"\"}},\"title\":{\"x\":0.05},\"xaxis\":{\"automargin\":true,\"gridcolor\":\"white\",\"linecolor\":\"white\",\"ticks\":\"\",\"title\":{\"standoff\":15},\"zerolinecolor\":\"white\",\"zerolinewidth\":2},\"yaxis\":{\"automargin\":true,\"gridcolor\":\"white\",\"linecolor\":\"white\",\"ticks\":\"\",\"title\":{\"standoff\":15},\"zerolinecolor\":\"white\",\"zerolinewidth\":2}}},\"scene\":{\"domain\":{\"x\":[0.0,1.0],\"y\":[0.0,1.0]},\"xaxis\":{\"title\":{\"text\":\"sepal_width\"}},\"yaxis\":{\"title\":{\"text\":\"sepal_length\"}},\"zaxis\":{\"title\":{\"text\":\"petal_length\"}}},\"legend\":{\"title\":{\"text\":\"species\"},\"tracegroupgap\":0,\"itemsizing\":\"constant\"},\"title\":{\"text\":\"Plotly 3D Scatter Chart\"}},                        {\"responsive\": true}                    ).then(function(){\n",
       "                            \n",
       "var gd = document.getElementById('5c3c1fcc-332f-4cf5-b549-fee71bba6c4a');\n",
       "var x = new MutationObserver(function (mutations, observer) {{\n",
       "        var display = window.getComputedStyle(gd).display;\n",
       "        if (!display || display === 'none') {{\n",
       "            console.log([gd, 'removed!']);\n",
       "            Plotly.purge(gd);\n",
       "            observer.disconnect();\n",
       "        }}\n",
       "}});\n",
       "\n",
       "// Listen for the removal of the full notebook cells\n",
       "var notebookContainer = gd.closest('#notebook-container');\n",
       "if (notebookContainer) {{\n",
       "    x.observe(notebookContainer, {childList: true});\n",
       "}}\n",
       "\n",
       "// Listen for the clearing of the current output cell\n",
       "var outputEl = gd.closest('.output');\n",
       "if (outputEl) {{\n",
       "    x.observe(outputEl, {childList: true});\n",
       "}}\n",
       "\n",
       "                        })                };                });            </script>        </div>"
      ]
     },
     "metadata": {},
     "output_type": "display_data"
    }
   ],
   "source": [
    "fig = px.scatter_3d(df, \n",
    "                 x=\"sepal_width\", y=\"sepal_length\", z=\"petal_length\",\n",
    "                 color=\"species\", size='petal_length', \n",
    "                    title = \"Plotly 3D Scatter Chart\")\n",
    "fig.show()"
   ]
  },
  {
   "cell_type": "code",
   "execution_count": 22,
   "metadata": {},
   "outputs": [
    {
     "data": {
      "application/vnd.plotly.v1+json": {
       "config": {
        "plotlyServerURL": "https://plot.ly"
       },
       "data": [
        {
         "customdata": [
          [
           "setosa",
           0.2
          ],
          [
           "setosa",
           0.2
          ],
          [
           "setosa",
           0.2
          ],
          [
           "setosa",
           0.2
          ],
          [
           "setosa",
           0.2
          ],
          [
           "setosa",
           0.4
          ],
          [
           "setosa",
           0.3
          ],
          [
           "setosa",
           0.2
          ],
          [
           "setosa",
           0.2
          ],
          [
           "setosa",
           0.1
          ],
          [
           "setosa",
           0.2
          ],
          [
           "setosa",
           0.2
          ],
          [
           "setosa",
           0.1
          ],
          [
           "setosa",
           0.1
          ],
          [
           "setosa",
           0.2
          ],
          [
           "setosa",
           0.4
          ],
          [
           "setosa",
           0.4
          ],
          [
           "setosa",
           0.3
          ],
          [
           "setosa",
           0.3
          ],
          [
           "setosa",
           0.3
          ],
          [
           "setosa",
           0.2
          ],
          [
           "setosa",
           0.4
          ],
          [
           "setosa",
           0.2
          ],
          [
           "setosa",
           0.5
          ],
          [
           "setosa",
           0.2
          ],
          [
           "setosa",
           0.2
          ],
          [
           "setosa",
           0.4
          ],
          [
           "setosa",
           0.2
          ],
          [
           "setosa",
           0.2
          ],
          [
           "setosa",
           0.2
          ],
          [
           "setosa",
           0.2
          ],
          [
           "setosa",
           0.4
          ],
          [
           "setosa",
           0.1
          ],
          [
           "setosa",
           0.2
          ],
          [
           "setosa",
           0.1
          ],
          [
           "setosa",
           0.2
          ],
          [
           "setosa",
           0.2
          ],
          [
           "setosa",
           0.1
          ],
          [
           "setosa",
           0.2
          ],
          [
           "setosa",
           0.2
          ],
          [
           "setosa",
           0.3
          ],
          [
           "setosa",
           0.3
          ],
          [
           "setosa",
           0.2
          ],
          [
           "setosa",
           0.6
          ],
          [
           "setosa",
           0.4
          ],
          [
           "setosa",
           0.3
          ],
          [
           "setosa",
           0.2
          ],
          [
           "setosa",
           0.2
          ],
          [
           "setosa",
           0.2
          ],
          [
           "setosa",
           0.2
          ],
          [
           "versicolor",
           1.4
          ],
          [
           "versicolor",
           1.5
          ],
          [
           "versicolor",
           1.5
          ],
          [
           "versicolor",
           1.3
          ],
          [
           "versicolor",
           1.5
          ],
          [
           "versicolor",
           1.3
          ],
          [
           "versicolor",
           1.6
          ],
          [
           "versicolor",
           1
          ],
          [
           "versicolor",
           1.3
          ],
          [
           "versicolor",
           1.4
          ],
          [
           "versicolor",
           1
          ],
          [
           "versicolor",
           1.5
          ],
          [
           "versicolor",
           1
          ],
          [
           "versicolor",
           1.4
          ],
          [
           "versicolor",
           1.3
          ],
          [
           "versicolor",
           1.4
          ],
          [
           "versicolor",
           1.5
          ],
          [
           "versicolor",
           1
          ],
          [
           "versicolor",
           1.5
          ],
          [
           "versicolor",
           1.1
          ],
          [
           "versicolor",
           1.8
          ],
          [
           "versicolor",
           1.3
          ],
          [
           "versicolor",
           1.5
          ],
          [
           "versicolor",
           1.2
          ],
          [
           "versicolor",
           1.3
          ],
          [
           "versicolor",
           1.4
          ],
          [
           "versicolor",
           1.4
          ],
          [
           "versicolor",
           1.7
          ],
          [
           "versicolor",
           1.5
          ],
          [
           "versicolor",
           1
          ],
          [
           "versicolor",
           1.1
          ],
          [
           "versicolor",
           1
          ],
          [
           "versicolor",
           1.2
          ],
          [
           "versicolor",
           1.6
          ],
          [
           "versicolor",
           1.5
          ],
          [
           "versicolor",
           1.6
          ],
          [
           "versicolor",
           1.5
          ],
          [
           "versicolor",
           1.3
          ],
          [
           "versicolor",
           1.3
          ],
          [
           "versicolor",
           1.3
          ],
          [
           "versicolor",
           1.2
          ],
          [
           "versicolor",
           1.4
          ],
          [
           "versicolor",
           1.2
          ],
          [
           "versicolor",
           1
          ],
          [
           "versicolor",
           1.3
          ],
          [
           "versicolor",
           1.2
          ],
          [
           "versicolor",
           1.3
          ],
          [
           "versicolor",
           1.3
          ],
          [
           "versicolor",
           1.1
          ],
          [
           "versicolor",
           1.3
          ],
          [
           "virginica",
           2.5
          ],
          [
           "virginica",
           1.9
          ],
          [
           "virginica",
           2.1
          ],
          [
           "virginica",
           1.8
          ],
          [
           "virginica",
           2.2
          ],
          [
           "virginica",
           2.1
          ],
          [
           "virginica",
           1.7
          ],
          [
           "virginica",
           1.8
          ],
          [
           "virginica",
           1.8
          ],
          [
           "virginica",
           2.5
          ],
          [
           "virginica",
           2
          ],
          [
           "virginica",
           1.9
          ],
          [
           "virginica",
           2.1
          ],
          [
           "virginica",
           2
          ],
          [
           "virginica",
           2.4
          ],
          [
           "virginica",
           2.3
          ],
          [
           "virginica",
           1.8
          ],
          [
           "virginica",
           2.2
          ],
          [
           "virginica",
           2.3
          ],
          [
           "virginica",
           1.5
          ],
          [
           "virginica",
           2.3
          ],
          [
           "virginica",
           2
          ],
          [
           "virginica",
           2
          ],
          [
           "virginica",
           1.8
          ],
          [
           "virginica",
           2.1
          ],
          [
           "virginica",
           1.8
          ],
          [
           "virginica",
           1.8
          ],
          [
           "virginica",
           1.8
          ],
          [
           "virginica",
           2.1
          ],
          [
           "virginica",
           1.6
          ],
          [
           "virginica",
           1.9
          ],
          [
           "virginica",
           2
          ],
          [
           "virginica",
           2.2
          ],
          [
           "virginica",
           1.5
          ],
          [
           "virginica",
           1.4
          ],
          [
           "virginica",
           2.3
          ],
          [
           "virginica",
           2.4
          ],
          [
           "virginica",
           1.8
          ],
          [
           "virginica",
           1.8
          ],
          [
           "virginica",
           2.1
          ],
          [
           "virginica",
           2.4
          ],
          [
           "virginica",
           2.3
          ],
          [
           "virginica",
           1.9
          ],
          [
           "virginica",
           2.3
          ],
          [
           "virginica",
           2.5
          ],
          [
           "virginica",
           2.3
          ],
          [
           "virginica",
           1.9
          ],
          [
           "virginica",
           2
          ],
          [
           "virginica",
           2.3
          ],
          [
           "virginica",
           1.8
          ]
         ],
         "hovertemplate": "index=%{x}<br>sepal_length=%{y}<br>species=%{customdata[0]}<br>petal_width=%{customdata[1]}<extra></extra>",
         "legendgroup": "",
         "line": {
          "color": "#636efa",
          "dash": "solid"
         },
         "marker": {
          "symbol": "circle"
         },
         "mode": "lines",
         "name": "",
         "orientation": "v",
         "showlegend": false,
         "type": "scatter",
         "x": [
          0,
          1,
          2,
          3,
          4,
          5,
          6,
          7,
          8,
          9,
          10,
          11,
          12,
          13,
          14,
          15,
          16,
          17,
          18,
          19,
          20,
          21,
          22,
          23,
          24,
          25,
          26,
          27,
          28,
          29,
          30,
          31,
          32,
          33,
          34,
          35,
          36,
          37,
          38,
          39,
          40,
          41,
          42,
          43,
          44,
          45,
          46,
          47,
          48,
          49,
          50,
          51,
          52,
          53,
          54,
          55,
          56,
          57,
          58,
          59,
          60,
          61,
          62,
          63,
          64,
          65,
          66,
          67,
          68,
          69,
          70,
          71,
          72,
          73,
          74,
          75,
          76,
          77,
          78,
          79,
          80,
          81,
          82,
          83,
          84,
          85,
          86,
          87,
          88,
          89,
          90,
          91,
          92,
          93,
          94,
          95,
          96,
          97,
          98,
          99,
          100,
          101,
          102,
          103,
          104,
          105,
          106,
          107,
          108,
          109,
          110,
          111,
          112,
          113,
          114,
          115,
          116,
          117,
          118,
          119,
          120,
          121,
          122,
          123,
          124,
          125,
          126,
          127,
          128,
          129,
          130,
          131,
          132,
          133,
          134,
          135,
          136,
          137,
          138,
          139,
          140,
          141,
          142,
          143,
          144,
          145,
          146,
          147,
          148,
          149
         ],
         "xaxis": "x",
         "y": [
          5.1,
          4.9,
          4.7,
          4.6,
          5,
          5.4,
          4.6,
          5,
          4.4,
          4.9,
          5.4,
          4.8,
          4.8,
          4.3,
          5.8,
          5.7,
          5.4,
          5.1,
          5.7,
          5.1,
          5.4,
          5.1,
          4.6,
          5.1,
          4.8,
          5,
          5,
          5.2,
          5.2,
          4.7,
          4.8,
          5.4,
          5.2,
          5.5,
          4.9,
          5,
          5.5,
          4.9,
          4.4,
          5.1,
          5,
          4.5,
          4.4,
          5,
          5.1,
          4.8,
          5.1,
          4.6,
          5.3,
          5,
          7,
          6.4,
          6.9,
          5.5,
          6.5,
          5.7,
          6.3,
          4.9,
          6.6,
          5.2,
          5,
          5.9,
          6,
          6.1,
          5.6,
          6.7,
          5.6,
          5.8,
          6.2,
          5.6,
          5.9,
          6.1,
          6.3,
          6.1,
          6.4,
          6.6,
          6.8,
          6.7,
          6,
          5.7,
          5.5,
          5.5,
          5.8,
          6,
          5.4,
          6,
          6.7,
          6.3,
          5.6,
          5.5,
          5.5,
          6.1,
          5.8,
          5,
          5.6,
          5.7,
          5.7,
          6.2,
          5.1,
          5.7,
          6.3,
          5.8,
          7.1,
          6.3,
          6.5,
          7.6,
          4.9,
          7.3,
          6.7,
          7.2,
          6.5,
          6.4,
          6.8,
          5.7,
          5.8,
          6.4,
          6.5,
          7.7,
          7.7,
          6,
          6.9,
          5.6,
          7.7,
          6.3,
          6.7,
          7.2,
          6.2,
          6.1,
          6.4,
          7.2,
          7.4,
          7.9,
          6.4,
          6.3,
          6.1,
          7.7,
          6.3,
          6.4,
          6,
          6.9,
          6.7,
          6.9,
          5.8,
          6.8,
          6.7,
          6.7,
          6.3,
          6.5,
          6.2,
          5.9
         ],
         "yaxis": "y"
        }
       ],
       "layout": {
        "legend": {
         "tracegroupgap": 0
        },
        "template": {
         "data": {
          "bar": [
           {
            "error_x": {
             "color": "#2a3f5f"
            },
            "error_y": {
             "color": "#2a3f5f"
            },
            "marker": {
             "line": {
              "color": "#E5ECF6",
              "width": 0.5
             },
             "pattern": {
              "fillmode": "overlay",
              "size": 10,
              "solidity": 0.2
             }
            },
            "type": "bar"
           }
          ],
          "barpolar": [
           {
            "marker": {
             "line": {
              "color": "#E5ECF6",
              "width": 0.5
             },
             "pattern": {
              "fillmode": "overlay",
              "size": 10,
              "solidity": 0.2
             }
            },
            "type": "barpolar"
           }
          ],
          "carpet": [
           {
            "aaxis": {
             "endlinecolor": "#2a3f5f",
             "gridcolor": "white",
             "linecolor": "white",
             "minorgridcolor": "white",
             "startlinecolor": "#2a3f5f"
            },
            "baxis": {
             "endlinecolor": "#2a3f5f",
             "gridcolor": "white",
             "linecolor": "white",
             "minorgridcolor": "white",
             "startlinecolor": "#2a3f5f"
            },
            "type": "carpet"
           }
          ],
          "choropleth": [
           {
            "colorbar": {
             "outlinewidth": 0,
             "ticks": ""
            },
            "type": "choropleth"
           }
          ],
          "contour": [
           {
            "colorbar": {
             "outlinewidth": 0,
             "ticks": ""
            },
            "colorscale": [
             [
              0,
              "#0d0887"
             ],
             [
              0.1111111111111111,
              "#46039f"
             ],
             [
              0.2222222222222222,
              "#7201a8"
             ],
             [
              0.3333333333333333,
              "#9c179e"
             ],
             [
              0.4444444444444444,
              "#bd3786"
             ],
             [
              0.5555555555555556,
              "#d8576b"
             ],
             [
              0.6666666666666666,
              "#ed7953"
             ],
             [
              0.7777777777777778,
              "#fb9f3a"
             ],
             [
              0.8888888888888888,
              "#fdca26"
             ],
             [
              1,
              "#f0f921"
             ]
            ],
            "type": "contour"
           }
          ],
          "contourcarpet": [
           {
            "colorbar": {
             "outlinewidth": 0,
             "ticks": ""
            },
            "type": "contourcarpet"
           }
          ],
          "heatmap": [
           {
            "colorbar": {
             "outlinewidth": 0,
             "ticks": ""
            },
            "colorscale": [
             [
              0,
              "#0d0887"
             ],
             [
              0.1111111111111111,
              "#46039f"
             ],
             [
              0.2222222222222222,
              "#7201a8"
             ],
             [
              0.3333333333333333,
              "#9c179e"
             ],
             [
              0.4444444444444444,
              "#bd3786"
             ],
             [
              0.5555555555555556,
              "#d8576b"
             ],
             [
              0.6666666666666666,
              "#ed7953"
             ],
             [
              0.7777777777777778,
              "#fb9f3a"
             ],
             [
              0.8888888888888888,
              "#fdca26"
             ],
             [
              1,
              "#f0f921"
             ]
            ],
            "type": "heatmap"
           }
          ],
          "heatmapgl": [
           {
            "colorbar": {
             "outlinewidth": 0,
             "ticks": ""
            },
            "colorscale": [
             [
              0,
              "#0d0887"
             ],
             [
              0.1111111111111111,
              "#46039f"
             ],
             [
              0.2222222222222222,
              "#7201a8"
             ],
             [
              0.3333333333333333,
              "#9c179e"
             ],
             [
              0.4444444444444444,
              "#bd3786"
             ],
             [
              0.5555555555555556,
              "#d8576b"
             ],
             [
              0.6666666666666666,
              "#ed7953"
             ],
             [
              0.7777777777777778,
              "#fb9f3a"
             ],
             [
              0.8888888888888888,
              "#fdca26"
             ],
             [
              1,
              "#f0f921"
             ]
            ],
            "type": "heatmapgl"
           }
          ],
          "histogram": [
           {
            "marker": {
             "pattern": {
              "fillmode": "overlay",
              "size": 10,
              "solidity": 0.2
             }
            },
            "type": "histogram"
           }
          ],
          "histogram2d": [
           {
            "colorbar": {
             "outlinewidth": 0,
             "ticks": ""
            },
            "colorscale": [
             [
              0,
              "#0d0887"
             ],
             [
              0.1111111111111111,
              "#46039f"
             ],
             [
              0.2222222222222222,
              "#7201a8"
             ],
             [
              0.3333333333333333,
              "#9c179e"
             ],
             [
              0.4444444444444444,
              "#bd3786"
             ],
             [
              0.5555555555555556,
              "#d8576b"
             ],
             [
              0.6666666666666666,
              "#ed7953"
             ],
             [
              0.7777777777777778,
              "#fb9f3a"
             ],
             [
              0.8888888888888888,
              "#fdca26"
             ],
             [
              1,
              "#f0f921"
             ]
            ],
            "type": "histogram2d"
           }
          ],
          "histogram2dcontour": [
           {
            "colorbar": {
             "outlinewidth": 0,
             "ticks": ""
            },
            "colorscale": [
             [
              0,
              "#0d0887"
             ],
             [
              0.1111111111111111,
              "#46039f"
             ],
             [
              0.2222222222222222,
              "#7201a8"
             ],
             [
              0.3333333333333333,
              "#9c179e"
             ],
             [
              0.4444444444444444,
              "#bd3786"
             ],
             [
              0.5555555555555556,
              "#d8576b"
             ],
             [
              0.6666666666666666,
              "#ed7953"
             ],
             [
              0.7777777777777778,
              "#fb9f3a"
             ],
             [
              0.8888888888888888,
              "#fdca26"
             ],
             [
              1,
              "#f0f921"
             ]
            ],
            "type": "histogram2dcontour"
           }
          ],
          "mesh3d": [
           {
            "colorbar": {
             "outlinewidth": 0,
             "ticks": ""
            },
            "type": "mesh3d"
           }
          ],
          "parcoords": [
           {
            "line": {
             "colorbar": {
              "outlinewidth": 0,
              "ticks": ""
             }
            },
            "type": "parcoords"
           }
          ],
          "pie": [
           {
            "automargin": true,
            "type": "pie"
           }
          ],
          "scatter": [
           {
            "marker": {
             "colorbar": {
              "outlinewidth": 0,
              "ticks": ""
             }
            },
            "type": "scatter"
           }
          ],
          "scatter3d": [
           {
            "line": {
             "colorbar": {
              "outlinewidth": 0,
              "ticks": ""
             }
            },
            "marker": {
             "colorbar": {
              "outlinewidth": 0,
              "ticks": ""
             }
            },
            "type": "scatter3d"
           }
          ],
          "scattercarpet": [
           {
            "marker": {
             "colorbar": {
              "outlinewidth": 0,
              "ticks": ""
             }
            },
            "type": "scattercarpet"
           }
          ],
          "scattergeo": [
           {
            "marker": {
             "colorbar": {
              "outlinewidth": 0,
              "ticks": ""
             }
            },
            "type": "scattergeo"
           }
          ],
          "scattergl": [
           {
            "marker": {
             "colorbar": {
              "outlinewidth": 0,
              "ticks": ""
             }
            },
            "type": "scattergl"
           }
          ],
          "scattermapbox": [
           {
            "marker": {
             "colorbar": {
              "outlinewidth": 0,
              "ticks": ""
             }
            },
            "type": "scattermapbox"
           }
          ],
          "scatterpolar": [
           {
            "marker": {
             "colorbar": {
              "outlinewidth": 0,
              "ticks": ""
             }
            },
            "type": "scatterpolar"
           }
          ],
          "scatterpolargl": [
           {
            "marker": {
             "colorbar": {
              "outlinewidth": 0,
              "ticks": ""
             }
            },
            "type": "scatterpolargl"
           }
          ],
          "scatterternary": [
           {
            "marker": {
             "colorbar": {
              "outlinewidth": 0,
              "ticks": ""
             }
            },
            "type": "scatterternary"
           }
          ],
          "surface": [
           {
            "colorbar": {
             "outlinewidth": 0,
             "ticks": ""
            },
            "colorscale": [
             [
              0,
              "#0d0887"
             ],
             [
              0.1111111111111111,
              "#46039f"
             ],
             [
              0.2222222222222222,
              "#7201a8"
             ],
             [
              0.3333333333333333,
              "#9c179e"
             ],
             [
              0.4444444444444444,
              "#bd3786"
             ],
             [
              0.5555555555555556,
              "#d8576b"
             ],
             [
              0.6666666666666666,
              "#ed7953"
             ],
             [
              0.7777777777777778,
              "#fb9f3a"
             ],
             [
              0.8888888888888888,
              "#fdca26"
             ],
             [
              1,
              "#f0f921"
             ]
            ],
            "type": "surface"
           }
          ],
          "table": [
           {
            "cells": {
             "fill": {
              "color": "#EBF0F8"
             },
             "line": {
              "color": "white"
             }
            },
            "header": {
             "fill": {
              "color": "#C8D4E3"
             },
             "line": {
              "color": "white"
             }
            },
            "type": "table"
           }
          ]
         },
         "layout": {
          "annotationdefaults": {
           "arrowcolor": "#2a3f5f",
           "arrowhead": 0,
           "arrowwidth": 1
          },
          "autotypenumbers": "strict",
          "coloraxis": {
           "colorbar": {
            "outlinewidth": 0,
            "ticks": ""
           }
          },
          "colorscale": {
           "diverging": [
            [
             0,
             "#8e0152"
            ],
            [
             0.1,
             "#c51b7d"
            ],
            [
             0.2,
             "#de77ae"
            ],
            [
             0.3,
             "#f1b6da"
            ],
            [
             0.4,
             "#fde0ef"
            ],
            [
             0.5,
             "#f7f7f7"
            ],
            [
             0.6,
             "#e6f5d0"
            ],
            [
             0.7,
             "#b8e186"
            ],
            [
             0.8,
             "#7fbc41"
            ],
            [
             0.9,
             "#4d9221"
            ],
            [
             1,
             "#276419"
            ]
           ],
           "sequential": [
            [
             0,
             "#0d0887"
            ],
            [
             0.1111111111111111,
             "#46039f"
            ],
            [
             0.2222222222222222,
             "#7201a8"
            ],
            [
             0.3333333333333333,
             "#9c179e"
            ],
            [
             0.4444444444444444,
             "#bd3786"
            ],
            [
             0.5555555555555556,
             "#d8576b"
            ],
            [
             0.6666666666666666,
             "#ed7953"
            ],
            [
             0.7777777777777778,
             "#fb9f3a"
            ],
            [
             0.8888888888888888,
             "#fdca26"
            ],
            [
             1,
             "#f0f921"
            ]
           ],
           "sequentialminus": [
            [
             0,
             "#0d0887"
            ],
            [
             0.1111111111111111,
             "#46039f"
            ],
            [
             0.2222222222222222,
             "#7201a8"
            ],
            [
             0.3333333333333333,
             "#9c179e"
            ],
            [
             0.4444444444444444,
             "#bd3786"
            ],
            [
             0.5555555555555556,
             "#d8576b"
            ],
            [
             0.6666666666666666,
             "#ed7953"
            ],
            [
             0.7777777777777778,
             "#fb9f3a"
            ],
            [
             0.8888888888888888,
             "#fdca26"
            ],
            [
             1,
             "#f0f921"
            ]
           ]
          },
          "colorway": [
           "#636efa",
           "#EF553B",
           "#00cc96",
           "#ab63fa",
           "#FFA15A",
           "#19d3f3",
           "#FF6692",
           "#B6E880",
           "#FF97FF",
           "#FECB52"
          ],
          "font": {
           "color": "#2a3f5f"
          },
          "geo": {
           "bgcolor": "white",
           "lakecolor": "white",
           "landcolor": "#E5ECF6",
           "showlakes": true,
           "showland": true,
           "subunitcolor": "white"
          },
          "hoverlabel": {
           "align": "left"
          },
          "hovermode": "closest",
          "mapbox": {
           "style": "light"
          },
          "paper_bgcolor": "white",
          "plot_bgcolor": "#E5ECF6",
          "polar": {
           "angularaxis": {
            "gridcolor": "white",
            "linecolor": "white",
            "ticks": ""
           },
           "bgcolor": "#E5ECF6",
           "radialaxis": {
            "gridcolor": "white",
            "linecolor": "white",
            "ticks": ""
           }
          },
          "scene": {
           "xaxis": {
            "backgroundcolor": "#E5ECF6",
            "gridcolor": "white",
            "gridwidth": 2,
            "linecolor": "white",
            "showbackground": true,
            "ticks": "",
            "zerolinecolor": "white"
           },
           "yaxis": {
            "backgroundcolor": "#E5ECF6",
            "gridcolor": "white",
            "gridwidth": 2,
            "linecolor": "white",
            "showbackground": true,
            "ticks": "",
            "zerolinecolor": "white"
           },
           "zaxis": {
            "backgroundcolor": "#E5ECF6",
            "gridcolor": "white",
            "gridwidth": 2,
            "linecolor": "white",
            "showbackground": true,
            "ticks": "",
            "zerolinecolor": "white"
           }
          },
          "shapedefaults": {
           "line": {
            "color": "#2a3f5f"
           }
          },
          "ternary": {
           "aaxis": {
            "gridcolor": "white",
            "linecolor": "white",
            "ticks": ""
           },
           "baxis": {
            "gridcolor": "white",
            "linecolor": "white",
            "ticks": ""
           },
           "bgcolor": "#E5ECF6",
           "caxis": {
            "gridcolor": "white",
            "linecolor": "white",
            "ticks": ""
           }
          },
          "title": {
           "x": 0.05
          },
          "xaxis": {
           "automargin": true,
           "gridcolor": "white",
           "linecolor": "white",
           "ticks": "",
           "title": {
            "standoff": 15
           },
           "zerolinecolor": "white",
           "zerolinewidth": 2
          },
          "yaxis": {
           "automargin": true,
           "gridcolor": "white",
           "linecolor": "white",
           "ticks": "",
           "title": {
            "standoff": 15
           },
           "zerolinecolor": "white",
           "zerolinewidth": 2
          }
         }
        },
        "title": {
         "text": "Plotly Line Chart"
        },
        "xaxis": {
         "anchor": "y",
         "domain": [
          0,
          1
         ],
         "title": {
          "text": "index"
         }
        },
        "yaxis": {
         "anchor": "x",
         "domain": [
          0,
          1
         ],
         "title": {
          "text": "sepal_length"
         }
        }
       }
      },
      "text/html": [
       "<div>                            <div id=\"d538fceb-3180-4cd5-b24e-1638a254118c\" class=\"plotly-graph-div\" style=\"height:525px; width:100%;\"></div>            <script type=\"text/javascript\">                require([\"plotly\"], function(Plotly) {                    window.PLOTLYENV=window.PLOTLYENV || {};                                    if (document.getElementById(\"d538fceb-3180-4cd5-b24e-1638a254118c\")) {                    Plotly.newPlot(                        \"d538fceb-3180-4cd5-b24e-1638a254118c\",                        [{\"customdata\":[[\"setosa\",0.2],[\"setosa\",0.2],[\"setosa\",0.2],[\"setosa\",0.2],[\"setosa\",0.2],[\"setosa\",0.4],[\"setosa\",0.3],[\"setosa\",0.2],[\"setosa\",0.2],[\"setosa\",0.1],[\"setosa\",0.2],[\"setosa\",0.2],[\"setosa\",0.1],[\"setosa\",0.1],[\"setosa\",0.2],[\"setosa\",0.4],[\"setosa\",0.4],[\"setosa\",0.3],[\"setosa\",0.3],[\"setosa\",0.3],[\"setosa\",0.2],[\"setosa\",0.4],[\"setosa\",0.2],[\"setosa\",0.5],[\"setosa\",0.2],[\"setosa\",0.2],[\"setosa\",0.4],[\"setosa\",0.2],[\"setosa\",0.2],[\"setosa\",0.2],[\"setosa\",0.2],[\"setosa\",0.4],[\"setosa\",0.1],[\"setosa\",0.2],[\"setosa\",0.1],[\"setosa\",0.2],[\"setosa\",0.2],[\"setosa\",0.1],[\"setosa\",0.2],[\"setosa\",0.2],[\"setosa\",0.3],[\"setosa\",0.3],[\"setosa\",0.2],[\"setosa\",0.6],[\"setosa\",0.4],[\"setosa\",0.3],[\"setosa\",0.2],[\"setosa\",0.2],[\"setosa\",0.2],[\"setosa\",0.2],[\"versicolor\",1.4],[\"versicolor\",1.5],[\"versicolor\",1.5],[\"versicolor\",1.3],[\"versicolor\",1.5],[\"versicolor\",1.3],[\"versicolor\",1.6],[\"versicolor\",1.0],[\"versicolor\",1.3],[\"versicolor\",1.4],[\"versicolor\",1.0],[\"versicolor\",1.5],[\"versicolor\",1.0],[\"versicolor\",1.4],[\"versicolor\",1.3],[\"versicolor\",1.4],[\"versicolor\",1.5],[\"versicolor\",1.0],[\"versicolor\",1.5],[\"versicolor\",1.1],[\"versicolor\",1.8],[\"versicolor\",1.3],[\"versicolor\",1.5],[\"versicolor\",1.2],[\"versicolor\",1.3],[\"versicolor\",1.4],[\"versicolor\",1.4],[\"versicolor\",1.7],[\"versicolor\",1.5],[\"versicolor\",1.0],[\"versicolor\",1.1],[\"versicolor\",1.0],[\"versicolor\",1.2],[\"versicolor\",1.6],[\"versicolor\",1.5],[\"versicolor\",1.6],[\"versicolor\",1.5],[\"versicolor\",1.3],[\"versicolor\",1.3],[\"versicolor\",1.3],[\"versicolor\",1.2],[\"versicolor\",1.4],[\"versicolor\",1.2],[\"versicolor\",1.0],[\"versicolor\",1.3],[\"versicolor\",1.2],[\"versicolor\",1.3],[\"versicolor\",1.3],[\"versicolor\",1.1],[\"versicolor\",1.3],[\"virginica\",2.5],[\"virginica\",1.9],[\"virginica\",2.1],[\"virginica\",1.8],[\"virginica\",2.2],[\"virginica\",2.1],[\"virginica\",1.7],[\"virginica\",1.8],[\"virginica\",1.8],[\"virginica\",2.5],[\"virginica\",2.0],[\"virginica\",1.9],[\"virginica\",2.1],[\"virginica\",2.0],[\"virginica\",2.4],[\"virginica\",2.3],[\"virginica\",1.8],[\"virginica\",2.2],[\"virginica\",2.3],[\"virginica\",1.5],[\"virginica\",2.3],[\"virginica\",2.0],[\"virginica\",2.0],[\"virginica\",1.8],[\"virginica\",2.1],[\"virginica\",1.8],[\"virginica\",1.8],[\"virginica\",1.8],[\"virginica\",2.1],[\"virginica\",1.6],[\"virginica\",1.9],[\"virginica\",2.0],[\"virginica\",2.2],[\"virginica\",1.5],[\"virginica\",1.4],[\"virginica\",2.3],[\"virginica\",2.4],[\"virginica\",1.8],[\"virginica\",1.8],[\"virginica\",2.1],[\"virginica\",2.4],[\"virginica\",2.3],[\"virginica\",1.9],[\"virginica\",2.3],[\"virginica\",2.5],[\"virginica\",2.3],[\"virginica\",1.9],[\"virginica\",2.0],[\"virginica\",2.3],[\"virginica\",1.8]],\"hovertemplate\":\"index=%{x}<br>sepal_length=%{y}<br>species=%{customdata[0]}<br>petal_width=%{customdata[1]}<extra></extra>\",\"legendgroup\":\"\",\"line\":{\"color\":\"#636efa\",\"dash\":\"solid\"},\"marker\":{\"symbol\":\"circle\"},\"mode\":\"lines\",\"name\":\"\",\"orientation\":\"v\",\"showlegend\":false,\"x\":[0,1,2,3,4,5,6,7,8,9,10,11,12,13,14,15,16,17,18,19,20,21,22,23,24,25,26,27,28,29,30,31,32,33,34,35,36,37,38,39,40,41,42,43,44,45,46,47,48,49,50,51,52,53,54,55,56,57,58,59,60,61,62,63,64,65,66,67,68,69,70,71,72,73,74,75,76,77,78,79,80,81,82,83,84,85,86,87,88,89,90,91,92,93,94,95,96,97,98,99,100,101,102,103,104,105,106,107,108,109,110,111,112,113,114,115,116,117,118,119,120,121,122,123,124,125,126,127,128,129,130,131,132,133,134,135,136,137,138,139,140,141,142,143,144,145,146,147,148,149],\"xaxis\":\"x\",\"y\":[5.1,4.9,4.7,4.6,5.0,5.4,4.6,5.0,4.4,4.9,5.4,4.8,4.8,4.3,5.8,5.7,5.4,5.1,5.7,5.1,5.4,5.1,4.6,5.1,4.8,5.0,5.0,5.2,5.2,4.7,4.8,5.4,5.2,5.5,4.9,5.0,5.5,4.9,4.4,5.1,5.0,4.5,4.4,5.0,5.1,4.8,5.1,4.6,5.3,5.0,7.0,6.4,6.9,5.5,6.5,5.7,6.3,4.9,6.6,5.2,5.0,5.9,6.0,6.1,5.6,6.7,5.6,5.8,6.2,5.6,5.9,6.1,6.3,6.1,6.4,6.6,6.8,6.7,6.0,5.7,5.5,5.5,5.8,6.0,5.4,6.0,6.7,6.3,5.6,5.5,5.5,6.1,5.8,5.0,5.6,5.7,5.7,6.2,5.1,5.7,6.3,5.8,7.1,6.3,6.5,7.6,4.9,7.3,6.7,7.2,6.5,6.4,6.8,5.7,5.8,6.4,6.5,7.7,7.7,6.0,6.9,5.6,7.7,6.3,6.7,7.2,6.2,6.1,6.4,7.2,7.4,7.9,6.4,6.3,6.1,7.7,6.3,6.4,6.0,6.9,6.7,6.9,5.8,6.8,6.7,6.7,6.3,6.5,6.2,5.9],\"yaxis\":\"y\",\"type\":\"scatter\"}],                        {\"template\":{\"data\":{\"bar\":[{\"error_x\":{\"color\":\"#2a3f5f\"},\"error_y\":{\"color\":\"#2a3f5f\"},\"marker\":{\"line\":{\"color\":\"#E5ECF6\",\"width\":0.5},\"pattern\":{\"fillmode\":\"overlay\",\"size\":10,\"solidity\":0.2}},\"type\":\"bar\"}],\"barpolar\":[{\"marker\":{\"line\":{\"color\":\"#E5ECF6\",\"width\":0.5},\"pattern\":{\"fillmode\":\"overlay\",\"size\":10,\"solidity\":0.2}},\"type\":\"barpolar\"}],\"carpet\":[{\"aaxis\":{\"endlinecolor\":\"#2a3f5f\",\"gridcolor\":\"white\",\"linecolor\":\"white\",\"minorgridcolor\":\"white\",\"startlinecolor\":\"#2a3f5f\"},\"baxis\":{\"endlinecolor\":\"#2a3f5f\",\"gridcolor\":\"white\",\"linecolor\":\"white\",\"minorgridcolor\":\"white\",\"startlinecolor\":\"#2a3f5f\"},\"type\":\"carpet\"}],\"choropleth\":[{\"colorbar\":{\"outlinewidth\":0,\"ticks\":\"\"},\"type\":\"choropleth\"}],\"contour\":[{\"colorbar\":{\"outlinewidth\":0,\"ticks\":\"\"},\"colorscale\":[[0.0,\"#0d0887\"],[0.1111111111111111,\"#46039f\"],[0.2222222222222222,\"#7201a8\"],[0.3333333333333333,\"#9c179e\"],[0.4444444444444444,\"#bd3786\"],[0.5555555555555556,\"#d8576b\"],[0.6666666666666666,\"#ed7953\"],[0.7777777777777778,\"#fb9f3a\"],[0.8888888888888888,\"#fdca26\"],[1.0,\"#f0f921\"]],\"type\":\"contour\"}],\"contourcarpet\":[{\"colorbar\":{\"outlinewidth\":0,\"ticks\":\"\"},\"type\":\"contourcarpet\"}],\"heatmap\":[{\"colorbar\":{\"outlinewidth\":0,\"ticks\":\"\"},\"colorscale\":[[0.0,\"#0d0887\"],[0.1111111111111111,\"#46039f\"],[0.2222222222222222,\"#7201a8\"],[0.3333333333333333,\"#9c179e\"],[0.4444444444444444,\"#bd3786\"],[0.5555555555555556,\"#d8576b\"],[0.6666666666666666,\"#ed7953\"],[0.7777777777777778,\"#fb9f3a\"],[0.8888888888888888,\"#fdca26\"],[1.0,\"#f0f921\"]],\"type\":\"heatmap\"}],\"heatmapgl\":[{\"colorbar\":{\"outlinewidth\":0,\"ticks\":\"\"},\"colorscale\":[[0.0,\"#0d0887\"],[0.1111111111111111,\"#46039f\"],[0.2222222222222222,\"#7201a8\"],[0.3333333333333333,\"#9c179e\"],[0.4444444444444444,\"#bd3786\"],[0.5555555555555556,\"#d8576b\"],[0.6666666666666666,\"#ed7953\"],[0.7777777777777778,\"#fb9f3a\"],[0.8888888888888888,\"#fdca26\"],[1.0,\"#f0f921\"]],\"type\":\"heatmapgl\"}],\"histogram\":[{\"marker\":{\"pattern\":{\"fillmode\":\"overlay\",\"size\":10,\"solidity\":0.2}},\"type\":\"histogram\"}],\"histogram2d\":[{\"colorbar\":{\"outlinewidth\":0,\"ticks\":\"\"},\"colorscale\":[[0.0,\"#0d0887\"],[0.1111111111111111,\"#46039f\"],[0.2222222222222222,\"#7201a8\"],[0.3333333333333333,\"#9c179e\"],[0.4444444444444444,\"#bd3786\"],[0.5555555555555556,\"#d8576b\"],[0.6666666666666666,\"#ed7953\"],[0.7777777777777778,\"#fb9f3a\"],[0.8888888888888888,\"#fdca26\"],[1.0,\"#f0f921\"]],\"type\":\"histogram2d\"}],\"histogram2dcontour\":[{\"colorbar\":{\"outlinewidth\":0,\"ticks\":\"\"},\"colorscale\":[[0.0,\"#0d0887\"],[0.1111111111111111,\"#46039f\"],[0.2222222222222222,\"#7201a8\"],[0.3333333333333333,\"#9c179e\"],[0.4444444444444444,\"#bd3786\"],[0.5555555555555556,\"#d8576b\"],[0.6666666666666666,\"#ed7953\"],[0.7777777777777778,\"#fb9f3a\"],[0.8888888888888888,\"#fdca26\"],[1.0,\"#f0f921\"]],\"type\":\"histogram2dcontour\"}],\"mesh3d\":[{\"colorbar\":{\"outlinewidth\":0,\"ticks\":\"\"},\"type\":\"mesh3d\"}],\"parcoords\":[{\"line\":{\"colorbar\":{\"outlinewidth\":0,\"ticks\":\"\"}},\"type\":\"parcoords\"}],\"pie\":[{\"automargin\":true,\"type\":\"pie\"}],\"scatter\":[{\"marker\":{\"colorbar\":{\"outlinewidth\":0,\"ticks\":\"\"}},\"type\":\"scatter\"}],\"scatter3d\":[{\"line\":{\"colorbar\":{\"outlinewidth\":0,\"ticks\":\"\"}},\"marker\":{\"colorbar\":{\"outlinewidth\":0,\"ticks\":\"\"}},\"type\":\"scatter3d\"}],\"scattercarpet\":[{\"marker\":{\"colorbar\":{\"outlinewidth\":0,\"ticks\":\"\"}},\"type\":\"scattercarpet\"}],\"scattergeo\":[{\"marker\":{\"colorbar\":{\"outlinewidth\":0,\"ticks\":\"\"}},\"type\":\"scattergeo\"}],\"scattergl\":[{\"marker\":{\"colorbar\":{\"outlinewidth\":0,\"ticks\":\"\"}},\"type\":\"scattergl\"}],\"scattermapbox\":[{\"marker\":{\"colorbar\":{\"outlinewidth\":0,\"ticks\":\"\"}},\"type\":\"scattermapbox\"}],\"scatterpolar\":[{\"marker\":{\"colorbar\":{\"outlinewidth\":0,\"ticks\":\"\"}},\"type\":\"scatterpolar\"}],\"scatterpolargl\":[{\"marker\":{\"colorbar\":{\"outlinewidth\":0,\"ticks\":\"\"}},\"type\":\"scatterpolargl\"}],\"scatterternary\":[{\"marker\":{\"colorbar\":{\"outlinewidth\":0,\"ticks\":\"\"}},\"type\":\"scatterternary\"}],\"surface\":[{\"colorbar\":{\"outlinewidth\":0,\"ticks\":\"\"},\"colorscale\":[[0.0,\"#0d0887\"],[0.1111111111111111,\"#46039f\"],[0.2222222222222222,\"#7201a8\"],[0.3333333333333333,\"#9c179e\"],[0.4444444444444444,\"#bd3786\"],[0.5555555555555556,\"#d8576b\"],[0.6666666666666666,\"#ed7953\"],[0.7777777777777778,\"#fb9f3a\"],[0.8888888888888888,\"#fdca26\"],[1.0,\"#f0f921\"]],\"type\":\"surface\"}],\"table\":[{\"cells\":{\"fill\":{\"color\":\"#EBF0F8\"},\"line\":{\"color\":\"white\"}},\"header\":{\"fill\":{\"color\":\"#C8D4E3\"},\"line\":{\"color\":\"white\"}},\"type\":\"table\"}]},\"layout\":{\"annotationdefaults\":{\"arrowcolor\":\"#2a3f5f\",\"arrowhead\":0,\"arrowwidth\":1},\"autotypenumbers\":\"strict\",\"coloraxis\":{\"colorbar\":{\"outlinewidth\":0,\"ticks\":\"\"}},\"colorscale\":{\"diverging\":[[0,\"#8e0152\"],[0.1,\"#c51b7d\"],[0.2,\"#de77ae\"],[0.3,\"#f1b6da\"],[0.4,\"#fde0ef\"],[0.5,\"#f7f7f7\"],[0.6,\"#e6f5d0\"],[0.7,\"#b8e186\"],[0.8,\"#7fbc41\"],[0.9,\"#4d9221\"],[1,\"#276419\"]],\"sequential\":[[0.0,\"#0d0887\"],[0.1111111111111111,\"#46039f\"],[0.2222222222222222,\"#7201a8\"],[0.3333333333333333,\"#9c179e\"],[0.4444444444444444,\"#bd3786\"],[0.5555555555555556,\"#d8576b\"],[0.6666666666666666,\"#ed7953\"],[0.7777777777777778,\"#fb9f3a\"],[0.8888888888888888,\"#fdca26\"],[1.0,\"#f0f921\"]],\"sequentialminus\":[[0.0,\"#0d0887\"],[0.1111111111111111,\"#46039f\"],[0.2222222222222222,\"#7201a8\"],[0.3333333333333333,\"#9c179e\"],[0.4444444444444444,\"#bd3786\"],[0.5555555555555556,\"#d8576b\"],[0.6666666666666666,\"#ed7953\"],[0.7777777777777778,\"#fb9f3a\"],[0.8888888888888888,\"#fdca26\"],[1.0,\"#f0f921\"]]},\"colorway\":[\"#636efa\",\"#EF553B\",\"#00cc96\",\"#ab63fa\",\"#FFA15A\",\"#19d3f3\",\"#FF6692\",\"#B6E880\",\"#FF97FF\",\"#FECB52\"],\"font\":{\"color\":\"#2a3f5f\"},\"geo\":{\"bgcolor\":\"white\",\"lakecolor\":\"white\",\"landcolor\":\"#E5ECF6\",\"showlakes\":true,\"showland\":true,\"subunitcolor\":\"white\"},\"hoverlabel\":{\"align\":\"left\"},\"hovermode\":\"closest\",\"mapbox\":{\"style\":\"light\"},\"paper_bgcolor\":\"white\",\"plot_bgcolor\":\"#E5ECF6\",\"polar\":{\"angularaxis\":{\"gridcolor\":\"white\",\"linecolor\":\"white\",\"ticks\":\"\"},\"bgcolor\":\"#E5ECF6\",\"radialaxis\":{\"gridcolor\":\"white\",\"linecolor\":\"white\",\"ticks\":\"\"}},\"scene\":{\"xaxis\":{\"backgroundcolor\":\"#E5ECF6\",\"gridcolor\":\"white\",\"gridwidth\":2,\"linecolor\":\"white\",\"showbackground\":true,\"ticks\":\"\",\"zerolinecolor\":\"white\"},\"yaxis\":{\"backgroundcolor\":\"#E5ECF6\",\"gridcolor\":\"white\",\"gridwidth\":2,\"linecolor\":\"white\",\"showbackground\":true,\"ticks\":\"\",\"zerolinecolor\":\"white\"},\"zaxis\":{\"backgroundcolor\":\"#E5ECF6\",\"gridcolor\":\"white\",\"gridwidth\":2,\"linecolor\":\"white\",\"showbackground\":true,\"ticks\":\"\",\"zerolinecolor\":\"white\"}},\"shapedefaults\":{\"line\":{\"color\":\"#2a3f5f\"}},\"ternary\":{\"aaxis\":{\"gridcolor\":\"white\",\"linecolor\":\"white\",\"ticks\":\"\"},\"baxis\":{\"gridcolor\":\"white\",\"linecolor\":\"white\",\"ticks\":\"\"},\"bgcolor\":\"#E5ECF6\",\"caxis\":{\"gridcolor\":\"white\",\"linecolor\":\"white\",\"ticks\":\"\"}},\"title\":{\"x\":0.05},\"xaxis\":{\"automargin\":true,\"gridcolor\":\"white\",\"linecolor\":\"white\",\"ticks\":\"\",\"title\":{\"standoff\":15},\"zerolinecolor\":\"white\",\"zerolinewidth\":2},\"yaxis\":{\"automargin\":true,\"gridcolor\":\"white\",\"linecolor\":\"white\",\"ticks\":\"\",\"title\":{\"standoff\":15},\"zerolinecolor\":\"white\",\"zerolinewidth\":2}}},\"xaxis\":{\"anchor\":\"y\",\"domain\":[0.0,1.0],\"title\":{\"text\":\"index\"}},\"yaxis\":{\"anchor\":\"x\",\"domain\":[0.0,1.0],\"title\":{\"text\":\"sepal_length\"}},\"legend\":{\"tracegroupgap\":0},\"title\":{\"text\":\"Plotly Line Chart\"}},                        {\"responsive\": true}                    ).then(function(){\n",
       "                            \n",
       "var gd = document.getElementById('d538fceb-3180-4cd5-b24e-1638a254118c');\n",
       "var x = new MutationObserver(function (mutations, observer) {{\n",
       "        var display = window.getComputedStyle(gd).display;\n",
       "        if (!display || display === 'none') {{\n",
       "            console.log([gd, 'removed!']);\n",
       "            Plotly.purge(gd);\n",
       "            observer.disconnect();\n",
       "        }}\n",
       "}});\n",
       "\n",
       "// Listen for the removal of the full notebook cells\n",
       "var notebookContainer = gd.closest('#notebook-container');\n",
       "if (notebookContainer) {{\n",
       "    x.observe(notebookContainer, {childList: true});\n",
       "}}\n",
       "\n",
       "// Listen for the clearing of the current output cell\n",
       "var outputEl = gd.closest('.output');\n",
       "if (outputEl) {{\n",
       "    x.observe(outputEl, {childList: true});\n",
       "}}\n",
       "\n",
       "                        })                };                });            </script>        </div>"
      ]
     },
     "metadata": {},
     "output_type": "display_data"
    }
   ],
   "source": [
    "fig = px.line(df, \n",
    "              #x=\"sepal_width\", \n",
    "              y=\"sepal_length\", \n",
    "              #color=\"species\", \n",
    "              hover_data = [\"species\", \"petal_width\"], # Add more data when hover \n",
    "              title = \"Plotly Line Chart\")\n",
    "fig.show()"
   ]
  },
  {
   "cell_type": "code",
   "execution_count": 23,
   "metadata": {},
   "outputs": [
    {
     "data": {
      "application/vnd.plotly.v1+json": {
       "config": {
        "plotlyServerURL": "https://plot.ly"
       },
       "data": [
        {
         "alignmentgroup": "True",
         "hovertemplate": "Species Catagories=%{x}<br>Count=%{y}<extra></extra>",
         "legendgroup": "",
         "marker": {
          "color": "#636efa",
          "pattern": {
           "shape": ""
          }
         },
         "name": "",
         "offsetgroup": "",
         "orientation": "v",
         "showlegend": false,
         "textposition": "auto",
         "type": "bar",
         "x": [
          "setosa",
          "versicolor",
          "virginica"
         ],
         "xaxis": "x",
         "y": [
          50,
          50,
          50
         ],
         "yaxis": "y"
        }
       ],
       "layout": {
        "barmode": "relative",
        "legend": {
         "tracegroupgap": 0
        },
        "template": {
         "data": {
          "bar": [
           {
            "error_x": {
             "color": "#2a3f5f"
            },
            "error_y": {
             "color": "#2a3f5f"
            },
            "marker": {
             "line": {
              "color": "#E5ECF6",
              "width": 0.5
             },
             "pattern": {
              "fillmode": "overlay",
              "size": 10,
              "solidity": 0.2
             }
            },
            "type": "bar"
           }
          ],
          "barpolar": [
           {
            "marker": {
             "line": {
              "color": "#E5ECF6",
              "width": 0.5
             },
             "pattern": {
              "fillmode": "overlay",
              "size": 10,
              "solidity": 0.2
             }
            },
            "type": "barpolar"
           }
          ],
          "carpet": [
           {
            "aaxis": {
             "endlinecolor": "#2a3f5f",
             "gridcolor": "white",
             "linecolor": "white",
             "minorgridcolor": "white",
             "startlinecolor": "#2a3f5f"
            },
            "baxis": {
             "endlinecolor": "#2a3f5f",
             "gridcolor": "white",
             "linecolor": "white",
             "minorgridcolor": "white",
             "startlinecolor": "#2a3f5f"
            },
            "type": "carpet"
           }
          ],
          "choropleth": [
           {
            "colorbar": {
             "outlinewidth": 0,
             "ticks": ""
            },
            "type": "choropleth"
           }
          ],
          "contour": [
           {
            "colorbar": {
             "outlinewidth": 0,
             "ticks": ""
            },
            "colorscale": [
             [
              0,
              "#0d0887"
             ],
             [
              0.1111111111111111,
              "#46039f"
             ],
             [
              0.2222222222222222,
              "#7201a8"
             ],
             [
              0.3333333333333333,
              "#9c179e"
             ],
             [
              0.4444444444444444,
              "#bd3786"
             ],
             [
              0.5555555555555556,
              "#d8576b"
             ],
             [
              0.6666666666666666,
              "#ed7953"
             ],
             [
              0.7777777777777778,
              "#fb9f3a"
             ],
             [
              0.8888888888888888,
              "#fdca26"
             ],
             [
              1,
              "#f0f921"
             ]
            ],
            "type": "contour"
           }
          ],
          "contourcarpet": [
           {
            "colorbar": {
             "outlinewidth": 0,
             "ticks": ""
            },
            "type": "contourcarpet"
           }
          ],
          "heatmap": [
           {
            "colorbar": {
             "outlinewidth": 0,
             "ticks": ""
            },
            "colorscale": [
             [
              0,
              "#0d0887"
             ],
             [
              0.1111111111111111,
              "#46039f"
             ],
             [
              0.2222222222222222,
              "#7201a8"
             ],
             [
              0.3333333333333333,
              "#9c179e"
             ],
             [
              0.4444444444444444,
              "#bd3786"
             ],
             [
              0.5555555555555556,
              "#d8576b"
             ],
             [
              0.6666666666666666,
              "#ed7953"
             ],
             [
              0.7777777777777778,
              "#fb9f3a"
             ],
             [
              0.8888888888888888,
              "#fdca26"
             ],
             [
              1,
              "#f0f921"
             ]
            ],
            "type": "heatmap"
           }
          ],
          "heatmapgl": [
           {
            "colorbar": {
             "outlinewidth": 0,
             "ticks": ""
            },
            "colorscale": [
             [
              0,
              "#0d0887"
             ],
             [
              0.1111111111111111,
              "#46039f"
             ],
             [
              0.2222222222222222,
              "#7201a8"
             ],
             [
              0.3333333333333333,
              "#9c179e"
             ],
             [
              0.4444444444444444,
              "#bd3786"
             ],
             [
              0.5555555555555556,
              "#d8576b"
             ],
             [
              0.6666666666666666,
              "#ed7953"
             ],
             [
              0.7777777777777778,
              "#fb9f3a"
             ],
             [
              0.8888888888888888,
              "#fdca26"
             ],
             [
              1,
              "#f0f921"
             ]
            ],
            "type": "heatmapgl"
           }
          ],
          "histogram": [
           {
            "marker": {
             "pattern": {
              "fillmode": "overlay",
              "size": 10,
              "solidity": 0.2
             }
            },
            "type": "histogram"
           }
          ],
          "histogram2d": [
           {
            "colorbar": {
             "outlinewidth": 0,
             "ticks": ""
            },
            "colorscale": [
             [
              0,
              "#0d0887"
             ],
             [
              0.1111111111111111,
              "#46039f"
             ],
             [
              0.2222222222222222,
              "#7201a8"
             ],
             [
              0.3333333333333333,
              "#9c179e"
             ],
             [
              0.4444444444444444,
              "#bd3786"
             ],
             [
              0.5555555555555556,
              "#d8576b"
             ],
             [
              0.6666666666666666,
              "#ed7953"
             ],
             [
              0.7777777777777778,
              "#fb9f3a"
             ],
             [
              0.8888888888888888,
              "#fdca26"
             ],
             [
              1,
              "#f0f921"
             ]
            ],
            "type": "histogram2d"
           }
          ],
          "histogram2dcontour": [
           {
            "colorbar": {
             "outlinewidth": 0,
             "ticks": ""
            },
            "colorscale": [
             [
              0,
              "#0d0887"
             ],
             [
              0.1111111111111111,
              "#46039f"
             ],
             [
              0.2222222222222222,
              "#7201a8"
             ],
             [
              0.3333333333333333,
              "#9c179e"
             ],
             [
              0.4444444444444444,
              "#bd3786"
             ],
             [
              0.5555555555555556,
              "#d8576b"
             ],
             [
              0.6666666666666666,
              "#ed7953"
             ],
             [
              0.7777777777777778,
              "#fb9f3a"
             ],
             [
              0.8888888888888888,
              "#fdca26"
             ],
             [
              1,
              "#f0f921"
             ]
            ],
            "type": "histogram2dcontour"
           }
          ],
          "mesh3d": [
           {
            "colorbar": {
             "outlinewidth": 0,
             "ticks": ""
            },
            "type": "mesh3d"
           }
          ],
          "parcoords": [
           {
            "line": {
             "colorbar": {
              "outlinewidth": 0,
              "ticks": ""
             }
            },
            "type": "parcoords"
           }
          ],
          "pie": [
           {
            "automargin": true,
            "type": "pie"
           }
          ],
          "scatter": [
           {
            "marker": {
             "colorbar": {
              "outlinewidth": 0,
              "ticks": ""
             }
            },
            "type": "scatter"
           }
          ],
          "scatter3d": [
           {
            "line": {
             "colorbar": {
              "outlinewidth": 0,
              "ticks": ""
             }
            },
            "marker": {
             "colorbar": {
              "outlinewidth": 0,
              "ticks": ""
             }
            },
            "type": "scatter3d"
           }
          ],
          "scattercarpet": [
           {
            "marker": {
             "colorbar": {
              "outlinewidth": 0,
              "ticks": ""
             }
            },
            "type": "scattercarpet"
           }
          ],
          "scattergeo": [
           {
            "marker": {
             "colorbar": {
              "outlinewidth": 0,
              "ticks": ""
             }
            },
            "type": "scattergeo"
           }
          ],
          "scattergl": [
           {
            "marker": {
             "colorbar": {
              "outlinewidth": 0,
              "ticks": ""
             }
            },
            "type": "scattergl"
           }
          ],
          "scattermapbox": [
           {
            "marker": {
             "colorbar": {
              "outlinewidth": 0,
              "ticks": ""
             }
            },
            "type": "scattermapbox"
           }
          ],
          "scatterpolar": [
           {
            "marker": {
             "colorbar": {
              "outlinewidth": 0,
              "ticks": ""
             }
            },
            "type": "scatterpolar"
           }
          ],
          "scatterpolargl": [
           {
            "marker": {
             "colorbar": {
              "outlinewidth": 0,
              "ticks": ""
             }
            },
            "type": "scatterpolargl"
           }
          ],
          "scatterternary": [
           {
            "marker": {
             "colorbar": {
              "outlinewidth": 0,
              "ticks": ""
             }
            },
            "type": "scatterternary"
           }
          ],
          "surface": [
           {
            "colorbar": {
             "outlinewidth": 0,
             "ticks": ""
            },
            "colorscale": [
             [
              0,
              "#0d0887"
             ],
             [
              0.1111111111111111,
              "#46039f"
             ],
             [
              0.2222222222222222,
              "#7201a8"
             ],
             [
              0.3333333333333333,
              "#9c179e"
             ],
             [
              0.4444444444444444,
              "#bd3786"
             ],
             [
              0.5555555555555556,
              "#d8576b"
             ],
             [
              0.6666666666666666,
              "#ed7953"
             ],
             [
              0.7777777777777778,
              "#fb9f3a"
             ],
             [
              0.8888888888888888,
              "#fdca26"
             ],
             [
              1,
              "#f0f921"
             ]
            ],
            "type": "surface"
           }
          ],
          "table": [
           {
            "cells": {
             "fill": {
              "color": "#EBF0F8"
             },
             "line": {
              "color": "white"
             }
            },
            "header": {
             "fill": {
              "color": "#C8D4E3"
             },
             "line": {
              "color": "white"
             }
            },
            "type": "table"
           }
          ]
         },
         "layout": {
          "annotationdefaults": {
           "arrowcolor": "#2a3f5f",
           "arrowhead": 0,
           "arrowwidth": 1
          },
          "autotypenumbers": "strict",
          "coloraxis": {
           "colorbar": {
            "outlinewidth": 0,
            "ticks": ""
           }
          },
          "colorscale": {
           "diverging": [
            [
             0,
             "#8e0152"
            ],
            [
             0.1,
             "#c51b7d"
            ],
            [
             0.2,
             "#de77ae"
            ],
            [
             0.3,
             "#f1b6da"
            ],
            [
             0.4,
             "#fde0ef"
            ],
            [
             0.5,
             "#f7f7f7"
            ],
            [
             0.6,
             "#e6f5d0"
            ],
            [
             0.7,
             "#b8e186"
            ],
            [
             0.8,
             "#7fbc41"
            ],
            [
             0.9,
             "#4d9221"
            ],
            [
             1,
             "#276419"
            ]
           ],
           "sequential": [
            [
             0,
             "#0d0887"
            ],
            [
             0.1111111111111111,
             "#46039f"
            ],
            [
             0.2222222222222222,
             "#7201a8"
            ],
            [
             0.3333333333333333,
             "#9c179e"
            ],
            [
             0.4444444444444444,
             "#bd3786"
            ],
            [
             0.5555555555555556,
             "#d8576b"
            ],
            [
             0.6666666666666666,
             "#ed7953"
            ],
            [
             0.7777777777777778,
             "#fb9f3a"
            ],
            [
             0.8888888888888888,
             "#fdca26"
            ],
            [
             1,
             "#f0f921"
            ]
           ],
           "sequentialminus": [
            [
             0,
             "#0d0887"
            ],
            [
             0.1111111111111111,
             "#46039f"
            ],
            [
             0.2222222222222222,
             "#7201a8"
            ],
            [
             0.3333333333333333,
             "#9c179e"
            ],
            [
             0.4444444444444444,
             "#bd3786"
            ],
            [
             0.5555555555555556,
             "#d8576b"
            ],
            [
             0.6666666666666666,
             "#ed7953"
            ],
            [
             0.7777777777777778,
             "#fb9f3a"
            ],
            [
             0.8888888888888888,
             "#fdca26"
            ],
            [
             1,
             "#f0f921"
            ]
           ]
          },
          "colorway": [
           "#636efa",
           "#EF553B",
           "#00cc96",
           "#ab63fa",
           "#FFA15A",
           "#19d3f3",
           "#FF6692",
           "#B6E880",
           "#FF97FF",
           "#FECB52"
          ],
          "font": {
           "color": "#2a3f5f"
          },
          "geo": {
           "bgcolor": "white",
           "lakecolor": "white",
           "landcolor": "#E5ECF6",
           "showlakes": true,
           "showland": true,
           "subunitcolor": "white"
          },
          "hoverlabel": {
           "align": "left"
          },
          "hovermode": "closest",
          "mapbox": {
           "style": "light"
          },
          "paper_bgcolor": "white",
          "plot_bgcolor": "#E5ECF6",
          "polar": {
           "angularaxis": {
            "gridcolor": "white",
            "linecolor": "white",
            "ticks": ""
           },
           "bgcolor": "#E5ECF6",
           "radialaxis": {
            "gridcolor": "white",
            "linecolor": "white",
            "ticks": ""
           }
          },
          "scene": {
           "xaxis": {
            "backgroundcolor": "#E5ECF6",
            "gridcolor": "white",
            "gridwidth": 2,
            "linecolor": "white",
            "showbackground": true,
            "ticks": "",
            "zerolinecolor": "white"
           },
           "yaxis": {
            "backgroundcolor": "#E5ECF6",
            "gridcolor": "white",
            "gridwidth": 2,
            "linecolor": "white",
            "showbackground": true,
            "ticks": "",
            "zerolinecolor": "white"
           },
           "zaxis": {
            "backgroundcolor": "#E5ECF6",
            "gridcolor": "white",
            "gridwidth": 2,
            "linecolor": "white",
            "showbackground": true,
            "ticks": "",
            "zerolinecolor": "white"
           }
          },
          "shapedefaults": {
           "line": {
            "color": "#2a3f5f"
           }
          },
          "ternary": {
           "aaxis": {
            "gridcolor": "white",
            "linecolor": "white",
            "ticks": ""
           },
           "baxis": {
            "gridcolor": "white",
            "linecolor": "white",
            "ticks": ""
           },
           "bgcolor": "#E5ECF6",
           "caxis": {
            "gridcolor": "white",
            "linecolor": "white",
            "ticks": ""
           }
          },
          "title": {
           "x": 0.05
          },
          "xaxis": {
           "automargin": true,
           "gridcolor": "white",
           "linecolor": "white",
           "ticks": "",
           "title": {
            "standoff": 15
           },
           "zerolinecolor": "white",
           "zerolinewidth": 2
          },
          "yaxis": {
           "automargin": true,
           "gridcolor": "white",
           "linecolor": "white",
           "ticks": "",
           "title": {
            "standoff": 15
           },
           "zerolinecolor": "white",
           "zerolinewidth": 2
          }
         }
        },
        "title": {
         "text": "Plotly Bar Chart"
        },
        "xaxis": {
         "anchor": "y",
         "domain": [
          0,
          1
         ],
         "title": {
          "text": "Species Catagories"
         }
        },
        "yaxis": {
         "anchor": "x",
         "domain": [
          0,
          1
         ],
         "title": {
          "text": "Count"
         }
        }
       }
      },
      "text/html": [
       "<div>                            <div id=\"eb6f17e1-893f-4c9b-85cd-cfa3dd3205b4\" class=\"plotly-graph-div\" style=\"height:525px; width:100%;\"></div>            <script type=\"text/javascript\">                require([\"plotly\"], function(Plotly) {                    window.PLOTLYENV=window.PLOTLYENV || {};                                    if (document.getElementById(\"eb6f17e1-893f-4c9b-85cd-cfa3dd3205b4\")) {                    Plotly.newPlot(                        \"eb6f17e1-893f-4c9b-85cd-cfa3dd3205b4\",                        [{\"alignmentgroup\":\"True\",\"hovertemplate\":\"Species Catagories=%{x}<br>Count=%{y}<extra></extra>\",\"legendgroup\":\"\",\"marker\":{\"color\":\"#636efa\",\"pattern\":{\"shape\":\"\"}},\"name\":\"\",\"offsetgroup\":\"\",\"orientation\":\"v\",\"showlegend\":false,\"textposition\":\"auto\",\"x\":[\"setosa\",\"versicolor\",\"virginica\"],\"xaxis\":\"x\",\"y\":[50,50,50],\"yaxis\":\"y\",\"type\":\"bar\"}],                        {\"template\":{\"data\":{\"bar\":[{\"error_x\":{\"color\":\"#2a3f5f\"},\"error_y\":{\"color\":\"#2a3f5f\"},\"marker\":{\"line\":{\"color\":\"#E5ECF6\",\"width\":0.5},\"pattern\":{\"fillmode\":\"overlay\",\"size\":10,\"solidity\":0.2}},\"type\":\"bar\"}],\"barpolar\":[{\"marker\":{\"line\":{\"color\":\"#E5ECF6\",\"width\":0.5},\"pattern\":{\"fillmode\":\"overlay\",\"size\":10,\"solidity\":0.2}},\"type\":\"barpolar\"}],\"carpet\":[{\"aaxis\":{\"endlinecolor\":\"#2a3f5f\",\"gridcolor\":\"white\",\"linecolor\":\"white\",\"minorgridcolor\":\"white\",\"startlinecolor\":\"#2a3f5f\"},\"baxis\":{\"endlinecolor\":\"#2a3f5f\",\"gridcolor\":\"white\",\"linecolor\":\"white\",\"minorgridcolor\":\"white\",\"startlinecolor\":\"#2a3f5f\"},\"type\":\"carpet\"}],\"choropleth\":[{\"colorbar\":{\"outlinewidth\":0,\"ticks\":\"\"},\"type\":\"choropleth\"}],\"contour\":[{\"colorbar\":{\"outlinewidth\":0,\"ticks\":\"\"},\"colorscale\":[[0.0,\"#0d0887\"],[0.1111111111111111,\"#46039f\"],[0.2222222222222222,\"#7201a8\"],[0.3333333333333333,\"#9c179e\"],[0.4444444444444444,\"#bd3786\"],[0.5555555555555556,\"#d8576b\"],[0.6666666666666666,\"#ed7953\"],[0.7777777777777778,\"#fb9f3a\"],[0.8888888888888888,\"#fdca26\"],[1.0,\"#f0f921\"]],\"type\":\"contour\"}],\"contourcarpet\":[{\"colorbar\":{\"outlinewidth\":0,\"ticks\":\"\"},\"type\":\"contourcarpet\"}],\"heatmap\":[{\"colorbar\":{\"outlinewidth\":0,\"ticks\":\"\"},\"colorscale\":[[0.0,\"#0d0887\"],[0.1111111111111111,\"#46039f\"],[0.2222222222222222,\"#7201a8\"],[0.3333333333333333,\"#9c179e\"],[0.4444444444444444,\"#bd3786\"],[0.5555555555555556,\"#d8576b\"],[0.6666666666666666,\"#ed7953\"],[0.7777777777777778,\"#fb9f3a\"],[0.8888888888888888,\"#fdca26\"],[1.0,\"#f0f921\"]],\"type\":\"heatmap\"}],\"heatmapgl\":[{\"colorbar\":{\"outlinewidth\":0,\"ticks\":\"\"},\"colorscale\":[[0.0,\"#0d0887\"],[0.1111111111111111,\"#46039f\"],[0.2222222222222222,\"#7201a8\"],[0.3333333333333333,\"#9c179e\"],[0.4444444444444444,\"#bd3786\"],[0.5555555555555556,\"#d8576b\"],[0.6666666666666666,\"#ed7953\"],[0.7777777777777778,\"#fb9f3a\"],[0.8888888888888888,\"#fdca26\"],[1.0,\"#f0f921\"]],\"type\":\"heatmapgl\"}],\"histogram\":[{\"marker\":{\"pattern\":{\"fillmode\":\"overlay\",\"size\":10,\"solidity\":0.2}},\"type\":\"histogram\"}],\"histogram2d\":[{\"colorbar\":{\"outlinewidth\":0,\"ticks\":\"\"},\"colorscale\":[[0.0,\"#0d0887\"],[0.1111111111111111,\"#46039f\"],[0.2222222222222222,\"#7201a8\"],[0.3333333333333333,\"#9c179e\"],[0.4444444444444444,\"#bd3786\"],[0.5555555555555556,\"#d8576b\"],[0.6666666666666666,\"#ed7953\"],[0.7777777777777778,\"#fb9f3a\"],[0.8888888888888888,\"#fdca26\"],[1.0,\"#f0f921\"]],\"type\":\"histogram2d\"}],\"histogram2dcontour\":[{\"colorbar\":{\"outlinewidth\":0,\"ticks\":\"\"},\"colorscale\":[[0.0,\"#0d0887\"],[0.1111111111111111,\"#46039f\"],[0.2222222222222222,\"#7201a8\"],[0.3333333333333333,\"#9c179e\"],[0.4444444444444444,\"#bd3786\"],[0.5555555555555556,\"#d8576b\"],[0.6666666666666666,\"#ed7953\"],[0.7777777777777778,\"#fb9f3a\"],[0.8888888888888888,\"#fdca26\"],[1.0,\"#f0f921\"]],\"type\":\"histogram2dcontour\"}],\"mesh3d\":[{\"colorbar\":{\"outlinewidth\":0,\"ticks\":\"\"},\"type\":\"mesh3d\"}],\"parcoords\":[{\"line\":{\"colorbar\":{\"outlinewidth\":0,\"ticks\":\"\"}},\"type\":\"parcoords\"}],\"pie\":[{\"automargin\":true,\"type\":\"pie\"}],\"scatter\":[{\"marker\":{\"colorbar\":{\"outlinewidth\":0,\"ticks\":\"\"}},\"type\":\"scatter\"}],\"scatter3d\":[{\"line\":{\"colorbar\":{\"outlinewidth\":0,\"ticks\":\"\"}},\"marker\":{\"colorbar\":{\"outlinewidth\":0,\"ticks\":\"\"}},\"type\":\"scatter3d\"}],\"scattercarpet\":[{\"marker\":{\"colorbar\":{\"outlinewidth\":0,\"ticks\":\"\"}},\"type\":\"scattercarpet\"}],\"scattergeo\":[{\"marker\":{\"colorbar\":{\"outlinewidth\":0,\"ticks\":\"\"}},\"type\":\"scattergeo\"}],\"scattergl\":[{\"marker\":{\"colorbar\":{\"outlinewidth\":0,\"ticks\":\"\"}},\"type\":\"scattergl\"}],\"scattermapbox\":[{\"marker\":{\"colorbar\":{\"outlinewidth\":0,\"ticks\":\"\"}},\"type\":\"scattermapbox\"}],\"scatterpolar\":[{\"marker\":{\"colorbar\":{\"outlinewidth\":0,\"ticks\":\"\"}},\"type\":\"scatterpolar\"}],\"scatterpolargl\":[{\"marker\":{\"colorbar\":{\"outlinewidth\":0,\"ticks\":\"\"}},\"type\":\"scatterpolargl\"}],\"scatterternary\":[{\"marker\":{\"colorbar\":{\"outlinewidth\":0,\"ticks\":\"\"}},\"type\":\"scatterternary\"}],\"surface\":[{\"colorbar\":{\"outlinewidth\":0,\"ticks\":\"\"},\"colorscale\":[[0.0,\"#0d0887\"],[0.1111111111111111,\"#46039f\"],[0.2222222222222222,\"#7201a8\"],[0.3333333333333333,\"#9c179e\"],[0.4444444444444444,\"#bd3786\"],[0.5555555555555556,\"#d8576b\"],[0.6666666666666666,\"#ed7953\"],[0.7777777777777778,\"#fb9f3a\"],[0.8888888888888888,\"#fdca26\"],[1.0,\"#f0f921\"]],\"type\":\"surface\"}],\"table\":[{\"cells\":{\"fill\":{\"color\":\"#EBF0F8\"},\"line\":{\"color\":\"white\"}},\"header\":{\"fill\":{\"color\":\"#C8D4E3\"},\"line\":{\"color\":\"white\"}},\"type\":\"table\"}]},\"layout\":{\"annotationdefaults\":{\"arrowcolor\":\"#2a3f5f\",\"arrowhead\":0,\"arrowwidth\":1},\"autotypenumbers\":\"strict\",\"coloraxis\":{\"colorbar\":{\"outlinewidth\":0,\"ticks\":\"\"}},\"colorscale\":{\"diverging\":[[0,\"#8e0152\"],[0.1,\"#c51b7d\"],[0.2,\"#de77ae\"],[0.3,\"#f1b6da\"],[0.4,\"#fde0ef\"],[0.5,\"#f7f7f7\"],[0.6,\"#e6f5d0\"],[0.7,\"#b8e186\"],[0.8,\"#7fbc41\"],[0.9,\"#4d9221\"],[1,\"#276419\"]],\"sequential\":[[0.0,\"#0d0887\"],[0.1111111111111111,\"#46039f\"],[0.2222222222222222,\"#7201a8\"],[0.3333333333333333,\"#9c179e\"],[0.4444444444444444,\"#bd3786\"],[0.5555555555555556,\"#d8576b\"],[0.6666666666666666,\"#ed7953\"],[0.7777777777777778,\"#fb9f3a\"],[0.8888888888888888,\"#fdca26\"],[1.0,\"#f0f921\"]],\"sequentialminus\":[[0.0,\"#0d0887\"],[0.1111111111111111,\"#46039f\"],[0.2222222222222222,\"#7201a8\"],[0.3333333333333333,\"#9c179e\"],[0.4444444444444444,\"#bd3786\"],[0.5555555555555556,\"#d8576b\"],[0.6666666666666666,\"#ed7953\"],[0.7777777777777778,\"#fb9f3a\"],[0.8888888888888888,\"#fdca26\"],[1.0,\"#f0f921\"]]},\"colorway\":[\"#636efa\",\"#EF553B\",\"#00cc96\",\"#ab63fa\",\"#FFA15A\",\"#19d3f3\",\"#FF6692\",\"#B6E880\",\"#FF97FF\",\"#FECB52\"],\"font\":{\"color\":\"#2a3f5f\"},\"geo\":{\"bgcolor\":\"white\",\"lakecolor\":\"white\",\"landcolor\":\"#E5ECF6\",\"showlakes\":true,\"showland\":true,\"subunitcolor\":\"white\"},\"hoverlabel\":{\"align\":\"left\"},\"hovermode\":\"closest\",\"mapbox\":{\"style\":\"light\"},\"paper_bgcolor\":\"white\",\"plot_bgcolor\":\"#E5ECF6\",\"polar\":{\"angularaxis\":{\"gridcolor\":\"white\",\"linecolor\":\"white\",\"ticks\":\"\"},\"bgcolor\":\"#E5ECF6\",\"radialaxis\":{\"gridcolor\":\"white\",\"linecolor\":\"white\",\"ticks\":\"\"}},\"scene\":{\"xaxis\":{\"backgroundcolor\":\"#E5ECF6\",\"gridcolor\":\"white\",\"gridwidth\":2,\"linecolor\":\"white\",\"showbackground\":true,\"ticks\":\"\",\"zerolinecolor\":\"white\"},\"yaxis\":{\"backgroundcolor\":\"#E5ECF6\",\"gridcolor\":\"white\",\"gridwidth\":2,\"linecolor\":\"white\",\"showbackground\":true,\"ticks\":\"\",\"zerolinecolor\":\"white\"},\"zaxis\":{\"backgroundcolor\":\"#E5ECF6\",\"gridcolor\":\"white\",\"gridwidth\":2,\"linecolor\":\"white\",\"showbackground\":true,\"ticks\":\"\",\"zerolinecolor\":\"white\"}},\"shapedefaults\":{\"line\":{\"color\":\"#2a3f5f\"}},\"ternary\":{\"aaxis\":{\"gridcolor\":\"white\",\"linecolor\":\"white\",\"ticks\":\"\"},\"baxis\":{\"gridcolor\":\"white\",\"linecolor\":\"white\",\"ticks\":\"\"},\"bgcolor\":\"#E5ECF6\",\"caxis\":{\"gridcolor\":\"white\",\"linecolor\":\"white\",\"ticks\":\"\"}},\"title\":{\"x\":0.05},\"xaxis\":{\"automargin\":true,\"gridcolor\":\"white\",\"linecolor\":\"white\",\"ticks\":\"\",\"title\":{\"standoff\":15},\"zerolinecolor\":\"white\",\"zerolinewidth\":2},\"yaxis\":{\"automargin\":true,\"gridcolor\":\"white\",\"linecolor\":\"white\",\"ticks\":\"\",\"title\":{\"standoff\":15},\"zerolinecolor\":\"white\",\"zerolinewidth\":2}}},\"xaxis\":{\"anchor\":\"y\",\"domain\":[0.0,1.0],\"title\":{\"text\":\"Species Catagories\"}},\"yaxis\":{\"anchor\":\"x\",\"domain\":[0.0,1.0],\"title\":{\"text\":\"Count\"}},\"legend\":{\"tracegroupgap\":0},\"title\":{\"text\":\"Plotly Bar Chart\"},\"barmode\":\"relative\"},                        {\"responsive\": true}                    ).then(function(){\n",
       "                            \n",
       "var gd = document.getElementById('eb6f17e1-893f-4c9b-85cd-cfa3dd3205b4');\n",
       "var x = new MutationObserver(function (mutations, observer) {{\n",
       "        var display = window.getComputedStyle(gd).display;\n",
       "        if (!display || display === 'none') {{\n",
       "            console.log([gd, 'removed!']);\n",
       "            Plotly.purge(gd);\n",
       "            observer.disconnect();\n",
       "        }}\n",
       "}});\n",
       "\n",
       "// Listen for the removal of the full notebook cells\n",
       "var notebookContainer = gd.closest('#notebook-container');\n",
       "if (notebookContainer) {{\n",
       "    x.observe(notebookContainer, {childList: true});\n",
       "}}\n",
       "\n",
       "// Listen for the clearing of the current output cell\n",
       "var outputEl = gd.closest('.output');\n",
       "if (outputEl) {{\n",
       "    x.observe(outputEl, {childList: true});\n",
       "}}\n",
       "\n",
       "                        })                };                });            </script>        </div>"
      ]
     },
     "metadata": {},
     "output_type": "display_data"
    }
   ],
   "source": [
    "fig = px.bar(df,\n",
    "    x = df[\"species\"].value_counts().index, # labels \n",
    "    y = df[\"species\"].value_counts().values, # values\n",
    "    labels={\"x\":\"Species Catagories\", \"y\":\"Count\"},\n",
    "    title = \"Plotly Bar Chart\")\n",
    "fig.show()"
   ]
  },
  {
   "cell_type": "markdown",
   "metadata": {},
   "source": [
    "## Plotly Dashboard\n",
    "- # https://dash.plotly.com/dash-core-components\n",
    "#### You have to install:\n",
    "- pip install jupyter-dash"
   ]
  },
  {
   "cell_type": "markdown",
   "metadata": {},
   "source": [
    "### Resources:\n",
    "- https://dash.gallery/Portal/\n",
    "- https://plotly.com/python/getting-started/\n",
    "- https://plotly.com/python/"
   ]
  },
  {
   "cell_type": "code",
   "execution_count": 24,
   "metadata": {},
   "outputs": [],
   "source": [
    "from jupyter_dash import JupyterDash\n",
    "import dash_html_components as html\n",
    "import dash_core_components as dcc"
   ]
  },
  {
   "cell_type": "code",
   "execution_count": 25,
   "metadata": {},
   "outputs": [
    {
     "data": {
      "text/html": [
       "\n",
       "        <iframe\n",
       "            width=\"100%\"\n",
       "            height=\"650\"\n",
       "            src=\"http://127.0.0.1:8050/\"\n",
       "            frameborder=\"0\"\n",
       "            allowfullscreen\n",
       "            \n",
       "        ></iframe>\n",
       "        "
      ],
      "text/plain": [
       "<IPython.lib.display.IFrame at 0x7f9a477be970>"
      ]
     },
     "metadata": {},
     "output_type": "display_data"
    }
   ],
   "source": [
    "app = JupyterDash(__name__)\n",
    "\n",
    "app.layout = html.Div([\n",
    "    dcc.Checklist(\n",
    "    ['New York City', 'Montréal', 'San Francisco'],\n",
    "    ['New York City', 'Montréal']\n",
    ")\n",
    "])\n",
    "\n",
    "if __name__ == '__main__':\n",
    "    app.run_server(mode=\"inline\")"
   ]
  },
  {
   "cell_type": "code",
   "execution_count": 26,
   "metadata": {},
   "outputs": [
    {
     "data": {
      "text/html": [
       "\n",
       "        <iframe\n",
       "            width=\"100%\"\n",
       "            height=\"650\"\n",
       "            src=\"http://127.0.0.1:8050/\"\n",
       "            frameborder=\"0\"\n",
       "            allowfullscreen\n",
       "            \n",
       "        ></iframe>\n",
       "        "
      ],
      "text/plain": [
       "<IPython.lib.display.IFrame at 0x7f9a48016ca0>"
      ]
     },
     "metadata": {},
     "output_type": "display_data"
    }
   ],
   "source": [
    "app = JupyterDash(__name__)\n",
    "\n",
    "app.layout = html.Div([\n",
    "    dcc.Dropdown(['NYC', 'MTL', 'SF'], \n",
    "                 'NYC', \n",
    "                 id='demo-dropdown')\n",
    "])\n",
    "\n",
    "if __name__ == '__main__':\n",
    "    app.run_server(mode=\"inline\")"
   ]
  },
  {
   "cell_type": "code",
   "execution_count": 27,
   "metadata": {},
   "outputs": [
    {
     "data": {
      "text/html": [
       "\n",
       "        <iframe\n",
       "            width=\"100%\"\n",
       "            height=\"650\"\n",
       "            src=\"http://127.0.0.1:8050/\"\n",
       "            frameborder=\"0\"\n",
       "            allowfullscreen\n",
       "            \n",
       "        ></iframe>\n",
       "        "
      ],
      "text/plain": [
       "<IPython.lib.display.IFrame at 0x7f9a65b4c970>"
      ]
     },
     "metadata": {},
     "output_type": "display_data"
    }
   ],
   "source": [
    "# https://dash.plotly.com/dash-core-components/rangeslider\n",
    "app = JupyterDash(__name__)\n",
    "\n",
    "app.layout = html.Div([\n",
    "    html.Label('Choose from RangeSlider'),\n",
    "   dcc.RangeSlider(0, 20, 1, value=[5, 15], id='my-range-slider'),\n",
    "    html.Div(id='output-container-range-slider')\n",
    "])\n",
    "\n",
    "if __name__ == '__main__':\n",
    "    app.run_server(mode=\"inline\")"
   ]
  },
  {
   "cell_type": "code",
   "execution_count": 28,
   "metadata": {},
   "outputs": [
    {
     "data": {
      "text/html": [
       "\n",
       "        <iframe\n",
       "            width=\"100%\"\n",
       "            height=\"650\"\n",
       "            src=\"http://127.0.0.1:8050/\"\n",
       "            frameborder=\"0\"\n",
       "            allowfullscreen\n",
       "            \n",
       "        ></iframe>\n",
       "        "
      ],
      "text/plain": [
       "<IPython.lib.display.IFrame at 0x7f9a65b4c970>"
      ]
     },
     "metadata": {},
     "output_type": "display_data"
    }
   ],
   "source": [
    "# **\n",
    "app = JupyterDash(__name__)\n",
    "\n",
    "app.layout = html.Div([\n",
    "    html.Label('Dropdown'),\n",
    "\n",
    "    html.Label('Multi-Select Dropdown'),\n",
    "    dcc.Dropdown(\n",
    "        options=[\n",
    "            {'label': 'New York City', 'value': 'NYC'},\n",
    "            {'label': u'Montréal', 'value': 'MTL'},\n",
    "            {'label': 'San Francisco', 'value': 'SF'}\n",
    "        ],\n",
    "        value='NYC',\n",
    "        multi=True\n",
    "    ),\n",
    "    \n",
    "\n",
    "\n",
    "    html.Label('Checkboxes'),\n",
    "    dcc.Checklist(\n",
    "        options=[\n",
    "            {'label': 'New York City', 'value': 'NYC'},\n",
    "            {'label': u'Montréal', 'value': 'MTL'},\n",
    "            {'label': 'San Francisco', 'value': 'SF'}\n",
    "        ],\n",
    "        value=['MTL', 'SF']\n",
    "    ),\n",
    "\n",
    "    html.Label('Text Input'),\n",
    "    dcc.Input(value='MTL', type='text'),\n",
    "\n",
    "    html.Label('Slider'),\n",
    "    dcc.Slider(\n",
    "        min=0,\n",
    "        max=9,\n",
    "        marks={i: 'Label {}'.format(i) if i == 1 else str(i) for i in range(1, 10)},\n",
    "        value=5,\n",
    "    ),\n",
    "], style={'columnCount': 2})\n",
    "\n",
    "if __name__ == '__main__':\n",
    "    app.run_server(mode=\"inline\")"
   ]
  },
  {
   "cell_type": "code",
   "execution_count": 29,
   "metadata": {},
   "outputs": [
    {
     "data": {
      "text/html": [
       "\n",
       "        <iframe\n",
       "            width=\"100%\"\n",
       "            height=\"650\"\n",
       "            src=\"http://127.0.0.1:8050/\"\n",
       "            frameborder=\"0\"\n",
       "            allowfullscreen\n",
       "            \n",
       "        ></iframe>\n",
       "        "
      ],
      "text/plain": [
       "<IPython.lib.display.IFrame at 0x7f9a477d7f40>"
      ]
     },
     "metadata": {},
     "output_type": "display_data"
    }
   ],
   "source": [
    "from dash.dependencies import Input, Output\n",
    "app = JupyterDash(__name__)\n",
    "\n",
    "app.layout = html.Div([\n",
    "    html.H6(\"Change the value in the text box to see callbacks in action!\"),\n",
    "    html.Div([\"Input: \",\n",
    "              dcc.Input(id='my-input', value='initial value', type='text')]),\n",
    "    html.Br(),\n",
    "    html.Div(id='my-output'),\n",
    "\n",
    "])\n",
    "\n",
    "\n",
    "@app.callback(\n",
    "    Output(component_id='my-output', component_property='children'),\n",
    "    Input(component_id='my-input', component_property='value')\n",
    ")\n",
    "def update_output_div(input_value):\n",
    "    return 'Output: {}'.format(input_value)\n",
    "\n",
    "\n",
    "if __name__ == '__main__':\n",
    "    app.run_server(mode=\"inline\")"
   ]
  },
  {
   "cell_type": "code",
   "execution_count": 30,
   "metadata": {},
   "outputs": [
    {
     "data": {
      "text/html": [
       "<div>\n",
       "<style scoped>\n",
       "    .dataframe tbody tr th:only-of-type {\n",
       "        vertical-align: middle;\n",
       "    }\n",
       "\n",
       "    .dataframe tbody tr th {\n",
       "        vertical-align: top;\n",
       "    }\n",
       "\n",
       "    .dataframe thead th {\n",
       "        text-align: right;\n",
       "    }\n",
       "</style>\n",
       "<table border=\"1\" class=\"dataframe\">\n",
       "  <thead>\n",
       "    <tr style=\"text-align: right;\">\n",
       "      <th></th>\n",
       "      <th>survived</th>\n",
       "      <th>pclass</th>\n",
       "      <th>sex</th>\n",
       "      <th>age</th>\n",
       "      <th>sibsp</th>\n",
       "      <th>parch</th>\n",
       "      <th>fare</th>\n",
       "      <th>embarked</th>\n",
       "      <th>class</th>\n",
       "      <th>who</th>\n",
       "      <th>adult_male</th>\n",
       "      <th>deck</th>\n",
       "      <th>embark_town</th>\n",
       "      <th>alive</th>\n",
       "      <th>alone</th>\n",
       "    </tr>\n",
       "  </thead>\n",
       "  <tbody>\n",
       "    <tr>\n",
       "      <th>0</th>\n",
       "      <td>0</td>\n",
       "      <td>3</td>\n",
       "      <td>male</td>\n",
       "      <td>22.0</td>\n",
       "      <td>1</td>\n",
       "      <td>0</td>\n",
       "      <td>7.2500</td>\n",
       "      <td>S</td>\n",
       "      <td>Third</td>\n",
       "      <td>man</td>\n",
       "      <td>True</td>\n",
       "      <td>NaN</td>\n",
       "      <td>Southampton</td>\n",
       "      <td>no</td>\n",
       "      <td>False</td>\n",
       "    </tr>\n",
       "    <tr>\n",
       "      <th>1</th>\n",
       "      <td>1</td>\n",
       "      <td>1</td>\n",
       "      <td>female</td>\n",
       "      <td>38.0</td>\n",
       "      <td>1</td>\n",
       "      <td>0</td>\n",
       "      <td>71.2833</td>\n",
       "      <td>C</td>\n",
       "      <td>First</td>\n",
       "      <td>woman</td>\n",
       "      <td>False</td>\n",
       "      <td>C</td>\n",
       "      <td>Cherbourg</td>\n",
       "      <td>yes</td>\n",
       "      <td>False</td>\n",
       "    </tr>\n",
       "    <tr>\n",
       "      <th>2</th>\n",
       "      <td>1</td>\n",
       "      <td>3</td>\n",
       "      <td>female</td>\n",
       "      <td>26.0</td>\n",
       "      <td>0</td>\n",
       "      <td>0</td>\n",
       "      <td>7.9250</td>\n",
       "      <td>S</td>\n",
       "      <td>Third</td>\n",
       "      <td>woman</td>\n",
       "      <td>False</td>\n",
       "      <td>NaN</td>\n",
       "      <td>Southampton</td>\n",
       "      <td>yes</td>\n",
       "      <td>True</td>\n",
       "    </tr>\n",
       "    <tr>\n",
       "      <th>3</th>\n",
       "      <td>1</td>\n",
       "      <td>1</td>\n",
       "      <td>female</td>\n",
       "      <td>35.0</td>\n",
       "      <td>1</td>\n",
       "      <td>0</td>\n",
       "      <td>53.1000</td>\n",
       "      <td>S</td>\n",
       "      <td>First</td>\n",
       "      <td>woman</td>\n",
       "      <td>False</td>\n",
       "      <td>C</td>\n",
       "      <td>Southampton</td>\n",
       "      <td>yes</td>\n",
       "      <td>False</td>\n",
       "    </tr>\n",
       "    <tr>\n",
       "      <th>4</th>\n",
       "      <td>0</td>\n",
       "      <td>3</td>\n",
       "      <td>male</td>\n",
       "      <td>35.0</td>\n",
       "      <td>0</td>\n",
       "      <td>0</td>\n",
       "      <td>8.0500</td>\n",
       "      <td>S</td>\n",
       "      <td>Third</td>\n",
       "      <td>man</td>\n",
       "      <td>True</td>\n",
       "      <td>NaN</td>\n",
       "      <td>Southampton</td>\n",
       "      <td>no</td>\n",
       "      <td>True</td>\n",
       "    </tr>\n",
       "  </tbody>\n",
       "</table>\n",
       "</div>"
      ],
      "text/plain": [
       "  survived  pclass     sex   age  sibsp  parch     fare embarked  class  \\\n",
       "0        0       3    male  22.0      1      0   7.2500        S  Third   \n",
       "1        1       1  female  38.0      1      0  71.2833        C  First   \n",
       "2        1       3  female  26.0      0      0   7.9250        S  Third   \n",
       "3        1       1  female  35.0      1      0  53.1000        S  First   \n",
       "4        0       3    male  35.0      0      0   8.0500        S  Third   \n",
       "\n",
       "     who  adult_male deck  embark_town alive  alone  \n",
       "0    man        True  NaN  Southampton    no  False  \n",
       "1  woman       False    C    Cherbourg   yes  False  \n",
       "2  woman       False  NaN  Southampton   yes   True  \n",
       "3  woman       False    C  Southampton   yes  False  \n",
       "4    man        True  NaN  Southampton    no   True  "
      ]
     },
     "execution_count": 30,
     "metadata": {},
     "output_type": "execute_result"
    }
   ],
   "source": [
    "import seaborn as sns \n",
    "df = sns.load_dataset(\"titanic\")\n",
    "df[\"survived\"] = df[\"survived\"].astype(\"str\")\n",
    "df.head()"
   ]
  },
  {
   "cell_type": "code",
   "execution_count": 31,
   "metadata": {},
   "outputs": [
    {
     "name": "stdout",
     "output_type": "stream",
     "text": [
      "Dash app running on http://127.0.0.1:8050/\n"
     ]
    }
   ],
   "source": [
    "app = JupyterDash(__name__)\n",
    "\n",
    "\n",
    "class_label = ['First', 'Second', 'Third', 'None']\n",
    "\n",
    "\n",
    "app.layout = html.Div([\n",
    "                       html.H1(\"Titanic Dash App\"),\n",
    "\n",
    "                       dcc.Graph(id=\"graph\"),\n",
    "\n",
    "                       html.Label([\n",
    "                                   \"Survived/Not Survived\",\n",
    "                                    dcc.Dropdown(\n",
    "                                        id='survive', \n",
    "                                        clearable=False,\n",
    "                                        value= -1, \n",
    "                                        options=[{'label': \"Survived\", 'value': \"1\"},\n",
    "                                                 {'label': \"Not Survived\", 'value': \"0\"},\n",
    "                                                 {'label': \"Both\", 'value': -1}]\n",
    "                                        )\n",
    "                       ]),\n",
    "                       \n",
    "                       html.Br([]),\n",
    "\n",
    "                       html.Label([\n",
    "                                   \"Class\",\n",
    "                                   dcc.RadioItems(\n",
    "                                       id=\"class\",\n",
    "                                       options=[{'label':x, \"value\":x} for x in class_label],\n",
    "                                       value='None',\n",
    "                                       labelStyle={'display': 'inline-block'}\n",
    "                                    )  \n",
    "                                                        ])\n",
    "\n",
    "                       \n",
    "])\n",
    "\n",
    "\n",
    "@app.callback(\n",
    "    Output('graph', 'figure'),\n",
    "    [Input(\"survive\", \"value\"),\n",
    "     Input(\"class\", \"value\")]\n",
    ")\n",
    "\n",
    "\n",
    "def update_figure(val_survived, val_class):\n",
    "\n",
    "    if  (val_class != \"None\") & (val_survived == -1) :\n",
    "\n",
    "        test = df[df[\"class\"] == val_class]\n",
    "        return px.scatter(\n",
    "        test, \n",
    "        x=\"age\", \n",
    "        y=\"fare\",\n",
    "        render_mode=\"webgl\",\n",
    "        color=\"survived\",\n",
    "        title=\"Titanic\"\n",
    "        )\n",
    "\n",
    "    elif (val_class == \"None\") & (val_survived != -1):\n",
    "\n",
    "        test = df[df[\"survived\"] == val_survived]\n",
    "        return px.scatter(\n",
    "        test, \n",
    "        x=\"age\", \n",
    "        y=\"fare\",\n",
    "        render_mode=\"webgl\",\n",
    "        facet_row=\"class\",\n",
    "        title=\"Titanic\"\n",
    "        )\n",
    "    elif (val_class == \"None\") & (val_survived == -1):\n",
    "\n",
    "        test = df\n",
    "        return px.scatter(\n",
    "        test, \n",
    "        x=\"age\", \n",
    "        y=\"fare\",\n",
    "        render_mode=\"webgl\",\n",
    "        color=\"survived\",\n",
    "        facet_row=\"class\",\n",
    "        hover_data=[\"survived\"],\n",
    "        title=\"Titanic: 1='Survived', 0='Not Survived'\",\n",
    "        )\n",
    "\n",
    "    else:\n",
    "        test = df[(df[\"class\"] == val_class) & (df[\"survived\"] == val_survived)] # filter for 0 or 1\n",
    "        return px.scatter(\n",
    "            test, \n",
    "            x=\"age\", \n",
    "            y=\"fare\",\n",
    "            render_mode=\"webgl\",\n",
    "            title=\"Titanic\",\n",
    "            )\n",
    "\n",
    "\n",
    "if __name__ == '__main__':\n",
    "    app.run_server(debug=True)"
   ]
  },
  {
   "cell_type": "code",
   "execution_count": null,
   "metadata": {},
   "outputs": [],
   "source": []
  }
 ],
 "metadata": {
  "kernelspec": {
   "display_name": "Python 3 (ipykernel)",
   "language": "python",
   "name": "python3"
  },
  "language_info": {
   "codemirror_mode": {
    "name": "ipython",
    "version": 3
   },
   "file_extension": ".py",
   "mimetype": "text/x-python",
   "name": "python",
   "nbconvert_exporter": "python",
   "pygments_lexer": "ipython3",
   "version": "3.9.12"
  }
 },
 "nbformat": 4,
 "nbformat_minor": 1
}
